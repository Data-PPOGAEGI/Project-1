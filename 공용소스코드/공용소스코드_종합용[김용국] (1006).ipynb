{
  "nbformat": 4,
  "nbformat_minor": 0,
  "metadata": {
    "colab": {
      "name": "공용소스코드 종합용[김용국].ipynb",
      "provenance": [],
      "collapsed_sections": []
    },
    "kernelspec": {
      "name": "python3",
      "display_name": "Python 3"
    },
    "language_info": {
      "name": "python"
    }
  },
  "cells": [
    {
      "cell_type": "code",
      "metadata": {
        "id": "zGO65Vc0_NES"
      },
      "source": [
        "!apt-get install -y fonts-nanum > /dev/null\n",
        "!fc-cache -fv > /dev/null\n",
        "!rm -rf ~/.cache/matplotlib > /dev/null\n",
        "# 런타임 다시시작"
      ],
      "execution_count": 17,
      "outputs": []
    },
    {
      "cell_type": "code",
      "metadata": {
        "id": "tD7j-wm6_OUT"
      },
      "source": [
        "import numpy as np\n",
        "import pandas as pd\n",
        "import matplotlib as mpl\n",
        "import matplotlib.pyplot as plt\n",
        "mpl.rcParams['axes.unicode_minus'] = False\n",
        "plt.rc('font', family='NanumBarunGothic')"
      ],
      "execution_count": 1,
      "outputs": []
    },
    {
      "cell_type": "code",
      "metadata": {
        "colab": {
          "base_uri": "https://localhost:8080/",
          "height": 202
        },
        "id": "X3ZwP5X1_Mdn",
        "outputId": "ca1404ef-5983-40a4-daa9-0621f663324d"
      },
      "source": [
        "df = pd.read_csv(\"/content/모델제작용데이터셋(헬스케어).csv\", encoding = \"utf-8\")\n",
        "df.tail()"
      ],
      "execution_count": 29,
      "outputs": [
        {
          "output_type": "execute_result",
          "data": {
            "text/html": [
              "<div>\n",
              "<style scoped>\n",
              "    .dataframe tbody tr th:only-of-type {\n",
              "        vertical-align: middle;\n",
              "    }\n",
              "\n",
              "    .dataframe tbody tr th {\n",
              "        vertical-align: top;\n",
              "    }\n",
              "\n",
              "    .dataframe thead th {\n",
              "        text-align: right;\n",
              "    }\n",
              "</style>\n",
              "<table border=\"1\" class=\"dataframe\">\n",
              "  <thead>\n",
              "    <tr style=\"text-align: right;\">\n",
              "      <th></th>\n",
              "      <th>성별코드</th>\n",
              "      <th>연령대코드</th>\n",
              "      <th>시도코드</th>\n",
              "      <th>서식코드</th>\n",
              "      <th>진료과목코드</th>\n",
              "      <th>주상병코드</th>\n",
              "      <th>부상병코드</th>\n",
              "      <th>심결가산율</th>\n",
              "    </tr>\n",
              "  </thead>\n",
              "  <tbody>\n",
              "    <tr>\n",
              "      <th>13178340</th>\n",
              "      <td>2</td>\n",
              "      <td>1</td>\n",
              "      <td>47</td>\n",
              "      <td>0</td>\n",
              "      <td>21</td>\n",
              "      <td>15</td>\n",
              "      <td>15</td>\n",
              "      <td>4</td>\n",
              "    </tr>\n",
              "    <tr>\n",
              "      <th>13178341</th>\n",
              "      <td>2</td>\n",
              "      <td>1</td>\n",
              "      <td>47</td>\n",
              "      <td>0</td>\n",
              "      <td>11</td>\n",
              "      <td>9</td>\n",
              "      <td>9</td>\n",
              "      <td>2</td>\n",
              "    </tr>\n",
              "    <tr>\n",
              "      <th>13178342</th>\n",
              "      <td>2</td>\n",
              "      <td>1</td>\n",
              "      <td>47</td>\n",
              "      <td>0</td>\n",
              "      <td>12</td>\n",
              "      <td>7</td>\n",
              "      <td>15</td>\n",
              "      <td>3</td>\n",
              "    </tr>\n",
              "    <tr>\n",
              "      <th>13178343</th>\n",
              "      <td>2</td>\n",
              "      <td>1</td>\n",
              "      <td>47</td>\n",
              "      <td>1</td>\n",
              "      <td>11</td>\n",
              "      <td>15</td>\n",
              "      <td>15</td>\n",
              "      <td>3</td>\n",
              "    </tr>\n",
              "    <tr>\n",
              "      <th>13178344</th>\n",
              "      <td>2</td>\n",
              "      <td>1</td>\n",
              "      <td>47</td>\n",
              "      <td>0</td>\n",
              "      <td>13</td>\n",
              "      <td>9</td>\n",
              "      <td>9</td>\n",
              "      <td>1</td>\n",
              "    </tr>\n",
              "  </tbody>\n",
              "</table>\n",
              "</div>"
            ],
            "text/plain": [
              "          성별코드  연령대코드  시도코드  서식코드  진료과목코드  주상병코드  부상병코드  심결가산율\n",
              "13178340     2      1    47     0      21     15     15      4\n",
              "13178341     2      1    47     0      11      9      9      2\n",
              "13178342     2      1    47     0      12      7     15      3\n",
              "13178343     2      1    47     1      11     15     15      3\n",
              "13178344     2      1    47     0      13      9      9      1"
            ]
          },
          "metadata": {},
          "execution_count": 29
        }
      ]
    },
    {
      "cell_type": "code",
      "metadata": {
        "id": "Ga9fj0Lz_fFD",
        "colab": {
          "base_uri": "https://localhost:8080/",
          "height": 202
        },
        "outputId": "17b5f556-6192-41ed-ad2a-c04b930f45ea"
      },
      "source": [
        "df['연령대'] = df['연령대코드'].apply(lambda x: ((x-1)//2)*10)\n",
        "df.tail()"
      ],
      "execution_count": 30,
      "outputs": [
        {
          "output_type": "execute_result",
          "data": {
            "text/html": [
              "<div>\n",
              "<style scoped>\n",
              "    .dataframe tbody tr th:only-of-type {\n",
              "        vertical-align: middle;\n",
              "    }\n",
              "\n",
              "    .dataframe tbody tr th {\n",
              "        vertical-align: top;\n",
              "    }\n",
              "\n",
              "    .dataframe thead th {\n",
              "        text-align: right;\n",
              "    }\n",
              "</style>\n",
              "<table border=\"1\" class=\"dataframe\">\n",
              "  <thead>\n",
              "    <tr style=\"text-align: right;\">\n",
              "      <th></th>\n",
              "      <th>성별코드</th>\n",
              "      <th>연령대코드</th>\n",
              "      <th>시도코드</th>\n",
              "      <th>서식코드</th>\n",
              "      <th>진료과목코드</th>\n",
              "      <th>주상병코드</th>\n",
              "      <th>부상병코드</th>\n",
              "      <th>심결가산율</th>\n",
              "      <th>연령대</th>\n",
              "    </tr>\n",
              "  </thead>\n",
              "  <tbody>\n",
              "    <tr>\n",
              "      <th>13178340</th>\n",
              "      <td>2</td>\n",
              "      <td>1</td>\n",
              "      <td>47</td>\n",
              "      <td>0</td>\n",
              "      <td>21</td>\n",
              "      <td>15</td>\n",
              "      <td>15</td>\n",
              "      <td>4</td>\n",
              "      <td>0</td>\n",
              "    </tr>\n",
              "    <tr>\n",
              "      <th>13178341</th>\n",
              "      <td>2</td>\n",
              "      <td>1</td>\n",
              "      <td>47</td>\n",
              "      <td>0</td>\n",
              "      <td>11</td>\n",
              "      <td>9</td>\n",
              "      <td>9</td>\n",
              "      <td>2</td>\n",
              "      <td>0</td>\n",
              "    </tr>\n",
              "    <tr>\n",
              "      <th>13178342</th>\n",
              "      <td>2</td>\n",
              "      <td>1</td>\n",
              "      <td>47</td>\n",
              "      <td>0</td>\n",
              "      <td>12</td>\n",
              "      <td>7</td>\n",
              "      <td>15</td>\n",
              "      <td>3</td>\n",
              "      <td>0</td>\n",
              "    </tr>\n",
              "    <tr>\n",
              "      <th>13178343</th>\n",
              "      <td>2</td>\n",
              "      <td>1</td>\n",
              "      <td>47</td>\n",
              "      <td>1</td>\n",
              "      <td>11</td>\n",
              "      <td>15</td>\n",
              "      <td>15</td>\n",
              "      <td>3</td>\n",
              "      <td>0</td>\n",
              "    </tr>\n",
              "    <tr>\n",
              "      <th>13178344</th>\n",
              "      <td>2</td>\n",
              "      <td>1</td>\n",
              "      <td>47</td>\n",
              "      <td>0</td>\n",
              "      <td>13</td>\n",
              "      <td>9</td>\n",
              "      <td>9</td>\n",
              "      <td>1</td>\n",
              "      <td>0</td>\n",
              "    </tr>\n",
              "  </tbody>\n",
              "</table>\n",
              "</div>"
            ],
            "text/plain": [
              "          성별코드  연령대코드  시도코드  서식코드  진료과목코드  주상병코드  부상병코드  심결가산율  연령대\n",
              "13178340     2      1    47     0      21     15     15      4    0\n",
              "13178341     2      1    47     0      11      9      9      2    0\n",
              "13178342     2      1    47     0      12      7     15      3    0\n",
              "13178343     2      1    47     1      11     15     15      3    0\n",
              "13178344     2      1    47     0      13      9      9      1    0"
            ]
          },
          "metadata": {},
          "execution_count": 30
        }
      ]
    },
    {
      "cell_type": "markdown",
      "metadata": {
        "id": "_QUtJO0jDWGn"
      },
      "source": [
        "## 입원비율"
      ]
    },
    {
      "cell_type": "code",
      "metadata": {
        "id": "HwxED79Q_lfc",
        "colab": {
          "base_uri": "https://localhost:8080/"
        },
        "outputId": "8cc7a90c-445a-4643-a3ac-ff87ad13c286"
      },
      "source": [
        "df['서식코드'].mean()"
      ],
      "execution_count": 31,
      "outputs": [
        {
          "output_type": "execute_result",
          "data": {
            "text/plain": [
              "0.021547622254539548"
            ]
          },
          "metadata": {},
          "execution_count": 31
        }
      ]
    },
    {
      "cell_type": "code",
      "metadata": {
        "id": "O78wh0Ym_jLf",
        "colab": {
          "base_uri": "https://localhost:8080/",
          "height": 262
        },
        "outputId": "d60e1145-7576-4be0-ff77-98281213cecd"
      },
      "source": [
        "df_temp = df['서식코드'].value_counts()\n",
        "df_temp.plot.pie(autopct='%.2f%%')\n",
        "plt.title('입원 여부')\n",
        "plt.axis('equal')\n",
        "plt.show()"
      ],
      "execution_count": 32,
      "outputs": [
        {
          "output_type": "display_data",
          "data": {
            "image/png": "[encoded data removed]",
            "text/plain": [
              "<Figure size 432x288 with 1 Axes>"
            ]
          },
          "metadata": {}
        }
      ]
    },
    {
      "cell_type": "markdown",
      "metadata": {
        "id": "SpIeQPXFDXwo"
      },
      "source": [
        "## 연령별 입원비율"
      ]
    },
    {
      "cell_type": "code",
      "metadata": {
        "colab": {
          "base_uri": "https://localhost:8080/",
          "height": 356
        },
        "id": "x46-Rk22LD_U",
        "outputId": "ef4905e4-fa1b-4163-e008-d15d8c6ccbbb"
      },
      "source": [
        "df_age = pd.crosstab(df.연령대, df.서식코드)\n",
        "df_age"
      ],
      "execution_count": 33,
      "outputs": [
        {
          "output_type": "execute_result",
          "data": {
            "text/html": [
              "<div>\n",
              "<style scoped>\n",
              "    .dataframe tbody tr th:only-of-type {\n",
              "        vertical-align: middle;\n",
              "    }\n",
              "\n",
              "    .dataframe tbody tr th {\n",
              "        vertical-align: top;\n",
              "    }\n",
              "\n",
              "    .dataframe thead th {\n",
              "        text-align: right;\n",
              "    }\n",
              "</style>\n",
              "<table border=\"1\" class=\"dataframe\">\n",
              "  <thead>\n",
              "    <tr style=\"text-align: right;\">\n",
              "      <th>서식코드</th>\n",
              "      <th>0</th>\n",
              "      <th>1</th>\n",
              "    </tr>\n",
              "    <tr>\n",
              "      <th>연령대</th>\n",
              "      <th></th>\n",
              "      <th></th>\n",
              "    </tr>\n",
              "  </thead>\n",
              "  <tbody>\n",
              "    <tr>\n",
              "      <th>0</th>\n",
              "      <td>1624432</td>\n",
              "      <td>25598</td>\n",
              "    </tr>\n",
              "    <tr>\n",
              "      <th>10</th>\n",
              "      <td>697410</td>\n",
              "      <td>7711</td>\n",
              "    </tr>\n",
              "    <tr>\n",
              "      <th>20</th>\n",
              "      <td>800033</td>\n",
              "      <td>12843</td>\n",
              "    </tr>\n",
              "    <tr>\n",
              "      <th>30</th>\n",
              "      <td>1123800</td>\n",
              "      <td>20921</td>\n",
              "    </tr>\n",
              "    <tr>\n",
              "      <th>40</th>\n",
              "      <td>1455406</td>\n",
              "      <td>24466</td>\n",
              "    </tr>\n",
              "    <tr>\n",
              "      <th>50</th>\n",
              "      <td>2063228</td>\n",
              "      <td>41426</td>\n",
              "    </tr>\n",
              "    <tr>\n",
              "      <th>60</th>\n",
              "      <td>2305206</td>\n",
              "      <td>47685</td>\n",
              "    </tr>\n",
              "    <tr>\n",
              "      <th>70</th>\n",
              "      <td>1909023</td>\n",
              "      <td>46708</td>\n",
              "    </tr>\n",
              "    <tr>\n",
              "      <th>80</th>\n",
              "      <td>915845</td>\n",
              "      <td>56604</td>\n",
              "    </tr>\n",
              "  </tbody>\n",
              "</table>\n",
              "</div>"
            ],
            "text/plain": [
              "서식코드        0      1\n",
              "연령대                 \n",
              "0     1624432  25598\n",
              "10     697410   7711\n",
              "20     800033  12843\n",
              "30    1123800  20921\n",
              "40    1455406  24466\n",
              "50    2063228  41426\n",
              "60    2305206  47685\n",
              "70    1909023  46708\n",
              "80     915845  56604"
            ]
          },
          "metadata": {},
          "execution_count": 33
        }
      ]
    },
    {
      "cell_type": "code",
      "metadata": {
        "colab": {
          "base_uri": "https://localhost:8080/"
        },
        "id": "YoSaSMchNekB",
        "outputId": "f5ba6226-dcf5-44e4-8419-04b2e0833af0"
      },
      "source": [
        "df_age.loc[:,0].tolist()"
      ],
      "execution_count": 51,
      "outputs": [
        {
          "output_type": "execute_result",
          "data": {
            "text/plain": [
              "[1624432, 697410, 800033, 1123800, 1455406, 2063228, 2305206, 1909023, 915845]"
            ]
          },
          "metadata": {},
          "execution_count": 51
        }
      ]
    },
    {
      "cell_type": "code",
      "metadata": {
        "colab": {
          "base_uri": "https://localhost:8080/"
        },
        "id": "iW-gpK3KMc7F",
        "outputId": "02d4124d-7cb3-47ba-ef03-65e5aa3ebf9c"
      },
      "source": [
        "df_age.loc[:,1]"
      ],
      "execution_count": 46,
      "outputs": [
        {
          "output_type": "execute_result",
          "data": {
            "text/plain": [
              "연령대\n",
              "0     25598\n",
              "10     7711\n",
              "20    12843\n",
              "30    20921\n",
              "40    24466\n",
              "50    41426\n",
              "60    47685\n",
              "70    46708\n",
              "80    56604\n",
              "Name: 1, dtype: int64"
            ]
          },
          "metadata": {},
          "execution_count": 46
        }
      ]
    },
    {
      "cell_type": "code",
      "metadata": {
        "colab": {
          "base_uri": "https://localhost:8080/",
          "height": 531
        },
        "id": "zuVEU_pgIwMk",
        "outputId": "7a7c98ef-4340-407a-c9f5-e5f38496df13"
      },
      "source": [
        "age = ['0~9','10대','20대','30대','40대','50대','60대','70대','80대']\n",
        "data={\n",
        "    '비입원' : df_age.loc[:,0].tolist(),\n",
        "    '입원' : df_age.loc[:,1].tolist()\n",
        "}\n",
        "df_temp=pd.DataFrame(data,index=age)\n",
        "\n",
        "df_temp.plot(kind=\"bar\",stacked=True,figsize=(10,8))\n",
        "plt.legend(loc=\"lower left\",bbox_to_anchor=(0.8,1.0))\n",
        "plt.show()"
      ],
      "execution_count": 53,
      "outputs": [
        {
          "output_type": "display_data",
          "data": {
            "image/png": "[encoded data removed]",
            "text/plain": [
              "<Figure size 720x576 with 1 Axes>"
            ]
          },
          "metadata": {
            "needs_background": "light"
          }
        }
      ]
    },
    {
      "cell_type": "code",
      "metadata": {
        "colab": {
          "base_uri": "https://localhost:8080/",
          "height": 356
        },
        "id": "ZbdYji8rPu2m",
        "outputId": "11d6e2ad-333d-4351-eb89-d3b8d40e5a58"
      },
      "source": [
        "df_age['합'] = df_age.loc[:,0] + df_age.loc[:,1]\n",
        "df_age"
      ],
      "execution_count": 55,
      "outputs": [
        {
          "output_type": "execute_result",
          "data": {
            "text/html": [
              "<div>\n",
              "<style scoped>\n",
              "    .dataframe tbody tr th:only-of-type {\n",
              "        vertical-align: middle;\n",
              "    }\n",
              "\n",
              "    .dataframe tbody tr th {\n",
              "        vertical-align: top;\n",
              "    }\n",
              "\n",
              "    .dataframe thead th {\n",
              "        text-align: right;\n",
              "    }\n",
              "</style>\n",
              "<table border=\"1\" class=\"dataframe\">\n",
              "  <thead>\n",
              "    <tr style=\"text-align: right;\">\n",
              "      <th>서식코드</th>\n",
              "      <th>0</th>\n",
              "      <th>1</th>\n",
              "      <th>합</th>\n",
              "    </tr>\n",
              "    <tr>\n",
              "      <th>연령대</th>\n",
              "      <th></th>\n",
              "      <th></th>\n",
              "      <th></th>\n",
              "    </tr>\n",
              "  </thead>\n",
              "  <tbody>\n",
              "    <tr>\n",
              "      <th>0</th>\n",
              "      <td>1624432</td>\n",
              "      <td>25598</td>\n",
              "      <td>1650030</td>\n",
              "    </tr>\n",
              "    <tr>\n",
              "      <th>10</th>\n",
              "      <td>697410</td>\n",
              "      <td>7711</td>\n",
              "      <td>705121</td>\n",
              "    </tr>\n",
              "    <tr>\n",
              "      <th>20</th>\n",
              "      <td>800033</td>\n",
              "      <td>12843</td>\n",
              "      <td>812876</td>\n",
              "    </tr>\n",
              "    <tr>\n",
              "      <th>30</th>\n",
              "      <td>1123800</td>\n",
              "      <td>20921</td>\n",
              "      <td>1144721</td>\n",
              "    </tr>\n",
              "    <tr>\n",
              "      <th>40</th>\n",
              "      <td>1455406</td>\n",
              "      <td>24466</td>\n",
              "      <td>1479872</td>\n",
              "    </tr>\n",
              "    <tr>\n",
              "      <th>50</th>\n",
              "      <td>2063228</td>\n",
              "      <td>41426</td>\n",
              "      <td>2104654</td>\n",
              "    </tr>\n",
              "    <tr>\n",
              "      <th>60</th>\n",
              "      <td>2305206</td>\n",
              "      <td>47685</td>\n",
              "      <td>2352891</td>\n",
              "    </tr>\n",
              "    <tr>\n",
              "      <th>70</th>\n",
              "      <td>1909023</td>\n",
              "      <td>46708</td>\n",
              "      <td>1955731</td>\n",
              "    </tr>\n",
              "    <tr>\n",
              "      <th>80</th>\n",
              "      <td>915845</td>\n",
              "      <td>56604</td>\n",
              "      <td>972449</td>\n",
              "    </tr>\n",
              "  </tbody>\n",
              "</table>\n",
              "</div>"
            ],
            "text/plain": [
              "서식코드        0      1        합\n",
              "연령대                          \n",
              "0     1624432  25598  1650030\n",
              "10     697410   7711   705121\n",
              "20     800033  12843   812876\n",
              "30    1123800  20921  1144721\n",
              "40    1455406  24466  1479872\n",
              "50    2063228  41426  2104654\n",
              "60    2305206  47685  2352891\n",
              "70    1909023  46708  1955731\n",
              "80     915845  56604   972449"
            ]
          },
          "metadata": {},
          "execution_count": 55
        }
      ]
    },
    {
      "cell_type": "code",
      "metadata": {
        "colab": {
          "base_uri": "https://localhost:8080/",
          "height": 356
        },
        "id": "DK6RJ4zgP9uS",
        "outputId": "d1934f80-5295-40bf-b0a7-668950667a55"
      },
      "source": [
        "df_age['입원비율'] = df_age.loc[:,1] / df_age.loc[:,'합']\n",
        "df_age['비입원비율'] = df_age.loc[:,0] / df_age.loc[:,'합']\n",
        "df_age"
      ],
      "execution_count": 59,
      "outputs": [
        {
          "output_type": "execute_result",
          "data": {
            "text/html": [
              "<div>\n",
              "<style scoped>\n",
              "    .dataframe tbody tr th:only-of-type {\n",
              "        vertical-align: middle;\n",
              "    }\n",
              "\n",
              "    .dataframe tbody tr th {\n",
              "        vertical-align: top;\n",
              "    }\n",
              "\n",
              "    .dataframe thead th {\n",
              "        text-align: right;\n",
              "    }\n",
              "</style>\n",
              "<table border=\"1\" class=\"dataframe\">\n",
              "  <thead>\n",
              "    <tr style=\"text-align: right;\">\n",
              "      <th>서식코드</th>\n",
              "      <th>0</th>\n",
              "      <th>1</th>\n",
              "      <th>합</th>\n",
              "      <th>입원비율</th>\n",
              "      <th>비입원비율</th>\n",
              "    </tr>\n",
              "    <tr>\n",
              "      <th>연령대</th>\n",
              "      <th></th>\n",
              "      <th></th>\n",
              "      <th></th>\n",
              "      <th></th>\n",
              "      <th></th>\n",
              "    </tr>\n",
              "  </thead>\n",
              "  <tbody>\n",
              "    <tr>\n",
              "      <th>0</th>\n",
              "      <td>1624432</td>\n",
              "      <td>25598</td>\n",
              "      <td>1650030</td>\n",
              "      <td>0.015514</td>\n",
              "      <td>0.984486</td>\n",
              "    </tr>\n",
              "    <tr>\n",
              "      <th>10</th>\n",
              "      <td>697410</td>\n",
              "      <td>7711</td>\n",
              "      <td>705121</td>\n",
              "      <td>0.010936</td>\n",
              "      <td>0.989064</td>\n",
              "    </tr>\n",
              "    <tr>\n",
              "      <th>20</th>\n",
              "      <td>800033</td>\n",
              "      <td>12843</td>\n",
              "      <td>812876</td>\n",
              "      <td>0.015799</td>\n",
              "      <td>0.984201</td>\n",
              "    </tr>\n",
              "    <tr>\n",
              "      <th>30</th>\n",
              "      <td>1123800</td>\n",
              "      <td>20921</td>\n",
              "      <td>1144721</td>\n",
              "      <td>0.018276</td>\n",
              "      <td>0.981724</td>\n",
              "    </tr>\n",
              "    <tr>\n",
              "      <th>40</th>\n",
              "      <td>1455406</td>\n",
              "      <td>24466</td>\n",
              "      <td>1479872</td>\n",
              "      <td>0.016533</td>\n",
              "      <td>0.983467</td>\n",
              "    </tr>\n",
              "    <tr>\n",
              "      <th>50</th>\n",
              "      <td>2063228</td>\n",
              "      <td>41426</td>\n",
              "      <td>2104654</td>\n",
              "      <td>0.019683</td>\n",
              "      <td>0.980317</td>\n",
              "    </tr>\n",
              "    <tr>\n",
              "      <th>60</th>\n",
              "      <td>2305206</td>\n",
              "      <td>47685</td>\n",
              "      <td>2352891</td>\n",
              "      <td>0.020267</td>\n",
              "      <td>0.979733</td>\n",
              "    </tr>\n",
              "    <tr>\n",
              "      <th>70</th>\n",
              "      <td>1909023</td>\n",
              "      <td>46708</td>\n",
              "      <td>1955731</td>\n",
              "      <td>0.023883</td>\n",
              "      <td>0.976117</td>\n",
              "    </tr>\n",
              "    <tr>\n",
              "      <th>80</th>\n",
              "      <td>915845</td>\n",
              "      <td>56604</td>\n",
              "      <td>972449</td>\n",
              "      <td>0.058208</td>\n",
              "      <td>0.941792</td>\n",
              "    </tr>\n",
              "  </tbody>\n",
              "</table>\n",
              "</div>"
            ],
            "text/plain": [
              "서식코드        0      1        합      입원비율     비입원비율\n",
              "연령대                                              \n",
              "0     1624432  25598  1650030  0.015514  0.984486\n",
              "10     697410   7711   705121  0.010936  0.989064\n",
              "20     800033  12843   812876  0.015799  0.984201\n",
              "30    1123800  20921  1144721  0.018276  0.981724\n",
              "40    1455406  24466  1479872  0.016533  0.983467\n",
              "50    2063228  41426  2104654  0.019683  0.980317\n",
              "60    2305206  47685  2352891  0.020267  0.979733\n",
              "70    1909023  46708  1955731  0.023883  0.976117\n",
              "80     915845  56604   972449  0.058208  0.941792"
            ]
          },
          "metadata": {},
          "execution_count": 59
        }
      ]
    },
    {
      "cell_type": "code",
      "metadata": {
        "colab": {
          "base_uri": "https://localhost:8080/",
          "height": 531
        },
        "id": "E9QcvZUHIn4t",
        "outputId": "631c97a2-d57a-481b-af61-3da2963b540e"
      },
      "source": [
        "age = ['0~9','10대','20대','30대','40대','50대','60대','70대','80대']\n",
        "data={\n",
        "    '비입원' : df_age.loc[:,'비입원비율'].tolist(),\n",
        "    '입원' : df_age.loc[:,'입원비율'].tolist()\n",
        "}\n",
        "df_temp=pd.DataFrame(data,index=age)\n",
        "\n",
        "df_temp.plot(kind=\"bar\",stacked=True,figsize=(10,8))\n",
        "plt.legend(loc=\"lower left\",bbox_to_anchor=(0.8,1.0))\n",
        "plt.show()"
      ],
      "execution_count": 60,
      "outputs": [
        {
          "output_type": "display_data",
          "data": {
            "image/png": "[encoded data removed]",
            "text/plain": [
              "<Figure size 720x576 with 1 Axes>"
            ]
          },
          "metadata": {
            "needs_background": "light"
          }
        }
      ]
    },
    {
      "cell_type": "code",
      "metadata": {
        "colab": {
          "base_uri": "https://localhost:8080/",
          "height": 248
        },
        "id": "270YzFVNIqBT",
        "outputId": "490781f6-d1f6-4fa4-c656-cf519d53e2bd"
      },
      "source": [
        "# 연령별 입원환자 비율\n",
        "ratio = df_age.loc[:,1].tolist()\n",
        "labels = ['0~9','10대','20대','30대','40대','50대','60대','70대','80대']\n",
        "\n",
        "plt.pie(ratio, labels=labels, autopct='%.1f%%')\n",
        "plt.show()"
      ],
      "execution_count": 54,
      "outputs": [
        {
          "output_type": "display_data",
          "data": {
            "image/png": "[encoded data removed]",
            "text/plain": [
              "<Figure size 432x288 with 1 Axes>"
            ]
          },
          "metadata": {}
        }
      ]
    }
  ]
}