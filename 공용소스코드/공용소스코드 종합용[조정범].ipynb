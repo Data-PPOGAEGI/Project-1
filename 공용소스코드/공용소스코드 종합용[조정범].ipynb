{
 "cells": [
  {
   "cell_type": "code",
   "execution_count": 1,
   "source": [
    "# 공용 소스코드 종합을 위한 개별 작성파일입니다.\r\n",
    "# 해당파일에 공유할 코드를 작성해주시고, 수정시에는 꼭 해당양식을 맞춰서 해주세요.\r\n",
    "# 작성코드에 세부적으로 주석을 달아주시면 감사드리겠습니다.\r\n",
    "# 수정시에는 수정한 코드부분에 수정일시 및 수정내용을 작성해주세요.\r\n",
    "# 공용 소스코드에 반영 후에는 반영완료로 제가 따로 수정해서 반영해드리겠습니다.\r\n",
    "print('만나서 반갑습니다. 함께 힘을 모아 프로젝트 마무리까지 같이 잘해봅시다!') # 2021.09.29 16:35부 (수정) / 수정내용 : print문 추가"
   ],
   "outputs": [
    {
     "output_type": "stream",
     "name": "stdout",
     "text": [
      "만나서 반갑습니다. 함께 힘을 모아 프로젝트 마무리까지 같이 잘해봅시다!\n"
     ]
    }
   ],
   "metadata": {}
  },
  {
   "cell_type": "code",
   "execution_count": null,
   "source": [
    "# 데이터 전처리 및 시각화 코드 부문"
   ],
   "outputs": [],
   "metadata": {}
  },
  {
   "cell_type": "code",
   "execution_count": null,
   "source": [
    "# 에측 모델링 부문"
   ],
   "outputs": [],
   "metadata": {}
  }
 ],
 "metadata": {
  "orig_nbformat": 4,
  "language_info": {
   "name": "python",
   "version": "3.8.10",
   "mimetype": "text/x-python",
   "codemirror_mode": {
    "name": "ipython",
    "version": 3
   },
   "pygments_lexer": "ipython3",
   "nbconvert_exporter": "python",
   "file_extension": ".py"
  },
  "kernelspec": {
   "name": "python3",
   "display_name": "Python 3.8.10 64-bit ('base': conda)"
  },
  "interpreter": {
   "hash": "fe3bab233825460445dbfeea6dcd52ef5815a3fa13c858fea07ac830aa383284"
  }
 },
 "nbformat": 4,
 "nbformat_minor": 2
}