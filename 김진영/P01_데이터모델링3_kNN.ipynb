{
  "nbformat": 4,
  "nbformat_minor": 2,
  "metadata": {
    "colab": {
      "name": "P01_데이터모델링3_kNN.ipynb",
      "provenance": [],
      "collapsed_sections": []
    },
    "kernelspec": {
      "name": "python3",
      "display_name": "Python 3.8.10 64-bit ('base': conda)"
    },
    "language_info": {
      "name": "python",
      "version": "3.8.10",
      "mimetype": "text/x-python",
      "codemirror_mode": {
        "name": "ipython",
        "version": 3
      },
      "pygments_lexer": "ipython3",
      "nbconvert_exporter": "python",
      "file_extension": ".py"
    },
    "interpreter": {
      "hash": "c1a05ed345091bee797b668f6f648f413480db32111f45bdb6bea126ffa783e7"
    }
  },
  "cells": [
    {
      "cell_type": "code",
      "execution_count": 1,
      "source": [
        "import numpy as np\r\n",
        "import pandas as pd \r\n",
        "import warnings\r\n",
        "warnings.filterwarnings('ignore')\r\n",
        "\r\n",
        "import plotly.express as px\r\n",
        "import plotly.graph_objs as go \r\n",
        "import matplotlib.pyplot as plt\r\n",
        "import seaborn as sns\r\n",
        "%matplotlib inline"
      ],
      "outputs": [],
      "metadata": {
        "id": "sd3GkGBJ5rt8"
      }
    },
    {
      "cell_type": "code",
      "execution_count": 2,
      "source": [
        "import numpy as np\r\n",
        "%matplotlib inline\r\n",
        "sns.set_style(\"darkgrid\")"
      ],
      "outputs": [],
      "metadata": {
        "id": "8vQHfIoS5zcw"
      }
    },
    {
      "cell_type": "code",
      "execution_count": 3,
      "source": [
        "# 파이썬 시각화 패키지 불러오기\r\n",
        "import matplotlib.pyplot as plt\r\n",
        "%matplotlib inline\r\n",
        "\r\n",
        "\r\n",
        "# 사용자 운영체제 확인\r\n",
        "import platform\r\n",
        "platform.system()"
      ],
      "outputs": [
        {
          "output_type": "execute_result",
          "data": {
            "text/plain": [
              "'Windows'"
            ]
          },
          "metadata": {},
          "execution_count": 3
        }
      ],
      "metadata": {
        "colab": {
          "base_uri": "https://localhost:8080/",
          "height": 38
        },
        "id": "Nki_qUGQ501r",
        "outputId": "49e232cb-c013-4cbf-e4a5-f9b756eabdb0"
      }
    },
    {
      "cell_type": "code",
      "execution_count": 4,
      "source": [
        "# 운영체제별 한글 폰트 설정\r\n",
        "if platform.system() == 'Darwin': # Mac 환경 폰트 설정\r\n",
        "    plt.rc('font', family='AppleGothic')\r\n",
        "elif platform.system() == 'Windows': # Windows 환경 폰트 설정\r\n",
        "    plt.rc('font', family='Malgun Gothic')\r\n",
        "\r\n",
        "plt.rc('axes', unicode_minus=False) # 마이너스 폰트 설정\r\n",
        "\r\n",
        "\r\n",
        "# 글씨 선명하게 출력하는 설정\r\n",
        "%config InlineBackend.figure_format = 'retina'"
      ],
      "outputs": [],
      "metadata": {
        "id": "YuLe_3xM52Km"
      }
    },
    {
      "cell_type": "code",
      "execution_count": 5,
      "source": [
        "# from google.colab import drive\r\n",
        "# drive.mount('/content/mnt')"
      ],
      "outputs": [
        {
          "output_type": "error",
          "ename": "ModuleNotFoundError",
          "evalue": "No module named 'google.colab'",
          "traceback": [
            "\u001b[1;31m---------------------------------------------------------------------------\u001b[0m",
            "\u001b[1;31mModuleNotFoundError\u001b[0m                       Traceback (most recent call last)",
            "\u001b[1;32m<ipython-input-5-fe407e282f47>\u001b[0m in \u001b[0;36m<module>\u001b[1;34m\u001b[0m\n\u001b[1;32m----> 1\u001b[1;33m \u001b[1;32mfrom\u001b[0m \u001b[0mgoogle\u001b[0m\u001b[1;33m.\u001b[0m\u001b[0mcolab\u001b[0m \u001b[1;32mimport\u001b[0m \u001b[0mdrive\u001b[0m\u001b[1;33m\u001b[0m\u001b[1;33m\u001b[0m\u001b[0m\n\u001b[0m\u001b[0;32m      2\u001b[0m \u001b[0mdrive\u001b[0m\u001b[1;33m.\u001b[0m\u001b[0mmount\u001b[0m\u001b[1;33m(\u001b[0m\u001b[1;34m'/content/mnt'\u001b[0m\u001b[1;33m)\u001b[0m\u001b[1;33m\u001b[0m\u001b[1;33m\u001b[0m\u001b[0m\n",
            "\u001b[1;31mModuleNotFoundError\u001b[0m: No module named 'google.colab'"
          ]
        }
      ],
      "metadata": {
        "colab": {
          "base_uri": "https://localhost:8080/"
        },
        "id": "OaFaMnR053vx",
        "outputId": "5c052ea6-85f3-4a8b-d9f7-03d41d930dbf"
      }
    },
    {
      "cell_type": "code",
      "execution_count": null,
      "source": [
        "# data_folder = '/content/mnt/MyDrive/data/국민건강보험공단_진료내역정보_20191231'"
      ],
      "outputs": [],
      "metadata": {
        "id": "AynxzsU257DQ"
      }
    },
    {
      "cell_type": "code",
      "execution_count": null,
      "source": [
        "# df_train2_dummy = pd.read_csv(f'{data_folder}/df_train2_dummy.csv', encoding='euc-kr')"
      ],
      "outputs": [],
      "metadata": {
        "id": "DHc0lYJo5_Pm"
      }
    },
    {
      "cell_type": "code",
      "execution_count": 11,
      "source": [
        "df_train = pd.read_csv(\"C:/Users/sweet/OneDrive/바탕 화면/국민건강보험공단_진료내역정보_20191231/df_train.csv\", encoding=\"euc-kr\")\r\n",
        "df_train2_dummy = pd.read_csv(\"C:/Users/sweet/OneDrive/바탕 화면/국민건강보험공단_진료내역정보_20191231/df_train2_dummy.csv\", encoding=\"euc-kr\")"
      ],
      "outputs": [],
      "metadata": {}
    },
    {
      "cell_type": "code",
      "execution_count": 12,
      "source": [
        "for i in df_train.columns:\r\n",
        "    df_train[i] = df_train[i].astype('category')"
      ],
      "outputs": [],
      "metadata": {}
    },
    {
      "cell_type": "code",
      "execution_count": 13,
      "source": [
        "for i in df_train2_dummy.columns:\r\n",
        "    df_train2_dummy[i] = df_train2_dummy[i].astype('category')"
      ],
      "outputs": [],
      "metadata": {
        "id": "ESwbY87t6H-Z"
      }
    },
    {
      "cell_type": "code",
      "execution_count": 14,
      "source": [
        "df_train.dtypes"
      ],
      "outputs": [
        {
          "output_type": "execute_result",
          "data": {
            "text/plain": [
              "Unnamed: 0    category\n",
              "성별코드          category\n",
              "연령대코드         category\n",
              "시도코드          category\n",
              "서식코드          category\n",
              "진료과목코드        category\n",
              "주상병코드         category\n",
              "부상병코드         category\n",
              "심결가산율         category\n",
              "dtype: object"
            ]
          },
          "metadata": {},
          "execution_count": 14
        }
      ],
      "metadata": {}
    },
    {
      "cell_type": "code",
      "execution_count": 24,
      "source": [
        "df_train2_dummy.dtypes"
      ],
      "outputs": [
        {
          "output_type": "execute_result",
          "data": {
            "text/plain": [
              "성별코드      category\n",
              "연령대코드     category\n",
              "시도코드      category\n",
              "진료과목코드    category\n",
              "주상병코드     category\n",
              "부상병코드     category\n",
              "심결가산율     category\n",
              "서식코드_0    category\n",
              "서식코드_1    category\n",
              "dtype: object"
            ]
          },
          "metadata": {},
          "execution_count": 24
        }
      ],
      "metadata": {
        "colab": {
          "base_uri": "https://localhost:8080/"
        },
        "id": "Vn4jTMp-6Cxb",
        "outputId": "51bf48c8-dfdb-445c-be26-a1e3e6ae325c"
      }
    },
    {
      "cell_type": "code",
      "execution_count": 22,
      "source": [
        "df_train2_dummy.drop('Unnamed: 0', axis=1, inplace=True)"
      ],
      "outputs": [],
      "metadata": {
        "colab": {
          "base_uri": "https://localhost:8080/",
          "height": 423
        },
        "id": "uhovZzEJ7A0t",
        "outputId": "e8c204a5-9bc9-471b-ac70-5c2e6418017e"
      }
    },
    {
      "cell_type": "code",
      "execution_count": 25,
      "source": [
        "from sklearn.neighbors import KNeighborsClassifier\r\n",
        "from sklearn.model_selection import train_test_split\r\n",
        "from sklearn.metrics import classification_report, confusion_matrix\r\n",
        "from sklearn.metrics import accuracy_score\r\n",
        "from sklearn import metrics\r\n",
        "from sklearn.model_selection import cross_val_score"
      ],
      "outputs": [],
      "metadata": {
        "id": "Uu2jpBku6O0u"
      }
    },
    {
      "cell_type": "code",
      "execution_count": 31,
      "source": [
        "# Undersampling + One-hot \r\n",
        "\r\n",
        "X = df_train2_dummy.iloc[:, :-2]\r\n",
        "y = df_train2_dummy.iloc[:, 7:].astype('int')\r\n",
        "\r\n",
        "X_train, X_test, y_train, y_test = train_test_split(X, y, test_size = 0.2, random_state = 7)"
      ],
      "outputs": [],
      "metadata": {
        "id": "A2-oLoYM6rok"
      }
    },
    {
      "cell_type": "code",
      "execution_count": 32,
      "source": [
        "# kNN = 10\r\n",
        "neigh_10 = KNeighborsClassifier(n_neighbors = 10, weights = 'distance')\r\n",
        "neigh_10_train = neigh_10.fit(X_train, y_train)"
      ],
      "outputs": [],
      "metadata": {
        "colab": {
          "base_uri": "https://localhost:8080/",
          "height": 411
        },
        "id": "dFzar2Q06zTL",
        "outputId": "ec85394b-838b-489c-eaf1-d0319759fc9e"
      }
    },
    {
      "cell_type": "code",
      "execution_count": 35,
      "source": [
        "y_pred = neigh_10.predict(X_test)"
      ],
      "outputs": [],
      "metadata": {}
    },
    {
      "cell_type": "code",
      "execution_count": 36,
      "source": [
        "accuracy = accuracy_score(y_test, y_pred)"
      ],
      "outputs": [],
      "metadata": {}
    },
    {
      "cell_type": "code",
      "execution_count": 37,
      "source": [
        "print(classification_report(y_test, y_pred))\r\n"
      ],
      "outputs": [
        {
          "output_type": "stream",
          "name": "stdout",
          "text": [
            "              precision    recall  f1-score   support\n",
            "\n",
            "           0       0.88      0.81      0.84     56910\n",
            "           1       0.84      0.85      0.84     56675\n",
            "\n",
            "   micro avg       0.86      0.83      0.84    113585\n",
            "   macro avg       0.86      0.83      0.84    113585\n",
            "weighted avg       0.86      0.83      0.84    113585\n",
            " samples avg       0.83      0.83      0.83    113585\n",
            "\n"
          ]
        }
      ],
      "metadata": {}
    },
    {
      "cell_type": "code",
      "execution_count": 38,
      "source": [
        "print(f'Under + One-hot Accuracy : {accuracy*100}')"
      ],
      "outputs": [
        {
          "output_type": "stream",
          "name": "stdout",
          "text": [
            "Under + One-hot Accuracy : 82.92292116036448\n"
          ]
        }
      ],
      "metadata": {}
    },
    {
      "cell_type": "code",
      "execution_count": null,
      "source": [
        " X.shape"
      ],
      "outputs": [
        {
          "output_type": "execute_result",
          "data": {
            "text/plain": [
              "(567924, 8)"
            ]
          },
          "metadata": {},
          "execution_count": 32
        }
      ],
      "metadata": {
        "colab": {
          "base_uri": "https://localhost:8080/"
        },
        "id": "Pt0_NeN8KeIS",
        "outputId": "f74914d0-8b41-4ff4-cf20-80218ce25d9a"
      }
    },
    {
      "cell_type": "code",
      "execution_count": null,
      "source": [
        "y.shape"
      ],
      "outputs": [
        {
          "output_type": "execute_result",
          "data": {
            "text/plain": [
              "(567924, 3)"
            ]
          },
          "metadata": {},
          "execution_count": 33
        }
      ],
      "metadata": {
        "colab": {
          "base_uri": "https://localhost:8080/"
        },
        "id": "DBQSMzEdKfFT",
        "outputId": "2e3bc3be-70ff-4bbc-e99e-9ad3ba9b8ab7"
      }
    },
    {
      "cell_type": "code",
      "execution_count": 33,
      "source": [
        "#KFold\r\n",
        "from sklearn.model_selection import KFold \r\n",
        "kfold = KFold(n_splits=3, shuffle = True, random_state=42) \r\n",
        "scores = cross_val_score(neigh_10, X_train, y_train, cv=kfold) \r\n",
        "scores "
      ],
      "outputs": [
        {
          "output_type": "execute_result",
          "data": {
            "text/plain": [
              "array([0.82883781, 0.82438625, 0.82651902])"
            ]
          },
          "metadata": {},
          "execution_count": 33
        }
      ],
      "metadata": {
        "colab": {
          "base_uri": "https://localhost:8080/",
          "height": 392
        },
        "id": "kNEGM4A-_HD7",
        "outputId": "b5e66b65-8e4d-4d0c-fefc-644cf731ec3e"
      }
    }
  ]
}