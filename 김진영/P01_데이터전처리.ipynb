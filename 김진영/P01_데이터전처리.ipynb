{
 "cells": [
  {
   "cell_type": "markdown",
   "source": [
    "# 데이터 전처리"
   ],
   "metadata": {}
  },
  {
   "cell_type": "code",
   "execution_count": 1,
   "source": [
    "import pandas as pd \r\n",
    "import warnings\r\n",
    "warnings.filterwarnings('ignore')\r\n",
    "\r\n",
    "import plotly.express as px\r\n",
    "import plotly.graph_objs as go \r\n",
    "import matplotlib.pyplot as plt\r\n",
    "import seaborn as sns\r\n",
    "%matplotlib inline"
   ],
   "outputs": [],
   "metadata": {}
  },
  {
   "cell_type": "code",
   "execution_count": 2,
   "source": [
    "import numpy as np\r\n",
    "%matplotlib inline\r\n",
    "sns.set_style(\"darkgrid\")"
   ],
   "outputs": [],
   "metadata": {}
  },
  {
   "cell_type": "code",
   "execution_count": 3,
   "source": [
    "# 파이썬 시각화 패키지 불러오기\r\n",
    "import matplotlib.pyplot as plt\r\n",
    "%matplotlib inline\r\n",
    "\r\n",
    "\r\n",
    "# 사용자 운영체제 확인\r\n",
    "import platform\r\n",
    "platform.system()"
   ],
   "outputs": [
    {
     "output_type": "execute_result",
     "data": {
      "text/plain": [
       "'Windows'"
      ]
     },
     "metadata": {},
     "execution_count": 3
    }
   ],
   "metadata": {}
  },
  {
   "cell_type": "code",
   "execution_count": 4,
   "source": [
    "# 운영체제별 한글 폰트 설정\r\n",
    "if platform.system() == 'Darwin': # Mac 환경 폰트 설정\r\n",
    "    plt.rc('font', family='AppleGothic')\r\n",
    "elif platform.system() == 'Windows': # Windows 환경 폰트 설정\r\n",
    "    plt.rc('font', family='Malgun Gothic')\r\n",
    "\r\n",
    "plt.rc('axes', unicode_minus=False) # 마이너스 폰트 설정\r\n",
    "\r\n",
    "\r\n",
    "# 글씨 선명하게 출력하는 설정\r\n",
    "%config InlineBackend.figure_format = 'retina'"
   ],
   "outputs": [],
   "metadata": {}
  },
  {
   "cell_type": "code",
   "execution_count": 5,
   "source": [
    "from matplotlib import font_manager, rc\r\n",
    "font_path = \"C:/Windows/Fonts/NGULIM.TTF\"\r\n",
    "font = font_manager.FontProperties(fname=font_path).get_name()\r\n",
    "rc('font', family=font)"
   ],
   "outputs": [],
   "metadata": {}
  },
  {
   "cell_type": "code",
   "execution_count": 6,
   "source": [
    "import matplotlib.pyplot as plt\r\n",
    "import matplotlib.font_manager as fm\r\n",
    "\r\n",
    "\r\n",
    "font_path = r'C:/Windows/Fonts/NanumBarunGothic.ttf'\r\n",
    "fontprop = fm.FontProperties(fname=font_path, size=18)"
   ],
   "outputs": [],
   "metadata": {}
  },
  {
   "cell_type": "code",
   "execution_count": 7,
   "source": [
    "# 데이터 불러오기 \r\n",
    "df1 = pd.read_csv(\"C:/Users/sweet/OneDrive/바탕 화면/국민건강보험공단_진료내역정보_20191231/T20_2019_1백만.1.csv\",encoding='euc-kr')\r\n",
    "df2 = pd.read_csv(\"C:/Users/sweet/OneDrive/바탕 화면/국민건강보험공단_진료내역정보_20191231/T20_2019_1백만.2.csv\",encoding='euc-kr')\r\n",
    "df3 = pd.read_csv(\"C:/Users/sweet/OneDrive/바탕 화면/국민건강보험공단_진료내역정보_20191231/T20_2019_1백만.3.csv\",encoding='euc-kr')"
   ],
   "outputs": [],
   "metadata": {}
  },
  {
   "cell_type": "code",
   "execution_count": 8,
   "source": [
    "# 데이터 합치기\r\n",
    "df = pd.concat([df1, df2, df3])"
   ],
   "outputs": [],
   "metadata": {}
  },
  {
   "cell_type": "code",
   "execution_count": 9,
   "source": [
    "# 입원여부열 추가\r\n",
    "df['입원여부'] = np.where(df['서식코드'] == 2, 1, 2)\r\n",
    "\r\n",
    "# 서식코드가 2이면 입원(1), 아니면(2)\r\n",
    "# df['입원여부'] = df.서식코드.apply(lambda x: 1 if x == 2 else 2)"
   ],
   "outputs": [],
   "metadata": {}
  },
  {
   "cell_type": "code",
   "execution_count": 10,
   "source": [
    "# 주상병코드에 연결하여 질병코드 추가\r\n",
    "df['질병코드'] = df['주상병코드'].str[:1]"
   ],
   "outputs": [],
   "metadata": {}
  },
  {
   "cell_type": "code",
   "execution_count": 11,
   "source": [
    "# 시도코드에 연결하여 시도명 추가\r\n",
    "df_sido = pd.read_csv(\"sido.txt\", sep = \"|\")\r\n",
    "df_sido.columns = ['시도코드', '시도명']\r\n",
    "df = pd.merge(df,df_sido, how='outer',on=['시도코드'])"
   ],
   "outputs": [],
   "metadata": {}
  },
  {
   "cell_type": "code",
   "execution_count": 12,
   "source": [
    "# 연령대코드에 연결하여 연령대 추가\r\n",
    "df_age = pd.read_csv(\"age.txt\", sep = '\\t')\r\n",
    "df_age.columns = ['연령대', '연령대코드']\r\n",
    "df = pd.merge(df,df_age, how='left',on=['연령대코드'])"
   ],
   "outputs": [],
   "metadata": {}
  },
  {
   "cell_type": "code",
   "execution_count": 13,
   "source": [
    "# 진료과목코드에 연결하여 진료과 추가\r\n",
    "df_dep = pd.read_csv(\"department.txt\", sep = '\\t')\r\n",
    "df_dep.columns = ['진료과목코드', '진료과']\r\n",
    "df = pd.merge(df,df_dep, how='left',on=['진료과목코드'])"
   ],
   "outputs": [],
   "metadata": {}
  },
  {
   "cell_type": "code",
   "execution_count": 14,
   "source": [
    "df.tail(2)"
   ],
   "outputs": [
    {
     "output_type": "execute_result",
     "data": {
      "text/html": [
       "<div>\n",
       "<style scoped>\n",
       "    .dataframe tbody tr th:only-of-type {\n",
       "        vertical-align: middle;\n",
       "    }\n",
       "\n",
       "    .dataframe tbody tr th {\n",
       "        vertical-align: top;\n",
       "    }\n",
       "\n",
       "    .dataframe thead th {\n",
       "        text-align: right;\n",
       "    }\n",
       "</style>\n",
       "<table border=\"1\" class=\"dataframe\">\n",
       "  <thead>\n",
       "    <tr style=\"text-align: right;\">\n",
       "      <th></th>\n",
       "      <th>기준년도</th>\n",
       "      <th>가입자 일련번호</th>\n",
       "      <th>진료내역일련번호</th>\n",
       "      <th>성별코드</th>\n",
       "      <th>연령대코드</th>\n",
       "      <th>시도코드</th>\n",
       "      <th>요양개시일자</th>\n",
       "      <th>서식코드</th>\n",
       "      <th>진료과목코드</th>\n",
       "      <th>주상병코드</th>\n",
       "      <th>...</th>\n",
       "      <th>심결요양급여비용총액</th>\n",
       "      <th>심결본인부담금</th>\n",
       "      <th>심결보험자부담금</th>\n",
       "      <th>총처방일수</th>\n",
       "      <th>데이터 기준일자</th>\n",
       "      <th>입원여부</th>\n",
       "      <th>질병코드</th>\n",
       "      <th>시도명</th>\n",
       "      <th>연령대</th>\n",
       "      <th>진료과</th>\n",
       "    </tr>\n",
       "  </thead>\n",
       "  <tbody>\n",
       "    <tr>\n",
       "      <th>13178343</th>\n",
       "      <td>2019</td>\n",
       "      <td>999978</td>\n",
       "      <td>101332700</td>\n",
       "      <td>1</td>\n",
       "      <td>9</td>\n",
       "      <td>43</td>\n",
       "      <td>20190102</td>\n",
       "      <td>3</td>\n",
       "      <td>1</td>\n",
       "      <td>K642</td>\n",
       "      <td>...</td>\n",
       "      <td>19690</td>\n",
       "      <td>5900</td>\n",
       "      <td>13790</td>\n",
       "      <td>5</td>\n",
       "      <td>20201222</td>\n",
       "      <td>2</td>\n",
       "      <td>K</td>\n",
       "      <td>충청북도</td>\n",
       "      <td>40~44세</td>\n",
       "      <td>내과</td>\n",
       "    </tr>\n",
       "    <tr>\n",
       "      <th>13178344</th>\n",
       "      <td>2019</td>\n",
       "      <td>999978</td>\n",
       "      <td>110275136</td>\n",
       "      <td>1</td>\n",
       "      <td>9</td>\n",
       "      <td>43</td>\n",
       "      <td>20190612</td>\n",
       "      <td>3</td>\n",
       "      <td>12</td>\n",
       "      <td>H1688</td>\n",
       "      <td>...</td>\n",
       "      <td>25660</td>\n",
       "      <td>7600</td>\n",
       "      <td>18060</td>\n",
       "      <td>3</td>\n",
       "      <td>20201222</td>\n",
       "      <td>2</td>\n",
       "      <td>H</td>\n",
       "      <td>충청북도</td>\n",
       "      <td>40~44세</td>\n",
       "      <td>안과</td>\n",
       "    </tr>\n",
       "  </tbody>\n",
       "</table>\n",
       "<p>2 rows × 24 columns</p>\n",
       "</div>"
      ],
      "text/plain": [
       "          기준년도  가입자 일련번호   진료내역일련번호  성별코드  연령대코드  시도코드    요양개시일자  서식코드  \\\n",
       "13178343  2019    999978  101332700     1      9    43  20190102     3   \n",
       "13178344  2019    999978  110275136     1      9    43  20190612     3   \n",
       "\n",
       "          진료과목코드  주상병코드  ... 심결요양급여비용총액  심결본인부담금  심결보험자부담금  총처방일수  데이터 기준일자  \\\n",
       "13178343       1   K642  ...      19690     5900     13790      5  20201222   \n",
       "13178344      12  H1688  ...      25660     7600     18060      3  20201222   \n",
       "\n",
       "          입원여부  질병코드    시도명     연령대  진료과  \n",
       "13178343     2     K   충청북도  40~44세   내과  \n",
       "13178344     2     H   충청북도  40~44세   안과  \n",
       "\n",
       "[2 rows x 24 columns]"
      ]
     },
     "metadata": {},
     "execution_count": 14
    }
   ],
   "metadata": {}
  },
  {
   "cell_type": "code",
   "execution_count": 15,
   "source": [
    "# 필요없는 열 삭제\r\n",
    "df.drop(['기준년도', '데이터 기준일자', '요양개시일자', '심결보험자부담금'], axis = 1, inplace = True)"
   ],
   "outputs": [],
   "metadata": {}
  },
  {
   "cell_type": "code",
   "execution_count": 16,
   "source": [
    "# 입원 자료만 데이터프레임 df_hos로\r\n",
    "df_hos = df[df['입원여부'] == 1]\r\n",
    "df_hos.head(3)"
   ],
   "outputs": [
    {
     "output_type": "execute_result",
     "data": {
      "text/html": [
       "<div>\n",
       "<style scoped>\n",
       "    .dataframe tbody tr th:only-of-type {\n",
       "        vertical-align: middle;\n",
       "    }\n",
       "\n",
       "    .dataframe tbody tr th {\n",
       "        vertical-align: top;\n",
       "    }\n",
       "\n",
       "    .dataframe thead th {\n",
       "        text-align: right;\n",
       "    }\n",
       "</style>\n",
       "<table border=\"1\" class=\"dataframe\">\n",
       "  <thead>\n",
       "    <tr style=\"text-align: right;\">\n",
       "      <th></th>\n",
       "      <th>가입자 일련번호</th>\n",
       "      <th>진료내역일련번호</th>\n",
       "      <th>성별코드</th>\n",
       "      <th>연령대코드</th>\n",
       "      <th>시도코드</th>\n",
       "      <th>서식코드</th>\n",
       "      <th>진료과목코드</th>\n",
       "      <th>주상병코드</th>\n",
       "      <th>부상병코드</th>\n",
       "      <th>요양일수</th>\n",
       "      <th>입내원일수</th>\n",
       "      <th>심결가산율</th>\n",
       "      <th>심결요양급여비용총액</th>\n",
       "      <th>심결본인부담금</th>\n",
       "      <th>총처방일수</th>\n",
       "      <th>입원여부</th>\n",
       "      <th>질병코드</th>\n",
       "      <th>시도명</th>\n",
       "      <th>연령대</th>\n",
       "      <th>진료과</th>\n",
       "    </tr>\n",
       "  </thead>\n",
       "  <tbody>\n",
       "    <tr>\n",
       "      <th>3</th>\n",
       "      <td>1</td>\n",
       "      <td>109043837</td>\n",
       "      <td>2</td>\n",
       "      <td>12</td>\n",
       "      <td>46</td>\n",
       "      <td>2</td>\n",
       "      <td>1</td>\n",
       "      <td>E1164</td>\n",
       "      <td>N308</td>\n",
       "      <td>7</td>\n",
       "      <td>21</td>\n",
       "      <td>0.25</td>\n",
       "      <td>861590</td>\n",
       "      <td>205810</td>\n",
       "      <td>0</td>\n",
       "      <td>1</td>\n",
       "      <td>E</td>\n",
       "      <td>전라남도</td>\n",
       "      <td>55~59세</td>\n",
       "      <td>내과</td>\n",
       "    </tr>\n",
       "    <tr>\n",
       "      <th>38</th>\n",
       "      <td>1</td>\n",
       "      <td>105624357</td>\n",
       "      <td>2</td>\n",
       "      <td>12</td>\n",
       "      <td>46</td>\n",
       "      <td>2</td>\n",
       "      <td>5</td>\n",
       "      <td>M751</td>\n",
       "      <td>M750</td>\n",
       "      <td>12</td>\n",
       "      <td>15</td>\n",
       "      <td>0.25</td>\n",
       "      <td>2899570</td>\n",
       "      <td>638600</td>\n",
       "      <td>0</td>\n",
       "      <td>1</td>\n",
       "      <td>M</td>\n",
       "      <td>전라남도</td>\n",
       "      <td>55~59세</td>\n",
       "      <td>정형외과</td>\n",
       "    </tr>\n",
       "    <tr>\n",
       "      <th>63</th>\n",
       "      <td>93</td>\n",
       "      <td>110690589</td>\n",
       "      <td>2</td>\n",
       "      <td>16</td>\n",
       "      <td>46</td>\n",
       "      <td>2</td>\n",
       "      <td>1</td>\n",
       "      <td>N10</td>\n",
       "      <td>J0100</td>\n",
       "      <td>7</td>\n",
       "      <td>14</td>\n",
       "      <td>0.30</td>\n",
       "      <td>2178170</td>\n",
       "      <td>628230</td>\n",
       "      <td>0</td>\n",
       "      <td>1</td>\n",
       "      <td>N</td>\n",
       "      <td>전라남도</td>\n",
       "      <td>75~79세</td>\n",
       "      <td>내과</td>\n",
       "    </tr>\n",
       "  </tbody>\n",
       "</table>\n",
       "</div>"
      ],
      "text/plain": [
       "    가입자 일련번호   진료내역일련번호  성별코드  연령대코드  시도코드  서식코드  진료과목코드  주상병코드  부상병코드  요양일수  \\\n",
       "3          1  109043837     2     12    46     2       1  E1164   N308     7   \n",
       "38         1  105624357     2     12    46     2       5   M751   M750    12   \n",
       "63        93  110690589     2     16    46     2       1    N10  J0100     7   \n",
       "\n",
       "    입내원일수  심결가산율  심결요양급여비용총액  심결본인부담금  총처방일수  입원여부 질병코드    시도명     연령대   진료과  \n",
       "3      21   0.25      861590   205810      0     1    E   전라남도  55~59세    내과  \n",
       "38     15   0.25     2899570   638600      0     1    M   전라남도  55~59세  정형외과  \n",
       "63     14   0.30     2178170   628230      0     1    N   전라남도  75~79세    내과  "
      ]
     },
     "metadata": {},
     "execution_count": 16
    }
   ],
   "metadata": {}
  },
  {
   "cell_type": "code",
   "execution_count": 17,
   "source": [
    "# 외래 자료만 데이터프레임 df_non_hos로\r\n",
    "df_non_hos = df[df['입원여부'] == 2]\r\n",
    "df_non_hos.head(3)"
   ],
   "outputs": [
    {
     "output_type": "execute_result",
     "data": {
      "text/html": [
       "<div>\n",
       "<style scoped>\n",
       "    .dataframe tbody tr th:only-of-type {\n",
       "        vertical-align: middle;\n",
       "    }\n",
       "\n",
       "    .dataframe tbody tr th {\n",
       "        vertical-align: top;\n",
       "    }\n",
       "\n",
       "    .dataframe thead th {\n",
       "        text-align: right;\n",
       "    }\n",
       "</style>\n",
       "<table border=\"1\" class=\"dataframe\">\n",
       "  <thead>\n",
       "    <tr style=\"text-align: right;\">\n",
       "      <th></th>\n",
       "      <th>가입자 일련번호</th>\n",
       "      <th>진료내역일련번호</th>\n",
       "      <th>성별코드</th>\n",
       "      <th>연령대코드</th>\n",
       "      <th>시도코드</th>\n",
       "      <th>서식코드</th>\n",
       "      <th>진료과목코드</th>\n",
       "      <th>주상병코드</th>\n",
       "      <th>부상병코드</th>\n",
       "      <th>요양일수</th>\n",
       "      <th>입내원일수</th>\n",
       "      <th>심결가산율</th>\n",
       "      <th>심결요양급여비용총액</th>\n",
       "      <th>심결본인부담금</th>\n",
       "      <th>총처방일수</th>\n",
       "      <th>입원여부</th>\n",
       "      <th>질병코드</th>\n",
       "      <th>시도명</th>\n",
       "      <th>연령대</th>\n",
       "      <th>진료과</th>\n",
       "    </tr>\n",
       "  </thead>\n",
       "  <tbody>\n",
       "    <tr>\n",
       "      <th>0</th>\n",
       "      <td>1</td>\n",
       "      <td>104243474</td>\n",
       "      <td>2</td>\n",
       "      <td>12</td>\n",
       "      <td>46</td>\n",
       "      <td>3</td>\n",
       "      <td>5</td>\n",
       "      <td>M751</td>\n",
       "      <td>M750</td>\n",
       "      <td>1</td>\n",
       "      <td>1</td>\n",
       "      <td>0.25</td>\n",
       "      <td>19240</td>\n",
       "      <td>9600</td>\n",
       "      <td>0</td>\n",
       "      <td>2</td>\n",
       "      <td>M</td>\n",
       "      <td>전라남도</td>\n",
       "      <td>55~59세</td>\n",
       "      <td>정형외과</td>\n",
       "    </tr>\n",
       "    <tr>\n",
       "      <th>1</th>\n",
       "      <td>1</td>\n",
       "      <td>107479370</td>\n",
       "      <td>2</td>\n",
       "      <td>12</td>\n",
       "      <td>46</td>\n",
       "      <td>3</td>\n",
       "      <td>1</td>\n",
       "      <td>E1164</td>\n",
       "      <td>N308</td>\n",
       "      <td>1</td>\n",
       "      <td>1</td>\n",
       "      <td>0.25</td>\n",
       "      <td>145680</td>\n",
       "      <td>72800</td>\n",
       "      <td>0</td>\n",
       "      <td>2</td>\n",
       "      <td>E</td>\n",
       "      <td>전라남도</td>\n",
       "      <td>55~59세</td>\n",
       "      <td>내과</td>\n",
       "    </tr>\n",
       "    <tr>\n",
       "      <th>2</th>\n",
       "      <td>1</td>\n",
       "      <td>106881883</td>\n",
       "      <td>2</td>\n",
       "      <td>12</td>\n",
       "      <td>46</td>\n",
       "      <td>3</td>\n",
       "      <td>1</td>\n",
       "      <td>N308</td>\n",
       "      <td>E1164</td>\n",
       "      <td>1</td>\n",
       "      <td>1</td>\n",
       "      <td>0.25</td>\n",
       "      <td>13240</td>\n",
       "      <td>6600</td>\n",
       "      <td>3</td>\n",
       "      <td>2</td>\n",
       "      <td>N</td>\n",
       "      <td>전라남도</td>\n",
       "      <td>55~59세</td>\n",
       "      <td>내과</td>\n",
       "    </tr>\n",
       "  </tbody>\n",
       "</table>\n",
       "</div>"
      ],
      "text/plain": [
       "   가입자 일련번호   진료내역일련번호  성별코드  연령대코드  시도코드  서식코드  진료과목코드  주상병코드  부상병코드  요양일수  \\\n",
       "0         1  104243474     2     12    46     3       5   M751   M750     1   \n",
       "1         1  107479370     2     12    46     3       1  E1164   N308     1   \n",
       "2         1  106881883     2     12    46     3       1   N308  E1164     1   \n",
       "\n",
       "   입내원일수  심결가산율  심결요양급여비용총액  심결본인부담금  총처방일수  입원여부 질병코드    시도명     연령대   진료과  \n",
       "0      1   0.25       19240     9600      0     2    M   전라남도  55~59세  정형외과  \n",
       "1      1   0.25      145680    72800      0     2    E   전라남도  55~59세    내과  \n",
       "2      1   0.25       13240     6600      3     2    N   전라남도  55~59세    내과  "
      ]
     },
     "metadata": {},
     "execution_count": 17
    }
   ],
   "metadata": {}
  },
  {
   "cell_type": "code",
   "execution_count": 22,
   "source": [
    "# 전체 요양 내역의 unique한 질병코드\r\n",
    "jin = df['질병코드'].unique()\r\n",
    "len(jin)"
   ],
   "outputs": [
    {
     "output_type": "execute_result",
     "data": {
      "text/plain": [
       "22"
      ]
     },
     "metadata": {},
     "execution_count": 22
    }
   ],
   "metadata": {}
  },
  {
   "cell_type": "code",
   "execution_count": 23,
   "source": [
    "# 입원 내역의 unique한 질병코드 \r\n",
    "jin_hos = df_hos['질병코드'].unique()\r\n",
    "len(jin_hos)"
   ],
   "outputs": [
    {
     "output_type": "execute_result",
     "data": {
      "text/plain": [
       "22"
      ]
     },
     "metadata": {},
     "execution_count": 23
    }
   ],
   "metadata": {}
  },
  {
   "cell_type": "code",
   "execution_count": 24,
   "source": [
    "# 진료과 unique\r\n",
    "dep = df['진료과'].unique()\r\n",
    "len(dep)"
   ],
   "outputs": [
    {
     "output_type": "execute_result",
     "data": {
      "text/plain": [
       "33"
      ]
     },
     "metadata": {},
     "execution_count": 24
    }
   ],
   "metadata": {}
  },
  {
   "cell_type": "code",
   "execution_count": 25,
   "source": [
    "# 입원환자 진료과 unique\r\n",
    "dep_hos = df_hos['진료과'].unique()\r\n",
    "len(dep_hos)"
   ],
   "outputs": [
    {
     "output_type": "execute_result",
     "data": {
      "text/plain": [
       "32"
      ]
     },
     "metadata": {},
     "execution_count": 25
    }
   ],
   "metadata": {}
  },
  {
   "cell_type": "code",
   "execution_count": 26,
   "source": [
    "# 데이터 타입 확인 \r\n",
    "df_hos.dtypes"
   ],
   "outputs": [
    {
     "output_type": "execute_result",
     "data": {
      "text/plain": [
       "가입자 일련번호        int64\n",
       "진료내역일련번호        int64\n",
       "성별코드            int64\n",
       "연령대코드           int64\n",
       "시도코드            int64\n",
       "서식코드            int64\n",
       "진료과목코드          int64\n",
       "주상병코드          object\n",
       "부상병코드          object\n",
       "요양일수            int64\n",
       "입내원일수           int64\n",
       "심결가산율         float64\n",
       "심결요양급여비용총액      int64\n",
       "심결본인부담금         int64\n",
       "총처방일수           int64\n",
       "입원여부            int32\n",
       "질병코드           object\n",
       "시도명            object\n",
       "연령대            object\n",
       "진료과            object\n",
       "dtype: object"
      ]
     },
     "metadata": {},
     "execution_count": 26
    }
   ],
   "metadata": {}
  },
  {
   "cell_type": "code",
   "execution_count": 27,
   "source": [
    "# object를 category로 변환\r\n",
    "df['시도명'] = df['시도명'].astype('category')\r\n",
    "df['연령대'] = df['연령대'].astype('category') \r\n",
    "df['진료과'] = df['진료과'].astype('category') \r\n",
    "df['질병코드'] = df['질병코드'].astype('category')  "
   ],
   "outputs": [],
   "metadata": {}
  },
  {
   "cell_type": "code",
   "execution_count": 28,
   "source": [
    "# 데이터 타입 확인 \r\n",
    "df_hos.dtypes"
   ],
   "outputs": [
    {
     "output_type": "execute_result",
     "data": {
      "text/plain": [
       "가입자 일련번호        int64\n",
       "진료내역일련번호        int64\n",
       "성별코드            int64\n",
       "연령대코드           int64\n",
       "시도코드            int64\n",
       "서식코드            int64\n",
       "진료과목코드          int64\n",
       "주상병코드          object\n",
       "부상병코드          object\n",
       "요양일수            int64\n",
       "입내원일수           int64\n",
       "심결가산율         float64\n",
       "심결요양급여비용총액      int64\n",
       "심결본인부담금         int64\n",
       "총처방일수           int64\n",
       "입원여부            int32\n",
       "질병코드           object\n",
       "시도명            object\n",
       "연령대            object\n",
       "진료과            object\n",
       "dtype: object"
      ]
     },
     "metadata": {},
     "execution_count": 28
    }
   ],
   "metadata": {}
  },
  {
   "cell_type": "code",
   "execution_count": 30,
   "source": [
    "# 비율 계산을 위한 데이터프레임 - 지역별 입원/외래 건수\r\n",
    "df_loc = pd.crosstab(index = df['시도명'], columns = df[\"입원여부\"])\r\n",
    "df_loc.reset_index(inplace = True)\r\n",
    "df_loc.columns = ['시도', '1(입원)', '2(외래)']\r\n",
    "df_loc.head(5)"
   ],
   "outputs": [
    {
     "output_type": "execute_result",
     "data": {
      "text/html": [
       "<div>\n",
       "<style scoped>\n",
       "    .dataframe tbody tr th:only-of-type {\n",
       "        vertical-align: middle;\n",
       "    }\n",
       "\n",
       "    .dataframe tbody tr th {\n",
       "        vertical-align: top;\n",
       "    }\n",
       "\n",
       "    .dataframe thead th {\n",
       "        text-align: right;\n",
       "    }\n",
       "</style>\n",
       "<table border=\"1\" class=\"dataframe\">\n",
       "  <thead>\n",
       "    <tr style=\"text-align: right;\">\n",
       "      <th></th>\n",
       "      <th>시도</th>\n",
       "      <th>1(입원)</th>\n",
       "      <th>2(외래)</th>\n",
       "    </tr>\n",
       "  </thead>\n",
       "  <tbody>\n",
       "    <tr>\n",
       "      <th>0</th>\n",
       "      <td>강원도</td>\n",
       "      <td>7928</td>\n",
       "      <td>356466</td>\n",
       "    </tr>\n",
       "    <tr>\n",
       "      <th>1</th>\n",
       "      <td>경기도</td>\n",
       "      <td>57946</td>\n",
       "      <td>3143574</td>\n",
       "    </tr>\n",
       "    <tr>\n",
       "      <th>2</th>\n",
       "      <td>경상남도</td>\n",
       "      <td>24848</td>\n",
       "      <td>839227</td>\n",
       "    </tr>\n",
       "    <tr>\n",
       "      <th>3</th>\n",
       "      <td>경상북도</td>\n",
       "      <td>17174</td>\n",
       "      <td>690849</td>\n",
       "    </tr>\n",
       "    <tr>\n",
       "      <th>4</th>\n",
       "      <td>광주시</td>\n",
       "      <td>11748</td>\n",
       "      <td>337543</td>\n",
       "    </tr>\n",
       "  </tbody>\n",
       "</table>\n",
       "</div>"
      ],
      "text/plain": [
       "      시도  1(입원)    2(외래)\n",
       "0    강원도   7928   356466\n",
       "1    경기도  57946  3143574\n",
       "2   경상남도  24848   839227\n",
       "3   경상북도  17174   690849\n",
       "4    광주시  11748   337543"
      ]
     },
     "metadata": {},
     "execution_count": 30
    }
   ],
   "metadata": {}
  },
  {
   "cell_type": "code",
   "execution_count": 31,
   "source": [
    "# 비율 계산\r\n",
    "df_loc['입원비율'] = df_loc['2(외래)'] / (df_loc['1(입원)'] + df_loc['2(외래)'])\r\n",
    "df_loc['외래비율'] = df_loc['1(입원)'] / (df_loc['1(입원)'] + df_loc['2(외래)'])\r\n",
    "df_loc.head(5)"
   ],
   "outputs": [
    {
     "output_type": "execute_result",
     "data": {
      "text/html": [
       "<div>\n",
       "<style scoped>\n",
       "    .dataframe tbody tr th:only-of-type {\n",
       "        vertical-align: middle;\n",
       "    }\n",
       "\n",
       "    .dataframe tbody tr th {\n",
       "        vertical-align: top;\n",
       "    }\n",
       "\n",
       "    .dataframe thead th {\n",
       "        text-align: right;\n",
       "    }\n",
       "</style>\n",
       "<table border=\"1\" class=\"dataframe\">\n",
       "  <thead>\n",
       "    <tr style=\"text-align: right;\">\n",
       "      <th></th>\n",
       "      <th>시도</th>\n",
       "      <th>1(입원)</th>\n",
       "      <th>2(외래)</th>\n",
       "      <th>입원비율</th>\n",
       "      <th>외래비율</th>\n",
       "    </tr>\n",
       "  </thead>\n",
       "  <tbody>\n",
       "    <tr>\n",
       "      <th>0</th>\n",
       "      <td>강원도</td>\n",
       "      <td>7928</td>\n",
       "      <td>356466</td>\n",
       "      <td>0.978243</td>\n",
       "      <td>0.021757</td>\n",
       "    </tr>\n",
       "    <tr>\n",
       "      <th>1</th>\n",
       "      <td>경기도</td>\n",
       "      <td>57946</td>\n",
       "      <td>3143574</td>\n",
       "      <td>0.981900</td>\n",
       "      <td>0.018100</td>\n",
       "    </tr>\n",
       "    <tr>\n",
       "      <th>2</th>\n",
       "      <td>경상남도</td>\n",
       "      <td>24848</td>\n",
       "      <td>839227</td>\n",
       "      <td>0.971243</td>\n",
       "      <td>0.028757</td>\n",
       "    </tr>\n",
       "    <tr>\n",
       "      <th>3</th>\n",
       "      <td>경상북도</td>\n",
       "      <td>17174</td>\n",
       "      <td>690849</td>\n",
       "      <td>0.975744</td>\n",
       "      <td>0.024256</td>\n",
       "    </tr>\n",
       "    <tr>\n",
       "      <th>4</th>\n",
       "      <td>광주시</td>\n",
       "      <td>11748</td>\n",
       "      <td>337543</td>\n",
       "      <td>0.966366</td>\n",
       "      <td>0.033634</td>\n",
       "    </tr>\n",
       "  </tbody>\n",
       "</table>\n",
       "</div>"
      ],
      "text/plain": [
       "      시도  1(입원)    2(외래)      입원비율      외래비율\n",
       "0    강원도   7928   356466  0.978243  0.021757\n",
       "1    경기도  57946  3143574  0.981900  0.018100\n",
       "2   경상남도  24848   839227  0.971243  0.028757\n",
       "3   경상북도  17174   690849  0.975744  0.024256\n",
       "4    광주시  11748   337543  0.966366  0.033634"
      ]
     },
     "metadata": {},
     "execution_count": 31
    }
   ],
   "metadata": {}
  },
  {
   "cell_type": "code",
   "execution_count": 32,
   "source": [
    "# 비율 계산을 위한 데이터프레임 - 진료과별 입원/외래 건수\r\n",
    "df_dep = pd.crosstab(index = df['진료과'], columns = df[\"입원여부\"])\r\n",
    "df_dep.reset_index(inplace = True)\r\n",
    "df_dep.columns = ['진료과', '1(입원)', '2(외래)']\r\n",
    "df_dep.head(5)"
   ],
   "outputs": [
    {
     "output_type": "execute_result",
     "data": {
      "text/html": [
       "<div>\n",
       "<style scoped>\n",
       "    .dataframe tbody tr th:only-of-type {\n",
       "        vertical-align: middle;\n",
       "    }\n",
       "\n",
       "    .dataframe tbody tr th {\n",
       "        vertical-align: top;\n",
       "    }\n",
       "\n",
       "    .dataframe thead th {\n",
       "        text-align: right;\n",
       "    }\n",
       "</style>\n",
       "<table border=\"1\" class=\"dataframe\">\n",
       "  <thead>\n",
       "    <tr style=\"text-align: right;\">\n",
       "      <th></th>\n",
       "      <th>진료과</th>\n",
       "      <th>1(입원)</th>\n",
       "      <th>2(외래)</th>\n",
       "    </tr>\n",
       "  </thead>\n",
       "  <tbody>\n",
       "    <tr>\n",
       "      <th>0</th>\n",
       "      <td>가정의학과</td>\n",
       "      <td>18220</td>\n",
       "      <td>361533</td>\n",
       "    </tr>\n",
       "    <tr>\n",
       "      <th>1</th>\n",
       "      <td>결핵과</td>\n",
       "      <td>69</td>\n",
       "      <td>1017</td>\n",
       "    </tr>\n",
       "    <tr>\n",
       "      <th>2</th>\n",
       "      <td>구강악안면외과</td>\n",
       "      <td>9</td>\n",
       "      <td>1</td>\n",
       "    </tr>\n",
       "    <tr>\n",
       "      <th>3</th>\n",
       "      <td>내과</td>\n",
       "      <td>68497</td>\n",
       "      <td>4319462</td>\n",
       "    </tr>\n",
       "    <tr>\n",
       "      <th>4</th>\n",
       "      <td>마취통증의학과</td>\n",
       "      <td>1398</td>\n",
       "      <td>194939</td>\n",
       "    </tr>\n",
       "  </tbody>\n",
       "</table>\n",
       "</div>"
      ],
      "text/plain": [
       "       진료과  1(입원)    2(외래)\n",
       "0    가정의학과  18220   361533\n",
       "1      결핵과     69     1017\n",
       "2  구강악안면외과      9        1\n",
       "3       내과  68497  4319462\n",
       "4  마취통증의학과   1398   194939"
      ]
     },
     "metadata": {},
     "execution_count": 32
    }
   ],
   "metadata": {}
  },
  {
   "cell_type": "code",
   "execution_count": 33,
   "source": [
    "# 비율 계산\r\n",
    "df_dep['입원비율'] = df_dep['2(외래)'] / (df_dep['1(입원)'] + df_dep['2(외래)'])\r\n",
    "df_dep['외래비율'] = df_dep['1(입원)'] / (df_dep['1(입원)'] + df_dep['2(외래)'])\r\n",
    "df_dep.head(5)"
   ],
   "outputs": [
    {
     "output_type": "execute_result",
     "data": {
      "text/html": [
       "<div>\n",
       "<style scoped>\n",
       "    .dataframe tbody tr th:only-of-type {\n",
       "        vertical-align: middle;\n",
       "    }\n",
       "\n",
       "    .dataframe tbody tr th {\n",
       "        vertical-align: top;\n",
       "    }\n",
       "\n",
       "    .dataframe thead th {\n",
       "        text-align: right;\n",
       "    }\n",
       "</style>\n",
       "<table border=\"1\" class=\"dataframe\">\n",
       "  <thead>\n",
       "    <tr style=\"text-align: right;\">\n",
       "      <th></th>\n",
       "      <th>진료과</th>\n",
       "      <th>1(입원)</th>\n",
       "      <th>2(외래)</th>\n",
       "      <th>입원비율</th>\n",
       "      <th>외래비율</th>\n",
       "    </tr>\n",
       "  </thead>\n",
       "  <tbody>\n",
       "    <tr>\n",
       "      <th>0</th>\n",
       "      <td>가정의학과</td>\n",
       "      <td>18220</td>\n",
       "      <td>361533</td>\n",
       "      <td>0.952021</td>\n",
       "      <td>0.047979</td>\n",
       "    </tr>\n",
       "    <tr>\n",
       "      <th>1</th>\n",
       "      <td>결핵과</td>\n",
       "      <td>69</td>\n",
       "      <td>1017</td>\n",
       "      <td>0.936464</td>\n",
       "      <td>0.063536</td>\n",
       "    </tr>\n",
       "    <tr>\n",
       "      <th>2</th>\n",
       "      <td>구강악안면외과</td>\n",
       "      <td>9</td>\n",
       "      <td>1</td>\n",
       "      <td>0.100000</td>\n",
       "      <td>0.900000</td>\n",
       "    </tr>\n",
       "    <tr>\n",
       "      <th>3</th>\n",
       "      <td>내과</td>\n",
       "      <td>68497</td>\n",
       "      <td>4319462</td>\n",
       "      <td>0.984390</td>\n",
       "      <td>0.015610</td>\n",
       "    </tr>\n",
       "    <tr>\n",
       "      <th>4</th>\n",
       "      <td>마취통증의학과</td>\n",
       "      <td>1398</td>\n",
       "      <td>194939</td>\n",
       "      <td>0.992880</td>\n",
       "      <td>0.007120</td>\n",
       "    </tr>\n",
       "  </tbody>\n",
       "</table>\n",
       "</div>"
      ],
      "text/plain": [
       "       진료과  1(입원)    2(외래)      입원비율      외래비율\n",
       "0    가정의학과  18220   361533  0.952021  0.047979\n",
       "1      결핵과     69     1017  0.936464  0.063536\n",
       "2  구강악안면외과      9        1  0.100000  0.900000\n",
       "3       내과  68497  4319462  0.984390  0.015610\n",
       "4  마취통증의학과   1398   194939  0.992880  0.007120"
      ]
     },
     "metadata": {},
     "execution_count": 33
    }
   ],
   "metadata": {}
  }
 ],
 "metadata": {
  "orig_nbformat": 4,
  "language_info": {
   "name": "python",
   "version": "3.8.10",
   "mimetype": "text/x-python",
   "codemirror_mode": {
    "name": "ipython",
    "version": 3
   },
   "pygments_lexer": "ipython3",
   "nbconvert_exporter": "python",
   "file_extension": ".py"
  },
  "kernelspec": {
   "name": "python3",
   "display_name": "Python 3.8.10 64-bit ('base': conda)"
  },
  "interpreter": {
   "hash": "c1a05ed345091bee797b668f6f648f413480db32111f45bdb6bea126ffa783e7"
  }
 },
 "nbformat": 4,
 "nbformat_minor": 2
}