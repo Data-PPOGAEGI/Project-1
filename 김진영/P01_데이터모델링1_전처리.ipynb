{
  "nbformat": 4,
  "nbformat_minor": 0,
  "metadata": {
    "colab": {
      "name": "P01_데이터모델링1-전처리.ipynb",
      "provenance": [],
      "collapsed_sections": []
    },
    "kernelspec": {
      "name": "python3",
      "display_name": "Python 3"
    },
    "language_info": {
      "name": "python"
    }
  },
  "cells": [
    {
      "cell_type": "code",
      "metadata": {
        "id": "oUbIi62Vv2TT"
      },
      "source": [
        "import numpy as np\n",
        "import pandas as pd \n",
        "import warnings\n",
        "warnings.filterwarnings('ignore')\n",
        "\n",
        "import plotly.express as px\n",
        "import plotly.graph_objs as go \n",
        "import matplotlib.pyplot as plt\n",
        "import seaborn as sns\n",
        "%matplotlib inline"
      ],
      "execution_count": null,
      "outputs": []
    },
    {
      "cell_type": "code",
      "metadata": {
        "id": "S1H40x3_1Mgm"
      },
      "source": [
        "import numpy as np\n",
        "%matplotlib inline\n",
        "sns.set_style(\"darkgrid\")"
      ],
      "execution_count": null,
      "outputs": []
    },
    {
      "cell_type": "code",
      "metadata": {
        "id": "yaIZrU2J1Mdm"
      },
      "source": [
        "# 파이썬 시각화 패키지 불러오기\n",
        "import matplotlib.pyplot as plt\n",
        "%matplotlib inline\n",
        "\n",
        "\n",
        "# 사용자 운영체제 확인\n",
        "import platform\n",
        "platform.system()"
      ],
      "execution_count": null,
      "outputs": []
    },
    {
      "cell_type": "code",
      "metadata": {
        "id": "nAUL4Ugu1Mam"
      },
      "source": [
        "# 운영체제별 한글 폰트 설정\n",
        "if platform.system() == 'Darwin': # Mac 환경 폰트 설정\n",
        "    plt.rc('font', family='AppleGothic')\n",
        "elif platform.system() == 'Windows': # Windows 환경 폰트 설정\n",
        "    plt.rc('font', family='Malgun Gothic')\n",
        "\n",
        "plt.rc('axes', unicode_minus=False) # 마이너스 폰트 설정\n",
        "\n",
        "\n",
        "# 글씨 선명하게 출력하는 설정\n",
        "%config InlineBackend.figure_format = 'retina'"
      ],
      "execution_count": null,
      "outputs": []
    },
    {
      "cell_type": "code",
      "metadata": {
        "id": "FQnZ24ua1MX8"
      },
      "source": [
        "from google.colab import drive\n",
        "drive.mount('/content/mnt')"
      ],
      "execution_count": null,
      "outputs": []
    },
    {
      "cell_type": "code",
      "metadata": {
        "id": "QGzgoW6w1MVD"
      },
      "source": [
        "data_folder = '/content/mnt/MyDrive/data/국민건강보험공단_진료내역정보_20191231'"
      ],
      "execution_count": null,
      "outputs": []
    },
    {
      "cell_type": "code",
      "metadata": {
        "id": "xY6QeVcx1MSC"
      },
      "source": [
        "df_1 = pd.read_csv(f'{data_folder}/T20_2019_1백만.1.csv', encoding='euc-kr')\n",
        "df_2 = pd.read_csv(f'{data_folder}/T20_2019_1백만.2.csv', encoding='euc-kr')\n",
        "df_3 = pd.read_csv(f'{data_folder}/T20_2019_1백만.3.csv', encoding='euc-kr')"
      ],
      "execution_count": null,
      "outputs": []
    },
    {
      "cell_type": "code",
      "metadata": {
        "id": "i6DHHgLd1UzK"
      },
      "source": [
        "df = pd.concat([df_1, df_2, df_3])"
      ],
      "execution_count": null,
      "outputs": []
    },
    {
      "cell_type": "code",
      "metadata": {
        "id": "5MBhGW7w1Uwq"
      },
      "source": [
        "# 모데링 - 필요 데이터만 추출\n",
        "df_train = df[['성별코드', '연령대코드', '시도코드', '서식코드', '진료과목코드', '주상병코드', '부상병코드', '심결가산율']].copy()\n",
        "# 서식코드 0(미입원) , 1(입원) 주,부상병코드 맨 앞자리 알파벳만 추출\n",
        "df_train['서식코드'] = df_train['서식코드'].apply(lambda x: 1 if x == 2 else 0) \n",
        "df_train['주상병코드'] = df_train['주상병코드'].apply(lambda x: x[:1])\n",
        "df_train['부상병코드'] = df_train['부상병코드'].apply(lambda x: x[:1])\n",
        "\n",
        "# 주, 부상병코드 알파벳 인덱싱 \n",
        "eng_list = ['A','B','C', 'D', 'E', 'F', 'G', 'H', 'I', 'J', 'K', 'L', 'M', 'N', 'O', 'P', 'Q', 'R', 'S', 'T', 'U', 'V', 'W', 'X', 'Y', 'Z']\n",
        "code_dict = dict(zip(eng_list, [i for i in range(len(eng_list))]))\n",
        "df_train['주상병코드'] = df_train['주상병코드'].apply(lambda x: code_dict[x])\n",
        "df_train['부상병코드'] = df_train['부상병코드'].apply(lambda x: code_dict[x])\n",
        "\n",
        "# 심결가산율 카테고리화 및 인덱싱\n",
        "rate_list = pd.DataFrame(df['심결가산율'].value_counts()).index\n",
        "rate_list = sorted(rate_list)\n",
        "rate_dict = dict(zip(rate_list, [i for i in range(len(rate_list))]))\n",
        "df_train['심결가산율'] = df_train['심결가산율'].apply(lambda x: rate_dict[x])"
      ],
      "execution_count": null,
      "outputs": []
    },
    {
      "cell_type": "code",
      "metadata": {
        "id": "mBS4oxQ51UuC"
      },
      "source": [
        "for i in df_train.columns:\n",
        "    df_train[i] = df_train[i].astype('category')"
      ],
      "execution_count": null,
      "outputs": []
    },
    {
      "cell_type": "code",
      "metadata": {
        "id": "Fdi8QU6L1Ura"
      },
      "source": [
        "df_train.dtypes"
      ],
      "execution_count": null,
      "outputs": []
    },
    {
      "cell_type": "code",
      "metadata": {
        "id": "HxBBF83f1MPj"
      },
      "source": [
        "df_train.head(3)"
      ],
      "execution_count": null,
      "outputs": []
    },
    {
      "cell_type": "code",
      "metadata": {
        "id": "3JAxiHQR1eat"
      },
      "source": [
        "# df_train.to_csv(\"df_train.csv\")"
      ],
      "execution_count": null,
      "outputs": []
    }
  ]
}