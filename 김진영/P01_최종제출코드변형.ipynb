{
  "nbformat": 4,
  "nbformat_minor": 0,
  "metadata": {
    "colab": {
      "name": "2조_최종제출코드_JY.ipynb",
      "provenance": [],
      "collapsed_sections": [
        "GLHaUbm6cy05"
      ]
    },
    "kernelspec": {
      "name": "python3",
      "display_name": "Python 3"
    },
    "language_info": {
      "name": "python"
    }
  },
  "cells": [
    {
      "cell_type": "markdown",
      "metadata": {
        "id": "1sy_KHoX326m"
      },
      "source": [
        "# 00. 분석준비"
      ]
    },
    {
      "cell_type": "code",
      "metadata": {
        "colab": {
          "base_uri": "https://localhost:8080/"
        },
        "id": "PY8mEOGp3tfQ",
        "outputId": "2907c499-6312-4e8c-996e-061e91ee8cd1"
      },
      "source": [
        "# 준비 \n",
        "\n",
        "# colab 드라이브 연결하기 \n",
        "from google.colab import drive\n",
        "drive.mount('/content/drive')"
      ],
      "execution_count": 1,
      "outputs": [
        {
          "output_type": "stream",
          "name": "stdout",
          "text": [
            "Drive already mounted at /content/drive; to attempt to forcibly remount, call drive.mount(\"/content/drive\", force_remount=True).\n"
          ]
        }
      ]
    },
    {
      "cell_type": "code",
      "metadata": {
        "id": "MKuh6q2C5ltO"
      },
      "source": [
        "!apt-get install -y fonts-nanum > /dev/null\n",
        "!fc-cache -fv > /dev/null\n",
        "!rm -rf ~/.cache/matplotlib > /dev/null"
      ],
      "execution_count": 2,
      "outputs": []
    },
    {
      "cell_type": "code",
      "metadata": {
        "id": "sGQQ88uC3Epo"
      },
      "source": [
        "# 패키지 불러오기\n",
        "import numpy as np\n",
        "import matplotlib as mpl\n",
        "import matplotlib.pyplot as plt\n",
        "mpl.rcParams['axes.unicode_minus'] = False\n",
        "plt.rc('font', family='NanumBarunGothic')\n",
        "\n",
        "import pandas as pd\n",
        "import seaborn as sns\n",
        "\n",
        "import warnings\n",
        "warnings.filterwarnings('ignore')\n",
        "\n",
        "import plotly.graph_objs as go \n",
        "import plotly.express as px\n",
        "\n"
      ],
      "execution_count": 3,
      "outputs": []
    },
    {
      "cell_type": "code",
      "metadata": {
        "colab": {
          "base_uri": "https://localhost:8080/",
          "height": 38
        },
        "id": "XYFbqAGfoFo5",
        "outputId": "95390503-8b3e-45d7-b627-4121240024ae"
      },
      "source": [
        "# 사용자 운영체제 확인\n",
        "import platform\n",
        "platform.system()"
      ],
      "execution_count": 4,
      "outputs": [
        {
          "output_type": "execute_result",
          "data": {
            "application/vnd.google.colaboratory.intrinsic+json": {
              "type": "string"
            },
            "text/plain": [
              "'Linux'"
            ]
          },
          "metadata": {},
          "execution_count": 4
        }
      ]
    },
    {
      "cell_type": "code",
      "metadata": {
        "id": "BCEw-VrUoHF-"
      },
      "source": [
        "# 운영체제별 한글 폰트 설정\n",
        "if platform.system() == 'Darwin': # Mac 환경 폰트 설정\n",
        "    plt.rc('font', family='AppleGothic')\n",
        "elif platform.system() == 'Windows': # Windows 환경 폰트 설정\n",
        "    plt.rc('font', family='Malgun Gothic')\n",
        "\n",
        "plt.rc('axes', unicode_minus=False) # 마이너스 폰트 설정\n",
        "\n",
        "\n",
        "# 글씨 선명하게 출력하는 설정\n",
        "%config InlineBackend.figure_format = 'retina'"
      ],
      "execution_count": 5,
      "outputs": []
    },
    {
      "cell_type": "code",
      "metadata": {
        "id": "97lQ9GGxoLIN"
      },
      "source": [
        "import matplotlib.pyplot as plt\n",
        "import matplotlib.font_manager as fm\n",
        "\n",
        "\n",
        "font_path = r'C:/Windows/Fonts/NanumBarunGothic.ttf'\n",
        "fontprop = fm.FontProperties(fname=font_path, size=18)"
      ],
      "execution_count": 6,
      "outputs": []
    },
    {
      "cell_type": "markdown",
      "metadata": {
        "id": "W3S2b7W935c3"
      },
      "source": [
        "# 01. 데이터 준비"
      ]
    },
    {
      "cell_type": "code",
      "metadata": {
        "id": "ORwoV1pN3k4E"
      },
      "source": [
        "df1 = pd.read_csv(\"/content/drive/MyDrive/data/국민건강보험공단_진료내역정보_20191231/T20_2019_1백만.1.csv\", encoding = \"euc-kr\")\n",
        "df2 = pd.read_csv(\"/content/drive/MyDrive/data/국민건강보험공단_진료내역정보_20191231/T20_2019_1백만.2.csv\", encoding = \"euc-kr\")\n",
        "df3 = pd.read_csv(\"/content/drive/MyDrive/data/국민건강보험공단_진료내역정보_20191231/T20_2019_1백만.3.csv\", encoding = \"euc-kr\")"
      ],
      "execution_count": 7,
      "outputs": []
    },
    {
      "cell_type": "code",
      "metadata": {
        "id": "0ilVTJif394o"
      },
      "source": [
        "# 데이터 합치기 \n",
        "df = pd.concat([df1,df2,df3])\n",
        "del df1, df2, df3"
      ],
      "execution_count": 8,
      "outputs": []
    },
    {
      "cell_type": "markdown",
      "metadata": {
        "id": "zh9x0uZf4KhA"
      },
      "source": [
        "## 1) 타겟 컬럼 생성 : 입원 여부 "
      ]
    },
    {
      "cell_type": "code",
      "metadata": {
        "colab": {
          "base_uri": "https://localhost:8080/"
        },
        "id": "vF35AOs-3_26",
        "outputId": "649dd0fa-44f8-4c4c-e260-03ecfc4cbeb4"
      },
      "source": [
        "# 서식코드 확인 \n",
        "df['서식코드'].unique()"
      ],
      "execution_count": 9,
      "outputs": [
        {
          "output_type": "execute_result",
          "data": {
            "text/plain": [
              "array([3, 2, 8])"
            ]
          },
          "metadata": {},
          "execution_count": 9
        }
      ]
    },
    {
      "cell_type": "code",
      "metadata": {
        "id": "2MyjseRg4Qpb"
      },
      "source": [
        "# 서식코드를 입원여부로 변환\n",
        "# 1이면 입원 O, 0이면 입원 X \n",
        "df.loc[(df['서식코드']==2), '서식코드'] = 1 \n",
        "df.loc[(df['서식코드']==3), '서식코드'] = 0\n",
        "df.loc[(df['서식코드']==8), '서식코드'] = 0"
      ],
      "execution_count": 10,
      "outputs": []
    },
    {
      "cell_type": "code",
      "metadata": {
        "colab": {
          "base_uri": "https://localhost:8080/"
        },
        "id": "PeEpBeq14R9l",
        "outputId": "40133e0c-1eab-4677-a58c-748c08cd821b"
      },
      "source": [
        "# 변환 확인 \n",
        "df['서식코드'].unique()"
      ],
      "execution_count": 11,
      "outputs": [
        {
          "output_type": "execute_result",
          "data": {
            "text/plain": [
              "array([0, 1])"
            ]
          },
          "metadata": {},
          "execution_count": 11
        }
      ]
    },
    {
      "cell_type": "code",
      "metadata": {
        "id": "Vs3x3-3v4T-I"
      },
      "source": [
        "# 컬럼명 변경 \n",
        "df.rename(columns = {'서식코드' : '입원여부'}, inplace= True)"
      ],
      "execution_count": 12,
      "outputs": []
    },
    {
      "cell_type": "markdown",
      "metadata": {
        "id": "hcfILa-F4aMF"
      },
      "source": [
        "## 2) 시도명 컬럼 추가 "
      ]
    },
    {
      "cell_type": "code",
      "metadata": {
        "colab": {
          "base_uri": "https://localhost:8080/",
          "height": 112
        },
        "id": "y0pHW1-74ZW5",
        "outputId": "8c8778de-8b18-488d-976a-d1e77e77db7b"
      },
      "source": [
        "# 시도 데이터 불러오기 \n",
        "df_sido = pd.read_csv(\"/content/drive/MyDrive/data/국민건강보험공단_진료내역정보_20191231/sido.txt\", sep = \"|\")\n",
        "df_sido.head(2)"
      ],
      "execution_count": 13,
      "outputs": [
        {
          "output_type": "execute_result",
          "data": {
            "text/html": [
              "<div>\n",
              "<style scoped>\n",
              "    .dataframe tbody tr th:only-of-type {\n",
              "        vertical-align: middle;\n",
              "    }\n",
              "\n",
              "    .dataframe tbody tr th {\n",
              "        vertical-align: top;\n",
              "    }\n",
              "\n",
              "    .dataframe thead th {\n",
              "        text-align: right;\n",
              "    }\n",
              "</style>\n",
              "<table border=\"1\" class=\"dataframe\">\n",
              "  <thead>\n",
              "    <tr style=\"text-align: right;\">\n",
              "      <th></th>\n",
              "      <th>시도코드</th>\n",
              "      <th>시도명</th>\n",
              "    </tr>\n",
              "  </thead>\n",
              "  <tbody>\n",
              "    <tr>\n",
              "      <th>0</th>\n",
              "      <td>11</td>\n",
              "      <td>서울시</td>\n",
              "    </tr>\n",
              "    <tr>\n",
              "      <th>1</th>\n",
              "      <td>26</td>\n",
              "      <td>부산시</td>\n",
              "    </tr>\n",
              "  </tbody>\n",
              "</table>\n",
              "</div>"
            ],
            "text/plain": [
              "   시도코드    시도명\n",
              "0     11   서울시\n",
              "1     26   부산시"
            ]
          },
          "metadata": {},
          "execution_count": 13
        }
      ]
    },
    {
      "cell_type": "code",
      "metadata": {
        "id": "R4k0TiuF4VSZ"
      },
      "source": [
        "# 시도명 컬럼 추가 \n",
        "df_sido.columns = ['시도코드', '시도명']\n",
        "df = pd.merge(df, df_sido, how = 'left', on = '시도코드')"
      ],
      "execution_count": 14,
      "outputs": []
    },
    {
      "cell_type": "markdown",
      "metadata": {
        "id": "vlSFugH-4kya"
      },
      "source": [
        "## 3) 연령대코드 연령대로 변환 "
      ]
    },
    {
      "cell_type": "code",
      "metadata": {
        "id": "GL0gEgPg4g2G"
      },
      "source": [
        "# 0, 10, 20 ,...,80 대로 변경 \n",
        "count = 0\n",
        "age = 80\n",
        "for i in range(18,0, -1) : \n",
        "  if count == 0 : \n",
        "    df.loc[(df['연령대코드']==i), '연령대코드'] = str(age) \n",
        "    count += 1 \n",
        "  elif count ==1 : \n",
        "    df.loc[(df['연령대코드']==i), '연령대코드'] = str(age) \n",
        "    count = 0 \n",
        "    age -= 10"
      ],
      "execution_count": 15,
      "outputs": []
    },
    {
      "cell_type": "markdown",
      "metadata": {
        "id": "39XiGZmV4rjZ"
      },
      "source": [
        "## 4) 진료과목명 컬럼 추가 "
      ]
    },
    {
      "cell_type": "code",
      "metadata": {
        "colab": {
          "base_uri": "https://localhost:8080/",
          "height": 112
        },
        "id": "OvhWfffK4qHV",
        "outputId": "641e5c3f-fcc3-432a-c97c-884f3b33f94e"
      },
      "source": [
        "# 진료과목코드 데이터 불러오기 \n",
        "df_subject = pd.read_csv(\"/content/drive/MyDrive/data/국민건강보험공단_진료내역정보_20191231/컬럼정보_코드.txt\", sep = '\\t')\n",
        "df_subject.head(2)"
      ],
      "execution_count": 16,
      "outputs": [
        {
          "output_type": "execute_result",
          "data": {
            "text/html": [
              "<div>\n",
              "<style scoped>\n",
              "    .dataframe tbody tr th:only-of-type {\n",
              "        vertical-align: middle;\n",
              "    }\n",
              "\n",
              "    .dataframe tbody tr th {\n",
              "        vertical-align: top;\n",
              "    }\n",
              "\n",
              "    .dataframe thead th {\n",
              "        text-align: right;\n",
              "    }\n",
              "</style>\n",
              "<table border=\"1\" class=\"dataframe\">\n",
              "  <thead>\n",
              "    <tr style=\"text-align: right;\">\n",
              "      <th></th>\n",
              "      <th>00</th>\n",
              "      <th>일반의</th>\n",
              "    </tr>\n",
              "  </thead>\n",
              "  <tbody>\n",
              "    <tr>\n",
              "      <th>0</th>\n",
              "      <td>1</td>\n",
              "      <td>내과</td>\n",
              "    </tr>\n",
              "    <tr>\n",
              "      <th>1</th>\n",
              "      <td>2</td>\n",
              "      <td>신경과</td>\n",
              "    </tr>\n",
              "  </tbody>\n",
              "</table>\n",
              "</div>"
            ],
            "text/plain": [
              "   00  일반의\n",
              "0   1   내과\n",
              "1   2  신경과"
            ]
          },
          "metadata": {},
          "execution_count": 16
        }
      ]
    },
    {
      "cell_type": "code",
      "metadata": {
        "id": "H1M5wUA14wq2"
      },
      "source": [
        "# 안쓰는 데이터 컬럼 제거 \n",
        "df_subject.columns = ['진료과목코드', '진료과목']"
      ],
      "execution_count": 17,
      "outputs": []
    },
    {
      "cell_type": "code",
      "metadata": {
        "id": "bYkABOY04x7j"
      },
      "source": [
        "# 컬럼 합치기 \n",
        "df = pd.merge(df, df_subject, how = 'left', on = '진료과목코드')"
      ],
      "execution_count": 18,
      "outputs": []
    },
    {
      "cell_type": "markdown",
      "metadata": {
        "id": "lNT6MSkp42Ak"
      },
      "source": [
        "## 5) 주상병코드, 부상병코드 컬럼 변환 "
      ]
    },
    {
      "cell_type": "code",
      "metadata": {
        "id": "8kCdlkA64zo7"
      },
      "source": [
        "# 앞의 한 글자만 추출 \n",
        "df['주상병코드'] = df['주상병코드'].str[:1]\n",
        "df['부상병코드'] = df['부상병코드'].str[:1]"
      ],
      "execution_count": 19,
      "outputs": []
    },
    {
      "cell_type": "code",
      "metadata": {
        "colab": {
          "base_uri": "https://localhost:8080/"
        },
        "id": "oZc0alpo49Oe",
        "outputId": "1bc0b039-1da3-4f24-91ff-e165e571736d"
      },
      "source": [
        "df.columns"
      ],
      "execution_count": 20,
      "outputs": [
        {
          "output_type": "execute_result",
          "data": {
            "text/plain": [
              "Index(['기준년도', '가입자 일련번호', '진료내역일련번호', '성별코드', '연령대코드', '시도코드', '요양개시일자',\n",
              "       '입원여부', '진료과목코드', '주상병코드', '부상병코드', '요양일수', '입내원일수', '심결가산율',\n",
              "       '심결요양급여비용총액', '심결본인부담금', '심결보험자부담금', '총처방일수', '데이터 기준일자', '시도명',\n",
              "       '진료과목'],\n",
              "      dtype='object')"
            ]
          },
          "metadata": {},
          "execution_count": 20
        }
      ]
    },
    {
      "cell_type": "code",
      "metadata": {
        "id": "kCUdMoRr5A3j"
      },
      "source": [
        "# 사용하지 않는 컬럼 제거 \n",
        "df.drop(['기준년도', '가입자 일련번호', '진료내역일련번호','요양일수', '입내원일수', '심결요양급여비용총액','심결본인부담금', '심결보험자부담금', '총처방일수', '데이터 기준일자'], axis =1, inplace = True)"
      ],
      "execution_count": 21,
      "outputs": []
    },
    {
      "cell_type": "code",
      "metadata": {
        "id": "wZjepQ475TBx",
        "colab": {
          "base_uri": "https://localhost:8080/",
          "height": 112
        },
        "outputId": "2c272365-74df-4963-99ee-d093a8fab545"
      },
      "source": [
        "df.tail(2)"
      ],
      "execution_count": 22,
      "outputs": [
        {
          "output_type": "execute_result",
          "data": {
            "text/html": [
              "<div>\n",
              "<style scoped>\n",
              "    .dataframe tbody tr th:only-of-type {\n",
              "        vertical-align: middle;\n",
              "    }\n",
              "\n",
              "    .dataframe tbody tr th {\n",
              "        vertical-align: top;\n",
              "    }\n",
              "\n",
              "    .dataframe thead th {\n",
              "        text-align: right;\n",
              "    }\n",
              "</style>\n",
              "<table border=\"1\" class=\"dataframe\">\n",
              "  <thead>\n",
              "    <tr style=\"text-align: right;\">\n",
              "      <th></th>\n",
              "      <th>성별코드</th>\n",
              "      <th>연령대코드</th>\n",
              "      <th>시도코드</th>\n",
              "      <th>요양개시일자</th>\n",
              "      <th>입원여부</th>\n",
              "      <th>진료과목코드</th>\n",
              "      <th>주상병코드</th>\n",
              "      <th>부상병코드</th>\n",
              "      <th>심결가산율</th>\n",
              "      <th>시도명</th>\n",
              "      <th>진료과목</th>\n",
              "    </tr>\n",
              "  </thead>\n",
              "  <tbody>\n",
              "    <tr>\n",
              "      <th>13178343</th>\n",
              "      <td>2</td>\n",
              "      <td>0</td>\n",
              "      <td>47</td>\n",
              "      <td>20190612</td>\n",
              "      <td>1</td>\n",
              "      <td>11</td>\n",
              "      <td>P</td>\n",
              "      <td>P</td>\n",
              "      <td>0.25</td>\n",
              "      <td>경상북도</td>\n",
              "      <td>소아청소년과</td>\n",
              "    </tr>\n",
              "    <tr>\n",
              "      <th>13178344</th>\n",
              "      <td>2</td>\n",
              "      <td>0</td>\n",
              "      <td>47</td>\n",
              "      <td>20191230</td>\n",
              "      <td>0</td>\n",
              "      <td>13</td>\n",
              "      <td>J</td>\n",
              "      <td>J</td>\n",
              "      <td>0.15</td>\n",
              "      <td>경상북도</td>\n",
              "      <td>이비인후과</td>\n",
              "    </tr>\n",
              "  </tbody>\n",
              "</table>\n",
              "</div>"
            ],
            "text/plain": [
              "          성별코드 연령대코드  시도코드    요양개시일자  입원여부  ...  주상병코드 부상병코드 심결가산율    시도명    진료과목\n",
              "13178343     2     0    47  20190612     1  ...      P     P  0.25   경상북도  소아청소년과\n",
              "13178344     2     0    47  20191230     0  ...      J     J  0.15   경상북도   이비인후과\n",
              "\n",
              "[2 rows x 11 columns]"
            ]
          },
          "metadata": {},
          "execution_count": 22
        }
      ]
    },
    {
      "cell_type": "code",
      "metadata": {
        "colab": {
          "base_uri": "https://localhost:8080/",
          "height": 112
        },
        "id": "3c4fDDLc53kF",
        "outputId": "da40beca-0eac-47c0-8a2b-8ec319b78126"
      },
      "source": [
        "df.to_csv(\"/content/drive/MyDrive/data/국민건강보험공단_진료내역정보_20191231/df2.csv\", index = False)\n",
        "df = pd.read_csv(\"/content/drive/MyDrive/data/국민건강보험공단_진료내역정보_20191231/df2.csv\")\n",
        "df.head(2)"
      ],
      "execution_count": 23,
      "outputs": [
        {
          "output_type": "execute_result",
          "data": {
            "text/html": [
              "<div>\n",
              "<style scoped>\n",
              "    .dataframe tbody tr th:only-of-type {\n",
              "        vertical-align: middle;\n",
              "    }\n",
              "\n",
              "    .dataframe tbody tr th {\n",
              "        vertical-align: top;\n",
              "    }\n",
              "\n",
              "    .dataframe thead th {\n",
              "        text-align: right;\n",
              "    }\n",
              "</style>\n",
              "<table border=\"1\" class=\"dataframe\">\n",
              "  <thead>\n",
              "    <tr style=\"text-align: right;\">\n",
              "      <th></th>\n",
              "      <th>성별코드</th>\n",
              "      <th>연령대코드</th>\n",
              "      <th>시도코드</th>\n",
              "      <th>요양개시일자</th>\n",
              "      <th>입원여부</th>\n",
              "      <th>진료과목코드</th>\n",
              "      <th>주상병코드</th>\n",
              "      <th>부상병코드</th>\n",
              "      <th>심결가산율</th>\n",
              "      <th>시도명</th>\n",
              "      <th>진료과목</th>\n",
              "    </tr>\n",
              "  </thead>\n",
              "  <tbody>\n",
              "    <tr>\n",
              "      <th>0</th>\n",
              "      <td>2</td>\n",
              "      <td>50</td>\n",
              "      <td>46</td>\n",
              "      <td>20191104</td>\n",
              "      <td>0</td>\n",
              "      <td>5</td>\n",
              "      <td>M</td>\n",
              "      <td>M</td>\n",
              "      <td>0.25</td>\n",
              "      <td>전라남도</td>\n",
              "      <td>정형외과</td>\n",
              "    </tr>\n",
              "    <tr>\n",
              "      <th>1</th>\n",
              "      <td>2</td>\n",
              "      <td>50</td>\n",
              "      <td>46</td>\n",
              "      <td>20190806</td>\n",
              "      <td>0</td>\n",
              "      <td>1</td>\n",
              "      <td>E</td>\n",
              "      <td>N</td>\n",
              "      <td>0.25</td>\n",
              "      <td>전라남도</td>\n",
              "      <td>내과</td>\n",
              "    </tr>\n",
              "  </tbody>\n",
              "</table>\n",
              "</div>"
            ],
            "text/plain": [
              "   성별코드  연령대코드  시도코드    요양개시일자  입원여부  진료과목코드 주상병코드 부상병코드  심결가산율    시도명  진료과목\n",
              "0     2     50    46  20191104     0       5     M     M   0.25   전라남도  정형외과\n",
              "1     2     50    46  20190806     0       1     E     N   0.25   전라남도    내과"
            ]
          },
          "metadata": {},
          "execution_count": 23
        }
      ]
    },
    {
      "cell_type": "markdown",
      "metadata": {
        "id": "9EfCea6E5ZOi"
      },
      "source": [
        "# 02. 데이터 탐색 및 시각화 (EDA)"
      ]
    },
    {
      "cell_type": "markdown",
      "metadata": {
        "id": "GdR35wlI5u3-"
      },
      "source": [
        "## 1) 입원비율 "
      ]
    },
    {
      "cell_type": "code",
      "metadata": {
        "colab": {
          "base_uri": "https://localhost:8080/"
        },
        "id": "OhKTH0Br5Vqw",
        "outputId": "c12ac2de-06c0-4d33-9273-5ebd7d40f2e2"
      },
      "source": [
        "# 입원 비율 (모든 방문 횟수에 대해서)\n",
        "df['입원여부'].mean()"
      ],
      "execution_count": 24,
      "outputs": [
        {
          "output_type": "execute_result",
          "data": {
            "text/plain": [
              "0.021547622254539548"
            ]
          },
          "metadata": {},
          "execution_count": 24
        }
      ]
    },
    {
      "cell_type": "code",
      "metadata": {
        "colab": {
          "base_uri": "https://localhost:8080/",
          "height": 264
        },
        "id": "G5-eDktf5y7g",
        "outputId": "89dd0da5-12de-43ec-a914-4b4513fbf987"
      },
      "source": [
        "df_temp = df['입원여부'].value_counts()\n",
        "df_temp.plot.pie(autopct='%.2f%%')\n",
        "plt.title('입원 여부')\n",
        "plt.axis('equal')\n",
        "plt.show()"
      ],
      "execution_count": 25,
      "outputs": [
        {
          "output_type": "display_data",
          "data": {
            "image/png": "[encoded data removed]",
            "text/plain": [
              "<Figure size 432x288 with 1 Axes>"
            ]
          },
          "metadata": {
            "image/png": {
              "width": 364,
              "height": 247
            }
          }
        }
      ]
    },
    {
      "cell_type": "markdown",
      "metadata": {
        "id": "tq9r-Pjv8JiI"
      },
      "source": [
        "## 2) 연령별 입원 비율 "
      ]
    },
    {
      "cell_type": "code",
      "metadata": {
        "id": "TeRJh0EV514F"
      },
      "source": [
        "# 연령대로 count \n",
        "df_0 = df.groupby(['연령대코드']).count()\n",
        "df_1 = df.groupby(['연령대코드', '입원여부']).count()"
      ],
      "execution_count": 26,
      "outputs": []
    },
    {
      "cell_type": "code",
      "metadata": {
        "colab": {
          "base_uri": "https://localhost:8080/",
          "height": 533
        },
        "id": "R6eVsW9g8Sgg",
        "outputId": "2ec47275-084a-407d-c392-5bf2b8fa4c76"
      },
      "source": [
        "age = ['0~9','10대','20대','30대','40대','50대','60대','70대','80대']\n",
        "data={\n",
        "    '비입원' : [1230624, 528143, 608161, 853802, 1105645, 1564150, 1743195, 1449059, 695962],\n",
        "    '입원' : [19643, 5762, 9845, 15738, 18390, 31328, 36297, 35026, 43195]\n",
        "}\n",
        "df_temp=pd.DataFrame(data,index=age)\n",
        "\n",
        "df_temp.plot(kind=\"bar\",stacked=True,figsize=(10,8))\n",
        "plt.legend(loc=\"lower left\",bbox_to_anchor=(0.8,1.0))\n",
        "plt.show()"
      ],
      "execution_count": 27,
      "outputs": [
        {
          "output_type": "display_data",
          "data": {
            "image/png": "[encoded data removed]",
            "text/plain": [
              "<Figure size 720x576 with 1 Axes>"
            ]
          },
          "metadata": {
            "image/png": {
              "width": 599,
              "height": 516
            },
            "needs_background": "light"
          }
        }
      ]
    },
    {
      "cell_type": "code",
      "metadata": {
        "colab": {
          "base_uri": "https://localhost:8080/",
          "height": 533
        },
        "id": "7IJ29Jot8aco",
        "outputId": "a6647713-8ada-4a79-b53b-7e58f8be8745"
      },
      "source": [
        "age = ['0~9','10대','20대','30대','40대','50대','60대','70대','80대']\n",
        "data={\n",
        "    '비입원' : [1230624/1250267, 528143/533905, 608161/618006, 853802/869540,\\\n",
        "             1105645/1124035, 1564150/1595478, 1743195/1779492, 1449059/1484085, 695962/739157],\n",
        "    '입원' : [19643/1250267, 5762/533905, 9845/618006, 15738/869540,\\\n",
        "            18390/1124035, 31328/1595478, 36297/1779492, 35026/1484085, 43195/739157]\n",
        "}\n",
        "df_temp=pd.DataFrame(data,index=age)\n",
        "\n",
        "df_temp.plot(kind=\"bar\",stacked=True,figsize=(10,8))\n",
        "plt.legend(loc=\"lower left\",bbox_to_anchor=(0.8,1.0))\n",
        "plt.show()"
      ],
      "execution_count": 28,
      "outputs": [
        {
          "output_type": "display_data",
          "data": {
            "image/png": "[encoded data removed]",
            "text/plain": [
              "<Figure size 720x576 with 1 Axes>"
            ]
          },
          "metadata": {
            "image/png": {
              "width": 594,
              "height": 516
            },
            "needs_background": "light"
          }
        }
      ]
    },
    {
      "cell_type": "code",
      "metadata": {
        "colab": {
          "base_uri": "https://localhost:8080/",
          "height": 248
        },
        "id": "g5ZDGau-8eYx",
        "outputId": "83fb8542-ba20-46a2-87d9-232c281f86ac"
      },
      "source": [
        "# 연령별 입원환자 비율\n",
        "ratio = [19643, 5762, 9845, 15738, 18390, 31328, 36297, 35026, 43195]\n",
        "labels = ['0~9','10대','20대','30대','40대','50대','60대','70대','80대']\n",
        "\n",
        "plt.pie(ratio, labels=labels, autopct='%.1f%%')\n",
        "plt.show()"
      ],
      "execution_count": 29,
      "outputs": [
        {
          "output_type": "display_data",
          "data": {
            "image/png": "[encoded data removed]",
            "text/plain": [
              "<Figure size 432x288 with 1 Axes>"
            ]
          },
          "metadata": {
            "image/png": {
              "width": 235,
              "height": 231
            }
          }
        }
      ]
    },
    {
      "cell_type": "code",
      "metadata": {
        "colab": {
          "base_uri": "https://localhost:8080/"
        },
        "id": "qR--6Yy88rt3",
        "outputId": "66f32ead-c8d0-433d-f116-94a3be728a8f"
      },
      "source": [
        "## 진료 횟수별로\n",
        "df_age1 = df['연령대코드'].value_counts().sort_index()\n",
        "df_age1"
      ],
      "execution_count": 30,
      "outputs": [
        {
          "output_type": "execute_result",
          "data": {
            "text/plain": [
              "0     1650030\n",
              "10     705121\n",
              "20     812876\n",
              "30    1144721\n",
              "40    1479872\n",
              "50    2104654\n",
              "60    2352891\n",
              "70    1955731\n",
              "80     972449\n",
              "Name: 연령대코드, dtype: int64"
            ]
          },
          "metadata": {},
          "execution_count": 30
        }
      ]
    },
    {
      "cell_type": "code",
      "metadata": {
        "colab": {
          "base_uri": "https://localhost:8080/",
          "height": 297
        },
        "id": "eQMKH1gc8u0x",
        "outputId": "0b8109b9-07b4-4a40-8061-56a19f244ce2"
      },
      "source": [
        "df_age1.plot(kind='bar', rot=0)\n",
        "plt.title(\"연령대별 환자 수\")\n",
        "plt.xlabel(\"나이\")\n",
        "plt.ylabel(\"환자 수\")\n",
        "plt.show()"
      ],
      "execution_count": 31,
      "outputs": [
        {
          "output_type": "display_data",
          "data": {
            "image/png": "[encoded data removed]",
            "text/plain": [
              "<Figure size 432x288 with 1 Axes>"
            ]
          },
          "metadata": {
            "image/png": {
              "width": 385,
              "height": 280
            },
            "needs_background": "light"
          }
        }
      ]
    },
    {
      "cell_type": "markdown",
      "metadata": {
        "id": "0Ix1QQc-84ES"
      },
      "source": [
        "## 3) 시도 별 입원 비율 "
      ]
    },
    {
      "cell_type": "code",
      "metadata": {
        "colab": {
          "base_uri": "https://localhost:8080/",
          "height": 206
        },
        "id": "EOOmDxGM8xd_",
        "outputId": "72baae4a-f210-4842-d57f-1853d1fd325c"
      },
      "source": [
        "# 시도별 입원 여부 회수 데이터프레임 생성 \n",
        "df_sido = pd.crosstab(index = df['시도명'], columns= df['입원여부'] )\n",
        "df_sido.reset_index(inplace = True)\n",
        "df_sido.columns = ['시도명','입원 X', \"입원 O\"]\n",
        "df_sido.head()"
      ],
      "execution_count": 32,
      "outputs": [
        {
          "output_type": "execute_result",
          "data": {
            "text/html": [
              "<div>\n",
              "<style scoped>\n",
              "    .dataframe tbody tr th:only-of-type {\n",
              "        vertical-align: middle;\n",
              "    }\n",
              "\n",
              "    .dataframe tbody tr th {\n",
              "        vertical-align: top;\n",
              "    }\n",
              "\n",
              "    .dataframe thead th {\n",
              "        text-align: right;\n",
              "    }\n",
              "</style>\n",
              "<table border=\"1\" class=\"dataframe\">\n",
              "  <thead>\n",
              "    <tr style=\"text-align: right;\">\n",
              "      <th></th>\n",
              "      <th>시도명</th>\n",
              "      <th>입원 X</th>\n",
              "      <th>입원 O</th>\n",
              "    </tr>\n",
              "  </thead>\n",
              "  <tbody>\n",
              "    <tr>\n",
              "      <th>0</th>\n",
              "      <td>강원도</td>\n",
              "      <td>356466</td>\n",
              "      <td>7928</td>\n",
              "    </tr>\n",
              "    <tr>\n",
              "      <th>1</th>\n",
              "      <td>경기도</td>\n",
              "      <td>3143574</td>\n",
              "      <td>57946</td>\n",
              "    </tr>\n",
              "    <tr>\n",
              "      <th>2</th>\n",
              "      <td>경상남도</td>\n",
              "      <td>839227</td>\n",
              "      <td>24848</td>\n",
              "    </tr>\n",
              "    <tr>\n",
              "      <th>3</th>\n",
              "      <td>경상북도</td>\n",
              "      <td>690849</td>\n",
              "      <td>17174</td>\n",
              "    </tr>\n",
              "    <tr>\n",
              "      <th>4</th>\n",
              "      <td>광주시</td>\n",
              "      <td>337543</td>\n",
              "      <td>11748</td>\n",
              "    </tr>\n",
              "  </tbody>\n",
              "</table>\n",
              "</div>"
            ],
            "text/plain": [
              "     시도명     입원 X   입원 O\n",
              "0    강원도   356466   7928\n",
              "1    경기도  3143574  57946\n",
              "2   경상남도   839227  24848\n",
              "3   경상북도   690849  17174\n",
              "4    광주시   337543  11748"
            ]
          },
          "metadata": {},
          "execution_count": 32
        }
      ]
    },
    {
      "cell_type": "code",
      "metadata": {
        "id": "ktj2L4X49AZ2"
      },
      "source": [
        "# 비율 추가 \n",
        "df_sido['비율O'] = df_sido['입원 O'] / (df_sido['입원 O'] + df_sido['입원 X'])\n",
        "df_sido['비율X'] = df_sido['입원 X'] / (df_sido['입원 O'] + df_sido['입원 X'])"
      ],
      "execution_count": 33,
      "outputs": []
    },
    {
      "cell_type": "code",
      "metadata": {
        "colab": {
          "base_uri": "https://localhost:8080/",
          "height": 542
        },
        "id": "VHoMt7Iz9Cnf",
        "outputId": "fe1a528d-ffab-42dc-a23b-13d7000a0cba"
      },
      "source": [
        "# 시각화\n",
        "fig = go.Figure()\n",
        "\n",
        "fig.add_trace(go.Bar(x = df_sido['시도명'], y = df_sido['비율X'], name = '입원 X'))\n",
        "fig.add_trace(go.Bar(x = df_sido['시도명'], y = df_sido['비율O'], name = '입원 O'))\n",
        "\n",
        "fig.update_layout(title = '시도별 입원 여부 비율', xaxis_title = '시도명', yaxis_title = '비율', barmode=\"stack\" )\n",
        "\n",
        "fig.show()\n",
        "fig.write_html(\"/content/drive/MyDrive/data/국민건강보험공단_진료내역정보_20191231/sido.html\")"
      ],
      "execution_count": 35,
      "outputs": [
        {
          "output_type": "display_data",
          "data": {
            "text/html": [
              "<html>\n",
              "<head><meta charset=\"utf-8\" /></head>\n",
              "<body>\n",
              "    <div>\n",
              "            <script src=\"https://cdnjs.cloudflare.com/ajax/libs/mathjax/2.7.5/MathJax.js?config=TeX-AMS-MML_SVG\"></script><script type=\"text/javascript\">if (window.MathJax) {MathJax.Hub.Config({SVG: {font: \"STIX-Web\"}});}</script>\n",
              "                <script type=\"text/javascript\">window.PlotlyConfig = {MathJaxConfig: 'local'};</script>\n",
              "        <script src=\"https://cdn.plot.ly/plotly-latest.min.js\"></script>    \n",
              "            <div id=\"48166b61-93af-4a8e-a15f-d74427cd6078\" class=\"plotly-graph-div\" style=\"height:525px; width:100%;\"></div>\n",
              "            <script type=\"text/javascript\">\n",
              "                \n",
              "                    window.PLOTLYENV=window.PLOTLYENV || {};\n",
              "                    \n",
              "                if (document.getElementById(\"48166b61-93af-4a8e-a15f-d74427cd6078\")) {\n",
              "                    Plotly.newPlot(\n",
              "                        '48166b61-93af-4a8e-a15f-d74427cd6078',\n",
              "                        [{\"name\": \"\\uc785\\uc6d0 X\", \"type\": \"bar\", \"x\": [\" \\uac15\\uc6d0\\ub3c4\", \" \\uacbd\\uae30\\ub3c4\", \" \\uacbd\\uc0c1\\ub0a8\\ub3c4\", \" \\uacbd\\uc0c1\\ubd81\\ub3c4\", \" \\uad11\\uc8fc\\uc2dc\", \" \\ub300\\uad6c\\uc2dc\", \" \\ub300\\uc804\\uc2dc\", \" \\ubd80\\uc0b0\\uc2dc\", \" \\uc11c\\uc6b8\\uc2dc\", \" \\uc138\\uc885\\uc2dc\", \" \\uc6b8\\uc0b0\\uc2dc\", \" \\uc778\\ucc9c\\uc2dc\", \" \\uc804\\ub77c\\ub0a8\\ub3c4\", \" \\uc804\\ub77c\\ubd81\\ub3c4\", \" \\uc81c\\uc8fc\\ub3c4\", \" \\ucda9\\uccad\\ub0a8\\ub3c4\", \" \\ucda9\\uccad\\ubd81\\ub3c4\"], \"y\": [0.9782433300218993, 0.981900472275669, 0.97124323698753, 0.9757437258394148, 0.9663661531502387, 0.9815145884998445, 0.9812802625970254, 0.9747122955784373, 0.9831669012919583, 0.984925418706956, 0.9764605039958799, 0.9783329488700949, 0.9659980842980602, 0.9725241358117279, 0.980363169786059, 0.9776865102887629, 0.9806202169641003]}, {\"name\": \"\\uc785\\uc6d0 O\", \"type\": \"bar\", \"x\": [\" \\uac15\\uc6d0\\ub3c4\", \" \\uacbd\\uae30\\ub3c4\", \" \\uacbd\\uc0c1\\ub0a8\\ub3c4\", \" \\uacbd\\uc0c1\\ubd81\\ub3c4\", \" \\uad11\\uc8fc\\uc2dc\", \" \\ub300\\uad6c\\uc2dc\", \" \\ub300\\uc804\\uc2dc\", \" \\ubd80\\uc0b0\\uc2dc\", \" \\uc11c\\uc6b8\\uc2dc\", \" \\uc138\\uc885\\uc2dc\", \" \\uc6b8\\uc0b0\\uc2dc\", \" \\uc778\\ucc9c\\uc2dc\", \" \\uc804\\ub77c\\ub0a8\\ub3c4\", \" \\uc804\\ub77c\\ubd81\\ub3c4\", \" \\uc81c\\uc8fc\\ub3c4\", \" \\ucda9\\uccad\\ub0a8\\ub3c4\", \" \\ucda9\\uccad\\ubd81\\ub3c4\"], \"y\": [0.021756669978100628, 0.018099527724330943, 0.02875676301246998, 0.02425627416058518, 0.033633846849761374, 0.018485411500155494, 0.018719737402974636, 0.02528770442156269, 0.01683309870804174, 0.01507458129304398, 0.02353949600412013, 0.021667051129905034, 0.034001915701939736, 0.027475864188272137, 0.019636830213941033, 0.022313489711237193, 0.01937978303589973]}],\n",
              "                        {\"barmode\": \"stack\", \"template\": {\"data\": {\"bar\": [{\"error_x\": {\"color\": \"#2a3f5f\"}, \"error_y\": {\"color\": \"#2a3f5f\"}, \"marker\": {\"line\": {\"color\": \"#E5ECF6\", \"width\": 0.5}}, \"type\": \"bar\"}], \"barpolar\": [{\"marker\": {\"line\": {\"color\": \"#E5ECF6\", \"width\": 0.5}}, \"type\": \"barpolar\"}], \"carpet\": [{\"aaxis\": {\"endlinecolor\": \"#2a3f5f\", \"gridcolor\": \"white\", \"linecolor\": \"white\", \"minorgridcolor\": \"white\", \"startlinecolor\": \"#2a3f5f\"}, \"baxis\": {\"endlinecolor\": \"#2a3f5f\", \"gridcolor\": \"white\", \"linecolor\": \"white\", \"minorgridcolor\": \"white\", \"startlinecolor\": \"#2a3f5f\"}, \"type\": \"carpet\"}], \"choropleth\": [{\"colorbar\": {\"outlinewidth\": 0, \"ticks\": \"\"}, \"type\": \"choropleth\"}], \"contour\": [{\"colorbar\": {\"outlinewidth\": 0, \"ticks\": \"\"}, \"colorscale\": [[0.0, \"#0d0887\"], [0.1111111111111111, \"#46039f\"], [0.2222222222222222, \"#7201a8\"], [0.3333333333333333, \"#9c179e\"], [0.4444444444444444, \"#bd3786\"], [0.5555555555555556, \"#d8576b\"], [0.6666666666666666, \"#ed7953\"], [0.7777777777777778, \"#fb9f3a\"], [0.8888888888888888, \"#fdca26\"], [1.0, \"#f0f921\"]], \"type\": \"contour\"}], \"contourcarpet\": [{\"colorbar\": {\"outlinewidth\": 0, \"ticks\": \"\"}, \"type\": \"contourcarpet\"}], \"heatmap\": [{\"colorbar\": {\"outlinewidth\": 0, \"ticks\": \"\"}, \"colorscale\": [[0.0, \"#0d0887\"], [0.1111111111111111, \"#46039f\"], [0.2222222222222222, \"#7201a8\"], [0.3333333333333333, \"#9c179e\"], [0.4444444444444444, \"#bd3786\"], [0.5555555555555556, \"#d8576b\"], [0.6666666666666666, \"#ed7953\"], [0.7777777777777778, \"#fb9f3a\"], [0.8888888888888888, \"#fdca26\"], [1.0, \"#f0f921\"]], \"type\": \"heatmap\"}], \"heatmapgl\": [{\"colorbar\": {\"outlinewidth\": 0, \"ticks\": \"\"}, \"colorscale\": [[0.0, \"#0d0887\"], [0.1111111111111111, \"#46039f\"], [0.2222222222222222, \"#7201a8\"], [0.3333333333333333, \"#9c179e\"], [0.4444444444444444, \"#bd3786\"], [0.5555555555555556, \"#d8576b\"], [0.6666666666666666, \"#ed7953\"], [0.7777777777777778, \"#fb9f3a\"], [0.8888888888888888, \"#fdca26\"], [1.0, \"#f0f921\"]], \"type\": \"heatmapgl\"}], \"histogram\": [{\"marker\": {\"colorbar\": {\"outlinewidth\": 0, \"ticks\": \"\"}}, \"type\": \"histogram\"}], \"histogram2d\": [{\"colorbar\": {\"outlinewidth\": 0, \"ticks\": \"\"}, \"colorscale\": [[0.0, \"#0d0887\"], [0.1111111111111111, \"#46039f\"], [0.2222222222222222, \"#7201a8\"], [0.3333333333333333, \"#9c179e\"], [0.4444444444444444, \"#bd3786\"], [0.5555555555555556, \"#d8576b\"], [0.6666666666666666, \"#ed7953\"], [0.7777777777777778, \"#fb9f3a\"], [0.8888888888888888, \"#fdca26\"], [1.0, \"#f0f921\"]], \"type\": \"histogram2d\"}], \"histogram2dcontour\": [{\"colorbar\": {\"outlinewidth\": 0, \"ticks\": \"\"}, \"colorscale\": [[0.0, \"#0d0887\"], [0.1111111111111111, \"#46039f\"], [0.2222222222222222, \"#7201a8\"], [0.3333333333333333, \"#9c179e\"], [0.4444444444444444, \"#bd3786\"], [0.5555555555555556, \"#d8576b\"], [0.6666666666666666, \"#ed7953\"], [0.7777777777777778, \"#fb9f3a\"], [0.8888888888888888, \"#fdca26\"], [1.0, \"#f0f921\"]], \"type\": \"histogram2dcontour\"}], \"mesh3d\": [{\"colorbar\": {\"outlinewidth\": 0, \"ticks\": \"\"}, \"type\": \"mesh3d\"}], \"parcoords\": [{\"line\": {\"colorbar\": {\"outlinewidth\": 0, \"ticks\": \"\"}}, \"type\": \"parcoords\"}], \"pie\": [{\"automargin\": true, \"type\": \"pie\"}], \"scatter\": [{\"marker\": {\"colorbar\": {\"outlinewidth\": 0, \"ticks\": \"\"}}, \"type\": \"scatter\"}], \"scatter3d\": [{\"line\": {\"colorbar\": {\"outlinewidth\": 0, \"ticks\": \"\"}}, \"marker\": {\"colorbar\": {\"outlinewidth\": 0, \"ticks\": \"\"}}, \"type\": \"scatter3d\"}], \"scattercarpet\": [{\"marker\": {\"colorbar\": {\"outlinewidth\": 0, \"ticks\": \"\"}}, \"type\": \"scattercarpet\"}], \"scattergeo\": [{\"marker\": {\"colorbar\": {\"outlinewidth\": 0, \"ticks\": \"\"}}, \"type\": \"scattergeo\"}], \"scattergl\": [{\"marker\": {\"colorbar\": {\"outlinewidth\": 0, \"ticks\": \"\"}}, \"type\": \"scattergl\"}], \"scattermapbox\": [{\"marker\": {\"colorbar\": {\"outlinewidth\": 0, \"ticks\": \"\"}}, \"type\": \"scattermapbox\"}], \"scatterpolar\": [{\"marker\": {\"colorbar\": {\"outlinewidth\": 0, \"ticks\": \"\"}}, \"type\": \"scatterpolar\"}], \"scatterpolargl\": [{\"marker\": {\"colorbar\": {\"outlinewidth\": 0, \"ticks\": \"\"}}, \"type\": \"scatterpolargl\"}], \"scatterternary\": [{\"marker\": {\"colorbar\": {\"outlinewidth\": 0, \"ticks\": \"\"}}, \"type\": \"scatterternary\"}], \"surface\": [{\"colorbar\": {\"outlinewidth\": 0, \"ticks\": \"\"}, \"colorscale\": [[0.0, \"#0d0887\"], [0.1111111111111111, \"#46039f\"], [0.2222222222222222, \"#7201a8\"], [0.3333333333333333, \"#9c179e\"], [0.4444444444444444, \"#bd3786\"], [0.5555555555555556, \"#d8576b\"], [0.6666666666666666, \"#ed7953\"], [0.7777777777777778, \"#fb9f3a\"], [0.8888888888888888, \"#fdca26\"], [1.0, \"#f0f921\"]], \"type\": \"surface\"}], \"table\": [{\"cells\": {\"fill\": {\"color\": \"#EBF0F8\"}, \"line\": {\"color\": \"white\"}}, \"header\": {\"fill\": {\"color\": \"#C8D4E3\"}, \"line\": {\"color\": \"white\"}}, \"type\": \"table\"}]}, \"layout\": {\"annotationdefaults\": {\"arrowcolor\": \"#2a3f5f\", \"arrowhead\": 0, \"arrowwidth\": 1}, \"coloraxis\": {\"colorbar\": {\"outlinewidth\": 0, \"ticks\": \"\"}}, \"colorscale\": {\"diverging\": [[0, \"#8e0152\"], [0.1, \"#c51b7d\"], [0.2, \"#de77ae\"], [0.3, \"#f1b6da\"], [0.4, \"#fde0ef\"], [0.5, \"#f7f7f7\"], [0.6, \"#e6f5d0\"], [0.7, \"#b8e186\"], [0.8, \"#7fbc41\"], [0.9, \"#4d9221\"], [1, \"#276419\"]], \"sequential\": [[0.0, \"#0d0887\"], [0.1111111111111111, \"#46039f\"], [0.2222222222222222, \"#7201a8\"], [0.3333333333333333, \"#9c179e\"], [0.4444444444444444, \"#bd3786\"], [0.5555555555555556, \"#d8576b\"], [0.6666666666666666, \"#ed7953\"], [0.7777777777777778, \"#fb9f3a\"], [0.8888888888888888, \"#fdca26\"], [1.0, \"#f0f921\"]], \"sequentialminus\": [[0.0, \"#0d0887\"], [0.1111111111111111, \"#46039f\"], [0.2222222222222222, \"#7201a8\"], [0.3333333333333333, \"#9c179e\"], [0.4444444444444444, \"#bd3786\"], [0.5555555555555556, \"#d8576b\"], [0.6666666666666666, \"#ed7953\"], [0.7777777777777778, \"#fb9f3a\"], [0.8888888888888888, \"#fdca26\"], [1.0, \"#f0f921\"]]}, \"colorway\": [\"#636efa\", \"#EF553B\", \"#00cc96\", \"#ab63fa\", \"#FFA15A\", \"#19d3f3\", \"#FF6692\", \"#B6E880\", \"#FF97FF\", \"#FECB52\"], \"font\": {\"color\": \"#2a3f5f\"}, \"geo\": {\"bgcolor\": \"white\", \"lakecolor\": \"white\", \"landcolor\": \"#E5ECF6\", \"showlakes\": true, \"showland\": true, \"subunitcolor\": \"white\"}, \"hoverlabel\": {\"align\": \"left\"}, \"hovermode\": \"closest\", \"mapbox\": {\"style\": \"light\"}, \"paper_bgcolor\": \"white\", \"plot_bgcolor\": \"#E5ECF6\", \"polar\": {\"angularaxis\": {\"gridcolor\": \"white\", \"linecolor\": \"white\", \"ticks\": \"\"}, \"bgcolor\": \"#E5ECF6\", \"radialaxis\": {\"gridcolor\": \"white\", \"linecolor\": \"white\", \"ticks\": \"\"}}, \"scene\": {\"xaxis\": {\"backgroundcolor\": \"#E5ECF6\", \"gridcolor\": \"white\", \"gridwidth\": 2, \"linecolor\": \"white\", \"showbackground\": true, \"ticks\": \"\", \"zerolinecolor\": \"white\"}, \"yaxis\": {\"backgroundcolor\": \"#E5ECF6\", \"gridcolor\": \"white\", \"gridwidth\": 2, \"linecolor\": \"white\", \"showbackground\": true, \"ticks\": \"\", \"zerolinecolor\": \"white\"}, \"zaxis\": {\"backgroundcolor\": \"#E5ECF6\", \"gridcolor\": \"white\", \"gridwidth\": 2, \"linecolor\": \"white\", \"showbackground\": true, \"ticks\": \"\", \"zerolinecolor\": \"white\"}}, \"shapedefaults\": {\"line\": {\"color\": \"#2a3f5f\"}}, \"ternary\": {\"aaxis\": {\"gridcolor\": \"white\", \"linecolor\": \"white\", \"ticks\": \"\"}, \"baxis\": {\"gridcolor\": \"white\", \"linecolor\": \"white\", \"ticks\": \"\"}, \"bgcolor\": \"#E5ECF6\", \"caxis\": {\"gridcolor\": \"white\", \"linecolor\": \"white\", \"ticks\": \"\"}}, \"title\": {\"x\": 0.05}, \"xaxis\": {\"automargin\": true, \"gridcolor\": \"white\", \"linecolor\": \"white\", \"ticks\": \"\", \"title\": {\"standoff\": 15}, \"zerolinecolor\": \"white\", \"zerolinewidth\": 2}, \"yaxis\": {\"automargin\": true, \"gridcolor\": \"white\", \"linecolor\": \"white\", \"ticks\": \"\", \"title\": {\"standoff\": 15}, \"zerolinecolor\": \"white\", \"zerolinewidth\": 2}}}, \"title\": {\"text\": \"\\uc2dc\\ub3c4\\ubcc4 \\uc785\\uc6d0 \\uc5ec\\ubd80 \\ube44\\uc728\"}, \"xaxis\": {\"title\": {\"text\": \"\\uc2dc\\ub3c4\\uba85\"}}, \"yaxis\": {\"title\": {\"text\": \"\\ube44\\uc728\"}}},\n",
              "                        {\"responsive\": true}\n",
              "                    ).then(function(){\n",
              "                            \n",
              "var gd = document.getElementById('48166b61-93af-4a8e-a15f-d74427cd6078');\n",
              "var x = new MutationObserver(function (mutations, observer) {{\n",
              "        var display = window.getComputedStyle(gd).display;\n",
              "        if (!display || display === 'none') {{\n",
              "            console.log([gd, 'removed!']);\n",
              "            Plotly.purge(gd);\n",
              "            observer.disconnect();\n",
              "        }}\n",
              "}});\n",
              "\n",
              "// Listen for the removal of the full notebook cells\n",
              "var notebookContainer = gd.closest('#notebook-container');\n",
              "if (notebookContainer) {{\n",
              "    x.observe(notebookContainer, {childList: true});\n",
              "}}\n",
              "\n",
              "// Listen for the clearing of the current output cell\n",
              "var outputEl = gd.closest('.output');\n",
              "if (outputEl) {{\n",
              "    x.observe(outputEl, {childList: true});\n",
              "}}\n",
              "\n",
              "                        })\n",
              "                };\n",
              "                \n",
              "            </script>\n",
              "        </div>\n",
              "</body>\n",
              "</html>"
            ]
          },
          "metadata": {}
        }
      ]
    },
    {
      "cell_type": "markdown",
      "metadata": {
        "id": "Y1TC2-xCEUeu"
      },
      "source": [
        "## 4) 진료과목 별 입원 비율 "
      ]
    },
    {
      "cell_type": "code",
      "metadata": {
        "colab": {
          "base_uri": "https://localhost:8080/",
          "height": 112
        },
        "id": "UWQQX12VEYf5",
        "outputId": "bd36233c-a154-45d8-bcac-da34c2f0363f"
      },
      "source": [
        "# 진료과목 별 방문수 (입원환자, 비입원환자)\n",
        "\n",
        "# 전체 빈도수\n",
        "df_dsbjt = pd.DataFrame(df['진료과목'].value_counts()).reset_index()\n",
        "df_dsbjt = df_dsbjt.sort_values(by = 'index')\n",
        "df_dsbjt.columns = ['진료과목', '빈도수(전체환자)']\n",
        "df_dsbjt.reset_index(drop = True, inplace = True)\n",
        "\n",
        "# 입원환자 빈도수\n",
        "df_dsbjt_sp1 = pd.DataFrame(df[df['입원여부'] == 1]['진료과목'].value_counts()).reset_index()\n",
        "df_dsbjt_sp1 = df_dsbjt_sp1.sort_values(by = 'index')\n",
        "df_dsbjt_sp1.columns = ['진료과목', '빈도수(입원환자)']\n",
        "df_dsbjt_sp1.reset_index(drop = True, inplace = True)\n",
        "\n",
        "# 비입원환자 빈도수\n",
        "df_dsbjt_sp2 = pd.DataFrame(df[df['입원여부'] == 0]['진료과목'].value_counts()).reset_index()\n",
        "df_dsbjt_sp2 = df_dsbjt_sp2.sort_values(by = 'index')\n",
        "df_dsbjt_sp2.columns = ['진료과목', '빈도수(비입원환자)']\n",
        "df_dsbjt_sp2.reset_index(drop = True, inplace = True)\n",
        "\n",
        "df_dsbjt = pd.merge(df_dsbjt, df_dsbjt_sp2, how = 'outer', on = '진료과목')\n",
        "df_dsbjt = pd.merge(df_dsbjt, df_dsbjt_sp1, how = 'outer', on = '진료과목')\n",
        "df_dsbjt.head(2)"
      ],
      "execution_count": 36,
      "outputs": [
        {
          "output_type": "execute_result",
          "data": {
            "text/html": [
              "<div>\n",
              "<style scoped>\n",
              "    .dataframe tbody tr th:only-of-type {\n",
              "        vertical-align: middle;\n",
              "    }\n",
              "\n",
              "    .dataframe tbody tr th {\n",
              "        vertical-align: top;\n",
              "    }\n",
              "\n",
              "    .dataframe thead th {\n",
              "        text-align: right;\n",
              "    }\n",
              "</style>\n",
              "<table border=\"1\" class=\"dataframe\">\n",
              "  <thead>\n",
              "    <tr style=\"text-align: right;\">\n",
              "      <th></th>\n",
              "      <th>진료과목</th>\n",
              "      <th>빈도수(전체환자)</th>\n",
              "      <th>빈도수(비입원환자)</th>\n",
              "      <th>빈도수(입원환자)</th>\n",
              "    </tr>\n",
              "  </thead>\n",
              "  <tbody>\n",
              "    <tr>\n",
              "      <th>0</th>\n",
              "      <td>가정의학과</td>\n",
              "      <td>379753</td>\n",
              "      <td>361533.0</td>\n",
              "      <td>18220.0</td>\n",
              "    </tr>\n",
              "    <tr>\n",
              "      <th>1</th>\n",
              "      <td>결핵과</td>\n",
              "      <td>1086</td>\n",
              "      <td>1017.0</td>\n",
              "      <td>69.0</td>\n",
              "    </tr>\n",
              "  </tbody>\n",
              "</table>\n",
              "</div>"
            ],
            "text/plain": [
              "    진료과목  빈도수(전체환자)  빈도수(비입원환자)  빈도수(입원환자)\n",
              "0  가정의학과     379753    361533.0    18220.0\n",
              "1    결핵과       1086      1017.0       69.0"
            ]
          },
          "metadata": {},
          "execution_count": 36
        }
      ]
    },
    {
      "cell_type": "code",
      "metadata": {
        "colab": {
          "base_uri": "https://localhost:8080/",
          "height": 112
        },
        "id": "vjI81pskFONC",
        "outputId": "4ef01ad1-fc70-483d-a515-1abf6ab6c3b3"
      },
      "source": [
        "# 진료과목 별 방문수 비율 (입원환자, 비입원환자)\n",
        "\n",
        "y1, y2, y3 = df_dsbjt['빈도수(전체환자)'].sum(), df_dsbjt['빈도수(입원환자)'].sum(), df_dsbjt['빈도수(비입원환자)'].sum()\n",
        "\n",
        "df_dsbjt['비율(전체환자)'] =  df_dsbjt['빈도수(전체환자)'].apply(lambda x: round((x / y1) * 100, 1))\n",
        "df_dsbjt['비율(입원환자)'] =  df_dsbjt['빈도수(입원환자)'].apply(lambda x: round((x / y2) * 100, 1))\n",
        "df_dsbjt['비율(비입원환자)'] =  df_dsbjt['빈도수(비입원환자)'].apply(lambda x: round((x / y3) * 100, 1))\n",
        "df_dsbjt.head(2)"
      ],
      "execution_count": 37,
      "outputs": [
        {
          "output_type": "execute_result",
          "data": {
            "text/html": [
              "<div>\n",
              "<style scoped>\n",
              "    .dataframe tbody tr th:only-of-type {\n",
              "        vertical-align: middle;\n",
              "    }\n",
              "\n",
              "    .dataframe tbody tr th {\n",
              "        vertical-align: top;\n",
              "    }\n",
              "\n",
              "    .dataframe thead th {\n",
              "        text-align: right;\n",
              "    }\n",
              "</style>\n",
              "<table border=\"1\" class=\"dataframe\">\n",
              "  <thead>\n",
              "    <tr style=\"text-align: right;\">\n",
              "      <th></th>\n",
              "      <th>진료과목</th>\n",
              "      <th>빈도수(전체환자)</th>\n",
              "      <th>빈도수(비입원환자)</th>\n",
              "      <th>빈도수(입원환자)</th>\n",
              "      <th>비율(전체환자)</th>\n",
              "      <th>비율(입원환자)</th>\n",
              "      <th>비율(비입원환자)</th>\n",
              "    </tr>\n",
              "  </thead>\n",
              "  <tbody>\n",
              "    <tr>\n",
              "      <th>0</th>\n",
              "      <td>가정의학과</td>\n",
              "      <td>379753</td>\n",
              "      <td>361533.0</td>\n",
              "      <td>18220.0</td>\n",
              "      <td>2.9</td>\n",
              "      <td>6.4</td>\n",
              "      <td>2.8</td>\n",
              "    </tr>\n",
              "    <tr>\n",
              "      <th>1</th>\n",
              "      <td>결핵과</td>\n",
              "      <td>1086</td>\n",
              "      <td>1017.0</td>\n",
              "      <td>69.0</td>\n",
              "      <td>0.0</td>\n",
              "      <td>0.0</td>\n",
              "      <td>0.0</td>\n",
              "    </tr>\n",
              "  </tbody>\n",
              "</table>\n",
              "</div>"
            ],
            "text/plain": [
              "    진료과목  빈도수(전체환자)  빈도수(비입원환자)  빈도수(입원환자)  비율(전체환자)  비율(입원환자)  비율(비입원환자)\n",
              "0  가정의학과     379753    361533.0    18220.0       2.9       6.4        2.8\n",
              "1    결핵과       1086      1017.0       69.0       0.0       0.0        0.0"
            ]
          },
          "metadata": {},
          "execution_count": 37
        }
      ]
    },
    {
      "cell_type": "code",
      "metadata": {
        "colab": {
          "base_uri": "https://localhost:8080/",
          "height": 363
        },
        "id": "SuEFVjebGGz_",
        "outputId": "88a2c89a-4cea-4e34-bf21-5f6bba4289fa"
      },
      "source": [
        "df_dsbjt.sort_values(by = '비율(전체환자)', ascending = False).head(10)"
      ],
      "execution_count": 38,
      "outputs": [
        {
          "output_type": "execute_result",
          "data": {
            "text/html": [
              "<div>\n",
              "<style scoped>\n",
              "    .dataframe tbody tr th:only-of-type {\n",
              "        vertical-align: middle;\n",
              "    }\n",
              "\n",
              "    .dataframe tbody tr th {\n",
              "        vertical-align: top;\n",
              "    }\n",
              "\n",
              "    .dataframe thead th {\n",
              "        text-align: right;\n",
              "    }\n",
              "</style>\n",
              "<table border=\"1\" class=\"dataframe\">\n",
              "  <thead>\n",
              "    <tr style=\"text-align: right;\">\n",
              "      <th></th>\n",
              "      <th>진료과목</th>\n",
              "      <th>빈도수(전체환자)</th>\n",
              "      <th>빈도수(비입원환자)</th>\n",
              "      <th>빈도수(입원환자)</th>\n",
              "      <th>비율(전체환자)</th>\n",
              "      <th>비율(입원환자)</th>\n",
              "      <th>비율(비입원환자)</th>\n",
              "    </tr>\n",
              "  </thead>\n",
              "  <tbody>\n",
              "    <tr>\n",
              "      <th>3</th>\n",
              "      <td>내과</td>\n",
              "      <td>4387959</td>\n",
              "      <td>4319462.0</td>\n",
              "      <td>68497.0</td>\n",
              "      <td>33.5</td>\n",
              "      <td>24.1</td>\n",
              "      <td>33.7</td>\n",
              "    </tr>\n",
              "    <tr>\n",
              "      <th>21</th>\n",
              "      <td>정형외과</td>\n",
              "      <td>2140561</td>\n",
              "      <td>2100772.0</td>\n",
              "      <td>39789.0</td>\n",
              "      <td>16.3</td>\n",
              "      <td>14.0</td>\n",
              "      <td>16.4</td>\n",
              "    </tr>\n",
              "    <tr>\n",
              "      <th>18</th>\n",
              "      <td>이비인후과</td>\n",
              "      <td>1466074</td>\n",
              "      <td>1460814.0</td>\n",
              "      <td>5260.0</td>\n",
              "      <td>11.2</td>\n",
              "      <td>1.9</td>\n",
              "      <td>11.4</td>\n",
              "    </tr>\n",
              "    <tr>\n",
              "      <th>13</th>\n",
              "      <td>안과</td>\n",
              "      <td>874455</td>\n",
              "      <td>868336.0</td>\n",
              "      <td>6119.0</td>\n",
              "      <td>6.7</td>\n",
              "      <td>2.2</td>\n",
              "      <td>6.8</td>\n",
              "    </tr>\n",
              "    <tr>\n",
              "      <th>10</th>\n",
              "      <td>소아청소년과</td>\n",
              "      <td>751840</td>\n",
              "      <td>730986.0</td>\n",
              "      <td>20854.0</td>\n",
              "      <td>5.7</td>\n",
              "      <td>7.4</td>\n",
              "      <td>5.7</td>\n",
              "    </tr>\n",
              "    <tr>\n",
              "      <th>26</th>\n",
              "      <td>피부과</td>\n",
              "      <td>600112</td>\n",
              "      <td>599709.0</td>\n",
              "      <td>403.0</td>\n",
              "      <td>4.6</td>\n",
              "      <td>0.1</td>\n",
              "      <td>4.7</td>\n",
              "    </tr>\n",
              "    <tr>\n",
              "      <th>16</th>\n",
              "      <td>외과</td>\n",
              "      <td>417561</td>\n",
              "      <td>393159.0</td>\n",
              "      <td>24402.0</td>\n",
              "      <td>3.2</td>\n",
              "      <td>8.6</td>\n",
              "      <td>3.1</td>\n",
              "    </tr>\n",
              "    <tr>\n",
              "      <th>8</th>\n",
              "      <td>산부인과</td>\n",
              "      <td>375779</td>\n",
              "      <td>361396.0</td>\n",
              "      <td>14383.0</td>\n",
              "      <td>2.9</td>\n",
              "      <td>5.1</td>\n",
              "      <td>2.8</td>\n",
              "    </tr>\n",
              "    <tr>\n",
              "      <th>0</th>\n",
              "      <td>가정의학과</td>\n",
              "      <td>379753</td>\n",
              "      <td>361533.0</td>\n",
              "      <td>18220.0</td>\n",
              "      <td>2.9</td>\n",
              "      <td>6.4</td>\n",
              "      <td>2.8</td>\n",
              "    </tr>\n",
              "    <tr>\n",
              "      <th>20</th>\n",
              "      <td>정신건강의학과</td>\n",
              "      <td>332942</td>\n",
              "      <td>323406.0</td>\n",
              "      <td>9536.0</td>\n",
              "      <td>2.5</td>\n",
              "      <td>3.4</td>\n",
              "      <td>2.5</td>\n",
              "    </tr>\n",
              "  </tbody>\n",
              "</table>\n",
              "</div>"
            ],
            "text/plain": [
              "       진료과목  빈도수(전체환자)  빈도수(비입원환자)  빈도수(입원환자)  비율(전체환자)  비율(입원환자)  비율(비입원환자)\n",
              "3        내과    4387959   4319462.0    68497.0      33.5      24.1       33.7\n",
              "21     정형외과    2140561   2100772.0    39789.0      16.3      14.0       16.4\n",
              "18    이비인후과    1466074   1460814.0     5260.0      11.2       1.9       11.4\n",
              "13       안과     874455    868336.0     6119.0       6.7       2.2        6.8\n",
              "10   소아청소년과     751840    730986.0    20854.0       5.7       7.4        5.7\n",
              "26      피부과     600112    599709.0      403.0       4.6       0.1        4.7\n",
              "16       외과     417561    393159.0    24402.0       3.2       8.6        3.1\n",
              "8      산부인과     375779    361396.0    14383.0       2.9       5.1        2.8\n",
              "0     가정의학과     379753    361533.0    18220.0       2.9       6.4        2.8\n",
              "20  정신건강의학과     332942    323406.0     9536.0       2.5       3.4        2.5"
            ]
          },
          "metadata": {},
          "execution_count": 38
        }
      ]
    },
    {
      "cell_type": "code",
      "metadata": {
        "colab": {
          "base_uri": "https://localhost:8080/",
          "height": 363
        },
        "id": "9AyPyynfGWEm",
        "outputId": "bdee6d32-e162-4da1-e102-64556ae07aba"
      },
      "source": [
        "df_dsbjt.sort_values(by = '비율(입원환자)', ascending = False).head(10)"
      ],
      "execution_count": 39,
      "outputs": [
        {
          "output_type": "execute_result",
          "data": {
            "text/html": [
              "<div>\n",
              "<style scoped>\n",
              "    .dataframe tbody tr th:only-of-type {\n",
              "        vertical-align: middle;\n",
              "    }\n",
              "\n",
              "    .dataframe tbody tr th {\n",
              "        vertical-align: top;\n",
              "    }\n",
              "\n",
              "    .dataframe thead th {\n",
              "        text-align: right;\n",
              "    }\n",
              "</style>\n",
              "<table border=\"1\" class=\"dataframe\">\n",
              "  <thead>\n",
              "    <tr style=\"text-align: right;\">\n",
              "      <th></th>\n",
              "      <th>진료과목</th>\n",
              "      <th>빈도수(전체환자)</th>\n",
              "      <th>빈도수(비입원환자)</th>\n",
              "      <th>빈도수(입원환자)</th>\n",
              "      <th>비율(전체환자)</th>\n",
              "      <th>비율(입원환자)</th>\n",
              "      <th>비율(비입원환자)</th>\n",
              "    </tr>\n",
              "  </thead>\n",
              "  <tbody>\n",
              "    <tr>\n",
              "      <th>3</th>\n",
              "      <td>내과</td>\n",
              "      <td>4387959</td>\n",
              "      <td>4319462.0</td>\n",
              "      <td>68497.0</td>\n",
              "      <td>33.5</td>\n",
              "      <td>24.1</td>\n",
              "      <td>33.7</td>\n",
              "    </tr>\n",
              "    <tr>\n",
              "      <th>21</th>\n",
              "      <td>정형외과</td>\n",
              "      <td>2140561</td>\n",
              "      <td>2100772.0</td>\n",
              "      <td>39789.0</td>\n",
              "      <td>16.3</td>\n",
              "      <td>14.0</td>\n",
              "      <td>16.4</td>\n",
              "    </tr>\n",
              "    <tr>\n",
              "      <th>16</th>\n",
              "      <td>외과</td>\n",
              "      <td>417561</td>\n",
              "      <td>393159.0</td>\n",
              "      <td>24402.0</td>\n",
              "      <td>3.2</td>\n",
              "      <td>8.6</td>\n",
              "      <td>3.1</td>\n",
              "    </tr>\n",
              "    <tr>\n",
              "      <th>17</th>\n",
              "      <td>응급의학과</td>\n",
              "      <td>122222</td>\n",
              "      <td>101335.0</td>\n",
              "      <td>20887.0</td>\n",
              "      <td>0.9</td>\n",
              "      <td>7.4</td>\n",
              "      <td>0.8</td>\n",
              "    </tr>\n",
              "    <tr>\n",
              "      <th>10</th>\n",
              "      <td>소아청소년과</td>\n",
              "      <td>751840</td>\n",
              "      <td>730986.0</td>\n",
              "      <td>20854.0</td>\n",
              "      <td>5.7</td>\n",
              "      <td>7.4</td>\n",
              "      <td>5.7</td>\n",
              "    </tr>\n",
              "    <tr>\n",
              "      <th>12</th>\n",
              "      <td>신경외과</td>\n",
              "      <td>265289</td>\n",
              "      <td>246843.0</td>\n",
              "      <td>18446.0</td>\n",
              "      <td>2.0</td>\n",
              "      <td>6.5</td>\n",
              "      <td>1.9</td>\n",
              "    </tr>\n",
              "    <tr>\n",
              "      <th>0</th>\n",
              "      <td>가정의학과</td>\n",
              "      <td>379753</td>\n",
              "      <td>361533.0</td>\n",
              "      <td>18220.0</td>\n",
              "      <td>2.9</td>\n",
              "      <td>6.4</td>\n",
              "      <td>2.8</td>\n",
              "    </tr>\n",
              "    <tr>\n",
              "      <th>19</th>\n",
              "      <td>재활의학과</td>\n",
              "      <td>161725</td>\n",
              "      <td>146418.0</td>\n",
              "      <td>15307.0</td>\n",
              "      <td>1.2</td>\n",
              "      <td>5.4</td>\n",
              "      <td>1.1</td>\n",
              "    </tr>\n",
              "    <tr>\n",
              "      <th>8</th>\n",
              "      <td>산부인과</td>\n",
              "      <td>375779</td>\n",
              "      <td>361396.0</td>\n",
              "      <td>14383.0</td>\n",
              "      <td>2.9</td>\n",
              "      <td>5.1</td>\n",
              "      <td>2.8</td>\n",
              "    </tr>\n",
              "    <tr>\n",
              "      <th>11</th>\n",
              "      <td>신경과</td>\n",
              "      <td>230131</td>\n",
              "      <td>219417.0</td>\n",
              "      <td>10714.0</td>\n",
              "      <td>1.8</td>\n",
              "      <td>3.8</td>\n",
              "      <td>1.7</td>\n",
              "    </tr>\n",
              "  </tbody>\n",
              "</table>\n",
              "</div>"
            ],
            "text/plain": [
              "      진료과목  빈도수(전체환자)  빈도수(비입원환자)  빈도수(입원환자)  비율(전체환자)  비율(입원환자)  비율(비입원환자)\n",
              "3       내과    4387959   4319462.0    68497.0      33.5      24.1       33.7\n",
              "21    정형외과    2140561   2100772.0    39789.0      16.3      14.0       16.4\n",
              "16      외과     417561    393159.0    24402.0       3.2       8.6        3.1\n",
              "17   응급의학과     122222    101335.0    20887.0       0.9       7.4        0.8\n",
              "10  소아청소년과     751840    730986.0    20854.0       5.7       7.4        5.7\n",
              "12    신경외과     265289    246843.0    18446.0       2.0       6.5        1.9\n",
              "0    가정의학과     379753    361533.0    18220.0       2.9       6.4        2.8\n",
              "19   재활의학과     161725    146418.0    15307.0       1.2       5.4        1.1\n",
              "8     산부인과     375779    361396.0    14383.0       2.9       5.1        2.8\n",
              "11     신경과     230131    219417.0    10714.0       1.8       3.8        1.7"
            ]
          },
          "metadata": {},
          "execution_count": 39
        }
      ]
    },
    {
      "cell_type": "code",
      "metadata": {
        "colab": {
          "base_uri": "https://localhost:8080/",
          "height": 363
        },
        "id": "tvBkvkasGb8-",
        "outputId": "01d96ecd-226e-4ea4-be23-52e1e533f007"
      },
      "source": [
        "df_dsbjt.sort_values(by = '비율(비입원환자)', ascending = False).head(10)"
      ],
      "execution_count": 40,
      "outputs": [
        {
          "output_type": "execute_result",
          "data": {
            "text/html": [
              "<div>\n",
              "<style scoped>\n",
              "    .dataframe tbody tr th:only-of-type {\n",
              "        vertical-align: middle;\n",
              "    }\n",
              "\n",
              "    .dataframe tbody tr th {\n",
              "        vertical-align: top;\n",
              "    }\n",
              "\n",
              "    .dataframe thead th {\n",
              "        text-align: right;\n",
              "    }\n",
              "</style>\n",
              "<table border=\"1\" class=\"dataframe\">\n",
              "  <thead>\n",
              "    <tr style=\"text-align: right;\">\n",
              "      <th></th>\n",
              "      <th>진료과목</th>\n",
              "      <th>빈도수(전체환자)</th>\n",
              "      <th>빈도수(비입원환자)</th>\n",
              "      <th>빈도수(입원환자)</th>\n",
              "      <th>비율(전체환자)</th>\n",
              "      <th>비율(입원환자)</th>\n",
              "      <th>비율(비입원환자)</th>\n",
              "    </tr>\n",
              "  </thead>\n",
              "  <tbody>\n",
              "    <tr>\n",
              "      <th>3</th>\n",
              "      <td>내과</td>\n",
              "      <td>4387959</td>\n",
              "      <td>4319462.0</td>\n",
              "      <td>68497.0</td>\n",
              "      <td>33.5</td>\n",
              "      <td>24.1</td>\n",
              "      <td>33.7</td>\n",
              "    </tr>\n",
              "    <tr>\n",
              "      <th>21</th>\n",
              "      <td>정형외과</td>\n",
              "      <td>2140561</td>\n",
              "      <td>2100772.0</td>\n",
              "      <td>39789.0</td>\n",
              "      <td>16.3</td>\n",
              "      <td>14.0</td>\n",
              "      <td>16.4</td>\n",
              "    </tr>\n",
              "    <tr>\n",
              "      <th>18</th>\n",
              "      <td>이비인후과</td>\n",
              "      <td>1466074</td>\n",
              "      <td>1460814.0</td>\n",
              "      <td>5260.0</td>\n",
              "      <td>11.2</td>\n",
              "      <td>1.9</td>\n",
              "      <td>11.4</td>\n",
              "    </tr>\n",
              "    <tr>\n",
              "      <th>13</th>\n",
              "      <td>안과</td>\n",
              "      <td>874455</td>\n",
              "      <td>868336.0</td>\n",
              "      <td>6119.0</td>\n",
              "      <td>6.7</td>\n",
              "      <td>2.2</td>\n",
              "      <td>6.8</td>\n",
              "    </tr>\n",
              "    <tr>\n",
              "      <th>10</th>\n",
              "      <td>소아청소년과</td>\n",
              "      <td>751840</td>\n",
              "      <td>730986.0</td>\n",
              "      <td>20854.0</td>\n",
              "      <td>5.7</td>\n",
              "      <td>7.4</td>\n",
              "      <td>5.7</td>\n",
              "    </tr>\n",
              "    <tr>\n",
              "      <th>26</th>\n",
              "      <td>피부과</td>\n",
              "      <td>600112</td>\n",
              "      <td>599709.0</td>\n",
              "      <td>403.0</td>\n",
              "      <td>4.6</td>\n",
              "      <td>0.1</td>\n",
              "      <td>4.7</td>\n",
              "    </tr>\n",
              "    <tr>\n",
              "      <th>16</th>\n",
              "      <td>외과</td>\n",
              "      <td>417561</td>\n",
              "      <td>393159.0</td>\n",
              "      <td>24402.0</td>\n",
              "      <td>3.2</td>\n",
              "      <td>8.6</td>\n",
              "      <td>3.1</td>\n",
              "    </tr>\n",
              "    <tr>\n",
              "      <th>0</th>\n",
              "      <td>가정의학과</td>\n",
              "      <td>379753</td>\n",
              "      <td>361533.0</td>\n",
              "      <td>18220.0</td>\n",
              "      <td>2.9</td>\n",
              "      <td>6.4</td>\n",
              "      <td>2.8</td>\n",
              "    </tr>\n",
              "    <tr>\n",
              "      <th>8</th>\n",
              "      <td>산부인과</td>\n",
              "      <td>375779</td>\n",
              "      <td>361396.0</td>\n",
              "      <td>14383.0</td>\n",
              "      <td>2.9</td>\n",
              "      <td>5.1</td>\n",
              "      <td>2.8</td>\n",
              "    </tr>\n",
              "    <tr>\n",
              "      <th>20</th>\n",
              "      <td>정신건강의학과</td>\n",
              "      <td>332942</td>\n",
              "      <td>323406.0</td>\n",
              "      <td>9536.0</td>\n",
              "      <td>2.5</td>\n",
              "      <td>3.4</td>\n",
              "      <td>2.5</td>\n",
              "    </tr>\n",
              "  </tbody>\n",
              "</table>\n",
              "</div>"
            ],
            "text/plain": [
              "       진료과목  빈도수(전체환자)  빈도수(비입원환자)  빈도수(입원환자)  비율(전체환자)  비율(입원환자)  비율(비입원환자)\n",
              "3        내과    4387959   4319462.0    68497.0      33.5      24.1       33.7\n",
              "21     정형외과    2140561   2100772.0    39789.0      16.3      14.0       16.4\n",
              "18    이비인후과    1466074   1460814.0     5260.0      11.2       1.9       11.4\n",
              "13       안과     874455    868336.0     6119.0       6.7       2.2        6.8\n",
              "10   소아청소년과     751840    730986.0    20854.0       5.7       7.4        5.7\n",
              "26      피부과     600112    599709.0      403.0       4.6       0.1        4.7\n",
              "16       외과     417561    393159.0    24402.0       3.2       8.6        3.1\n",
              "0     가정의학과     379753    361533.0    18220.0       2.9       6.4        2.8\n",
              "8      산부인과     375779    361396.0    14383.0       2.9       5.1        2.8\n",
              "20  정신건강의학과     332942    323406.0     9536.0       2.5       3.4        2.5"
            ]
          },
          "metadata": {},
          "execution_count": 40
        }
      ]
    },
    {
      "cell_type": "code",
      "metadata": {
        "colab": {
          "base_uri": "https://localhost:8080/",
          "height": 514
        },
        "id": "ScDQi6KeGd4B",
        "outputId": "f57fdeb9-7754-4a8f-e4fa-8fba4da3496a"
      },
      "source": [
        "# 진료과목 별 전체 환자 수 \n",
        "plt.figure(figsize = (40, 8))\n",
        "plt.title('진료과목 체크(전체환자)')\n",
        "plt.bar(df_dsbjt['진료과목'], df_dsbjt['비율(전체환자)'])\n",
        "plt.xlabel('진료과목')\n",
        "plt.ylabel('비율(전체환자)', rotation = 0, labelpad = 20)\n",
        "plt.show()"
      ],
      "execution_count": 41,
      "outputs": [
        {
          "output_type": "display_data",
          "data": {
            "image/png": "[encoded data removed]",
            "text/plain": [
              "<Figure size 2880x576 with 1 Axes>"
            ]
          },
          "metadata": {
            "image/png": {
              "width": 2316,
              "height": 497
            },
            "needs_background": "light"
          }
        }
      ]
    },
    {
      "cell_type": "code",
      "metadata": {
        "colab": {
          "base_uri": "https://localhost:8080/",
          "height": 514
        },
        "id": "CjCFEF3gGl5O",
        "outputId": "fb01d714-31e2-44aa-a14a-97421f901fab"
      },
      "source": [
        "# 전체 입원환자 중 해당 진료과목이 차지하는 비율 \n",
        "plt.figure(figsize = (40, 8))\n",
        "plt.title('진료과목 체크(입원환자)')\n",
        "plt.bar(df_dsbjt['진료과목'], df_dsbjt['비율(입원환자)'])\n",
        "plt.xlabel('진료과목')\n",
        "plt.ylabel('비율(입원환자)', rotation = 0, labelpad = 20)\n",
        "plt.show()"
      ],
      "execution_count": 42,
      "outputs": [
        {
          "output_type": "display_data",
          "data": {
            "image/png": "[encoded data removed]",
            "text/plain": [
              "<Figure size 2880x576 with 1 Axes>"
            ]
          },
          "metadata": {
            "image/png": {
              "width": 2316,
              "height": 497
            },
            "needs_background": "light"
          }
        }
      ]
    },
    {
      "cell_type": "code",
      "metadata": {
        "colab": {
          "base_uri": "https://localhost:8080/",
          "height": 514
        },
        "id": "hh4ftM9PGvFv",
        "outputId": "43daca1c-a83b-4775-a347-b0be95c2481e"
      },
      "source": [
        "# 전체 비입원환자 중 해당 진료과목이 차지하는 비율 \n",
        "plt.figure(figsize = (40, 8))\n",
        "plt.title('진료과목 체크(비입원환자)')\n",
        "plt.bar(df_dsbjt['진료과목'], df_dsbjt['비율(비입원환자)'])\n",
        "plt.xlabel('진료과목')\n",
        "plt.ylabel('비율(비입원환자)', rotation = 0, labelpad = 20)\n",
        "plt.show()"
      ],
      "execution_count": 43,
      "outputs": [
        {
          "output_type": "display_data",
          "data": {
            "image/png": "[encoded data removed]",
            "text/plain": [
              "<Figure size 2880x576 with 1 Axes>"
            ]
          },
          "metadata": {
            "image/png": {
              "width": 2320,
              "height": 497
            },
            "needs_background": "light"
          }
        }
      ]
    },
    {
      "cell_type": "code",
      "metadata": {
        "colab": {
          "base_uri": "https://localhost:8080/",
          "height": 112
        },
        "id": "tvlJQ0j-Gyof",
        "outputId": "5c1c164d-f411-465b-bbc9-a5c71a0dda27"
      },
      "source": [
        "# 진료과목 별 입원 비율 \n",
        "df_type = pd.crosstab(index = df['진료과목'], columns= df['입원여부'] )\n",
        "df_type.reset_index(inplace = True)\n",
        "df_type.columns = ['진료과목','입원 X', \"입원 O\"]\n",
        "\n",
        "df_type['비율O'] = df_type['입원 O'] / (df_type['입원 O'] + df_type['입원 X'])\n",
        "df_type['비율X'] = df_type['입원 X'] / (df_type['입원 O'] + df_type['입원 X'])\n",
        "\n",
        "df_type.head(2)"
      ],
      "execution_count": 44,
      "outputs": [
        {
          "output_type": "execute_result",
          "data": {
            "text/html": [
              "<div>\n",
              "<style scoped>\n",
              "    .dataframe tbody tr th:only-of-type {\n",
              "        vertical-align: middle;\n",
              "    }\n",
              "\n",
              "    .dataframe tbody tr th {\n",
              "        vertical-align: top;\n",
              "    }\n",
              "\n",
              "    .dataframe thead th {\n",
              "        text-align: right;\n",
              "    }\n",
              "</style>\n",
              "<table border=\"1\" class=\"dataframe\">\n",
              "  <thead>\n",
              "    <tr style=\"text-align: right;\">\n",
              "      <th></th>\n",
              "      <th>진료과목</th>\n",
              "      <th>입원 X</th>\n",
              "      <th>입원 O</th>\n",
              "      <th>비율O</th>\n",
              "      <th>비율X</th>\n",
              "    </tr>\n",
              "  </thead>\n",
              "  <tbody>\n",
              "    <tr>\n",
              "      <th>0</th>\n",
              "      <td>가정의학과</td>\n",
              "      <td>361533</td>\n",
              "      <td>18220</td>\n",
              "      <td>0.047979</td>\n",
              "      <td>0.952021</td>\n",
              "    </tr>\n",
              "    <tr>\n",
              "      <th>1</th>\n",
              "      <td>결핵과</td>\n",
              "      <td>1017</td>\n",
              "      <td>69</td>\n",
              "      <td>0.063536</td>\n",
              "      <td>0.936464</td>\n",
              "    </tr>\n",
              "  </tbody>\n",
              "</table>\n",
              "</div>"
            ],
            "text/plain": [
              "    진료과목    입원 X   입원 O       비율O       비율X\n",
              "0  가정의학과  361533  18220  0.047979  0.952021\n",
              "1    결핵과    1017     69  0.063536  0.936464"
            ]
          },
          "metadata": {},
          "execution_count": 44
        }
      ]
    },
    {
      "cell_type": "code",
      "metadata": {
        "colab": {
          "base_uri": "https://localhost:8080/",
          "height": 542
        },
        "id": "ncrkGhLLG7o4",
        "outputId": "fea841d5-5aaa-4b21-c1a4-df5b136a27f0"
      },
      "source": [
        "fig = go.Figure()\n",
        "\n",
        "fig.add_trace(go.Bar(x = df_type['진료과목'], y = df_type['비율X'], name = '입원 X'))\n",
        "fig.add_trace(go.Bar(x = df_type['진료과목'], y = df_type['비율O'], name = '입원 O'))\n",
        "\n",
        "fig.update_layout(title = '진료과목별 입원 여부 비율', xaxis_title = '진료과목명', yaxis_title = '비율', barmode=\"stack\" )\n",
        "fig.write_html(\"/content/drive/MyDrive/data/국민건강보험공단_진료내역정보_20191231/type.html\")\n",
        "fig.show()"
      ],
      "execution_count": 46,
      "outputs": [
        {
          "output_type": "display_data",
          "data": {
            "text/html": [
              "<html>\n",
              "<head><meta charset=\"utf-8\" /></head>\n",
              "<body>\n",
              "    <div>\n",
              "            <script src=\"https://cdnjs.cloudflare.com/ajax/libs/mathjax/2.7.5/MathJax.js?config=TeX-AMS-MML_SVG\"></script><script type=\"text/javascript\">if (window.MathJax) {MathJax.Hub.Config({SVG: {font: \"STIX-Web\"}});}</script>\n",
              "                <script type=\"text/javascript\">window.PlotlyConfig = {MathJaxConfig: 'local'};</script>\n",
              "        <script src=\"https://cdn.plot.ly/plotly-latest.min.js\"></script>    \n",
              "            <div id=\"41976097-41a3-4802-95e3-53500a6add24\" class=\"plotly-graph-div\" style=\"height:525px; width:100%;\"></div>\n",
              "            <script type=\"text/javascript\">\n",
              "                \n",
              "                    window.PLOTLYENV=window.PLOTLYENV || {};\n",
              "                    \n",
              "                if (document.getElementById(\"41976097-41a3-4802-95e3-53500a6add24\")) {\n",
              "                    Plotly.newPlot(\n",
              "                        '41976097-41a3-4802-95e3-53500a6add24',\n",
              "                        [{\"name\": \"\\uc785\\uc6d0 X\", \"type\": \"bar\", \"x\": [\"\\uac00\\uc815\\uc758\\ud559\\uacfc\", \"\\uacb0\\ud575\\uacfc\", \"\\uad6c\\uac15\\uc545\\uc548\\uba74\\uc678\\uacfc\", \"\\ub0b4\\uacfc\", \"\\ub9c8\\ucde8\\ud1b5\\uc99d\\uc758\\ud559\\uacfc\", \"\\ubc29\\uc0ac\\uc120\\uc885\\uc591\\ud559\\uacfc\", \"\\ubcd1\\ub9ac\\uacfc\", \"\\ube44\\ub1e8\\uc758\\ud559\\uacfc\", \"\\uc0b0\\ubd80\\uc778\\uacfc\", \"\\uc131\\ud615\\uc678\\uacfc\", \"\\uc18c\\uc544\\uccad\\uc18c\\ub144\\uacfc\", \"\\uc2e0\\uacbd\\uacfc\", \"\\uc2e0\\uacbd\\uc678\\uacfc\", \"\\uc548\\uacfc\", \"\\uc601\\uc0c1\\uc758\\ud559\\uacfc\", \"\\uc608\\ubc29\\uc758\\ud559\\uacfc\", \"\\uc678\\uacfc\", \"\\uc751\\uae09\\uc758\\ud559\\uacfc\", \"\\uc774\\ube44\\uc778\\ud6c4\\uacfc\", \"\\uc7ac\\ud65c\\uc758\\ud559\\uacfc\", \"\\uc815\\uc2e0\\uac74\\uac15\\uc758\\ud559\\uacfc\", \"\\uc815\\ud615\\uc678\\uacfc\", \"\\uc9c1\\uc5c5\\ud658\\uacbd\\uc758\\ud559\\uacfc\", \"\\uc9c4\\ub2e8\\uac80\\uc0ac\\uc758\\ud559\\uacfc\", \"\\uce58\\uacfc\\uad50\\uc815\\uacfc\", \"\\uce58\\uacfc\\ubcf4\\uc874\\uacfc\", \"\\ud53c\\ubd80\\uacfc\", \"\\ud55c\\ubc29\\ub0b4\\uacfc\", \"\\ud55c\\ubc29\\uc751\\uae09\", \"\\ud55c\\ubc29\\uc7ac\\ud65c\\uc758\\ud559\\uacfc\", \"\\ud575\\uc758\\ud559\\uacfc\", \"\\ud749\\ubd80\\uc678\\uacfc\"], \"y\": [0.9520214455185344, 0.93646408839779, 0.1, 0.98438978121719, 0.9928795896850823, 0.995237632422976, 0.2876712328767123, 0.9864197181415331, 0.9617248435915791, 0.9054107166251801, 0.9722627154713769, 0.9534439080349888, 0.9304682817606459, 0.9930024986991898, 0.9879170230966638, 0.9177142857142857, 0.9415606342546359, 0.8291060529200962, 0.9964121865608421, 0.9053516772298655, 0.9713583747319353, 0.9814118822121864, 0.8937974118697011, 0.9607577807848444, 0.0, 0.9285714285714286, 0.9993284586877116, 0.0, 1.0, 0.0, 0.9554621848739496, 0.9113418779430568]}, {\"name\": \"\\uc785\\uc6d0 O\", \"type\": \"bar\", \"x\": [\"\\uac00\\uc815\\uc758\\ud559\\uacfc\", \"\\uacb0\\ud575\\uacfc\", \"\\uad6c\\uac15\\uc545\\uc548\\uba74\\uc678\\uacfc\", \"\\ub0b4\\uacfc\", \"\\ub9c8\\ucde8\\ud1b5\\uc99d\\uc758\\ud559\\uacfc\", \"\\ubc29\\uc0ac\\uc120\\uc885\\uc591\\ud559\\uacfc\", \"\\ubcd1\\ub9ac\\uacfc\", \"\\ube44\\ub1e8\\uc758\\ud559\\uacfc\", \"\\uc0b0\\ubd80\\uc778\\uacfc\", \"\\uc131\\ud615\\uc678\\uacfc\", \"\\uc18c\\uc544\\uccad\\uc18c\\ub144\\uacfc\", \"\\uc2e0\\uacbd\\uacfc\", \"\\uc2e0\\uacbd\\uc678\\uacfc\", \"\\uc548\\uacfc\", \"\\uc601\\uc0c1\\uc758\\ud559\\uacfc\", \"\\uc608\\ubc29\\uc758\\ud559\\uacfc\", \"\\uc678\\uacfc\", \"\\uc751\\uae09\\uc758\\ud559\\uacfc\", \"\\uc774\\ube44\\uc778\\ud6c4\\uacfc\", \"\\uc7ac\\ud65c\\uc758\\ud559\\uacfc\", \"\\uc815\\uc2e0\\uac74\\uac15\\uc758\\ud559\\uacfc\", \"\\uc815\\ud615\\uc678\\uacfc\", \"\\uc9c1\\uc5c5\\ud658\\uacbd\\uc758\\ud559\\uacfc\", \"\\uc9c4\\ub2e8\\uac80\\uc0ac\\uc758\\ud559\\uacfc\", \"\\uce58\\uacfc\\uad50\\uc815\\uacfc\", \"\\uce58\\uacfc\\ubcf4\\uc874\\uacfc\", \"\\ud53c\\ubd80\\uacfc\", \"\\ud55c\\ubc29\\ub0b4\\uacfc\", \"\\ud55c\\ubc29\\uc751\\uae09\", \"\\ud55c\\ubc29\\uc7ac\\ud65c\\uc758\\ud559\\uacfc\", \"\\ud575\\uc758\\ud559\\uacfc\", \"\\ud749\\ubd80\\uc678\\uacfc\"], \"y\": [0.04797855448146558, 0.06353591160220995, 0.9, 0.015610218782809958, 0.007120410314917718, 0.004762367577024006, 0.7123287671232876, 0.013580281858466919, 0.038275156408420906, 0.09458928337481987, 0.02773728452862311, 0.04655609196501123, 0.06953171823935406, 0.006997501300810219, 0.012082976903336184, 0.08228571428571428, 0.05843936574536415, 0.17089394707990377, 0.003587813439157914, 0.09464832277013449, 0.028641625268064706, 0.01858811778781357, 0.10620258813029898, 0.03924221921515562, 1.0, 0.07142857142857142, 0.0006715413122883728, 1.0, 0.0, 1.0, 0.04453781512605042, 0.08865812205694328]}],\n",
              "                        {\"barmode\": \"stack\", \"template\": {\"data\": {\"bar\": [{\"error_x\": {\"color\": \"#2a3f5f\"}, \"error_y\": {\"color\": \"#2a3f5f\"}, \"marker\": {\"line\": {\"color\": \"#E5ECF6\", \"width\": 0.5}}, \"type\": \"bar\"}], \"barpolar\": [{\"marker\": {\"line\": {\"color\": \"#E5ECF6\", \"width\": 0.5}}, \"type\": \"barpolar\"}], \"carpet\": [{\"aaxis\": {\"endlinecolor\": \"#2a3f5f\", \"gridcolor\": \"white\", \"linecolor\": \"white\", \"minorgridcolor\": \"white\", \"startlinecolor\": \"#2a3f5f\"}, \"baxis\": {\"endlinecolor\": \"#2a3f5f\", \"gridcolor\": \"white\", \"linecolor\": \"white\", \"minorgridcolor\": \"white\", \"startlinecolor\": \"#2a3f5f\"}, \"type\": \"carpet\"}], \"choropleth\": [{\"colorbar\": {\"outlinewidth\": 0, \"ticks\": \"\"}, \"type\": \"choropleth\"}], \"contour\": [{\"colorbar\": {\"outlinewidth\": 0, \"ticks\": \"\"}, \"colorscale\": [[0.0, \"#0d0887\"], [0.1111111111111111, \"#46039f\"], [0.2222222222222222, \"#7201a8\"], [0.3333333333333333, \"#9c179e\"], [0.4444444444444444, \"#bd3786\"], [0.5555555555555556, \"#d8576b\"], [0.6666666666666666, \"#ed7953\"], [0.7777777777777778, \"#fb9f3a\"], [0.8888888888888888, \"#fdca26\"], [1.0, \"#f0f921\"]], \"type\": \"contour\"}], \"contourcarpet\": [{\"colorbar\": {\"outlinewidth\": 0, \"ticks\": \"\"}, \"type\": \"contourcarpet\"}], \"heatmap\": [{\"colorbar\": {\"outlinewidth\": 0, \"ticks\": \"\"}, \"colorscale\": [[0.0, \"#0d0887\"], [0.1111111111111111, \"#46039f\"], [0.2222222222222222, \"#7201a8\"], [0.3333333333333333, \"#9c179e\"], [0.4444444444444444, \"#bd3786\"], [0.5555555555555556, \"#d8576b\"], [0.6666666666666666, \"#ed7953\"], [0.7777777777777778, \"#fb9f3a\"], [0.8888888888888888, \"#fdca26\"], [1.0, \"#f0f921\"]], \"type\": \"heatmap\"}], \"heatmapgl\": [{\"colorbar\": {\"outlinewidth\": 0, \"ticks\": \"\"}, \"colorscale\": [[0.0, \"#0d0887\"], [0.1111111111111111, \"#46039f\"], [0.2222222222222222, \"#7201a8\"], [0.3333333333333333, \"#9c179e\"], [0.4444444444444444, \"#bd3786\"], [0.5555555555555556, \"#d8576b\"], [0.6666666666666666, \"#ed7953\"], [0.7777777777777778, \"#fb9f3a\"], [0.8888888888888888, \"#fdca26\"], [1.0, \"#f0f921\"]], \"type\": \"heatmapgl\"}], \"histogram\": [{\"marker\": {\"colorbar\": {\"outlinewidth\": 0, \"ticks\": \"\"}}, \"type\": \"histogram\"}], \"histogram2d\": [{\"colorbar\": {\"outlinewidth\": 0, \"ticks\": \"\"}, \"colorscale\": [[0.0, \"#0d0887\"], [0.1111111111111111, \"#46039f\"], [0.2222222222222222, \"#7201a8\"], [0.3333333333333333, \"#9c179e\"], [0.4444444444444444, \"#bd3786\"], [0.5555555555555556, \"#d8576b\"], [0.6666666666666666, \"#ed7953\"], [0.7777777777777778, \"#fb9f3a\"], [0.8888888888888888, \"#fdca26\"], [1.0, \"#f0f921\"]], \"type\": \"histogram2d\"}], \"histogram2dcontour\": [{\"colorbar\": {\"outlinewidth\": 0, \"ticks\": \"\"}, \"colorscale\": [[0.0, \"#0d0887\"], [0.1111111111111111, \"#46039f\"], [0.2222222222222222, \"#7201a8\"], [0.3333333333333333, \"#9c179e\"], [0.4444444444444444, \"#bd3786\"], [0.5555555555555556, \"#d8576b\"], [0.6666666666666666, \"#ed7953\"], [0.7777777777777778, \"#fb9f3a\"], [0.8888888888888888, \"#fdca26\"], [1.0, \"#f0f921\"]], \"type\": \"histogram2dcontour\"}], \"mesh3d\": [{\"colorbar\": {\"outlinewidth\": 0, \"ticks\": \"\"}, \"type\": \"mesh3d\"}], \"parcoords\": [{\"line\": {\"colorbar\": {\"outlinewidth\": 0, \"ticks\": \"\"}}, \"type\": \"parcoords\"}], \"pie\": [{\"automargin\": true, \"type\": \"pie\"}], \"scatter\": [{\"marker\": {\"colorbar\": {\"outlinewidth\": 0, \"ticks\": \"\"}}, \"type\": \"scatter\"}], \"scatter3d\": [{\"line\": {\"colorbar\": {\"outlinewidth\": 0, \"ticks\": \"\"}}, \"marker\": {\"colorbar\": {\"outlinewidth\": 0, \"ticks\": \"\"}}, \"type\": \"scatter3d\"}], \"scattercarpet\": [{\"marker\": {\"colorbar\": {\"outlinewidth\": 0, \"ticks\": \"\"}}, \"type\": \"scattercarpet\"}], \"scattergeo\": [{\"marker\": {\"colorbar\": {\"outlinewidth\": 0, \"ticks\": \"\"}}, \"type\": \"scattergeo\"}], \"scattergl\": [{\"marker\": {\"colorbar\": {\"outlinewidth\": 0, \"ticks\": \"\"}}, \"type\": \"scattergl\"}], \"scattermapbox\": [{\"marker\": {\"colorbar\": {\"outlinewidth\": 0, \"ticks\": \"\"}}, \"type\": \"scattermapbox\"}], \"scatterpolar\": [{\"marker\": {\"colorbar\": {\"outlinewidth\": 0, \"ticks\": \"\"}}, \"type\": \"scatterpolar\"}], \"scatterpolargl\": [{\"marker\": {\"colorbar\": {\"outlinewidth\": 0, \"ticks\": \"\"}}, \"type\": \"scatterpolargl\"}], \"scatterternary\": [{\"marker\": {\"colorbar\": {\"outlinewidth\": 0, \"ticks\": \"\"}}, \"type\": \"scatterternary\"}], \"surface\": [{\"colorbar\": {\"outlinewidth\": 0, \"ticks\": \"\"}, \"colorscale\": [[0.0, \"#0d0887\"], [0.1111111111111111, \"#46039f\"], [0.2222222222222222, \"#7201a8\"], [0.3333333333333333, \"#9c179e\"], [0.4444444444444444, \"#bd3786\"], [0.5555555555555556, \"#d8576b\"], [0.6666666666666666, \"#ed7953\"], [0.7777777777777778, \"#fb9f3a\"], [0.8888888888888888, \"#fdca26\"], [1.0, \"#f0f921\"]], \"type\": \"surface\"}], \"table\": [{\"cells\": {\"fill\": {\"color\": \"#EBF0F8\"}, \"line\": {\"color\": \"white\"}}, \"header\": {\"fill\": {\"color\": \"#C8D4E3\"}, \"line\": {\"color\": \"white\"}}, \"type\": \"table\"}]}, \"layout\": {\"annotationdefaults\": {\"arrowcolor\": \"#2a3f5f\", \"arrowhead\": 0, \"arrowwidth\": 1}, \"coloraxis\": {\"colorbar\": {\"outlinewidth\": 0, \"ticks\": \"\"}}, \"colorscale\": {\"diverging\": [[0, \"#8e0152\"], [0.1, \"#c51b7d\"], [0.2, \"#de77ae\"], [0.3, \"#f1b6da\"], [0.4, \"#fde0ef\"], [0.5, \"#f7f7f7\"], [0.6, \"#e6f5d0\"], [0.7, \"#b8e186\"], [0.8, \"#7fbc41\"], [0.9, \"#4d9221\"], [1, \"#276419\"]], \"sequential\": [[0.0, \"#0d0887\"], [0.1111111111111111, \"#46039f\"], [0.2222222222222222, \"#7201a8\"], [0.3333333333333333, \"#9c179e\"], [0.4444444444444444, \"#bd3786\"], [0.5555555555555556, \"#d8576b\"], [0.6666666666666666, \"#ed7953\"], [0.7777777777777778, \"#fb9f3a\"], [0.8888888888888888, \"#fdca26\"], [1.0, \"#f0f921\"]], \"sequentialminus\": [[0.0, \"#0d0887\"], [0.1111111111111111, \"#46039f\"], [0.2222222222222222, \"#7201a8\"], [0.3333333333333333, \"#9c179e\"], [0.4444444444444444, \"#bd3786\"], [0.5555555555555556, \"#d8576b\"], [0.6666666666666666, \"#ed7953\"], [0.7777777777777778, \"#fb9f3a\"], [0.8888888888888888, \"#fdca26\"], [1.0, \"#f0f921\"]]}, \"colorway\": [\"#636efa\", \"#EF553B\", \"#00cc96\", \"#ab63fa\", \"#FFA15A\", \"#19d3f3\", \"#FF6692\", \"#B6E880\", \"#FF97FF\", \"#FECB52\"], \"font\": {\"color\": \"#2a3f5f\"}, \"geo\": {\"bgcolor\": \"white\", \"lakecolor\": \"white\", \"landcolor\": \"#E5ECF6\", \"showlakes\": true, \"showland\": true, \"subunitcolor\": \"white\"}, \"hoverlabel\": {\"align\": \"left\"}, \"hovermode\": \"closest\", \"mapbox\": {\"style\": \"light\"}, \"paper_bgcolor\": \"white\", \"plot_bgcolor\": \"#E5ECF6\", \"polar\": {\"angularaxis\": {\"gridcolor\": \"white\", \"linecolor\": \"white\", \"ticks\": \"\"}, \"bgcolor\": \"#E5ECF6\", \"radialaxis\": {\"gridcolor\": \"white\", \"linecolor\": \"white\", \"ticks\": \"\"}}, \"scene\": {\"xaxis\": {\"backgroundcolor\": \"#E5ECF6\", \"gridcolor\": \"white\", \"gridwidth\": 2, \"linecolor\": \"white\", \"showbackground\": true, \"ticks\": \"\", \"zerolinecolor\": \"white\"}, \"yaxis\": {\"backgroundcolor\": \"#E5ECF6\", \"gridcolor\": \"white\", \"gridwidth\": 2, \"linecolor\": \"white\", \"showbackground\": true, \"ticks\": \"\", \"zerolinecolor\": \"white\"}, \"zaxis\": {\"backgroundcolor\": \"#E5ECF6\", \"gridcolor\": \"white\", \"gridwidth\": 2, \"linecolor\": \"white\", \"showbackground\": true, \"ticks\": \"\", \"zerolinecolor\": \"white\"}}, \"shapedefaults\": {\"line\": {\"color\": \"#2a3f5f\"}}, \"ternary\": {\"aaxis\": {\"gridcolor\": \"white\", \"linecolor\": \"white\", \"ticks\": \"\"}, \"baxis\": {\"gridcolor\": \"white\", \"linecolor\": \"white\", \"ticks\": \"\"}, \"bgcolor\": \"#E5ECF6\", \"caxis\": {\"gridcolor\": \"white\", \"linecolor\": \"white\", \"ticks\": \"\"}}, \"title\": {\"x\": 0.05}, \"xaxis\": {\"automargin\": true, \"gridcolor\": \"white\", \"linecolor\": \"white\", \"ticks\": \"\", \"title\": {\"standoff\": 15}, \"zerolinecolor\": \"white\", \"zerolinewidth\": 2}, \"yaxis\": {\"automargin\": true, \"gridcolor\": \"white\", \"linecolor\": \"white\", \"ticks\": \"\", \"title\": {\"standoff\": 15}, \"zerolinecolor\": \"white\", \"zerolinewidth\": 2}}}, \"title\": {\"text\": \"\\uc9c4\\ub8cc\\uacfc\\ubaa9\\ubcc4 \\uc785\\uc6d0 \\uc5ec\\ubd80 \\ube44\\uc728\"}, \"xaxis\": {\"title\": {\"text\": \"\\uc9c4\\ub8cc\\uacfc\\ubaa9\\uba85\"}}, \"yaxis\": {\"title\": {\"text\": \"\\ube44\\uc728\"}}},\n",
              "                        {\"responsive\": true}\n",
              "                    ).then(function(){\n",
              "                            \n",
              "var gd = document.getElementById('41976097-41a3-4802-95e3-53500a6add24');\n",
              "var x = new MutationObserver(function (mutations, observer) {{\n",
              "        var display = window.getComputedStyle(gd).display;\n",
              "        if (!display || display === 'none') {{\n",
              "            console.log([gd, 'removed!']);\n",
              "            Plotly.purge(gd);\n",
              "            observer.disconnect();\n",
              "        }}\n",
              "}});\n",
              "\n",
              "// Listen for the removal of the full notebook cells\n",
              "var notebookContainer = gd.closest('#notebook-container');\n",
              "if (notebookContainer) {{\n",
              "    x.observe(notebookContainer, {childList: true});\n",
              "}}\n",
              "\n",
              "// Listen for the clearing of the current output cell\n",
              "var outputEl = gd.closest('.output');\n",
              "if (outputEl) {{\n",
              "    x.observe(outputEl, {childList: true});\n",
              "}}\n",
              "\n",
              "                        })\n",
              "                };\n",
              "                \n",
              "            </script>\n",
              "        </div>\n",
              "</body>\n",
              "</html>"
            ]
          },
          "metadata": {}
        }
      ]
    },
    {
      "cell_type": "markdown",
      "metadata": {
        "id": "7QpxLbF8Htnp"
      },
      "source": [
        "## 5) 상병코드 별 입원 비율 \n",
        "- 주상병코드 \n",
        "- 부상병코드"
      ]
    },
    {
      "cell_type": "code",
      "metadata": {
        "colab": {
          "base_uri": "https://localhost:8080/",
          "height": 112
        },
        "id": "KR9flEE-HQyj",
        "outputId": "c5973dc3-0663-4815-9008-35fa0d7306a0"
      },
      "source": [
        "# 주상병코드 별 입원 여부 회수 계산\n",
        "df_ju = df.groupby(['주상병코드','입원여부']).count()\n",
        "df_ju = df_ju[['성별코드']]\n",
        "df_ju.columns = ['회수']\n",
        "df_ju.reset_index(inplace = True)\n",
        "\n",
        "\n",
        "# 주상병코드 별 입원 비율 \n",
        "df_sum = pd.DataFrame(df.groupby(['주상병코드']).count()['성별코드'])\n",
        "df_sum.reset_index(inplace = True)\n",
        "df_ju = pd.merge(df_ju, df_sum, how = 'outer', on = ['주상병코드'])\n",
        "df_ju['비율'] = df_ju['회수']/df_ju['성별코드']\n",
        "df_ju.drop('성별코드', axis = 1, inplace = True)\n",
        "df_ju.head(2)"
      ],
      "execution_count": 47,
      "outputs": [
        {
          "output_type": "execute_result",
          "data": {
            "text/html": [
              "<div>\n",
              "<style scoped>\n",
              "    .dataframe tbody tr th:only-of-type {\n",
              "        vertical-align: middle;\n",
              "    }\n",
              "\n",
              "    .dataframe tbody tr th {\n",
              "        vertical-align: top;\n",
              "    }\n",
              "\n",
              "    .dataframe thead th {\n",
              "        text-align: right;\n",
              "    }\n",
              "</style>\n",
              "<table border=\"1\" class=\"dataframe\">\n",
              "  <thead>\n",
              "    <tr style=\"text-align: right;\">\n",
              "      <th></th>\n",
              "      <th>주상병코드</th>\n",
              "      <th>입원여부</th>\n",
              "      <th>회수</th>\n",
              "      <th>비율</th>\n",
              "    </tr>\n",
              "  </thead>\n",
              "  <tbody>\n",
              "    <tr>\n",
              "      <th>0</th>\n",
              "      <td>A</td>\n",
              "      <td>0</td>\n",
              "      <td>191940</td>\n",
              "      <td>0.948465</td>\n",
              "    </tr>\n",
              "    <tr>\n",
              "      <th>1</th>\n",
              "      <td>A</td>\n",
              "      <td>1</td>\n",
              "      <td>10429</td>\n",
              "      <td>0.051535</td>\n",
              "    </tr>\n",
              "  </tbody>\n",
              "</table>\n",
              "</div>"
            ],
            "text/plain": [
              "  주상병코드  입원여부      회수        비율\n",
              "0     A     0  191940  0.948465\n",
              "1     A     1   10429  0.051535"
            ]
          },
          "metadata": {},
          "execution_count": 47
        }
      ]
    },
    {
      "cell_type": "code",
      "metadata": {
        "colab": {
          "base_uri": "https://localhost:8080/",
          "height": 542
        },
        "id": "xVKgk0uRH2ZJ",
        "outputId": "ad85caca-5d44-4b91-eee4-040d1860e2b5"
      },
      "source": [
        "fig = go.Figure()\n",
        "\n",
        "fig.add_trace(go.Bar(x = df_ju[df_ju['입원여부']==0]['주상병코드'], y = df_ju[df_ju['입원여부']==0]['비율'], name = '입원 X'))\n",
        "fig.add_trace(go.Bar(x = df_ju[df_ju['입원여부']==1]['주상병코드'], y = df_ju[df_ju['입원여부']==1]['비율'], name = '입원 O'))\n",
        "\n",
        "fig.update_layout(title = '주상병코드 별 입원 여부 비율', xaxis_title = '주상병코드', yaxis_title = '비율', barmode=\"stack\" )\n",
        "\n",
        "fig.write_html(\"/content/drive/MyDrive/data/국민건강보험공단_진료내역정보_20191231/ju.html\")\n",
        "fig.show()"
      ],
      "execution_count": 48,
      "outputs": [
        {
          "output_type": "display_data",
          "data": {
            "text/html": [
              "<html>\n",
              "<head><meta charset=\"utf-8\" /></head>\n",
              "<body>\n",
              "    <div>\n",
              "            <script src=\"https://cdnjs.cloudflare.com/ajax/libs/mathjax/2.7.5/MathJax.js?config=TeX-AMS-MML_SVG\"></script><script type=\"text/javascript\">if (window.MathJax) {MathJax.Hub.Config({SVG: {font: \"STIX-Web\"}});}</script>\n",
              "                <script type=\"text/javascript\">window.PlotlyConfig = {MathJaxConfig: 'local'};</script>\n",
              "        <script src=\"https://cdn.plot.ly/plotly-latest.min.js\"></script>    \n",
              "            <div id=\"2b0abb47-c2c9-407f-af71-c5159fe5b8e5\" class=\"plotly-graph-div\" style=\"height:525px; width:100%;\"></div>\n",
              "            <script type=\"text/javascript\">\n",
              "                \n",
              "                    window.PLOTLYENV=window.PLOTLYENV || {};\n",
              "                    \n",
              "                if (document.getElementById(\"2b0abb47-c2c9-407f-af71-c5159fe5b8e5\")) {\n",
              "                    Plotly.newPlot(\n",
              "                        '2b0abb47-c2c9-407f-af71-c5159fe5b8e5',\n",
              "                        [{\"name\": \"\\uc785\\uc6d0 X\", \"type\": \"bar\", \"x\": [\"A\", \"B\", \"C\", \"D\", \"E\", \"F\", \"G\", \"H\", \"I\", \"J\", \"K\", \"L\", \"M\", \"N\", \"O\", \"P\", \"Q\", \"R\", \"S\", \"T\", \"U\", \"Z\"], \"y\": [0.9484654270169838, 0.9880121811119823, 0.850259652541716, 0.9436820323557339, 0.9923601924658946, 0.9298794126835364, 0.9119167251967512, 0.9921090181625234, 0.9753464010933138, 0.9915936790590569, 0.9811935234116406, 0.9967746089638931, 0.9857181287267834, 0.9817034348956256, 0.6825284405294144, 0.8056001166690973, 0.9316461020751542, 0.9584137234712545, 0.9617021335142104, 0.9624045475615409, 0.8944444444444445, 0.9327482000132109]}, {\"name\": \"\\uc785\\uc6d0 O\", \"type\": \"bar\", \"x\": [\"A\", \"B\", \"C\", \"D\", \"E\", \"F\", \"G\", \"H\", \"I\", \"J\", \"K\", \"L\", \"M\", \"N\", \"O\", \"P\", \"Q\", \"R\", \"S\", \"T\", \"U\", \"Z\"], \"y\": [0.051534572983016176, 0.011987818888017652, 0.14974034745828396, 0.05631796764426608, 0.007639807534105441, 0.0701205873164636, 0.08808327480324887, 0.007890981837476607, 0.024653598906686135, 0.008406320940943015, 0.01880647658835939, 0.0032253910361069132, 0.014281871273216545, 0.01829656510437441, 0.31747155947058564, 0.19439988333090272, 0.06835389792484577, 0.04158627652874551, 0.038297866485789644, 0.0375954524384591, 0.10555555555555556, 0.06725179998678908]}],\n",
              "                        {\"barmode\": \"stack\", \"template\": {\"data\": {\"bar\": [{\"error_x\": {\"color\": \"#2a3f5f\"}, \"error_y\": {\"color\": \"#2a3f5f\"}, \"marker\": {\"line\": {\"color\": \"#E5ECF6\", \"width\": 0.5}}, \"type\": \"bar\"}], \"barpolar\": [{\"marker\": {\"line\": {\"color\": \"#E5ECF6\", \"width\": 0.5}}, \"type\": \"barpolar\"}], \"carpet\": [{\"aaxis\": {\"endlinecolor\": \"#2a3f5f\", \"gridcolor\": \"white\", \"linecolor\": \"white\", \"minorgridcolor\": \"white\", \"startlinecolor\": \"#2a3f5f\"}, \"baxis\": {\"endlinecolor\": \"#2a3f5f\", \"gridcolor\": \"white\", \"linecolor\": \"white\", \"minorgridcolor\": \"white\", \"startlinecolor\": \"#2a3f5f\"}, \"type\": \"carpet\"}], \"choropleth\": [{\"colorbar\": {\"outlinewidth\": 0, \"ticks\": \"\"}, \"type\": \"choropleth\"}], \"contour\": [{\"colorbar\": {\"outlinewidth\": 0, \"ticks\": \"\"}, \"colorscale\": [[0.0, \"#0d0887\"], [0.1111111111111111, \"#46039f\"], [0.2222222222222222, \"#7201a8\"], [0.3333333333333333, \"#9c179e\"], [0.4444444444444444, \"#bd3786\"], [0.5555555555555556, \"#d8576b\"], [0.6666666666666666, \"#ed7953\"], [0.7777777777777778, \"#fb9f3a\"], [0.8888888888888888, \"#fdca26\"], [1.0, \"#f0f921\"]], \"type\": \"contour\"}], \"contourcarpet\": [{\"colorbar\": {\"outlinewidth\": 0, \"ticks\": \"\"}, \"type\": \"contourcarpet\"}], \"heatmap\": [{\"colorbar\": {\"outlinewidth\": 0, \"ticks\": \"\"}, \"colorscale\": [[0.0, \"#0d0887\"], [0.1111111111111111, \"#46039f\"], [0.2222222222222222, \"#7201a8\"], [0.3333333333333333, \"#9c179e\"], [0.4444444444444444, \"#bd3786\"], [0.5555555555555556, \"#d8576b\"], [0.6666666666666666, \"#ed7953\"], [0.7777777777777778, \"#fb9f3a\"], [0.8888888888888888, \"#fdca26\"], [1.0, \"#f0f921\"]], \"type\": \"heatmap\"}], \"heatmapgl\": [{\"colorbar\": {\"outlinewidth\": 0, \"ticks\": \"\"}, \"colorscale\": [[0.0, \"#0d0887\"], [0.1111111111111111, \"#46039f\"], [0.2222222222222222, \"#7201a8\"], [0.3333333333333333, \"#9c179e\"], [0.4444444444444444, \"#bd3786\"], [0.5555555555555556, \"#d8576b\"], [0.6666666666666666, \"#ed7953\"], [0.7777777777777778, \"#fb9f3a\"], [0.8888888888888888, \"#fdca26\"], [1.0, \"#f0f921\"]], \"type\": \"heatmapgl\"}], \"histogram\": [{\"marker\": {\"colorbar\": {\"outlinewidth\": 0, \"ticks\": \"\"}}, \"type\": \"histogram\"}], \"histogram2d\": [{\"colorbar\": {\"outlinewidth\": 0, \"ticks\": \"\"}, \"colorscale\": [[0.0, \"#0d0887\"], [0.1111111111111111, \"#46039f\"], [0.2222222222222222, \"#7201a8\"], [0.3333333333333333, \"#9c179e\"], [0.4444444444444444, \"#bd3786\"], [0.5555555555555556, \"#d8576b\"], [0.6666666666666666, \"#ed7953\"], [0.7777777777777778, \"#fb9f3a\"], [0.8888888888888888, \"#fdca26\"], [1.0, \"#f0f921\"]], \"type\": \"histogram2d\"}], \"histogram2dcontour\": [{\"colorbar\": {\"outlinewidth\": 0, \"ticks\": \"\"}, \"colorscale\": [[0.0, \"#0d0887\"], [0.1111111111111111, \"#46039f\"], [0.2222222222222222, \"#7201a8\"], [0.3333333333333333, \"#9c179e\"], [0.4444444444444444, \"#bd3786\"], [0.5555555555555556, \"#d8576b\"], [0.6666666666666666, \"#ed7953\"], [0.7777777777777778, \"#fb9f3a\"], [0.8888888888888888, \"#fdca26\"], [1.0, \"#f0f921\"]], \"type\": \"histogram2dcontour\"}], \"mesh3d\": [{\"colorbar\": {\"outlinewidth\": 0, \"ticks\": \"\"}, \"type\": \"mesh3d\"}], \"parcoords\": [{\"line\": {\"colorbar\": {\"outlinewidth\": 0, \"ticks\": \"\"}}, \"type\": \"parcoords\"}], \"pie\": [{\"automargin\": true, \"type\": \"pie\"}], \"scatter\": [{\"marker\": {\"colorbar\": {\"outlinewidth\": 0, \"ticks\": \"\"}}, \"type\": \"scatter\"}], \"scatter3d\": [{\"line\": {\"colorbar\": {\"outlinewidth\": 0, \"ticks\": \"\"}}, \"marker\": {\"colorbar\": {\"outlinewidth\": 0, \"ticks\": \"\"}}, \"type\": \"scatter3d\"}], \"scattercarpet\": [{\"marker\": {\"colorbar\": {\"outlinewidth\": 0, \"ticks\": \"\"}}, \"type\": \"scattercarpet\"}], \"scattergeo\": [{\"marker\": {\"colorbar\": {\"outlinewidth\": 0, \"ticks\": \"\"}}, \"type\": \"scattergeo\"}], \"scattergl\": [{\"marker\": {\"colorbar\": {\"outlinewidth\": 0, \"ticks\": \"\"}}, \"type\": \"scattergl\"}], \"scattermapbox\": [{\"marker\": {\"colorbar\": {\"outlinewidth\": 0, \"ticks\": \"\"}}, \"type\": \"scattermapbox\"}], \"scatterpolar\": [{\"marker\": {\"colorbar\": {\"outlinewidth\": 0, \"ticks\": \"\"}}, \"type\": \"scatterpolar\"}], \"scatterpolargl\": [{\"marker\": {\"colorbar\": {\"outlinewidth\": 0, \"ticks\": \"\"}}, \"type\": \"scatterpolargl\"}], \"scatterternary\": [{\"marker\": {\"colorbar\": {\"outlinewidth\": 0, \"ticks\": \"\"}}, \"type\": \"scatterternary\"}], \"surface\": [{\"colorbar\": {\"outlinewidth\": 0, \"ticks\": \"\"}, \"colorscale\": [[0.0, \"#0d0887\"], [0.1111111111111111, \"#46039f\"], [0.2222222222222222, \"#7201a8\"], [0.3333333333333333, \"#9c179e\"], [0.4444444444444444, \"#bd3786\"], [0.5555555555555556, \"#d8576b\"], [0.6666666666666666, \"#ed7953\"], [0.7777777777777778, \"#fb9f3a\"], [0.8888888888888888, \"#fdca26\"], [1.0, \"#f0f921\"]], \"type\": \"surface\"}], \"table\": [{\"cells\": {\"fill\": {\"color\": \"#EBF0F8\"}, \"line\": {\"color\": \"white\"}}, \"header\": {\"fill\": {\"color\": \"#C8D4E3\"}, \"line\": {\"color\": \"white\"}}, \"type\": \"table\"}]}, \"layout\": {\"annotationdefaults\": {\"arrowcolor\": \"#2a3f5f\", \"arrowhead\": 0, \"arrowwidth\": 1}, \"coloraxis\": {\"colorbar\": {\"outlinewidth\": 0, \"ticks\": \"\"}}, \"colorscale\": {\"diverging\": [[0, \"#8e0152\"], [0.1, \"#c51b7d\"], [0.2, \"#de77ae\"], [0.3, \"#f1b6da\"], [0.4, \"#fde0ef\"], [0.5, \"#f7f7f7\"], [0.6, \"#e6f5d0\"], [0.7, \"#b8e186\"], [0.8, \"#7fbc41\"], [0.9, \"#4d9221\"], [1, \"#276419\"]], \"sequential\": [[0.0, \"#0d0887\"], [0.1111111111111111, \"#46039f\"], [0.2222222222222222, \"#7201a8\"], [0.3333333333333333, \"#9c179e\"], [0.4444444444444444, \"#bd3786\"], [0.5555555555555556, \"#d8576b\"], [0.6666666666666666, \"#ed7953\"], [0.7777777777777778, \"#fb9f3a\"], [0.8888888888888888, \"#fdca26\"], [1.0, \"#f0f921\"]], \"sequentialminus\": [[0.0, \"#0d0887\"], [0.1111111111111111, \"#46039f\"], [0.2222222222222222, \"#7201a8\"], [0.3333333333333333, \"#9c179e\"], [0.4444444444444444, \"#bd3786\"], [0.5555555555555556, \"#d8576b\"], [0.6666666666666666, \"#ed7953\"], [0.7777777777777778, \"#fb9f3a\"], [0.8888888888888888, \"#fdca26\"], [1.0, \"#f0f921\"]]}, \"colorway\": [\"#636efa\", \"#EF553B\", \"#00cc96\", \"#ab63fa\", \"#FFA15A\", \"#19d3f3\", \"#FF6692\", \"#B6E880\", \"#FF97FF\", \"#FECB52\"], \"font\": {\"color\": \"#2a3f5f\"}, \"geo\": {\"bgcolor\": \"white\", \"lakecolor\": \"white\", \"landcolor\": \"#E5ECF6\", \"showlakes\": true, \"showland\": true, \"subunitcolor\": \"white\"}, \"hoverlabel\": {\"align\": \"left\"}, \"hovermode\": \"closest\", \"mapbox\": {\"style\": \"light\"}, \"paper_bgcolor\": \"white\", \"plot_bgcolor\": \"#E5ECF6\", \"polar\": {\"angularaxis\": {\"gridcolor\": \"white\", \"linecolor\": \"white\", \"ticks\": \"\"}, \"bgcolor\": \"#E5ECF6\", \"radialaxis\": {\"gridcolor\": \"white\", \"linecolor\": \"white\", \"ticks\": \"\"}}, \"scene\": {\"xaxis\": {\"backgroundcolor\": \"#E5ECF6\", \"gridcolor\": \"white\", \"gridwidth\": 2, \"linecolor\": \"white\", \"showbackground\": true, \"ticks\": \"\", \"zerolinecolor\": \"white\"}, \"yaxis\": {\"backgroundcolor\": \"#E5ECF6\", \"gridcolor\": \"white\", \"gridwidth\": 2, \"linecolor\": \"white\", \"showbackground\": true, \"ticks\": \"\", \"zerolinecolor\": \"white\"}, \"zaxis\": {\"backgroundcolor\": \"#E5ECF6\", \"gridcolor\": \"white\", \"gridwidth\": 2, \"linecolor\": \"white\", \"showbackground\": true, \"ticks\": \"\", \"zerolinecolor\": \"white\"}}, \"shapedefaults\": {\"line\": {\"color\": \"#2a3f5f\"}}, \"ternary\": {\"aaxis\": {\"gridcolor\": \"white\", \"linecolor\": \"white\", \"ticks\": \"\"}, \"baxis\": {\"gridcolor\": \"white\", \"linecolor\": \"white\", \"ticks\": \"\"}, \"bgcolor\": \"#E5ECF6\", \"caxis\": {\"gridcolor\": \"white\", \"linecolor\": \"white\", \"ticks\": \"\"}}, \"title\": {\"x\": 0.05}, \"xaxis\": {\"automargin\": true, \"gridcolor\": \"white\", \"linecolor\": \"white\", \"ticks\": \"\", \"title\": {\"standoff\": 15}, \"zerolinecolor\": \"white\", \"zerolinewidth\": 2}, \"yaxis\": {\"automargin\": true, \"gridcolor\": \"white\", \"linecolor\": \"white\", \"ticks\": \"\", \"title\": {\"standoff\": 15}, \"zerolinecolor\": \"white\", \"zerolinewidth\": 2}}}, \"title\": {\"text\": \"\\uc8fc\\uc0c1\\ubcd1\\ucf54\\ub4dc \\ubcc4 \\uc785\\uc6d0 \\uc5ec\\ubd80 \\ube44\\uc728\"}, \"xaxis\": {\"title\": {\"text\": \"\\uc8fc\\uc0c1\\ubcd1\\ucf54\\ub4dc\"}}, \"yaxis\": {\"title\": {\"text\": \"\\ube44\\uc728\"}}},\n",
              "                        {\"responsive\": true}\n",
              "                    ).then(function(){\n",
              "                            \n",
              "var gd = document.getElementById('2b0abb47-c2c9-407f-af71-c5159fe5b8e5');\n",
              "var x = new MutationObserver(function (mutations, observer) {{\n",
              "        var display = window.getComputedStyle(gd).display;\n",
              "        if (!display || display === 'none') {{\n",
              "            console.log([gd, 'removed!']);\n",
              "            Plotly.purge(gd);\n",
              "            observer.disconnect();\n",
              "        }}\n",
              "}});\n",
              "\n",
              "// Listen for the removal of the full notebook cells\n",
              "var notebookContainer = gd.closest('#notebook-container');\n",
              "if (notebookContainer) {{\n",
              "    x.observe(notebookContainer, {childList: true});\n",
              "}}\n",
              "\n",
              "// Listen for the clearing of the current output cell\n",
              "var outputEl = gd.closest('.output');\n",
              "if (outputEl) {{\n",
              "    x.observe(outputEl, {childList: true});\n",
              "}}\n",
              "\n",
              "                        })\n",
              "                };\n",
              "                \n",
              "            </script>\n",
              "        </div>\n",
              "</body>\n",
              "</html>"
            ]
          },
          "metadata": {}
        }
      ]
    },
    {
      "cell_type": "code",
      "metadata": {
        "colab": {
          "base_uri": "https://localhost:8080/",
          "height": 112
        },
        "id": "gsrgQZKaIIg_",
        "outputId": "44ed3491-89ff-41e6-9457-32c5e9ec16fa"
      },
      "source": [
        "# 부상병코드 별 입원 여부 회수 계산\n",
        "df_bu = df.groupby(['부상병코드','입원여부']).count()\n",
        "df_bu = df_bu[['성별코드']]\n",
        "df_bu.columns = ['회수']\n",
        "df_bu.reset_index(inplace = True)\n",
        "\n",
        "\n",
        "# 부상병코드 별 입원 비율 \n",
        "df_sum = pd.DataFrame(df.groupby(['부상병코드']).count()['성별코드'])\n",
        "df_sum.reset_index(inplace = True)\n",
        "df_bu = pd.merge(df_bu, df_sum, how = 'outer', on = ['부상병코드'])\n",
        "df_bu['비율'] = df_bu['회수']/df_bu['성별코드']\n",
        "df_bu.drop('성별코드', axis = 1, inplace = True)\n",
        "df_bu.head(2)"
      ],
      "execution_count": 49,
      "outputs": [
        {
          "output_type": "execute_result",
          "data": {
            "text/html": [
              "<div>\n",
              "<style scoped>\n",
              "    .dataframe tbody tr th:only-of-type {\n",
              "        vertical-align: middle;\n",
              "    }\n",
              "\n",
              "    .dataframe tbody tr th {\n",
              "        vertical-align: top;\n",
              "    }\n",
              "\n",
              "    .dataframe thead th {\n",
              "        text-align: right;\n",
              "    }\n",
              "</style>\n",
              "<table border=\"1\" class=\"dataframe\">\n",
              "  <thead>\n",
              "    <tr style=\"text-align: right;\">\n",
              "      <th></th>\n",
              "      <th>부상병코드</th>\n",
              "      <th>입원여부</th>\n",
              "      <th>회수</th>\n",
              "      <th>비율</th>\n",
              "    </tr>\n",
              "  </thead>\n",
              "  <tbody>\n",
              "    <tr>\n",
              "      <th>0</th>\n",
              "      <td>A</td>\n",
              "      <td>0</td>\n",
              "      <td>159286</td>\n",
              "      <td>0.971938</td>\n",
              "    </tr>\n",
              "    <tr>\n",
              "      <th>1</th>\n",
              "      <td>A</td>\n",
              "      <td>1</td>\n",
              "      <td>4599</td>\n",
              "      <td>0.028062</td>\n",
              "    </tr>\n",
              "  </tbody>\n",
              "</table>\n",
              "</div>"
            ],
            "text/plain": [
              "  부상병코드  입원여부      회수        비율\n",
              "0     A     0  159286  0.971938\n",
              "1     A     1    4599  0.028062"
            ]
          },
          "metadata": {},
          "execution_count": 49
        }
      ]
    },
    {
      "cell_type": "code",
      "metadata": {
        "colab": {
          "base_uri": "https://localhost:8080/",
          "height": 542
        },
        "id": "1V-ETvcnIYOj",
        "outputId": "14cfaa17-c3d2-4c69-f43b-9212c25383be"
      },
      "source": [
        "fig = go.Figure()\n",
        "\n",
        "fig.add_trace(go.Bar(x = df_bu[df_bu['입원여부']==0]['부상병코드'], y = df_bu[df_bu['입원여부']==0]['비율'], name = '입원 X'))\n",
        "fig.add_trace(go.Bar(x = df_bu[df_bu['입원여부']==1]['부상병코드'], y = df_bu[df_bu['입원여부']==1]['비율'], name = '입원 O'))\n",
        "\n",
        "fig.update_layout(title = '부상병코드 별 입원 여부 비율', xaxis_title = '부상병코드', yaxis_title = '비율', barmode=\"stack\" )\n",
        "\n",
        "fig.write_html(\"/content/drive/MyDrive/data/국민건강보험공단_진료내역정보_20191231/bu.html\")\n",
        "fig.show()"
      ],
      "execution_count": 50,
      "outputs": [
        {
          "output_type": "display_data",
          "data": {
            "text/html": [
              "<html>\n",
              "<head><meta charset=\"utf-8\" /></head>\n",
              "<body>\n",
              "    <div>\n",
              "            <script src=\"https://cdnjs.cloudflare.com/ajax/libs/mathjax/2.7.5/MathJax.js?config=TeX-AMS-MML_SVG\"></script><script type=\"text/javascript\">if (window.MathJax) {MathJax.Hub.Config({SVG: {font: \"STIX-Web\"}});}</script>\n",
              "                <script type=\"text/javascript\">window.PlotlyConfig = {MathJaxConfig: 'local'};</script>\n",
              "        <script src=\"https://cdn.plot.ly/plotly-latest.min.js\"></script>    \n",
              "            <div id=\"0dadbd7b-322c-4951-8b7c-127f60697bd7\" class=\"plotly-graph-div\" style=\"height:525px; width:100%;\"></div>\n",
              "            <script type=\"text/javascript\">\n",
              "                \n",
              "                    window.PLOTLYENV=window.PLOTLYENV || {};\n",
              "                    \n",
              "                if (document.getElementById(\"0dadbd7b-322c-4951-8b7c-127f60697bd7\")) {\n",
              "                    Plotly.newPlot(\n",
              "                        '0dadbd7b-322c-4951-8b7c-127f60697bd7',\n",
              "                        [{\"name\": \"\\uc785\\uc6d0 X\", \"type\": \"bar\", \"x\": [\"A\", \"B\", \"C\", \"D\", \"E\", \"F\", \"G\", \"H\", \"I\", \"J\", \"K\", \"L\", \"M\", \"N\", \"O\", \"P\", \"Q\", \"R\", \"S\", \"T\", \"U\", \"V\", \"W\", \"X\", \"Y\", \"Z\"], \"y\": [0.9719376391982183, 0.9832299124900556, 0.7843215583328578, 0.9475501562657526, 0.9799612227479162, 0.9593594526539874, 0.9308059712014664, 0.9921844158000117, 0.9457136937666569, 0.9912501582387506, 0.9859568295135486, 0.9945192082898415, 0.9836931564379913, 0.9771967791883249, 0.8220075655228317, 0.6545713269299182, 0.9041595197255574, 0.953605577916811, 0.9571921555424627, 0.9515303582452158, 0.8509687034277198, 0.5841584158415841, 0.7003105590062112, 0.7418899858956276, 0.8909321496512366, 0.9399715504978663]}, {\"name\": \"\\uc785\\uc6d0 O\", \"type\": \"bar\", \"x\": [\"A\", \"B\", \"C\", \"D\", \"E\", \"F\", \"G\", \"H\", \"I\", \"J\", \"K\", \"L\", \"M\", \"N\", \"O\", \"P\", \"Q\", \"R\", \"S\", \"T\", \"U\", \"V\", \"W\", \"X\", \"Y\", \"Z\"], \"y\": [0.028062360801781736, 0.016770087509944312, 0.21567844166714223, 0.0524498437342474, 0.02003877725208375, 0.0406405473460126, 0.06919402879853363, 0.007815584199988257, 0.05428630623334307, 0.008749841761249374, 0.014043170486451428, 0.00548079171015848, 0.01630684356200869, 0.022803220811675105, 0.17799243447716834, 0.34542867307008185, 0.09584048027444254, 0.046394422083188946, 0.04280784445753724, 0.048469641754784236, 0.14903129657228018, 0.4158415841584158, 0.2996894409937888, 0.25811001410437234, 0.10906785034876347, 0.060028449502133714]}],\n",
              "                        {\"barmode\": \"stack\", \"template\": {\"data\": {\"bar\": [{\"error_x\": {\"color\": \"#2a3f5f\"}, \"error_y\": {\"color\": \"#2a3f5f\"}, \"marker\": {\"line\": {\"color\": \"#E5ECF6\", \"width\": 0.5}}, \"type\": \"bar\"}], \"barpolar\": [{\"marker\": {\"line\": {\"color\": \"#E5ECF6\", \"width\": 0.5}}, \"type\": \"barpolar\"}], \"carpet\": [{\"aaxis\": {\"endlinecolor\": \"#2a3f5f\", \"gridcolor\": \"white\", \"linecolor\": \"white\", \"minorgridcolor\": \"white\", \"startlinecolor\": \"#2a3f5f\"}, \"baxis\": {\"endlinecolor\": \"#2a3f5f\", \"gridcolor\": \"white\", \"linecolor\": \"white\", \"minorgridcolor\": \"white\", \"startlinecolor\": \"#2a3f5f\"}, \"type\": \"carpet\"}], \"choropleth\": [{\"colorbar\": {\"outlinewidth\": 0, \"ticks\": \"\"}, \"type\": \"choropleth\"}], \"contour\": [{\"colorbar\": {\"outlinewidth\": 0, \"ticks\": \"\"}, \"colorscale\": [[0.0, \"#0d0887\"], [0.1111111111111111, \"#46039f\"], [0.2222222222222222, \"#7201a8\"], [0.3333333333333333, \"#9c179e\"], [0.4444444444444444, \"#bd3786\"], [0.5555555555555556, \"#d8576b\"], [0.6666666666666666, \"#ed7953\"], [0.7777777777777778, \"#fb9f3a\"], [0.8888888888888888, \"#fdca26\"], [1.0, \"#f0f921\"]], \"type\": \"contour\"}], \"contourcarpet\": [{\"colorbar\": {\"outlinewidth\": 0, \"ticks\": \"\"}, \"type\": \"contourcarpet\"}], \"heatmap\": [{\"colorbar\": {\"outlinewidth\": 0, \"ticks\": \"\"}, \"colorscale\": [[0.0, \"#0d0887\"], [0.1111111111111111, \"#46039f\"], [0.2222222222222222, \"#7201a8\"], [0.3333333333333333, \"#9c179e\"], [0.4444444444444444, \"#bd3786\"], [0.5555555555555556, \"#d8576b\"], [0.6666666666666666, \"#ed7953\"], [0.7777777777777778, \"#fb9f3a\"], [0.8888888888888888, \"#fdca26\"], [1.0, \"#f0f921\"]], \"type\": \"heatmap\"}], \"heatmapgl\": [{\"colorbar\": {\"outlinewidth\": 0, \"ticks\": \"\"}, \"colorscale\": [[0.0, \"#0d0887\"], [0.1111111111111111, \"#46039f\"], [0.2222222222222222, \"#7201a8\"], [0.3333333333333333, \"#9c179e\"], [0.4444444444444444, \"#bd3786\"], [0.5555555555555556, \"#d8576b\"], [0.6666666666666666, \"#ed7953\"], [0.7777777777777778, \"#fb9f3a\"], [0.8888888888888888, \"#fdca26\"], [1.0, \"#f0f921\"]], \"type\": \"heatmapgl\"}], \"histogram\": [{\"marker\": {\"colorbar\": {\"outlinewidth\": 0, \"ticks\": \"\"}}, \"type\": \"histogram\"}], \"histogram2d\": [{\"colorbar\": {\"outlinewidth\": 0, \"ticks\": \"\"}, \"colorscale\": [[0.0, \"#0d0887\"], [0.1111111111111111, \"#46039f\"], [0.2222222222222222, \"#7201a8\"], [0.3333333333333333, \"#9c179e\"], [0.4444444444444444, \"#bd3786\"], [0.5555555555555556, \"#d8576b\"], [0.6666666666666666, \"#ed7953\"], [0.7777777777777778, \"#fb9f3a\"], [0.8888888888888888, \"#fdca26\"], [1.0, \"#f0f921\"]], \"type\": \"histogram2d\"}], \"histogram2dcontour\": [{\"colorbar\": {\"outlinewidth\": 0, \"ticks\": \"\"}, \"colorscale\": [[0.0, \"#0d0887\"], [0.1111111111111111, \"#46039f\"], [0.2222222222222222, \"#7201a8\"], [0.3333333333333333, \"#9c179e\"], [0.4444444444444444, \"#bd3786\"], [0.5555555555555556, \"#d8576b\"], [0.6666666666666666, \"#ed7953\"], [0.7777777777777778, \"#fb9f3a\"], [0.8888888888888888, \"#fdca26\"], [1.0, \"#f0f921\"]], \"type\": \"histogram2dcontour\"}], \"mesh3d\": [{\"colorbar\": {\"outlinewidth\": 0, \"ticks\": \"\"}, \"type\": \"mesh3d\"}], \"parcoords\": [{\"line\": {\"colorbar\": {\"outlinewidth\": 0, \"ticks\": \"\"}}, \"type\": \"parcoords\"}], \"pie\": [{\"automargin\": true, \"type\": \"pie\"}], \"scatter\": [{\"marker\": {\"colorbar\": {\"outlinewidth\": 0, \"ticks\": \"\"}}, \"type\": \"scatter\"}], \"scatter3d\": [{\"line\": {\"colorbar\": {\"outlinewidth\": 0, \"ticks\": \"\"}}, \"marker\": {\"colorbar\": {\"outlinewidth\": 0, \"ticks\": \"\"}}, \"type\": \"scatter3d\"}], \"scattercarpet\": [{\"marker\": {\"colorbar\": {\"outlinewidth\": 0, \"ticks\": \"\"}}, \"type\": \"scattercarpet\"}], \"scattergeo\": [{\"marker\": {\"colorbar\": {\"outlinewidth\": 0, \"ticks\": \"\"}}, \"type\": \"scattergeo\"}], \"scattergl\": [{\"marker\": {\"colorbar\": {\"outlinewidth\": 0, \"ticks\": \"\"}}, \"type\": \"scattergl\"}], \"scattermapbox\": [{\"marker\": {\"colorbar\": {\"outlinewidth\": 0, \"ticks\": \"\"}}, \"type\": \"scattermapbox\"}], \"scatterpolar\": [{\"marker\": {\"colorbar\": {\"outlinewidth\": 0, \"ticks\": \"\"}}, \"type\": \"scatterpolar\"}], \"scatterpolargl\": [{\"marker\": {\"colorbar\": {\"outlinewidth\": 0, \"ticks\": \"\"}}, \"type\": \"scatterpolargl\"}], \"scatterternary\": [{\"marker\": {\"colorbar\": {\"outlinewidth\": 0, \"ticks\": \"\"}}, \"type\": \"scatterternary\"}], \"surface\": [{\"colorbar\": {\"outlinewidth\": 0, \"ticks\": \"\"}, \"colorscale\": [[0.0, \"#0d0887\"], [0.1111111111111111, \"#46039f\"], [0.2222222222222222, \"#7201a8\"], [0.3333333333333333, \"#9c179e\"], [0.4444444444444444, \"#bd3786\"], [0.5555555555555556, \"#d8576b\"], [0.6666666666666666, \"#ed7953\"], [0.7777777777777778, \"#fb9f3a\"], [0.8888888888888888, \"#fdca26\"], [1.0, \"#f0f921\"]], \"type\": \"surface\"}], \"table\": [{\"cells\": {\"fill\": {\"color\": \"#EBF0F8\"}, \"line\": {\"color\": \"white\"}}, \"header\": {\"fill\": {\"color\": \"#C8D4E3\"}, \"line\": {\"color\": \"white\"}}, \"type\": \"table\"}]}, \"layout\": {\"annotationdefaults\": {\"arrowcolor\": \"#2a3f5f\", \"arrowhead\": 0, \"arrowwidth\": 1}, \"coloraxis\": {\"colorbar\": {\"outlinewidth\": 0, \"ticks\": \"\"}}, \"colorscale\": {\"diverging\": [[0, \"#8e0152\"], [0.1, \"#c51b7d\"], [0.2, \"#de77ae\"], [0.3, \"#f1b6da\"], [0.4, \"#fde0ef\"], [0.5, \"#f7f7f7\"], [0.6, \"#e6f5d0\"], [0.7, \"#b8e186\"], [0.8, \"#7fbc41\"], [0.9, \"#4d9221\"], [1, \"#276419\"]], \"sequential\": [[0.0, \"#0d0887\"], [0.1111111111111111, \"#46039f\"], [0.2222222222222222, \"#7201a8\"], [0.3333333333333333, \"#9c179e\"], [0.4444444444444444, \"#bd3786\"], [0.5555555555555556, \"#d8576b\"], [0.6666666666666666, \"#ed7953\"], [0.7777777777777778, \"#fb9f3a\"], [0.8888888888888888, \"#fdca26\"], [1.0, \"#f0f921\"]], \"sequentialminus\": [[0.0, \"#0d0887\"], [0.1111111111111111, \"#46039f\"], [0.2222222222222222, \"#7201a8\"], [0.3333333333333333, \"#9c179e\"], [0.4444444444444444, \"#bd3786\"], [0.5555555555555556, \"#d8576b\"], [0.6666666666666666, \"#ed7953\"], [0.7777777777777778, \"#fb9f3a\"], [0.8888888888888888, \"#fdca26\"], [1.0, \"#f0f921\"]]}, \"colorway\": [\"#636efa\", \"#EF553B\", \"#00cc96\", \"#ab63fa\", \"#FFA15A\", \"#19d3f3\", \"#FF6692\", \"#B6E880\", \"#FF97FF\", \"#FECB52\"], \"font\": {\"color\": \"#2a3f5f\"}, \"geo\": {\"bgcolor\": \"white\", \"lakecolor\": \"white\", \"landcolor\": \"#E5ECF6\", \"showlakes\": true, \"showland\": true, \"subunitcolor\": \"white\"}, \"hoverlabel\": {\"align\": \"left\"}, \"hovermode\": \"closest\", \"mapbox\": {\"style\": \"light\"}, \"paper_bgcolor\": \"white\", \"plot_bgcolor\": \"#E5ECF6\", \"polar\": {\"angularaxis\": {\"gridcolor\": \"white\", \"linecolor\": \"white\", \"ticks\": \"\"}, \"bgcolor\": \"#E5ECF6\", \"radialaxis\": {\"gridcolor\": \"white\", \"linecolor\": \"white\", \"ticks\": \"\"}}, \"scene\": {\"xaxis\": {\"backgroundcolor\": \"#E5ECF6\", \"gridcolor\": \"white\", \"gridwidth\": 2, \"linecolor\": \"white\", \"showbackground\": true, \"ticks\": \"\", \"zerolinecolor\": \"white\"}, \"yaxis\": {\"backgroundcolor\": \"#E5ECF6\", \"gridcolor\": \"white\", \"gridwidth\": 2, \"linecolor\": \"white\", \"showbackground\": true, \"ticks\": \"\", \"zerolinecolor\": \"white\"}, \"zaxis\": {\"backgroundcolor\": \"#E5ECF6\", \"gridcolor\": \"white\", \"gridwidth\": 2, \"linecolor\": \"white\", \"showbackground\": true, \"ticks\": \"\", \"zerolinecolor\": \"white\"}}, \"shapedefaults\": {\"line\": {\"color\": \"#2a3f5f\"}}, \"ternary\": {\"aaxis\": {\"gridcolor\": \"white\", \"linecolor\": \"white\", \"ticks\": \"\"}, \"baxis\": {\"gridcolor\": \"white\", \"linecolor\": \"white\", \"ticks\": \"\"}, \"bgcolor\": \"#E5ECF6\", \"caxis\": {\"gridcolor\": \"white\", \"linecolor\": \"white\", \"ticks\": \"\"}}, \"title\": {\"x\": 0.05}, \"xaxis\": {\"automargin\": true, \"gridcolor\": \"white\", \"linecolor\": \"white\", \"ticks\": \"\", \"title\": {\"standoff\": 15}, \"zerolinecolor\": \"white\", \"zerolinewidth\": 2}, \"yaxis\": {\"automargin\": true, \"gridcolor\": \"white\", \"linecolor\": \"white\", \"ticks\": \"\", \"title\": {\"standoff\": 15}, \"zerolinecolor\": \"white\", \"zerolinewidth\": 2}}}, \"title\": {\"text\": \"\\ubd80\\uc0c1\\ubcd1\\ucf54\\ub4dc \\ubcc4 \\uc785\\uc6d0 \\uc5ec\\ubd80 \\ube44\\uc728\"}, \"xaxis\": {\"title\": {\"text\": \"\\ubd80\\uc0c1\\ubcd1\\ucf54\\ub4dc\"}}, \"yaxis\": {\"title\": {\"text\": \"\\ube44\\uc728\"}}},\n",
              "                        {\"responsive\": true}\n",
              "                    ).then(function(){\n",
              "                            \n",
              "var gd = document.getElementById('0dadbd7b-322c-4951-8b7c-127f60697bd7');\n",
              "var x = new MutationObserver(function (mutations, observer) {{\n",
              "        var display = window.getComputedStyle(gd).display;\n",
              "        if (!display || display === 'none') {{\n",
              "            console.log([gd, 'removed!']);\n",
              "            Plotly.purge(gd);\n",
              "            observer.disconnect();\n",
              "        }}\n",
              "}});\n",
              "\n",
              "// Listen for the removal of the full notebook cells\n",
              "var notebookContainer = gd.closest('#notebook-container');\n",
              "if (notebookContainer) {{\n",
              "    x.observe(notebookContainer, {childList: true});\n",
              "}}\n",
              "\n",
              "// Listen for the clearing of the current output cell\n",
              "var outputEl = gd.closest('.output');\n",
              "if (outputEl) {{\n",
              "    x.observe(outputEl, {childList: true});\n",
              "}}\n",
              "\n",
              "                        })\n",
              "                };\n",
              "                \n",
              "            </script>\n",
              "        </div>\n",
              "</body>\n",
              "</html>"
            ]
          },
          "metadata": {}
        }
      ]
    },
    {
      "cell_type": "markdown",
      "metadata": {
        "id": "udsmdVgAI3NY"
      },
      "source": [
        "## 6) 요양개시일자(요일) 별 입원 비율"
      ]
    },
    {
      "cell_type": "code",
      "metadata": {
        "colab": {
          "base_uri": "https://localhost:8080/",
          "height": 112
        },
        "id": "8ygGgT22Iken",
        "outputId": "65917061-fd85-4194-a48a-224905c029e8"
      },
      "source": [
        "df_day = pd.crosstab(index = df['요양개시일자'], columns = df['입원여부'])\n",
        "df_day.reset_index(inplace = True)\n",
        "df_day.columns = ['요양개시일자','입원 X', \"입원 O\"]\n",
        "df_day.head(2)"
      ],
      "execution_count": 51,
      "outputs": [
        {
          "output_type": "execute_result",
          "data": {
            "text/html": [
              "<div>\n",
              "<style scoped>\n",
              "    .dataframe tbody tr th:only-of-type {\n",
              "        vertical-align: middle;\n",
              "    }\n",
              "\n",
              "    .dataframe tbody tr th {\n",
              "        vertical-align: top;\n",
              "    }\n",
              "\n",
              "    .dataframe thead th {\n",
              "        text-align: right;\n",
              "    }\n",
              "</style>\n",
              "<table border=\"1\" class=\"dataframe\">\n",
              "  <thead>\n",
              "    <tr style=\"text-align: right;\">\n",
              "      <th></th>\n",
              "      <th>요양개시일자</th>\n",
              "      <th>입원 X</th>\n",
              "      <th>입원 O</th>\n",
              "    </tr>\n",
              "  </thead>\n",
              "  <tbody>\n",
              "    <tr>\n",
              "      <th>0</th>\n",
              "      <td>20190101</td>\n",
              "      <td>3934</td>\n",
              "      <td>7198</td>\n",
              "    </tr>\n",
              "    <tr>\n",
              "      <th>1</th>\n",
              "      <td>20190102</td>\n",
              "      <td>52798</td>\n",
              "      <td>1009</td>\n",
              "    </tr>\n",
              "  </tbody>\n",
              "</table>\n",
              "</div>"
            ],
            "text/plain": [
              "     요양개시일자   입원 X  입원 O\n",
              "0  20190101   3934  7198\n",
              "1  20190102  52798  1009"
            ]
          },
          "metadata": {},
          "execution_count": 51
        }
      ]
    },
    {
      "cell_type": "code",
      "metadata": {
        "colab": {
          "base_uri": "https://localhost:8080/",
          "height": 542
        },
        "id": "Y6WQd7nCIvI5",
        "outputId": "989da10f-bbf7-4e2c-b57f-73cfa0df3851"
      },
      "source": [
        "fig = go.Figure()\n",
        "\n",
        "fig.add_trace(go.Scatter(x = df_day['요양개시일자'], y = df_day['입원 O'], name = '입원 O'))\n",
        "\n",
        "fig.update_layout(title = '일자별 입원 수', xaxis_title = '날짜', yaxis_title = '회수', barmode=\"stack\" )\n",
        "fig.update_xaxes(type='category')\n",
        "\n",
        "fig.show()"
      ],
      "execution_count": 52,
      "outputs": [
        {
          "output_type": "display_data",
          "data": {
            "text/html": [
              "<html>\n",
              "<head><meta charset=\"utf-8\" /></head>\n",
              "<body>\n",
              "    <div>\n",
              "            <script src=\"https://cdnjs.cloudflare.com/ajax/libs/mathjax/2.7.5/MathJax.js?config=TeX-AMS-MML_SVG\"></script><script type=\"text/javascript\">if (window.MathJax) {MathJax.Hub.Config({SVG: {font: \"STIX-Web\"}});}</script>\n",
              "                <script type=\"text/javascript\">window.PlotlyConfig = {MathJaxConfig: 'local'};</script>\n",
              "        <script src=\"https://cdn.plot.ly/plotly-latest.min.js\"></script>    \n",
              "            <div id=\"f55e1bbb-9de6-4c6c-aba0-991e4f1acc6a\" class=\"plotly-graph-div\" style=\"height:525px; width:100%;\"></div>\n",
              "            <script type=\"text/javascript\">\n",
              "                \n",
              "                    window.PLOTLYENV=window.PLOTLYENV || {};\n",
              "                    \n",
              "                if (document.getElementById(\"f55e1bbb-9de6-4c6c-aba0-991e4f1acc6a\")) {\n",
              "                    Plotly.newPlot(\n",
              "                        'f55e1bbb-9de6-4c6c-aba0-991e4f1acc6a',\n",
              "                        [{\"name\": \"\\uc785\\uc6d0 O\", \"type\": \"scatter\", \"x\": [20190101, 20190102, 20190103, 20190104, 20190105, 20190106, 20190107, 20190108, 20190109, 20190110, 20190111, 20190112, 20190113, 20190114, 20190115, 20190116, 20190117, 20190118, 20190119, 20190120, 20190121, 20190122, 20190123, 20190124, 20190125, 20190126, 20190127, 20190128, 20190129, 20190130, 20190131, 20190201, 20190202, 20190203, 20190204, 20190205, 20190206, 20190207, 20190208, 20190209, 20190210, 20190211, 20190212, 20190213, 20190214, 20190215, 20190216, 20190217, 20190218, 20190219, 20190220, 20190221, 20190222, 20190223, 20190224, 20190225, 20190226, 20190227, 20190228, 20190301, 20190302, 20190303, 20190304, 20190305, 20190306, 20190307, 20190308, 20190309, 20190310, 20190311, 20190312, 20190313, 20190314, 20190315, 20190316, 20190317, 20190318, 20190319, 20190320, 20190321, 20190322, 20190323, 20190324, 20190325, 20190326, 20190327, 20190328, 20190329, 20190330, 20190331, 20190401, 20190402, 20190403, 20190404, 20190405, 20190406, 20190407, 20190408, 20190409, 20190410, 20190411, 20190412, 20190413, 20190414, 20190415, 20190416, 20190417, 20190418, 20190419, 20190420, 20190421, 20190422, 20190423, 20190424, 20190425, 20190426, 20190427, 20190428, 20190429, 20190430, 20190501, 20190502, 20190503, 20190504, 20190505, 20190506, 20190507, 20190508, 20190509, 20190510, 20190511, 20190512, 20190513, 20190514, 20190515, 20190516, 20190517, 20190518, 20190519, 20190520, 20190521, 20190522, 20190523, 20190524, 20190525, 20190526, 20190527, 20190528, 20190529, 20190530, 20190531, 20190601, 20190602, 20190603, 20190604, 20190605, 20190606, 20190607, 20190608, 20190609, 20190610, 20190611, 20190612, 20190613, 20190614, 20190615, 20190616, 20190617, 20190618, 20190619, 20190620, 20190621, 20190622, 20190623, 20190624, 20190625, 20190626, 20190627, 20190628, 20190629, 20190630, 20190701, 20190702, 20190703, 20190704, 20190705, 20190706, 20190707, 20190708, 20190709, 20190710, 20190711, 20190712, 20190713, 20190714, 20190715, 20190716, 20190717, 20190718, 20190719, 20190720, 20190721, 20190722, 20190723, 20190724, 20190725, 20190726, 20190727, 20190728, 20190729, 20190730, 20190731, 20190801, 20190802, 20190803, 20190804, 20190805, 20190806, 20190807, 20190808, 20190809, 20190810, 20190811, 20190812, 20190813, 20190814, 20190815, 20190816, 20190817, 20190818, 20190819, 20190820, 20190821, 20190822, 20190823, 20190824, 20190825, 20190826, 20190827, 20190828, 20190829, 20190830, 20190831, 20190901, 20190902, 20190903, 20190904, 20190905, 20190906, 20190907, 20190908, 20190909, 20190910, 20190911, 20190912, 20190913, 20190914, 20190915, 20190916, 20190917, 20190918, 20190919, 20190920, 20190921, 20190922, 20190923, 20190924, 20190925, 20190926, 20190927, 20190928, 20190929, 20190930, 20191001, 20191002, 20191003, 20191004, 20191005, 20191006, 20191007, 20191008, 20191009, 20191010, 20191011, 20191012, 20191013, 20191014, 20191015, 20191016, 20191017, 20191018, 20191019, 20191020, 20191021, 20191022, 20191023, 20191024, 20191025, 20191026, 20191027, 20191028, 20191029, 20191030, 20191031, 20191101, 20191102, 20191103, 20191104, 20191105, 20191106, 20191107, 20191108, 20191109, 20191110, 20191111, 20191112, 20191113, 20191114, 20191115, 20191116, 20191117, 20191118, 20191119, 20191120, 20191121, 20191122, 20191123, 20191124, 20191125, 20191126, 20191127, 20191128, 20191129, 20191130, 20191201, 20191202, 20191203, 20191204, 20191205, 20191206, 20191207, 20191208, 20191209, 20191210, 20191211, 20191212, 20191213, 20191214, 20191215, 20191216, 20191217, 20191218, 20191219, 20191220, 20191221, 20191222, 20191223, 20191224, 20191225, 20191226, 20191227, 20191228, 20191229, 20191230, 20191231], \"y\": [7198, 1009, 812, 703, 358, 382, 1002, 756, 696, 748, 726, 375, 327, 1001, 711, 716, 720, 616, 333, 305, 917, 711, 691, 610, 657, 351, 324, 789, 665, 627, 624, 5342, 343, 245, 250, 241, 409, 1064, 759, 389, 320, 987, 776, 739, 679, 644, 353, 327, 915, 695, 699, 699, 606, 298, 353, 854, 691, 643, 615, 5029, 409, 324, 897, 703, 655, 694, 631, 310, 292, 881, 664, 657, 631, 648, 356, 301, 889, 717, 705, 651, 618, 349, 331, 892, 718, 700, 661, 655, 347, 326, 5653, 691, 673, 635, 618, 393, 318, 940, 743, 749, 665, 642, 374, 367, 922, 747, 720, 645, 623, 400, 375, 924, 768, 757, 647, 591, 373, 335, 883, 732, 5311, 812, 703, 387, 251, 650, 843, 757, 641, 658, 346, 364, 994, 754, 703, 746, 684, 394, 348, 882, 680, 707, 702, 638, 355, 353, 883, 718, 725, 647, 661, 5190, 300, 965, 773, 623, 361, 680, 357, 341, 870, 753, 715, 700, 582, 338, 340, 927, 753, 709, 645, 662, 369, 367, 919, 736, 744, 689, 637, 340, 353, 5738, 696, 753, 663, 684, 370, 318, 937, 750, 688, 688, 629, 352, 339, 879, 734, 687, 692, 634, 377, 328, 934, 779, 743, 647, 665, 399, 327, 918, 734, 689, 5694, 677, 385, 345, 1002, 761, 707, 710, 661, 419, 366, 921, 777, 672, 369, 745, 354, 333, 917, 707, 729, 602, 618, 369, 371, 864, 728, 692, 607, 603, 335, 5307, 879, 670, 667, 649, 642, 335, 288, 867, 635, 570, 240, 270, 262, 454, 1082, 813, 772, 665, 638, 369, 297, 890, 723, 699, 676, 637, 338, 342, 891, 5674, 679, 308, 731, 347, 334, 897, 671, 343, 777, 625, 313, 343, 910, 732, 622, 633, 551, 331, 328, 882, 681, 661, 627, 575, 336, 342, 910, 748, 604, 592, 5637, 358, 344, 912, 768, 735, 645, 660, 342, 326, 909, 706, 672, 663, 625, 375, 279, 905, 716, 712, 665, 607, 386, 322, 971, 790, 659, 647, 654, 337, 5372, 1033, 716, 729, 678, 659, 355, 355, 985, 771, 742, 671, 655, 392, 381, 1000, 784, 791, 741, 656, 385, 396, 955, 675, 366, 903, 742, 409, 347, 912, 620]}],\n",
              "                        {\"barmode\": \"stack\", \"template\": {\"data\": {\"bar\": [{\"error_x\": {\"color\": \"#2a3f5f\"}, \"error_y\": {\"color\": \"#2a3f5f\"}, \"marker\": {\"line\": {\"color\": \"#E5ECF6\", \"width\": 0.5}}, \"type\": \"bar\"}], \"barpolar\": [{\"marker\": {\"line\": {\"color\": \"#E5ECF6\", \"width\": 0.5}}, \"type\": \"barpolar\"}], \"carpet\": [{\"aaxis\": {\"endlinecolor\": \"#2a3f5f\", \"gridcolor\": \"white\", \"linecolor\": \"white\", \"minorgridcolor\": \"white\", \"startlinecolor\": \"#2a3f5f\"}, \"baxis\": {\"endlinecolor\": \"#2a3f5f\", \"gridcolor\": \"white\", \"linecolor\": \"white\", \"minorgridcolor\": \"white\", \"startlinecolor\": \"#2a3f5f\"}, \"type\": \"carpet\"}], \"choropleth\": [{\"colorbar\": {\"outlinewidth\": 0, \"ticks\": \"\"}, \"type\": \"choropleth\"}], \"contour\": [{\"colorbar\": {\"outlinewidth\": 0, \"ticks\": \"\"}, \"colorscale\": [[0.0, \"#0d0887\"], [0.1111111111111111, \"#46039f\"], [0.2222222222222222, \"#7201a8\"], [0.3333333333333333, \"#9c179e\"], [0.4444444444444444, \"#bd3786\"], [0.5555555555555556, \"#d8576b\"], [0.6666666666666666, \"#ed7953\"], [0.7777777777777778, \"#fb9f3a\"], [0.8888888888888888, \"#fdca26\"], [1.0, \"#f0f921\"]], \"type\": \"contour\"}], \"contourcarpet\": [{\"colorbar\": {\"outlinewidth\": 0, \"ticks\": \"\"}, \"type\": \"contourcarpet\"}], \"heatmap\": [{\"colorbar\": {\"outlinewidth\": 0, \"ticks\": \"\"}, \"colorscale\": [[0.0, \"#0d0887\"], [0.1111111111111111, \"#46039f\"], [0.2222222222222222, \"#7201a8\"], [0.3333333333333333, \"#9c179e\"], [0.4444444444444444, \"#bd3786\"], [0.5555555555555556, \"#d8576b\"], [0.6666666666666666, \"#ed7953\"], [0.7777777777777778, \"#fb9f3a\"], [0.8888888888888888, \"#fdca26\"], [1.0, \"#f0f921\"]], \"type\": \"heatmap\"}], \"heatmapgl\": [{\"colorbar\": {\"outlinewidth\": 0, \"ticks\": \"\"}, \"colorscale\": [[0.0, \"#0d0887\"], [0.1111111111111111, \"#46039f\"], [0.2222222222222222, \"#7201a8\"], [0.3333333333333333, \"#9c179e\"], [0.4444444444444444, \"#bd3786\"], [0.5555555555555556, \"#d8576b\"], [0.6666666666666666, \"#ed7953\"], [0.7777777777777778, \"#fb9f3a\"], [0.8888888888888888, \"#fdca26\"], [1.0, \"#f0f921\"]], \"type\": \"heatmapgl\"}], \"histogram\": [{\"marker\": {\"colorbar\": {\"outlinewidth\": 0, \"ticks\": \"\"}}, \"type\": \"histogram\"}], \"histogram2d\": [{\"colorbar\": {\"outlinewidth\": 0, \"ticks\": \"\"}, \"colorscale\": [[0.0, \"#0d0887\"], [0.1111111111111111, \"#46039f\"], [0.2222222222222222, \"#7201a8\"], [0.3333333333333333, \"#9c179e\"], [0.4444444444444444, \"#bd3786\"], [0.5555555555555556, \"#d8576b\"], [0.6666666666666666, \"#ed7953\"], [0.7777777777777778, \"#fb9f3a\"], [0.8888888888888888, \"#fdca26\"], [1.0, \"#f0f921\"]], \"type\": \"histogram2d\"}], \"histogram2dcontour\": [{\"colorbar\": {\"outlinewidth\": 0, \"ticks\": \"\"}, \"colorscale\": [[0.0, \"#0d0887\"], [0.1111111111111111, \"#46039f\"], [0.2222222222222222, \"#7201a8\"], [0.3333333333333333, \"#9c179e\"], [0.4444444444444444, \"#bd3786\"], [0.5555555555555556, \"#d8576b\"], [0.6666666666666666, \"#ed7953\"], [0.7777777777777778, \"#fb9f3a\"], [0.8888888888888888, \"#fdca26\"], [1.0, \"#f0f921\"]], \"type\": \"histogram2dcontour\"}], \"mesh3d\": [{\"colorbar\": {\"outlinewidth\": 0, \"ticks\": \"\"}, \"type\": \"mesh3d\"}], \"parcoords\": [{\"line\": {\"colorbar\": {\"outlinewidth\": 0, \"ticks\": \"\"}}, \"type\": \"parcoords\"}], \"pie\": [{\"automargin\": true, \"type\": \"pie\"}], \"scatter\": [{\"marker\": {\"colorbar\": {\"outlinewidth\": 0, \"ticks\": \"\"}}, \"type\": \"scatter\"}], \"scatter3d\": [{\"line\": {\"colorbar\": {\"outlinewidth\": 0, \"ticks\": \"\"}}, \"marker\": {\"colorbar\": {\"outlinewidth\": 0, \"ticks\": \"\"}}, \"type\": \"scatter3d\"}], \"scattercarpet\": [{\"marker\": {\"colorbar\": {\"outlinewidth\": 0, \"ticks\": \"\"}}, \"type\": \"scattercarpet\"}], \"scattergeo\": [{\"marker\": {\"colorbar\": {\"outlinewidth\": 0, \"ticks\": \"\"}}, \"type\": \"scattergeo\"}], \"scattergl\": [{\"marker\": {\"colorbar\": {\"outlinewidth\": 0, \"ticks\": \"\"}}, \"type\": \"scattergl\"}], \"scattermapbox\": [{\"marker\": {\"colorbar\": {\"outlinewidth\": 0, \"ticks\": \"\"}}, \"type\": \"scattermapbox\"}], \"scatterpolar\": [{\"marker\": {\"colorbar\": {\"outlinewidth\": 0, \"ticks\": \"\"}}, \"type\": \"scatterpolar\"}], \"scatterpolargl\": [{\"marker\": {\"colorbar\": {\"outlinewidth\": 0, \"ticks\": \"\"}}, \"type\": \"scatterpolargl\"}], \"scatterternary\": [{\"marker\": {\"colorbar\": {\"outlinewidth\": 0, \"ticks\": \"\"}}, \"type\": \"scatterternary\"}], \"surface\": [{\"colorbar\": {\"outlinewidth\": 0, \"ticks\": \"\"}, \"colorscale\": [[0.0, \"#0d0887\"], [0.1111111111111111, \"#46039f\"], [0.2222222222222222, \"#7201a8\"], [0.3333333333333333, \"#9c179e\"], [0.4444444444444444, \"#bd3786\"], [0.5555555555555556, \"#d8576b\"], [0.6666666666666666, \"#ed7953\"], [0.7777777777777778, \"#fb9f3a\"], [0.8888888888888888, \"#fdca26\"], [1.0, \"#f0f921\"]], \"type\": \"surface\"}], \"table\": [{\"cells\": {\"fill\": {\"color\": \"#EBF0F8\"}, \"line\": {\"color\": \"white\"}}, \"header\": {\"fill\": {\"color\": \"#C8D4E3\"}, \"line\": {\"color\": \"white\"}}, \"type\": \"table\"}]}, \"layout\": {\"annotationdefaults\": {\"arrowcolor\": \"#2a3f5f\", \"arrowhead\": 0, \"arrowwidth\": 1}, \"coloraxis\": {\"colorbar\": {\"outlinewidth\": 0, \"ticks\": \"\"}}, \"colorscale\": {\"diverging\": [[0, \"#8e0152\"], [0.1, \"#c51b7d\"], [0.2, \"#de77ae\"], [0.3, \"#f1b6da\"], [0.4, \"#fde0ef\"], [0.5, \"#f7f7f7\"], [0.6, \"#e6f5d0\"], [0.7, \"#b8e186\"], [0.8, \"#7fbc41\"], [0.9, \"#4d9221\"], [1, \"#276419\"]], \"sequential\": [[0.0, \"#0d0887\"], [0.1111111111111111, \"#46039f\"], [0.2222222222222222, \"#7201a8\"], [0.3333333333333333, \"#9c179e\"], [0.4444444444444444, \"#bd3786\"], [0.5555555555555556, \"#d8576b\"], [0.6666666666666666, \"#ed7953\"], [0.7777777777777778, \"#fb9f3a\"], [0.8888888888888888, \"#fdca26\"], [1.0, \"#f0f921\"]], \"sequentialminus\": [[0.0, \"#0d0887\"], [0.1111111111111111, \"#46039f\"], [0.2222222222222222, \"#7201a8\"], [0.3333333333333333, \"#9c179e\"], [0.4444444444444444, \"#bd3786\"], [0.5555555555555556, \"#d8576b\"], [0.6666666666666666, \"#ed7953\"], [0.7777777777777778, \"#fb9f3a\"], [0.8888888888888888, \"#fdca26\"], [1.0, \"#f0f921\"]]}, \"colorway\": [\"#636efa\", \"#EF553B\", \"#00cc96\", \"#ab63fa\", \"#FFA15A\", \"#19d3f3\", \"#FF6692\", \"#B6E880\", \"#FF97FF\", \"#FECB52\"], \"font\": {\"color\": \"#2a3f5f\"}, \"geo\": {\"bgcolor\": \"white\", \"lakecolor\": \"white\", \"landcolor\": \"#E5ECF6\", \"showlakes\": true, \"showland\": true, \"subunitcolor\": \"white\"}, \"hoverlabel\": {\"align\": \"left\"}, \"hovermode\": \"closest\", \"mapbox\": {\"style\": \"light\"}, \"paper_bgcolor\": \"white\", \"plot_bgcolor\": \"#E5ECF6\", \"polar\": {\"angularaxis\": {\"gridcolor\": \"white\", \"linecolor\": \"white\", \"ticks\": \"\"}, \"bgcolor\": \"#E5ECF6\", \"radialaxis\": {\"gridcolor\": \"white\", \"linecolor\": \"white\", \"ticks\": \"\"}}, \"scene\": {\"xaxis\": {\"backgroundcolor\": \"#E5ECF6\", \"gridcolor\": \"white\", \"gridwidth\": 2, \"linecolor\": \"white\", \"showbackground\": true, \"ticks\": \"\", \"zerolinecolor\": \"white\"}, \"yaxis\": {\"backgroundcolor\": \"#E5ECF6\", \"gridcolor\": \"white\", \"gridwidth\": 2, \"linecolor\": \"white\", \"showbackground\": true, \"ticks\": \"\", \"zerolinecolor\": \"white\"}, \"zaxis\": {\"backgroundcolor\": \"#E5ECF6\", \"gridcolor\": \"white\", \"gridwidth\": 2, \"linecolor\": \"white\", \"showbackground\": true, \"ticks\": \"\", \"zerolinecolor\": \"white\"}}, \"shapedefaults\": {\"line\": {\"color\": \"#2a3f5f\"}}, \"ternary\": {\"aaxis\": {\"gridcolor\": \"white\", \"linecolor\": \"white\", \"ticks\": \"\"}, \"baxis\": {\"gridcolor\": \"white\", \"linecolor\": \"white\", \"ticks\": \"\"}, \"bgcolor\": \"#E5ECF6\", \"caxis\": {\"gridcolor\": \"white\", \"linecolor\": \"white\", \"ticks\": \"\"}}, \"title\": {\"x\": 0.05}, \"xaxis\": {\"automargin\": true, \"gridcolor\": \"white\", \"linecolor\": \"white\", \"ticks\": \"\", \"title\": {\"standoff\": 15}, \"zerolinecolor\": \"white\", \"zerolinewidth\": 2}, \"yaxis\": {\"automargin\": true, \"gridcolor\": \"white\", \"linecolor\": \"white\", \"ticks\": \"\", \"title\": {\"standoff\": 15}, \"zerolinecolor\": \"white\", \"zerolinewidth\": 2}}}, \"title\": {\"text\": \"\\uc77c\\uc790\\ubcc4 \\uc785\\uc6d0 \\uc218\"}, \"xaxis\": {\"title\": {\"text\": \"\\ub0a0\\uc9dc\"}, \"type\": \"category\"}, \"yaxis\": {\"title\": {\"text\": \"\\ud68c\\uc218\"}}},\n",
              "                        {\"responsive\": true}\n",
              "                    ).then(function(){\n",
              "                            \n",
              "var gd = document.getElementById('f55e1bbb-9de6-4c6c-aba0-991e4f1acc6a');\n",
              "var x = new MutationObserver(function (mutations, observer) {{\n",
              "        var display = window.getComputedStyle(gd).display;\n",
              "        if (!display || display === 'none') {{\n",
              "            console.log([gd, 'removed!']);\n",
              "            Plotly.purge(gd);\n",
              "            observer.disconnect();\n",
              "        }}\n",
              "}});\n",
              "\n",
              "// Listen for the removal of the full notebook cells\n",
              "var notebookContainer = gd.closest('#notebook-container');\n",
              "if (notebookContainer) {{\n",
              "    x.observe(notebookContainer, {childList: true});\n",
              "}}\n",
              "\n",
              "// Listen for the clearing of the current output cell\n",
              "var outputEl = gd.closest('.output');\n",
              "if (outputEl) {{\n",
              "    x.observe(outputEl, {childList: true});\n",
              "}}\n",
              "\n",
              "                        })\n",
              "                };\n",
              "                \n",
              "            </script>\n",
              "        </div>\n",
              "</body>\n",
              "</html>"
            ]
          },
          "metadata": {}
        }
      ]
    },
    {
      "cell_type": "code",
      "metadata": {
        "colab": {
          "base_uri": "https://localhost:8080/",
          "height": 542
        },
        "id": "0I5BZdKFJBN2",
        "outputId": "3ef1c8c5-266d-422c-8c07-39486ecadee3"
      },
      "source": [
        "# 계절별 \n",
        "df_day['요양개시일자'] = df_day['요양개시일자']//100\n",
        "\n",
        "fig = go.Figure()\n",
        "\n",
        "fig.add_trace(go.Scatter(x = df_day['요양개시일자'], y = df_day['입원 O'], name = '입원 O'))\n",
        "\n",
        "fig.update_layout(title = '일자별 입원 수', xaxis_title = '날짜', yaxis_title = '회수', barmode=\"stack\" )\n",
        "fig.update_xaxes(type='category')\n",
        "\n",
        "fig.show()"
      ],
      "execution_count": 53,
      "outputs": [
        {
          "output_type": "display_data",
          "data": {
            "text/html": [
              "<html>\n",
              "<head><meta charset=\"utf-8\" /></head>\n",
              "<body>\n",
              "    <div>\n",
              "            <script src=\"https://cdnjs.cloudflare.com/ajax/libs/mathjax/2.7.5/MathJax.js?config=TeX-AMS-MML_SVG\"></script><script type=\"text/javascript\">if (window.MathJax) {MathJax.Hub.Config({SVG: {font: \"STIX-Web\"}});}</script>\n",
              "                <script type=\"text/javascript\">window.PlotlyConfig = {MathJaxConfig: 'local'};</script>\n",
              "        <script src=\"https://cdn.plot.ly/plotly-latest.min.js\"></script>    \n",
              "            <div id=\"d62d9370-126a-4d37-8748-2cbfdd83e2a7\" class=\"plotly-graph-div\" style=\"height:525px; width:100%;\"></div>\n",
              "            <script type=\"text/javascript\">\n",
              "                \n",
              "                    window.PLOTLYENV=window.PLOTLYENV || {};\n",
              "                    \n",
              "                if (document.getElementById(\"d62d9370-126a-4d37-8748-2cbfdd83e2a7\")) {\n",
              "                    Plotly.newPlot(\n",
              "                        'd62d9370-126a-4d37-8748-2cbfdd83e2a7',\n",
              "                        [{\"name\": \"\\uc785\\uc6d0 O\", \"type\": \"scatter\", \"x\": [201901, 201901, 201901, 201901, 201901, 201901, 201901, 201901, 201901, 201901, 201901, 201901, 201901, 201901, 201901, 201901, 201901, 201901, 201901, 201901, 201901, 201901, 201901, 201901, 201901, 201901, 201901, 201901, 201901, 201901, 201901, 201902, 201902, 201902, 201902, 201902, 201902, 201902, 201902, 201902, 201902, 201902, 201902, 201902, 201902, 201902, 201902, 201902, 201902, 201902, 201902, 201902, 201902, 201902, 201902, 201902, 201902, 201902, 201902, 201903, 201903, 201903, 201903, 201903, 201903, 201903, 201903, 201903, 201903, 201903, 201903, 201903, 201903, 201903, 201903, 201903, 201903, 201903, 201903, 201903, 201903, 201903, 201903, 201903, 201903, 201903, 201903, 201903, 201903, 201903, 201904, 201904, 201904, 201904, 201904, 201904, 201904, 201904, 201904, 201904, 201904, 201904, 201904, 201904, 201904, 201904, 201904, 201904, 201904, 201904, 201904, 201904, 201904, 201904, 201904, 201904, 201904, 201904, 201904, 201904, 201905, 201905, 201905, 201905, 201905, 201905, 201905, 201905, 201905, 201905, 201905, 201905, 201905, 201905, 201905, 201905, 201905, 201905, 201905, 201905, 201905, 201905, 201905, 201905, 201905, 201905, 201905, 201905, 201905, 201905, 201905, 201906, 201906, 201906, 201906, 201906, 201906, 201906, 201906, 201906, 201906, 201906, 201906, 201906, 201906, 201906, 201906, 201906, 201906, 201906, 201906, 201906, 201906, 201906, 201906, 201906, 201906, 201906, 201906, 201906, 201906, 201907, 201907, 201907, 201907, 201907, 201907, 201907, 201907, 201907, 201907, 201907, 201907, 201907, 201907, 201907, 201907, 201907, 201907, 201907, 201907, 201907, 201907, 201907, 201907, 201907, 201907, 201907, 201907, 201907, 201907, 201907, 201908, 201908, 201908, 201908, 201908, 201908, 201908, 201908, 201908, 201908, 201908, 201908, 201908, 201908, 201908, 201908, 201908, 201908, 201908, 201908, 201908, 201908, 201908, 201908, 201908, 201908, 201908, 201908, 201908, 201908, 201908, 201909, 201909, 201909, 201909, 201909, 201909, 201909, 201909, 201909, 201909, 201909, 201909, 201909, 201909, 201909, 201909, 201909, 201909, 201909, 201909, 201909, 201909, 201909, 201909, 201909, 201909, 201909, 201909, 201909, 201909, 201910, 201910, 201910, 201910, 201910, 201910, 201910, 201910, 201910, 201910, 201910, 201910, 201910, 201910, 201910, 201910, 201910, 201910, 201910, 201910, 201910, 201910, 201910, 201910, 201910, 201910, 201910, 201910, 201910, 201910, 201910, 201911, 201911, 201911, 201911, 201911, 201911, 201911, 201911, 201911, 201911, 201911, 201911, 201911, 201911, 201911, 201911, 201911, 201911, 201911, 201911, 201911, 201911, 201911, 201911, 201911, 201911, 201911, 201911, 201911, 201911, 201912, 201912, 201912, 201912, 201912, 201912, 201912, 201912, 201912, 201912, 201912, 201912, 201912, 201912, 201912, 201912, 201912, 201912, 201912, 201912, 201912, 201912, 201912, 201912, 201912, 201912, 201912, 201912, 201912, 201912, 201912], \"y\": [7198, 1009, 812, 703, 358, 382, 1002, 756, 696, 748, 726, 375, 327, 1001, 711, 716, 720, 616, 333, 305, 917, 711, 691, 610, 657, 351, 324, 789, 665, 627, 624, 5342, 343, 245, 250, 241, 409, 1064, 759, 389, 320, 987, 776, 739, 679, 644, 353, 327, 915, 695, 699, 699, 606, 298, 353, 854, 691, 643, 615, 5029, 409, 324, 897, 703, 655, 694, 631, 310, 292, 881, 664, 657, 631, 648, 356, 301, 889, 717, 705, 651, 618, 349, 331, 892, 718, 700, 661, 655, 347, 326, 5653, 691, 673, 635, 618, 393, 318, 940, 743, 749, 665, 642, 374, 367, 922, 747, 720, 645, 623, 400, 375, 924, 768, 757, 647, 591, 373, 335, 883, 732, 5311, 812, 703, 387, 251, 650, 843, 757, 641, 658, 346, 364, 994, 754, 703, 746, 684, 394, 348, 882, 680, 707, 702, 638, 355, 353, 883, 718, 725, 647, 661, 5190, 300, 965, 773, 623, 361, 680, 357, 341, 870, 753, 715, 700, 582, 338, 340, 927, 753, 709, 645, 662, 369, 367, 919, 736, 744, 689, 637, 340, 353, 5738, 696, 753, 663, 684, 370, 318, 937, 750, 688, 688, 629, 352, 339, 879, 734, 687, 692, 634, 377, 328, 934, 779, 743, 647, 665, 399, 327, 918, 734, 689, 5694, 677, 385, 345, 1002, 761, 707, 710, 661, 419, 366, 921, 777, 672, 369, 745, 354, 333, 917, 707, 729, 602, 618, 369, 371, 864, 728, 692, 607, 603, 335, 5307, 879, 670, 667, 649, 642, 335, 288, 867, 635, 570, 240, 270, 262, 454, 1082, 813, 772, 665, 638, 369, 297, 890, 723, 699, 676, 637, 338, 342, 891, 5674, 679, 308, 731, 347, 334, 897, 671, 343, 777, 625, 313, 343, 910, 732, 622, 633, 551, 331, 328, 882, 681, 661, 627, 575, 336, 342, 910, 748, 604, 592, 5637, 358, 344, 912, 768, 735, 645, 660, 342, 326, 909, 706, 672, 663, 625, 375, 279, 905, 716, 712, 665, 607, 386, 322, 971, 790, 659, 647, 654, 337, 5372, 1033, 716, 729, 678, 659, 355, 355, 985, 771, 742, 671, 655, 392, 381, 1000, 784, 791, 741, 656, 385, 396, 955, 675, 366, 903, 742, 409, 347, 912, 620]}],\n",
              "                        {\"barmode\": \"stack\", \"template\": {\"data\": {\"bar\": [{\"error_x\": {\"color\": \"#2a3f5f\"}, \"error_y\": {\"color\": \"#2a3f5f\"}, \"marker\": {\"line\": {\"color\": \"#E5ECF6\", \"width\": 0.5}}, \"type\": \"bar\"}], \"barpolar\": [{\"marker\": {\"line\": {\"color\": \"#E5ECF6\", \"width\": 0.5}}, \"type\": \"barpolar\"}], \"carpet\": [{\"aaxis\": {\"endlinecolor\": \"#2a3f5f\", \"gridcolor\": \"white\", \"linecolor\": \"white\", \"minorgridcolor\": \"white\", \"startlinecolor\": \"#2a3f5f\"}, \"baxis\": {\"endlinecolor\": \"#2a3f5f\", \"gridcolor\": \"white\", \"linecolor\": \"white\", \"minorgridcolor\": \"white\", \"startlinecolor\": \"#2a3f5f\"}, \"type\": \"carpet\"}], \"choropleth\": [{\"colorbar\": {\"outlinewidth\": 0, \"ticks\": \"\"}, \"type\": \"choropleth\"}], \"contour\": [{\"colorbar\": {\"outlinewidth\": 0, \"ticks\": \"\"}, \"colorscale\": [[0.0, \"#0d0887\"], [0.1111111111111111, \"#46039f\"], [0.2222222222222222, \"#7201a8\"], [0.3333333333333333, \"#9c179e\"], [0.4444444444444444, \"#bd3786\"], [0.5555555555555556, \"#d8576b\"], [0.6666666666666666, \"#ed7953\"], [0.7777777777777778, \"#fb9f3a\"], [0.8888888888888888, \"#fdca26\"], [1.0, \"#f0f921\"]], \"type\": \"contour\"}], \"contourcarpet\": [{\"colorbar\": {\"outlinewidth\": 0, \"ticks\": \"\"}, \"type\": \"contourcarpet\"}], \"heatmap\": [{\"colorbar\": {\"outlinewidth\": 0, \"ticks\": \"\"}, \"colorscale\": [[0.0, \"#0d0887\"], [0.1111111111111111, \"#46039f\"], [0.2222222222222222, \"#7201a8\"], [0.3333333333333333, \"#9c179e\"], [0.4444444444444444, \"#bd3786\"], [0.5555555555555556, \"#d8576b\"], [0.6666666666666666, \"#ed7953\"], [0.7777777777777778, \"#fb9f3a\"], [0.8888888888888888, \"#fdca26\"], [1.0, \"#f0f921\"]], \"type\": \"heatmap\"}], \"heatmapgl\": [{\"colorbar\": {\"outlinewidth\": 0, \"ticks\": \"\"}, \"colorscale\": [[0.0, \"#0d0887\"], [0.1111111111111111, \"#46039f\"], [0.2222222222222222, \"#7201a8\"], [0.3333333333333333, \"#9c179e\"], [0.4444444444444444, \"#bd3786\"], [0.5555555555555556, \"#d8576b\"], [0.6666666666666666, \"#ed7953\"], [0.7777777777777778, \"#fb9f3a\"], [0.8888888888888888, \"#fdca26\"], [1.0, \"#f0f921\"]], \"type\": \"heatmapgl\"}], \"histogram\": [{\"marker\": {\"colorbar\": {\"outlinewidth\": 0, \"ticks\": \"\"}}, \"type\": \"histogram\"}], \"histogram2d\": [{\"colorbar\": {\"outlinewidth\": 0, \"ticks\": \"\"}, \"colorscale\": [[0.0, \"#0d0887\"], [0.1111111111111111, \"#46039f\"], [0.2222222222222222, \"#7201a8\"], [0.3333333333333333, \"#9c179e\"], [0.4444444444444444, \"#bd3786\"], [0.5555555555555556, \"#d8576b\"], [0.6666666666666666, \"#ed7953\"], [0.7777777777777778, \"#fb9f3a\"], [0.8888888888888888, \"#fdca26\"], [1.0, \"#f0f921\"]], \"type\": \"histogram2d\"}], \"histogram2dcontour\": [{\"colorbar\": {\"outlinewidth\": 0, \"ticks\": \"\"}, \"colorscale\": [[0.0, \"#0d0887\"], [0.1111111111111111, \"#46039f\"], [0.2222222222222222, \"#7201a8\"], [0.3333333333333333, \"#9c179e\"], [0.4444444444444444, \"#bd3786\"], [0.5555555555555556, \"#d8576b\"], [0.6666666666666666, \"#ed7953\"], [0.7777777777777778, \"#fb9f3a\"], [0.8888888888888888, \"#fdca26\"], [1.0, \"#f0f921\"]], \"type\": \"histogram2dcontour\"}], \"mesh3d\": [{\"colorbar\": {\"outlinewidth\": 0, \"ticks\": \"\"}, \"type\": \"mesh3d\"}], \"parcoords\": [{\"line\": {\"colorbar\": {\"outlinewidth\": 0, \"ticks\": \"\"}}, \"type\": \"parcoords\"}], \"pie\": [{\"automargin\": true, \"type\": \"pie\"}], \"scatter\": [{\"marker\": {\"colorbar\": {\"outlinewidth\": 0, \"ticks\": \"\"}}, \"type\": \"scatter\"}], \"scatter3d\": [{\"line\": {\"colorbar\": {\"outlinewidth\": 0, \"ticks\": \"\"}}, \"marker\": {\"colorbar\": {\"outlinewidth\": 0, \"ticks\": \"\"}}, \"type\": \"scatter3d\"}], \"scattercarpet\": [{\"marker\": {\"colorbar\": {\"outlinewidth\": 0, \"ticks\": \"\"}}, \"type\": \"scattercarpet\"}], \"scattergeo\": [{\"marker\": {\"colorbar\": {\"outlinewidth\": 0, \"ticks\": \"\"}}, \"type\": \"scattergeo\"}], \"scattergl\": [{\"marker\": {\"colorbar\": {\"outlinewidth\": 0, \"ticks\": \"\"}}, \"type\": \"scattergl\"}], \"scattermapbox\": [{\"marker\": {\"colorbar\": {\"outlinewidth\": 0, \"ticks\": \"\"}}, \"type\": \"scattermapbox\"}], \"scatterpolar\": [{\"marker\": {\"colorbar\": {\"outlinewidth\": 0, \"ticks\": \"\"}}, \"type\": \"scatterpolar\"}], \"scatterpolargl\": [{\"marker\": {\"colorbar\": {\"outlinewidth\": 0, \"ticks\": \"\"}}, \"type\": \"scatterpolargl\"}], \"scatterternary\": [{\"marker\": {\"colorbar\": {\"outlinewidth\": 0, \"ticks\": \"\"}}, \"type\": \"scatterternary\"}], \"surface\": [{\"colorbar\": {\"outlinewidth\": 0, \"ticks\": \"\"}, \"colorscale\": [[0.0, \"#0d0887\"], [0.1111111111111111, \"#46039f\"], [0.2222222222222222, \"#7201a8\"], [0.3333333333333333, \"#9c179e\"], [0.4444444444444444, \"#bd3786\"], [0.5555555555555556, \"#d8576b\"], [0.6666666666666666, \"#ed7953\"], [0.7777777777777778, \"#fb9f3a\"], [0.8888888888888888, \"#fdca26\"], [1.0, \"#f0f921\"]], \"type\": \"surface\"}], \"table\": [{\"cells\": {\"fill\": {\"color\": \"#EBF0F8\"}, \"line\": {\"color\": \"white\"}}, \"header\": {\"fill\": {\"color\": \"#C8D4E3\"}, \"line\": {\"color\": \"white\"}}, \"type\": \"table\"}]}, \"layout\": {\"annotationdefaults\": {\"arrowcolor\": \"#2a3f5f\", \"arrowhead\": 0, \"arrowwidth\": 1}, \"coloraxis\": {\"colorbar\": {\"outlinewidth\": 0, \"ticks\": \"\"}}, \"colorscale\": {\"diverging\": [[0, \"#8e0152\"], [0.1, \"#c51b7d\"], [0.2, \"#de77ae\"], [0.3, \"#f1b6da\"], [0.4, \"#fde0ef\"], [0.5, \"#f7f7f7\"], [0.6, \"#e6f5d0\"], [0.7, \"#b8e186\"], [0.8, \"#7fbc41\"], [0.9, \"#4d9221\"], [1, \"#276419\"]], \"sequential\": [[0.0, \"#0d0887\"], [0.1111111111111111, \"#46039f\"], [0.2222222222222222, \"#7201a8\"], [0.3333333333333333, \"#9c179e\"], [0.4444444444444444, \"#bd3786\"], [0.5555555555555556, \"#d8576b\"], [0.6666666666666666, \"#ed7953\"], [0.7777777777777778, \"#fb9f3a\"], [0.8888888888888888, \"#fdca26\"], [1.0, \"#f0f921\"]], \"sequentialminus\": [[0.0, \"#0d0887\"], [0.1111111111111111, \"#46039f\"], [0.2222222222222222, \"#7201a8\"], [0.3333333333333333, \"#9c179e\"], [0.4444444444444444, \"#bd3786\"], [0.5555555555555556, \"#d8576b\"], [0.6666666666666666, \"#ed7953\"], [0.7777777777777778, \"#fb9f3a\"], [0.8888888888888888, \"#fdca26\"], [1.0, \"#f0f921\"]]}, \"colorway\": [\"#636efa\", \"#EF553B\", \"#00cc96\", \"#ab63fa\", \"#FFA15A\", \"#19d3f3\", \"#FF6692\", \"#B6E880\", \"#FF97FF\", \"#FECB52\"], \"font\": {\"color\": \"#2a3f5f\"}, \"geo\": {\"bgcolor\": \"white\", \"lakecolor\": \"white\", \"landcolor\": \"#E5ECF6\", \"showlakes\": true, \"showland\": true, \"subunitcolor\": \"white\"}, \"hoverlabel\": {\"align\": \"left\"}, \"hovermode\": \"closest\", \"mapbox\": {\"style\": \"light\"}, \"paper_bgcolor\": \"white\", \"plot_bgcolor\": \"#E5ECF6\", \"polar\": {\"angularaxis\": {\"gridcolor\": \"white\", \"linecolor\": \"white\", \"ticks\": \"\"}, \"bgcolor\": \"#E5ECF6\", \"radialaxis\": {\"gridcolor\": \"white\", \"linecolor\": \"white\", \"ticks\": \"\"}}, \"scene\": {\"xaxis\": {\"backgroundcolor\": \"#E5ECF6\", \"gridcolor\": \"white\", \"gridwidth\": 2, \"linecolor\": \"white\", \"showbackground\": true, \"ticks\": \"\", \"zerolinecolor\": \"white\"}, \"yaxis\": {\"backgroundcolor\": \"#E5ECF6\", \"gridcolor\": \"white\", \"gridwidth\": 2, \"linecolor\": \"white\", \"showbackground\": true, \"ticks\": \"\", \"zerolinecolor\": \"white\"}, \"zaxis\": {\"backgroundcolor\": \"#E5ECF6\", \"gridcolor\": \"white\", \"gridwidth\": 2, \"linecolor\": \"white\", \"showbackground\": true, \"ticks\": \"\", \"zerolinecolor\": \"white\"}}, \"shapedefaults\": {\"line\": {\"color\": \"#2a3f5f\"}}, \"ternary\": {\"aaxis\": {\"gridcolor\": \"white\", \"linecolor\": \"white\", \"ticks\": \"\"}, \"baxis\": {\"gridcolor\": \"white\", \"linecolor\": \"white\", \"ticks\": \"\"}, \"bgcolor\": \"#E5ECF6\", \"caxis\": {\"gridcolor\": \"white\", \"linecolor\": \"white\", \"ticks\": \"\"}}, \"title\": {\"x\": 0.05}, \"xaxis\": {\"automargin\": true, \"gridcolor\": \"white\", \"linecolor\": \"white\", \"ticks\": \"\", \"title\": {\"standoff\": 15}, \"zerolinecolor\": \"white\", \"zerolinewidth\": 2}, \"yaxis\": {\"automargin\": true, \"gridcolor\": \"white\", \"linecolor\": \"white\", \"ticks\": \"\", \"title\": {\"standoff\": 15}, \"zerolinecolor\": \"white\", \"zerolinewidth\": 2}}}, \"title\": {\"text\": \"\\uc77c\\uc790\\ubcc4 \\uc785\\uc6d0 \\uc218\"}, \"xaxis\": {\"title\": {\"text\": \"\\ub0a0\\uc9dc\"}, \"type\": \"category\"}, \"yaxis\": {\"title\": {\"text\": \"\\ud68c\\uc218\"}}},\n",
              "                        {\"responsive\": true}\n",
              "                    ).then(function(){\n",
              "                            \n",
              "var gd = document.getElementById('d62d9370-126a-4d37-8748-2cbfdd83e2a7');\n",
              "var x = new MutationObserver(function (mutations, observer) {{\n",
              "        var display = window.getComputedStyle(gd).display;\n",
              "        if (!display || display === 'none') {{\n",
              "            console.log([gd, 'removed!']);\n",
              "            Plotly.purge(gd);\n",
              "            observer.disconnect();\n",
              "        }}\n",
              "}});\n",
              "\n",
              "// Listen for the removal of the full notebook cells\n",
              "var notebookContainer = gd.closest('#notebook-container');\n",
              "if (notebookContainer) {{\n",
              "    x.observe(notebookContainer, {childList: true});\n",
              "}}\n",
              "\n",
              "// Listen for the clearing of the current output cell\n",
              "var outputEl = gd.closest('.output');\n",
              "if (outputEl) {{\n",
              "    x.observe(outputEl, {childList: true});\n",
              "}}\n",
              "\n",
              "                        })\n",
              "                };\n",
              "                \n",
              "            </script>\n",
              "        </div>\n",
              "</body>\n",
              "</html>"
            ]
          },
          "metadata": {}
        }
      ]
    },
    {
      "cell_type": "code",
      "metadata": {
        "id": "wr9q8PtsJE4j"
      },
      "source": [
        "# 요일로 데이터 변환 \n",
        "\n",
        "# 함수 생성 및 데이터 변환\n",
        "import datetime \n",
        "def weekday(day) : \n",
        "  days = ['월','화','수','목','금','토','일']\n",
        "  y = day//10000\n",
        "  m = (day%10000)//100\n",
        "  d = day%100\n",
        "  a = datetime.date(y,m,d).weekday()\n",
        "  return days[a] \n",
        "\n",
        "df['요일'] = df['요양개시일자'].apply(weekday)"
      ],
      "execution_count": 54,
      "outputs": []
    },
    {
      "cell_type": "code",
      "metadata": {
        "colab": {
          "base_uri": "https://localhost:8080/",
          "height": 112
        },
        "id": "P7iR5qkQJL2u",
        "outputId": "ef3e8cd4-8f0e-4e5f-9d6e-09a010215e07"
      },
      "source": [
        "df_week = pd.crosstab(index = df['요일'], columns = df['입원여부'])\n",
        "df_week.reset_index(inplace = True)\n",
        "df_week.columns = ['요양개시요일','입원 X', \"입원 O\"]\n",
        "\n",
        "df_week['num'] = [4,3,2,0,6,5,1]\n",
        "df_week.sort_values(by = 'num', inplace = True, ascending= True)\n",
        "df_week.reset_index(drop = True, inplace = True)\n",
        "df_week.drop('num', axis = 1, inplace = True)\n",
        "df_week.head(2)\n"
      ],
      "execution_count": 55,
      "outputs": [
        {
          "output_type": "execute_result",
          "data": {
            "text/html": [
              "<div>\n",
              "<style scoped>\n",
              "    .dataframe tbody tr th:only-of-type {\n",
              "        vertical-align: middle;\n",
              "    }\n",
              "\n",
              "    .dataframe tbody tr th {\n",
              "        vertical-align: top;\n",
              "    }\n",
              "\n",
              "    .dataframe thead th {\n",
              "        text-align: right;\n",
              "    }\n",
              "</style>\n",
              "<table border=\"1\" class=\"dataframe\">\n",
              "  <thead>\n",
              "    <tr style=\"text-align: right;\">\n",
              "      <th></th>\n",
              "      <th>요양개시요일</th>\n",
              "      <th>입원 X</th>\n",
              "      <th>입원 O</th>\n",
              "    </tr>\n",
              "  </thead>\n",
              "  <tbody>\n",
              "    <tr>\n",
              "      <th>0</th>\n",
              "      <td>월</td>\n",
              "      <td>2753919</td>\n",
              "      <td>56586</td>\n",
              "    </tr>\n",
              "    <tr>\n",
              "      <th>1</th>\n",
              "      <td>화</td>\n",
              "      <td>2219747</td>\n",
              "      <td>49496</td>\n",
              "    </tr>\n",
              "  </tbody>\n",
              "</table>\n",
              "</div>"
            ],
            "text/plain": [
              "  요양개시요일     입원 X   입원 O\n",
              "0      월  2753919  56586\n",
              "1      화  2219747  49496"
            ]
          },
          "metadata": {},
          "execution_count": 55
        }
      ]
    },
    {
      "cell_type": "code",
      "metadata": {
        "colab": {
          "base_uri": "https://localhost:8080/",
          "height": 542
        },
        "id": "6ofyxBT2JTIf",
        "outputId": "4ccc99f4-8e9b-4ef8-ce15-7b37a3394657"
      },
      "source": [
        "fig = go.Figure()\n",
        "\n",
        "fig.add_trace(go.Scatter(x = df_week['요양개시요일'], y = df_week['입원 O'], name = '입원 O'))\n",
        "\n",
        "fig.update_layout(title = '요일별 입원 수', xaxis_title = '요일', yaxis_title = '회수')\n",
        "fig.update_xaxes(type='category')\n",
        "\n",
        "fig.write_html(\"/content/drive/MyDrive/data/국민건강보험공단_진료내역정보_20191231/week.html\")\n",
        "fig.show()"
      ],
      "execution_count": 56,
      "outputs": [
        {
          "output_type": "display_data",
          "data": {
            "text/html": [
              "<html>\n",
              "<head><meta charset=\"utf-8\" /></head>\n",
              "<body>\n",
              "    <div>\n",
              "            <script src=\"https://cdnjs.cloudflare.com/ajax/libs/mathjax/2.7.5/MathJax.js?config=TeX-AMS-MML_SVG\"></script><script type=\"text/javascript\">if (window.MathJax) {MathJax.Hub.Config({SVG: {font: \"STIX-Web\"}});}</script>\n",
              "                <script type=\"text/javascript\">window.PlotlyConfig = {MathJaxConfig: 'local'};</script>\n",
              "        <script src=\"https://cdn.plot.ly/plotly-latest.min.js\"></script>    \n",
              "            <div id=\"173ff8b4-fcb1-4fb3-88a2-87db51ab762a\" class=\"plotly-graph-div\" style=\"height:525px; width:100%;\"></div>\n",
              "            <script type=\"text/javascript\">\n",
              "                \n",
              "                    window.PLOTLYENV=window.PLOTLYENV || {};\n",
              "                    \n",
              "                if (document.getElementById(\"173ff8b4-fcb1-4fb3-88a2-87db51ab762a\")) {\n",
              "                    Plotly.newPlot(\n",
              "                        '173ff8b4-fcb1-4fb3-88a2-87db51ab762a',\n",
              "                        [{\"name\": \"\\uc785\\uc6d0 O\", \"type\": \"scatter\", \"x\": [\"\\uc6d4\", \"\\ud654\", \"\\uc218\", \"\\ubaa9\", \"\\uae08\", \"\\ud1a0\", \"\\uc77c\"], \"y\": [56586, 49496, 40222, 39195, 47493, 23517, 27453]}],\n",
              "                        {\"template\": {\"data\": {\"bar\": [{\"error_x\": {\"color\": \"#2a3f5f\"}, \"error_y\": {\"color\": \"#2a3f5f\"}, \"marker\": {\"line\": {\"color\": \"#E5ECF6\", \"width\": 0.5}}, \"type\": \"bar\"}], \"barpolar\": [{\"marker\": {\"line\": {\"color\": \"#E5ECF6\", \"width\": 0.5}}, \"type\": \"barpolar\"}], \"carpet\": [{\"aaxis\": {\"endlinecolor\": \"#2a3f5f\", \"gridcolor\": \"white\", \"linecolor\": \"white\", \"minorgridcolor\": \"white\", \"startlinecolor\": \"#2a3f5f\"}, \"baxis\": {\"endlinecolor\": \"#2a3f5f\", \"gridcolor\": \"white\", \"linecolor\": \"white\", \"minorgridcolor\": \"white\", \"startlinecolor\": \"#2a3f5f\"}, \"type\": \"carpet\"}], \"choropleth\": [{\"colorbar\": {\"outlinewidth\": 0, \"ticks\": \"\"}, \"type\": \"choropleth\"}], \"contour\": [{\"colorbar\": {\"outlinewidth\": 0, \"ticks\": \"\"}, \"colorscale\": [[0.0, \"#0d0887\"], [0.1111111111111111, \"#46039f\"], [0.2222222222222222, \"#7201a8\"], [0.3333333333333333, \"#9c179e\"], [0.4444444444444444, \"#bd3786\"], [0.5555555555555556, \"#d8576b\"], [0.6666666666666666, \"#ed7953\"], [0.7777777777777778, \"#fb9f3a\"], [0.8888888888888888, \"#fdca26\"], [1.0, \"#f0f921\"]], \"type\": \"contour\"}], \"contourcarpet\": [{\"colorbar\": {\"outlinewidth\": 0, \"ticks\": \"\"}, \"type\": \"contourcarpet\"}], \"heatmap\": [{\"colorbar\": {\"outlinewidth\": 0, \"ticks\": \"\"}, \"colorscale\": [[0.0, \"#0d0887\"], [0.1111111111111111, \"#46039f\"], [0.2222222222222222, \"#7201a8\"], [0.3333333333333333, \"#9c179e\"], [0.4444444444444444, \"#bd3786\"], [0.5555555555555556, \"#d8576b\"], [0.6666666666666666, \"#ed7953\"], [0.7777777777777778, \"#fb9f3a\"], [0.8888888888888888, \"#fdca26\"], [1.0, \"#f0f921\"]], \"type\": \"heatmap\"}], \"heatmapgl\": [{\"colorbar\": {\"outlinewidth\": 0, \"ticks\": \"\"}, \"colorscale\": [[0.0, \"#0d0887\"], [0.1111111111111111, \"#46039f\"], [0.2222222222222222, \"#7201a8\"], [0.3333333333333333, \"#9c179e\"], [0.4444444444444444, \"#bd3786\"], [0.5555555555555556, \"#d8576b\"], [0.6666666666666666, \"#ed7953\"], [0.7777777777777778, \"#fb9f3a\"], [0.8888888888888888, \"#fdca26\"], [1.0, \"#f0f921\"]], \"type\": \"heatmapgl\"}], \"histogram\": [{\"marker\": {\"colorbar\": {\"outlinewidth\": 0, \"ticks\": \"\"}}, \"type\": \"histogram\"}], \"histogram2d\": [{\"colorbar\": {\"outlinewidth\": 0, \"ticks\": \"\"}, \"colorscale\": [[0.0, \"#0d0887\"], [0.1111111111111111, \"#46039f\"], [0.2222222222222222, \"#7201a8\"], [0.3333333333333333, \"#9c179e\"], [0.4444444444444444, \"#bd3786\"], [0.5555555555555556, \"#d8576b\"], [0.6666666666666666, \"#ed7953\"], [0.7777777777777778, \"#fb9f3a\"], [0.8888888888888888, \"#fdca26\"], [1.0, \"#f0f921\"]], \"type\": \"histogram2d\"}], \"histogram2dcontour\": [{\"colorbar\": {\"outlinewidth\": 0, \"ticks\": \"\"}, \"colorscale\": [[0.0, \"#0d0887\"], [0.1111111111111111, \"#46039f\"], [0.2222222222222222, \"#7201a8\"], [0.3333333333333333, \"#9c179e\"], [0.4444444444444444, \"#bd3786\"], [0.5555555555555556, \"#d8576b\"], [0.6666666666666666, \"#ed7953\"], [0.7777777777777778, \"#fb9f3a\"], [0.8888888888888888, \"#fdca26\"], [1.0, \"#f0f921\"]], \"type\": \"histogram2dcontour\"}], \"mesh3d\": [{\"colorbar\": {\"outlinewidth\": 0, \"ticks\": \"\"}, \"type\": \"mesh3d\"}], \"parcoords\": [{\"line\": {\"colorbar\": {\"outlinewidth\": 0, \"ticks\": \"\"}}, \"type\": \"parcoords\"}], \"pie\": [{\"automargin\": true, \"type\": \"pie\"}], \"scatter\": [{\"marker\": {\"colorbar\": {\"outlinewidth\": 0, \"ticks\": \"\"}}, \"type\": \"scatter\"}], \"scatter3d\": [{\"line\": {\"colorbar\": {\"outlinewidth\": 0, \"ticks\": \"\"}}, \"marker\": {\"colorbar\": {\"outlinewidth\": 0, \"ticks\": \"\"}}, \"type\": \"scatter3d\"}], \"scattercarpet\": [{\"marker\": {\"colorbar\": {\"outlinewidth\": 0, \"ticks\": \"\"}}, \"type\": \"scattercarpet\"}], \"scattergeo\": [{\"marker\": {\"colorbar\": {\"outlinewidth\": 0, \"ticks\": \"\"}}, \"type\": \"scattergeo\"}], \"scattergl\": [{\"marker\": {\"colorbar\": {\"outlinewidth\": 0, \"ticks\": \"\"}}, \"type\": \"scattergl\"}], \"scattermapbox\": [{\"marker\": {\"colorbar\": {\"outlinewidth\": 0, \"ticks\": \"\"}}, \"type\": \"scattermapbox\"}], \"scatterpolar\": [{\"marker\": {\"colorbar\": {\"outlinewidth\": 0, \"ticks\": \"\"}}, \"type\": \"scatterpolar\"}], \"scatterpolargl\": [{\"marker\": {\"colorbar\": {\"outlinewidth\": 0, \"ticks\": \"\"}}, \"type\": \"scatterpolargl\"}], \"scatterternary\": [{\"marker\": {\"colorbar\": {\"outlinewidth\": 0, \"ticks\": \"\"}}, \"type\": \"scatterternary\"}], \"surface\": [{\"colorbar\": {\"outlinewidth\": 0, \"ticks\": \"\"}, \"colorscale\": [[0.0, \"#0d0887\"], [0.1111111111111111, \"#46039f\"], [0.2222222222222222, \"#7201a8\"], [0.3333333333333333, \"#9c179e\"], [0.4444444444444444, \"#bd3786\"], [0.5555555555555556, \"#d8576b\"], [0.6666666666666666, \"#ed7953\"], [0.7777777777777778, \"#fb9f3a\"], [0.8888888888888888, \"#fdca26\"], [1.0, \"#f0f921\"]], \"type\": \"surface\"}], \"table\": [{\"cells\": {\"fill\": {\"color\": \"#EBF0F8\"}, \"line\": {\"color\": \"white\"}}, \"header\": {\"fill\": {\"color\": \"#C8D4E3\"}, \"line\": {\"color\": \"white\"}}, \"type\": \"table\"}]}, \"layout\": {\"annotationdefaults\": {\"arrowcolor\": \"#2a3f5f\", \"arrowhead\": 0, \"arrowwidth\": 1}, \"coloraxis\": {\"colorbar\": {\"outlinewidth\": 0, \"ticks\": \"\"}}, \"colorscale\": {\"diverging\": [[0, \"#8e0152\"], [0.1, \"#c51b7d\"], [0.2, \"#de77ae\"], [0.3, \"#f1b6da\"], [0.4, \"#fde0ef\"], [0.5, \"#f7f7f7\"], [0.6, \"#e6f5d0\"], [0.7, \"#b8e186\"], [0.8, \"#7fbc41\"], [0.9, \"#4d9221\"], [1, \"#276419\"]], \"sequential\": [[0.0, \"#0d0887\"], [0.1111111111111111, \"#46039f\"], [0.2222222222222222, \"#7201a8\"], [0.3333333333333333, \"#9c179e\"], [0.4444444444444444, \"#bd3786\"], [0.5555555555555556, \"#d8576b\"], [0.6666666666666666, \"#ed7953\"], [0.7777777777777778, \"#fb9f3a\"], [0.8888888888888888, \"#fdca26\"], [1.0, \"#f0f921\"]], \"sequentialminus\": [[0.0, \"#0d0887\"], [0.1111111111111111, \"#46039f\"], [0.2222222222222222, \"#7201a8\"], [0.3333333333333333, \"#9c179e\"], [0.4444444444444444, \"#bd3786\"], [0.5555555555555556, \"#d8576b\"], [0.6666666666666666, \"#ed7953\"], [0.7777777777777778, \"#fb9f3a\"], [0.8888888888888888, \"#fdca26\"], [1.0, \"#f0f921\"]]}, \"colorway\": [\"#636efa\", \"#EF553B\", \"#00cc96\", \"#ab63fa\", \"#FFA15A\", \"#19d3f3\", \"#FF6692\", \"#B6E880\", \"#FF97FF\", \"#FECB52\"], \"font\": {\"color\": \"#2a3f5f\"}, \"geo\": {\"bgcolor\": \"white\", \"lakecolor\": \"white\", \"landcolor\": \"#E5ECF6\", \"showlakes\": true, \"showland\": true, \"subunitcolor\": \"white\"}, \"hoverlabel\": {\"align\": \"left\"}, \"hovermode\": \"closest\", \"mapbox\": {\"style\": \"light\"}, \"paper_bgcolor\": \"white\", \"plot_bgcolor\": \"#E5ECF6\", \"polar\": {\"angularaxis\": {\"gridcolor\": \"white\", \"linecolor\": \"white\", \"ticks\": \"\"}, \"bgcolor\": \"#E5ECF6\", \"radialaxis\": {\"gridcolor\": \"white\", \"linecolor\": \"white\", \"ticks\": \"\"}}, \"scene\": {\"xaxis\": {\"backgroundcolor\": \"#E5ECF6\", \"gridcolor\": \"white\", \"gridwidth\": 2, \"linecolor\": \"white\", \"showbackground\": true, \"ticks\": \"\", \"zerolinecolor\": \"white\"}, \"yaxis\": {\"backgroundcolor\": \"#E5ECF6\", \"gridcolor\": \"white\", \"gridwidth\": 2, \"linecolor\": \"white\", \"showbackground\": true, \"ticks\": \"\", \"zerolinecolor\": \"white\"}, \"zaxis\": {\"backgroundcolor\": \"#E5ECF6\", \"gridcolor\": \"white\", \"gridwidth\": 2, \"linecolor\": \"white\", \"showbackground\": true, \"ticks\": \"\", \"zerolinecolor\": \"white\"}}, \"shapedefaults\": {\"line\": {\"color\": \"#2a3f5f\"}}, \"ternary\": {\"aaxis\": {\"gridcolor\": \"white\", \"linecolor\": \"white\", \"ticks\": \"\"}, \"baxis\": {\"gridcolor\": \"white\", \"linecolor\": \"white\", \"ticks\": \"\"}, \"bgcolor\": \"#E5ECF6\", \"caxis\": {\"gridcolor\": \"white\", \"linecolor\": \"white\", \"ticks\": \"\"}}, \"title\": {\"x\": 0.05}, \"xaxis\": {\"automargin\": true, \"gridcolor\": \"white\", \"linecolor\": \"white\", \"ticks\": \"\", \"title\": {\"standoff\": 15}, \"zerolinecolor\": \"white\", \"zerolinewidth\": 2}, \"yaxis\": {\"automargin\": true, \"gridcolor\": \"white\", \"linecolor\": \"white\", \"ticks\": \"\", \"title\": {\"standoff\": 15}, \"zerolinecolor\": \"white\", \"zerolinewidth\": 2}}}, \"title\": {\"text\": \"\\uc694\\uc77c\\ubcc4 \\uc785\\uc6d0 \\uc218\"}, \"xaxis\": {\"title\": {\"text\": \"\\uc694\\uc77c\"}, \"type\": \"category\"}, \"yaxis\": {\"title\": {\"text\": \"\\ud68c\\uc218\"}}},\n",
              "                        {\"responsive\": true}\n",
              "                    ).then(function(){\n",
              "                            \n",
              "var gd = document.getElementById('173ff8b4-fcb1-4fb3-88a2-87db51ab762a');\n",
              "var x = new MutationObserver(function (mutations, observer) {{\n",
              "        var display = window.getComputedStyle(gd).display;\n",
              "        if (!display || display === 'none') {{\n",
              "            console.log([gd, 'removed!']);\n",
              "            Plotly.purge(gd);\n",
              "            observer.disconnect();\n",
              "        }}\n",
              "}});\n",
              "\n",
              "// Listen for the removal of the full notebook cells\n",
              "var notebookContainer = gd.closest('#notebook-container');\n",
              "if (notebookContainer) {{\n",
              "    x.observe(notebookContainer, {childList: true});\n",
              "}}\n",
              "\n",
              "// Listen for the clearing of the current output cell\n",
              "var outputEl = gd.closest('.output');\n",
              "if (outputEl) {{\n",
              "    x.observe(outputEl, {childList: true});\n",
              "}}\n",
              "\n",
              "                        })\n",
              "                };\n",
              "                \n",
              "            </script>\n",
              "        </div>\n",
              "</body>\n",
              "</html>"
            ]
          },
          "metadata": {}
        }
      ]
    },
    {
      "cell_type": "markdown",
      "metadata": {
        "id": "wfGpwRDNKVnP"
      },
      "source": [
        "# 03. 상관성 확인"
      ]
    },
    {
      "cell_type": "code",
      "metadata": {
        "colab": {
          "base_uri": "https://localhost:8080/"
        },
        "id": "gTEJjILCJenz",
        "outputId": "a1cd8891-cda7-49f5-9425-41668abedf2b"
      },
      "source": [
        "df.columns"
      ],
      "execution_count": 57,
      "outputs": [
        {
          "output_type": "execute_result",
          "data": {
            "text/plain": [
              "Index(['성별코드', '연령대코드', '시도코드', '요양개시일자', '입원여부', '진료과목코드', '주상병코드', '부상병코드',\n",
              "       '심결가산율', '시도명', '진료과목', '요일'],\n",
              "      dtype='object')"
            ]
          },
          "metadata": {},
          "execution_count": 57
        }
      ]
    },
    {
      "cell_type": "code",
      "metadata": {
        "colab": {
          "base_uri": "https://localhost:8080/",
          "height": 112
        },
        "id": "pdh0TI4sKgfm",
        "outputId": "09ef1489-a470-4132-9356-c3c7d22a23a5"
      },
      "source": [
        "df = df[['성별코드', '연령대코드', '시도코드','진료과목코드', '주상병코드', '부상병코드','심결가산율','요일', '입원여부']]\n",
        "df.head(2)"
      ],
      "execution_count": 58,
      "outputs": [
        {
          "output_type": "execute_result",
          "data": {
            "text/html": [
              "<div>\n",
              "<style scoped>\n",
              "    .dataframe tbody tr th:only-of-type {\n",
              "        vertical-align: middle;\n",
              "    }\n",
              "\n",
              "    .dataframe tbody tr th {\n",
              "        vertical-align: top;\n",
              "    }\n",
              "\n",
              "    .dataframe thead th {\n",
              "        text-align: right;\n",
              "    }\n",
              "</style>\n",
              "<table border=\"1\" class=\"dataframe\">\n",
              "  <thead>\n",
              "    <tr style=\"text-align: right;\">\n",
              "      <th></th>\n",
              "      <th>성별코드</th>\n",
              "      <th>연령대코드</th>\n",
              "      <th>시도코드</th>\n",
              "      <th>진료과목코드</th>\n",
              "      <th>주상병코드</th>\n",
              "      <th>부상병코드</th>\n",
              "      <th>심결가산율</th>\n",
              "      <th>요일</th>\n",
              "      <th>입원여부</th>\n",
              "    </tr>\n",
              "  </thead>\n",
              "  <tbody>\n",
              "    <tr>\n",
              "      <th>0</th>\n",
              "      <td>2</td>\n",
              "      <td>50</td>\n",
              "      <td>46</td>\n",
              "      <td>5</td>\n",
              "      <td>M</td>\n",
              "      <td>M</td>\n",
              "      <td>0.25</td>\n",
              "      <td>월</td>\n",
              "      <td>0</td>\n",
              "    </tr>\n",
              "    <tr>\n",
              "      <th>1</th>\n",
              "      <td>2</td>\n",
              "      <td>50</td>\n",
              "      <td>46</td>\n",
              "      <td>1</td>\n",
              "      <td>E</td>\n",
              "      <td>N</td>\n",
              "      <td>0.25</td>\n",
              "      <td>화</td>\n",
              "      <td>0</td>\n",
              "    </tr>\n",
              "  </tbody>\n",
              "</table>\n",
              "</div>"
            ],
            "text/plain": [
              "   성별코드  연령대코드  시도코드  진료과목코드 주상병코드 부상병코드  심결가산율 요일  입원여부\n",
              "0     2     50    46       5     M     M   0.25  월     0\n",
              "1     2     50    46       1     E     N   0.25  화     0"
            ]
          },
          "metadata": {},
          "execution_count": 58
        }
      ]
    },
    {
      "cell_type": "markdown",
      "metadata": {
        "id": "7b_VZbxFPtx4"
      },
      "source": [
        "## 1) 문자열 변수를 숫자형 변수로 변환"
      ]
    },
    {
      "cell_type": "code",
      "metadata": {
        "colab": {
          "base_uri": "https://localhost:8080/",
          "height": 112
        },
        "id": "v6KwHu-LL-ZJ",
        "outputId": "23cb218b-fcd5-4f7d-8798-6d2595f5e0dd"
      },
      "source": [
        "# 주, 부상병코드 알파벳 인덱싱 \n",
        "eng_list = ['A','B','C', 'D', 'E', 'F', 'G', 'H', 'I', 'J', 'K', 'L', 'M', 'N', 'O', 'P', 'Q', 'R', 'S', 'T', 'U', 'V', 'W', 'X', 'Y', 'Z']\n",
        "code_dict = dict(zip(eng_list, [i for i in range(len(eng_list))]))\n",
        "df['주상병코드'] = df['주상병코드'].apply(lambda x: code_dict[x])\n",
        "df['부상병코드'] = df['부상병코드'].apply(lambda x: code_dict[x])\n",
        "\n",
        "# 심결가산율 카테고리화 및 인덱싱\n",
        "rate_list = pd.DataFrame(df['심결가산율'].value_counts()).index\n",
        "rate_list = sorted(rate_list)\n",
        "rate_dict = dict(zip(rate_list, [i for i in range(len(rate_list))]))\n",
        "df['심결가산율'] = df['심결가산율'].apply(lambda x: rate_dict[x])\n",
        "\n",
        "# 요일 숫자로 변환\n",
        "def weekday(day) : \n",
        "  days = ['월','화','수','목','금','토','일']\n",
        "  return days.index(day)\n",
        "df['요일'] = df['요일'].apply(weekday)\n",
        "\n",
        "df.head(2)"
      ],
      "execution_count": 59,
      "outputs": [
        {
          "output_type": "execute_result",
          "data": {
            "text/html": [
              "<div>\n",
              "<style scoped>\n",
              "    .dataframe tbody tr th:only-of-type {\n",
              "        vertical-align: middle;\n",
              "    }\n",
              "\n",
              "    .dataframe tbody tr th {\n",
              "        vertical-align: top;\n",
              "    }\n",
              "\n",
              "    .dataframe thead th {\n",
              "        text-align: right;\n",
              "    }\n",
              "</style>\n",
              "<table border=\"1\" class=\"dataframe\">\n",
              "  <thead>\n",
              "    <tr style=\"text-align: right;\">\n",
              "      <th></th>\n",
              "      <th>성별코드</th>\n",
              "      <th>연령대코드</th>\n",
              "      <th>시도코드</th>\n",
              "      <th>진료과목코드</th>\n",
              "      <th>주상병코드</th>\n",
              "      <th>부상병코드</th>\n",
              "      <th>심결가산율</th>\n",
              "      <th>요일</th>\n",
              "      <th>입원여부</th>\n",
              "    </tr>\n",
              "  </thead>\n",
              "  <tbody>\n",
              "    <tr>\n",
              "      <th>0</th>\n",
              "      <td>2</td>\n",
              "      <td>50</td>\n",
              "      <td>46</td>\n",
              "      <td>5</td>\n",
              "      <td>12</td>\n",
              "      <td>12</td>\n",
              "      <td>3</td>\n",
              "      <td>0</td>\n",
              "      <td>0</td>\n",
              "    </tr>\n",
              "    <tr>\n",
              "      <th>1</th>\n",
              "      <td>2</td>\n",
              "      <td>50</td>\n",
              "      <td>46</td>\n",
              "      <td>1</td>\n",
              "      <td>4</td>\n",
              "      <td>13</td>\n",
              "      <td>3</td>\n",
              "      <td>1</td>\n",
              "      <td>0</td>\n",
              "    </tr>\n",
              "  </tbody>\n",
              "</table>\n",
              "</div>"
            ],
            "text/plain": [
              "   성별코드  연령대코드  시도코드  진료과목코드  주상병코드  부상병코드  심결가산율  요일  입원여부\n",
              "0     2     50    46       5     12     12      3   0     0\n",
              "1     2     50    46       1      4     13      3   1     0"
            ]
          },
          "metadata": {},
          "execution_count": 59
        }
      ]
    },
    {
      "cell_type": "markdown",
      "metadata": {
        "id": "v6Z9fPdvQ9qA"
      },
      "source": [
        "## 2) 범주형으로 변환"
      ]
    },
    {
      "cell_type": "code",
      "metadata": {
        "colab": {
          "base_uri": "https://localhost:8080/"
        },
        "id": "OIVlIkK1QA5Z",
        "outputId": "147f6b95-5791-479c-c342-899ad96c7340"
      },
      "source": [
        "for i in df.columns : \n",
        "  df[i] = df[i].astype(\"category\")\n",
        "df.dtypes"
      ],
      "execution_count": 60,
      "outputs": [
        {
          "output_type": "execute_result",
          "data": {
            "text/plain": [
              "성별코드      category\n",
              "연령대코드     category\n",
              "시도코드      category\n",
              "진료과목코드    category\n",
              "주상병코드     category\n",
              "부상병코드     category\n",
              "심결가산율     category\n",
              "요일        category\n",
              "입원여부      category\n",
              "dtype: object"
            ]
          },
          "metadata": {},
          "execution_count": 60
        }
      ]
    },
    {
      "cell_type": "markdown",
      "metadata": {
        "id": "FpH66_vkRDlB"
      },
      "source": [
        "## 3) 상관성 확인 "
      ]
    },
    {
      "cell_type": "code",
      "metadata": {
        "colab": {
          "base_uri": "https://localhost:8080/"
        },
        "id": "mgwkm3OTQITB",
        "outputId": "31ccb2ab-ebf6-40b4-e8a7-c0f3ef1d4c67"
      },
      "source": [
        "# 상관성 확인\n",
        "from scipy.stats import chi2_contingency\n",
        " \n",
        "for i in df.columns[:-1] : \n",
        "  df_cross = pd.crosstab(index=df[i],columns=df['입원여부'])\n",
        "  ChiSqResult = chi2_contingency(df_cross)\n",
        "  print(f'{i} : The P-Value of the ChiSq Test is:', ChiSqResult[1])"
      ],
      "execution_count": 61,
      "outputs": [
        {
          "output_type": "stream",
          "name": "stdout",
          "text": [
            "성별코드 : The P-Value of the ChiSq Test is: 1.4459695826147777e-15\n",
            "연령대코드 : The P-Value of the ChiSq Test is: 0.0\n",
            "시도코드 : The P-Value of the ChiSq Test is: 0.0\n",
            "진료과목코드 : The P-Value of the ChiSq Test is: 0.0\n",
            "주상병코드 : The P-Value of the ChiSq Test is: 0.0\n",
            "부상병코드 : The P-Value of the ChiSq Test is: 0.0\n",
            "심결가산율 : The P-Value of the ChiSq Test is: 0.0\n",
            "요일 : The P-Value of the ChiSq Test is: 0.0\n"
          ]
        }
      ]
    },
    {
      "cell_type": "markdown",
      "metadata": {
        "id": "RW_tLMX2RlLO"
      },
      "source": [
        "# 04. Pre-processing"
      ]
    },
    {
      "cell_type": "code",
      "metadata": {
        "colab": {
          "base_uri": "https://localhost:8080/"
        },
        "id": "RJ1KlgSvRMl0",
        "outputId": "fc2b183f-93db-4aac-d824-83e84c46344b"
      },
      "source": [
        "# target 비율 맞추기 \n",
        "# undersampling 하기\n",
        "from collections import Counter\n",
        "from sklearn.model_selection import train_test_split\n",
        "from imblearn.under_sampling import RandomUnderSampler\n",
        "import warnings\n",
        "\n",
        "warnings.filterwarnings(\"ignore\")\n",
        "\n",
        "X = df.drop('입원여부', axis = 1)\n",
        "y = df['입원여부']\n",
        "\n",
        "# # X_train, X_test, y_train, y_test = train_test_split(X,y,test_size=0.30)\n",
        "print(\"Before undersampling: \", Counter(y))\n",
        "\n",
        "undersample = RandomUnderSampler(sampling_strategy='majority')\n",
        "\n",
        "# # fit and apply the transform\n",
        "X_under, y_under = undersample.fit_resample(X, y)\n",
        "print(\"After undersampling: \", Counter(y_under))"
      ],
      "execution_count": 62,
      "outputs": [
        {
          "output_type": "stream",
          "name": "stdout",
          "text": [
            "Before undersampling:  Counter({0: 12894383, 1: 283962})\n",
            "After undersampling:  Counter({0: 283962, 1: 283962})\n"
          ]
        }
      ]
    },
    {
      "cell_type": "code",
      "metadata": {
        "colab": {
          "base_uri": "https://localhost:8080/",
          "height": 112
        },
        "id": "6_NwOdT5RtmI",
        "outputId": "fe87b360-ce48-4efb-d778-cfda437e4158"
      },
      "source": [
        "df_under = pd.DataFrame(X_under , columns= X.columns)\n",
        "X = X_under \n",
        "y = y_under\n",
        "df_under.head(2)"
      ],
      "execution_count": 63,
      "outputs": [
        {
          "output_type": "execute_result",
          "data": {
            "text/html": [
              "<div>\n",
              "<style scoped>\n",
              "    .dataframe tbody tr th:only-of-type {\n",
              "        vertical-align: middle;\n",
              "    }\n",
              "\n",
              "    .dataframe tbody tr th {\n",
              "        vertical-align: top;\n",
              "    }\n",
              "\n",
              "    .dataframe thead th {\n",
              "        text-align: right;\n",
              "    }\n",
              "</style>\n",
              "<table border=\"1\" class=\"dataframe\">\n",
              "  <thead>\n",
              "    <tr style=\"text-align: right;\">\n",
              "      <th></th>\n",
              "      <th>성별코드</th>\n",
              "      <th>연령대코드</th>\n",
              "      <th>시도코드</th>\n",
              "      <th>진료과목코드</th>\n",
              "      <th>주상병코드</th>\n",
              "      <th>부상병코드</th>\n",
              "      <th>심결가산율</th>\n",
              "      <th>요일</th>\n",
              "    </tr>\n",
              "  </thead>\n",
              "  <tbody>\n",
              "    <tr>\n",
              "      <th>0</th>\n",
              "      <td>2</td>\n",
              "      <td>50</td>\n",
              "      <td>41</td>\n",
              "      <td>3</td>\n",
              "      <td>5</td>\n",
              "      <td>5</td>\n",
              "      <td>2</td>\n",
              "      <td>4</td>\n",
              "    </tr>\n",
              "    <tr>\n",
              "      <th>1</th>\n",
              "      <td>2</td>\n",
              "      <td>40</td>\n",
              "      <td>44</td>\n",
              "      <td>1</td>\n",
              "      <td>9</td>\n",
              "      <td>9</td>\n",
              "      <td>1</td>\n",
              "      <td>2</td>\n",
              "    </tr>\n",
              "  </tbody>\n",
              "</table>\n",
              "</div>"
            ],
            "text/plain": [
              "   성별코드  연령대코드  시도코드  진료과목코드  주상병코드  부상병코드  심결가산율  요일\n",
              "0     2     50    41       3      5      5      2   4\n",
              "1     2     40    44       1      9      9      1   2"
            ]
          },
          "metadata": {},
          "execution_count": 63
        }
      ]
    },
    {
      "cell_type": "code",
      "metadata": {
        "colab": {
          "base_uri": "https://localhost:8080/",
          "height": 112
        },
        "id": "x9ycfoFHRygR",
        "outputId": "13926d98-731c-48f9-cb4f-f11d6c849afe"
      },
      "source": [
        "df_under['입원여부'] = y_under\n",
        "df_under.head(2)"
      ],
      "execution_count": 64,
      "outputs": [
        {
          "output_type": "execute_result",
          "data": {
            "text/html": [
              "<div>\n",
              "<style scoped>\n",
              "    .dataframe tbody tr th:only-of-type {\n",
              "        vertical-align: middle;\n",
              "    }\n",
              "\n",
              "    .dataframe tbody tr th {\n",
              "        vertical-align: top;\n",
              "    }\n",
              "\n",
              "    .dataframe thead th {\n",
              "        text-align: right;\n",
              "    }\n",
              "</style>\n",
              "<table border=\"1\" class=\"dataframe\">\n",
              "  <thead>\n",
              "    <tr style=\"text-align: right;\">\n",
              "      <th></th>\n",
              "      <th>성별코드</th>\n",
              "      <th>연령대코드</th>\n",
              "      <th>시도코드</th>\n",
              "      <th>진료과목코드</th>\n",
              "      <th>주상병코드</th>\n",
              "      <th>부상병코드</th>\n",
              "      <th>심결가산율</th>\n",
              "      <th>요일</th>\n",
              "      <th>입원여부</th>\n",
              "    </tr>\n",
              "  </thead>\n",
              "  <tbody>\n",
              "    <tr>\n",
              "      <th>0</th>\n",
              "      <td>2</td>\n",
              "      <td>50</td>\n",
              "      <td>41</td>\n",
              "      <td>3</td>\n",
              "      <td>5</td>\n",
              "      <td>5</td>\n",
              "      <td>2</td>\n",
              "      <td>4</td>\n",
              "      <td>0</td>\n",
              "    </tr>\n",
              "    <tr>\n",
              "      <th>1</th>\n",
              "      <td>2</td>\n",
              "      <td>40</td>\n",
              "      <td>44</td>\n",
              "      <td>1</td>\n",
              "      <td>9</td>\n",
              "      <td>9</td>\n",
              "      <td>1</td>\n",
              "      <td>2</td>\n",
              "      <td>0</td>\n",
              "    </tr>\n",
              "  </tbody>\n",
              "</table>\n",
              "</div>"
            ],
            "text/plain": [
              "   성별코드  연령대코드  시도코드  진료과목코드  주상병코드  부상병코드  심결가산율  요일  입원여부\n",
              "0     2     50    41       3      5      5      2   4     0\n",
              "1     2     40    44       1      9      9      1   2     0"
            ]
          },
          "metadata": {},
          "execution_count": 64
        }
      ]
    },
    {
      "cell_type": "code",
      "metadata": {
        "colab": {
          "base_uri": "https://localhost:8080/"
        },
        "id": "YIaUwhYrR51q",
        "outputId": "1f966bb6-6a03-4688-e491-f3fe079a3ead"
      },
      "source": [
        "# 상관성 재확인 \n",
        "for i in df_under.columns[:-1] : \n",
        "  df_cross = pd.crosstab(index=df_under[i],columns=df_under['입원여부'])\n",
        "  ChiSqResult = chi2_contingency(df_cross)\n",
        "  print(f'{i} : The P-Value of the ChiSq Test is:', ChiSqResult[1])"
      ],
      "execution_count": 65,
      "outputs": [
        {
          "output_type": "stream",
          "name": "stdout",
          "text": [
            "성별코드 : The P-Value of the ChiSq Test is: 5.695149210988395e-09\n",
            "연령대코드 : The P-Value of the ChiSq Test is: 0.0\n",
            "시도코드 : The P-Value of the ChiSq Test is: 0.0\n",
            "진료과목코드 : The P-Value of the ChiSq Test is: 0.0\n",
            "주상병코드 : The P-Value of the ChiSq Test is: 0.0\n",
            "부상병코드 : The P-Value of the ChiSq Test is: 0.0\n",
            "심결가산율 : The P-Value of the ChiSq Test is: 0.0\n",
            "요일 : The P-Value of the ChiSq Test is: 0.0\n"
          ]
        }
      ]
    },
    {
      "cell_type": "code",
      "metadata": {
        "colab": {
          "base_uri": "https://localhost:8080/"
        },
        "id": "I9yw4Dj9R7k_",
        "outputId": "76acae1b-68b8-4698-da63-7bf5b0bfe7cd"
      },
      "source": [
        "# 데이터 타입 변경 \n",
        "for i in df.columns : \n",
        "  df_under[i] = df[i].astype(\"category\")\n",
        "df_under.dtypes"
      ],
      "execution_count": 66,
      "outputs": [
        {
          "output_type": "execute_result",
          "data": {
            "text/plain": [
              "성별코드      category\n",
              "연령대코드     category\n",
              "시도코드      category\n",
              "진료과목코드    category\n",
              "주상병코드     category\n",
              "부상병코드     category\n",
              "심결가산율     category\n",
              "요일        category\n",
              "입원여부      category\n",
              "dtype: object"
            ]
          },
          "metadata": {},
          "execution_count": 66
        }
      ]
    },
    {
      "cell_type": "code",
      "metadata": {
        "id": "q5TKIm1hR-y0"
      },
      "source": [
        "# 데이터셋 분리 \n",
        "X_train, X_test, y_train, y_test = train_test_split(X, y, test_size = 0.25, stratify=y, random_state = 42)"
      ],
      "execution_count": 67,
      "outputs": []
    },
    {
      "cell_type": "markdown",
      "metadata": {
        "id": "gxMwADh0SePI"
      },
      "source": [
        "# 05. 모델 생성"
      ]
    },
    {
      "cell_type": "markdown",
      "metadata": {
        "id": "txbjbEsrSgGd"
      },
      "source": [
        "## 1) Decision Tree"
      ]
    },
    {
      "cell_type": "code",
      "metadata": {
        "colab": {
          "base_uri": "https://localhost:8080/"
        },
        "id": "Q8qKuB_qSKX9",
        "outputId": "7dabbc3f-1165-4741-f043-f877f23db17b"
      },
      "source": [
        "# 모델 생성 \n",
        "from sklearn.tree import DecisionTreeClassifier\n",
        "tree2 = DecisionTreeClassifier(criterion = \"gini\", random_state = 100,\n",
        "                               max_depth=6, min_samples_leaf=200)\n",
        "tree2.fit(X_train,y_train)\n",
        "\n",
        "print(tree2.score(X_test,y_test))"
      ],
      "execution_count": 68,
      "outputs": [
        {
          "output_type": "stream",
          "name": "stdout",
          "text": [
            "0.8495502919404709\n"
          ]
        }
      ]
    },
    {
      "cell_type": "code",
      "metadata": {
        "id": "wvw1d109SNm7",
        "colab": {
          "base_uri": "https://localhost:8080/",
          "height": 1000
        },
        "outputId": "9982daac-8940-49a0-a26f-c29e5d3a8a91"
      },
      "source": [
        "# decision tree 그리기 \n",
        "from sklearn.tree import export_graphviz\n",
        "\n",
        "export_graphviz(\n",
        "    tree2, # 학습한 모형\n",
        "    out_file = 'tree2.dot', # .dot 파일 저장 위치\n",
        "    feature_names = list(df_under.columns[:-1]), # 사용한 변수 이름\n",
        "    class_names = ['입원함', '입원안함'], # 예측할 타겟 클래스 이름\n",
        ")\n",
        "import graphviz\n",
        "\n",
        "# 위에서 생성된 tree.dot 파일을 Graphviz 읽어서 Jupyter Notebook상에서 시각화 \n",
        "with open(\"tree2.dot\") as f:\n",
        "    dot_graph = f.read()\n",
        "graphviz.Source(dot_graph)"
      ],
      "execution_count": 69,
      "outputs": [
        {
          "output_type": "execute_result",
          "data": {
            "text/plain": [
              "<graphviz.files.Source at 0x7f1ebe282590>"
            ],
            "image/svg+xml": "<?xml version=\"1.0\" encoding=\"UTF-8\" standalone=\"no\"?>\n<!DOCTYPE svg PUBLIC \"-//W3C//DTD SVG 1.1//EN\"\n \"http://www.w3.org/Graphics/SVG/1.1/DTD/svg11.dtd\">\n<!-- Generated by graphviz version 2.40.1 (20161225.0304)\n -->\n<!-- Title: Tree Pages: 1 -->\n<svg width=\"8011pt\" height=\"790pt\"\n viewBox=\"0.00 0.00 8010.50 790.00\" xmlns=\"http://www.w3.org/2000/svg\" xmlns:xlink=\"http://www.w3.org/1999/xlink\">\n<g id=\"graph0\" class=\"graph\" transform=\"scale(1 1) rotate(0) translate(4 786)\">\n<title>Tree</title>\n<polygon fill=\"#ffffff\" stroke=\"transparent\" points=\"-4,4 -4,-786 8006.5,-786 8006.5,4 -4,4\"/>\n<!-- 0 -->\n<g id=\"node1\" class=\"node\">\n<title>0</title>\n<polygon fill=\"none\" stroke=\"#000000\" points=\"3429,-782 3259,-782 3259,-699 3429,-699 3429,-782\"/>\n<text text-anchor=\"middle\" x=\"3344\" y=\"-766.8\" font-family=\"Times,serif\" font-size=\"14.00\" fill=\"#000000\">심결가산율 &lt;= 1.5</text>\n<text text-anchor=\"middle\" x=\"3344\" y=\"-751.8\" font-family=\"Times,serif\" font-size=\"14.00\" fill=\"#000000\">gini = 0.5</text>\n<text text-anchor=\"middle\" x=\"3344\" y=\"-736.8\" font-family=\"Times,serif\" font-size=\"14.00\" fill=\"#000000\">samples = 425943</text>\n<text text-anchor=\"middle\" x=\"3344\" y=\"-721.8\" font-family=\"Times,serif\" font-size=\"14.00\" fill=\"#000000\">value = [212971, 212972]</text>\n<text text-anchor=\"middle\" x=\"3344\" y=\"-706.8\" font-family=\"Times,serif\" font-size=\"14.00\" fill=\"#000000\">class = 입원안함</text>\n</g>\n<!-- 1 -->\n<g id=\"node2\" class=\"node\">\n<title>1</title>\n<polygon fill=\"none\" stroke=\"#000000\" points=\"2434,-663 2272,-663 2272,-580 2434,-580 2434,-663\"/>\n<text text-anchor=\"middle\" x=\"2353\" y=\"-647.8\" font-family=\"Times,serif\" font-size=\"14.00\" fill=\"#000000\">부상병코드 &lt;= 13.5</text>\n<text text-anchor=\"middle\" x=\"2353\" y=\"-632.8\" font-family=\"Times,serif\" font-size=\"14.00\" fill=\"#000000\">gini = 0.179</text>\n<text text-anchor=\"middle\" x=\"2353\" y=\"-617.8\" font-family=\"Times,serif\" font-size=\"14.00\" fill=\"#000000\">samples = 181879</text>\n<text text-anchor=\"middle\" x=\"2353\" y=\"-602.8\" font-family=\"Times,serif\" font-size=\"14.00\" fill=\"#000000\">value = [163825, 18054]</text>\n<text text-anchor=\"middle\" x=\"2353\" y=\"-587.8\" font-family=\"Times,serif\" font-size=\"14.00\" fill=\"#000000\">class = 입원함</text>\n</g>\n<!-- 0&#45;&gt;1 -->\n<g id=\"edge1\" class=\"edge\">\n<title>0&#45;&gt;1</title>\n<path fill=\"none\" stroke=\"#000000\" d=\"M3258.6502,-730.2511C3073.2315,-707.9859 2635.0089,-655.3638 2444.3073,-632.4642\"/>\n<polygon fill=\"#000000\" stroke=\"#000000\" points=\"2444.6574,-628.9812 2434.3114,-631.2639 2443.8228,-635.9313 2444.6574,-628.9812\"/>\n<text text-anchor=\"middle\" x=\"2449.7554\" y=\"-647.2231\" font-family=\"Times,serif\" font-size=\"14.00\" fill=\"#000000\">True</text>\n</g>\n<!-- 54 -->\n<g id=\"node55\" class=\"node\">\n<title>54</title>\n<polygon fill=\"none\" stroke=\"#000000\" points=\"4627,-663 4465,-663 4465,-580 4627,-580 4627,-663\"/>\n<text text-anchor=\"middle\" x=\"4546\" y=\"-647.8\" font-family=\"Times,serif\" font-size=\"14.00\" fill=\"#000000\">연령대코드 &lt;= 75.0</text>\n<text text-anchor=\"middle\" x=\"4546\" y=\"-632.8\" font-family=\"Times,serif\" font-size=\"14.00\" fill=\"#000000\">gini = 0.322</text>\n<text text-anchor=\"middle\" x=\"4546\" y=\"-617.8\" font-family=\"Times,serif\" font-size=\"14.00\" fill=\"#000000\">samples = 244064</text>\n<text text-anchor=\"middle\" x=\"4546\" y=\"-602.8\" font-family=\"Times,serif\" font-size=\"14.00\" fill=\"#000000\">value = [49146, 194918]</text>\n<text text-anchor=\"middle\" x=\"4546\" y=\"-587.8\" font-family=\"Times,serif\" font-size=\"14.00\" fill=\"#000000\">class = 입원안함</text>\n</g>\n<!-- 0&#45;&gt;54 -->\n<g id=\"edge54\" class=\"edge\">\n<title>0&#45;&gt;54</title>\n<path fill=\"none\" stroke=\"#000000\" d=\"M3429.0012,-732.0847C3647.8132,-710.422 4229.0844,-652.8752 4454.6911,-630.5397\"/>\n<polygon fill=\"#000000\" stroke=\"#000000\" points=\"4455.2322,-634.0034 4464.8387,-629.5351 4454.5425,-627.0374 4455.2322,-634.0034\"/>\n<text text-anchor=\"middle\" x=\"4448.9886\" y=\"-645.1684\" font-family=\"Times,serif\" font-size=\"14.00\" fill=\"#000000\">False</text>\n</g>\n<!-- 2 -->\n<g id=\"node3\" class=\"node\">\n<title>2</title>\n<polygon fill=\"none\" stroke=\"#000000\" points=\"1452,-544 1290,-544 1290,-461 1452,-461 1452,-544\"/>\n<text text-anchor=\"middle\" x=\"1371\" y=\"-528.8\" font-family=\"Times,serif\" font-size=\"14.00\" fill=\"#000000\">주상병코드 &lt;= 7.5</text>\n<text text-anchor=\"middle\" x=\"1371\" y=\"-513.8\" font-family=\"Times,serif\" font-size=\"14.00\" fill=\"#000000\">gini = 0.143</text>\n<text text-anchor=\"middle\" x=\"1371\" y=\"-498.8\" font-family=\"Times,serif\" font-size=\"14.00\" fill=\"#000000\">samples = 164672</text>\n<text text-anchor=\"middle\" x=\"1371\" y=\"-483.8\" font-family=\"Times,serif\" font-size=\"14.00\" fill=\"#000000\">value = [151927, 12745]</text>\n<text text-anchor=\"middle\" x=\"1371\" y=\"-468.8\" font-family=\"Times,serif\" font-size=\"14.00\" fill=\"#000000\">class = 입원함</text>\n</g>\n<!-- 1&#45;&gt;2 -->\n<g id=\"edge2\" class=\"edge\">\n<title>1&#45;&gt;2</title>\n<path fill=\"none\" stroke=\"#000000\" d=\"M2271.8034,-611.6605C2090.3231,-589.6685 1652.8469,-536.6546 1462.2807,-513.5615\"/>\n<polygon fill=\"#000000\" stroke=\"#000000\" points=\"1462.64,-510.0795 1452.2915,-512.351 1461.7978,-517.0287 1462.64,-510.0795\"/>\n</g>\n<!-- 29 -->\n<g id=\"node30\" class=\"node\">\n<title>29</title>\n<polygon fill=\"none\" stroke=\"#000000\" points=\"2426,-544 2280,-544 2280,-461 2426,-461 2426,-544\"/>\n<text text-anchor=\"middle\" x=\"2353\" y=\"-528.8\" font-family=\"Times,serif\" font-size=\"14.00\" fill=\"#000000\">부상병코드 &lt;= 15.5</text>\n<text text-anchor=\"middle\" x=\"2353\" y=\"-513.8\" font-family=\"Times,serif\" font-size=\"14.00\" fill=\"#000000\">gini = 0.427</text>\n<text text-anchor=\"middle\" x=\"2353\" y=\"-498.8\" font-family=\"Times,serif\" font-size=\"14.00\" fill=\"#000000\">samples = 17207</text>\n<text text-anchor=\"middle\" x=\"2353\" y=\"-483.8\" font-family=\"Times,serif\" font-size=\"14.00\" fill=\"#000000\">value = [11898, 5309]</text>\n<text text-anchor=\"middle\" x=\"2353\" y=\"-468.8\" font-family=\"Times,serif\" font-size=\"14.00\" fill=\"#000000\">class = 입원함</text>\n</g>\n<!-- 1&#45;&gt;29 -->\n<g id=\"edge29\" class=\"edge\">\n<title>1&#45;&gt;29</title>\n<path fill=\"none\" stroke=\"#000000\" d=\"M2353,-579.8796C2353,-571.6838 2353,-562.9891 2353,-554.5013\"/>\n<polygon fill=\"#000000\" stroke=\"#000000\" points=\"2356.5001,-554.298 2353,-544.2981 2349.5001,-554.2981 2356.5001,-554.298\"/>\n</g>\n<!-- 3 -->\n<g id=\"node4\" class=\"node\">\n<title>3</title>\n<polygon fill=\"none\" stroke=\"#000000\" points=\"676.5,-425 529.5,-425 529.5,-342 676.5,-342 676.5,-425\"/>\n<text text-anchor=\"middle\" x=\"603\" y=\"-409.8\" font-family=\"Times,serif\" font-size=\"14.00\" fill=\"#000000\">진료과목코드 &lt;= 1.5</text>\n<text text-anchor=\"middle\" x=\"603\" y=\"-394.8\" font-family=\"Times,serif\" font-size=\"14.00\" fill=\"#000000\">gini = 0.234</text>\n<text text-anchor=\"middle\" x=\"603\" y=\"-379.8\" font-family=\"Times,serif\" font-size=\"14.00\" fill=\"#000000\">samples = 39660</text>\n<text text-anchor=\"middle\" x=\"603\" y=\"-364.8\" font-family=\"Times,serif\" font-size=\"14.00\" fill=\"#000000\">value = [34290, 5370]</text>\n<text text-anchor=\"middle\" x=\"603\" y=\"-349.8\" font-family=\"Times,serif\" font-size=\"14.00\" fill=\"#000000\">class = 입원함</text>\n</g>\n<!-- 2&#45;&gt;3 -->\n<g id=\"edge3\" class=\"edge\">\n<title>2&#45;&gt;3</title>\n<path fill=\"none\" stroke=\"#000000\" d=\"M1289.9002,-489.9338C1143.1834,-467.2003 835.1558,-419.4721 686.6163,-396.4562\"/>\n<polygon fill=\"#000000\" stroke=\"#000000\" points=\"687.0518,-392.982 676.6338,-394.9094 685.9799,-399.8994 687.0518,-392.982\"/>\n</g>\n<!-- 16 -->\n<g id=\"node17\" class=\"node\">\n<title>16</title>\n<polygon fill=\"none\" stroke=\"#000000\" points=\"1448,-425 1294,-425 1294,-342 1448,-342 1448,-425\"/>\n<text text-anchor=\"middle\" x=\"1371\" y=\"-409.8\" font-family=\"Times,serif\" font-size=\"14.00\" fill=\"#000000\">주상병코드 &lt;= 13.5</text>\n<text text-anchor=\"middle\" x=\"1371\" y=\"-394.8\" font-family=\"Times,serif\" font-size=\"14.00\" fill=\"#000000\">gini = 0.111</text>\n<text text-anchor=\"middle\" x=\"1371\" y=\"-379.8\" font-family=\"Times,serif\" font-size=\"14.00\" fill=\"#000000\">samples = 125012</text>\n<text text-anchor=\"middle\" x=\"1371\" y=\"-364.8\" font-family=\"Times,serif\" font-size=\"14.00\" fill=\"#000000\">value = [117637, 7375]</text>\n<text text-anchor=\"middle\" x=\"1371\" y=\"-349.8\" font-family=\"Times,serif\" font-size=\"14.00\" fill=\"#000000\">class = 입원함</text>\n</g>\n<!-- 2&#45;&gt;16 -->\n<g id=\"edge16\" class=\"edge\">\n<title>2&#45;&gt;16</title>\n<path fill=\"none\" stroke=\"#000000\" d=\"M1371,-460.8796C1371,-452.6838 1371,-443.9891 1371,-435.5013\"/>\n<polygon fill=\"#000000\" stroke=\"#000000\" points=\"1374.5001,-435.298 1371,-425.2981 1367.5001,-435.2981 1374.5001,-435.298\"/>\n</g>\n<!-- 4 -->\n<g id=\"node5\" class=\"node\">\n<title>4</title>\n<polygon fill=\"none\" stroke=\"#000000\" points=\"286,-306 146,-306 146,-223 286,-223 286,-306\"/>\n<text text-anchor=\"middle\" x=\"216\" y=\"-290.8\" font-family=\"Times,serif\" font-size=\"14.00\" fill=\"#000000\">진료과목코드 &lt;= 0.5</text>\n<text text-anchor=\"middle\" x=\"216\" y=\"-275.8\" font-family=\"Times,serif\" font-size=\"14.00\" fill=\"#000000\">gini = 0.094</text>\n<text text-anchor=\"middle\" x=\"216\" y=\"-260.8\" font-family=\"Times,serif\" font-size=\"14.00\" fill=\"#000000\">samples = 10307</text>\n<text text-anchor=\"middle\" x=\"216\" y=\"-245.8\" font-family=\"Times,serif\" font-size=\"14.00\" fill=\"#000000\">value = [9795, 512]</text>\n<text text-anchor=\"middle\" x=\"216\" y=\"-230.8\" font-family=\"Times,serif\" font-size=\"14.00\" fill=\"#000000\">class = 입원함</text>\n</g>\n<!-- 3&#45;&gt;4 -->\n<g id=\"edge4\" class=\"edge\">\n<title>3&#45;&gt;4</title>\n<path fill=\"none\" stroke=\"#000000\" d=\"M529.2973,-360.8369C462.6181,-340.3335 364.6491,-310.2086 296.0669,-289.12\"/>\n<polygon fill=\"#000000\" stroke=\"#000000\" points=\"296.7557,-285.6702 286.1686,-286.0764 294.6983,-292.361 296.7557,-285.6702\"/>\n</g>\n<!-- 9 -->\n<g id=\"node10\" class=\"node\">\n<title>9</title>\n<polygon fill=\"none\" stroke=\"#000000\" points=\"677,-306 529,-306 529,-223 677,-223 677,-306\"/>\n<text text-anchor=\"middle\" x=\"603\" y=\"-290.8\" font-family=\"Times,serif\" font-size=\"14.00\" fill=\"#000000\">진료과목코드 &lt;= 12.5</text>\n<text text-anchor=\"middle\" x=\"603\" y=\"-275.8\" font-family=\"Times,serif\" font-size=\"14.00\" fill=\"#000000\">gini = 0.276</text>\n<text text-anchor=\"middle\" x=\"603\" y=\"-260.8\" font-family=\"Times,serif\" font-size=\"14.00\" fill=\"#000000\">samples = 29353</text>\n<text text-anchor=\"middle\" x=\"603\" y=\"-245.8\" font-family=\"Times,serif\" font-size=\"14.00\" fill=\"#000000\">value = [24495, 4858]</text>\n<text text-anchor=\"middle\" x=\"603\" y=\"-230.8\" font-family=\"Times,serif\" font-size=\"14.00\" fill=\"#000000\">class = 입원함</text>\n</g>\n<!-- 3&#45;&gt;9 -->\n<g id=\"edge9\" class=\"edge\">\n<title>3&#45;&gt;9</title>\n<path fill=\"none\" stroke=\"#000000\" d=\"M603,-341.8796C603,-333.6838 603,-324.9891 603,-316.5013\"/>\n<polygon fill=\"#000000\" stroke=\"#000000\" points=\"606.5001,-316.298 603,-306.2981 599.5001,-316.2981 606.5001,-316.298\"/>\n</g>\n<!-- 5 -->\n<g id=\"node6\" class=\"node\">\n<title>5</title>\n<polygon fill=\"none\" stroke=\"#000000\" points=\"131.5,-179.5 14.5,-179.5 14.5,-111.5 131.5,-111.5 131.5,-179.5\"/>\n<text text-anchor=\"middle\" x=\"73\" y=\"-164.3\" font-family=\"Times,serif\" font-size=\"14.00\" fill=\"#000000\">gini = 0.413</text>\n<text text-anchor=\"middle\" x=\"73\" y=\"-149.3\" font-family=\"Times,serif\" font-size=\"14.00\" fill=\"#000000\">samples = 254</text>\n<text text-anchor=\"middle\" x=\"73\" y=\"-134.3\" font-family=\"Times,serif\" font-size=\"14.00\" fill=\"#000000\">value = [180, 74]</text>\n<text text-anchor=\"middle\" x=\"73\" y=\"-119.3\" font-family=\"Times,serif\" font-size=\"14.00\" fill=\"#000000\">class = 입원함</text>\n</g>\n<!-- 4&#45;&gt;5 -->\n<g id=\"edge5\" class=\"edge\">\n<title>4&#45;&gt;5</title>\n<path fill=\"none\" stroke=\"#000000\" d=\"M165.9855,-222.8796C151.7147,-211.0038 136.1849,-198.0804 121.9767,-186.2568\"/>\n<polygon fill=\"#000000\" stroke=\"#000000\" points=\"124.161,-183.5212 114.2356,-179.8149 119.6834,-188.9019 124.161,-183.5212\"/>\n</g>\n<!-- 6 -->\n<g id=\"node7\" class=\"node\">\n<title>6</title>\n<polygon fill=\"none\" stroke=\"#000000\" points=\"282,-187 150,-187 150,-104 282,-104 282,-187\"/>\n<text text-anchor=\"middle\" x=\"216\" y=\"-171.8\" font-family=\"Times,serif\" font-size=\"14.00\" fill=\"#000000\">주상병코드 &lt;= 3.5</text>\n<text text-anchor=\"middle\" x=\"216\" y=\"-156.8\" font-family=\"Times,serif\" font-size=\"14.00\" fill=\"#000000\">gini = 0.083</text>\n<text text-anchor=\"middle\" x=\"216\" y=\"-141.8\" font-family=\"Times,serif\" font-size=\"14.00\" fill=\"#000000\">samples = 10053</text>\n<text text-anchor=\"middle\" x=\"216\" y=\"-126.8\" font-family=\"Times,serif\" font-size=\"14.00\" fill=\"#000000\">value = [9615, 438]</text>\n<text text-anchor=\"middle\" x=\"216\" y=\"-111.8\" font-family=\"Times,serif\" font-size=\"14.00\" fill=\"#000000\">class = 입원함</text>\n</g>\n<!-- 4&#45;&gt;6 -->\n<g id=\"edge6\" class=\"edge\">\n<title>4&#45;&gt;6</title>\n<path fill=\"none\" stroke=\"#000000\" d=\"M216,-222.8796C216,-214.6838 216,-205.9891 216,-197.5013\"/>\n<polygon fill=\"#000000\" stroke=\"#000000\" points=\"219.5001,-197.298 216,-187.2981 212.5001,-197.2981 219.5001,-197.298\"/>\n</g>\n<!-- 7 -->\n<g id=\"node8\" class=\"node\">\n<title>7</title>\n<polygon fill=\"none\" stroke=\"#000000\" points=\"132,-68 0,-68 0,0 132,0 132,-68\"/>\n<text text-anchor=\"middle\" x=\"66\" y=\"-52.8\" font-family=\"Times,serif\" font-size=\"14.00\" fill=\"#000000\">gini = 0.193</text>\n<text text-anchor=\"middle\" x=\"66\" y=\"-37.8\" font-family=\"Times,serif\" font-size=\"14.00\" fill=\"#000000\">samples = 3114</text>\n<text text-anchor=\"middle\" x=\"66\" y=\"-22.8\" font-family=\"Times,serif\" font-size=\"14.00\" fill=\"#000000\">value = [2778, 336]</text>\n<text text-anchor=\"middle\" x=\"66\" y=\"-7.8\" font-family=\"Times,serif\" font-size=\"14.00\" fill=\"#000000\">class = 입원함</text>\n</g>\n<!-- 6&#45;&gt;7 -->\n<g id=\"edge7\" class=\"edge\">\n<title>6&#45;&gt;7</title>\n<path fill=\"none\" stroke=\"#000000\" d=\"M160.1455,-103.9815C147.1632,-94.3313 133.3606,-84.0714 120.4403,-74.4673\"/>\n<polygon fill=\"#000000\" stroke=\"#000000\" points=\"122.2083,-71.4204 112.0946,-68.2637 118.0322,-77.0384 122.2083,-71.4204\"/>\n</g>\n<!-- 8 -->\n<g id=\"node9\" class=\"node\">\n<title>8</title>\n<polygon fill=\"none\" stroke=\"#000000\" points=\"282,-68 150,-68 150,0 282,0 282,-68\"/>\n<text text-anchor=\"middle\" x=\"216\" y=\"-52.8\" font-family=\"Times,serif\" font-size=\"14.00\" fill=\"#000000\">gini = 0.029</text>\n<text text-anchor=\"middle\" x=\"216\" y=\"-37.8\" font-family=\"Times,serif\" font-size=\"14.00\" fill=\"#000000\">samples = 6939</text>\n<text text-anchor=\"middle\" x=\"216\" y=\"-22.8\" font-family=\"Times,serif\" font-size=\"14.00\" fill=\"#000000\">value = [6837, 102]</text>\n<text text-anchor=\"middle\" x=\"216\" y=\"-7.8\" font-family=\"Times,serif\" font-size=\"14.00\" fill=\"#000000\">class = 입원함</text>\n</g>\n<!-- 6&#45;&gt;8 -->\n<g id=\"edge8\" class=\"edge\">\n<title>6&#45;&gt;8</title>\n<path fill=\"none\" stroke=\"#000000\" d=\"M216,-103.9815C216,-95.618 216,-86.7965 216,-78.3409\"/>\n<polygon fill=\"#000000\" stroke=\"#000000\" points=\"219.5001,-78.2636 216,-68.2637 212.5001,-78.2637 219.5001,-78.2636\"/>\n</g>\n<!-- 10 -->\n<g id=\"node11\" class=\"node\">\n<title>10</title>\n<polygon fill=\"none\" stroke=\"#000000\" points=\"597.5,-187 450.5,-187 450.5,-104 597.5,-104 597.5,-187\"/>\n<text text-anchor=\"middle\" x=\"524\" y=\"-171.8\" font-family=\"Times,serif\" font-size=\"14.00\" fill=\"#000000\">연령대코드 &lt;= 15.0</text>\n<text text-anchor=\"middle\" x=\"524\" y=\"-156.8\" font-family=\"Times,serif\" font-size=\"14.00\" fill=\"#000000\">gini = 0.31</text>\n<text text-anchor=\"middle\" x=\"524\" y=\"-141.8\" font-family=\"Times,serif\" font-size=\"14.00\" fill=\"#000000\">samples = 23771</text>\n<text text-anchor=\"middle\" x=\"524\" y=\"-126.8\" font-family=\"Times,serif\" font-size=\"14.00\" fill=\"#000000\">value = [19208, 4563]</text>\n<text text-anchor=\"middle\" x=\"524\" y=\"-111.8\" font-family=\"Times,serif\" font-size=\"14.00\" fill=\"#000000\">class = 입원함</text>\n</g>\n<!-- 9&#45;&gt;10 -->\n<g id=\"edge10\" class=\"edge\">\n<title>9&#45;&gt;10</title>\n<path fill=\"none\" stroke=\"#000000\" d=\"M575.3696,-222.8796C569.57,-214.1434 563.3941,-204.8404 557.4092,-195.8253\"/>\n<polygon fill=\"#000000\" stroke=\"#000000\" points=\"560.1951,-193.6935 551.7483,-187.2981 554.3632,-197.5652 560.1951,-193.6935\"/>\n</g>\n<!-- 13 -->\n<g id=\"node14\" class=\"node\">\n<title>13</title>\n<polygon fill=\"none\" stroke=\"#000000\" points=\"748,-187 616,-187 616,-104 748,-104 748,-187\"/>\n<text text-anchor=\"middle\" x=\"682\" y=\"-171.8\" font-family=\"Times,serif\" font-size=\"14.00\" fill=\"#000000\">시도코드 &lt;= 48.5</text>\n<text text-anchor=\"middle\" x=\"682\" y=\"-156.8\" font-family=\"Times,serif\" font-size=\"14.00\" fill=\"#000000\">gini = 0.1</text>\n<text text-anchor=\"middle\" x=\"682\" y=\"-141.8\" font-family=\"Times,serif\" font-size=\"14.00\" fill=\"#000000\">samples = 5582</text>\n<text text-anchor=\"middle\" x=\"682\" y=\"-126.8\" font-family=\"Times,serif\" font-size=\"14.00\" fill=\"#000000\">value = [5287, 295]</text>\n<text text-anchor=\"middle\" x=\"682\" y=\"-111.8\" font-family=\"Times,serif\" font-size=\"14.00\" fill=\"#000000\">class = 입원함</text>\n</g>\n<!-- 9&#45;&gt;13 -->\n<g id=\"edge13\" class=\"edge\">\n<title>9&#45;&gt;13</title>\n<path fill=\"none\" stroke=\"#000000\" d=\"M630.6304,-222.8796C636.43,-214.1434 642.6059,-204.8404 648.5908,-195.8253\"/>\n<polygon fill=\"#000000\" stroke=\"#000000\" points=\"651.6368,-197.5652 654.2517,-187.2981 645.8049,-193.6935 651.6368,-197.5652\"/>\n</g>\n<!-- 11 -->\n<g id=\"node12\" class=\"node\">\n<title>11</title>\n<polygon fill=\"none\" stroke=\"#000000\" points=\"432,-68 300,-68 300,0 432,0 432,-68\"/>\n<text text-anchor=\"middle\" x=\"366\" y=\"-52.8\" font-family=\"Times,serif\" font-size=\"14.00\" fill=\"#000000\">gini = 0.129</text>\n<text text-anchor=\"middle\" x=\"366\" y=\"-37.8\" font-family=\"Times,serif\" font-size=\"14.00\" fill=\"#000000\">samples = 3259</text>\n<text text-anchor=\"middle\" x=\"366\" y=\"-22.8\" font-family=\"Times,serif\" font-size=\"14.00\" fill=\"#000000\">value = [3033, 226]</text>\n<text text-anchor=\"middle\" x=\"366\" y=\"-7.8\" font-family=\"Times,serif\" font-size=\"14.00\" fill=\"#000000\">class = 입원함</text>\n</g>\n<!-- 10&#45;&gt;11 -->\n<g id=\"edge11\" class=\"edge\">\n<title>10&#45;&gt;11</title>\n<path fill=\"none\" stroke=\"#000000\" d=\"M465.1666,-103.9815C451.289,-94.1881 436.5216,-83.7668 422.7386,-74.0402\"/>\n<polygon fill=\"#000000\" stroke=\"#000000\" points=\"424.4892,-70.9918 414.3007,-68.0856 420.4531,-76.7111 424.4892,-70.9918\"/>\n</g>\n<!-- 12 -->\n<g id=\"node13\" class=\"node\">\n<title>12</title>\n<polygon fill=\"none\" stroke=\"#000000\" points=\"597.5,-68 450.5,-68 450.5,0 597.5,0 597.5,-68\"/>\n<text text-anchor=\"middle\" x=\"524\" y=\"-52.8\" font-family=\"Times,serif\" font-size=\"14.00\" fill=\"#000000\">gini = 0.333</text>\n<text text-anchor=\"middle\" x=\"524\" y=\"-37.8\" font-family=\"Times,serif\" font-size=\"14.00\" fill=\"#000000\">samples = 20512</text>\n<text text-anchor=\"middle\" x=\"524\" y=\"-22.8\" font-family=\"Times,serif\" font-size=\"14.00\" fill=\"#000000\">value = [16175, 4337]</text>\n<text text-anchor=\"middle\" x=\"524\" y=\"-7.8\" font-family=\"Times,serif\" font-size=\"14.00\" fill=\"#000000\">class = 입원함</text>\n</g>\n<!-- 10&#45;&gt;12 -->\n<g id=\"edge12\" class=\"edge\">\n<title>10&#45;&gt;12</title>\n<path fill=\"none\" stroke=\"#000000\" d=\"M524,-103.9815C524,-95.618 524,-86.7965 524,-78.3409\"/>\n<polygon fill=\"#000000\" stroke=\"#000000\" points=\"527.5001,-78.2636 524,-68.2637 520.5001,-78.2637 527.5001,-78.2636\"/>\n</g>\n<!-- 14 -->\n<g id=\"node15\" class=\"node\">\n<title>14</title>\n<polygon fill=\"none\" stroke=\"#000000\" points=\"748,-68 616,-68 616,0 748,0 748,-68\"/>\n<text text-anchor=\"middle\" x=\"682\" y=\"-52.8\" font-family=\"Times,serif\" font-size=\"14.00\" fill=\"#000000\">gini = 0.065</text>\n<text text-anchor=\"middle\" x=\"682\" y=\"-37.8\" font-family=\"Times,serif\" font-size=\"14.00\" fill=\"#000000\">samples = 5363</text>\n<text text-anchor=\"middle\" x=\"682\" y=\"-22.8\" font-family=\"Times,serif\" font-size=\"14.00\" fill=\"#000000\">value = [5183, 180]</text>\n<text text-anchor=\"middle\" x=\"682\" y=\"-7.8\" font-family=\"Times,serif\" font-size=\"14.00\" fill=\"#000000\">class = 입원함</text>\n</g>\n<!-- 13&#45;&gt;14 -->\n<g id=\"edge14\" class=\"edge\">\n<title>13&#45;&gt;14</title>\n<path fill=\"none\" stroke=\"#000000\" d=\"M682,-103.9815C682,-95.618 682,-86.7965 682,-78.3409\"/>\n<polygon fill=\"#000000\" stroke=\"#000000\" points=\"685.5001,-78.2636 682,-68.2637 678.5001,-78.2637 685.5001,-78.2636\"/>\n</g>\n<!-- 15 -->\n<g id=\"node16\" class=\"node\">\n<title>15</title>\n<polygon fill=\"none\" stroke=\"#000000\" points=\"890,-68 766,-68 766,0 890,0 890,-68\"/>\n<text text-anchor=\"middle\" x=\"828\" y=\"-52.8\" font-family=\"Times,serif\" font-size=\"14.00\" fill=\"#000000\">gini = 0.499</text>\n<text text-anchor=\"middle\" x=\"828\" y=\"-37.8\" font-family=\"Times,serif\" font-size=\"14.00\" fill=\"#000000\">samples = 219</text>\n<text text-anchor=\"middle\" x=\"828\" y=\"-22.8\" font-family=\"Times,serif\" font-size=\"14.00\" fill=\"#000000\">value = [104, 115]</text>\n<text text-anchor=\"middle\" x=\"828\" y=\"-7.8\" font-family=\"Times,serif\" font-size=\"14.00\" fill=\"#000000\">class = 입원안함</text>\n</g>\n<!-- 13&#45;&gt;15 -->\n<g id=\"edge15\" class=\"edge\">\n<title>13&#45;&gt;15</title>\n<path fill=\"none\" stroke=\"#000000\" d=\"M736.365,-103.9815C749.0011,-94.3313 762.4356,-84.0714 775.0115,-74.4673\"/>\n<polygon fill=\"#000000\" stroke=\"#000000\" points=\"777.3114,-77.1148 783.1346,-68.2637 773.0628,-71.5515 777.3114,-77.1148\"/>\n</g>\n<!-- 17 -->\n<g id=\"node18\" class=\"node\">\n<title>17</title>\n<polygon fill=\"none\" stroke=\"#000000\" points=\"1365.5,-306 1210.5,-306 1210.5,-223 1365.5,-223 1365.5,-306\"/>\n<text text-anchor=\"middle\" x=\"1288\" y=\"-290.8\" font-family=\"Times,serif\" font-size=\"14.00\" fill=\"#000000\">진료과목코드 &lt;= 1.5</text>\n<text text-anchor=\"middle\" x=\"1288\" y=\"-275.8\" font-family=\"Times,serif\" font-size=\"14.00\" fill=\"#000000\">gini = 0.097</text>\n<text text-anchor=\"middle\" x=\"1288\" y=\"-260.8\" font-family=\"Times,serif\" font-size=\"14.00\" fill=\"#000000\">samples = 114781</text>\n<text text-anchor=\"middle\" x=\"1288\" y=\"-245.8\" font-family=\"Times,serif\" font-size=\"14.00\" fill=\"#000000\">value = [108930, 5851]</text>\n<text text-anchor=\"middle\" x=\"1288\" y=\"-230.8\" font-family=\"Times,serif\" font-size=\"14.00\" fill=\"#000000\">class = 입원함</text>\n</g>\n<!-- 16&#45;&gt;17 -->\n<g id=\"edge17\" class=\"edge\">\n<title>16&#45;&gt;17</title>\n<path fill=\"none\" stroke=\"#000000\" d=\"M1341.9706,-341.8796C1335.8145,-333.0534 1329.2549,-323.6485 1322.9064,-314.5466\"/>\n<polygon fill=\"#000000\" stroke=\"#000000\" points=\"1325.7448,-312.4978 1317.1533,-306.2981 1320.0033,-316.5024 1325.7448,-312.4978\"/>\n</g>\n<!-- 24 -->\n<g id=\"node25\" class=\"node\">\n<title>24</title>\n<polygon fill=\"none\" stroke=\"#000000\" points=\"1524,-306 1384,-306 1384,-223 1524,-223 1524,-306\"/>\n<text text-anchor=\"middle\" x=\"1454\" y=\"-290.8\" font-family=\"Times,serif\" font-size=\"14.00\" fill=\"#000000\">주상병코드 &lt;= 16.5</text>\n<text text-anchor=\"middle\" x=\"1454\" y=\"-275.8\" font-family=\"Times,serif\" font-size=\"14.00\" fill=\"#000000\">gini = 0.254</text>\n<text text-anchor=\"middle\" x=\"1454\" y=\"-260.8\" font-family=\"Times,serif\" font-size=\"14.00\" fill=\"#000000\">samples = 10231</text>\n<text text-anchor=\"middle\" x=\"1454\" y=\"-245.8\" font-family=\"Times,serif\" font-size=\"14.00\" fill=\"#000000\">value = [8707, 1524]</text>\n<text text-anchor=\"middle\" x=\"1454\" y=\"-230.8\" font-family=\"Times,serif\" font-size=\"14.00\" fill=\"#000000\">class = 입원함</text>\n</g>\n<!-- 16&#45;&gt;24 -->\n<g id=\"edge24\" class=\"edge\">\n<title>16&#45;&gt;24</title>\n<path fill=\"none\" stroke=\"#000000\" d=\"M1400.0294,-341.8796C1406.1855,-333.0534 1412.7451,-323.6485 1419.0936,-314.5466\"/>\n<polygon fill=\"#000000\" stroke=\"#000000\" points=\"1421.9967,-316.5024 1424.8467,-306.2981 1416.2552,-312.4978 1421.9967,-316.5024\"/>\n</g>\n<!-- 18 -->\n<g id=\"node19\" class=\"node\">\n<title>18</title>\n<polygon fill=\"none\" stroke=\"#000000\" points=\"1202,-187 1056,-187 1056,-104 1202,-104 1202,-187\"/>\n<text text-anchor=\"middle\" x=\"1129\" y=\"-171.8\" font-family=\"Times,serif\" font-size=\"14.00\" fill=\"#000000\">시도코드 &lt;= 44.5</text>\n<text text-anchor=\"middle\" x=\"1129\" y=\"-156.8\" font-family=\"Times,serif\" font-size=\"14.00\" fill=\"#000000\">gini = 0.05</text>\n<text text-anchor=\"middle\" x=\"1129\" y=\"-141.8\" font-family=\"Times,serif\" font-size=\"14.00\" fill=\"#000000\">samples = 43015</text>\n<text text-anchor=\"middle\" x=\"1129\" y=\"-126.8\" font-family=\"Times,serif\" font-size=\"14.00\" fill=\"#000000\">value = [41914, 1101]</text>\n<text text-anchor=\"middle\" x=\"1129\" y=\"-111.8\" font-family=\"Times,serif\" font-size=\"14.00\" fill=\"#000000\">class = 입원함</text>\n</g>\n<!-- 17&#45;&gt;18 -->\n<g id=\"edge18\" class=\"edge\">\n<title>17&#45;&gt;18</title>\n<path fill=\"none\" stroke=\"#000000\" d=\"M1232.3895,-222.8796C1219.5597,-213.2774 1205.8148,-202.9903 1192.6714,-193.1534\"/>\n<polygon fill=\"#000000\" stroke=\"#000000\" points=\"1194.6823,-190.2868 1184.5791,-187.0969 1190.4879,-195.891 1194.6823,-190.2868\"/>\n</g>\n<!-- 21 -->\n<g id=\"node22\" class=\"node\">\n<title>21</title>\n<polygon fill=\"none\" stroke=\"#000000\" points=\"1367.5,-187 1220.5,-187 1220.5,-104 1367.5,-104 1367.5,-187\"/>\n<text text-anchor=\"middle\" x=\"1294\" y=\"-171.8\" font-family=\"Times,serif\" font-size=\"14.00\" fill=\"#000000\">진료과목코드 &lt;= 4.5</text>\n<text text-anchor=\"middle\" x=\"1294\" y=\"-156.8\" font-family=\"Times,serif\" font-size=\"14.00\" fill=\"#000000\">gini = 0.124</text>\n<text text-anchor=\"middle\" x=\"1294\" y=\"-141.8\" font-family=\"Times,serif\" font-size=\"14.00\" fill=\"#000000\">samples = 71766</text>\n<text text-anchor=\"middle\" x=\"1294\" y=\"-126.8\" font-family=\"Times,serif\" font-size=\"14.00\" fill=\"#000000\">value = [67016, 4750]</text>\n<text text-anchor=\"middle\" x=\"1294\" y=\"-111.8\" font-family=\"Times,serif\" font-size=\"14.00\" fill=\"#000000\">class = 입원함</text>\n</g>\n<!-- 17&#45;&gt;21 -->\n<g id=\"edge21\" class=\"edge\">\n<title>17&#45;&gt;21</title>\n<path fill=\"none\" stroke=\"#000000\" d=\"M1290.0985,-222.8796C1290.5117,-214.6838 1290.9501,-205.9891 1291.3781,-197.5013\"/>\n<polygon fill=\"#000000\" stroke=\"#000000\" points=\"1294.8844,-197.4617 1291.8925,-187.2981 1287.8933,-197.1091 1294.8844,-197.4617\"/>\n</g>\n<!-- 19 -->\n<g id=\"node20\" class=\"node\">\n<title>19</title>\n<polygon fill=\"none\" stroke=\"#000000\" points=\"1048,-68 908,-68 908,0 1048,0 1048,-68\"/>\n<text text-anchor=\"middle\" x=\"978\" y=\"-52.8\" font-family=\"Times,serif\" font-size=\"14.00\" fill=\"#000000\">gini = 0.039</text>\n<text text-anchor=\"middle\" x=\"978\" y=\"-37.8\" font-family=\"Times,serif\" font-size=\"14.00\" fill=\"#000000\">samples = 34191</text>\n<text text-anchor=\"middle\" x=\"978\" y=\"-22.8\" font-family=\"Times,serif\" font-size=\"14.00\" fill=\"#000000\">value = [33509, 682]</text>\n<text text-anchor=\"middle\" x=\"978\" y=\"-7.8\" font-family=\"Times,serif\" font-size=\"14.00\" fill=\"#000000\">class = 입원함</text>\n</g>\n<!-- 18&#45;&gt;19 -->\n<g id=\"edge19\" class=\"edge\">\n<title>18&#45;&gt;19</title>\n<path fill=\"none\" stroke=\"#000000\" d=\"M1072.7732,-103.9815C1059.7043,-94.3313 1045.8097,-84.0714 1032.8032,-74.4673\"/>\n<polygon fill=\"#000000\" stroke=\"#000000\" points=\"1034.5255,-71.3883 1024.4019,-68.2637 1030.3674,-77.0195 1034.5255,-71.3883\"/>\n</g>\n<!-- 20 -->\n<g id=\"node21\" class=\"node\">\n<title>20</title>\n<polygon fill=\"none\" stroke=\"#000000\" points=\"1198,-68 1066,-68 1066,0 1198,0 1198,-68\"/>\n<text text-anchor=\"middle\" x=\"1132\" y=\"-52.8\" font-family=\"Times,serif\" font-size=\"14.00\" fill=\"#000000\">gini = 0.09</text>\n<text text-anchor=\"middle\" x=\"1132\" y=\"-37.8\" font-family=\"Times,serif\" font-size=\"14.00\" fill=\"#000000\">samples = 8824</text>\n<text text-anchor=\"middle\" x=\"1132\" y=\"-22.8\" font-family=\"Times,serif\" font-size=\"14.00\" fill=\"#000000\">value = [8405, 419]</text>\n<text text-anchor=\"middle\" x=\"1132\" y=\"-7.8\" font-family=\"Times,serif\" font-size=\"14.00\" fill=\"#000000\">class = 입원함</text>\n</g>\n<!-- 18&#45;&gt;20 -->\n<g id=\"edge20\" class=\"edge\">\n<title>18&#45;&gt;20</title>\n<path fill=\"none\" stroke=\"#000000\" d=\"M1130.1171,-103.9815C1130.3421,-95.618 1130.5795,-86.7965 1130.807,-78.3409\"/>\n<polygon fill=\"#000000\" stroke=\"#000000\" points=\"1134.3078,-78.3542 1131.0781,-68.2637 1127.3103,-78.1659 1134.3078,-78.3542\"/>\n</g>\n<!-- 22 -->\n<g id=\"node23\" class=\"node\">\n<title>22</title>\n<polygon fill=\"none\" stroke=\"#000000\" points=\"1348,-68 1216,-68 1216,0 1348,0 1348,-68\"/>\n<text text-anchor=\"middle\" x=\"1282\" y=\"-52.8\" font-family=\"Times,serif\" font-size=\"14.00\" fill=\"#000000\">gini = 0.363</text>\n<text text-anchor=\"middle\" x=\"1282\" y=\"-37.8\" font-family=\"Times,serif\" font-size=\"14.00\" fill=\"#000000\">samples = 3338</text>\n<text text-anchor=\"middle\" x=\"1282\" y=\"-22.8\" font-family=\"Times,serif\" font-size=\"14.00\" fill=\"#000000\">value = [2542, 796]</text>\n<text text-anchor=\"middle\" x=\"1282\" y=\"-7.8\" font-family=\"Times,serif\" font-size=\"14.00\" fill=\"#000000\">class = 입원함</text>\n</g>\n<!-- 21&#45;&gt;22 -->\n<g id=\"edge22\" class=\"edge\">\n<title>21&#45;&gt;22</title>\n<path fill=\"none\" stroke=\"#000000\" d=\"M1289.5316,-103.9815C1288.6315,-95.618 1287.6821,-86.7965 1286.7721,-78.3409\"/>\n<polygon fill=\"#000000\" stroke=\"#000000\" points=\"1290.2376,-77.8317 1285.6876,-68.2637 1283.2778,-78.5808 1290.2376,-77.8317\"/>\n</g>\n<!-- 23 -->\n<g id=\"node24\" class=\"node\">\n<title>23</title>\n<polygon fill=\"none\" stroke=\"#000000\" points=\"1513.5,-68 1366.5,-68 1366.5,0 1513.5,0 1513.5,-68\"/>\n<text text-anchor=\"middle\" x=\"1440\" y=\"-52.8\" font-family=\"Times,serif\" font-size=\"14.00\" fill=\"#000000\">gini = 0.109</text>\n<text text-anchor=\"middle\" x=\"1440\" y=\"-37.8\" font-family=\"Times,serif\" font-size=\"14.00\" fill=\"#000000\">samples = 68428</text>\n<text text-anchor=\"middle\" x=\"1440\" y=\"-22.8\" font-family=\"Times,serif\" font-size=\"14.00\" fill=\"#000000\">value = [64474, 3954]</text>\n<text text-anchor=\"middle\" x=\"1440\" y=\"-7.8\" font-family=\"Times,serif\" font-size=\"14.00\" fill=\"#000000\">class = 입원함</text>\n</g>\n<!-- 21&#45;&gt;23 -->\n<g id=\"edge23\" class=\"edge\">\n<title>21&#45;&gt;23</title>\n<path fill=\"none\" stroke=\"#000000\" d=\"M1348.365,-103.9815C1361.0011,-94.3313 1374.4356,-84.0714 1387.0115,-74.4673\"/>\n<polygon fill=\"#000000\" stroke=\"#000000\" points=\"1389.3114,-77.1148 1395.1346,-68.2637 1385.0628,-71.5515 1389.3114,-77.1148\"/>\n</g>\n<!-- 25 -->\n<g id=\"node26\" class=\"node\">\n<title>25</title>\n<polygon fill=\"none\" stroke=\"#000000\" points=\"1511.5,-179.5 1394.5,-179.5 1394.5,-111.5 1511.5,-111.5 1511.5,-179.5\"/>\n<text text-anchor=\"middle\" x=\"1453\" y=\"-164.3\" font-family=\"Times,serif\" font-size=\"14.00\" fill=\"#000000\">gini = 0.24</text>\n<text text-anchor=\"middle\" x=\"1453\" y=\"-149.3\" font-family=\"Times,serif\" font-size=\"14.00\" fill=\"#000000\">samples = 373</text>\n<text text-anchor=\"middle\" x=\"1453\" y=\"-134.3\" font-family=\"Times,serif\" font-size=\"14.00\" fill=\"#000000\">value = [52, 321]</text>\n<text text-anchor=\"middle\" x=\"1453\" y=\"-119.3\" font-family=\"Times,serif\" font-size=\"14.00\" fill=\"#000000\">class = 입원안함</text>\n</g>\n<!-- 24&#45;&gt;25 -->\n<g id=\"edge25\" class=\"edge\">\n<title>24&#45;&gt;25</title>\n<path fill=\"none\" stroke=\"#000000\" d=\"M1453.6502,-222.8796C1453.5606,-212.2134 1453.4639,-200.7021 1453.3731,-189.9015\"/>\n<polygon fill=\"#000000\" stroke=\"#000000\" points=\"1456.8724,-189.7851 1453.2884,-179.8149 1449.8726,-189.844 1456.8724,-189.7851\"/>\n</g>\n<!-- 26 -->\n<g id=\"node27\" class=\"node\">\n<title>26</title>\n<polygon fill=\"none\" stroke=\"#000000\" points=\"1670,-187 1530,-187 1530,-104 1670,-104 1670,-187\"/>\n<text text-anchor=\"middle\" x=\"1600\" y=\"-171.8\" font-family=\"Times,serif\" font-size=\"14.00\" fill=\"#000000\">진료과목코드 &lt;= 1.5</text>\n<text text-anchor=\"middle\" x=\"1600\" y=\"-156.8\" font-family=\"Times,serif\" font-size=\"14.00\" fill=\"#000000\">gini = 0.214</text>\n<text text-anchor=\"middle\" x=\"1600\" y=\"-141.8\" font-family=\"Times,serif\" font-size=\"14.00\" fill=\"#000000\">samples = 9858</text>\n<text text-anchor=\"middle\" x=\"1600\" y=\"-126.8\" font-family=\"Times,serif\" font-size=\"14.00\" fill=\"#000000\">value = [8655, 1203]</text>\n<text text-anchor=\"middle\" x=\"1600\" y=\"-111.8\" font-family=\"Times,serif\" font-size=\"14.00\" fill=\"#000000\">class = 입원함</text>\n</g>\n<!-- 24&#45;&gt;26 -->\n<g id=\"edge26\" class=\"edge\">\n<title>24&#45;&gt;26</title>\n<path fill=\"none\" stroke=\"#000000\" d=\"M1505.0637,-222.8796C1516.5555,-213.513 1528.8468,-203.4948 1540.645,-193.8784\"/>\n<polygon fill=\"#000000\" stroke=\"#000000\" points=\"1543.1782,-196.329 1548.7183,-187.2981 1538.7556,-190.903 1543.1782,-196.329\"/>\n</g>\n<!-- 27 -->\n<g id=\"node28\" class=\"node\">\n<title>27</title>\n<polygon fill=\"none\" stroke=\"#000000\" points=\"1664,-68 1532,-68 1532,0 1664,0 1664,-68\"/>\n<text text-anchor=\"middle\" x=\"1598\" y=\"-52.8\" font-family=\"Times,serif\" font-size=\"14.00\" fill=\"#000000\">gini = 0.124</text>\n<text text-anchor=\"middle\" x=\"1598\" y=\"-37.8\" font-family=\"Times,serif\" font-size=\"14.00\" fill=\"#000000\">samples = 2123</text>\n<text text-anchor=\"middle\" x=\"1598\" y=\"-22.8\" font-family=\"Times,serif\" font-size=\"14.00\" fill=\"#000000\">value = [1982, 141]</text>\n<text text-anchor=\"middle\" x=\"1598\" y=\"-7.8\" font-family=\"Times,serif\" font-size=\"14.00\" fill=\"#000000\">class = 입원함</text>\n</g>\n<!-- 26&#45;&gt;27 -->\n<g id=\"edge27\" class=\"edge\">\n<title>26&#45;&gt;27</title>\n<path fill=\"none\" stroke=\"#000000\" d=\"M1599.2553,-103.9815C1599.1053,-95.618 1598.947,-86.7965 1598.7954,-78.3409\"/>\n<polygon fill=\"#000000\" stroke=\"#000000\" points=\"1602.2935,-78.1993 1598.6146,-68.2637 1595.2946,-78.3249 1602.2935,-78.1993\"/>\n</g>\n<!-- 28 -->\n<g id=\"node29\" class=\"node\">\n<title>28</title>\n<polygon fill=\"none\" stroke=\"#000000\" points=\"1822,-68 1682,-68 1682,0 1822,0 1822,-68\"/>\n<text text-anchor=\"middle\" x=\"1752\" y=\"-52.8\" font-family=\"Times,serif\" font-size=\"14.00\" fill=\"#000000\">gini = 0.237</text>\n<text text-anchor=\"middle\" x=\"1752\" y=\"-37.8\" font-family=\"Times,serif\" font-size=\"14.00\" fill=\"#000000\">samples = 7735</text>\n<text text-anchor=\"middle\" x=\"1752\" y=\"-22.8\" font-family=\"Times,serif\" font-size=\"14.00\" fill=\"#000000\">value = [6673, 1062]</text>\n<text text-anchor=\"middle\" x=\"1752\" y=\"-7.8\" font-family=\"Times,serif\" font-size=\"14.00\" fill=\"#000000\">class = 입원함</text>\n</g>\n<!-- 26&#45;&gt;28 -->\n<g id=\"edge28\" class=\"edge\">\n<title>26&#45;&gt;28</title>\n<path fill=\"none\" stroke=\"#000000\" d=\"M1656.5992,-103.9815C1669.8799,-94.2394 1684.0077,-83.8759 1697.2077,-74.193\"/>\n<polygon fill=\"#000000\" stroke=\"#000000\" points=\"1699.2977,-77.0006 1705.2908,-68.2637 1695.1574,-71.3564 1699.2977,-77.0006\"/>\n</g>\n<!-- 30 -->\n<g id=\"node31\" class=\"node\">\n<title>30</title>\n<polygon fill=\"none\" stroke=\"#000000\" points=\"2314,-425 2180,-425 2180,-342 2314,-342 2314,-425\"/>\n<text text-anchor=\"middle\" x=\"2247\" y=\"-409.8\" font-family=\"Times,serif\" font-size=\"14.00\" fill=\"#000000\">주상병코드 &lt;= 21.0</text>\n<text text-anchor=\"middle\" x=\"2247\" y=\"-394.8\" font-family=\"Times,serif\" font-size=\"14.00\" fill=\"#000000\">gini = 0.166</text>\n<text text-anchor=\"middle\" x=\"2247\" y=\"-379.8\" font-family=\"Times,serif\" font-size=\"14.00\" fill=\"#000000\">samples = 2051</text>\n<text text-anchor=\"middle\" x=\"2247\" y=\"-364.8\" font-family=\"Times,serif\" font-size=\"14.00\" fill=\"#000000\">value = [187, 1864]</text>\n<text text-anchor=\"middle\" x=\"2247\" y=\"-349.8\" font-family=\"Times,serif\" font-size=\"14.00\" fill=\"#000000\">class = 입원안함</text>\n</g>\n<!-- 29&#45;&gt;30 -->\n<g id=\"edge30\" class=\"edge\">\n<title>29&#45;&gt;30</title>\n<path fill=\"none\" stroke=\"#000000\" d=\"M2315.9263,-460.8796C2307.9039,-451.8733 2299.3448,-442.2644 2291.0833,-432.9897\"/>\n<polygon fill=\"#000000\" stroke=\"#000000\" points=\"2293.4969,-430.4373 2284.2319,-425.2981 2288.2698,-435.0933 2293.4969,-430.4373\"/>\n</g>\n<!-- 39 -->\n<g id=\"node40\" class=\"node\">\n<title>39</title>\n<polygon fill=\"none\" stroke=\"#000000\" points=\"2608,-425 2462,-425 2462,-342 2608,-342 2608,-425\"/>\n<text text-anchor=\"middle\" x=\"2535\" y=\"-409.8\" font-family=\"Times,serif\" font-size=\"14.00\" fill=\"#000000\">주상병코드 &lt;= 13.5</text>\n<text text-anchor=\"middle\" x=\"2535\" y=\"-394.8\" font-family=\"Times,serif\" font-size=\"14.00\" fill=\"#000000\">gini = 0.351</text>\n<text text-anchor=\"middle\" x=\"2535\" y=\"-379.8\" font-family=\"Times,serif\" font-size=\"14.00\" fill=\"#000000\">samples = 15156</text>\n<text text-anchor=\"middle\" x=\"2535\" y=\"-364.8\" font-family=\"Times,serif\" font-size=\"14.00\" fill=\"#000000\">value = [11711, 3445]</text>\n<text text-anchor=\"middle\" x=\"2535\" y=\"-349.8\" font-family=\"Times,serif\" font-size=\"14.00\" fill=\"#000000\">class = 입원함</text>\n</g>\n<!-- 29&#45;&gt;39 -->\n<g id=\"edge39\" class=\"edge\">\n<title>29&#45;&gt;39</title>\n<path fill=\"none\" stroke=\"#000000\" d=\"M2416.6548,-460.8796C2431.6176,-451.0962 2447.6677,-440.6019 2462.9691,-430.5971\"/>\n<polygon fill=\"#000000\" stroke=\"#000000\" points=\"2464.9269,-433.4989 2471.3812,-425.0969 2461.0961,-427.6401 2464.9269,-433.4989\"/>\n</g>\n<!-- 31 -->\n<g id=\"node32\" class=\"node\">\n<title>31</title>\n<polygon fill=\"none\" stroke=\"#000000\" points=\"2105,-306 1971,-306 1971,-223 2105,-223 2105,-306\"/>\n<text text-anchor=\"middle\" x=\"2038\" y=\"-290.8\" font-family=\"Times,serif\" font-size=\"14.00\" fill=\"#000000\">부상병코드 &lt;= 14.5</text>\n<text text-anchor=\"middle\" x=\"2038\" y=\"-275.8\" font-family=\"Times,serif\" font-size=\"14.00\" fill=\"#000000\">gini = 0.075</text>\n<text text-anchor=\"middle\" x=\"2038\" y=\"-260.8\" font-family=\"Times,serif\" font-size=\"14.00\" fill=\"#000000\">samples = 1464</text>\n<text text-anchor=\"middle\" x=\"2038\" y=\"-245.8\" font-family=\"Times,serif\" font-size=\"14.00\" fill=\"#000000\">value = [57, 1407]</text>\n<text text-anchor=\"middle\" x=\"2038\" y=\"-230.8\" font-family=\"Times,serif\" font-size=\"14.00\" fill=\"#000000\">class = 입원안함</text>\n</g>\n<!-- 30&#45;&gt;31 -->\n<g id=\"edge31\" class=\"edge\">\n<title>30&#45;&gt;31</title>\n<path fill=\"none\" stroke=\"#000000\" d=\"M2179.7207,-345.1926C2158.7445,-333.2493 2135.4669,-319.9955 2113.9405,-307.7389\"/>\n<polygon fill=\"#000000\" stroke=\"#000000\" points=\"2115.5752,-304.6421 2105.1533,-302.7356 2112.1116,-310.7251 2115.5752,-304.6421\"/>\n</g>\n<!-- 36 -->\n<g id=\"node37\" class=\"node\">\n<title>36</title>\n<polygon fill=\"none\" stroke=\"#000000\" points=\"2321,-306 2173,-306 2173,-223 2321,-223 2321,-306\"/>\n<text text-anchor=\"middle\" x=\"2247\" y=\"-290.8\" font-family=\"Times,serif\" font-size=\"14.00\" fill=\"#000000\">진료과목코드 &lt;= 10.5</text>\n<text text-anchor=\"middle\" x=\"2247\" y=\"-275.8\" font-family=\"Times,serif\" font-size=\"14.00\" fill=\"#000000\">gini = 0.345</text>\n<text text-anchor=\"middle\" x=\"2247\" y=\"-260.8\" font-family=\"Times,serif\" font-size=\"14.00\" fill=\"#000000\">samples = 587</text>\n<text text-anchor=\"middle\" x=\"2247\" y=\"-245.8\" font-family=\"Times,serif\" font-size=\"14.00\" fill=\"#000000\">value = [130, 457]</text>\n<text text-anchor=\"middle\" x=\"2247\" y=\"-230.8\" font-family=\"Times,serif\" font-size=\"14.00\" fill=\"#000000\">class = 입원안함</text>\n</g>\n<!-- 30&#45;&gt;36 -->\n<g id=\"edge36\" class=\"edge\">\n<title>30&#45;&gt;36</title>\n<path fill=\"none\" stroke=\"#000000\" d=\"M2247,-341.8796C2247,-333.6838 2247,-324.9891 2247,-316.5013\"/>\n<polygon fill=\"#000000\" stroke=\"#000000\" points=\"2250.5001,-316.298 2247,-306.2981 2243.5001,-316.2981 2250.5001,-316.298\"/>\n</g>\n<!-- 32 -->\n<g id=\"node33\" class=\"node\">\n<title>32</title>\n<polygon fill=\"none\" stroke=\"#000000\" points=\"1961,-187 1837,-187 1837,-104 1961,-104 1961,-187\"/>\n<text text-anchor=\"middle\" x=\"1899\" y=\"-171.8\" font-family=\"Times,serif\" font-size=\"14.00\" fill=\"#000000\">시도코드 &lt;= 44.5</text>\n<text text-anchor=\"middle\" x=\"1899\" y=\"-156.8\" font-family=\"Times,serif\" font-size=\"14.00\" fill=\"#000000\">gini = 0.063</text>\n<text text-anchor=\"middle\" x=\"1899\" y=\"-141.8\" font-family=\"Times,serif\" font-size=\"14.00\" fill=\"#000000\">samples = 1173</text>\n<text text-anchor=\"middle\" x=\"1899\" y=\"-126.8\" font-family=\"Times,serif\" font-size=\"14.00\" fill=\"#000000\">value = [38, 1135]</text>\n<text text-anchor=\"middle\" x=\"1899\" y=\"-111.8\" font-family=\"Times,serif\" font-size=\"14.00\" fill=\"#000000\">class = 입원안함</text>\n</g>\n<!-- 31&#45;&gt;32 -->\n<g id=\"edge32\" class=\"edge\">\n<title>31&#45;&gt;32</title>\n<path fill=\"none\" stroke=\"#000000\" d=\"M1989.3845,-222.8796C1978.4438,-213.513 1966.7418,-203.4948 1955.5092,-193.8784\"/>\n<polygon fill=\"#000000\" stroke=\"#000000\" points=\"1957.6956,-191.1428 1947.823,-187.2981 1953.1432,-196.4603 1957.6956,-191.1428\"/>\n</g>\n<!-- 35 -->\n<g id=\"node36\" class=\"node\">\n<title>35</title>\n<polygon fill=\"none\" stroke=\"#000000\" points=\"2096.5,-179.5 1979.5,-179.5 1979.5,-111.5 2096.5,-111.5 2096.5,-179.5\"/>\n<text text-anchor=\"middle\" x=\"2038\" y=\"-164.3\" font-family=\"Times,serif\" font-size=\"14.00\" fill=\"#000000\">gini = 0.122</text>\n<text text-anchor=\"middle\" x=\"2038\" y=\"-149.3\" font-family=\"Times,serif\" font-size=\"14.00\" fill=\"#000000\">samples = 291</text>\n<text text-anchor=\"middle\" x=\"2038\" y=\"-134.3\" font-family=\"Times,serif\" font-size=\"14.00\" fill=\"#000000\">value = [19, 272]</text>\n<text text-anchor=\"middle\" x=\"2038\" y=\"-119.3\" font-family=\"Times,serif\" font-size=\"14.00\" fill=\"#000000\">class = 입원안함</text>\n</g>\n<!-- 31&#45;&gt;35 -->\n<g id=\"edge35\" class=\"edge\">\n<title>31&#45;&gt;35</title>\n<path fill=\"none\" stroke=\"#000000\" d=\"M2038,-222.8796C2038,-212.2134 2038,-200.7021 2038,-189.9015\"/>\n<polygon fill=\"#000000\" stroke=\"#000000\" points=\"2041.5001,-189.8149 2038,-179.8149 2034.5001,-189.815 2041.5001,-189.8149\"/>\n</g>\n<!-- 33 -->\n<g id=\"node34\" class=\"node\">\n<title>33</title>\n<polygon fill=\"none\" stroke=\"#000000\" points=\"1957.5,-68 1840.5,-68 1840.5,0 1957.5,0 1957.5,-68\"/>\n<text text-anchor=\"middle\" x=\"1899\" y=\"-52.8\" font-family=\"Times,serif\" font-size=\"14.00\" fill=\"#000000\">gini = 0.069</text>\n<text text-anchor=\"middle\" x=\"1899\" y=\"-37.8\" font-family=\"Times,serif\" font-size=\"14.00\" fill=\"#000000\">samples = 950</text>\n<text text-anchor=\"middle\" x=\"1899\" y=\"-22.8\" font-family=\"Times,serif\" font-size=\"14.00\" fill=\"#000000\">value = [34, 916]</text>\n<text text-anchor=\"middle\" x=\"1899\" y=\"-7.8\" font-family=\"Times,serif\" font-size=\"14.00\" fill=\"#000000\">class = 입원안함</text>\n</g>\n<!-- 32&#45;&gt;33 -->\n<g id=\"edge33\" class=\"edge\">\n<title>32&#45;&gt;33</title>\n<path fill=\"none\" stroke=\"#000000\" d=\"M1899,-103.9815C1899,-95.618 1899,-86.7965 1899,-78.3409\"/>\n<polygon fill=\"#000000\" stroke=\"#000000\" points=\"1902.5001,-78.2636 1899,-68.2637 1895.5001,-78.2637 1902.5001,-78.2636\"/>\n</g>\n<!-- 34 -->\n<g id=\"node35\" class=\"node\">\n<title>34</title>\n<polygon fill=\"none\" stroke=\"#000000\" points=\"2088.5,-68 1975.5,-68 1975.5,0 2088.5,0 2088.5,-68\"/>\n<text text-anchor=\"middle\" x=\"2032\" y=\"-52.8\" font-family=\"Times,serif\" font-size=\"14.00\" fill=\"#000000\">gini = 0.035</text>\n<text text-anchor=\"middle\" x=\"2032\" y=\"-37.8\" font-family=\"Times,serif\" font-size=\"14.00\" fill=\"#000000\">samples = 223</text>\n<text text-anchor=\"middle\" x=\"2032\" y=\"-22.8\" font-family=\"Times,serif\" font-size=\"14.00\" fill=\"#000000\">value = [4, 219]</text>\n<text text-anchor=\"middle\" x=\"2032\" y=\"-7.8\" font-family=\"Times,serif\" font-size=\"14.00\" fill=\"#000000\">class = 입원안함</text>\n</g>\n<!-- 32&#45;&gt;34 -->\n<g id=\"edge34\" class=\"edge\">\n<title>32&#45;&gt;34</title>\n<path fill=\"none\" stroke=\"#000000\" d=\"M1948.5243,-103.9815C1959.9257,-94.4232 1972.0405,-84.2668 1983.4021,-74.7419\"/>\n<polygon fill=\"#000000\" stroke=\"#000000\" points=\"1985.7147,-77.3704 1991.1294,-68.2637 1981.2175,-72.006 1985.7147,-77.3704\"/>\n</g>\n<!-- 37 -->\n<g id=\"node38\" class=\"node\">\n<title>37</title>\n<polygon fill=\"none\" stroke=\"#000000\" points=\"2239.5,-179.5 2114.5,-179.5 2114.5,-111.5 2239.5,-111.5 2239.5,-179.5\"/>\n<text text-anchor=\"middle\" x=\"2177\" y=\"-164.3\" font-family=\"Times,serif\" font-size=\"14.00\" fill=\"#000000\">gini = 0.488</text>\n<text text-anchor=\"middle\" x=\"2177\" y=\"-149.3\" font-family=\"Times,serif\" font-size=\"14.00\" fill=\"#000000\">samples = 308</text>\n<text text-anchor=\"middle\" x=\"2177\" y=\"-134.3\" font-family=\"Times,serif\" font-size=\"14.00\" fill=\"#000000\">value = [130, 178]</text>\n<text text-anchor=\"middle\" x=\"2177\" y=\"-119.3\" font-family=\"Times,serif\" font-size=\"14.00\" fill=\"#000000\">class = 입원안함</text>\n</g>\n<!-- 36&#45;&gt;37 -->\n<g id=\"edge37\" class=\"edge\">\n<title>36&#45;&gt;37</title>\n<path fill=\"none\" stroke=\"#000000\" d=\"M2222.5174,-222.8796C2215.9844,-211.7735 2208.9125,-199.7513 2202.3348,-188.5691\"/>\n<polygon fill=\"#000000\" stroke=\"#000000\" points=\"2205.2723,-186.6597 2197.1853,-179.8149 2199.2387,-190.2089 2205.2723,-186.6597\"/>\n</g>\n<!-- 38 -->\n<g id=\"node39\" class=\"node\">\n<title>38</title>\n<polygon fill=\"none\" stroke=\"#000000\" points=\"2370.5,-179.5 2257.5,-179.5 2257.5,-111.5 2370.5,-111.5 2370.5,-179.5\"/>\n<text text-anchor=\"middle\" x=\"2314\" y=\"-164.3\" font-family=\"Times,serif\" font-size=\"14.00\" fill=\"#000000\">gini = 0.0</text>\n<text text-anchor=\"middle\" x=\"2314\" y=\"-149.3\" font-family=\"Times,serif\" font-size=\"14.00\" fill=\"#000000\">samples = 279</text>\n<text text-anchor=\"middle\" x=\"2314\" y=\"-134.3\" font-family=\"Times,serif\" font-size=\"14.00\" fill=\"#000000\">value = [0, 279]</text>\n<text text-anchor=\"middle\" x=\"2314\" y=\"-119.3\" font-family=\"Times,serif\" font-size=\"14.00\" fill=\"#000000\">class = 입원안함</text>\n</g>\n<!-- 36&#45;&gt;38 -->\n<g id=\"edge38\" class=\"edge\">\n<title>36&#45;&gt;38</title>\n<path fill=\"none\" stroke=\"#000000\" d=\"M2270.4333,-222.8796C2276.6863,-211.7735 2283.4552,-199.7513 2289.751,-188.5691\"/>\n<polygon fill=\"#000000\" stroke=\"#000000\" points=\"2292.8235,-190.2459 2294.6798,-179.8149 2286.7239,-186.8116 2292.8235,-190.2459\"/>\n</g>\n<!-- 40 -->\n<g id=\"node41\" class=\"node\">\n<title>40</title>\n<polygon fill=\"none\" stroke=\"#000000\" points=\"2605,-306 2465,-306 2465,-223 2605,-223 2605,-306\"/>\n<text text-anchor=\"middle\" x=\"2535\" y=\"-290.8\" font-family=\"Times,serif\" font-size=\"14.00\" fill=\"#000000\">부상병코드 &lt;= 23.0</text>\n<text text-anchor=\"middle\" x=\"2535\" y=\"-275.8\" font-family=\"Times,serif\" font-size=\"14.00\" fill=\"#000000\">gini = 0.266</text>\n<text text-anchor=\"middle\" x=\"2535\" y=\"-260.8\" font-family=\"Times,serif\" font-size=\"14.00\" fill=\"#000000\">samples = 9677</text>\n<text text-anchor=\"middle\" x=\"2535\" y=\"-245.8\" font-family=\"Times,serif\" font-size=\"14.00\" fill=\"#000000\">value = [8146, 1531]</text>\n<text text-anchor=\"middle\" x=\"2535\" y=\"-230.8\" font-family=\"Times,serif\" font-size=\"14.00\" fill=\"#000000\">class = 입원함</text>\n</g>\n<!-- 39&#45;&gt;40 -->\n<g id=\"edge40\" class=\"edge\">\n<title>39&#45;&gt;40</title>\n<path fill=\"none\" stroke=\"#000000\" d=\"M2535,-341.8796C2535,-333.6838 2535,-324.9891 2535,-316.5013\"/>\n<polygon fill=\"#000000\" stroke=\"#000000\" points=\"2538.5001,-316.298 2535,-306.2981 2531.5001,-316.2981 2538.5001,-316.298\"/>\n</g>\n<!-- 47 -->\n<g id=\"node48\" class=\"node\">\n<title>47</title>\n<polygon fill=\"none\" stroke=\"#000000\" points=\"2952,-306 2812,-306 2812,-223 2952,-223 2952,-306\"/>\n<text text-anchor=\"middle\" x=\"2882\" y=\"-290.8\" font-family=\"Times,serif\" font-size=\"14.00\" fill=\"#000000\">주상병코드 &lt;= 15.5</text>\n<text text-anchor=\"middle\" x=\"2882\" y=\"-275.8\" font-family=\"Times,serif\" font-size=\"14.00\" fill=\"#000000\">gini = 0.455</text>\n<text text-anchor=\"middle\" x=\"2882\" y=\"-260.8\" font-family=\"Times,serif\" font-size=\"14.00\" fill=\"#000000\">samples = 5479</text>\n<text text-anchor=\"middle\" x=\"2882\" y=\"-245.8\" font-family=\"Times,serif\" font-size=\"14.00\" fill=\"#000000\">value = [3565, 1914]</text>\n<text text-anchor=\"middle\" x=\"2882\" y=\"-230.8\" font-family=\"Times,serif\" font-size=\"14.00\" fill=\"#000000\">class = 입원함</text>\n</g>\n<!-- 39&#45;&gt;47 -->\n<g id=\"edge47\" class=\"edge\">\n<title>39&#45;&gt;47</title>\n<path fill=\"none\" stroke=\"#000000\" d=\"M2608.1658,-358.4086C2665.0486,-338.9012 2743.8542,-311.8756 2802.3261,-291.8233\"/>\n<polygon fill=\"#000000\" stroke=\"#000000\" points=\"2803.5714,-295.0964 2811.8952,-288.5417 2801.3006,-288.475 2803.5714,-295.0964\"/>\n</g>\n<!-- 41 -->\n<g id=\"node42\" class=\"node\">\n<title>41</title>\n<polygon fill=\"none\" stroke=\"#000000\" points=\"2529,-187 2389,-187 2389,-104 2529,-104 2529,-187\"/>\n<text text-anchor=\"middle\" x=\"2459\" y=\"-171.8\" font-family=\"Times,serif\" font-size=\"14.00\" fill=\"#000000\">주상병코드 &lt;= 7.5</text>\n<text text-anchor=\"middle\" x=\"2459\" y=\"-156.8\" font-family=\"Times,serif\" font-size=\"14.00\" fill=\"#000000\">gini = 0.216</text>\n<text text-anchor=\"middle\" x=\"2459\" y=\"-141.8\" font-family=\"Times,serif\" font-size=\"14.00\" fill=\"#000000\">samples = 8515</text>\n<text text-anchor=\"middle\" x=\"2459\" y=\"-126.8\" font-family=\"Times,serif\" font-size=\"14.00\" fill=\"#000000\">value = [7464, 1051]</text>\n<text text-anchor=\"middle\" x=\"2459\" y=\"-111.8\" font-family=\"Times,serif\" font-size=\"14.00\" fill=\"#000000\">class = 입원함</text>\n</g>\n<!-- 40&#45;&gt;41 -->\n<g id=\"edge41\" class=\"edge\">\n<title>40&#45;&gt;41</title>\n<path fill=\"none\" stroke=\"#000000\" d=\"M2508.4189,-222.8796C2502.8395,-214.1434 2496.8981,-204.8404 2491.1405,-195.8253\"/>\n<polygon fill=\"#000000\" stroke=\"#000000\" points=\"2494.0269,-193.8421 2485.6946,-187.2981 2488.1274,-197.6098 2494.0269,-193.8421\"/>\n</g>\n<!-- 44 -->\n<g id=\"node45\" class=\"node\">\n<title>44</title>\n<polygon fill=\"none\" stroke=\"#000000\" points=\"2674.5,-187 2547.5,-187 2547.5,-104 2674.5,-104 2674.5,-187\"/>\n<text text-anchor=\"middle\" x=\"2611\" y=\"-171.8\" font-family=\"Times,serif\" font-size=\"14.00\" fill=\"#000000\">주상병코드 &lt;= 7.5</text>\n<text text-anchor=\"middle\" x=\"2611\" y=\"-156.8\" font-family=\"Times,serif\" font-size=\"14.00\" fill=\"#000000\">gini = 0.485</text>\n<text text-anchor=\"middle\" x=\"2611\" y=\"-141.8\" font-family=\"Times,serif\" font-size=\"14.00\" fill=\"#000000\">samples = 1162</text>\n<text text-anchor=\"middle\" x=\"2611\" y=\"-126.8\" font-family=\"Times,serif\" font-size=\"14.00\" fill=\"#000000\">value = [682, 480]</text>\n<text text-anchor=\"middle\" x=\"2611\" y=\"-111.8\" font-family=\"Times,serif\" font-size=\"14.00\" fill=\"#000000\">class = 입원함</text>\n</g>\n<!-- 40&#45;&gt;44 -->\n<g id=\"edge44\" class=\"edge\">\n<title>40&#45;&gt;44</title>\n<path fill=\"none\" stroke=\"#000000\" d=\"M2561.5811,-222.8796C2567.1605,-214.1434 2573.1019,-204.8404 2578.8595,-195.8253\"/>\n<polygon fill=\"#000000\" stroke=\"#000000\" points=\"2581.8726,-197.6098 2584.3054,-187.2981 2575.9731,-193.8421 2581.8726,-197.6098\"/>\n</g>\n<!-- 42 -->\n<g id=\"node43\" class=\"node\">\n<title>42</title>\n<polygon fill=\"none\" stroke=\"#000000\" points=\"2307,-68 2175,-68 2175,0 2307,0 2307,-68\"/>\n<text text-anchor=\"middle\" x=\"2241\" y=\"-52.8\" font-family=\"Times,serif\" font-size=\"14.00\" fill=\"#000000\">gini = 0.357</text>\n<text text-anchor=\"middle\" x=\"2241\" y=\"-37.8\" font-family=\"Times,serif\" font-size=\"14.00\" fill=\"#000000\">samples = 1851</text>\n<text text-anchor=\"middle\" x=\"2241\" y=\"-22.8\" font-family=\"Times,serif\" font-size=\"14.00\" fill=\"#000000\">value = [1421, 430]</text>\n<text text-anchor=\"middle\" x=\"2241\" y=\"-7.8\" font-family=\"Times,serif\" font-size=\"14.00\" fill=\"#000000\">class = 입원함</text>\n</g>\n<!-- 41&#45;&gt;42 -->\n<g id=\"edge42\" class=\"edge\">\n<title>41&#45;&gt;42</title>\n<path fill=\"none\" stroke=\"#000000\" d=\"M2388.7786,-109.0268C2385.4743,-107.3249 2382.202,-105.6426 2379,-104 2358.5949,-93.5325 2336.4531,-82.2621 2316.0019,-71.8884\"/>\n<polygon fill=\"#000000\" stroke=\"#000000\" points=\"2317.5467,-68.7475 2307.0448,-67.3474 2314.3814,-74.991 2317.5467,-68.7475\"/>\n</g>\n<!-- 43 -->\n<g id=\"node44\" class=\"node\">\n<title>43</title>\n<polygon fill=\"none\" stroke=\"#000000\" points=\"2457,-68 2325,-68 2325,0 2457,0 2457,-68\"/>\n<text text-anchor=\"middle\" x=\"2391\" y=\"-52.8\" font-family=\"Times,serif\" font-size=\"14.00\" fill=\"#000000\">gini = 0.169</text>\n<text text-anchor=\"middle\" x=\"2391\" y=\"-37.8\" font-family=\"Times,serif\" font-size=\"14.00\" fill=\"#000000\">samples = 6664</text>\n<text text-anchor=\"middle\" x=\"2391\" y=\"-22.8\" font-family=\"Times,serif\" font-size=\"14.00\" fill=\"#000000\">value = [6043, 621]</text>\n<text text-anchor=\"middle\" x=\"2391\" y=\"-7.8\" font-family=\"Times,serif\" font-size=\"14.00\" fill=\"#000000\">class = 입원함</text>\n</g>\n<!-- 41&#45;&gt;43 -->\n<g id=\"edge43\" class=\"edge\">\n<title>41&#45;&gt;43</title>\n<path fill=\"none\" stroke=\"#000000\" d=\"M2433.6793,-103.9815C2428.2984,-95.1585 2422.6068,-85.8258 2417.1941,-76.9506\"/>\n<polygon fill=\"#000000\" stroke=\"#000000\" points=\"2420.0912,-74.9789 2411.8962,-68.2637 2414.1149,-78.6236 2420.0912,-74.9789\"/>\n</g>\n<!-- 45 -->\n<g id=\"node46\" class=\"node\">\n<title>45</title>\n<polygon fill=\"none\" stroke=\"#000000\" points=\"2600.5,-68 2475.5,-68 2475.5,0 2600.5,0 2600.5,-68\"/>\n<text text-anchor=\"middle\" x=\"2538\" y=\"-52.8\" font-family=\"Times,serif\" font-size=\"14.00\" fill=\"#000000\">gini = 0.498</text>\n<text text-anchor=\"middle\" x=\"2538\" y=\"-37.8\" font-family=\"Times,serif\" font-size=\"14.00\" fill=\"#000000\">samples = 704</text>\n<text text-anchor=\"middle\" x=\"2538\" y=\"-22.8\" font-family=\"Times,serif\" font-size=\"14.00\" fill=\"#000000\">value = [372, 332]</text>\n<text text-anchor=\"middle\" x=\"2538\" y=\"-7.8\" font-family=\"Times,serif\" font-size=\"14.00\" fill=\"#000000\">class = 입원함</text>\n</g>\n<!-- 44&#45;&gt;45 -->\n<g id=\"edge45\" class=\"edge\">\n<title>44&#45;&gt;45</title>\n<path fill=\"none\" stroke=\"#000000\" d=\"M2583.8175,-103.9815C2577.9808,-95.0666 2571.8034,-85.6313 2565.9386,-76.6734\"/>\n<polygon fill=\"#000000\" stroke=\"#000000\" points=\"2568.8386,-74.7129 2560.4327,-68.2637 2562.9821,-78.5472 2568.8386,-74.7129\"/>\n</g>\n<!-- 46 -->\n<g id=\"node47\" class=\"node\">\n<title>46</title>\n<polygon fill=\"none\" stroke=\"#000000\" points=\"2743.5,-68 2618.5,-68 2618.5,0 2743.5,0 2743.5,-68\"/>\n<text text-anchor=\"middle\" x=\"2681\" y=\"-52.8\" font-family=\"Times,serif\" font-size=\"14.00\" fill=\"#000000\">gini = 0.437</text>\n<text text-anchor=\"middle\" x=\"2681\" y=\"-37.8\" font-family=\"Times,serif\" font-size=\"14.00\" fill=\"#000000\">samples = 458</text>\n<text text-anchor=\"middle\" x=\"2681\" y=\"-22.8\" font-family=\"Times,serif\" font-size=\"14.00\" fill=\"#000000\">value = [310, 148]</text>\n<text text-anchor=\"middle\" x=\"2681\" y=\"-7.8\" font-family=\"Times,serif\" font-size=\"14.00\" fill=\"#000000\">class = 입원함</text>\n</g>\n<!-- 44&#45;&gt;46 -->\n<g id=\"edge46\" class=\"edge\">\n<title>44&#45;&gt;46</title>\n<path fill=\"none\" stroke=\"#000000\" d=\"M2637.0654,-103.9815C2642.6045,-95.1585 2648.4636,-85.8258 2654.0355,-76.9506\"/>\n<polygon fill=\"#000000\" stroke=\"#000000\" points=\"2657.1363,-78.594 2659.4892,-68.2637 2651.2078,-74.872 2657.1363,-78.594\"/>\n</g>\n<!-- 48 -->\n<g id=\"node49\" class=\"node\">\n<title>48</title>\n<polygon fill=\"none\" stroke=\"#000000\" points=\"2949,-187 2815,-187 2815,-104 2949,-104 2949,-187\"/>\n<text text-anchor=\"middle\" x=\"2882\" y=\"-171.8\" font-family=\"Times,serif\" font-size=\"14.00\" fill=\"#000000\">부상병코드 &lt;= 21.0</text>\n<text text-anchor=\"middle\" x=\"2882\" y=\"-156.8\" font-family=\"Times,serif\" font-size=\"14.00\" fill=\"#000000\">gini = 0.171</text>\n<text text-anchor=\"middle\" x=\"2882\" y=\"-141.8\" font-family=\"Times,serif\" font-size=\"14.00\" fill=\"#000000\">samples = 445</text>\n<text text-anchor=\"middle\" x=\"2882\" y=\"-126.8\" font-family=\"Times,serif\" font-size=\"14.00\" fill=\"#000000\">value = [42, 403]</text>\n<text text-anchor=\"middle\" x=\"2882\" y=\"-111.8\" font-family=\"Times,serif\" font-size=\"14.00\" fill=\"#000000\">class = 입원안함</text>\n</g>\n<!-- 47&#45;&gt;48 -->\n<g id=\"edge48\" class=\"edge\">\n<title>47&#45;&gt;48</title>\n<path fill=\"none\" stroke=\"#000000\" d=\"M2882,-222.8796C2882,-214.6838 2882,-205.9891 2882,-197.5013\"/>\n<polygon fill=\"#000000\" stroke=\"#000000\" points=\"2885.5001,-197.298 2882,-187.2981 2878.5001,-197.2981 2885.5001,-197.298\"/>\n</g>\n<!-- 51 -->\n<g id=\"node52\" class=\"node\">\n<title>51</title>\n<polygon fill=\"none\" stroke=\"#000000\" points=\"3167.5,-187 3028.5,-187 3028.5,-104 3167.5,-104 3167.5,-187\"/>\n<text text-anchor=\"middle\" x=\"3098\" y=\"-171.8\" font-family=\"Times,serif\" font-size=\"14.00\" fill=\"#000000\">연령대코드 &lt;= 45.0</text>\n<text text-anchor=\"middle\" x=\"3098\" y=\"-156.8\" font-family=\"Times,serif\" font-size=\"14.00\" fill=\"#000000\">gini = 0.42</text>\n<text text-anchor=\"middle\" x=\"3098\" y=\"-141.8\" font-family=\"Times,serif\" font-size=\"14.00\" fill=\"#000000\">samples = 5034</text>\n<text text-anchor=\"middle\" x=\"3098\" y=\"-126.8\" font-family=\"Times,serif\" font-size=\"14.00\" fill=\"#000000\">value = [3523, 1511]</text>\n<text text-anchor=\"middle\" x=\"3098\" y=\"-111.8\" font-family=\"Times,serif\" font-size=\"14.00\" fill=\"#000000\">class = 입원함</text>\n</g>\n<!-- 47&#45;&gt;51 -->\n<g id=\"edge51\" class=\"edge\">\n<title>47&#45;&gt;51</title>\n<path fill=\"none\" stroke=\"#000000\" d=\"M2952.129,-225.8641C2973.566,-214.0539 2997.2824,-200.988 3019.252,-188.8843\"/>\n<polygon fill=\"#000000\" stroke=\"#000000\" points=\"3021.153,-191.8331 3028.2229,-183.942 3017.7752,-185.7019 3021.153,-191.8331\"/>\n</g>\n<!-- 49 -->\n<g id=\"node50\" class=\"node\">\n<title>49</title>\n<polygon fill=\"none\" stroke=\"#000000\" points=\"2878,-68 2762,-68 2762,0 2878,0 2878,-68\"/>\n<text text-anchor=\"middle\" x=\"2820\" y=\"-52.8\" font-family=\"Times,serif\" font-size=\"14.00\" fill=\"#000000\">gini = 0.088</text>\n<text text-anchor=\"middle\" x=\"2820\" y=\"-37.8\" font-family=\"Times,serif\" font-size=\"14.00\" fill=\"#000000\">samples = 238</text>\n<text text-anchor=\"middle\" x=\"2820\" y=\"-22.8\" font-family=\"Times,serif\" font-size=\"14.00\" fill=\"#000000\">value = [11, 227]</text>\n<text text-anchor=\"middle\" x=\"2820\" y=\"-7.8\" font-family=\"Times,serif\" font-size=\"14.00\" fill=\"#000000\">class = 입원안함</text>\n</g>\n<!-- 48&#45;&gt;49 -->\n<g id=\"edge49\" class=\"edge\">\n<title>48&#45;&gt;49</title>\n<path fill=\"none\" stroke=\"#000000\" d=\"M2858.9135,-103.9815C2854.0585,-95.2504 2848.926,-86.0202 2844.0371,-77.2281\"/>\n<polygon fill=\"#000000\" stroke=\"#000000\" points=\"2846.9712,-75.3025 2839.0524,-68.2637 2840.8533,-78.7043 2846.9712,-75.3025\"/>\n</g>\n<!-- 50 -->\n<g id=\"node51\" class=\"node\">\n<title>50</title>\n<polygon fill=\"none\" stroke=\"#000000\" points=\"3013.5,-68 2896.5,-68 2896.5,0 3013.5,0 3013.5,-68\"/>\n<text text-anchor=\"middle\" x=\"2955\" y=\"-52.8\" font-family=\"Times,serif\" font-size=\"14.00\" fill=\"#000000\">gini = 0.255</text>\n<text text-anchor=\"middle\" x=\"2955\" y=\"-37.8\" font-family=\"Times,serif\" font-size=\"14.00\" fill=\"#000000\">samples = 207</text>\n<text text-anchor=\"middle\" x=\"2955\" y=\"-22.8\" font-family=\"Times,serif\" font-size=\"14.00\" fill=\"#000000\">value = [31, 176]</text>\n<text text-anchor=\"middle\" x=\"2955\" y=\"-7.8\" font-family=\"Times,serif\" font-size=\"14.00\" fill=\"#000000\">class = 입원안함</text>\n</g>\n<!-- 48&#45;&gt;50 -->\n<g id=\"edge50\" class=\"edge\">\n<title>48&#45;&gt;50</title>\n<path fill=\"none\" stroke=\"#000000\" d=\"M2909.1825,-103.9815C2915.0192,-95.0666 2921.1966,-85.6313 2927.0614,-76.6734\"/>\n<polygon fill=\"#000000\" stroke=\"#000000\" points=\"2930.0179,-78.5472 2932.5673,-68.2637 2924.1614,-74.7129 2930.0179,-78.5472\"/>\n</g>\n<!-- 52 -->\n<g id=\"node53\" class=\"node\">\n<title>52</title>\n<polygon fill=\"none\" stroke=\"#000000\" points=\"3164,-68 3032,-68 3032,0 3164,0 3164,-68\"/>\n<text text-anchor=\"middle\" x=\"3098\" y=\"-52.8\" font-family=\"Times,serif\" font-size=\"14.00\" fill=\"#000000\">gini = 0.346</text>\n<text text-anchor=\"middle\" x=\"3098\" y=\"-37.8\" font-family=\"Times,serif\" font-size=\"14.00\" fill=\"#000000\">samples = 2394</text>\n<text text-anchor=\"middle\" x=\"3098\" y=\"-22.8\" font-family=\"Times,serif\" font-size=\"14.00\" fill=\"#000000\">value = [1861, 533]</text>\n<text text-anchor=\"middle\" x=\"3098\" y=\"-7.8\" font-family=\"Times,serif\" font-size=\"14.00\" fill=\"#000000\">class = 입원함</text>\n</g>\n<!-- 51&#45;&gt;52 -->\n<g id=\"edge52\" class=\"edge\">\n<title>51&#45;&gt;52</title>\n<path fill=\"none\" stroke=\"#000000\" d=\"M3098,-103.9815C3098,-95.618 3098,-86.7965 3098,-78.3409\"/>\n<polygon fill=\"#000000\" stroke=\"#000000\" points=\"3101.5001,-78.2636 3098,-68.2637 3094.5001,-78.2637 3101.5001,-78.2636\"/>\n</g>\n<!-- 53 -->\n<g id=\"node54\" class=\"node\">\n<title>53</title>\n<polygon fill=\"none\" stroke=\"#000000\" points=\"3314,-68 3182,-68 3182,0 3314,0 3314,-68\"/>\n<text text-anchor=\"middle\" x=\"3248\" y=\"-52.8\" font-family=\"Times,serif\" font-size=\"14.00\" fill=\"#000000\">gini = 0.466</text>\n<text text-anchor=\"middle\" x=\"3248\" y=\"-37.8\" font-family=\"Times,serif\" font-size=\"14.00\" fill=\"#000000\">samples = 2640</text>\n<text text-anchor=\"middle\" x=\"3248\" y=\"-22.8\" font-family=\"Times,serif\" font-size=\"14.00\" fill=\"#000000\">value = [1662, 978]</text>\n<text text-anchor=\"middle\" x=\"3248\" y=\"-7.8\" font-family=\"Times,serif\" font-size=\"14.00\" fill=\"#000000\">class = 입원함</text>\n</g>\n<!-- 51&#45;&gt;53 -->\n<g id=\"edge53\" class=\"edge\">\n<title>51&#45;&gt;53</title>\n<path fill=\"none\" stroke=\"#000000\" d=\"M3153.8545,-103.9815C3166.8368,-94.3313 3180.6394,-84.0714 3193.5597,-74.4673\"/>\n<polygon fill=\"#000000\" stroke=\"#000000\" points=\"3195.9678,-77.0384 3201.9054,-68.2637 3191.7917,-71.4204 3195.9678,-77.0384\"/>\n</g>\n<!-- 55 -->\n<g id=\"node56\" class=\"node\">\n<title>55</title>\n<polygon fill=\"none\" stroke=\"#000000\" points=\"4627,-544 4465,-544 4465,-461 4627,-461 4627,-544\"/>\n<text text-anchor=\"middle\" x=\"4546\" y=\"-528.8\" font-family=\"Times,serif\" font-size=\"14.00\" fill=\"#000000\">진료과목코드 &lt;= 17.5</text>\n<text text-anchor=\"middle\" x=\"4546\" y=\"-513.8\" font-family=\"Times,serif\" font-size=\"14.00\" fill=\"#000000\">gini = 0.352</text>\n<text text-anchor=\"middle\" x=\"4546\" y=\"-498.8\" font-family=\"Times,serif\" font-size=\"14.00\" fill=\"#000000\">samples = 198450</text>\n<text text-anchor=\"middle\" x=\"4546\" y=\"-483.8\" font-family=\"Times,serif\" font-size=\"14.00\" fill=\"#000000\">value = [45177, 153273]</text>\n<text text-anchor=\"middle\" x=\"4546\" y=\"-468.8\" font-family=\"Times,serif\" font-size=\"14.00\" fill=\"#000000\">class = 입원안함</text>\n</g>\n<!-- 54&#45;&gt;55 -->\n<g id=\"edge55\" class=\"edge\">\n<title>54&#45;&gt;55</title>\n<path fill=\"none\" stroke=\"#000000\" d=\"M4546,-579.8796C4546,-571.6838 4546,-562.9891 4546,-554.5013\"/>\n<polygon fill=\"#000000\" stroke=\"#000000\" points=\"4549.5001,-554.298 4546,-544.2981 4542.5001,-554.2981 4549.5001,-554.298\"/>\n</g>\n<!-- 86 -->\n<g id=\"node87\" class=\"node\">\n<title>86</title>\n<polygon fill=\"none\" stroke=\"#000000\" points=\"6391.5,-544 6244.5,-544 6244.5,-461 6391.5,-461 6391.5,-544\"/>\n<text text-anchor=\"middle\" x=\"6318\" y=\"-528.8\" font-family=\"Times,serif\" font-size=\"14.00\" fill=\"#000000\">심결가산율 &lt;= 2.5</text>\n<text text-anchor=\"middle\" x=\"6318\" y=\"-513.8\" font-family=\"Times,serif\" font-size=\"14.00\" fill=\"#000000\">gini = 0.159</text>\n<text text-anchor=\"middle\" x=\"6318\" y=\"-498.8\" font-family=\"Times,serif\" font-size=\"14.00\" fill=\"#000000\">samples = 45614</text>\n<text text-anchor=\"middle\" x=\"6318\" y=\"-483.8\" font-family=\"Times,serif\" font-size=\"14.00\" fill=\"#000000\">value = [3969, 41645]</text>\n<text text-anchor=\"middle\" x=\"6318\" y=\"-468.8\" font-family=\"Times,serif\" font-size=\"14.00\" fill=\"#000000\">class = 입원안함</text>\n</g>\n<!-- 54&#45;&gt;86 -->\n<g id=\"edge86\" class=\"edge\">\n<title>54&#45;&gt;86</title>\n<path fill=\"none\" stroke=\"#000000\" d=\"M4627.0354,-616.058C4921.6758,-596.2712 5934.4588,-528.257 6233.9466,-508.1447\"/>\n<polygon fill=\"#000000\" stroke=\"#000000\" points=\"6234.5541,-511.6119 6244.297,-507.4496 6234.085,-504.6276 6234.5541,-511.6119\"/>\n</g>\n<!-- 56 -->\n<g id=\"node57\" class=\"node\">\n<title>56</title>\n<polygon fill=\"none\" stroke=\"#000000\" points=\"4340,-425 4178,-425 4178,-342 4340,-342 4340,-425\"/>\n<text text-anchor=\"middle\" x=\"4259\" y=\"-409.8\" font-family=\"Times,serif\" font-size=\"14.00\" fill=\"#000000\">요일 &lt;= 5.5</text>\n<text text-anchor=\"middle\" x=\"4259\" y=\"-394.8\" font-family=\"Times,serif\" font-size=\"14.00\" fill=\"#000000\">gini = 0.375</text>\n<text text-anchor=\"middle\" x=\"4259\" y=\"-379.8\" font-family=\"Times,serif\" font-size=\"14.00\" fill=\"#000000\">samples = 165923</text>\n<text text-anchor=\"middle\" x=\"4259\" y=\"-364.8\" font-family=\"Times,serif\" font-size=\"14.00\" fill=\"#000000\">value = [41414, 124509]</text>\n<text text-anchor=\"middle\" x=\"4259\" y=\"-349.8\" font-family=\"Times,serif\" font-size=\"14.00\" fill=\"#000000\">class = 입원안함</text>\n</g>\n<!-- 55&#45;&gt;56 -->\n<g id=\"edge56\" class=\"edge\">\n<title>55&#45;&gt;56</title>\n<path fill=\"none\" stroke=\"#000000\" d=\"M4464.9081,-468.8765C4428.9978,-453.9869 4386.6117,-436.4122 4349.6593,-421.0904\"/>\n<polygon fill=\"#000000\" stroke=\"#000000\" points=\"4350.9669,-417.8437 4340.3889,-417.2466 4348.2858,-424.3099 4350.9669,-417.8437\"/>\n</g>\n<!-- 71 -->\n<g id=\"node72\" class=\"node\">\n<title>71</title>\n<polygon fill=\"none\" stroke=\"#000000\" points=\"4911.5,-425 4764.5,-425 4764.5,-342 4911.5,-342 4911.5,-425\"/>\n<text text-anchor=\"middle\" x=\"4838\" y=\"-409.8\" font-family=\"Times,serif\" font-size=\"14.00\" fill=\"#000000\">주상병코드 &lt;= 8.5</text>\n<text text-anchor=\"middle\" x=\"4838\" y=\"-394.8\" font-family=\"Times,serif\" font-size=\"14.00\" fill=\"#000000\">gini = 0.205</text>\n<text text-anchor=\"middle\" x=\"4838\" y=\"-379.8\" font-family=\"Times,serif\" font-size=\"14.00\" fill=\"#000000\">samples = 32527</text>\n<text text-anchor=\"middle\" x=\"4838\" y=\"-364.8\" font-family=\"Times,serif\" font-size=\"14.00\" fill=\"#000000\">value = [3763, 28764]</text>\n<text text-anchor=\"middle\" x=\"4838\" y=\"-349.8\" font-family=\"Times,serif\" font-size=\"14.00\" fill=\"#000000\">class = 입원안함</text>\n</g>\n<!-- 55&#45;&gt;71 -->\n<g id=\"edge71\" class=\"edge\">\n<title>55&#45;&gt;71</title>\n<path fill=\"none\" stroke=\"#000000\" d=\"M4627.3383,-469.3519C4667.0198,-453.1803 4714.6874,-433.7541 4754.6353,-417.474\"/>\n<polygon fill=\"#000000\" stroke=\"#000000\" points=\"4756.1465,-420.6377 4764.0861,-413.6224 4753.5047,-414.1553 4756.1465,-420.6377\"/>\n</g>\n<!-- 57 -->\n<g id=\"node58\" class=\"node\">\n<title>57</title>\n<polygon fill=\"none\" stroke=\"#000000\" points=\"3903.5,-306 3742.5,-306 3742.5,-223 3903.5,-223 3903.5,-306\"/>\n<text text-anchor=\"middle\" x=\"3823\" y=\"-290.8\" font-family=\"Times,serif\" font-size=\"14.00\" fill=\"#000000\">진료과목코드 &lt;= 11.5</text>\n<text text-anchor=\"middle\" x=\"3823\" y=\"-275.8\" font-family=\"Times,serif\" font-size=\"14.00\" fill=\"#000000\">gini = 0.389</text>\n<text text-anchor=\"middle\" x=\"3823\" y=\"-260.8\" font-family=\"Times,serif\" font-size=\"14.00\" fill=\"#000000\">samples = 154436</text>\n<text text-anchor=\"middle\" x=\"3823\" y=\"-245.8\" font-family=\"Times,serif\" font-size=\"14.00\" fill=\"#000000\">value = [40821, 113615]</text>\n<text text-anchor=\"middle\" x=\"3823\" y=\"-230.8\" font-family=\"Times,serif\" font-size=\"14.00\" fill=\"#000000\">class = 입원안함</text>\n</g>\n<!-- 56&#45;&gt;57 -->\n<g id=\"edge57\" class=\"edge\">\n<title>56&#45;&gt;57</title>\n<path fill=\"none\" stroke=\"#000000\" d=\"M4177.7585,-361.3263C4102.7445,-340.8523 3991.4901,-310.487 3913.6269,-289.2353\"/>\n<polygon fill=\"#000000\" stroke=\"#000000\" points=\"3914.3937,-285.8166 3903.825,-286.56 3912.5505,-292.5696 3914.3937,-285.8166\"/>\n</g>\n<!-- 64 -->\n<g id=\"node65\" class=\"node\">\n<title>64</title>\n<polygon fill=\"none\" stroke=\"#000000\" points=\"4329,-306 4189,-306 4189,-223 4329,-223 4329,-306\"/>\n<text text-anchor=\"middle\" x=\"4259\" y=\"-290.8\" font-family=\"Times,serif\" font-size=\"14.00\" fill=\"#000000\">연령대코드 &lt;= 5.0</text>\n<text text-anchor=\"middle\" x=\"4259\" y=\"-275.8\" font-family=\"Times,serif\" font-size=\"14.00\" fill=\"#000000\">gini = 0.098</text>\n<text text-anchor=\"middle\" x=\"4259\" y=\"-260.8\" font-family=\"Times,serif\" font-size=\"14.00\" fill=\"#000000\">samples = 11487</text>\n<text text-anchor=\"middle\" x=\"4259\" y=\"-245.8\" font-family=\"Times,serif\" font-size=\"14.00\" fill=\"#000000\">value = [593, 10894]</text>\n<text text-anchor=\"middle\" x=\"4259\" y=\"-230.8\" font-family=\"Times,serif\" font-size=\"14.00\" fill=\"#000000\">class = 입원안함</text>\n</g>\n<!-- 56&#45;&gt;64 -->\n<g id=\"edge64\" class=\"edge\">\n<title>56&#45;&gt;64</title>\n<path fill=\"none\" stroke=\"#000000\" d=\"M4259,-341.8796C4259,-333.6838 4259,-324.9891 4259,-316.5013\"/>\n<polygon fill=\"#000000\" stroke=\"#000000\" points=\"4262.5001,-316.298 4259,-306.2981 4255.5001,-316.2981 4262.5001,-316.298\"/>\n</g>\n<!-- 58 -->\n<g id=\"node59\" class=\"node\">\n<title>58</title>\n<polygon fill=\"none\" stroke=\"#000000\" points=\"3656,-187 3494,-187 3494,-104 3656,-104 3656,-187\"/>\n<text text-anchor=\"middle\" x=\"3575\" y=\"-171.8\" font-family=\"Times,serif\" font-size=\"14.00\" fill=\"#000000\">주상병코드 &lt;= 2.5</text>\n<text text-anchor=\"middle\" x=\"3575\" y=\"-156.8\" font-family=\"Times,serif\" font-size=\"14.00\" fill=\"#000000\">gini = 0.374</text>\n<text text-anchor=\"middle\" x=\"3575\" y=\"-141.8\" font-family=\"Times,serif\" font-size=\"14.00\" fill=\"#000000\">samples = 143143</text>\n<text text-anchor=\"middle\" x=\"3575\" y=\"-126.8\" font-family=\"Times,serif\" font-size=\"14.00\" fill=\"#000000\">value = [35581, 107562]</text>\n<text text-anchor=\"middle\" x=\"3575\" y=\"-111.8\" font-family=\"Times,serif\" font-size=\"14.00\" fill=\"#000000\">class = 입원안함</text>\n</g>\n<!-- 57&#45;&gt;58 -->\n<g id=\"edge58\" class=\"edge\">\n<title>57&#45;&gt;58</title>\n<path fill=\"none\" stroke=\"#000000\" d=\"M3742.4815,-225.8641C3717.9183,-214.0777 3690.7488,-201.0407 3665.5672,-188.9577\"/>\n<polygon fill=\"#000000\" stroke=\"#000000\" points=\"3666.9182,-185.7239 3656.3883,-184.5532 3663.8899,-192.035 3666.9182,-185.7239\"/>\n</g>\n<!-- 61 -->\n<g id=\"node62\" class=\"node\">\n<title>61</title>\n<polygon fill=\"none\" stroke=\"#000000\" points=\"3897,-187 3749,-187 3749,-104 3897,-104 3897,-187\"/>\n<text text-anchor=\"middle\" x=\"3823\" y=\"-171.8\" font-family=\"Times,serif\" font-size=\"14.00\" fill=\"#000000\">진료과목코드 &lt;= 12.5</text>\n<text text-anchor=\"middle\" x=\"3823\" y=\"-156.8\" font-family=\"Times,serif\" font-size=\"14.00\" fill=\"#000000\">gini = 0.497</text>\n<text text-anchor=\"middle\" x=\"3823\" y=\"-141.8\" font-family=\"Times,serif\" font-size=\"14.00\" fill=\"#000000\">samples = 11293</text>\n<text text-anchor=\"middle\" x=\"3823\" y=\"-126.8\" font-family=\"Times,serif\" font-size=\"14.00\" fill=\"#000000\">value = [5240, 6053]</text>\n<text text-anchor=\"middle\" x=\"3823\" y=\"-111.8\" font-family=\"Times,serif\" font-size=\"14.00\" fill=\"#000000\">class = 입원안함</text>\n</g>\n<!-- 57&#45;&gt;61 -->\n<g id=\"edge61\" class=\"edge\">\n<title>57&#45;&gt;61</title>\n<path fill=\"none\" stroke=\"#000000\" d=\"M3823,-222.8796C3823,-214.6838 3823,-205.9891 3823,-197.5013\"/>\n<polygon fill=\"#000000\" stroke=\"#000000\" points=\"3826.5001,-197.298 3823,-187.2981 3819.5001,-197.2981 3826.5001,-197.298\"/>\n</g>\n<!-- 59 -->\n<g id=\"node60\" class=\"node\">\n<title>59</title>\n<polygon fill=\"none\" stroke=\"#000000\" points=\"3479.5,-68 3332.5,-68 3332.5,0 3479.5,0 3479.5,-68\"/>\n<text text-anchor=\"middle\" x=\"3406\" y=\"-52.8\" font-family=\"Times,serif\" font-size=\"14.00\" fill=\"#000000\">gini = 0.23</text>\n<text text-anchor=\"middle\" x=\"3406\" y=\"-37.8\" font-family=\"Times,serif\" font-size=\"14.00\" fill=\"#000000\">samples = 21447</text>\n<text text-anchor=\"middle\" x=\"3406\" y=\"-22.8\" font-family=\"Times,serif\" font-size=\"14.00\" fill=\"#000000\">value = [2849, 18598]</text>\n<text text-anchor=\"middle\" x=\"3406\" y=\"-7.8\" font-family=\"Times,serif\" font-size=\"14.00\" fill=\"#000000\">class = 입원안함</text>\n</g>\n<!-- 58&#45;&gt;59 -->\n<g id=\"edge59\" class=\"edge\">\n<title>58&#45;&gt;59</title>\n<path fill=\"none\" stroke=\"#000000\" d=\"M3512.0706,-103.9815C3497.0868,-94.0957 3481.1332,-83.5701 3466.2718,-73.7651\"/>\n<polygon fill=\"#000000\" stroke=\"#000000\" points=\"3467.9379,-70.6713 3457.6634,-68.0856 3464.083,-76.5142 3467.9379,-70.6713\"/>\n</g>\n<!-- 60 -->\n<g id=\"node61\" class=\"node\">\n<title>60</title>\n<polygon fill=\"none\" stroke=\"#000000\" points=\"3652.5,-68 3497.5,-68 3497.5,0 3652.5,0 3652.5,-68\"/>\n<text text-anchor=\"middle\" x=\"3575\" y=\"-52.8\" font-family=\"Times,serif\" font-size=\"14.00\" fill=\"#000000\">gini = 0.393</text>\n<text text-anchor=\"middle\" x=\"3575\" y=\"-37.8\" font-family=\"Times,serif\" font-size=\"14.00\" fill=\"#000000\">samples = 121696</text>\n<text text-anchor=\"middle\" x=\"3575\" y=\"-22.8\" font-family=\"Times,serif\" font-size=\"14.00\" fill=\"#000000\">value = [32732, 88964]</text>\n<text text-anchor=\"middle\" x=\"3575\" y=\"-7.8\" font-family=\"Times,serif\" font-size=\"14.00\" fill=\"#000000\">class = 입원안함</text>\n</g>\n<!-- 58&#45;&gt;60 -->\n<g id=\"edge60\" class=\"edge\">\n<title>58&#45;&gt;60</title>\n<path fill=\"none\" stroke=\"#000000\" d=\"M3575,-103.9815C3575,-95.618 3575,-86.7965 3575,-78.3409\"/>\n<polygon fill=\"#000000\" stroke=\"#000000\" points=\"3578.5001,-78.2636 3575,-68.2637 3571.5001,-78.2637 3578.5001,-78.2636\"/>\n</g>\n<!-- 62 -->\n<g id=\"node63\" class=\"node\">\n<title>62</title>\n<polygon fill=\"none\" stroke=\"#000000\" points=\"3811,-68 3671,-68 3671,0 3811,0 3811,-68\"/>\n<text text-anchor=\"middle\" x=\"3741\" y=\"-52.8\" font-family=\"Times,serif\" font-size=\"14.00\" fill=\"#000000\">gini = 0.48</text>\n<text text-anchor=\"middle\" x=\"3741\" y=\"-37.8\" font-family=\"Times,serif\" font-size=\"14.00\" fill=\"#000000\">samples = 3030</text>\n<text text-anchor=\"middle\" x=\"3741\" y=\"-22.8\" font-family=\"Times,serif\" font-size=\"14.00\" fill=\"#000000\">value = [1821, 1209]</text>\n<text text-anchor=\"middle\" x=\"3741\" y=\"-7.8\" font-family=\"Times,serif\" font-size=\"14.00\" fill=\"#000000\">class = 입원함</text>\n</g>\n<!-- 61&#45;&gt;62 -->\n<g id=\"edge62\" class=\"edge\">\n<title>61&#45;&gt;62</title>\n<path fill=\"none\" stroke=\"#000000\" d=\"M3792.4662,-103.9815C3785.8424,-94.9747 3778.8279,-85.4367 3772.1795,-76.3965\"/>\n<polygon fill=\"#000000\" stroke=\"#000000\" points=\"3774.9426,-74.2461 3766.1984,-68.2637 3769.3034,-78.3933 3774.9426,-74.2461\"/>\n</g>\n<!-- 63 -->\n<g id=\"node64\" class=\"node\">\n<title>63</title>\n<polygon fill=\"none\" stroke=\"#000000\" points=\"3969,-68 3829,-68 3829,0 3969,0 3969,-68\"/>\n<text text-anchor=\"middle\" x=\"3899\" y=\"-52.8\" font-family=\"Times,serif\" font-size=\"14.00\" fill=\"#000000\">gini = 0.485</text>\n<text text-anchor=\"middle\" x=\"3899\" y=\"-37.8\" font-family=\"Times,serif\" font-size=\"14.00\" fill=\"#000000\">samples = 8263</text>\n<text text-anchor=\"middle\" x=\"3899\" y=\"-22.8\" font-family=\"Times,serif\" font-size=\"14.00\" fill=\"#000000\">value = [3419, 4844]</text>\n<text text-anchor=\"middle\" x=\"3899\" y=\"-7.8\" font-family=\"Times,serif\" font-size=\"14.00\" fill=\"#000000\">class = 입원안함</text>\n</g>\n<!-- 61&#45;&gt;63 -->\n<g id=\"edge63\" class=\"edge\">\n<title>61&#45;&gt;63</title>\n<path fill=\"none\" stroke=\"#000000\" d=\"M3851.2996,-103.9815C3857.3762,-95.0666 3863.8074,-85.6313 3869.9132,-76.6734\"/>\n<polygon fill=\"#000000\" stroke=\"#000000\" points=\"3872.9052,-78.498 3875.6454,-68.2637 3867.1211,-74.5555 3872.9052,-78.498\"/>\n</g>\n<!-- 65 -->\n<g id=\"node66\" class=\"node\">\n<title>65</title>\n<polygon fill=\"none\" stroke=\"#000000\" points=\"4249.5,-187 4118.5,-187 4118.5,-104 4249.5,-104 4249.5,-187\"/>\n<text text-anchor=\"middle\" x=\"4184\" y=\"-171.8\" font-family=\"Times,serif\" font-size=\"14.00\" fill=\"#000000\">심결가산율 &lt;= 2.5</text>\n<text text-anchor=\"middle\" x=\"4184\" y=\"-156.8\" font-family=\"Times,serif\" font-size=\"14.00\" fill=\"#000000\">gini = 0.359</text>\n<text text-anchor=\"middle\" x=\"4184\" y=\"-141.8\" font-family=\"Times,serif\" font-size=\"14.00\" fill=\"#000000\">samples = 1560</text>\n<text text-anchor=\"middle\" x=\"4184\" y=\"-126.8\" font-family=\"Times,serif\" font-size=\"14.00\" fill=\"#000000\">value = [366, 1194]</text>\n<text text-anchor=\"middle\" x=\"4184\" y=\"-111.8\" font-family=\"Times,serif\" font-size=\"14.00\" fill=\"#000000\">class = 입원안함</text>\n</g>\n<!-- 64&#45;&gt;65 -->\n<g id=\"edge65\" class=\"edge\">\n<title>64&#45;&gt;65</title>\n<path fill=\"none\" stroke=\"#000000\" d=\"M4232.7686,-222.8796C4227.2627,-214.1434 4221.3994,-204.8404 4215.7176,-195.8253\"/>\n<polygon fill=\"#000000\" stroke=\"#000000\" points=\"4218.6363,-193.8919 4210.3433,-187.2981 4212.7143,-197.6242 4218.6363,-193.8919\"/>\n</g>\n<!-- 68 -->\n<g id=\"node69\" class=\"node\">\n<title>68</title>\n<polygon fill=\"none\" stroke=\"#000000\" points=\"4402,-187 4268,-187 4268,-104 4402,-104 4402,-187\"/>\n<text text-anchor=\"middle\" x=\"4335\" y=\"-171.8\" font-family=\"Times,serif\" font-size=\"14.00\" fill=\"#000000\">연령대코드 &lt;= 35.0</text>\n<text text-anchor=\"middle\" x=\"4335\" y=\"-156.8\" font-family=\"Times,serif\" font-size=\"14.00\" fill=\"#000000\">gini = 0.045</text>\n<text text-anchor=\"middle\" x=\"4335\" y=\"-141.8\" font-family=\"Times,serif\" font-size=\"14.00\" fill=\"#000000\">samples = 9927</text>\n<text text-anchor=\"middle\" x=\"4335\" y=\"-126.8\" font-family=\"Times,serif\" font-size=\"14.00\" fill=\"#000000\">value = [227, 9700]</text>\n<text text-anchor=\"middle\" x=\"4335\" y=\"-111.8\" font-family=\"Times,serif\" font-size=\"14.00\" fill=\"#000000\">class = 입원안함</text>\n</g>\n<!-- 64&#45;&gt;68 -->\n<g id=\"edge68\" class=\"edge\">\n<title>64&#45;&gt;68</title>\n<path fill=\"none\" stroke=\"#000000\" d=\"M4285.5811,-222.8796C4291.1605,-214.1434 4297.1019,-204.8404 4302.8595,-195.8253\"/>\n<polygon fill=\"#000000\" stroke=\"#000000\" points=\"4305.8726,-197.6098 4308.3054,-187.2981 4299.9731,-193.8421 4305.8726,-197.6098\"/>\n</g>\n<!-- 66 -->\n<g id=\"node67\" class=\"node\">\n<title>66</title>\n<polygon fill=\"none\" stroke=\"#000000\" points=\"4112.5,-68 3987.5,-68 3987.5,0 4112.5,0 4112.5,-68\"/>\n<text text-anchor=\"middle\" x=\"4050\" y=\"-52.8\" font-family=\"Times,serif\" font-size=\"14.00\" fill=\"#000000\">gini = 0.447</text>\n<text text-anchor=\"middle\" x=\"4050\" y=\"-37.8\" font-family=\"Times,serif\" font-size=\"14.00\" fill=\"#000000\">samples = 1016</text>\n<text text-anchor=\"middle\" x=\"4050\" y=\"-22.8\" font-family=\"Times,serif\" font-size=\"14.00\" fill=\"#000000\">value = [343, 673]</text>\n<text text-anchor=\"middle\" x=\"4050\" y=\"-7.8\" font-family=\"Times,serif\" font-size=\"14.00\" fill=\"#000000\">class = 입원안함</text>\n</g>\n<!-- 65&#45;&gt;66 -->\n<g id=\"edge66\" class=\"edge\">\n<title>65&#45;&gt;66</title>\n<path fill=\"none\" stroke=\"#000000\" d=\"M4134.1033,-103.9815C4122.6162,-94.4232 4110.4103,-84.2668 4098.9633,-74.7419\"/>\n<polygon fill=\"#000000\" stroke=\"#000000\" points=\"4101.1035,-71.9695 4091.1779,-68.2637 4096.6261,-77.3503 4101.1035,-71.9695\"/>\n</g>\n<!-- 67 -->\n<g id=\"node68\" class=\"node\">\n<title>67</title>\n<polygon fill=\"none\" stroke=\"#000000\" points=\"4247.5,-68 4130.5,-68 4130.5,0 4247.5,0 4247.5,-68\"/>\n<text text-anchor=\"middle\" x=\"4189\" y=\"-52.8\" font-family=\"Times,serif\" font-size=\"14.00\" fill=\"#000000\">gini = 0.081</text>\n<text text-anchor=\"middle\" x=\"4189\" y=\"-37.8\" font-family=\"Times,serif\" font-size=\"14.00\" fill=\"#000000\">samples = 544</text>\n<text text-anchor=\"middle\" x=\"4189\" y=\"-22.8\" font-family=\"Times,serif\" font-size=\"14.00\" fill=\"#000000\">value = [23, 521]</text>\n<text text-anchor=\"middle\" x=\"4189\" y=\"-7.8\" font-family=\"Times,serif\" font-size=\"14.00\" fill=\"#000000\">class = 입원안함</text>\n</g>\n<!-- 65&#45;&gt;67 -->\n<g id=\"edge67\" class=\"edge\">\n<title>65&#45;&gt;67</title>\n<path fill=\"none\" stroke=\"#000000\" d=\"M4185.8618,-103.9815C4186.2369,-95.618 4186.6324,-86.7965 4187.0116,-78.3409\"/>\n<polygon fill=\"#000000\" stroke=\"#000000\" points=\"4190.5119,-78.4105 4187.4635,-68.2637 4183.519,-78.0968 4190.5119,-78.4105\"/>\n</g>\n<!-- 69 -->\n<g id=\"node70\" class=\"node\">\n<title>69</title>\n<polygon fill=\"none\" stroke=\"#000000\" points=\"4396.5,-68 4265.5,-68 4265.5,0 4396.5,0 4396.5,-68\"/>\n<text text-anchor=\"middle\" x=\"4331\" y=\"-52.8\" font-family=\"Times,serif\" font-size=\"14.00\" fill=\"#000000\">gini = 0.115</text>\n<text text-anchor=\"middle\" x=\"4331\" y=\"-37.8\" font-family=\"Times,serif\" font-size=\"14.00\" fill=\"#000000\">samples = 1801</text>\n<text text-anchor=\"middle\" x=\"4331\" y=\"-22.8\" font-family=\"Times,serif\" font-size=\"14.00\" fill=\"#000000\">value = [110, 1691]</text>\n<text text-anchor=\"middle\" x=\"4331\" y=\"-7.8\" font-family=\"Times,serif\" font-size=\"14.00\" fill=\"#000000\">class = 입원안함</text>\n</g>\n<!-- 68&#45;&gt;69 -->\n<g id=\"edge69\" class=\"edge\">\n<title>68&#45;&gt;69</title>\n<path fill=\"none\" stroke=\"#000000\" d=\"M4333.5105,-103.9815C4333.2105,-95.618 4332.894,-86.7965 4332.5907,-78.3409\"/>\n<polygon fill=\"#000000\" stroke=\"#000000\" points=\"4336.0855,-78.1317 4332.2292,-68.2637 4329.09,-78.3828 4336.0855,-78.1317\"/>\n</g>\n<!-- 70 -->\n<g id=\"node71\" class=\"node\">\n<title>70</title>\n<polygon fill=\"none\" stroke=\"#000000\" points=\"4545.5,-68 4414.5,-68 4414.5,0 4545.5,0 4545.5,-68\"/>\n<text text-anchor=\"middle\" x=\"4480\" y=\"-52.8\" font-family=\"Times,serif\" font-size=\"14.00\" fill=\"#000000\">gini = 0.028</text>\n<text text-anchor=\"middle\" x=\"4480\" y=\"-37.8\" font-family=\"Times,serif\" font-size=\"14.00\" fill=\"#000000\">samples = 8126</text>\n<text text-anchor=\"middle\" x=\"4480\" y=\"-22.8\" font-family=\"Times,serif\" font-size=\"14.00\" fill=\"#000000\">value = [117, 8009]</text>\n<text text-anchor=\"middle\" x=\"4480\" y=\"-7.8\" font-family=\"Times,serif\" font-size=\"14.00\" fill=\"#000000\">class = 입원안함</text>\n</g>\n<!-- 68&#45;&gt;70 -->\n<g id=\"edge70\" class=\"edge\">\n<title>68&#45;&gt;70</title>\n<path fill=\"none\" stroke=\"#000000\" d=\"M4388.9926,-103.9815C4401.5422,-94.3313 4414.8847,-84.0714 4427.3744,-74.4673\"/>\n<polygon fill=\"#000000\" stroke=\"#000000\" points=\"4429.6481,-77.134 4435.4419,-68.2637 4425.381,-71.585 4429.6481,-77.134\"/>\n</g>\n<!-- 72 -->\n<g id=\"node73\" class=\"node\">\n<title>72</title>\n<polygon fill=\"none\" stroke=\"#000000\" points=\"4911.5,-306 4764.5,-306 4764.5,-223 4911.5,-223 4911.5,-306\"/>\n<text text-anchor=\"middle\" x=\"4838\" y=\"-290.8\" font-family=\"Times,serif\" font-size=\"14.00\" fill=\"#000000\">심결가산율 &lt;= 2.5</text>\n<text text-anchor=\"middle\" x=\"4838\" y=\"-275.8\" font-family=\"Times,serif\" font-size=\"14.00\" fill=\"#000000\">gini = 0.155</text>\n<text text-anchor=\"middle\" x=\"4838\" y=\"-260.8\" font-family=\"Times,serif\" font-size=\"14.00\" fill=\"#000000\">samples = 15300</text>\n<text text-anchor=\"middle\" x=\"4838\" y=\"-245.8\" font-family=\"Times,serif\" font-size=\"14.00\" fill=\"#000000\">value = [1292, 14008]</text>\n<text text-anchor=\"middle\" x=\"4838\" y=\"-230.8\" font-family=\"Times,serif\" font-size=\"14.00\" fill=\"#000000\">class = 입원안함</text>\n</g>\n<!-- 71&#45;&gt;72 -->\n<g id=\"edge72\" class=\"edge\">\n<title>71&#45;&gt;72</title>\n<path fill=\"none\" stroke=\"#000000\" d=\"M4838,-341.8796C4838,-333.6838 4838,-324.9891 4838,-316.5013\"/>\n<polygon fill=\"#000000\" stroke=\"#000000\" points=\"4841.5001,-316.298 4838,-306.2981 4834.5001,-316.2981 4841.5001,-316.298\"/>\n</g>\n<!-- 79 -->\n<g id=\"node80\" class=\"node\">\n<title>79</title>\n<polygon fill=\"none\" stroke=\"#000000\" points=\"5351,-306 5203,-306 5203,-223 5351,-223 5351,-306\"/>\n<text text-anchor=\"middle\" x=\"5277\" y=\"-290.8\" font-family=\"Times,serif\" font-size=\"14.00\" fill=\"#000000\">진료과목코드 &lt;= 22.5</text>\n<text text-anchor=\"middle\" x=\"5277\" y=\"-275.8\" font-family=\"Times,serif\" font-size=\"14.00\" fill=\"#000000\">gini = 0.246</text>\n<text text-anchor=\"middle\" x=\"5277\" y=\"-260.8\" font-family=\"Times,serif\" font-size=\"14.00\" fill=\"#000000\">samples = 17227</text>\n<text text-anchor=\"middle\" x=\"5277\" y=\"-245.8\" font-family=\"Times,serif\" font-size=\"14.00\" fill=\"#000000\">value = [2471, 14756]</text>\n<text text-anchor=\"middle\" x=\"5277\" y=\"-230.8\" font-family=\"Times,serif\" font-size=\"14.00\" fill=\"#000000\">class = 입원안함</text>\n</g>\n<!-- 71&#45;&gt;79 -->\n<g id=\"edge79\" class=\"edge\">\n<title>71&#45;&gt;79</title>\n<path fill=\"none\" stroke=\"#000000\" d=\"M4911.9739,-363.4478C4989.6972,-342.3794 5111.726,-309.3009 5193.0169,-287.2654\"/>\n<polygon fill=\"#000000\" stroke=\"#000000\" points=\"5193.9868,-290.6288 5202.7227,-284.6344 5192.1553,-283.8727 5193.9868,-290.6288\"/>\n</g>\n<!-- 73 -->\n<g id=\"node74\" class=\"node\">\n<title>73</title>\n<polygon fill=\"none\" stroke=\"#000000\" points=\"4825,-187 4693,-187 4693,-104 4825,-104 4825,-187\"/>\n<text text-anchor=\"middle\" x=\"4759\" y=\"-171.8\" font-family=\"Times,serif\" font-size=\"14.00\" fill=\"#000000\">주상병코드 &lt;= 1.5</text>\n<text text-anchor=\"middle\" x=\"4759\" y=\"-156.8\" font-family=\"Times,serif\" font-size=\"14.00\" fill=\"#000000\">gini = 0.085</text>\n<text text-anchor=\"middle\" x=\"4759\" y=\"-141.8\" font-family=\"Times,serif\" font-size=\"14.00\" fill=\"#000000\">samples = 9477</text>\n<text text-anchor=\"middle\" x=\"4759\" y=\"-126.8\" font-family=\"Times,serif\" font-size=\"14.00\" fill=\"#000000\">value = [423, 9054]</text>\n<text text-anchor=\"middle\" x=\"4759\" y=\"-111.8\" font-family=\"Times,serif\" font-size=\"14.00\" fill=\"#000000\">class = 입원안함</text>\n</g>\n<!-- 72&#45;&gt;73 -->\n<g id=\"edge73\" class=\"edge\">\n<title>72&#45;&gt;73</title>\n<path fill=\"none\" stroke=\"#000000\" d=\"M4810.3696,-222.8796C4804.57,-214.1434 4798.3941,-204.8404 4792.4092,-195.8253\"/>\n<polygon fill=\"#000000\" stroke=\"#000000\" points=\"4795.1951,-193.6935 4786.7483,-187.2981 4789.3632,-197.5652 4795.1951,-193.6935\"/>\n</g>\n<!-- 76 -->\n<g id=\"node77\" class=\"node\">\n<title>76</title>\n<polygon fill=\"none\" stroke=\"#000000\" points=\"4991,-187 4843,-187 4843,-104 4991,-104 4991,-187\"/>\n<text text-anchor=\"middle\" x=\"4917\" y=\"-171.8\" font-family=\"Times,serif\" font-size=\"14.00\" fill=\"#000000\">진료과목코드 &lt;= 23.5</text>\n<text text-anchor=\"middle\" x=\"4917\" y=\"-156.8\" font-family=\"Times,serif\" font-size=\"14.00\" fill=\"#000000\">gini = 0.254</text>\n<text text-anchor=\"middle\" x=\"4917\" y=\"-141.8\" font-family=\"Times,serif\" font-size=\"14.00\" fill=\"#000000\">samples = 5823</text>\n<text text-anchor=\"middle\" x=\"4917\" y=\"-126.8\" font-family=\"Times,serif\" font-size=\"14.00\" fill=\"#000000\">value = [869, 4954]</text>\n<text text-anchor=\"middle\" x=\"4917\" y=\"-111.8\" font-family=\"Times,serif\" font-size=\"14.00\" fill=\"#000000\">class = 입원안함</text>\n</g>\n<!-- 72&#45;&gt;76 -->\n<g id=\"edge76\" class=\"edge\">\n<title>72&#45;&gt;76</title>\n<path fill=\"none\" stroke=\"#000000\" d=\"M4865.6304,-222.8796C4871.43,-214.1434 4877.6059,-204.8404 4883.5908,-195.8253\"/>\n<polygon fill=\"#000000\" stroke=\"#000000\" points=\"4886.6368,-197.5652 4889.2517,-187.2981 4880.8049,-193.6935 4886.6368,-197.5652\"/>\n</g>\n<!-- 74 -->\n<g id=\"node75\" class=\"node\">\n<title>74</title>\n<polygon fill=\"none\" stroke=\"#000000\" points=\"4680.5,-68 4563.5,-68 4563.5,0 4680.5,0 4680.5,-68\"/>\n<text text-anchor=\"middle\" x=\"4622\" y=\"-52.8\" font-family=\"Times,serif\" font-size=\"14.00\" fill=\"#000000\">gini = 0.291</text>\n<text text-anchor=\"middle\" x=\"4622\" y=\"-37.8\" font-family=\"Times,serif\" font-size=\"14.00\" fill=\"#000000\">samples = 334</text>\n<text text-anchor=\"middle\" x=\"4622\" y=\"-22.8\" font-family=\"Times,serif\" font-size=\"14.00\" fill=\"#000000\">value = [59, 275]</text>\n<text text-anchor=\"middle\" x=\"4622\" y=\"-7.8\" font-family=\"Times,serif\" font-size=\"14.00\" fill=\"#000000\">class = 입원안함</text>\n</g>\n<!-- 73&#45;&gt;74 -->\n<g id=\"edge74\" class=\"edge\">\n<title>73&#45;&gt;74</title>\n<path fill=\"none\" stroke=\"#000000\" d=\"M4707.9863,-103.9815C4696.242,-94.4232 4683.7628,-84.2668 4672.0595,-74.7419\"/>\n<polygon fill=\"#000000\" stroke=\"#000000\" points=\"4674.065,-71.8614 4664.0998,-68.2637 4669.6464,-77.2906 4674.065,-71.8614\"/>\n</g>\n<!-- 75 -->\n<g id=\"node76\" class=\"node\">\n<title>75</title>\n<polygon fill=\"none\" stroke=\"#000000\" points=\"4831,-68 4699,-68 4699,0 4831,0 4831,-68\"/>\n<text text-anchor=\"middle\" x=\"4765\" y=\"-52.8\" font-family=\"Times,serif\" font-size=\"14.00\" fill=\"#000000\">gini = 0.076</text>\n<text text-anchor=\"middle\" x=\"4765\" y=\"-37.8\" font-family=\"Times,serif\" font-size=\"14.00\" fill=\"#000000\">samples = 9143</text>\n<text text-anchor=\"middle\" x=\"4765\" y=\"-22.8\" font-family=\"Times,serif\" font-size=\"14.00\" fill=\"#000000\">value = [364, 8779]</text>\n<text text-anchor=\"middle\" x=\"4765\" y=\"-7.8\" font-family=\"Times,serif\" font-size=\"14.00\" fill=\"#000000\">class = 입원안함</text>\n</g>\n<!-- 73&#45;&gt;75 -->\n<g id=\"edge75\" class=\"edge\">\n<title>73&#45;&gt;75</title>\n<path fill=\"none\" stroke=\"#000000\" d=\"M4761.2342,-103.9815C4761.6842,-95.618 4762.1589,-86.7965 4762.6139,-78.3409\"/>\n<polygon fill=\"#000000\" stroke=\"#000000\" points=\"4766.1137,-78.4373 4763.1562,-68.2637 4759.1238,-78.0611 4766.1137,-78.4373\"/>\n</g>\n<!-- 77 -->\n<g id=\"node78\" class=\"node\">\n<title>77</title>\n<polygon fill=\"none\" stroke=\"#000000\" points=\"4974.5,-68 4849.5,-68 4849.5,0 4974.5,0 4974.5,-68\"/>\n<text text-anchor=\"middle\" x=\"4912\" y=\"-52.8\" font-family=\"Times,serif\" font-size=\"14.00\" fill=\"#000000\">gini = 0.486</text>\n<text text-anchor=\"middle\" x=\"4912\" y=\"-37.8\" font-family=\"Times,serif\" font-size=\"14.00\" fill=\"#000000\">samples = 1528</text>\n<text text-anchor=\"middle\" x=\"4912\" y=\"-22.8\" font-family=\"Times,serif\" font-size=\"14.00\" fill=\"#000000\">value = [635, 893]</text>\n<text text-anchor=\"middle\" x=\"4912\" y=\"-7.8\" font-family=\"Times,serif\" font-size=\"14.00\" fill=\"#000000\">class = 입원안함</text>\n</g>\n<!-- 76&#45;&gt;77 -->\n<g id=\"edge77\" class=\"edge\">\n<title>76&#45;&gt;77</title>\n<path fill=\"none\" stroke=\"#000000\" d=\"M4915.1382,-103.9815C4914.7631,-95.618 4914.3676,-86.7965 4913.9884,-78.3409\"/>\n<polygon fill=\"#000000\" stroke=\"#000000\" points=\"4917.481,-78.0968 4913.5365,-68.2637 4910.4881,-78.4105 4917.481,-78.0968\"/>\n</g>\n<!-- 78 -->\n<g id=\"node79\" class=\"node\">\n<title>78</title>\n<polygon fill=\"none\" stroke=\"#000000\" points=\"5125,-68 4993,-68 4993,0 5125,0 5125,-68\"/>\n<text text-anchor=\"middle\" x=\"5059\" y=\"-52.8\" font-family=\"Times,serif\" font-size=\"14.00\" fill=\"#000000\">gini = 0.103</text>\n<text text-anchor=\"middle\" x=\"5059\" y=\"-37.8\" font-family=\"Times,serif\" font-size=\"14.00\" fill=\"#000000\">samples = 4295</text>\n<text text-anchor=\"middle\" x=\"5059\" y=\"-22.8\" font-family=\"Times,serif\" font-size=\"14.00\" fill=\"#000000\">value = [234, 4061]</text>\n<text text-anchor=\"middle\" x=\"5059\" y=\"-7.8\" font-family=\"Times,serif\" font-size=\"14.00\" fill=\"#000000\">class = 입원안함</text>\n</g>\n<!-- 76&#45;&gt;78 -->\n<g id=\"edge78\" class=\"edge\">\n<title>76&#45;&gt;78</title>\n<path fill=\"none\" stroke=\"#000000\" d=\"M4969.8756,-103.9815C4982.1655,-94.3313 4995.2319,-84.0714 5007.4632,-74.4673\"/>\n<polygon fill=\"#000000\" stroke=\"#000000\" points=\"5009.6602,-77.1923 5015.3638,-68.2637 5005.3371,-71.6867 5009.6602,-77.1923\"/>\n</g>\n<!-- 80 -->\n<g id=\"node81\" class=\"node\">\n<title>80</title>\n<polygon fill=\"none\" stroke=\"#000000\" points=\"5342.5,-187 5211.5,-187 5211.5,-104 5342.5,-104 5342.5,-187\"/>\n<text text-anchor=\"middle\" x=\"5277\" y=\"-171.8\" font-family=\"Times,serif\" font-size=\"14.00\" fill=\"#000000\">심결가산율 &lt;= 2.5</text>\n<text text-anchor=\"middle\" x=\"5277\" y=\"-156.8\" font-family=\"Times,serif\" font-size=\"14.00\" fill=\"#000000\">gini = 0.363</text>\n<text text-anchor=\"middle\" x=\"5277\" y=\"-141.8\" font-family=\"Times,serif\" font-size=\"14.00\" fill=\"#000000\">samples = 2779</text>\n<text text-anchor=\"middle\" x=\"5277\" y=\"-126.8\" font-family=\"Times,serif\" font-size=\"14.00\" fill=\"#000000\">value = [663, 2116]</text>\n<text text-anchor=\"middle\" x=\"5277\" y=\"-111.8\" font-family=\"Times,serif\" font-size=\"14.00\" fill=\"#000000\">class = 입원안함</text>\n</g>\n<!-- 79&#45;&gt;80 -->\n<g id=\"edge80\" class=\"edge\">\n<title>79&#45;&gt;80</title>\n<path fill=\"none\" stroke=\"#000000\" d=\"M5277,-222.8796C5277,-214.6838 5277,-205.9891 5277,-197.5013\"/>\n<polygon fill=\"#000000\" stroke=\"#000000\" points=\"5280.5001,-197.298 5277,-187.2981 5273.5001,-197.2981 5280.5001,-197.298\"/>\n</g>\n<!-- 83 -->\n<g id=\"node84\" class=\"node\">\n<title>83</title>\n<polygon fill=\"none\" stroke=\"#000000\" points=\"5575.5,-187 5428.5,-187 5428.5,-104 5575.5,-104 5575.5,-187\"/>\n<text text-anchor=\"middle\" x=\"5502\" y=\"-171.8\" font-family=\"Times,serif\" font-size=\"14.00\" fill=\"#000000\">주상병코드 &lt;= 11.5</text>\n<text text-anchor=\"middle\" x=\"5502\" y=\"-156.8\" font-family=\"Times,serif\" font-size=\"14.00\" fill=\"#000000\">gini = 0.219</text>\n<text text-anchor=\"middle\" x=\"5502\" y=\"-141.8\" font-family=\"Times,serif\" font-size=\"14.00\" fill=\"#000000\">samples = 14448</text>\n<text text-anchor=\"middle\" x=\"5502\" y=\"-126.8\" font-family=\"Times,serif\" font-size=\"14.00\" fill=\"#000000\">value = [1808, 12640]</text>\n<text text-anchor=\"middle\" x=\"5502\" y=\"-111.8\" font-family=\"Times,serif\" font-size=\"14.00\" fill=\"#000000\">class = 입원안함</text>\n</g>\n<!-- 79&#45;&gt;83 -->\n<g id=\"edge83\" class=\"edge\">\n<title>79&#45;&gt;83</title>\n<path fill=\"none\" stroke=\"#000000\" d=\"M5351.297,-225.2052C5373.01,-213.7214 5396.8774,-201.0982 5419.0885,-189.351\"/>\n<polygon fill=\"#000000\" stroke=\"#000000\" points=\"5420.9613,-192.3199 5428.1647,-184.5507 5417.6886,-186.132 5420.9613,-192.3199\"/>\n</g>\n<!-- 81 -->\n<g id=\"node82\" class=\"node\">\n<title>81</title>\n<polygon fill=\"none\" stroke=\"#000000\" points=\"5275,-68 5143,-68 5143,0 5275,0 5275,-68\"/>\n<text text-anchor=\"middle\" x=\"5209\" y=\"-52.8\" font-family=\"Times,serif\" font-size=\"14.00\" fill=\"#000000\">gini = 0.249</text>\n<text text-anchor=\"middle\" x=\"5209\" y=\"-37.8\" font-family=\"Times,serif\" font-size=\"14.00\" fill=\"#000000\">samples = 1984</text>\n<text text-anchor=\"middle\" x=\"5209\" y=\"-22.8\" font-family=\"Times,serif\" font-size=\"14.00\" fill=\"#000000\">value = [289, 1695]</text>\n<text text-anchor=\"middle\" x=\"5209\" y=\"-7.8\" font-family=\"Times,serif\" font-size=\"14.00\" fill=\"#000000\">class = 입원안함</text>\n</g>\n<!-- 80&#45;&gt;81 -->\n<g id=\"edge81\" class=\"edge\">\n<title>80&#45;&gt;81</title>\n<path fill=\"none\" stroke=\"#000000\" d=\"M5251.6793,-103.9815C5246.2984,-95.1585 5240.6068,-85.8258 5235.1941,-76.9506\"/>\n<polygon fill=\"#000000\" stroke=\"#000000\" points=\"5238.0912,-74.9789 5229.8962,-68.2637 5232.1149,-78.6236 5238.0912,-74.9789\"/>\n</g>\n<!-- 82 -->\n<g id=\"node83\" class=\"node\">\n<title>82</title>\n<polygon fill=\"none\" stroke=\"#000000\" points=\"5418.5,-68 5293.5,-68 5293.5,0 5418.5,0 5418.5,-68\"/>\n<text text-anchor=\"middle\" x=\"5356\" y=\"-52.8\" font-family=\"Times,serif\" font-size=\"14.00\" fill=\"#000000\">gini = 0.498</text>\n<text text-anchor=\"middle\" x=\"5356\" y=\"-37.8\" font-family=\"Times,serif\" font-size=\"14.00\" fill=\"#000000\">samples = 795</text>\n<text text-anchor=\"middle\" x=\"5356\" y=\"-22.8\" font-family=\"Times,serif\" font-size=\"14.00\" fill=\"#000000\">value = [374, 421]</text>\n<text text-anchor=\"middle\" x=\"5356\" y=\"-7.8\" font-family=\"Times,serif\" font-size=\"14.00\" fill=\"#000000\">class = 입원안함</text>\n</g>\n<!-- 80&#45;&gt;82 -->\n<g id=\"edge82\" class=\"edge\">\n<title>80&#45;&gt;82</title>\n<path fill=\"none\" stroke=\"#000000\" d=\"M5306.4167,-103.9815C5312.7331,-95.0666 5319.4182,-85.6313 5325.7651,-76.6734\"/>\n<polygon fill=\"#000000\" stroke=\"#000000\" points=\"5328.7981,-78.4466 5331.7235,-68.2637 5323.0864,-74.3998 5328.7981,-78.4466\"/>\n</g>\n<!-- 84 -->\n<g id=\"node85\" class=\"node\">\n<title>84</title>\n<polygon fill=\"none\" stroke=\"#000000\" points=\"5567.5,-68 5436.5,-68 5436.5,0 5567.5,0 5567.5,-68\"/>\n<text text-anchor=\"middle\" x=\"5502\" y=\"-52.8\" font-family=\"Times,serif\" font-size=\"14.00\" fill=\"#000000\">gini = 0.304</text>\n<text text-anchor=\"middle\" x=\"5502\" y=\"-37.8\" font-family=\"Times,serif\" font-size=\"14.00\" fill=\"#000000\">samples = 3836</text>\n<text text-anchor=\"middle\" x=\"5502\" y=\"-22.8\" font-family=\"Times,serif\" font-size=\"14.00\" fill=\"#000000\">value = [718, 3118]</text>\n<text text-anchor=\"middle\" x=\"5502\" y=\"-7.8\" font-family=\"Times,serif\" font-size=\"14.00\" fill=\"#000000\">class = 입원안함</text>\n</g>\n<!-- 83&#45;&gt;84 -->\n<g id=\"edge84\" class=\"edge\">\n<title>83&#45;&gt;84</title>\n<path fill=\"none\" stroke=\"#000000\" d=\"M5502,-103.9815C5502,-95.618 5502,-86.7965 5502,-78.3409\"/>\n<polygon fill=\"#000000\" stroke=\"#000000\" points=\"5505.5001,-78.2636 5502,-68.2637 5498.5001,-78.2637 5505.5001,-78.2636\"/>\n</g>\n<!-- 85 -->\n<g id=\"node86\" class=\"node\">\n<title>85</title>\n<polygon fill=\"none\" stroke=\"#000000\" points=\"5726,-68 5586,-68 5586,0 5726,0 5726,-68\"/>\n<text text-anchor=\"middle\" x=\"5656\" y=\"-52.8\" font-family=\"Times,serif\" font-size=\"14.00\" fill=\"#000000\">gini = 0.184</text>\n<text text-anchor=\"middle\" x=\"5656\" y=\"-37.8\" font-family=\"Times,serif\" font-size=\"14.00\" fill=\"#000000\">samples = 10612</text>\n<text text-anchor=\"middle\" x=\"5656\" y=\"-22.8\" font-family=\"Times,serif\" font-size=\"14.00\" fill=\"#000000\">value = [1090, 9522]</text>\n<text text-anchor=\"middle\" x=\"5656\" y=\"-7.8\" font-family=\"Times,serif\" font-size=\"14.00\" fill=\"#000000\">class = 입원안함</text>\n</g>\n<!-- 83&#45;&gt;85 -->\n<g id=\"edge85\" class=\"edge\">\n<title>83&#45;&gt;85</title>\n<path fill=\"none\" stroke=\"#000000\" d=\"M5559.3439,-103.9815C5572.7994,-94.2394 5587.1131,-83.8759 5600.4867,-74.193\"/>\n<polygon fill=\"#000000\" stroke=\"#000000\" points=\"5602.6289,-76.9632 5608.6762,-68.2637 5598.5237,-71.2933 5602.6289,-76.9632\"/>\n</g>\n<!-- 87 -->\n<g id=\"node88\" class=\"node\">\n<title>87</title>\n<polygon fill=\"none\" stroke=\"#000000\" points=\"6391,-425 6245,-425 6245,-342 6391,-342 6391,-425\"/>\n<text text-anchor=\"middle\" x=\"6318\" y=\"-409.8\" font-family=\"Times,serif\" font-size=\"14.00\" fill=\"#000000\">주상병코드 &lt;= 9.5</text>\n<text text-anchor=\"middle\" x=\"6318\" y=\"-394.8\" font-family=\"Times,serif\" font-size=\"14.00\" fill=\"#000000\">gini = 0.072</text>\n<text text-anchor=\"middle\" x=\"6318\" y=\"-379.8\" font-family=\"Times,serif\" font-size=\"14.00\" fill=\"#000000\">samples = 30916</text>\n<text text-anchor=\"middle\" x=\"6318\" y=\"-364.8\" font-family=\"Times,serif\" font-size=\"14.00\" fill=\"#000000\">value = [1152, 29764]</text>\n<text text-anchor=\"middle\" x=\"6318\" y=\"-349.8\" font-family=\"Times,serif\" font-size=\"14.00\" fill=\"#000000\">class = 입원안함</text>\n</g>\n<!-- 86&#45;&gt;87 -->\n<g id=\"edge87\" class=\"edge\">\n<title>86&#45;&gt;87</title>\n<path fill=\"none\" stroke=\"#000000\" d=\"M6318,-460.8796C6318,-452.6838 6318,-443.9891 6318,-435.5013\"/>\n<polygon fill=\"#000000\" stroke=\"#000000\" points=\"6321.5001,-435.298 6318,-425.2981 6314.5001,-435.2981 6321.5001,-435.298\"/>\n</g>\n<!-- 102 -->\n<g id=\"node103\" class=\"node\">\n<title>102</title>\n<polygon fill=\"none\" stroke=\"#000000\" points=\"7280,-425 7134,-425 7134,-342 7280,-342 7280,-425\"/>\n<text text-anchor=\"middle\" x=\"7207\" y=\"-409.8\" font-family=\"Times,serif\" font-size=\"14.00\" fill=\"#000000\">요일 &lt;= 4.5</text>\n<text text-anchor=\"middle\" x=\"7207\" y=\"-394.8\" font-family=\"Times,serif\" font-size=\"14.00\" fill=\"#000000\">gini = 0.31</text>\n<text text-anchor=\"middle\" x=\"7207\" y=\"-379.8\" font-family=\"Times,serif\" font-size=\"14.00\" fill=\"#000000\">samples = 14698</text>\n<text text-anchor=\"middle\" x=\"7207\" y=\"-364.8\" font-family=\"Times,serif\" font-size=\"14.00\" fill=\"#000000\">value = [2817, 11881]</text>\n<text text-anchor=\"middle\" x=\"7207\" y=\"-349.8\" font-family=\"Times,serif\" font-size=\"14.00\" fill=\"#000000\">class = 입원안함</text>\n</g>\n<!-- 86&#45;&gt;102 -->\n<g id=\"edge102\" class=\"edge\">\n<title>86&#45;&gt;102</title>\n<path fill=\"none\" stroke=\"#000000\" d=\"M6391.5069,-492.6605C6555.5755,-470.6986 6950.7626,-417.7995 7123.6551,-394.6564\"/>\n<polygon fill=\"#000000\" stroke=\"#000000\" points=\"7124.2718,-398.1052 7133.7191,-393.3093 7123.3431,-391.167 7124.2718,-398.1052\"/>\n</g>\n<!-- 88 -->\n<g id=\"node89\" class=\"node\">\n<title>88</title>\n<polygon fill=\"none\" stroke=\"#000000\" points=\"6247,-306 6107,-306 6107,-223 6247,-223 6247,-306\"/>\n<text text-anchor=\"middle\" x=\"6177\" y=\"-290.8\" font-family=\"Times,serif\" font-size=\"14.00\" fill=\"#000000\">진료과목코드 &lt;= 3.5</text>\n<text text-anchor=\"middle\" x=\"6177\" y=\"-275.8\" font-family=\"Times,serif\" font-size=\"14.00\" fill=\"#000000\">gini = 0.045</text>\n<text text-anchor=\"middle\" x=\"6177\" y=\"-260.8\" font-family=\"Times,serif\" font-size=\"14.00\" fill=\"#000000\">samples = 25467</text>\n<text text-anchor=\"middle\" x=\"6177\" y=\"-245.8\" font-family=\"Times,serif\" font-size=\"14.00\" fill=\"#000000\">value = [581, 24886]</text>\n<text text-anchor=\"middle\" x=\"6177\" y=\"-230.8\" font-family=\"Times,serif\" font-size=\"14.00\" fill=\"#000000\">class = 입원안함</text>\n</g>\n<!-- 87&#45;&gt;88 -->\n<g id=\"edge88\" class=\"edge\">\n<title>87&#45;&gt;88</title>\n<path fill=\"none\" stroke=\"#000000\" d=\"M6268.685,-341.8796C6257.5868,-332.513 6245.7165,-322.4948 6234.3223,-312.8784\"/>\n<polygon fill=\"#000000\" stroke=\"#000000\" points=\"6236.425,-310.0731 6226.5254,-306.2981 6231.9101,-315.4225 6236.425,-310.0731\"/>\n</g>\n<!-- 95 -->\n<g id=\"node96\" class=\"node\">\n<title>95</title>\n<polygon fill=\"none\" stroke=\"#000000\" points=\"6534,-306 6400,-306 6400,-223 6534,-223 6534,-306\"/>\n<text text-anchor=\"middle\" x=\"6467\" y=\"-290.8\" font-family=\"Times,serif\" font-size=\"14.00\" fill=\"#000000\">주상병코드 &lt;= 12.5</text>\n<text text-anchor=\"middle\" x=\"6467\" y=\"-275.8\" font-family=\"Times,serif\" font-size=\"14.00\" fill=\"#000000\">gini = 0.188</text>\n<text text-anchor=\"middle\" x=\"6467\" y=\"-260.8\" font-family=\"Times,serif\" font-size=\"14.00\" fill=\"#000000\">samples = 5449</text>\n<text text-anchor=\"middle\" x=\"6467\" y=\"-245.8\" font-family=\"Times,serif\" font-size=\"14.00\" fill=\"#000000\">value = [571, 4878]</text>\n<text text-anchor=\"middle\" x=\"6467\" y=\"-230.8\" font-family=\"Times,serif\" font-size=\"14.00\" fill=\"#000000\">class = 입원안함</text>\n</g>\n<!-- 87&#45;&gt;95 -->\n<g id=\"edge95\" class=\"edge\">\n<title>87&#45;&gt;95</title>\n<path fill=\"none\" stroke=\"#000000\" d=\"M6370.113,-341.8796C6382.0225,-332.368 6394.7734,-322.1843 6406.9844,-312.432\"/>\n<polygon fill=\"#000000\" stroke=\"#000000\" points=\"6409.2868,-315.0724 6414.9165,-306.0969 6404.9184,-309.6027 6409.2868,-315.0724\"/>\n</g>\n<!-- 89 -->\n<g id=\"node90\" class=\"node\">\n<title>89</title>\n<polygon fill=\"none\" stroke=\"#000000\" points=\"6026,-187 5894,-187 5894,-104 6026,-104 6026,-187\"/>\n<text text-anchor=\"middle\" x=\"5960\" y=\"-171.8\" font-family=\"Times,serif\" font-size=\"14.00\" fill=\"#000000\">주상병코드 &lt;= 6.5</text>\n<text text-anchor=\"middle\" x=\"5960\" y=\"-156.8\" font-family=\"Times,serif\" font-size=\"14.00\" fill=\"#000000\">gini = 0.079</text>\n<text text-anchor=\"middle\" x=\"5960\" y=\"-141.8\" font-family=\"Times,serif\" font-size=\"14.00\" fill=\"#000000\">samples = 8669</text>\n<text text-anchor=\"middle\" x=\"5960\" y=\"-126.8\" font-family=\"Times,serif\" font-size=\"14.00\" fill=\"#000000\">value = [359, 8310]</text>\n<text text-anchor=\"middle\" x=\"5960\" y=\"-111.8\" font-family=\"Times,serif\" font-size=\"14.00\" fill=\"#000000\">class = 입원안함</text>\n</g>\n<!-- 88&#45;&gt;89 -->\n<g id=\"edge89\" class=\"edge\">\n<title>88&#45;&gt;89</title>\n<path fill=\"none\" stroke=\"#000000\" d=\"M6106.846,-226.0284C6083.8978,-213.4439 6058.3231,-199.4191 6035.0299,-186.6454\"/>\n<polygon fill=\"#000000\" stroke=\"#000000\" points=\"6036.6756,-183.5562 6026.2245,-181.8167 6033.3097,-189.6939 6036.6756,-183.5562\"/>\n</g>\n<!-- 92 -->\n<g id=\"node93\" class=\"node\">\n<title>92</title>\n<polygon fill=\"none\" stroke=\"#000000\" points=\"6247,-187 6107,-187 6107,-104 6247,-104 6247,-187\"/>\n<text text-anchor=\"middle\" x=\"6177\" y=\"-171.8\" font-family=\"Times,serif\" font-size=\"14.00\" fill=\"#000000\">요일 &lt;= 3.5</text>\n<text text-anchor=\"middle\" x=\"6177\" y=\"-156.8\" font-family=\"Times,serif\" font-size=\"14.00\" fill=\"#000000\">gini = 0.026</text>\n<text text-anchor=\"middle\" x=\"6177\" y=\"-141.8\" font-family=\"Times,serif\" font-size=\"14.00\" fill=\"#000000\">samples = 16798</text>\n<text text-anchor=\"middle\" x=\"6177\" y=\"-126.8\" font-family=\"Times,serif\" font-size=\"14.00\" fill=\"#000000\">value = [222, 16576]</text>\n<text text-anchor=\"middle\" x=\"6177\" y=\"-111.8\" font-family=\"Times,serif\" font-size=\"14.00\" fill=\"#000000\">class = 입원안함</text>\n</g>\n<!-- 88&#45;&gt;92 -->\n<g id=\"edge92\" class=\"edge\">\n<title>88&#45;&gt;92</title>\n<path fill=\"none\" stroke=\"#000000\" d=\"M6177,-222.8796C6177,-214.6838 6177,-205.9891 6177,-197.5013\"/>\n<polygon fill=\"#000000\" stroke=\"#000000\" points=\"6180.5001,-197.298 6177,-187.2981 6173.5001,-197.2981 6180.5001,-197.298\"/>\n</g>\n<!-- 90 -->\n<g id=\"node91\" class=\"node\">\n<title>90</title>\n<polygon fill=\"none\" stroke=\"#000000\" points=\"5876,-68 5744,-68 5744,0 5876,0 5876,-68\"/>\n<text text-anchor=\"middle\" x=\"5810\" y=\"-52.8\" font-family=\"Times,serif\" font-size=\"14.00\" fill=\"#000000\">gini = 0.06</text>\n<text text-anchor=\"middle\" x=\"5810\" y=\"-37.8\" font-family=\"Times,serif\" font-size=\"14.00\" fill=\"#000000\">samples = 6254</text>\n<text text-anchor=\"middle\" x=\"5810\" y=\"-22.8\" font-family=\"Times,serif\" font-size=\"14.00\" fill=\"#000000\">value = [194, 6060]</text>\n<text text-anchor=\"middle\" x=\"5810\" y=\"-7.8\" font-family=\"Times,serif\" font-size=\"14.00\" fill=\"#000000\">class = 입원안함</text>\n</g>\n<!-- 89&#45;&gt;90 -->\n<g id=\"edge90\" class=\"edge\">\n<title>89&#45;&gt;90</title>\n<path fill=\"none\" stroke=\"#000000\" d=\"M5904.1455,-103.9815C5891.1632,-94.3313 5877.3606,-84.0714 5864.4403,-74.4673\"/>\n<polygon fill=\"#000000\" stroke=\"#000000\" points=\"5866.2083,-71.4204 5856.0946,-68.2637 5862.0322,-77.0384 5866.2083,-71.4204\"/>\n</g>\n<!-- 91 -->\n<g id=\"node92\" class=\"node\">\n<title>91</title>\n<polygon fill=\"none\" stroke=\"#000000\" points=\"6026,-68 5894,-68 5894,0 6026,0 6026,-68\"/>\n<text text-anchor=\"middle\" x=\"5960\" y=\"-52.8\" font-family=\"Times,serif\" font-size=\"14.00\" fill=\"#000000\">gini = 0.127</text>\n<text text-anchor=\"middle\" x=\"5960\" y=\"-37.8\" font-family=\"Times,serif\" font-size=\"14.00\" fill=\"#000000\">samples = 2415</text>\n<text text-anchor=\"middle\" x=\"5960\" y=\"-22.8\" font-family=\"Times,serif\" font-size=\"14.00\" fill=\"#000000\">value = [165, 2250]</text>\n<text text-anchor=\"middle\" x=\"5960\" y=\"-7.8\" font-family=\"Times,serif\" font-size=\"14.00\" fill=\"#000000\">class = 입원안함</text>\n</g>\n<!-- 89&#45;&gt;91 -->\n<g id=\"edge91\" class=\"edge\">\n<title>89&#45;&gt;91</title>\n<path fill=\"none\" stroke=\"#000000\" d=\"M5960,-103.9815C5960,-95.618 5960,-86.7965 5960,-78.3409\"/>\n<polygon fill=\"#000000\" stroke=\"#000000\" points=\"5963.5001,-78.2636 5960,-68.2637 5956.5001,-78.2637 5963.5001,-78.2636\"/>\n</g>\n<!-- 93 -->\n<g id=\"node94\" class=\"node\">\n<title>93</title>\n<polygon fill=\"none\" stroke=\"#000000\" points=\"6176,-68 6044,-68 6044,0 6176,0 6176,-68\"/>\n<text text-anchor=\"middle\" x=\"6110\" y=\"-52.8\" font-family=\"Times,serif\" font-size=\"14.00\" fill=\"#000000\">gini = 0.038</text>\n<text text-anchor=\"middle\" x=\"6110\" y=\"-37.8\" font-family=\"Times,serif\" font-size=\"14.00\" fill=\"#000000\">samples = 9026</text>\n<text text-anchor=\"middle\" x=\"6110\" y=\"-22.8\" font-family=\"Times,serif\" font-size=\"14.00\" fill=\"#000000\">value = [176, 8850]</text>\n<text text-anchor=\"middle\" x=\"6110\" y=\"-7.8\" font-family=\"Times,serif\" font-size=\"14.00\" fill=\"#000000\">class = 입원안함</text>\n</g>\n<!-- 92&#45;&gt;93 -->\n<g id=\"edge93\" class=\"edge\">\n<title>92&#45;&gt;93</title>\n<path fill=\"none\" stroke=\"#000000\" d=\"M6152.0517,-103.9815C6146.7499,-95.1585 6141.1419,-85.8258 6135.8089,-76.9506\"/>\n<polygon fill=\"#000000\" stroke=\"#000000\" points=\"6138.7396,-75.0325 6130.5889,-68.2637 6132.7395,-78.638 6138.7396,-75.0325\"/>\n</g>\n<!-- 94 -->\n<g id=\"node95\" class=\"node\">\n<title>94</title>\n<polygon fill=\"none\" stroke=\"#000000\" points=\"6319.5,-68 6194.5,-68 6194.5,0 6319.5,0 6319.5,-68\"/>\n<text text-anchor=\"middle\" x=\"6257\" y=\"-52.8\" font-family=\"Times,serif\" font-size=\"14.00\" fill=\"#000000\">gini = 0.012</text>\n<text text-anchor=\"middle\" x=\"6257\" y=\"-37.8\" font-family=\"Times,serif\" font-size=\"14.00\" fill=\"#000000\">samples = 7772</text>\n<text text-anchor=\"middle\" x=\"6257\" y=\"-22.8\" font-family=\"Times,serif\" font-size=\"14.00\" fill=\"#000000\">value = [46, 7726]</text>\n<text text-anchor=\"middle\" x=\"6257\" y=\"-7.8\" font-family=\"Times,serif\" font-size=\"14.00\" fill=\"#000000\">class = 입원안함</text>\n</g>\n<!-- 92&#45;&gt;94 -->\n<g id=\"edge94\" class=\"edge\">\n<title>92&#45;&gt;94</title>\n<path fill=\"none\" stroke=\"#000000\" d=\"M6206.789,-103.9815C6213.2514,-94.9747 6220.0948,-85.4367 6226.581,-76.3965\"/>\n<polygon fill=\"#000000\" stroke=\"#000000\" points=\"6229.4303,-78.4291 6232.4162,-68.2637 6223.7428,-74.3483 6229.4303,-78.4291\"/>\n</g>\n<!-- 96 -->\n<g id=\"node97\" class=\"node\">\n<title>96</title>\n<polygon fill=\"none\" stroke=\"#000000\" points=\"6533,-187 6401,-187 6401,-104 6533,-104 6533,-187\"/>\n<text text-anchor=\"middle\" x=\"6467\" y=\"-171.8\" font-family=\"Times,serif\" font-size=\"14.00\" fill=\"#000000\">부상병코드 &lt;= 8.5</text>\n<text text-anchor=\"middle\" x=\"6467\" y=\"-156.8\" font-family=\"Times,serif\" font-size=\"14.00\" fill=\"#000000\">gini = 0.283</text>\n<text text-anchor=\"middle\" x=\"6467\" y=\"-141.8\" font-family=\"Times,serif\" font-size=\"14.00\" fill=\"#000000\">samples = 2142</text>\n<text text-anchor=\"middle\" x=\"6467\" y=\"-126.8\" font-family=\"Times,serif\" font-size=\"14.00\" fill=\"#000000\">value = [365, 1777]</text>\n<text text-anchor=\"middle\" x=\"6467\" y=\"-111.8\" font-family=\"Times,serif\" font-size=\"14.00\" fill=\"#000000\">class = 입원안함</text>\n</g>\n<!-- 95&#45;&gt;96 -->\n<g id=\"edge96\" class=\"edge\">\n<title>95&#45;&gt;96</title>\n<path fill=\"none\" stroke=\"#000000\" d=\"M6467,-222.8796C6467,-214.6838 6467,-205.9891 6467,-197.5013\"/>\n<polygon fill=\"#000000\" stroke=\"#000000\" points=\"6470.5001,-197.298 6467,-187.2981 6463.5001,-197.2981 6470.5001,-197.298\"/>\n</g>\n<!-- 99 -->\n<g id=\"node100\" class=\"node\">\n<title>99</title>\n<polygon fill=\"none\" stroke=\"#000000\" points=\"6755,-187 6623,-187 6623,-104 6755,-104 6755,-187\"/>\n<text text-anchor=\"middle\" x=\"6689\" y=\"-171.8\" font-family=\"Times,serif\" font-size=\"14.00\" fill=\"#000000\">요일 &lt;= 3.5</text>\n<text text-anchor=\"middle\" x=\"6689\" y=\"-156.8\" font-family=\"Times,serif\" font-size=\"14.00\" fill=\"#000000\">gini = 0.117</text>\n<text text-anchor=\"middle\" x=\"6689\" y=\"-141.8\" font-family=\"Times,serif\" font-size=\"14.00\" fill=\"#000000\">samples = 3307</text>\n<text text-anchor=\"middle\" x=\"6689\" y=\"-126.8\" font-family=\"Times,serif\" font-size=\"14.00\" fill=\"#000000\">value = [206, 3101]</text>\n<text text-anchor=\"middle\" x=\"6689\" y=\"-111.8\" font-family=\"Times,serif\" font-size=\"14.00\" fill=\"#000000\">class = 입원안함</text>\n</g>\n<!-- 95&#45;&gt;99 -->\n<g id=\"edge99\" class=\"edge\">\n<title>95&#45;&gt;99</title>\n<path fill=\"none\" stroke=\"#000000\" d=\"M6534.2098,-228.4731C6559.3246,-215.0107 6588.0013,-199.6389 6613.7913,-185.8146\"/>\n<polygon fill=\"#000000\" stroke=\"#000000\" points=\"6615.6225,-188.8042 6622.7826,-180.9949 6612.3154,-182.6346 6615.6225,-188.8042\"/>\n</g>\n<!-- 97 -->\n<g id=\"node98\" class=\"node\">\n<title>97</title>\n<polygon fill=\"none\" stroke=\"#000000\" points=\"6454.5,-68 6337.5,-68 6337.5,0 6454.5,0 6454.5,-68\"/>\n<text text-anchor=\"middle\" x=\"6396\" y=\"-52.8\" font-family=\"Times,serif\" font-size=\"14.00\" fill=\"#000000\">gini = 0.105</text>\n<text text-anchor=\"middle\" x=\"6396\" y=\"-37.8\" font-family=\"Times,serif\" font-size=\"14.00\" fill=\"#000000\">samples = 754</text>\n<text text-anchor=\"middle\" x=\"6396\" y=\"-22.8\" font-family=\"Times,serif\" font-size=\"14.00\" fill=\"#000000\">value = [42, 712]</text>\n<text text-anchor=\"middle\" x=\"6396\" y=\"-7.8\" font-family=\"Times,serif\" font-size=\"14.00\" fill=\"#000000\">class = 입원안함</text>\n</g>\n<!-- 96&#45;&gt;97 -->\n<g id=\"edge97\" class=\"edge\">\n<title>96&#45;&gt;97</title>\n<path fill=\"none\" stroke=\"#000000\" d=\"M6440.5622,-103.9815C6434.944,-95.1585 6429.0012,-85.8258 6423.3497,-76.9506\"/>\n<polygon fill=\"#000000\" stroke=\"#000000\" points=\"6426.1416,-74.8188 6417.8181,-68.2637 6420.2371,-78.5787 6426.1416,-74.8188\"/>\n</g>\n<!-- 98 -->\n<g id=\"node99\" class=\"node\">\n<title>98</title>\n<polygon fill=\"none\" stroke=\"#000000\" points=\"6605,-68 6473,-68 6473,0 6605,0 6605,-68\"/>\n<text text-anchor=\"middle\" x=\"6539\" y=\"-52.8\" font-family=\"Times,serif\" font-size=\"14.00\" fill=\"#000000\">gini = 0.357</text>\n<text text-anchor=\"middle\" x=\"6539\" y=\"-37.8\" font-family=\"Times,serif\" font-size=\"14.00\" fill=\"#000000\">samples = 1388</text>\n<text text-anchor=\"middle\" x=\"6539\" y=\"-22.8\" font-family=\"Times,serif\" font-size=\"14.00\" fill=\"#000000\">value = [323, 1065]</text>\n<text text-anchor=\"middle\" x=\"6539\" y=\"-7.8\" font-family=\"Times,serif\" font-size=\"14.00\" fill=\"#000000\">class = 입원안함</text>\n</g>\n<!-- 96&#45;&gt;98 -->\n<g id=\"edge98\" class=\"edge\">\n<title>96&#45;&gt;98</title>\n<path fill=\"none\" stroke=\"#000000\" d=\"M6493.8101,-103.9815C6499.5669,-95.0666 6505.6596,-85.6313 6511.4441,-76.6734\"/>\n<polygon fill=\"#000000\" stroke=\"#000000\" points=\"6514.3901,-78.5631 6516.8746,-68.2637 6508.5096,-74.7658 6514.3901,-78.5631\"/>\n</g>\n<!-- 100 -->\n<g id=\"node101\" class=\"node\">\n<title>100</title>\n<polygon fill=\"none\" stroke=\"#000000\" points=\"6755,-68 6623,-68 6623,0 6755,0 6755,-68\"/>\n<text text-anchor=\"middle\" x=\"6689\" y=\"-52.8\" font-family=\"Times,serif\" font-size=\"14.00\" fill=\"#000000\">gini = 0.15</text>\n<text text-anchor=\"middle\" x=\"6689\" y=\"-37.8\" font-family=\"Times,serif\" font-size=\"14.00\" fill=\"#000000\">samples = 2034</text>\n<text text-anchor=\"middle\" x=\"6689\" y=\"-22.8\" font-family=\"Times,serif\" font-size=\"14.00\" fill=\"#000000\">value = [166, 1868]</text>\n<text text-anchor=\"middle\" x=\"6689\" y=\"-7.8\" font-family=\"Times,serif\" font-size=\"14.00\" fill=\"#000000\">class = 입원안함</text>\n</g>\n<!-- 99&#45;&gt;100 -->\n<g id=\"edge100\" class=\"edge\">\n<title>99&#45;&gt;100</title>\n<path fill=\"none\" stroke=\"#000000\" d=\"M6689,-103.9815C6689,-95.618 6689,-86.7965 6689,-78.3409\"/>\n<polygon fill=\"#000000\" stroke=\"#000000\" points=\"6692.5001,-78.2636 6689,-68.2637 6685.5001,-78.2637 6692.5001,-78.2636\"/>\n</g>\n<!-- 101 -->\n<g id=\"node102\" class=\"node\">\n<title>101</title>\n<polygon fill=\"none\" stroke=\"#000000\" points=\"6898.5,-68 6773.5,-68 6773.5,0 6898.5,0 6898.5,-68\"/>\n<text text-anchor=\"middle\" x=\"6836\" y=\"-52.8\" font-family=\"Times,serif\" font-size=\"14.00\" fill=\"#000000\">gini = 0.061</text>\n<text text-anchor=\"middle\" x=\"6836\" y=\"-37.8\" font-family=\"Times,serif\" font-size=\"14.00\" fill=\"#000000\">samples = 1273</text>\n<text text-anchor=\"middle\" x=\"6836\" y=\"-22.8\" font-family=\"Times,serif\" font-size=\"14.00\" fill=\"#000000\">value = [40, 1233]</text>\n<text text-anchor=\"middle\" x=\"6836\" y=\"-7.8\" font-family=\"Times,serif\" font-size=\"14.00\" fill=\"#000000\">class = 입원안함</text>\n</g>\n<!-- 99&#45;&gt;101 -->\n<g id=\"edge101\" class=\"edge\">\n<title>99&#45;&gt;101</title>\n<path fill=\"none\" stroke=\"#000000\" d=\"M6743.7374,-103.9815C6756.4601,-94.3313 6769.9866,-84.0714 6782.6485,-74.4673\"/>\n<polygon fill=\"#000000\" stroke=\"#000000\" points=\"6784.975,-77.0956 6790.8273,-68.2637 6780.7447,-71.5184 6784.975,-77.0956\"/>\n</g>\n<!-- 103 -->\n<g id=\"node104\" class=\"node\">\n<title>103</title>\n<polygon fill=\"none\" stroke=\"#000000\" points=\"7281,-306 7133,-306 7133,-223 7281,-223 7281,-306\"/>\n<text text-anchor=\"middle\" x=\"7207\" y=\"-290.8\" font-family=\"Times,serif\" font-size=\"14.00\" fill=\"#000000\">진료과목코드 &lt;= 23.5</text>\n<text text-anchor=\"middle\" x=\"7207\" y=\"-275.8\" font-family=\"Times,serif\" font-size=\"14.00\" fill=\"#000000\">gini = 0.342</text>\n<text text-anchor=\"middle\" x=\"7207\" y=\"-260.8\" font-family=\"Times,serif\" font-size=\"14.00\" fill=\"#000000\">samples = 12355</text>\n<text text-anchor=\"middle\" x=\"7207\" y=\"-245.8\" font-family=\"Times,serif\" font-size=\"14.00\" fill=\"#000000\">value = [2705, 9650]</text>\n<text text-anchor=\"middle\" x=\"7207\" y=\"-230.8\" font-family=\"Times,serif\" font-size=\"14.00\" fill=\"#000000\">class = 입원안함</text>\n</g>\n<!-- 102&#45;&gt;103 -->\n<g id=\"edge103\" class=\"edge\">\n<title>102&#45;&gt;103</title>\n<path fill=\"none\" stroke=\"#000000\" d=\"M7207,-341.8796C7207,-333.6838 7207,-324.9891 7207,-316.5013\"/>\n<polygon fill=\"#000000\" stroke=\"#000000\" points=\"7210.5001,-316.298 7207,-306.2981 7203.5001,-316.2981 7210.5001,-316.298\"/>\n</g>\n<!-- 110 -->\n<g id=\"node111\" class=\"node\">\n<title>110</title>\n<polygon fill=\"none\" stroke=\"#000000\" points=\"7664.5,-306 7533.5,-306 7533.5,-223 7664.5,-223 7664.5,-306\"/>\n<text text-anchor=\"middle\" x=\"7599\" y=\"-290.8\" font-family=\"Times,serif\" font-size=\"14.00\" fill=\"#000000\">요일 &lt;= 5.5</text>\n<text text-anchor=\"middle\" x=\"7599\" y=\"-275.8\" font-family=\"Times,serif\" font-size=\"14.00\" fill=\"#000000\">gini = 0.091</text>\n<text text-anchor=\"middle\" x=\"7599\" y=\"-260.8\" font-family=\"Times,serif\" font-size=\"14.00\" fill=\"#000000\">samples = 2343</text>\n<text text-anchor=\"middle\" x=\"7599\" y=\"-245.8\" font-family=\"Times,serif\" font-size=\"14.00\" fill=\"#000000\">value = [112, 2231]</text>\n<text text-anchor=\"middle\" x=\"7599\" y=\"-230.8\" font-family=\"Times,serif\" font-size=\"14.00\" fill=\"#000000\">class = 입원안함</text>\n</g>\n<!-- 102&#45;&gt;110 -->\n<g id=\"edge110\" class=\"edge\">\n<title>102&#45;&gt;110</title>\n<path fill=\"none\" stroke=\"#000000\" d=\"M7280.2724,-361.2566C7349.6919,-340.1828 7453.481,-308.6754 7523.5942,-287.3911\"/>\n<polygon fill=\"#000000\" stroke=\"#000000\" points=\"7524.7047,-290.7117 7533.2568,-284.4577 7522.6713,-284.0135 7524.7047,-290.7117\"/>\n</g>\n<!-- 104 -->\n<g id=\"node105\" class=\"node\">\n<title>104</title>\n<polygon fill=\"none\" stroke=\"#000000\" points=\"7201,-187 7061,-187 7061,-104 7201,-104 7201,-187\"/>\n<text text-anchor=\"middle\" x=\"7131\" y=\"-171.8\" font-family=\"Times,serif\" font-size=\"14.00\" fill=\"#000000\">진료과목코드 &lt;= 8.5</text>\n<text text-anchor=\"middle\" x=\"7131\" y=\"-156.8\" font-family=\"Times,serif\" font-size=\"14.00\" fill=\"#000000\">gini = 0.362</text>\n<text text-anchor=\"middle\" x=\"7131\" y=\"-141.8\" font-family=\"Times,serif\" font-size=\"14.00\" fill=\"#000000\">samples = 11244</text>\n<text text-anchor=\"middle\" x=\"7131\" y=\"-126.8\" font-family=\"Times,serif\" font-size=\"14.00\" fill=\"#000000\">value = [2664, 8580]</text>\n<text text-anchor=\"middle\" x=\"7131\" y=\"-111.8\" font-family=\"Times,serif\" font-size=\"14.00\" fill=\"#000000\">class = 입원안함</text>\n</g>\n<!-- 103&#45;&gt;104 -->\n<g id=\"edge104\" class=\"edge\">\n<title>103&#45;&gt;104</title>\n<path fill=\"none\" stroke=\"#000000\" d=\"M7180.4189,-222.8796C7174.8395,-214.1434 7168.8981,-204.8404 7163.1405,-195.8253\"/>\n<polygon fill=\"#000000\" stroke=\"#000000\" points=\"7166.0269,-193.8421 7157.6946,-187.2981 7160.1274,-197.6098 7166.0269,-193.8421\"/>\n</g>\n<!-- 107 -->\n<g id=\"node108\" class=\"node\">\n<title>107</title>\n<polygon fill=\"none\" stroke=\"#000000\" points=\"7346.5,-187 7219.5,-187 7219.5,-104 7346.5,-104 7346.5,-187\"/>\n<text text-anchor=\"middle\" x=\"7283\" y=\"-171.8\" font-family=\"Times,serif\" font-size=\"14.00\" fill=\"#000000\">심결가산율 &lt;= 3.5</text>\n<text text-anchor=\"middle\" x=\"7283\" y=\"-156.8\" font-family=\"Times,serif\" font-size=\"14.00\" fill=\"#000000\">gini = 0.071</text>\n<text text-anchor=\"middle\" x=\"7283\" y=\"-141.8\" font-family=\"Times,serif\" font-size=\"14.00\" fill=\"#000000\">samples = 1111</text>\n<text text-anchor=\"middle\" x=\"7283\" y=\"-126.8\" font-family=\"Times,serif\" font-size=\"14.00\" fill=\"#000000\">value = [41, 1070]</text>\n<text text-anchor=\"middle\" x=\"7283\" y=\"-111.8\" font-family=\"Times,serif\" font-size=\"14.00\" fill=\"#000000\">class = 입원안함</text>\n</g>\n<!-- 103&#45;&gt;107 -->\n<g id=\"edge107\" class=\"edge\">\n<title>103&#45;&gt;107</title>\n<path fill=\"none\" stroke=\"#000000\" d=\"M7233.5811,-222.8796C7239.1605,-214.1434 7245.1019,-204.8404 7250.8595,-195.8253\"/>\n<polygon fill=\"#000000\" stroke=\"#000000\" points=\"7253.8726,-197.6098 7256.3054,-187.2981 7247.9731,-193.8421 7253.8726,-197.6098\"/>\n</g>\n<!-- 105 -->\n<g id=\"node106\" class=\"node\">\n<title>105</title>\n<polygon fill=\"none\" stroke=\"#000000\" points=\"7057,-68 6917,-68 6917,0 7057,0 7057,-68\"/>\n<text text-anchor=\"middle\" x=\"6987\" y=\"-52.8\" font-family=\"Times,serif\" font-size=\"14.00\" fill=\"#000000\">gini = 0.337</text>\n<text text-anchor=\"middle\" x=\"6987\" y=\"-37.8\" font-family=\"Times,serif\" font-size=\"14.00\" fill=\"#000000\">samples = 9929</text>\n<text text-anchor=\"middle\" x=\"6987\" y=\"-22.8\" font-family=\"Times,serif\" font-size=\"14.00\" fill=\"#000000\">value = [2127, 7802]</text>\n<text text-anchor=\"middle\" x=\"6987\" y=\"-7.8\" font-family=\"Times,serif\" font-size=\"14.00\" fill=\"#000000\">class = 입원안함</text>\n</g>\n<!-- 104&#45;&gt;105 -->\n<g id=\"edge105\" class=\"edge\">\n<title>104&#45;&gt;105</title>\n<path fill=\"none\" stroke=\"#000000\" d=\"M7077.3797,-103.9815C7064.9167,-94.3313 7051.6662,-84.0714 7039.2627,-74.4673\"/>\n<polygon fill=\"#000000\" stroke=\"#000000\" points=\"7041.3005,-71.6186 7031.2508,-68.2637 7037.0149,-77.1534 7041.3005,-71.6186\"/>\n</g>\n<!-- 106 -->\n<g id=\"node107\" class=\"node\">\n<title>106</title>\n<polygon fill=\"none\" stroke=\"#000000\" points=\"7200.5,-68 7075.5,-68 7075.5,0 7200.5,0 7200.5,-68\"/>\n<text text-anchor=\"middle\" x=\"7138\" y=\"-52.8\" font-family=\"Times,serif\" font-size=\"14.00\" fill=\"#000000\">gini = 0.483</text>\n<text text-anchor=\"middle\" x=\"7138\" y=\"-37.8\" font-family=\"Times,serif\" font-size=\"14.00\" fill=\"#000000\">samples = 1315</text>\n<text text-anchor=\"middle\" x=\"7138\" y=\"-22.8\" font-family=\"Times,serif\" font-size=\"14.00\" fill=\"#000000\">value = [537, 778]</text>\n<text text-anchor=\"middle\" x=\"7138\" y=\"-7.8\" font-family=\"Times,serif\" font-size=\"14.00\" fill=\"#000000\">class = 입원안함</text>\n</g>\n<!-- 104&#45;&gt;106 -->\n<g id=\"edge106\" class=\"edge\">\n<title>104&#45;&gt;106</title>\n<path fill=\"none\" stroke=\"#000000\" d=\"M7133.6065,-103.9815C7134.1316,-95.618 7134.6854,-86.7965 7135.2163,-78.3409\"/>\n<polygon fill=\"#000000\" stroke=\"#000000\" points=\"7138.7154,-78.4634 7135.8489,-68.2637 7131.7291,-78.0247 7138.7154,-78.4634\"/>\n</g>\n<!-- 108 -->\n<g id=\"node109\" class=\"node\">\n<title>108</title>\n<polygon fill=\"none\" stroke=\"#000000\" points=\"7335.5,-68 7218.5,-68 7218.5,0 7335.5,0 7335.5,-68\"/>\n<text text-anchor=\"middle\" x=\"7277\" y=\"-52.8\" font-family=\"Times,serif\" font-size=\"14.00\" fill=\"#000000\">gini = 0.093</text>\n<text text-anchor=\"middle\" x=\"7277\" y=\"-37.8\" font-family=\"Times,serif\" font-size=\"14.00\" fill=\"#000000\">samples = 717</text>\n<text text-anchor=\"middle\" x=\"7277\" y=\"-22.8\" font-family=\"Times,serif\" font-size=\"14.00\" fill=\"#000000\">value = [35, 682]</text>\n<text text-anchor=\"middle\" x=\"7277\" y=\"-7.8\" font-family=\"Times,serif\" font-size=\"14.00\" fill=\"#000000\">class = 입원안함</text>\n</g>\n<!-- 107&#45;&gt;108 -->\n<g id=\"edge108\" class=\"edge\">\n<title>107&#45;&gt;108</title>\n<path fill=\"none\" stroke=\"#000000\" d=\"M7280.7658,-103.9815C7280.3158,-95.618 7279.8411,-86.7965 7279.3861,-78.3409\"/>\n<polygon fill=\"#000000\" stroke=\"#000000\" points=\"7282.8762,-78.0611 7278.8438,-68.2637 7275.8863,-78.4373 7282.8762,-78.0611\"/>\n</g>\n<!-- 109 -->\n<g id=\"node110\" class=\"node\">\n<title>109</title>\n<polygon fill=\"none\" stroke=\"#000000\" points=\"7466.5,-68 7353.5,-68 7353.5,0 7466.5,0 7466.5,-68\"/>\n<text text-anchor=\"middle\" x=\"7410\" y=\"-52.8\" font-family=\"Times,serif\" font-size=\"14.00\" fill=\"#000000\">gini = 0.03</text>\n<text text-anchor=\"middle\" x=\"7410\" y=\"-37.8\" font-family=\"Times,serif\" font-size=\"14.00\" fill=\"#000000\">samples = 394</text>\n<text text-anchor=\"middle\" x=\"7410\" y=\"-22.8\" font-family=\"Times,serif\" font-size=\"14.00\" fill=\"#000000\">value = [6, 388]</text>\n<text text-anchor=\"middle\" x=\"7410\" y=\"-7.8\" font-family=\"Times,serif\" font-size=\"14.00\" fill=\"#000000\">class = 입원안함</text>\n</g>\n<!-- 107&#45;&gt;109 -->\n<g id=\"edge109\" class=\"edge\">\n<title>107&#45;&gt;109</title>\n<path fill=\"none\" stroke=\"#000000\" d=\"M7330.2901,-103.9815C7341.0725,-94.5151 7352.523,-84.462 7363.2813,-75.0168\"/>\n<polygon fill=\"#000000\" stroke=\"#000000\" points=\"7365.7676,-77.4915 7370.9732,-68.2637 7361.1493,-72.2311 7365.7676,-77.4915\"/>\n</g>\n<!-- 111 -->\n<g id=\"node112\" class=\"node\">\n<title>111</title>\n<polygon fill=\"none\" stroke=\"#000000\" points=\"7662.5,-187 7535.5,-187 7535.5,-104 7662.5,-104 7662.5,-187\"/>\n<text text-anchor=\"middle\" x=\"7599\" y=\"-171.8\" font-family=\"Times,serif\" font-size=\"14.00\" fill=\"#000000\">심결가산율 &lt;= 3.5</text>\n<text text-anchor=\"middle\" x=\"7599\" y=\"-156.8\" font-family=\"Times,serif\" font-size=\"14.00\" fill=\"#000000\">gini = 0.15</text>\n<text text-anchor=\"middle\" x=\"7599\" y=\"-141.8\" font-family=\"Times,serif\" font-size=\"14.00\" fill=\"#000000\">samples = 1178</text>\n<text text-anchor=\"middle\" x=\"7599\" y=\"-126.8\" font-family=\"Times,serif\" font-size=\"14.00\" fill=\"#000000\">value = [96, 1082]</text>\n<text text-anchor=\"middle\" x=\"7599\" y=\"-111.8\" font-family=\"Times,serif\" font-size=\"14.00\" fill=\"#000000\">class = 입원안함</text>\n</g>\n<!-- 110&#45;&gt;111 -->\n<g id=\"edge111\" class=\"edge\">\n<title>110&#45;&gt;111</title>\n<path fill=\"none\" stroke=\"#000000\" d=\"M7599,-222.8796C7599,-214.6838 7599,-205.9891 7599,-197.5013\"/>\n<polygon fill=\"#000000\" stroke=\"#000000\" points=\"7602.5001,-197.298 7599,-187.2981 7595.5001,-197.2981 7602.5001,-197.298\"/>\n</g>\n<!-- 114 -->\n<g id=\"node115\" class=\"node\">\n<title>114</title>\n<polygon fill=\"none\" stroke=\"#000000\" points=\"7885,-187 7737,-187 7737,-104 7885,-104 7885,-187\"/>\n<text text-anchor=\"middle\" x=\"7811\" y=\"-171.8\" font-family=\"Times,serif\" font-size=\"14.00\" fill=\"#000000\">진료과목코드 &lt;= 23.5</text>\n<text text-anchor=\"middle\" x=\"7811\" y=\"-156.8\" font-family=\"Times,serif\" font-size=\"14.00\" fill=\"#000000\">gini = 0.027</text>\n<text text-anchor=\"middle\" x=\"7811\" y=\"-141.8\" font-family=\"Times,serif\" font-size=\"14.00\" fill=\"#000000\">samples = 1165</text>\n<text text-anchor=\"middle\" x=\"7811\" y=\"-126.8\" font-family=\"Times,serif\" font-size=\"14.00\" fill=\"#000000\">value = [16, 1149]</text>\n<text text-anchor=\"middle\" x=\"7811\" y=\"-111.8\" font-family=\"Times,serif\" font-size=\"14.00\" fill=\"#000000\">class = 입원안함</text>\n</g>\n<!-- 110&#45;&gt;114 -->\n<g id=\"edge114\" class=\"edge\">\n<title>110&#45;&gt;114</title>\n<path fill=\"none\" stroke=\"#000000\" d=\"M7664.6263,-227.6626C7684.6304,-216.4339 7706.89,-203.9391 7727.8908,-192.1509\"/>\n<polygon fill=\"#000000\" stroke=\"#000000\" points=\"7729.7969,-195.0948 7736.8038,-187.1478 7726.3705,-188.9906 7729.7969,-195.0948\"/>\n</g>\n<!-- 112 -->\n<g id=\"node113\" class=\"node\">\n<title>112</title>\n<polygon fill=\"none\" stroke=\"#000000\" points=\"7601.5,-68 7484.5,-68 7484.5,0 7601.5,0 7601.5,-68\"/>\n<text text-anchor=\"middle\" x=\"7543\" y=\"-52.8\" font-family=\"Times,serif\" font-size=\"14.00\" fill=\"#000000\">gini = 0.18</text>\n<text text-anchor=\"middle\" x=\"7543\" y=\"-37.8\" font-family=\"Times,serif\" font-size=\"14.00\" fill=\"#000000\">samples = 842</text>\n<text text-anchor=\"middle\" x=\"7543\" y=\"-22.8\" font-family=\"Times,serif\" font-size=\"14.00\" fill=\"#000000\">value = [84, 758]</text>\n<text text-anchor=\"middle\" x=\"7543\" y=\"-7.8\" font-family=\"Times,serif\" font-size=\"14.00\" fill=\"#000000\">class = 입원안함</text>\n</g>\n<!-- 111&#45;&gt;112 -->\n<g id=\"edge112\" class=\"edge\">\n<title>111&#45;&gt;112</title>\n<path fill=\"none\" stroke=\"#000000\" d=\"M7578.1477,-103.9815C7573.7625,-95.2504 7569.1267,-86.0202 7564.711,-77.2281\"/>\n<polygon fill=\"#000000\" stroke=\"#000000\" points=\"7567.8246,-75.6291 7560.2087,-68.2637 7561.5692,-78.7708 7567.8246,-75.6291\"/>\n</g>\n<!-- 113 -->\n<g id=\"node114\" class=\"node\">\n<title>113</title>\n<polygon fill=\"none\" stroke=\"#000000\" points=\"7736.5,-68 7619.5,-68 7619.5,0 7736.5,0 7736.5,-68\"/>\n<text text-anchor=\"middle\" x=\"7678\" y=\"-52.8\" font-family=\"Times,serif\" font-size=\"14.00\" fill=\"#000000\">gini = 0.069</text>\n<text text-anchor=\"middle\" x=\"7678\" y=\"-37.8\" font-family=\"Times,serif\" font-size=\"14.00\" fill=\"#000000\">samples = 336</text>\n<text text-anchor=\"middle\" x=\"7678\" y=\"-22.8\" font-family=\"Times,serif\" font-size=\"14.00\" fill=\"#000000\">value = [12, 324]</text>\n<text text-anchor=\"middle\" x=\"7678\" y=\"-7.8\" font-family=\"Times,serif\" font-size=\"14.00\" fill=\"#000000\">class = 입원안함</text>\n</g>\n<!-- 111&#45;&gt;113 -->\n<g id=\"edge113\" class=\"edge\">\n<title>111&#45;&gt;113</title>\n<path fill=\"none\" stroke=\"#000000\" d=\"M7628.4167,-103.9815C7634.7331,-95.0666 7641.4182,-85.6313 7647.7651,-76.6734\"/>\n<polygon fill=\"#000000\" stroke=\"#000000\" points=\"7650.7981,-78.4466 7653.7235,-68.2637 7645.0864,-74.3998 7650.7981,-78.4466\"/>\n</g>\n<!-- 115 -->\n<g id=\"node116\" class=\"node\">\n<title>115</title>\n<polygon fill=\"none\" stroke=\"#000000\" points=\"7867.5,-68 7754.5,-68 7754.5,0 7867.5,0 7867.5,-68\"/>\n<text text-anchor=\"middle\" x=\"7811\" y=\"-52.8\" font-family=\"Times,serif\" font-size=\"14.00\" fill=\"#000000\">gini = 0.008</text>\n<text text-anchor=\"middle\" x=\"7811\" y=\"-37.8\" font-family=\"Times,serif\" font-size=\"14.00\" fill=\"#000000\">samples = 951</text>\n<text text-anchor=\"middle\" x=\"7811\" y=\"-22.8\" font-family=\"Times,serif\" font-size=\"14.00\" fill=\"#000000\">value = [4, 947]</text>\n<text text-anchor=\"middle\" x=\"7811\" y=\"-7.8\" font-family=\"Times,serif\" font-size=\"14.00\" fill=\"#000000\">class = 입원안함</text>\n</g>\n<!-- 114&#45;&gt;115 -->\n<g id=\"edge115\" class=\"edge\">\n<title>114&#45;&gt;115</title>\n<path fill=\"none\" stroke=\"#000000\" d=\"M7811,-103.9815C7811,-95.618 7811,-86.7965 7811,-78.3409\"/>\n<polygon fill=\"#000000\" stroke=\"#000000\" points=\"7814.5001,-78.2636 7811,-68.2637 7807.5001,-78.2637 7814.5001,-78.2636\"/>\n</g>\n<!-- 116 -->\n<g id=\"node117\" class=\"node\">\n<title>116</title>\n<polygon fill=\"none\" stroke=\"#000000\" points=\"8002.5,-68 7885.5,-68 7885.5,0 8002.5,0 8002.5,-68\"/>\n<text text-anchor=\"middle\" x=\"7944\" y=\"-52.8\" font-family=\"Times,serif\" font-size=\"14.00\" fill=\"#000000\">gini = 0.106</text>\n<text text-anchor=\"middle\" x=\"7944\" y=\"-37.8\" font-family=\"Times,serif\" font-size=\"14.00\" fill=\"#000000\">samples = 214</text>\n<text text-anchor=\"middle\" x=\"7944\" y=\"-22.8\" font-family=\"Times,serif\" font-size=\"14.00\" fill=\"#000000\">value = [12, 202]</text>\n<text text-anchor=\"middle\" x=\"7944\" y=\"-7.8\" font-family=\"Times,serif\" font-size=\"14.00\" fill=\"#000000\">class = 입원안함</text>\n</g>\n<!-- 114&#45;&gt;116 -->\n<g id=\"edge116\" class=\"edge\">\n<title>114&#45;&gt;116</title>\n<path fill=\"none\" stroke=\"#000000\" d=\"M7860.5243,-103.9815C7871.9257,-94.4232 7884.0405,-84.2668 7895.4021,-74.7419\"/>\n<polygon fill=\"#000000\" stroke=\"#000000\" points=\"7897.7147,-77.3704 7903.1294,-68.2637 7893.2175,-72.006 7897.7147,-77.3704\"/>\n</g>\n</g>\n</svg>\n"
          },
          "metadata": {},
          "execution_count": 69
        }
      ]
    },
    {
      "cell_type": "code",
      "metadata": {
        "colab": {
          "base_uri": "https://localhost:8080/"
        },
        "id": "0nTdXYcnSPUx",
        "outputId": "b7cbe02b-6f93-4304-91ac-a56a00b1a375"
      },
      "source": [
        "# depth 변화 \n",
        "score = []\n",
        "for i in range(3,20) : \n",
        "  tree2 = DecisionTreeClassifier(criterion = \"gini\", random_state = 100,\n",
        "                               max_depth=i, min_samples_leaf=200)\n",
        "  tree2.fit(X_train,y_train)\n",
        "  score.append(tree2.score(X_test,y_test))\n",
        "print(score)"
      ],
      "execution_count": 70,
      "outputs": [
        {
          "output_type": "stream",
          "name": "stdout",
          "text": [
            "[0.8471133461519499, 0.8471133461519499, 0.8484445101809397, 0.8495502919404709, 0.8502616547284496, 0.8520576696881977, 0.8533043153661405, 0.854741127333939, 0.8562342848691022, 0.8561990688894993, 0.8572766778653482, 0.8593966798374431, 0.8594318958170459, 0.8593755502496813, 0.8594178094252047, 0.8594530254048077, 0.8594530254048077]\n"
          ]
        }
      ]
    },
    {
      "cell_type": "code",
      "metadata": {
        "colab": {
          "base_uri": "https://localhost:8080/",
          "height": 542
        },
        "id": "61yONbNISVhJ",
        "outputId": "d1be155b-0b76-40d3-c854-989c6bb8a276"
      },
      "source": [
        "# depth 변화 시각화\n",
        "import plotly.graph_objs as go \n",
        "import plotly.express as px\n",
        "\n",
        "fig = go.Figure()\n",
        "x = [i for i in range(3,20)]\n",
        "fig.add_trace(go.Scatter(x = x, y = score))\n",
        "fig.show()"
      ],
      "execution_count": 71,
      "outputs": [
        {
          "output_type": "display_data",
          "data": {
            "text/html": [
              "<html>\n",
              "<head><meta charset=\"utf-8\" /></head>\n",
              "<body>\n",
              "    <div>\n",
              "            <script src=\"https://cdnjs.cloudflare.com/ajax/libs/mathjax/2.7.5/MathJax.js?config=TeX-AMS-MML_SVG\"></script><script type=\"text/javascript\">if (window.MathJax) {MathJax.Hub.Config({SVG: {font: \"STIX-Web\"}});}</script>\n",
              "                <script type=\"text/javascript\">window.PlotlyConfig = {MathJaxConfig: 'local'};</script>\n",
              "        <script src=\"https://cdn.plot.ly/plotly-latest.min.js\"></script>    \n",
              "            <div id=\"16961dcf-dc15-494a-b4e0-324abb6663c5\" class=\"plotly-graph-div\" style=\"height:525px; width:100%;\"></div>\n",
              "            <script type=\"text/javascript\">\n",
              "                \n",
              "                    window.PLOTLYENV=window.PLOTLYENV || {};\n",
              "                    \n",
              "                if (document.getElementById(\"16961dcf-dc15-494a-b4e0-324abb6663c5\")) {\n",
              "                    Plotly.newPlot(\n",
              "                        '16961dcf-dc15-494a-b4e0-324abb6663c5',\n",
              "                        [{\"type\": \"scatter\", \"x\": [3, 4, 5, 6, 7, 8, 9, 10, 11, 12, 13, 14, 15, 16, 17, 18, 19], \"y\": [0.8471133461519499, 0.8471133461519499, 0.8484445101809397, 0.8495502919404709, 0.8502616547284496, 0.8520576696881977, 0.8533043153661405, 0.854741127333939, 0.8562342848691022, 0.8561990688894993, 0.8572766778653482, 0.8593966798374431, 0.8594318958170459, 0.8593755502496813, 0.8594178094252047, 0.8594530254048077, 0.8594530254048077]}],\n",
              "                        {\"template\": {\"data\": {\"bar\": [{\"error_x\": {\"color\": \"#2a3f5f\"}, \"error_y\": {\"color\": \"#2a3f5f\"}, \"marker\": {\"line\": {\"color\": \"#E5ECF6\", \"width\": 0.5}}, \"type\": \"bar\"}], \"barpolar\": [{\"marker\": {\"line\": {\"color\": \"#E5ECF6\", \"width\": 0.5}}, \"type\": \"barpolar\"}], \"carpet\": [{\"aaxis\": {\"endlinecolor\": \"#2a3f5f\", \"gridcolor\": \"white\", \"linecolor\": \"white\", \"minorgridcolor\": \"white\", \"startlinecolor\": \"#2a3f5f\"}, \"baxis\": {\"endlinecolor\": \"#2a3f5f\", \"gridcolor\": \"white\", \"linecolor\": \"white\", \"minorgridcolor\": \"white\", \"startlinecolor\": \"#2a3f5f\"}, \"type\": \"carpet\"}], \"choropleth\": [{\"colorbar\": {\"outlinewidth\": 0, \"ticks\": \"\"}, \"type\": \"choropleth\"}], \"contour\": [{\"colorbar\": {\"outlinewidth\": 0, \"ticks\": \"\"}, \"colorscale\": [[0.0, \"#0d0887\"], [0.1111111111111111, \"#46039f\"], [0.2222222222222222, \"#7201a8\"], [0.3333333333333333, \"#9c179e\"], [0.4444444444444444, \"#bd3786\"], [0.5555555555555556, \"#d8576b\"], [0.6666666666666666, \"#ed7953\"], [0.7777777777777778, \"#fb9f3a\"], [0.8888888888888888, \"#fdca26\"], [1.0, \"#f0f921\"]], \"type\": \"contour\"}], \"contourcarpet\": [{\"colorbar\": {\"outlinewidth\": 0, \"ticks\": \"\"}, \"type\": \"contourcarpet\"}], \"heatmap\": [{\"colorbar\": {\"outlinewidth\": 0, \"ticks\": \"\"}, \"colorscale\": [[0.0, \"#0d0887\"], [0.1111111111111111, \"#46039f\"], [0.2222222222222222, \"#7201a8\"], [0.3333333333333333, \"#9c179e\"], [0.4444444444444444, \"#bd3786\"], [0.5555555555555556, \"#d8576b\"], [0.6666666666666666, \"#ed7953\"], [0.7777777777777778, \"#fb9f3a\"], [0.8888888888888888, \"#fdca26\"], [1.0, \"#f0f921\"]], \"type\": \"heatmap\"}], \"heatmapgl\": [{\"colorbar\": {\"outlinewidth\": 0, \"ticks\": \"\"}, \"colorscale\": [[0.0, \"#0d0887\"], [0.1111111111111111, \"#46039f\"], [0.2222222222222222, \"#7201a8\"], [0.3333333333333333, \"#9c179e\"], [0.4444444444444444, \"#bd3786\"], [0.5555555555555556, \"#d8576b\"], [0.6666666666666666, \"#ed7953\"], [0.7777777777777778, \"#fb9f3a\"], [0.8888888888888888, \"#fdca26\"], [1.0, \"#f0f921\"]], \"type\": \"heatmapgl\"}], \"histogram\": [{\"marker\": {\"colorbar\": {\"outlinewidth\": 0, \"ticks\": \"\"}}, \"type\": \"histogram\"}], \"histogram2d\": [{\"colorbar\": {\"outlinewidth\": 0, \"ticks\": \"\"}, \"colorscale\": [[0.0, \"#0d0887\"], [0.1111111111111111, \"#46039f\"], [0.2222222222222222, \"#7201a8\"], [0.3333333333333333, \"#9c179e\"], [0.4444444444444444, \"#bd3786\"], [0.5555555555555556, \"#d8576b\"], [0.6666666666666666, \"#ed7953\"], [0.7777777777777778, \"#fb9f3a\"], [0.8888888888888888, \"#fdca26\"], [1.0, \"#f0f921\"]], \"type\": \"histogram2d\"}], \"histogram2dcontour\": [{\"colorbar\": {\"outlinewidth\": 0, \"ticks\": \"\"}, \"colorscale\": [[0.0, \"#0d0887\"], [0.1111111111111111, \"#46039f\"], [0.2222222222222222, \"#7201a8\"], [0.3333333333333333, \"#9c179e\"], [0.4444444444444444, \"#bd3786\"], [0.5555555555555556, \"#d8576b\"], [0.6666666666666666, \"#ed7953\"], [0.7777777777777778, \"#fb9f3a\"], [0.8888888888888888, \"#fdca26\"], [1.0, \"#f0f921\"]], \"type\": \"histogram2dcontour\"}], \"mesh3d\": [{\"colorbar\": {\"outlinewidth\": 0, \"ticks\": \"\"}, \"type\": \"mesh3d\"}], \"parcoords\": [{\"line\": {\"colorbar\": {\"outlinewidth\": 0, \"ticks\": \"\"}}, \"type\": \"parcoords\"}], \"pie\": [{\"automargin\": true, \"type\": \"pie\"}], \"scatter\": [{\"marker\": {\"colorbar\": {\"outlinewidth\": 0, \"ticks\": \"\"}}, \"type\": \"scatter\"}], \"scatter3d\": [{\"line\": {\"colorbar\": {\"outlinewidth\": 0, \"ticks\": \"\"}}, \"marker\": {\"colorbar\": {\"outlinewidth\": 0, \"ticks\": \"\"}}, \"type\": \"scatter3d\"}], \"scattercarpet\": [{\"marker\": {\"colorbar\": {\"outlinewidth\": 0, \"ticks\": \"\"}}, \"type\": \"scattercarpet\"}], \"scattergeo\": [{\"marker\": {\"colorbar\": {\"outlinewidth\": 0, \"ticks\": \"\"}}, \"type\": \"scattergeo\"}], \"scattergl\": [{\"marker\": {\"colorbar\": {\"outlinewidth\": 0, \"ticks\": \"\"}}, \"type\": \"scattergl\"}], \"scattermapbox\": [{\"marker\": {\"colorbar\": {\"outlinewidth\": 0, \"ticks\": \"\"}}, \"type\": \"scattermapbox\"}], \"scatterpolar\": [{\"marker\": {\"colorbar\": {\"outlinewidth\": 0, \"ticks\": \"\"}}, \"type\": \"scatterpolar\"}], \"scatterpolargl\": [{\"marker\": {\"colorbar\": {\"outlinewidth\": 0, \"ticks\": \"\"}}, \"type\": \"scatterpolargl\"}], \"scatterternary\": [{\"marker\": {\"colorbar\": {\"outlinewidth\": 0, \"ticks\": \"\"}}, \"type\": \"scatterternary\"}], \"surface\": [{\"colorbar\": {\"outlinewidth\": 0, \"ticks\": \"\"}, \"colorscale\": [[0.0, \"#0d0887\"], [0.1111111111111111, \"#46039f\"], [0.2222222222222222, \"#7201a8\"], [0.3333333333333333, \"#9c179e\"], [0.4444444444444444, \"#bd3786\"], [0.5555555555555556, \"#d8576b\"], [0.6666666666666666, \"#ed7953\"], [0.7777777777777778, \"#fb9f3a\"], [0.8888888888888888, \"#fdca26\"], [1.0, \"#f0f921\"]], \"type\": \"surface\"}], \"table\": [{\"cells\": {\"fill\": {\"color\": \"#EBF0F8\"}, \"line\": {\"color\": \"white\"}}, \"header\": {\"fill\": {\"color\": \"#C8D4E3\"}, \"line\": {\"color\": \"white\"}}, \"type\": \"table\"}]}, \"layout\": {\"annotationdefaults\": {\"arrowcolor\": \"#2a3f5f\", \"arrowhead\": 0, \"arrowwidth\": 1}, \"coloraxis\": {\"colorbar\": {\"outlinewidth\": 0, \"ticks\": \"\"}}, \"colorscale\": {\"diverging\": [[0, \"#8e0152\"], [0.1, \"#c51b7d\"], [0.2, \"#de77ae\"], [0.3, \"#f1b6da\"], [0.4, \"#fde0ef\"], [0.5, \"#f7f7f7\"], [0.6, \"#e6f5d0\"], [0.7, \"#b8e186\"], [0.8, \"#7fbc41\"], [0.9, \"#4d9221\"], [1, \"#276419\"]], \"sequential\": [[0.0, \"#0d0887\"], [0.1111111111111111, \"#46039f\"], [0.2222222222222222, \"#7201a8\"], [0.3333333333333333, \"#9c179e\"], [0.4444444444444444, \"#bd3786\"], [0.5555555555555556, \"#d8576b\"], [0.6666666666666666, \"#ed7953\"], [0.7777777777777778, \"#fb9f3a\"], [0.8888888888888888, \"#fdca26\"], [1.0, \"#f0f921\"]], \"sequentialminus\": [[0.0, \"#0d0887\"], [0.1111111111111111, \"#46039f\"], [0.2222222222222222, \"#7201a8\"], [0.3333333333333333, \"#9c179e\"], [0.4444444444444444, \"#bd3786\"], [0.5555555555555556, \"#d8576b\"], [0.6666666666666666, \"#ed7953\"], [0.7777777777777778, \"#fb9f3a\"], [0.8888888888888888, \"#fdca26\"], [1.0, \"#f0f921\"]]}, \"colorway\": [\"#636efa\", \"#EF553B\", \"#00cc96\", \"#ab63fa\", \"#FFA15A\", \"#19d3f3\", \"#FF6692\", \"#B6E880\", \"#FF97FF\", \"#FECB52\"], \"font\": {\"color\": \"#2a3f5f\"}, \"geo\": {\"bgcolor\": \"white\", \"lakecolor\": \"white\", \"landcolor\": \"#E5ECF6\", \"showlakes\": true, \"showland\": true, \"subunitcolor\": \"white\"}, \"hoverlabel\": {\"align\": \"left\"}, \"hovermode\": \"closest\", \"mapbox\": {\"style\": \"light\"}, \"paper_bgcolor\": \"white\", \"plot_bgcolor\": \"#E5ECF6\", \"polar\": {\"angularaxis\": {\"gridcolor\": \"white\", \"linecolor\": \"white\", \"ticks\": \"\"}, \"bgcolor\": \"#E5ECF6\", \"radialaxis\": {\"gridcolor\": \"white\", \"linecolor\": \"white\", \"ticks\": \"\"}}, \"scene\": {\"xaxis\": {\"backgroundcolor\": \"#E5ECF6\", \"gridcolor\": \"white\", \"gridwidth\": 2, \"linecolor\": \"white\", \"showbackground\": true, \"ticks\": \"\", \"zerolinecolor\": \"white\"}, \"yaxis\": {\"backgroundcolor\": \"#E5ECF6\", \"gridcolor\": \"white\", \"gridwidth\": 2, \"linecolor\": \"white\", \"showbackground\": true, \"ticks\": \"\", \"zerolinecolor\": \"white\"}, \"zaxis\": {\"backgroundcolor\": \"#E5ECF6\", \"gridcolor\": \"white\", \"gridwidth\": 2, \"linecolor\": \"white\", \"showbackground\": true, \"ticks\": \"\", \"zerolinecolor\": \"white\"}}, \"shapedefaults\": {\"line\": {\"color\": \"#2a3f5f\"}}, \"ternary\": {\"aaxis\": {\"gridcolor\": \"white\", \"linecolor\": \"white\", \"ticks\": \"\"}, \"baxis\": {\"gridcolor\": \"white\", \"linecolor\": \"white\", \"ticks\": \"\"}, \"bgcolor\": \"#E5ECF6\", \"caxis\": {\"gridcolor\": \"white\", \"linecolor\": \"white\", \"ticks\": \"\"}}, \"title\": {\"x\": 0.05}, \"xaxis\": {\"automargin\": true, \"gridcolor\": \"white\", \"linecolor\": \"white\", \"ticks\": \"\", \"title\": {\"standoff\": 15}, \"zerolinecolor\": \"white\", \"zerolinewidth\": 2}, \"yaxis\": {\"automargin\": true, \"gridcolor\": \"white\", \"linecolor\": \"white\", \"ticks\": \"\", \"title\": {\"standoff\": 15}, \"zerolinecolor\": \"white\", \"zerolinewidth\": 2}}}},\n",
              "                        {\"responsive\": true}\n",
              "                    ).then(function(){\n",
              "                            \n",
              "var gd = document.getElementById('16961dcf-dc15-494a-b4e0-324abb6663c5');\n",
              "var x = new MutationObserver(function (mutations, observer) {{\n",
              "        var display = window.getComputedStyle(gd).display;\n",
              "        if (!display || display === 'none') {{\n",
              "            console.log([gd, 'removed!']);\n",
              "            Plotly.purge(gd);\n",
              "            observer.disconnect();\n",
              "        }}\n",
              "}});\n",
              "\n",
              "// Listen for the removal of the full notebook cells\n",
              "var notebookContainer = gd.closest('#notebook-container');\n",
              "if (notebookContainer) {{\n",
              "    x.observe(notebookContainer, {childList: true});\n",
              "}}\n",
              "\n",
              "// Listen for the clearing of the current output cell\n",
              "var outputEl = gd.closest('.output');\n",
              "if (outputEl) {{\n",
              "    x.observe(outputEl, {childList: true});\n",
              "}}\n",
              "\n",
              "                        })\n",
              "                };\n",
              "                \n",
              "            </script>\n",
              "        </div>\n",
              "</body>\n",
              "</html>"
            ]
          },
          "metadata": {}
        }
      ]
    },
    {
      "cell_type": "code",
      "metadata": {
        "colab": {
          "base_uri": "https://localhost:8080/"
        },
        "id": "CfZuB5xxSYce",
        "outputId": "44b32fb4-f83b-4e07-e1b1-883fbf600bf3"
      },
      "source": [
        "# depth 11로 모델 생성 \n",
        "tree2 = DecisionTreeClassifier(criterion = \"gini\", random_state = 100,\n",
        "                               max_depth=11, min_samples_leaf=200)\n",
        "tree2.fit(X_train,y_train)\n",
        "tree2.score(X_test,y_test)"
      ],
      "execution_count": 72,
      "outputs": [
        {
          "output_type": "execute_result",
          "data": {
            "text/plain": [
              "0.8562342848691022"
            ]
          },
          "metadata": {},
          "execution_count": 72
        }
      ]
    },
    {
      "cell_type": "code",
      "metadata": {
        "colab": {
          "base_uri": "https://localhost:8080/"
        },
        "id": "1aPMfTkTSpmB",
        "outputId": "bb8d7750-7d6f-48d3-b713-9e94a42b8a93"
      },
      "source": [
        "# 혼동 행렬 \n",
        "y_pred_train =tree2.predict(X_train)\n",
        "\n",
        "from sklearn import metrics\n",
        "from sklearn.metrics import confusion_matrix, classification_report\n",
        "\n",
        "accuracy = metrics.accuracy_score(y_train, y_pred_train)\n",
        "print(\"Accuracy: {:.2f}\".format(accuracy))\n",
        "cm=confusion_matrix(y_train,y_pred_train)\n",
        "print('Confusion Matrix: \\n', cm)"
      ],
      "execution_count": 73,
      "outputs": [
        {
          "output_type": "stream",
          "name": "stdout",
          "text": [
            "Accuracy: 0.86\n",
            "Confusion Matrix: \n",
            " [[169231  43740]\n",
            " [ 17384 195588]]\n"
          ]
        }
      ]
    },
    {
      "cell_type": "code",
      "metadata": {
        "colab": {
          "base_uri": "https://localhost:8080/"
        },
        "id": "NSDKNxr0SyDx",
        "outputId": "39a4993d-eba7-48dd-e628-0f85f85d9016"
      },
      "source": [
        "# kflod 모델 검증\n",
        "from sklearn.model_selection import cross_val_score\n",
        "from sklearn.model_selection import KFold\n",
        "\n",
        "kfold = KFold(n_splits = 6, shuffle = True, random_state = 100)\n",
        "\n",
        "print(\"cross validation score : {}\".format(cross_val_score(tree2, X_under, y_under, cv = kfold)))"
      ],
      "execution_count": 74,
      "outputs": [
        {
          "output_type": "stream",
          "name": "stdout",
          "text": [
            "cross validation score : [0.8574915  0.85784013 0.85677309 0.856921   0.8546707  0.85862193]\n"
          ]
        }
      ]
    },
    {
      "cell_type": "markdown",
      "metadata": {
        "id": "TufnOI3FS8e7"
      },
      "source": [
        "## 2) Naive Bayes "
      ]
    },
    {
      "cell_type": "code",
      "metadata": {
        "colab": {
          "base_uri": "https://localhost:8080/"
        },
        "id": "bV_NvrdWS12H",
        "outputId": "a52f6b60-f1e7-45ed-a10f-c2d3e3f57f54"
      },
      "source": [
        "from sklearn.naive_bayes import MultinomialNB\n",
        "\n",
        "# 모델 생성\n",
        "nb = MultinomialNB()\n",
        "\n",
        "# 모델 훈련\n",
        "nb.fit(X_train, y_train)\n",
        "\n",
        "# 모델 테스트\n",
        "nb.score(X_test, y_test)"
      ],
      "execution_count": 75,
      "outputs": [
        {
          "output_type": "execute_result",
          "data": {
            "text/plain": [
              "0.6074333889745811"
            ]
          },
          "metadata": {},
          "execution_count": 75
        }
      ]
    },
    {
      "cell_type": "code",
      "metadata": {
        "colab": {
          "base_uri": "https://localhost:8080/",
          "height": 354
        },
        "id": "fqsUAQEpTOAH",
        "outputId": "1c6bddd5-71b2-459f-e21a-9596f623cc94"
      },
      "source": [
        "# 혼동행렬\n",
        "confusion_matrix(y_test, labels)"
      ],
      "execution_count": 76,
      "outputs": [
        {
          "output_type": "error",
          "ename": "ValueError",
          "evalue": "ignored",
          "traceback": [
            "\u001b[0;31m---------------------------------------------------------------------------\u001b[0m",
            "\u001b[0;31mValueError\u001b[0m                                Traceback (most recent call last)",
            "\u001b[0;32m<ipython-input-76-d46b8a9f9e0d>\u001b[0m in \u001b[0;36m<module>\u001b[0;34m()\u001b[0m\n\u001b[1;32m      1\u001b[0m \u001b[0;31m# 혼동행렬\u001b[0m\u001b[0;34m\u001b[0m\u001b[0;34m\u001b[0m\u001b[0;34m\u001b[0m\u001b[0m\n\u001b[0;32m----> 2\u001b[0;31m \u001b[0mconfusion_matrix\u001b[0m\u001b[0;34m(\u001b[0m\u001b[0my_test\u001b[0m\u001b[0;34m,\u001b[0m \u001b[0mlabels\u001b[0m\u001b[0;34m)\u001b[0m\u001b[0;34m\u001b[0m\u001b[0;34m\u001b[0m\u001b[0m\n\u001b[0m",
            "\u001b[0;32m/usr/local/lib/python3.7/dist-packages/sklearn/metrics/_classification.py\u001b[0m in \u001b[0;36mconfusion_matrix\u001b[0;34m(y_true, y_pred, labels, sample_weight, normalize)\u001b[0m\n\u001b[1;32m    266\u001b[0m \u001b[0;34m\u001b[0m\u001b[0m\n\u001b[1;32m    267\u001b[0m     \"\"\"\n\u001b[0;32m--> 268\u001b[0;31m     \u001b[0my_type\u001b[0m\u001b[0;34m,\u001b[0m \u001b[0my_true\u001b[0m\u001b[0;34m,\u001b[0m \u001b[0my_pred\u001b[0m \u001b[0;34m=\u001b[0m \u001b[0m_check_targets\u001b[0m\u001b[0;34m(\u001b[0m\u001b[0my_true\u001b[0m\u001b[0;34m,\u001b[0m \u001b[0my_pred\u001b[0m\u001b[0;34m)\u001b[0m\u001b[0;34m\u001b[0m\u001b[0;34m\u001b[0m\u001b[0m\n\u001b[0m\u001b[1;32m    269\u001b[0m     \u001b[0;32mif\u001b[0m \u001b[0my_type\u001b[0m \u001b[0;32mnot\u001b[0m \u001b[0;32min\u001b[0m \u001b[0;34m(\u001b[0m\u001b[0;34m\"binary\"\u001b[0m\u001b[0;34m,\u001b[0m \u001b[0;34m\"multiclass\"\u001b[0m\u001b[0;34m)\u001b[0m\u001b[0;34m:\u001b[0m\u001b[0;34m\u001b[0m\u001b[0;34m\u001b[0m\u001b[0m\n\u001b[1;32m    270\u001b[0m         \u001b[0;32mraise\u001b[0m \u001b[0mValueError\u001b[0m\u001b[0;34m(\u001b[0m\u001b[0;34m\"%s is not supported\"\u001b[0m \u001b[0;34m%\u001b[0m \u001b[0my_type\u001b[0m\u001b[0;34m)\u001b[0m\u001b[0;34m\u001b[0m\u001b[0;34m\u001b[0m\u001b[0m\n",
            "\u001b[0;32m/usr/local/lib/python3.7/dist-packages/sklearn/metrics/_classification.py\u001b[0m in \u001b[0;36m_check_targets\u001b[0;34m(y_true, y_pred)\u001b[0m\n\u001b[1;32m     78\u001b[0m     \u001b[0my_pred\u001b[0m \u001b[0;34m:\u001b[0m \u001b[0marray\u001b[0m \u001b[0;32mor\u001b[0m \u001b[0mindicator\u001b[0m \u001b[0mmatrix\u001b[0m\u001b[0;34m\u001b[0m\u001b[0;34m\u001b[0m\u001b[0m\n\u001b[1;32m     79\u001b[0m     \"\"\"\n\u001b[0;32m---> 80\u001b[0;31m     \u001b[0mcheck_consistent_length\u001b[0m\u001b[0;34m(\u001b[0m\u001b[0my_true\u001b[0m\u001b[0;34m,\u001b[0m \u001b[0my_pred\u001b[0m\u001b[0;34m)\u001b[0m\u001b[0;34m\u001b[0m\u001b[0;34m\u001b[0m\u001b[0m\n\u001b[0m\u001b[1;32m     81\u001b[0m     \u001b[0mtype_true\u001b[0m \u001b[0;34m=\u001b[0m \u001b[0mtype_of_target\u001b[0m\u001b[0;34m(\u001b[0m\u001b[0my_true\u001b[0m\u001b[0;34m)\u001b[0m\u001b[0;34m\u001b[0m\u001b[0;34m\u001b[0m\u001b[0m\n\u001b[1;32m     82\u001b[0m     \u001b[0mtype_pred\u001b[0m \u001b[0;34m=\u001b[0m \u001b[0mtype_of_target\u001b[0m\u001b[0;34m(\u001b[0m\u001b[0my_pred\u001b[0m\u001b[0;34m)\u001b[0m\u001b[0;34m\u001b[0m\u001b[0;34m\u001b[0m\u001b[0m\n",
            "\u001b[0;32m/usr/local/lib/python3.7/dist-packages/sklearn/utils/validation.py\u001b[0m in \u001b[0;36mcheck_consistent_length\u001b[0;34m(*arrays)\u001b[0m\n\u001b[1;32m    210\u001b[0m     \u001b[0;32mif\u001b[0m \u001b[0mlen\u001b[0m\u001b[0;34m(\u001b[0m\u001b[0muniques\u001b[0m\u001b[0;34m)\u001b[0m \u001b[0;34m>\u001b[0m \u001b[0;36m1\u001b[0m\u001b[0;34m:\u001b[0m\u001b[0;34m\u001b[0m\u001b[0;34m\u001b[0m\u001b[0m\n\u001b[1;32m    211\u001b[0m         raise ValueError(\"Found input variables with inconsistent numbers of\"\n\u001b[0;32m--> 212\u001b[0;31m                          \" samples: %r\" % [int(l) for l in lengths])\n\u001b[0m\u001b[1;32m    213\u001b[0m \u001b[0;34m\u001b[0m\u001b[0m\n\u001b[1;32m    214\u001b[0m \u001b[0;34m\u001b[0m\u001b[0m\n",
            "\u001b[0;31mValueError\u001b[0m: Found input variables with inconsistent numbers of samples: [141981, 9]"
          ]
        }
      ]
    },
    {
      "cell_type": "code",
      "metadata": {
        "colab": {
          "base_uri": "https://localhost:8080/"
        },
        "id": "-sCxUW30TPZF",
        "outputId": "08d538ab-9a00-4265-fa92-3a5b4abc78ec"
      },
      "source": [
        "kfold = KFold(n_splits = 6, shuffle = True, random_state = 100)\n",
        "\n",
        "print(\"cross validation score : {}\".format(cross_val_score(nb, X_under, y_under, cv = kfold)))"
      ],
      "execution_count": 77,
      "outputs": [
        {
          "output_type": "stream",
          "name": "stdout",
          "text": [
            "cross validation score : [0.60666216 0.60478163 0.6079405  0.60972595 0.6086906  0.60576415]\n"
          ]
        }
      ]
    },
    {
      "cell_type": "markdown",
      "metadata": {
        "id": "BAExTOyLTUY7"
      },
      "source": [
        "## 3) Logistic Regression "
      ]
    },
    {
      "cell_type": "code",
      "metadata": {
        "colab": {
          "base_uri": "https://localhost:8080/"
        },
        "id": "Ts99oVUJTR0q",
        "outputId": "d8368ee8-f603-4205-eed1-12c1141856d8"
      },
      "source": [
        "from sklearn.linear_model import LogisticRegression\n",
        "\n",
        "# 모델 생성 \n",
        "logi = LogisticRegression()\n",
        "\n",
        "# 모델 훈련\n",
        "logi.fit(X_train, y_train)\n",
        "\n",
        "# 모델 테스트 \n",
        "logi.score(X_test,y_test)"
      ],
      "execution_count": 78,
      "outputs": [
        {
          "output_type": "execute_result",
          "data": {
            "text/plain": [
              "0.7973038646016016"
            ]
          },
          "metadata": {},
          "execution_count": 78
        }
      ]
    },
    {
      "cell_type": "code",
      "metadata": {
        "colab": {
          "base_uri": "https://localhost:8080/"
        },
        "id": "b1C7QMU1Tcnk",
        "outputId": "5e703f4f-364f-4002-b637-031779a902eb"
      },
      "source": [
        "# 회귀식 계수 확인\n",
        "logi.coef_"
      ],
      "execution_count": 79,
      "outputs": [
        {
          "output_type": "execute_result",
          "data": {
            "text/plain": [
              "array([[ 0.07380145,  0.01131658,  0.01058624,  0.03986612, -0.01143796,\n",
              "         0.03408204,  1.3872647 ,  0.0700563 ]])"
            ]
          },
          "metadata": {},
          "execution_count": 79
        }
      ]
    },
    {
      "cell_type": "code",
      "metadata": {
        "colab": {
          "base_uri": "https://localhost:8080/"
        },
        "id": "Rvv4KQ-sTfhl",
        "outputId": "fc5cb9d6-b313-45a8-f1de-0104e4315fa5"
      },
      "source": [
        "# 혼동행렬\n",
        "y_pred_train =logi.predict(X_train)\n",
        "cm=confusion_matrix(y_train,y_pred_train)\n",
        "print('Confusion Matrix: \\n', cm)"
      ],
      "execution_count": 80,
      "outputs": [
        {
          "output_type": "stream",
          "name": "stdout",
          "text": [
            "Confusion Matrix: \n",
            " [[173597  39374]\n",
            " [ 47534 165438]]\n"
          ]
        }
      ]
    },
    {
      "cell_type": "code",
      "metadata": {
        "colab": {
          "base_uri": "https://localhost:8080/"
        },
        "id": "K4Ho7sxTTmH5",
        "outputId": "fc8ce00f-ea12-4c92-f18b-6a936d2b8905"
      },
      "source": [
        "kfold = KFold(n_splits = 6, shuffle = True, random_state = 100)\n",
        "\n",
        "print(\"cross validation score : {}\".format(cross_val_score(logi, X_under, y_under, cv = kfold)))"
      ],
      "execution_count": 81,
      "outputs": [
        {
          "output_type": "stream",
          "name": "stdout",
          "text": [
            "cross validation score : [0.79727217 0.79686014 0.79631077 0.79712426 0.79484227 0.79482114]\n"
          ]
        }
      ]
    },
    {
      "cell_type": "markdown",
      "metadata": {
        "id": "w8d51Kh1Tvoz"
      },
      "source": [
        "## 4) Knn"
      ]
    },
    {
      "cell_type": "code",
      "metadata": {
        "colab": {
          "base_uri": "https://localhost:8080/"
        },
        "id": "gG2Hc-zvTtfV",
        "outputId": "1b5af7ba-c083-454a-eb0c-6f9a63c333d9"
      },
      "source": [
        "from sklearn.neighbors import KNeighborsClassifier\n",
        "\n",
        "# 모델 생성 \n",
        "knn = KNeighborsClassifier(n_neighbors = 3)\n",
        "\n",
        "# 모델 훈련\n",
        "knn.fit(X_train, y_train)\n",
        "\n",
        "# 모델 테스트 \n",
        "knn.score(X_test,y_test)"
      ],
      "execution_count": 82,
      "outputs": [
        {
          "output_type": "execute_result",
          "data": {
            "text/plain": [
              "0.8247230263204232"
            ]
          },
          "metadata": {},
          "execution_count": 82
        }
      ]
    },
    {
      "cell_type": "code",
      "metadata": {
        "colab": {
          "base_uri": "https://localhost:8080/"
        },
        "id": "8_Q7oYQlAoYu",
        "outputId": "87d6bf0e-c58d-4879-a38c-e8a9d81ae28b"
      },
      "source": [
        "from sklearn.neighbors import KNeighborsClassifier\n",
        "\n",
        "# 모델 생성 \n",
        "knn = KNeighborsClassifier(n_neighbors = 3, weights = 'distance')\n",
        "\n",
        "# 모델 훈련\n",
        "knn.fit(X_train, y_train)\n",
        "\n",
        "# 모델 테스트 \n",
        "knn.score(X_test,y_test)"
      ],
      "execution_count": 88,
      "outputs": [
        {
          "output_type": "execute_result",
          "data": {
            "text/plain": [
              "0.822757974658581"
            ]
          },
          "metadata": {},
          "execution_count": 88
        }
      ]
    },
    {
      "cell_type": "code",
      "metadata": {
        "colab": {
          "base_uri": "https://localhost:8080/"
        },
        "id": "wK69ICj5T4vl",
        "outputId": "c8c861fa-44fd-4628-aef0-1a29fdadd1b6"
      },
      "source": [
        "# 혼동 행렬\n",
        "y_pred_train =knn.predict(X_train)\n",
        "cm=confusion_matrix(y_train,y_pred_train)\n",
        "print('Confusion Matrix: \\n', cm)"
      ],
      "execution_count": 83,
      "outputs": [
        {
          "output_type": "stream",
          "name": "stdout",
          "text": [
            "Confusion Matrix: \n",
            " [[187147  25824]\n",
            " [ 21515 191457]]\n"
          ]
        }
      ]
    },
    {
      "cell_type": "code",
      "metadata": {
        "colab": {
          "base_uri": "https://localhost:8080/",
          "height": 542
        },
        "id": "nDhRJHPnUHKZ",
        "outputId": "0c8a2e03-f191-4764-d076-627211734fc8"
      },
      "source": [
        "# 거리 weight 없이, k값 변화 시, accuracy 변화 확인 \n",
        "k_range = range(5,20)             \n",
        "k_score = []                       \n",
        "\n",
        "for k in k_range :\n",
        "\tknn = KNeighborsClassifier(n_neighbors = k)\n",
        "\tknn.fit(X_train, y_train)\n",
        "\tk_score.append(knn.score(X_test,y_test))    \n",
        "\n",
        "fig = go.Figure()\n",
        "x = [i for i in range(5,20)]\n",
        "fig.add_trace(go.Scatter(x = x, y = k_score))\n",
        "fig.show()"
      ],
      "execution_count": 84,
      "outputs": [
        {
          "output_type": "display_data",
          "data": {
            "text/html": [
              "<html>\n",
              "<head><meta charset=\"utf-8\" /></head>\n",
              "<body>\n",
              "    <div>\n",
              "            <script src=\"https://cdnjs.cloudflare.com/ajax/libs/mathjax/2.7.5/MathJax.js?config=TeX-AMS-MML_SVG\"></script><script type=\"text/javascript\">if (window.MathJax) {MathJax.Hub.Config({SVG: {font: \"STIX-Web\"}});}</script>\n",
              "                <script type=\"text/javascript\">window.PlotlyConfig = {MathJaxConfig: 'local'};</script>\n",
              "        <script src=\"https://cdn.plot.ly/plotly-latest.min.js\"></script>    \n",
              "            <div id=\"4a2602da-daf4-43ba-b342-a4a632f8a44b\" class=\"plotly-graph-div\" style=\"height:525px; width:100%;\"></div>\n",
              "            <script type=\"text/javascript\">\n",
              "                \n",
              "                    window.PLOTLYENV=window.PLOTLYENV || {};\n",
              "                    \n",
              "                if (document.getElementById(\"4a2602da-daf4-43ba-b342-a4a632f8a44b\")) {\n",
              "                    Plotly.newPlot(\n",
              "                        '4a2602da-daf4-43ba-b342-a4a632f8a44b',\n",
              "                        [{\"type\": \"scatter\", \"x\": [5, 6, 7, 8, 9, 10, 11, 12, 13, 14, 15, 16, 17, 18, 19], \"y\": [0.8288151231502807, 0.822757974658581, 0.8293997084116889, 0.8256245553982575, 0.8294278811953713, 0.8264274797332037, 0.8293151900606419, 0.8255963826145752, 0.8279206372683668, 0.8254062163247196, 0.8262513998351892, 0.8244976440509646, 0.8250751861164523, 0.8229833569280397, 0.8237440220874624]}],\n",
              "                        {\"template\": {\"data\": {\"bar\": [{\"error_x\": {\"color\": \"#2a3f5f\"}, \"error_y\": {\"color\": \"#2a3f5f\"}, \"marker\": {\"line\": {\"color\": \"#E5ECF6\", \"width\": 0.5}}, \"type\": \"bar\"}], \"barpolar\": [{\"marker\": {\"line\": {\"color\": \"#E5ECF6\", \"width\": 0.5}}, \"type\": \"barpolar\"}], \"carpet\": [{\"aaxis\": {\"endlinecolor\": \"#2a3f5f\", \"gridcolor\": \"white\", \"linecolor\": \"white\", \"minorgridcolor\": \"white\", \"startlinecolor\": \"#2a3f5f\"}, \"baxis\": {\"endlinecolor\": \"#2a3f5f\", \"gridcolor\": \"white\", \"linecolor\": \"white\", \"minorgridcolor\": \"white\", \"startlinecolor\": \"#2a3f5f\"}, \"type\": \"carpet\"}], \"choropleth\": [{\"colorbar\": {\"outlinewidth\": 0, \"ticks\": \"\"}, \"type\": \"choropleth\"}], \"contour\": [{\"colorbar\": {\"outlinewidth\": 0, \"ticks\": \"\"}, \"colorscale\": [[0.0, \"#0d0887\"], [0.1111111111111111, \"#46039f\"], [0.2222222222222222, \"#7201a8\"], [0.3333333333333333, \"#9c179e\"], [0.4444444444444444, \"#bd3786\"], [0.5555555555555556, \"#d8576b\"], [0.6666666666666666, \"#ed7953\"], [0.7777777777777778, \"#fb9f3a\"], [0.8888888888888888, \"#fdca26\"], [1.0, \"#f0f921\"]], \"type\": \"contour\"}], \"contourcarpet\": [{\"colorbar\": {\"outlinewidth\": 0, \"ticks\": \"\"}, \"type\": \"contourcarpet\"}], \"heatmap\": [{\"colorbar\": {\"outlinewidth\": 0, \"ticks\": \"\"}, \"colorscale\": [[0.0, \"#0d0887\"], [0.1111111111111111, \"#46039f\"], [0.2222222222222222, \"#7201a8\"], [0.3333333333333333, \"#9c179e\"], [0.4444444444444444, \"#bd3786\"], [0.5555555555555556, \"#d8576b\"], [0.6666666666666666, \"#ed7953\"], [0.7777777777777778, \"#fb9f3a\"], [0.8888888888888888, \"#fdca26\"], [1.0, \"#f0f921\"]], \"type\": \"heatmap\"}], \"heatmapgl\": [{\"colorbar\": {\"outlinewidth\": 0, \"ticks\": \"\"}, \"colorscale\": [[0.0, \"#0d0887\"], [0.1111111111111111, \"#46039f\"], [0.2222222222222222, \"#7201a8\"], [0.3333333333333333, \"#9c179e\"], [0.4444444444444444, \"#bd3786\"], [0.5555555555555556, \"#d8576b\"], [0.6666666666666666, \"#ed7953\"], [0.7777777777777778, \"#fb9f3a\"], [0.8888888888888888, \"#fdca26\"], [1.0, \"#f0f921\"]], \"type\": \"heatmapgl\"}], \"histogram\": [{\"marker\": {\"colorbar\": {\"outlinewidth\": 0, \"ticks\": \"\"}}, \"type\": \"histogram\"}], \"histogram2d\": [{\"colorbar\": {\"outlinewidth\": 0, \"ticks\": \"\"}, \"colorscale\": [[0.0, \"#0d0887\"], [0.1111111111111111, \"#46039f\"], [0.2222222222222222, \"#7201a8\"], [0.3333333333333333, \"#9c179e\"], [0.4444444444444444, \"#bd3786\"], [0.5555555555555556, \"#d8576b\"], [0.6666666666666666, \"#ed7953\"], [0.7777777777777778, \"#fb9f3a\"], [0.8888888888888888, \"#fdca26\"], [1.0, \"#f0f921\"]], \"type\": \"histogram2d\"}], \"histogram2dcontour\": [{\"colorbar\": {\"outlinewidth\": 0, \"ticks\": \"\"}, \"colorscale\": [[0.0, \"#0d0887\"], [0.1111111111111111, \"#46039f\"], [0.2222222222222222, \"#7201a8\"], [0.3333333333333333, \"#9c179e\"], [0.4444444444444444, \"#bd3786\"], [0.5555555555555556, \"#d8576b\"], [0.6666666666666666, \"#ed7953\"], [0.7777777777777778, \"#fb9f3a\"], [0.8888888888888888, \"#fdca26\"], [1.0, \"#f0f921\"]], \"type\": \"histogram2dcontour\"}], \"mesh3d\": [{\"colorbar\": {\"outlinewidth\": 0, \"ticks\": \"\"}, \"type\": \"mesh3d\"}], \"parcoords\": [{\"line\": {\"colorbar\": {\"outlinewidth\": 0, \"ticks\": \"\"}}, \"type\": \"parcoords\"}], \"pie\": [{\"automargin\": true, \"type\": \"pie\"}], \"scatter\": [{\"marker\": {\"colorbar\": {\"outlinewidth\": 0, \"ticks\": \"\"}}, \"type\": \"scatter\"}], \"scatter3d\": [{\"line\": {\"colorbar\": {\"outlinewidth\": 0, \"ticks\": \"\"}}, \"marker\": {\"colorbar\": {\"outlinewidth\": 0, \"ticks\": \"\"}}, \"type\": \"scatter3d\"}], \"scattercarpet\": [{\"marker\": {\"colorbar\": {\"outlinewidth\": 0, \"ticks\": \"\"}}, \"type\": \"scattercarpet\"}], \"scattergeo\": [{\"marker\": {\"colorbar\": {\"outlinewidth\": 0, \"ticks\": \"\"}}, \"type\": \"scattergeo\"}], \"scattergl\": [{\"marker\": {\"colorbar\": {\"outlinewidth\": 0, \"ticks\": \"\"}}, \"type\": \"scattergl\"}], \"scattermapbox\": [{\"marker\": {\"colorbar\": {\"outlinewidth\": 0, \"ticks\": \"\"}}, \"type\": \"scattermapbox\"}], \"scatterpolar\": [{\"marker\": {\"colorbar\": {\"outlinewidth\": 0, \"ticks\": \"\"}}, \"type\": \"scatterpolar\"}], \"scatterpolargl\": [{\"marker\": {\"colorbar\": {\"outlinewidth\": 0, \"ticks\": \"\"}}, \"type\": \"scatterpolargl\"}], \"scatterternary\": [{\"marker\": {\"colorbar\": {\"outlinewidth\": 0, \"ticks\": \"\"}}, \"type\": \"scatterternary\"}], \"surface\": [{\"colorbar\": {\"outlinewidth\": 0, \"ticks\": \"\"}, \"colorscale\": [[0.0, \"#0d0887\"], [0.1111111111111111, \"#46039f\"], [0.2222222222222222, \"#7201a8\"], [0.3333333333333333, \"#9c179e\"], [0.4444444444444444, \"#bd3786\"], [0.5555555555555556, \"#d8576b\"], [0.6666666666666666, \"#ed7953\"], [0.7777777777777778, \"#fb9f3a\"], [0.8888888888888888, \"#fdca26\"], [1.0, \"#f0f921\"]], \"type\": \"surface\"}], \"table\": [{\"cells\": {\"fill\": {\"color\": \"#EBF0F8\"}, \"line\": {\"color\": \"white\"}}, \"header\": {\"fill\": {\"color\": \"#C8D4E3\"}, \"line\": {\"color\": \"white\"}}, \"type\": \"table\"}]}, \"layout\": {\"annotationdefaults\": {\"arrowcolor\": \"#2a3f5f\", \"arrowhead\": 0, \"arrowwidth\": 1}, \"coloraxis\": {\"colorbar\": {\"outlinewidth\": 0, \"ticks\": \"\"}}, \"colorscale\": {\"diverging\": [[0, \"#8e0152\"], [0.1, \"#c51b7d\"], [0.2, \"#de77ae\"], [0.3, \"#f1b6da\"], [0.4, \"#fde0ef\"], [0.5, \"#f7f7f7\"], [0.6, \"#e6f5d0\"], [0.7, \"#b8e186\"], [0.8, \"#7fbc41\"], [0.9, \"#4d9221\"], [1, \"#276419\"]], \"sequential\": [[0.0, \"#0d0887\"], [0.1111111111111111, \"#46039f\"], [0.2222222222222222, \"#7201a8\"], [0.3333333333333333, \"#9c179e\"], [0.4444444444444444, \"#bd3786\"], [0.5555555555555556, \"#d8576b\"], [0.6666666666666666, \"#ed7953\"], [0.7777777777777778, \"#fb9f3a\"], [0.8888888888888888, \"#fdca26\"], [1.0, \"#f0f921\"]], \"sequentialminus\": [[0.0, \"#0d0887\"], [0.1111111111111111, \"#46039f\"], [0.2222222222222222, \"#7201a8\"], [0.3333333333333333, \"#9c179e\"], [0.4444444444444444, \"#bd3786\"], [0.5555555555555556, \"#d8576b\"], [0.6666666666666666, \"#ed7953\"], [0.7777777777777778, \"#fb9f3a\"], [0.8888888888888888, \"#fdca26\"], [1.0, \"#f0f921\"]]}, \"colorway\": [\"#636efa\", \"#EF553B\", \"#00cc96\", \"#ab63fa\", \"#FFA15A\", \"#19d3f3\", \"#FF6692\", \"#B6E880\", \"#FF97FF\", \"#FECB52\"], \"font\": {\"color\": \"#2a3f5f\"}, \"geo\": {\"bgcolor\": \"white\", \"lakecolor\": \"white\", \"landcolor\": \"#E5ECF6\", \"showlakes\": true, \"showland\": true, \"subunitcolor\": \"white\"}, \"hoverlabel\": {\"align\": \"left\"}, \"hovermode\": \"closest\", \"mapbox\": {\"style\": \"light\"}, \"paper_bgcolor\": \"white\", \"plot_bgcolor\": \"#E5ECF6\", \"polar\": {\"angularaxis\": {\"gridcolor\": \"white\", \"linecolor\": \"white\", \"ticks\": \"\"}, \"bgcolor\": \"#E5ECF6\", \"radialaxis\": {\"gridcolor\": \"white\", \"linecolor\": \"white\", \"ticks\": \"\"}}, \"scene\": {\"xaxis\": {\"backgroundcolor\": \"#E5ECF6\", \"gridcolor\": \"white\", \"gridwidth\": 2, \"linecolor\": \"white\", \"showbackground\": true, \"ticks\": \"\", \"zerolinecolor\": \"white\"}, \"yaxis\": {\"backgroundcolor\": \"#E5ECF6\", \"gridcolor\": \"white\", \"gridwidth\": 2, \"linecolor\": \"white\", \"showbackground\": true, \"ticks\": \"\", \"zerolinecolor\": \"white\"}, \"zaxis\": {\"backgroundcolor\": \"#E5ECF6\", \"gridcolor\": \"white\", \"gridwidth\": 2, \"linecolor\": \"white\", \"showbackground\": true, \"ticks\": \"\", \"zerolinecolor\": \"white\"}}, \"shapedefaults\": {\"line\": {\"color\": \"#2a3f5f\"}}, \"ternary\": {\"aaxis\": {\"gridcolor\": \"white\", \"linecolor\": \"white\", \"ticks\": \"\"}, \"baxis\": {\"gridcolor\": \"white\", \"linecolor\": \"white\", \"ticks\": \"\"}, \"bgcolor\": \"#E5ECF6\", \"caxis\": {\"gridcolor\": \"white\", \"linecolor\": \"white\", \"ticks\": \"\"}}, \"title\": {\"x\": 0.05}, \"xaxis\": {\"automargin\": true, \"gridcolor\": \"white\", \"linecolor\": \"white\", \"ticks\": \"\", \"title\": {\"standoff\": 15}, \"zerolinecolor\": \"white\", \"zerolinewidth\": 2}, \"yaxis\": {\"automargin\": true, \"gridcolor\": \"white\", \"linecolor\": \"white\", \"ticks\": \"\", \"title\": {\"standoff\": 15}, \"zerolinecolor\": \"white\", \"zerolinewidth\": 2}}}},\n",
              "                        {\"responsive\": true}\n",
              "                    ).then(function(){\n",
              "                            \n",
              "var gd = document.getElementById('4a2602da-daf4-43ba-b342-a4a632f8a44b');\n",
              "var x = new MutationObserver(function (mutations, observer) {{\n",
              "        var display = window.getComputedStyle(gd).display;\n",
              "        if (!display || display === 'none') {{\n",
              "            console.log([gd, 'removed!']);\n",
              "            Plotly.purge(gd);\n",
              "            observer.disconnect();\n",
              "        }}\n",
              "}});\n",
              "\n",
              "// Listen for the removal of the full notebook cells\n",
              "var notebookContainer = gd.closest('#notebook-container');\n",
              "if (notebookContainer) {{\n",
              "    x.observe(notebookContainer, {childList: true});\n",
              "}}\n",
              "\n",
              "// Listen for the clearing of the current output cell\n",
              "var outputEl = gd.closest('.output');\n",
              "if (outputEl) {{\n",
              "    x.observe(outputEl, {childList: true});\n",
              "}}\n",
              "\n",
              "                        })\n",
              "                };\n",
              "                \n",
              "            </script>\n",
              "        </div>\n",
              "</body>\n",
              "</html>"
            ]
          },
          "metadata": {}
        }
      ]
    },
    {
      "cell_type": "code",
      "metadata": {
        "colab": {
          "base_uri": "https://localhost:8080/",
          "height": 542
        },
        "id": "NQXK5OIWUh01",
        "outputId": "b21799c8-e544-4b51-9a17-089eaff2a7ba"
      },
      "source": [
        "# 거리 weight 있이, k값 변화 시, accuracy 변화 확인 \n",
        "\n",
        "k_range = range(5,20)              \n",
        "k_score = []                       \n",
        "\n",
        "for k in k_range :\n",
        "\tknn = KNeighborsClassifier(n_neighbors = k, weights = 'distance')\n",
        "\tknn.fit(X_train, y_train)\n",
        "\tk_score.append(knn.score(X_test,y_test))   \n",
        " \n",
        "fig = go.Figure()\n",
        "x = [i for i in range(5,20)]\n",
        "fig.add_trace(go.Scatter(x = x, y = k_score))\n",
        "fig.show()"
      ],
      "execution_count": 86,
      "outputs": [
        {
          "output_type": "display_data",
          "data": {
            "text/html": [
              "<html>\n",
              "<head><meta charset=\"utf-8\" /></head>\n",
              "<body>\n",
              "    <div>\n",
              "            <script src=\"https://cdnjs.cloudflare.com/ajax/libs/mathjax/2.7.5/MathJax.js?config=TeX-AMS-MML_SVG\"></script><script type=\"text/javascript\">if (window.MathJax) {MathJax.Hub.Config({SVG: {font: \"STIX-Web\"}});}</script>\n",
              "                <script type=\"text/javascript\">window.PlotlyConfig = {MathJaxConfig: 'local'};</script>\n",
              "        <script src=\"https://cdn.plot.ly/plotly-latest.min.js\"></script>    \n",
              "            <div id=\"2c8f9b4e-3e4a-4645-a58e-9b45dcd6583e\" class=\"plotly-graph-div\" style=\"height:525px; width:100%;\"></div>\n",
              "            <script type=\"text/javascript\">\n",
              "                \n",
              "                    window.PLOTLYENV=window.PLOTLYENV || {};\n",
              "                    \n",
              "                if (document.getElementById(\"2c8f9b4e-3e4a-4645-a58e-9b45dcd6583e\")) {\n",
              "                    Plotly.newPlot(\n",
              "                        '2c8f9b4e-3e4a-4645-a58e-9b45dcd6583e',\n",
              "                        [{\"type\": \"scatter\", \"x\": [5, 6, 7, 8, 9, 10, 11, 12, 13, 14, 15, 16, 17, 18, 19], \"y\": [0.8266880779822652, 0.8269064170558033, 0.8277304709785112, 0.8282798402603165, 0.8283573154154429, 0.8286672160359485, 0.828709475211472, 0.8284488769624104, 0.8281953219092696, 0.8279769828357315, 0.8274557863376085, 0.8274064839661645, 0.827279706439594, 0.8263429613821568, 0.8262936590107127]}],\n",
              "                        {\"template\": {\"data\": {\"bar\": [{\"error_x\": {\"color\": \"#2a3f5f\"}, \"error_y\": {\"color\": \"#2a3f5f\"}, \"marker\": {\"line\": {\"color\": \"#E5ECF6\", \"width\": 0.5}}, \"type\": \"bar\"}], \"barpolar\": [{\"marker\": {\"line\": {\"color\": \"#E5ECF6\", \"width\": 0.5}}, \"type\": \"barpolar\"}], \"carpet\": [{\"aaxis\": {\"endlinecolor\": \"#2a3f5f\", \"gridcolor\": \"white\", \"linecolor\": \"white\", \"minorgridcolor\": \"white\", \"startlinecolor\": \"#2a3f5f\"}, \"baxis\": {\"endlinecolor\": \"#2a3f5f\", \"gridcolor\": \"white\", \"linecolor\": \"white\", \"minorgridcolor\": \"white\", \"startlinecolor\": \"#2a3f5f\"}, \"type\": \"carpet\"}], \"choropleth\": [{\"colorbar\": {\"outlinewidth\": 0, \"ticks\": \"\"}, \"type\": \"choropleth\"}], \"contour\": [{\"colorbar\": {\"outlinewidth\": 0, \"ticks\": \"\"}, \"colorscale\": [[0.0, \"#0d0887\"], [0.1111111111111111, \"#46039f\"], [0.2222222222222222, \"#7201a8\"], [0.3333333333333333, \"#9c179e\"], [0.4444444444444444, \"#bd3786\"], [0.5555555555555556, \"#d8576b\"], [0.6666666666666666, \"#ed7953\"], [0.7777777777777778, \"#fb9f3a\"], [0.8888888888888888, \"#fdca26\"], [1.0, \"#f0f921\"]], \"type\": \"contour\"}], \"contourcarpet\": [{\"colorbar\": {\"outlinewidth\": 0, \"ticks\": \"\"}, \"type\": \"contourcarpet\"}], \"heatmap\": [{\"colorbar\": {\"outlinewidth\": 0, \"ticks\": \"\"}, \"colorscale\": [[0.0, \"#0d0887\"], [0.1111111111111111, \"#46039f\"], [0.2222222222222222, \"#7201a8\"], [0.3333333333333333, \"#9c179e\"], [0.4444444444444444, \"#bd3786\"], [0.5555555555555556, \"#d8576b\"], [0.6666666666666666, \"#ed7953\"], [0.7777777777777778, \"#fb9f3a\"], [0.8888888888888888, \"#fdca26\"], [1.0, \"#f0f921\"]], \"type\": \"heatmap\"}], \"heatmapgl\": [{\"colorbar\": {\"outlinewidth\": 0, \"ticks\": \"\"}, \"colorscale\": [[0.0, \"#0d0887\"], [0.1111111111111111, \"#46039f\"], [0.2222222222222222, \"#7201a8\"], [0.3333333333333333, \"#9c179e\"], [0.4444444444444444, \"#bd3786\"], [0.5555555555555556, \"#d8576b\"], [0.6666666666666666, \"#ed7953\"], [0.7777777777777778, \"#fb9f3a\"], [0.8888888888888888, \"#fdca26\"], [1.0, \"#f0f921\"]], \"type\": \"heatmapgl\"}], \"histogram\": [{\"marker\": {\"colorbar\": {\"outlinewidth\": 0, \"ticks\": \"\"}}, \"type\": \"histogram\"}], \"histogram2d\": [{\"colorbar\": {\"outlinewidth\": 0, \"ticks\": \"\"}, \"colorscale\": [[0.0, \"#0d0887\"], [0.1111111111111111, \"#46039f\"], [0.2222222222222222, \"#7201a8\"], [0.3333333333333333, \"#9c179e\"], [0.4444444444444444, \"#bd3786\"], [0.5555555555555556, \"#d8576b\"], [0.6666666666666666, \"#ed7953\"], [0.7777777777777778, \"#fb9f3a\"], [0.8888888888888888, \"#fdca26\"], [1.0, \"#f0f921\"]], \"type\": \"histogram2d\"}], \"histogram2dcontour\": [{\"colorbar\": {\"outlinewidth\": 0, \"ticks\": \"\"}, \"colorscale\": [[0.0, \"#0d0887\"], [0.1111111111111111, \"#46039f\"], [0.2222222222222222, \"#7201a8\"], [0.3333333333333333, \"#9c179e\"], [0.4444444444444444, \"#bd3786\"], [0.5555555555555556, \"#d8576b\"], [0.6666666666666666, \"#ed7953\"], [0.7777777777777778, \"#fb9f3a\"], [0.8888888888888888, \"#fdca26\"], [1.0, \"#f0f921\"]], \"type\": \"histogram2dcontour\"}], \"mesh3d\": [{\"colorbar\": {\"outlinewidth\": 0, \"ticks\": \"\"}, \"type\": \"mesh3d\"}], \"parcoords\": [{\"line\": {\"colorbar\": {\"outlinewidth\": 0, \"ticks\": \"\"}}, \"type\": \"parcoords\"}], \"pie\": [{\"automargin\": true, \"type\": \"pie\"}], \"scatter\": [{\"marker\": {\"colorbar\": {\"outlinewidth\": 0, \"ticks\": \"\"}}, \"type\": \"scatter\"}], \"scatter3d\": [{\"line\": {\"colorbar\": {\"outlinewidth\": 0, \"ticks\": \"\"}}, \"marker\": {\"colorbar\": {\"outlinewidth\": 0, \"ticks\": \"\"}}, \"type\": \"scatter3d\"}], \"scattercarpet\": [{\"marker\": {\"colorbar\": {\"outlinewidth\": 0, \"ticks\": \"\"}}, \"type\": \"scattercarpet\"}], \"scattergeo\": [{\"marker\": {\"colorbar\": {\"outlinewidth\": 0, \"ticks\": \"\"}}, \"type\": \"scattergeo\"}], \"scattergl\": [{\"marker\": {\"colorbar\": {\"outlinewidth\": 0, \"ticks\": \"\"}}, \"type\": \"scattergl\"}], \"scattermapbox\": [{\"marker\": {\"colorbar\": {\"outlinewidth\": 0, \"ticks\": \"\"}}, \"type\": \"scattermapbox\"}], \"scatterpolar\": [{\"marker\": {\"colorbar\": {\"outlinewidth\": 0, \"ticks\": \"\"}}, \"type\": \"scatterpolar\"}], \"scatterpolargl\": [{\"marker\": {\"colorbar\": {\"outlinewidth\": 0, \"ticks\": \"\"}}, \"type\": \"scatterpolargl\"}], \"scatterternary\": [{\"marker\": {\"colorbar\": {\"outlinewidth\": 0, \"ticks\": \"\"}}, \"type\": \"scatterternary\"}], \"surface\": [{\"colorbar\": {\"outlinewidth\": 0, \"ticks\": \"\"}, \"colorscale\": [[0.0, \"#0d0887\"], [0.1111111111111111, \"#46039f\"], [0.2222222222222222, \"#7201a8\"], [0.3333333333333333, \"#9c179e\"], [0.4444444444444444, \"#bd3786\"], [0.5555555555555556, \"#d8576b\"], [0.6666666666666666, \"#ed7953\"], [0.7777777777777778, \"#fb9f3a\"], [0.8888888888888888, \"#fdca26\"], [1.0, \"#f0f921\"]], \"type\": \"surface\"}], \"table\": [{\"cells\": {\"fill\": {\"color\": \"#EBF0F8\"}, \"line\": {\"color\": \"white\"}}, \"header\": {\"fill\": {\"color\": \"#C8D4E3\"}, \"line\": {\"color\": \"white\"}}, \"type\": \"table\"}]}, \"layout\": {\"annotationdefaults\": {\"arrowcolor\": \"#2a3f5f\", \"arrowhead\": 0, \"arrowwidth\": 1}, \"coloraxis\": {\"colorbar\": {\"outlinewidth\": 0, \"ticks\": \"\"}}, \"colorscale\": {\"diverging\": [[0, \"#8e0152\"], [0.1, \"#c51b7d\"], [0.2, \"#de77ae\"], [0.3, \"#f1b6da\"], [0.4, \"#fde0ef\"], [0.5, \"#f7f7f7\"], [0.6, \"#e6f5d0\"], [0.7, \"#b8e186\"], [0.8, \"#7fbc41\"], [0.9, \"#4d9221\"], [1, \"#276419\"]], \"sequential\": [[0.0, \"#0d0887\"], [0.1111111111111111, \"#46039f\"], [0.2222222222222222, \"#7201a8\"], [0.3333333333333333, \"#9c179e\"], [0.4444444444444444, \"#bd3786\"], [0.5555555555555556, \"#d8576b\"], [0.6666666666666666, \"#ed7953\"], [0.7777777777777778, \"#fb9f3a\"], [0.8888888888888888, \"#fdca26\"], [1.0, \"#f0f921\"]], \"sequentialminus\": [[0.0, \"#0d0887\"], [0.1111111111111111, \"#46039f\"], [0.2222222222222222, \"#7201a8\"], [0.3333333333333333, \"#9c179e\"], [0.4444444444444444, \"#bd3786\"], [0.5555555555555556, \"#d8576b\"], [0.6666666666666666, \"#ed7953\"], [0.7777777777777778, \"#fb9f3a\"], [0.8888888888888888, \"#fdca26\"], [1.0, \"#f0f921\"]]}, \"colorway\": [\"#636efa\", \"#EF553B\", \"#00cc96\", \"#ab63fa\", \"#FFA15A\", \"#19d3f3\", \"#FF6692\", \"#B6E880\", \"#FF97FF\", \"#FECB52\"], \"font\": {\"color\": \"#2a3f5f\"}, \"geo\": {\"bgcolor\": \"white\", \"lakecolor\": \"white\", \"landcolor\": \"#E5ECF6\", \"showlakes\": true, \"showland\": true, \"subunitcolor\": \"white\"}, \"hoverlabel\": {\"align\": \"left\"}, \"hovermode\": \"closest\", \"mapbox\": {\"style\": \"light\"}, \"paper_bgcolor\": \"white\", \"plot_bgcolor\": \"#E5ECF6\", \"polar\": {\"angularaxis\": {\"gridcolor\": \"white\", \"linecolor\": \"white\", \"ticks\": \"\"}, \"bgcolor\": \"#E5ECF6\", \"radialaxis\": {\"gridcolor\": \"white\", \"linecolor\": \"white\", \"ticks\": \"\"}}, \"scene\": {\"xaxis\": {\"backgroundcolor\": \"#E5ECF6\", \"gridcolor\": \"white\", \"gridwidth\": 2, \"linecolor\": \"white\", \"showbackground\": true, \"ticks\": \"\", \"zerolinecolor\": \"white\"}, \"yaxis\": {\"backgroundcolor\": \"#E5ECF6\", \"gridcolor\": \"white\", \"gridwidth\": 2, \"linecolor\": \"white\", \"showbackground\": true, \"ticks\": \"\", \"zerolinecolor\": \"white\"}, \"zaxis\": {\"backgroundcolor\": \"#E5ECF6\", \"gridcolor\": \"white\", \"gridwidth\": 2, \"linecolor\": \"white\", \"showbackground\": true, \"ticks\": \"\", \"zerolinecolor\": \"white\"}}, \"shapedefaults\": {\"line\": {\"color\": \"#2a3f5f\"}}, \"ternary\": {\"aaxis\": {\"gridcolor\": \"white\", \"linecolor\": \"white\", \"ticks\": \"\"}, \"baxis\": {\"gridcolor\": \"white\", \"linecolor\": \"white\", \"ticks\": \"\"}, \"bgcolor\": \"#E5ECF6\", \"caxis\": {\"gridcolor\": \"white\", \"linecolor\": \"white\", \"ticks\": \"\"}}, \"title\": {\"x\": 0.05}, \"xaxis\": {\"automargin\": true, \"gridcolor\": \"white\", \"linecolor\": \"white\", \"ticks\": \"\", \"title\": {\"standoff\": 15}, \"zerolinecolor\": \"white\", \"zerolinewidth\": 2}, \"yaxis\": {\"automargin\": true, \"gridcolor\": \"white\", \"linecolor\": \"white\", \"ticks\": \"\", \"title\": {\"standoff\": 15}, \"zerolinecolor\": \"white\", \"zerolinewidth\": 2}}}},\n",
              "                        {\"responsive\": true}\n",
              "                    ).then(function(){\n",
              "                            \n",
              "var gd = document.getElementById('2c8f9b4e-3e4a-4645-a58e-9b45dcd6583e');\n",
              "var x = new MutationObserver(function (mutations, observer) {{\n",
              "        var display = window.getComputedStyle(gd).display;\n",
              "        if (!display || display === 'none') {{\n",
              "            console.log([gd, 'removed!']);\n",
              "            Plotly.purge(gd);\n",
              "            observer.disconnect();\n",
              "        }}\n",
              "}});\n",
              "\n",
              "// Listen for the removal of the full notebook cells\n",
              "var notebookContainer = gd.closest('#notebook-container');\n",
              "if (notebookContainer) {{\n",
              "    x.observe(notebookContainer, {childList: true});\n",
              "}}\n",
              "\n",
              "// Listen for the clearing of the current output cell\n",
              "var outputEl = gd.closest('.output');\n",
              "if (outputEl) {{\n",
              "    x.observe(outputEl, {childList: true});\n",
              "}}\n",
              "\n",
              "                        })\n",
              "                };\n",
              "                \n",
              "            </script>\n",
              "        </div>\n",
              "</body>\n",
              "</html>"
            ]
          },
          "metadata": {}
        }
      ]
    },
    {
      "cell_type": "code",
      "metadata": {
        "colab": {
          "base_uri": "https://localhost:8080/"
        },
        "id": "KXjfns5ZUzGt",
        "outputId": "65de1b3b-5ba0-4510-d406-b3c16922ad58"
      },
      "source": [
        "knn = KNeighborsClassifier(n_neighbors = 7, weights = 'distance')\n",
        "\n",
        "kfold = KFold(n_splits = 6, shuffle = True, random_state = 100)\n",
        "print(\"cross validation score : {}\".format(cross_val_score(knn, X_under, y_under, cv = kfold)))"
      ],
      "execution_count": 87,
      "outputs": [
        {
          "output_type": "stream",
          "name": "stdout",
          "text": [
            "cross validation score : [0.82864961 0.82914615 0.82671625 0.83011811 0.82732901 0.8298223 ]\n"
          ]
        }
      ]
    },
    {
      "cell_type": "code",
      "metadata": {
        "colab": {
          "base_uri": "https://localhost:8080/"
        },
        "id": "k7olVV3XBqUT",
        "outputId": "ebfe6106-b299-48a7-87b5-759ab14f660e"
      },
      "source": [
        "knn = KNeighborsClassifier(n_neighbors = 10, weights = 'distance')\n",
        "\n",
        "kfold = KFold(n_splits = 6, shuffle = True, random_state = 100)\n",
        "print(\"cross validation score : {}\".format(cross_val_score(knn, X_under, y_under, cv = kfold)))"
      ],
      "execution_count": 89,
      "outputs": [
        {
          "output_type": "stream",
          "name": "stdout",
          "text": [
            "cross validation score : [0.82900881 0.82980117 0.82707545 0.83063579 0.8283221  0.83028715]\n"
          ]
        }
      ]
    },
    {
      "cell_type": "markdown",
      "metadata": {
        "id": "GLHaUbm6cy05"
      },
      "source": [
        "## 06. 모델 저장"
      ]
    },
    {
      "cell_type": "code",
      "metadata": {
        "id": "Gdhi87fPbjbK"
      },
      "source": [
        "import joblib\n",
        "\n",
        "joblib.dump(tree2, '/content/drive/MyDrive/프로젝트/멀티캠퍼스/프로젝트1/tree_model.pkl')\n",
        "joblib.dump(nb, '/content/drive/MyDrive/프로젝트/멀티캠퍼스/프로젝트1/nb_model.pkl')\n",
        "joblib.dump(logi, '/content/drive/MyDrive/프로젝트/멀티캠퍼스/프로젝트1/logi_model.pkl')\n",
        "joblib.dump(knn, '/content/drive/MyDrive/프로젝트/멀티캠퍼스/프로젝트1/knn_model.pkl')"
      ],
      "execution_count": null,
      "outputs": []
    },
    {
      "cell_type": "code",
      "metadata": {
        "id": "e0p_Tt4TdeAw"
      },
      "source": [
        "loaded_model = joblib.load('/content/drive/MyDrive/프로젝트/멀티캠퍼스/프로젝트1/tree_model.pkl')"
      ],
      "execution_count": null,
      "outputs": []
    },
    {
      "cell_type": "code",
      "metadata": {
        "id": "txdhiabCefN8"
      },
      "source": [
        "df.columns"
      ],
      "execution_count": null,
      "outputs": []
    },
    {
      "cell_type": "code",
      "metadata": {
        "id": "JlLp0RtWdnpN"
      },
      "source": [
        "# loaded_model.predict([['성별코드', '연령대코드', '시도코드', '진료과목코드', '주상병코드', '부상병코드', '심결가산율', '요일']])[0]\n",
        "loaded_model.predict([[2,50,46,5,12,1,3,4]])[0]"
      ],
      "execution_count": null,
      "outputs": []
    }
  ]
}