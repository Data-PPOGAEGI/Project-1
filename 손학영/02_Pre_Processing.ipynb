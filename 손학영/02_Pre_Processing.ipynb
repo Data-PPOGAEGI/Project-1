{
  "nbformat": 4,
  "nbformat_minor": 0,
  "metadata": {
    "colab": {
      "name": "02.Pre-Processing.ipynb",
      "provenance": []
    },
    "kernelspec": {
      "name": "python3",
      "display_name": "Python 3"
    },
    "language_info": {
      "name": "python"
    }
  },
  "cells": [
    {
      "cell_type": "code",
      "metadata": {
        "colab": {
          "base_uri": "https://localhost:8080/"
        },
        "id": "GGtFDk5xyKK5",
        "outputId": "881b72c7-6eda-409a-8732-28e8703a93f0"
      },
      "source": [
        "# 준비 \n",
        "\n",
        "# colab 드라이브 연결하기 \n",
        "from google.colab import drive\n",
        "drive.mount('/content/drive')"
      ],
      "execution_count": 2,
      "outputs": [
        {
          "output_type": "stream",
          "name": "stdout",
          "text": [
            "Mounted at /content/drive\n"
          ]
        }
      ]
    },
    {
      "cell_type": "code",
      "metadata": {
        "id": "TXgU5Eqzx-Qx"
      },
      "source": [
        "# 모듈 불러오기 \n",
        "import pandas as pd \n",
        "import numpy as np "
      ],
      "execution_count": 3,
      "outputs": []
    },
    {
      "cell_type": "code",
      "metadata": {
        "colab": {
          "base_uri": "https://localhost:8080/",
          "height": 112
        },
        "id": "0Uh1Z4rNyJfq",
        "outputId": "44f45c69-ead3-4e3b-f692-f38425cc33a8"
      },
      "source": [
        "df = pd.read_csv(\"/content/drive/MyDrive/프로젝트/멀티캠퍼스/프로젝트1/모델제작용데이터셋(헬스케어).csv\")\n",
        "df.head(2)"
      ],
      "execution_count": 6,
      "outputs": [
        {
          "output_type": "execute_result",
          "data": {
            "text/html": [
              "<div>\n",
              "<style scoped>\n",
              "    .dataframe tbody tr th:only-of-type {\n",
              "        vertical-align: middle;\n",
              "    }\n",
              "\n",
              "    .dataframe tbody tr th {\n",
              "        vertical-align: top;\n",
              "    }\n",
              "\n",
              "    .dataframe thead th {\n",
              "        text-align: right;\n",
              "    }\n",
              "</style>\n",
              "<table border=\"1\" class=\"dataframe\">\n",
              "  <thead>\n",
              "    <tr style=\"text-align: right;\">\n",
              "      <th></th>\n",
              "      <th>성별코드</th>\n",
              "      <th>연령대코드</th>\n",
              "      <th>시도코드</th>\n",
              "      <th>서식코드</th>\n",
              "      <th>진료과목코드</th>\n",
              "      <th>주상병코드</th>\n",
              "      <th>부상병코드</th>\n",
              "      <th>심결가산율</th>\n",
              "    </tr>\n",
              "  </thead>\n",
              "  <tbody>\n",
              "    <tr>\n",
              "      <th>0</th>\n",
              "      <td>2</td>\n",
              "      <td>12</td>\n",
              "      <td>46</td>\n",
              "      <td>0</td>\n",
              "      <td>5</td>\n",
              "      <td>12</td>\n",
              "      <td>12</td>\n",
              "      <td>3</td>\n",
              "    </tr>\n",
              "    <tr>\n",
              "      <th>1</th>\n",
              "      <td>2</td>\n",
              "      <td>12</td>\n",
              "      <td>46</td>\n",
              "      <td>0</td>\n",
              "      <td>1</td>\n",
              "      <td>4</td>\n",
              "      <td>13</td>\n",
              "      <td>3</td>\n",
              "    </tr>\n",
              "  </tbody>\n",
              "</table>\n",
              "</div>"
            ],
            "text/plain": [
              "   성별코드  연령대코드  시도코드  서식코드  진료과목코드  주상병코드  부상병코드  심결가산율\n",
              "0     2     12    46     0       5     12     12      3\n",
              "1     2     12    46     0       1      4     13      3"
            ]
          },
          "metadata": {},
          "execution_count": 6
        }
      ]
    },
    {
      "cell_type": "code",
      "metadata": {
        "id": "T2JftyBB1tvx"
      },
      "source": [
        "df_day = pd.read_csv(\"/content/drive/MyDrive/프로젝트/멀티캠퍼스/프로젝트1/df.csv\")"
      ],
      "execution_count": 4,
      "outputs": []
    },
    {
      "cell_type": "code",
      "metadata": {
        "colab": {
          "base_uri": "https://localhost:8080/",
          "height": 112
        },
        "id": "opznTWgWy0Ew",
        "outputId": "f5aa47de-c1cc-485c-d470-aa00a5b3f71b"
      },
      "source": [
        "# 이전에 전처리 해둔 요일 컬럼 가져오기 \n",
        "df['요일'] = df_day['요일']\n",
        "df.head(2)"
      ],
      "execution_count": 7,
      "outputs": [
        {
          "output_type": "execute_result",
          "data": {
            "text/html": [
              "<div>\n",
              "<style scoped>\n",
              "    .dataframe tbody tr th:only-of-type {\n",
              "        vertical-align: middle;\n",
              "    }\n",
              "\n",
              "    .dataframe tbody tr th {\n",
              "        vertical-align: top;\n",
              "    }\n",
              "\n",
              "    .dataframe thead th {\n",
              "        text-align: right;\n",
              "    }\n",
              "</style>\n",
              "<table border=\"1\" class=\"dataframe\">\n",
              "  <thead>\n",
              "    <tr style=\"text-align: right;\">\n",
              "      <th></th>\n",
              "      <th>성별코드</th>\n",
              "      <th>연령대코드</th>\n",
              "      <th>시도코드</th>\n",
              "      <th>서식코드</th>\n",
              "      <th>진료과목코드</th>\n",
              "      <th>주상병코드</th>\n",
              "      <th>부상병코드</th>\n",
              "      <th>심결가산율</th>\n",
              "      <th>요일</th>\n",
              "    </tr>\n",
              "  </thead>\n",
              "  <tbody>\n",
              "    <tr>\n",
              "      <th>0</th>\n",
              "      <td>2</td>\n",
              "      <td>12</td>\n",
              "      <td>46</td>\n",
              "      <td>0</td>\n",
              "      <td>5</td>\n",
              "      <td>12</td>\n",
              "      <td>12</td>\n",
              "      <td>3</td>\n",
              "      <td>월</td>\n",
              "    </tr>\n",
              "    <tr>\n",
              "      <th>1</th>\n",
              "      <td>2</td>\n",
              "      <td>12</td>\n",
              "      <td>46</td>\n",
              "      <td>0</td>\n",
              "      <td>1</td>\n",
              "      <td>4</td>\n",
              "      <td>13</td>\n",
              "      <td>3</td>\n",
              "      <td>화</td>\n",
              "    </tr>\n",
              "  </tbody>\n",
              "</table>\n",
              "</div>"
            ],
            "text/plain": [
              "   성별코드  연령대코드  시도코드  서식코드  진료과목코드  주상병코드  부상병코드  심결가산율 요일\n",
              "0     2     12    46     0       5     12     12      3  월\n",
              "1     2     12    46     0       1      4     13      3  화"
            ]
          },
          "metadata": {},
          "execution_count": 7
        }
      ]
    },
    {
      "cell_type": "code",
      "metadata": {
        "id": "8zWe5083zdYb"
      },
      "source": [
        "del df_day"
      ],
      "execution_count": 8,
      "outputs": []
    },
    {
      "cell_type": "code",
      "metadata": {
        "id": "WrhrZHG8zhCm"
      },
      "source": [
        "def weekday(day) : \n",
        "  days = ['월','화','수','목','금','토','일']\n",
        "  return days.index(day)\n",
        "df['요일'] = df['요일'].apply(weekday)"
      ],
      "execution_count": 9,
      "outputs": []
    },
    {
      "cell_type": "code",
      "metadata": {
        "colab": {
          "base_uri": "https://localhost:8080/",
          "height": 112
        },
        "id": "A_TbC8jWzvdM",
        "outputId": "75cbd8a3-123e-4faa-b061-053c86c5d23d"
      },
      "source": [
        "df.head(2)"
      ],
      "execution_count": 10,
      "outputs": [
        {
          "output_type": "execute_result",
          "data": {
            "text/html": [
              "<div>\n",
              "<style scoped>\n",
              "    .dataframe tbody tr th:only-of-type {\n",
              "        vertical-align: middle;\n",
              "    }\n",
              "\n",
              "    .dataframe tbody tr th {\n",
              "        vertical-align: top;\n",
              "    }\n",
              "\n",
              "    .dataframe thead th {\n",
              "        text-align: right;\n",
              "    }\n",
              "</style>\n",
              "<table border=\"1\" class=\"dataframe\">\n",
              "  <thead>\n",
              "    <tr style=\"text-align: right;\">\n",
              "      <th></th>\n",
              "      <th>성별코드</th>\n",
              "      <th>연령대코드</th>\n",
              "      <th>시도코드</th>\n",
              "      <th>서식코드</th>\n",
              "      <th>진료과목코드</th>\n",
              "      <th>주상병코드</th>\n",
              "      <th>부상병코드</th>\n",
              "      <th>심결가산율</th>\n",
              "      <th>요일</th>\n",
              "    </tr>\n",
              "  </thead>\n",
              "  <tbody>\n",
              "    <tr>\n",
              "      <th>0</th>\n",
              "      <td>2</td>\n",
              "      <td>12</td>\n",
              "      <td>46</td>\n",
              "      <td>0</td>\n",
              "      <td>5</td>\n",
              "      <td>12</td>\n",
              "      <td>12</td>\n",
              "      <td>3</td>\n",
              "      <td>0</td>\n",
              "    </tr>\n",
              "    <tr>\n",
              "      <th>1</th>\n",
              "      <td>2</td>\n",
              "      <td>12</td>\n",
              "      <td>46</td>\n",
              "      <td>0</td>\n",
              "      <td>1</td>\n",
              "      <td>4</td>\n",
              "      <td>13</td>\n",
              "      <td>3</td>\n",
              "      <td>1</td>\n",
              "    </tr>\n",
              "  </tbody>\n",
              "</table>\n",
              "</div>"
            ],
            "text/plain": [
              "   성별코드  연령대코드  시도코드  서식코드  진료과목코드  주상병코드  부상병코드  심결가산율  요일\n",
              "0     2     12    46     0       5     12     12      3   0\n",
              "1     2     12    46     0       1      4     13      3   1"
            ]
          },
          "metadata": {},
          "execution_count": 10
        }
      ]
    },
    {
      "cell_type": "code",
      "metadata": {
        "colab": {
          "base_uri": "https://localhost:8080/"
        },
        "id": "PiAyZKD7z0Sw",
        "outputId": "197c50da-429e-4a6e-d4d4-123ffb3c7f1a"
      },
      "source": [
        "# for i in df.columns : \n",
        "#   df[i] = df[i].astype(\"category\")\n",
        "# df.dtypes"
      ],
      "execution_count": 9,
      "outputs": [
        {
          "output_type": "execute_result",
          "data": {
            "text/plain": [
              "성별코드      category\n",
              "연령대코드     category\n",
              "시도코드      category\n",
              "서식코드      category\n",
              "진료과목코드    category\n",
              "주상병코드     category\n",
              "부상병코드     category\n",
              "심결가산율     category\n",
              "요일        category\n",
              "dtype: object"
            ]
          },
          "metadata": {},
          "execution_count": 9
        }
      ]
    },
    {
      "cell_type": "code",
      "metadata": {
        "colab": {
          "base_uri": "https://localhost:8080/"
        },
        "id": "sZKrp1xl0Fwu",
        "outputId": "97828852-67ca-4dad-ed52-6a8e6498bc0b"
      },
      "source": [
        "df.shape"
      ],
      "execution_count": null,
      "outputs": [
        {
          "output_type": "execute_result",
          "data": {
            "text/plain": [
              "(13178345, 9)"
            ]
          },
          "metadata": {},
          "execution_count": 14
        }
      ]
    },
    {
      "cell_type": "code",
      "metadata": {
        "id": "A6haXukE0Vou"
      },
      "source": [
        "df.rename(columns = {'서식코드' : '입원여부'}, inplace= True)"
      ],
      "execution_count": 11,
      "outputs": []
    },
    {
      "cell_type": "markdown",
      "metadata": {
        "id": "i9Jwh-QN1CfL"
      },
      "source": [
        "# 03. 상관성 확인  "
      ]
    },
    {
      "cell_type": "code",
      "metadata": {
        "colab": {
          "base_uri": "https://localhost:8080/"
        },
        "id": "xYjcyf6w190B",
        "outputId": "4be03e67-8312-4d10-8d9d-b9de36960634"
      },
      "source": [
        "# 성별과 입원여부 \n",
        "df_cross = pd.crosstab(index=df['성별코드'],columns=df['입원여부'])\n",
        "\n",
        "# importing the required function\n",
        "from scipy.stats import chi2_contingency\n",
        " \n",
        "# Performing Chi-sq test\n",
        "ChiSqResult = chi2_contingency(df_cross)\n",
        "print('The P-Value of the ChiSq Test is:', ChiSqResult[1])"
      ],
      "execution_count": null,
      "outputs": [
        {
          "output_type": "stream",
          "name": "stdout",
          "text": [
            "The P-Value of the ChiSq Test is: 1.4459695826147777e-15\n"
          ]
        }
      ]
    },
    {
      "cell_type": "code",
      "metadata": {
        "colab": {
          "base_uri": "https://localhost:8080/"
        },
        "id": "FJ4KQcio2UoH",
        "outputId": "a817a57b-07a9-4628-8362-c251bc56910f"
      },
      "source": [
        "# 연령과 입원여부 \n",
        "df_cross = pd.crosstab(index=df['연령대코드'],columns=df['입원여부'])\n",
        " \n",
        "# Performing Chi-sq test\n",
        "ChiSqResult = chi2_contingency(df_cross)\n",
        "print('The P-Value of the ChiSq Test is:', ChiSqResult[1])"
      ],
      "execution_count": null,
      "outputs": [
        {
          "output_type": "stream",
          "name": "stdout",
          "text": [
            "The P-Value of the ChiSq Test is: 0.0\n"
          ]
        }
      ]
    },
    {
      "cell_type": "code",
      "metadata": {
        "colab": {
          "base_uri": "https://localhost:8080/"
        },
        "id": "FgnRi1cd2jmU",
        "outputId": "31abcbe4-1756-4194-90d8-1450f489cb72"
      },
      "source": [
        "# 시도와 입원여부 \n",
        "df_cross = pd.crosstab(index=df['시도코드'],columns=df['입원여부'])\n",
        " \n",
        "# Performing Chi-sq test\n",
        "ChiSqResult = chi2_contingency(df_cross)\n",
        "print('The P-Value of the ChiSq Test is:', ChiSqResult[1])"
      ],
      "execution_count": null,
      "outputs": [
        {
          "output_type": "stream",
          "name": "stdout",
          "text": [
            "The P-Value of the ChiSq Test is: 0.0\n"
          ]
        }
      ]
    },
    {
      "cell_type": "code",
      "metadata": {
        "colab": {
          "base_uri": "https://localhost:8080/"
        },
        "id": "KRJT-Yom2rBx",
        "outputId": "406a9c3a-d705-4e0a-df55-1262bf254619"
      },
      "source": [
        "# 진료과목코드와 입원여부 \n",
        "df_cross = pd.crosstab(index=df['진료과목코드'],columns=df['입원여부'])\n",
        " \n",
        "# Performing Chi-sq test\n",
        "ChiSqResult = chi2_contingency(df_cross)\n",
        "print('The P-Value of the ChiSq Test is:', ChiSqResult[1])"
      ],
      "execution_count": null,
      "outputs": [
        {
          "output_type": "stream",
          "name": "stdout",
          "text": [
            "The P-Value of the ChiSq Test is: 0.0\n"
          ]
        }
      ]
    },
    {
      "cell_type": "code",
      "metadata": {
        "colab": {
          "base_uri": "https://localhost:8080/"
        },
        "id": "LyQx-JBw2399",
        "outputId": "f0eff3ea-ed07-47ce-ccbf-ce8b9b1358ee"
      },
      "source": [
        "# 주상병코드와 입원여부 \n",
        "df_cross = pd.crosstab(index=df['주상병코드'],columns=df['입원여부'])\n",
        " \n",
        "# Performing Chi-sq test\n",
        "ChiSqResult = chi2_contingency(df_cross)\n",
        "print('The P-Value of the ChiSq Test is:', ChiSqResult[1])"
      ],
      "execution_count": null,
      "outputs": [
        {
          "output_type": "stream",
          "name": "stdout",
          "text": [
            "The P-Value of the ChiSq Test is: 0.0\n"
          ]
        }
      ]
    },
    {
      "cell_type": "code",
      "metadata": {
        "colab": {
          "base_uri": "https://localhost:8080/"
        },
        "id": "E96Tq1Gq5Ir_",
        "outputId": "5e6cfba5-c55f-4063-d62b-306803a870a2"
      },
      "source": [
        "# 부상병코드와 입원여부 \n",
        "df_cross = pd.crosstab(index=df['부상병코드'],columns=df['입원여부'])\n",
        " \n",
        "# Performing Chi-sq test\n",
        "ChiSqResult = chi2_contingency(df_cross)\n",
        "print('The P-Value of the ChiSq Test is:', ChiSqResult[1])"
      ],
      "execution_count": null,
      "outputs": [
        {
          "output_type": "stream",
          "name": "stdout",
          "text": [
            "The P-Value of the ChiSq Test is: 0.0\n"
          ]
        }
      ]
    },
    {
      "cell_type": "code",
      "metadata": {
        "colab": {
          "base_uri": "https://localhost:8080/"
        },
        "id": "jL4S6K7T5R3L",
        "outputId": "3bf22792-8a3e-48cb-ca9f-a1bfc214dbeb"
      },
      "source": [
        "# 심결가산율과 입원여부 \n",
        "df_cross = pd.crosstab(index=df['심결가산율'],columns=df['입원여부'])\n",
        " \n",
        "# Performing Chi-sq test\n",
        "ChiSqResult = chi2_contingency(df_cross)\n",
        "print('The P-Value of the ChiSq Test is:', ChiSqResult[1])"
      ],
      "execution_count": null,
      "outputs": [
        {
          "output_type": "stream",
          "name": "stdout",
          "text": [
            "The P-Value of the ChiSq Test is: 0.0\n"
          ]
        }
      ]
    },
    {
      "cell_type": "code",
      "metadata": {
        "colab": {
          "base_uri": "https://localhost:8080/"
        },
        "id": "miq8sr-J5ZxN",
        "outputId": "8bfe82d8-9386-42c8-c930-9cf5383a8eec"
      },
      "source": [
        "# 요일과 입원여부 \n",
        "df_cross = pd.crosstab(index=df['요일'],columns=df['입원여부'])\n",
        " \n",
        "# Performing Chi-sq test\n",
        "ChiSqResult = chi2_contingency(df_cross)\n",
        "print('The P-Value of the ChiSq Test is:', ChiSqResult[1])"
      ],
      "execution_count": null,
      "outputs": [
        {
          "output_type": "stream",
          "name": "stdout",
          "text": [
            "The P-Value of the ChiSq Test is: 0.0\n"
          ]
        }
      ]
    },
    {
      "cell_type": "markdown",
      "metadata": {
        "id": "HxrUq5Pl0KY4"
      },
      "source": [
        "# 04. Pre-processing"
      ]
    },
    {
      "cell_type": "code",
      "metadata": {
        "colab": {
          "base_uri": "https://localhost:8080/"
        },
        "id": "i_JOmgOK5tKE",
        "outputId": "11bbf18d-8ad8-439d-c309-6a307c032737"
      },
      "source": [
        "# undersampling 하기\n",
        "from collections import Counter\n",
        "from sklearn.model_selection import train_test_split\n",
        "from imblearn.under_sampling import RandomUnderSampler\n",
        "\n",
        "X = df.drop('입원여부', axis = 1)\n",
        "y = df['입원여부']\n",
        "\n",
        "# # X_train, X_test, y_train, y_test = train_test_split(X,y,test_size=0.30)\n",
        "print(\"Before undersampling: \", Counter(y))\n",
        "\n",
        "undersample = RandomUnderSampler(sampling_strategy='majority')\n",
        "\n",
        "# # fit and apply the transform\n",
        "X_under, y_under = undersample.fit_resample(X, y)\n",
        "print(\"After undersampling: \", Counter(y_under))"
      ],
      "execution_count": 12,
      "outputs": [
        {
          "output_type": "stream",
          "name": "stderr",
          "text": [
            "/usr/local/lib/python3.7/dist-packages/sklearn/externals/six.py:31: FutureWarning: The module is deprecated in version 0.21 and will be removed in version 0.23 since we've dropped support for Python 2.7. Please rely on the official version of six (https://pypi.org/project/six/).\n",
            "  \"(https://pypi.org/project/six/).\", FutureWarning)\n",
            "/usr/local/lib/python3.7/dist-packages/sklearn/utils/deprecation.py:144: FutureWarning: The sklearn.neighbors.base module is  deprecated in version 0.22 and will be removed in version 0.24. The corresponding classes / functions should instead be imported from sklearn.neighbors. Anything that cannot be imported from sklearn.neighbors is now part of the private API.\n",
            "  warnings.warn(message, FutureWarning)\n"
          ]
        },
        {
          "output_type": "stream",
          "name": "stdout",
          "text": [
            "Before undersampling:  Counter({0: 12894383, 1: 283962})\n"
          ]
        },
        {
          "output_type": "stream",
          "name": "stderr",
          "text": [
            "/usr/local/lib/python3.7/dist-packages/sklearn/utils/deprecation.py:87: FutureWarning: Function safe_indexing is deprecated; safe_indexing is deprecated in version 0.22 and will be removed in version 0.24.\n",
            "  warnings.warn(msg, category=FutureWarning)\n"
          ]
        },
        {
          "output_type": "stream",
          "name": "stdout",
          "text": [
            "After undersampling:  Counter({0: 283962, 1: 283962})\n"
          ]
        }
      ]
    },
    {
      "cell_type": "code",
      "metadata": {
        "colab": {
          "base_uri": "https://localhost:8080/",
          "height": 112
        },
        "id": "hD7yrK8_6C5T",
        "outputId": "993cbec8-372b-4301-89b5-b44a9c601395"
      },
      "source": [
        "df_under = pd.DataFrame(X_under , columns= X.columns)\n",
        "df_under.head(2)"
      ],
      "execution_count": 13,
      "outputs": [
        {
          "output_type": "execute_result",
          "data": {
            "text/html": [
              "<div>\n",
              "<style scoped>\n",
              "    .dataframe tbody tr th:only-of-type {\n",
              "        vertical-align: middle;\n",
              "    }\n",
              "\n",
              "    .dataframe tbody tr th {\n",
              "        vertical-align: top;\n",
              "    }\n",
              "\n",
              "    .dataframe thead th {\n",
              "        text-align: right;\n",
              "    }\n",
              "</style>\n",
              "<table border=\"1\" class=\"dataframe\">\n",
              "  <thead>\n",
              "    <tr style=\"text-align: right;\">\n",
              "      <th></th>\n",
              "      <th>성별코드</th>\n",
              "      <th>연령대코드</th>\n",
              "      <th>시도코드</th>\n",
              "      <th>진료과목코드</th>\n",
              "      <th>주상병코드</th>\n",
              "      <th>부상병코드</th>\n",
              "      <th>심결가산율</th>\n",
              "      <th>요일</th>\n",
              "    </tr>\n",
              "  </thead>\n",
              "  <tbody>\n",
              "    <tr>\n",
              "      <th>0</th>\n",
              "      <td>2</td>\n",
              "      <td>18</td>\n",
              "      <td>11</td>\n",
              "      <td>1</td>\n",
              "      <td>8</td>\n",
              "      <td>4</td>\n",
              "      <td>1</td>\n",
              "      <td>4</td>\n",
              "    </tr>\n",
              "    <tr>\n",
              "      <th>1</th>\n",
              "      <td>2</td>\n",
              "      <td>4</td>\n",
              "      <td>27</td>\n",
              "      <td>1</td>\n",
              "      <td>10</td>\n",
              "      <td>10</td>\n",
              "      <td>1</td>\n",
              "      <td>2</td>\n",
              "    </tr>\n",
              "  </tbody>\n",
              "</table>\n",
              "</div>"
            ],
            "text/plain": [
              "   성별코드  연령대코드  시도코드  진료과목코드  주상병코드  부상병코드  심결가산율  요일\n",
              "0     2     18    11       1      8      4      1   4\n",
              "1     2      4    27       1     10     10      1   2"
            ]
          },
          "metadata": {},
          "execution_count": 13
        }
      ]
    },
    {
      "cell_type": "code",
      "metadata": {
        "colab": {
          "base_uri": "https://localhost:8080/",
          "height": 112
        },
        "id": "sETqNIdA6P1L",
        "outputId": "f3214ac2-7686-4711-e7c9-759dd50b0b7b"
      },
      "source": [
        "df_under['입원여부'] = y_under\n",
        "df_under.head(2)"
      ],
      "execution_count": 14,
      "outputs": [
        {
          "output_type": "execute_result",
          "data": {
            "text/html": [
              "<div>\n",
              "<style scoped>\n",
              "    .dataframe tbody tr th:only-of-type {\n",
              "        vertical-align: middle;\n",
              "    }\n",
              "\n",
              "    .dataframe tbody tr th {\n",
              "        vertical-align: top;\n",
              "    }\n",
              "\n",
              "    .dataframe thead th {\n",
              "        text-align: right;\n",
              "    }\n",
              "</style>\n",
              "<table border=\"1\" class=\"dataframe\">\n",
              "  <thead>\n",
              "    <tr style=\"text-align: right;\">\n",
              "      <th></th>\n",
              "      <th>성별코드</th>\n",
              "      <th>연령대코드</th>\n",
              "      <th>시도코드</th>\n",
              "      <th>진료과목코드</th>\n",
              "      <th>주상병코드</th>\n",
              "      <th>부상병코드</th>\n",
              "      <th>심결가산율</th>\n",
              "      <th>요일</th>\n",
              "      <th>입원여부</th>\n",
              "    </tr>\n",
              "  </thead>\n",
              "  <tbody>\n",
              "    <tr>\n",
              "      <th>0</th>\n",
              "      <td>2</td>\n",
              "      <td>18</td>\n",
              "      <td>11</td>\n",
              "      <td>1</td>\n",
              "      <td>8</td>\n",
              "      <td>4</td>\n",
              "      <td>1</td>\n",
              "      <td>4</td>\n",
              "      <td>0</td>\n",
              "    </tr>\n",
              "    <tr>\n",
              "      <th>1</th>\n",
              "      <td>2</td>\n",
              "      <td>4</td>\n",
              "      <td>27</td>\n",
              "      <td>1</td>\n",
              "      <td>10</td>\n",
              "      <td>10</td>\n",
              "      <td>1</td>\n",
              "      <td>2</td>\n",
              "      <td>0</td>\n",
              "    </tr>\n",
              "  </tbody>\n",
              "</table>\n",
              "</div>"
            ],
            "text/plain": [
              "   성별코드  연령대코드  시도코드  진료과목코드  주상병코드  부상병코드  심결가산율  요일  입원여부\n",
              "0     2     18    11       1      8      4      1   4     0\n",
              "1     2      4    27       1     10     10      1   2     0"
            ]
          },
          "metadata": {},
          "execution_count": 14
        }
      ]
    },
    {
      "cell_type": "code",
      "metadata": {
        "id": "GbncSWxD7gxO"
      },
      "source": [
        "# 상관성 재확인 \n",
        "for i in df_under.columns[:-1] : \n",
        "  df_cross = pd.crosstab(index=df_under[i],columns=df_under['입원여부'])\n",
        "  ChiSqResult = chi2_contingency(df_cross)\n",
        "  print(f'{i} : The P-Value of the ChiSq Test is:', ChiSqResult[1])"
      ],
      "execution_count": null,
      "outputs": []
    },
    {
      "cell_type": "code",
      "metadata": {
        "colab": {
          "base_uri": "https://localhost:8080/"
        },
        "id": "iD3RgNb--L3Y",
        "outputId": "fcb9f03a-af31-4835-b596-0c1ce08afbfe"
      },
      "source": [
        "# 데이터 타입 변경 \n",
        "for i in df.columns : \n",
        "  df_under[i] = df[i].astype(\"category\")\n",
        "df_under.dtypes"
      ],
      "execution_count": 15,
      "outputs": [
        {
          "output_type": "execute_result",
          "data": {
            "text/plain": [
              "성별코드      category\n",
              "연령대코드     category\n",
              "시도코드      category\n",
              "진료과목코드    category\n",
              "주상병코드     category\n",
              "부상병코드     category\n",
              "심결가산율     category\n",
              "요일        category\n",
              "입원여부      category\n",
              "dtype: object"
            ]
          },
          "metadata": {},
          "execution_count": 15
        }
      ]
    },
    {
      "cell_type": "code",
      "metadata": {
        "colab": {
          "base_uri": "https://localhost:8080/",
          "height": 112
        },
        "id": "0oki891Z0H9n",
        "outputId": "f8ccc33f-c157-4608-a08a-c7c997c39d83"
      },
      "source": [
        "# y 원핫인코딩 \n",
        "df_under = pd.get_dummies(df_under, columns=['입원여부'])\n",
        "df_under.head(2)"
      ],
      "execution_count": 47,
      "outputs": [
        {
          "output_type": "execute_result",
          "data": {
            "text/html": [
              "<div>\n",
              "<style scoped>\n",
              "    .dataframe tbody tr th:only-of-type {\n",
              "        vertical-align: middle;\n",
              "    }\n",
              "\n",
              "    .dataframe tbody tr th {\n",
              "        vertical-align: top;\n",
              "    }\n",
              "\n",
              "    .dataframe thead th {\n",
              "        text-align: right;\n",
              "    }\n",
              "</style>\n",
              "<table border=\"1\" class=\"dataframe\">\n",
              "  <thead>\n",
              "    <tr style=\"text-align: right;\">\n",
              "      <th></th>\n",
              "      <th>성별코드</th>\n",
              "      <th>연령대코드</th>\n",
              "      <th>시도코드</th>\n",
              "      <th>진료과목코드</th>\n",
              "      <th>주상병코드</th>\n",
              "      <th>부상병코드</th>\n",
              "      <th>심결가산율</th>\n",
              "      <th>요일</th>\n",
              "      <th>입원여부_0</th>\n",
              "      <th>입원여부_1</th>\n",
              "    </tr>\n",
              "  </thead>\n",
              "  <tbody>\n",
              "    <tr>\n",
              "      <th>0</th>\n",
              "      <td>2</td>\n",
              "      <td>12</td>\n",
              "      <td>46</td>\n",
              "      <td>5</td>\n",
              "      <td>12</td>\n",
              "      <td>12</td>\n",
              "      <td>3</td>\n",
              "      <td>0</td>\n",
              "      <td>1</td>\n",
              "      <td>0</td>\n",
              "    </tr>\n",
              "    <tr>\n",
              "      <th>1</th>\n",
              "      <td>2</td>\n",
              "      <td>12</td>\n",
              "      <td>46</td>\n",
              "      <td>1</td>\n",
              "      <td>4</td>\n",
              "      <td>13</td>\n",
              "      <td>3</td>\n",
              "      <td>1</td>\n",
              "      <td>1</td>\n",
              "      <td>0</td>\n",
              "    </tr>\n",
              "  </tbody>\n",
              "</table>\n",
              "</div>"
            ],
            "text/plain": [
              "  성별코드 연령대코드 시도코드 진료과목코드 주상병코드 부상병코드 심결가산율 요일  입원여부_0  입원여부_1\n",
              "0    2    12   46      5    12    12     3  0       1       0\n",
              "1    2    12   46      1     4    13     3  1       1       0"
            ]
          },
          "metadata": {},
          "execution_count": 47
        }
      ]
    },
    {
      "cell_type": "code",
      "metadata": {
        "colab": {
          "base_uri": "https://localhost:8080/",
          "height": 112
        },
        "id": "ucRp3uAS0nkl",
        "outputId": "da460db1-e287-49d9-9ff8-463c531ec5f3"
      },
      "source": [
        "df_under.rename(columns = {'입원여부_0' : '입원함', '입원여부_1' : '입원안함'}, inplace= True)\n",
        "df_under.head(2)"
      ],
      "execution_count": 48,
      "outputs": [
        {
          "output_type": "execute_result",
          "data": {
            "text/html": [
              "<div>\n",
              "<style scoped>\n",
              "    .dataframe tbody tr th:only-of-type {\n",
              "        vertical-align: middle;\n",
              "    }\n",
              "\n",
              "    .dataframe tbody tr th {\n",
              "        vertical-align: top;\n",
              "    }\n",
              "\n",
              "    .dataframe thead th {\n",
              "        text-align: right;\n",
              "    }\n",
              "</style>\n",
              "<table border=\"1\" class=\"dataframe\">\n",
              "  <thead>\n",
              "    <tr style=\"text-align: right;\">\n",
              "      <th></th>\n",
              "      <th>성별코드</th>\n",
              "      <th>연령대코드</th>\n",
              "      <th>시도코드</th>\n",
              "      <th>진료과목코드</th>\n",
              "      <th>주상병코드</th>\n",
              "      <th>부상병코드</th>\n",
              "      <th>심결가산율</th>\n",
              "      <th>요일</th>\n",
              "      <th>입원함</th>\n",
              "      <th>입원안함</th>\n",
              "    </tr>\n",
              "  </thead>\n",
              "  <tbody>\n",
              "    <tr>\n",
              "      <th>0</th>\n",
              "      <td>2</td>\n",
              "      <td>12</td>\n",
              "      <td>46</td>\n",
              "      <td>5</td>\n",
              "      <td>12</td>\n",
              "      <td>12</td>\n",
              "      <td>3</td>\n",
              "      <td>0</td>\n",
              "      <td>1</td>\n",
              "      <td>0</td>\n",
              "    </tr>\n",
              "    <tr>\n",
              "      <th>1</th>\n",
              "      <td>2</td>\n",
              "      <td>12</td>\n",
              "      <td>46</td>\n",
              "      <td>1</td>\n",
              "      <td>4</td>\n",
              "      <td>13</td>\n",
              "      <td>3</td>\n",
              "      <td>1</td>\n",
              "      <td>1</td>\n",
              "      <td>0</td>\n",
              "    </tr>\n",
              "  </tbody>\n",
              "</table>\n",
              "</div>"
            ],
            "text/plain": [
              "  성별코드 연령대코드 시도코드 진료과목코드 주상병코드 부상병코드 심결가산율 요일  입원함  입원안함\n",
              "0    2    12   46      5    12    12     3  0    1     0\n",
              "1    2    12   46      1     4    13     3  1    1     0"
            ]
          },
          "metadata": {},
          "execution_count": 48
        }
      ]
    },
    {
      "cell_type": "code",
      "metadata": {
        "id": "g4w3HyY907MU"
      },
      "source": [
        "# train, test split \n",
        "X = df_under.drop(['입원함', '입원안함'], axis = 1)\n",
        "y = df_under[['입원함', '입원안함']]\n",
        "X_train, X_test, y_train, y_test = train_test_split(X,y,test_size=0.30)"
      ],
      "execution_count": 49,
      "outputs": []
    },
    {
      "cell_type": "markdown",
      "metadata": {
        "id": "f6Za89N9805D"
      },
      "source": [
        "# 05. Model"
      ]
    },
    {
      "cell_type": "markdown",
      "metadata": {
        "id": "phae4ETt84HZ"
      },
      "source": [
        "## 5-1) Decision Tree"
      ]
    },
    {
      "cell_type": "code",
      "metadata": {
        "colab": {
          "base_uri": "https://localhost:8080/"
        },
        "id": "-H85G0Xc8lY5",
        "outputId": "5e581648-622c-422d-e3fd-942844c3490f"
      },
      "source": [
        "# from sklearn.tree import DecisionTreeClassifier\n",
        "# tree = DecisionTreeClassifier(criterion = \"entropy\",max_depth=5)\n",
        "# tree.fit(X_train,y_train)\n",
        "\n",
        "# print(tree.score(X_test,y_test))"
      ],
      "execution_count": null,
      "outputs": [
        {
          "output_type": "stream",
          "name": "stdout",
          "text": [
            "0.9797098216905938\n"
          ]
        }
      ]
    },
    {
      "cell_type": "code",
      "metadata": {
        "id": "nkDUI64Z9EL6"
      },
      "source": [
        "# from sklearn.tree import export_graphviz\n",
        "\n",
        "# export_graphviz(\n",
        "#     tree, # 학습한 모형\n",
        "#     out_file = 'tree.dot', # .dot 파일 저장 위치\n",
        "#     feature_names = list(X.columns), # 사용한 변수 이름\n",
        "#     class_names = ['입원함', '입원안함'], # 예측할 타겟 클래스 이름\n",
        "# )\n",
        "# import graphviz\n",
        "\n",
        "# # 위에서 생성된 tree.dot 파일을 Graphviz 읽어서 Jupyter Notebook상에서 시각화 \n",
        "# with open(\"tree.dot\") as f:\n",
        "#     dot_graph = f.read()\n",
        "# graphviz.Source(dot_graph)"
      ],
      "execution_count": null,
      "outputs": []
    },
    {
      "cell_type": "code",
      "metadata": {
        "id": "4sKAQ5e17twN"
      },
      "source": [
        "# X = df_under.drop('입원여부', axis = 1)\n",
        "# y = df_under['입원여부']"
      ],
      "execution_count": 41,
      "outputs": []
    },
    {
      "cell_type": "code",
      "metadata": {
        "id": "bzM9Kr_Y-AHE"
      },
      "source": [
        "# # https://www.kaggle.com/gizemtanriver/multi-class-classification-by-decision-tree\n",
        "\n",
        "# from sklearn.preprocessing import LabelEncoder\n",
        "# labelencoder_X = LabelEncoder()\n",
        "# X_encoder=  labelencoder_X.fit_transform(X[:,1])"
      ],
      "execution_count": null,
      "outputs": []
    },
    {
      "cell_type": "code",
      "metadata": {
        "id": "62mhm6insD6y"
      },
      "source": [
        "# y_encoder, class_names= pd.factorize(y.values)"
      ],
      "execution_count": 37,
      "outputs": []
    },
    {
      "cell_type": "code",
      "metadata": {
        "id": "mWN8Cpqspdab"
      },
      "source": [
        "# 데이터셋 분리 \n",
        "from sklearn.model_selection import train_test_split\n",
        "X_train, X_test, y_train, y_test = train_test_split(X_under, y_under, test_size = 0.25, stratify=y, random_state = 42)"
      ],
      "execution_count": 57,
      "outputs": []
    },
    {
      "cell_type": "code",
      "metadata": {
        "colab": {
          "base_uri": "https://localhost:8080/"
        },
        "id": "yAJSKCreqH08",
        "outputId": "5bc84077-1486-4ef3-8cad-d44be65da8a3"
      },
      "source": [
        "# 모델 생성 \n",
        "from sklearn.tree import DecisionTreeClassifier\n",
        "tree2 = DecisionTreeClassifier(criterion = \"gini\", random_state = 100,\n",
        "                               max_depth=6, min_samples_leaf=200)\n",
        "tree2.fit(X_train,y_train)\n",
        "\n",
        "print(tree2.score(X_test,y_test))\n"
      ],
      "execution_count": 58,
      "outputs": [
        {
          "output_type": "stream",
          "name": "stdout",
          "text": [
            "0.8478317521358492\n"
          ]
        }
      ]
    },
    {
      "cell_type": "code",
      "metadata": {
        "id": "_WR62GAOqTRZ"
      },
      "source": [
        "from sklearn.tree import export_graphviz\n",
        "\n",
        "export_graphviz(\n",
        "    tree2, # 학습한 모형\n",
        "    out_file = 'tree2.dot', # .dot 파일 저장 위치\n",
        "    feature_names = list(X.columns), # 사용한 변수 이름\n",
        "    class_names = ['입원함', '입원안함'], # 예측할 타겟 클래스 이름\n",
        ")\n",
        "import graphviz\n",
        "\n",
        "# 위에서 생성된 tree.dot 파일을 Graphviz 읽어서 Jupyter Notebook상에서 시각화 \n",
        "with open(\"tree2.dot\") as f:\n",
        "    dot_graph = f.read()\n",
        "graphviz.Source(dot_graph)"
      ],
      "execution_count": null,
      "outputs": []
    },
    {
      "cell_type": "code",
      "metadata": {
        "colab": {
          "base_uri": "https://localhost:8080/"
        },
        "id": "ml3ZNajEd_Aa",
        "outputId": "b97935d6-08c9-468b-bd80-e88cff1f5d9b"
      },
      "source": [
        "# depth 변화 \n",
        "score = []\n",
        "for i in range(3,20) : \n",
        "  tree2 = DecisionTreeClassifier(criterion = \"gini\", random_state = 100,\n",
        "                               max_depth=i, min_samples_leaf=200)\n",
        "  tree2.fit(X_train,y_train)\n",
        "  score.append(tree2.score(X_test,y_test))\n",
        "print(score)"
      ],
      "execution_count": 76,
      "outputs": [
        {
          "output_type": "stream",
          "name": "stdout",
          "text": [
            "[0.8451553376860285, 0.8451553376860285, 0.8460498235679422, 0.8478317521358492, 0.8486135468830337, 0.8494376008057416, 0.8502616547284496, 0.8528465076313028, 0.8530718899007613, 0.8556990019791381, 0.8564948831181637, 0.8572555482775864, 0.8576992696205831, 0.8579880406533269, 0.8581077749839767, 0.8582063797268649, 0.8582415957064677]\n"
          ]
        }
      ]
    },
    {
      "cell_type": "code",
      "metadata": {
        "colab": {
          "base_uri": "https://localhost:8080/",
          "height": 542
        },
        "id": "AE7DvAbvhPBj",
        "outputId": "ac6a95d6-f862-48d7-e5f6-2fd356894b5c"
      },
      "source": [
        "import plotly.graph_objs as go \n",
        "import plotly.express as px\n",
        "\n",
        "fig = go.Figure()\n",
        "x = [i for i in range(3,20)]\n",
        "fig.add_trace(go.Scatter(x = x, y = score))\n",
        "fig.show()"
      ],
      "execution_count": 77,
      "outputs": [
        {
          "output_type": "display_data",
          "data": {
            "text/html": [
              "<html>\n",
              "<head><meta charset=\"utf-8\" /></head>\n",
              "<body>\n",
              "    <div>\n",
              "            <script src=\"https://cdnjs.cloudflare.com/ajax/libs/mathjax/2.7.5/MathJax.js?config=TeX-AMS-MML_SVG\"></script><script type=\"text/javascript\">if (window.MathJax) {MathJax.Hub.Config({SVG: {font: \"STIX-Web\"}});}</script>\n",
              "                <script type=\"text/javascript\">window.PlotlyConfig = {MathJaxConfig: 'local'};</script>\n",
              "        <script src=\"https://cdn.plot.ly/plotly-latest.min.js\"></script>    \n",
              "            <div id=\"024dc0e8-54a3-4dd8-8e0b-32ce496c03b8\" class=\"plotly-graph-div\" style=\"height:525px; width:100%;\"></div>\n",
              "            <script type=\"text/javascript\">\n",
              "                \n",
              "                    window.PLOTLYENV=window.PLOTLYENV || {};\n",
              "                    \n",
              "                if (document.getElementById(\"024dc0e8-54a3-4dd8-8e0b-32ce496c03b8\")) {\n",
              "                    Plotly.newPlot(\n",
              "                        '024dc0e8-54a3-4dd8-8e0b-32ce496c03b8',\n",
              "                        [{\"type\": \"scatter\", \"x\": [3, 4, 5, 6, 7, 8, 9, 10, 11, 12, 13, 14, 15, 16, 17, 18, 19], \"y\": [0.8451553376860285, 0.8451553376860285, 0.8460498235679422, 0.8478317521358492, 0.8486135468830337, 0.8494376008057416, 0.8502616547284496, 0.8528465076313028, 0.8530718899007613, 0.8556990019791381, 0.8564948831181637, 0.8572555482775864, 0.8576992696205831, 0.8579880406533269, 0.8581077749839767, 0.8582063797268649, 0.8582415957064677]}],\n",
              "                        {\"template\": {\"data\": {\"bar\": [{\"error_x\": {\"color\": \"#2a3f5f\"}, \"error_y\": {\"color\": \"#2a3f5f\"}, \"marker\": {\"line\": {\"color\": \"#E5ECF6\", \"width\": 0.5}}, \"type\": \"bar\"}], \"barpolar\": [{\"marker\": {\"line\": {\"color\": \"#E5ECF6\", \"width\": 0.5}}, \"type\": \"barpolar\"}], \"carpet\": [{\"aaxis\": {\"endlinecolor\": \"#2a3f5f\", \"gridcolor\": \"white\", \"linecolor\": \"white\", \"minorgridcolor\": \"white\", \"startlinecolor\": \"#2a3f5f\"}, \"baxis\": {\"endlinecolor\": \"#2a3f5f\", \"gridcolor\": \"white\", \"linecolor\": \"white\", \"minorgridcolor\": \"white\", \"startlinecolor\": \"#2a3f5f\"}, \"type\": \"carpet\"}], \"choropleth\": [{\"colorbar\": {\"outlinewidth\": 0, \"ticks\": \"\"}, \"type\": \"choropleth\"}], \"contour\": [{\"colorbar\": {\"outlinewidth\": 0, \"ticks\": \"\"}, \"colorscale\": [[0.0, \"#0d0887\"], [0.1111111111111111, \"#46039f\"], [0.2222222222222222, \"#7201a8\"], [0.3333333333333333, \"#9c179e\"], [0.4444444444444444, \"#bd3786\"], [0.5555555555555556, \"#d8576b\"], [0.6666666666666666, \"#ed7953\"], [0.7777777777777778, \"#fb9f3a\"], [0.8888888888888888, \"#fdca26\"], [1.0, \"#f0f921\"]], \"type\": \"contour\"}], \"contourcarpet\": [{\"colorbar\": {\"outlinewidth\": 0, \"ticks\": \"\"}, \"type\": \"contourcarpet\"}], \"heatmap\": [{\"colorbar\": {\"outlinewidth\": 0, \"ticks\": \"\"}, \"colorscale\": [[0.0, \"#0d0887\"], [0.1111111111111111, \"#46039f\"], [0.2222222222222222, \"#7201a8\"], [0.3333333333333333, \"#9c179e\"], [0.4444444444444444, \"#bd3786\"], [0.5555555555555556, \"#d8576b\"], [0.6666666666666666, \"#ed7953\"], [0.7777777777777778, \"#fb9f3a\"], [0.8888888888888888, \"#fdca26\"], [1.0, \"#f0f921\"]], \"type\": \"heatmap\"}], \"heatmapgl\": [{\"colorbar\": {\"outlinewidth\": 0, \"ticks\": \"\"}, \"colorscale\": [[0.0, \"#0d0887\"], [0.1111111111111111, \"#46039f\"], [0.2222222222222222, \"#7201a8\"], [0.3333333333333333, \"#9c179e\"], [0.4444444444444444, \"#bd3786\"], [0.5555555555555556, \"#d8576b\"], [0.6666666666666666, \"#ed7953\"], [0.7777777777777778, \"#fb9f3a\"], [0.8888888888888888, \"#fdca26\"], [1.0, \"#f0f921\"]], \"type\": \"heatmapgl\"}], \"histogram\": [{\"marker\": {\"colorbar\": {\"outlinewidth\": 0, \"ticks\": \"\"}}, \"type\": \"histogram\"}], \"histogram2d\": [{\"colorbar\": {\"outlinewidth\": 0, \"ticks\": \"\"}, \"colorscale\": [[0.0, \"#0d0887\"], [0.1111111111111111, \"#46039f\"], [0.2222222222222222, \"#7201a8\"], [0.3333333333333333, \"#9c179e\"], [0.4444444444444444, \"#bd3786\"], [0.5555555555555556, \"#d8576b\"], [0.6666666666666666, \"#ed7953\"], [0.7777777777777778, \"#fb9f3a\"], [0.8888888888888888, \"#fdca26\"], [1.0, \"#f0f921\"]], \"type\": \"histogram2d\"}], \"histogram2dcontour\": [{\"colorbar\": {\"outlinewidth\": 0, \"ticks\": \"\"}, \"colorscale\": [[0.0, \"#0d0887\"], [0.1111111111111111, \"#46039f\"], [0.2222222222222222, \"#7201a8\"], [0.3333333333333333, \"#9c179e\"], [0.4444444444444444, \"#bd3786\"], [0.5555555555555556, \"#d8576b\"], [0.6666666666666666, \"#ed7953\"], [0.7777777777777778, \"#fb9f3a\"], [0.8888888888888888, \"#fdca26\"], [1.0, \"#f0f921\"]], \"type\": \"histogram2dcontour\"}], \"mesh3d\": [{\"colorbar\": {\"outlinewidth\": 0, \"ticks\": \"\"}, \"type\": \"mesh3d\"}], \"parcoords\": [{\"line\": {\"colorbar\": {\"outlinewidth\": 0, \"ticks\": \"\"}}, \"type\": \"parcoords\"}], \"pie\": [{\"automargin\": true, \"type\": \"pie\"}], \"scatter\": [{\"marker\": {\"colorbar\": {\"outlinewidth\": 0, \"ticks\": \"\"}}, \"type\": \"scatter\"}], \"scatter3d\": [{\"line\": {\"colorbar\": {\"outlinewidth\": 0, \"ticks\": \"\"}}, \"marker\": {\"colorbar\": {\"outlinewidth\": 0, \"ticks\": \"\"}}, \"type\": \"scatter3d\"}], \"scattercarpet\": [{\"marker\": {\"colorbar\": {\"outlinewidth\": 0, \"ticks\": \"\"}}, \"type\": \"scattercarpet\"}], \"scattergeo\": [{\"marker\": {\"colorbar\": {\"outlinewidth\": 0, \"ticks\": \"\"}}, \"type\": \"scattergeo\"}], \"scattergl\": [{\"marker\": {\"colorbar\": {\"outlinewidth\": 0, \"ticks\": \"\"}}, \"type\": \"scattergl\"}], \"scattermapbox\": [{\"marker\": {\"colorbar\": {\"outlinewidth\": 0, \"ticks\": \"\"}}, \"type\": \"scattermapbox\"}], \"scatterpolar\": [{\"marker\": {\"colorbar\": {\"outlinewidth\": 0, \"ticks\": \"\"}}, \"type\": \"scatterpolar\"}], \"scatterpolargl\": [{\"marker\": {\"colorbar\": {\"outlinewidth\": 0, \"ticks\": \"\"}}, \"type\": \"scatterpolargl\"}], \"scatterternary\": [{\"marker\": {\"colorbar\": {\"outlinewidth\": 0, \"ticks\": \"\"}}, \"type\": \"scatterternary\"}], \"surface\": [{\"colorbar\": {\"outlinewidth\": 0, \"ticks\": \"\"}, \"colorscale\": [[0.0, \"#0d0887\"], [0.1111111111111111, \"#46039f\"], [0.2222222222222222, \"#7201a8\"], [0.3333333333333333, \"#9c179e\"], [0.4444444444444444, \"#bd3786\"], [0.5555555555555556, \"#d8576b\"], [0.6666666666666666, \"#ed7953\"], [0.7777777777777778, \"#fb9f3a\"], [0.8888888888888888, \"#fdca26\"], [1.0, \"#f0f921\"]], \"type\": \"surface\"}], \"table\": [{\"cells\": {\"fill\": {\"color\": \"#EBF0F8\"}, \"line\": {\"color\": \"white\"}}, \"header\": {\"fill\": {\"color\": \"#C8D4E3\"}, \"line\": {\"color\": \"white\"}}, \"type\": \"table\"}]}, \"layout\": {\"annotationdefaults\": {\"arrowcolor\": \"#2a3f5f\", \"arrowhead\": 0, \"arrowwidth\": 1}, \"coloraxis\": {\"colorbar\": {\"outlinewidth\": 0, \"ticks\": \"\"}}, \"colorscale\": {\"diverging\": [[0, \"#8e0152\"], [0.1, \"#c51b7d\"], [0.2, \"#de77ae\"], [0.3, \"#f1b6da\"], [0.4, \"#fde0ef\"], [0.5, \"#f7f7f7\"], [0.6, \"#e6f5d0\"], [0.7, \"#b8e186\"], [0.8, \"#7fbc41\"], [0.9, \"#4d9221\"], [1, \"#276419\"]], \"sequential\": [[0.0, \"#0d0887\"], [0.1111111111111111, \"#46039f\"], [0.2222222222222222, \"#7201a8\"], [0.3333333333333333, \"#9c179e\"], [0.4444444444444444, \"#bd3786\"], [0.5555555555555556, \"#d8576b\"], [0.6666666666666666, \"#ed7953\"], [0.7777777777777778, \"#fb9f3a\"], [0.8888888888888888, \"#fdca26\"], [1.0, \"#f0f921\"]], \"sequentialminus\": [[0.0, \"#0d0887\"], [0.1111111111111111, \"#46039f\"], [0.2222222222222222, \"#7201a8\"], [0.3333333333333333, \"#9c179e\"], [0.4444444444444444, \"#bd3786\"], [0.5555555555555556, \"#d8576b\"], [0.6666666666666666, \"#ed7953\"], [0.7777777777777778, \"#fb9f3a\"], [0.8888888888888888, \"#fdca26\"], [1.0, \"#f0f921\"]]}, \"colorway\": [\"#636efa\", \"#EF553B\", \"#00cc96\", \"#ab63fa\", \"#FFA15A\", \"#19d3f3\", \"#FF6692\", \"#B6E880\", \"#FF97FF\", \"#FECB52\"], \"font\": {\"color\": \"#2a3f5f\"}, \"geo\": {\"bgcolor\": \"white\", \"lakecolor\": \"white\", \"landcolor\": \"#E5ECF6\", \"showlakes\": true, \"showland\": true, \"subunitcolor\": \"white\"}, \"hoverlabel\": {\"align\": \"left\"}, \"hovermode\": \"closest\", \"mapbox\": {\"style\": \"light\"}, \"paper_bgcolor\": \"white\", \"plot_bgcolor\": \"#E5ECF6\", \"polar\": {\"angularaxis\": {\"gridcolor\": \"white\", \"linecolor\": \"white\", \"ticks\": \"\"}, \"bgcolor\": \"#E5ECF6\", \"radialaxis\": {\"gridcolor\": \"white\", \"linecolor\": \"white\", \"ticks\": \"\"}}, \"scene\": {\"xaxis\": {\"backgroundcolor\": \"#E5ECF6\", \"gridcolor\": \"white\", \"gridwidth\": 2, \"linecolor\": \"white\", \"showbackground\": true, \"ticks\": \"\", \"zerolinecolor\": \"white\"}, \"yaxis\": {\"backgroundcolor\": \"#E5ECF6\", \"gridcolor\": \"white\", \"gridwidth\": 2, \"linecolor\": \"white\", \"showbackground\": true, \"ticks\": \"\", \"zerolinecolor\": \"white\"}, \"zaxis\": {\"backgroundcolor\": \"#E5ECF6\", \"gridcolor\": \"white\", \"gridwidth\": 2, \"linecolor\": \"white\", \"showbackground\": true, \"ticks\": \"\", \"zerolinecolor\": \"white\"}}, \"shapedefaults\": {\"line\": {\"color\": \"#2a3f5f\"}}, \"ternary\": {\"aaxis\": {\"gridcolor\": \"white\", \"linecolor\": \"white\", \"ticks\": \"\"}, \"baxis\": {\"gridcolor\": \"white\", \"linecolor\": \"white\", \"ticks\": \"\"}, \"bgcolor\": \"#E5ECF6\", \"caxis\": {\"gridcolor\": \"white\", \"linecolor\": \"white\", \"ticks\": \"\"}}, \"title\": {\"x\": 0.05}, \"xaxis\": {\"automargin\": true, \"gridcolor\": \"white\", \"linecolor\": \"white\", \"ticks\": \"\", \"title\": {\"standoff\": 15}, \"zerolinecolor\": \"white\", \"zerolinewidth\": 2}, \"yaxis\": {\"automargin\": true, \"gridcolor\": \"white\", \"linecolor\": \"white\", \"ticks\": \"\", \"title\": {\"standoff\": 15}, \"zerolinecolor\": \"white\", \"zerolinewidth\": 2}}}},\n",
              "                        {\"responsive\": true}\n",
              "                    ).then(function(){\n",
              "                            \n",
              "var gd = document.getElementById('024dc0e8-54a3-4dd8-8e0b-32ce496c03b8');\n",
              "var x = new MutationObserver(function (mutations, observer) {{\n",
              "        var display = window.getComputedStyle(gd).display;\n",
              "        if (!display || display === 'none') {{\n",
              "            console.log([gd, 'removed!']);\n",
              "            Plotly.purge(gd);\n",
              "            observer.disconnect();\n",
              "        }}\n",
              "}});\n",
              "\n",
              "// Listen for the removal of the full notebook cells\n",
              "var notebookContainer = gd.closest('#notebook-container');\n",
              "if (notebookContainer) {{\n",
              "    x.observe(notebookContainer, {childList: true});\n",
              "}}\n",
              "\n",
              "// Listen for the clearing of the current output cell\n",
              "var outputEl = gd.closest('.output');\n",
              "if (outputEl) {{\n",
              "    x.observe(outputEl, {childList: true});\n",
              "}}\n",
              "\n",
              "                        })\n",
              "                };\n",
              "                \n",
              "            </script>\n",
              "        </div>\n",
              "</body>\n",
              "</html>"
            ]
          },
          "metadata": {}
        }
      ]
    },
    {
      "cell_type": "code",
      "metadata": {
        "id": "vLVHtXbniJRD"
      },
      "source": [
        "# depth 12로 모델 생성 \n",
        "tree2 = DecisionTreeClassifier(criterion = \"gini\", random_state = 100,\n",
        "                               max_depth=12, min_samples_leaf=200)\n",
        "tree2.fit(X_train,y_train)\n",
        "score.append(tree2.score(X_test,y_test))"
      ],
      "execution_count": 80,
      "outputs": []
    },
    {
      "cell_type": "code",
      "metadata": {
        "colab": {
          "base_uri": "https://localhost:8080/"
        },
        "id": "NLax1uEKrz4n",
        "outputId": "f37af43d-4e91-42d9-e537-1af9921f5630"
      },
      "source": [
        "# 혼동 행렬 \n",
        "y_pred_train =tree2.predict(X_train)\n",
        "\n",
        "from sklearn import metrics\n",
        "from sklearn.metrics import confusion_matrix, classification_report\n",
        "\n",
        "accuracy = metrics.accuracy_score(y_train, y_pred_train)\n",
        "print(\"Accuracy: {:.2f}\".format(accuracy))\n",
        "cm=confusion_matrix(y_train,y_pred_train)\n",
        "print('Confusion Matrix: \\n', cm)\n",
        "# print(classification_report(y_train, y_pred_train, target_names=class_names))"
      ],
      "execution_count": 81,
      "outputs": [
        {
          "output_type": "stream",
          "name": "stdout",
          "text": [
            "Accuracy: 0.86\n",
            "Confusion Matrix: \n",
            " [[171848  41128]\n",
            " [ 19808 193159]]\n"
          ]
        }
      ]
    },
    {
      "cell_type": "code",
      "metadata": {
        "colab": {
          "base_uri": "https://localhost:8080/"
        },
        "id": "SUStXKegfCPr",
        "outputId": "b80894a2-d05a-41ac-ede6-92de3f091a44"
      },
      "source": [
        "# kflod 모델 검증\n",
        "from sklearn.model_selection import cross_val_score\n",
        "from sklearn.model_selection import KFold\n",
        "\n",
        "kfold = KFold(n_splits = 6, shuffle = True, random_state = 100)\n",
        "\n",
        "print(\"cross validation score : {}\".format(cross_val_score(tree2, X_under, y_under, cv = kfold)))"
      ],
      "execution_count": 82,
      "outputs": [
        {
          "output_type": "stream",
          "name": "stdout",
          "text": [
            "cross validation score : [0.85726963 0.85581169 0.85712173 0.85844233 0.85654066 0.85906565]\n"
          ]
        }
      ]
    },
    {
      "cell_type": "markdown",
      "metadata": {
        "id": "mKvzUhAVcqNu"
      },
      "source": [
        "## 5-2) Naive Bayes"
      ]
    },
    {
      "cell_type": "code",
      "metadata": {
        "colab": {
          "base_uri": "https://localhost:8080/"
        },
        "id": "aGdhtWmss0yf",
        "outputId": "15728874-82c6-4d0e-e0ec-7e22c7f5da0a"
      },
      "source": [
        "from sklearn.naive_bayes import GaussianNB\n",
        "\n",
        "nb = GaussianNB()\n",
        "y_pred = nb.fit(X_train, y_train).predict(X_test)\n",
        "\n",
        "print(\"Number of mislabeled points out of a total %d proints : %d\" % (X_test.shape[0], (y_test != y_pred).sum()))\n"
      ],
      "execution_count": 83,
      "outputs": [
        {
          "output_type": "stream",
          "name": "stdout",
          "text": [
            "Number of mislabeled points out of a total 141981 proints : 33268\n"
          ]
        }
      ]
    },
    {
      "cell_type": "code",
      "metadata": {
        "colab": {
          "base_uri": "https://localhost:8080/"
        },
        "id": "9WC0vey-2Ywc",
        "outputId": "20e36940-4570-4f3e-827e-f2b29c38c634"
      },
      "source": [
        "nb.score(X_train, y_train)\n"
      ],
      "execution_count": 84,
      "outputs": [
        {
          "output_type": "execute_result",
          "data": {
            "text/plain": [
              "0.7664898824490601"
            ]
          },
          "metadata": {},
          "execution_count": 84
        }
      ]
    },
    {
      "cell_type": "code",
      "metadata": {
        "colab": {
          "base_uri": "https://localhost:8080/"
        },
        "id": "3P5s9b7G2-dc",
        "outputId": "672d3fd4-4d6a-4130-cf3f-8f71f874a753"
      },
      "source": [
        "nb.score(X_test, y_test)"
      ],
      "execution_count": 85,
      "outputs": [
        {
          "output_type": "execute_result",
          "data": {
            "text/plain": [
              "0.7656869581141139"
            ]
          },
          "metadata": {},
          "execution_count": 85
        }
      ]
    },
    {
      "cell_type": "code",
      "metadata": {
        "colab": {
          "base_uri": "https://localhost:8080/"
        },
        "id": "QOOAlWtj3BRo",
        "outputId": "9d0a6216-f1e3-437e-adf6-1543e578b616"
      },
      "source": [
        "y_pred_train =nb.predict(X_train)\n",
        "\n",
        "accuracy = metrics.accuracy_score(y_train, y_pred_train)\n",
        "print(\"Accuracy: {:.2f}\".format(accuracy))\n",
        "cm=confusion_matrix(y_train,y_pred_train)\n",
        "print('Confusion Matrix: \\n', cm)"
      ],
      "execution_count": 86,
      "outputs": [
        {
          "output_type": "stream",
          "name": "stdout",
          "text": [
            "Accuracy: 0.77\n",
            "Confusion Matrix: \n",
            " [[173151  39825]\n",
            " [ 59637 153330]]\n"
          ]
        }
      ]
    },
    {
      "cell_type": "code",
      "metadata": {
        "colab": {
          "base_uri": "https://localhost:8080/"
        },
        "id": "sNDrPuPSi6LI",
        "outputId": "5da3033a-fe7d-44d3-c0ff-8737a3c779af"
      },
      "source": [
        "kfold = KFold(n_splits = 6, shuffle = True, random_state = 100)\n",
        "\n",
        "print(\"cross validation score : {}\".format(cross_val_score(nb, X_under, y_under, cv = kfold)))"
      ],
      "execution_count": 87,
      "outputs": [
        {
          "output_type": "stream",
          "name": "stdout",
          "text": [
            "cross validation score : [0.76489108 0.7653348  0.76581021 0.76768018 0.7674055  0.76525028]\n"
          ]
        }
      ]
    },
    {
      "cell_type": "markdown",
      "metadata": {
        "id": "GkFOh_ZdjJpm"
      },
      "source": [
        "## 5-3) Logistic Regression "
      ]
    },
    {
      "cell_type": "code",
      "metadata": {
        "colab": {
          "base_uri": "https://localhost:8080/"
        },
        "id": "skfjjvLDi_Ha",
        "outputId": "11e980f7-a50e-442b-9320-c947711fd0df"
      },
      "source": [
        "from sklearn.linear_model import LogisticRegression\n",
        "\n",
        "logi = LogisticRegression()\n",
        "logi.fit(X_train, y_train)"
      ],
      "execution_count": 88,
      "outputs": [
        {
          "output_type": "execute_result",
          "data": {
            "text/plain": [
              "LogisticRegression(C=1.0, class_weight=None, dual=False, fit_intercept=True,\n",
              "                   intercept_scaling=1, l1_ratio=None, max_iter=100,\n",
              "                   multi_class='auto', n_jobs=None, penalty='l2',\n",
              "                   random_state=None, solver='lbfgs', tol=0.0001, verbose=0,\n",
              "                   warm_start=False)"
            ]
          },
          "metadata": {},
          "execution_count": 88
        }
      ]
    },
    {
      "cell_type": "code",
      "metadata": {
        "colab": {
          "base_uri": "https://localhost:8080/"
        },
        "id": "l-fu-nWOjVAf",
        "outputId": "b545dd0c-1656-4285-b6b2-0c5cd8454527"
      },
      "source": [
        "logi.score(X_test,y_test)"
      ],
      "execution_count": 91,
      "outputs": [
        {
          "output_type": "execute_result",
          "data": {
            "text/plain": [
              "0.7972756918179194"
            ]
          },
          "metadata": {},
          "execution_count": 91
        }
      ]
    },
    {
      "cell_type": "code",
      "metadata": {
        "colab": {
          "base_uri": "https://localhost:8080/"
        },
        "id": "c6huRVRcjmEO",
        "outputId": "e568936d-ff9f-40c3-be9d-95b371ad79b5"
      },
      "source": [
        "logi.coef_"
      ],
      "execution_count": 93,
      "outputs": [
        {
          "output_type": "execute_result",
          "data": {
            "text/plain": [
              "array([[ 0.07475881,  0.05645716,  0.0104982 ,  0.03958719, -0.01199788,\n",
              "         0.03456582,  1.39462976,  0.06777658]])"
            ]
          },
          "metadata": {},
          "execution_count": 93
        }
      ]
    },
    {
      "cell_type": "code",
      "metadata": {
        "colab": {
          "base_uri": "https://localhost:8080/"
        },
        "id": "VN7gPswcj0Mu",
        "outputId": "0ef713d1-fdde-4c24-adf5-0c3faa79b9eb"
      },
      "source": [
        "y_pred_train =logi.predict(X_train)\n",
        "\n",
        "\n",
        "accuracy = metrics.accuracy_score(y_train, y_pred_train)\n",
        "print(\"Accuracy: {:.2f}\".format(accuracy))\n",
        "cm=confusion_matrix(y_train,y_pred_train)\n",
        "print('Confusion Matrix: \\n', cm)"
      ],
      "execution_count": 95,
      "outputs": [
        {
          "output_type": "stream",
          "name": "stdout",
          "text": [
            "Accuracy: 0.80\n",
            "Confusion Matrix: \n",
            " [[173807  39169]\n",
            " [ 47195 165772]]\n"
          ]
        }
      ]
    },
    {
      "cell_type": "code",
      "metadata": {
        "colab": {
          "base_uri": "https://localhost:8080/"
        },
        "id": "subc_fK-kI5x",
        "outputId": "e1cb447a-3b89-4cce-86e8-217ae1cbe2fb"
      },
      "source": [
        "kfold = KFold(n_splits = 6, shuffle = True, random_state = 100)\n",
        "\n",
        "print(\"cross validation score : {}\".format(cross_val_score(logi, X_under, y_under, cv = kfold)))"
      ],
      "execution_count": 96,
      "outputs": [
        {
          "output_type": "stream",
          "name": "stdout",
          "text": [
            "cross validation score : [0.79670167 0.79631077 0.79670167 0.79808566 0.79645868 0.79562406]\n"
          ]
        }
      ]
    },
    {
      "cell_type": "markdown",
      "metadata": {
        "id": "_zEPpMsHkg9B"
      },
      "source": [
        "## 5-4 Knn"
      ]
    },
    {
      "cell_type": "code",
      "metadata": {
        "id": "x_8R7BSQkM17"
      },
      "source": [
        "from sklearn.neighbors import KNeighborsClassifier\n",
        "knn = KNeighborsClassifier(n_neighbors = 3)"
      ],
      "execution_count": 97,
      "outputs": []
    },
    {
      "cell_type": "code",
      "metadata": {
        "colab": {
          "base_uri": "https://localhost:8080/"
        },
        "id": "vzr34K-pkqHE",
        "outputId": "e11da445-fed0-41cf-b182-8ccb25bc6218"
      },
      "source": [
        "knn.fit(X_train, y_train)"
      ],
      "execution_count": 98,
      "outputs": [
        {
          "output_type": "execute_result",
          "data": {
            "text/plain": [
              "KNeighborsClassifier(algorithm='auto', leaf_size=30, metric='minkowski',\n",
              "                     metric_params=None, n_jobs=None, n_neighbors=3, p=2,\n",
              "                     weights='uniform')"
            ]
          },
          "metadata": {},
          "execution_count": 98
        }
      ]
    },
    {
      "cell_type": "code",
      "metadata": {
        "colab": {
          "base_uri": "https://localhost:8080/"
        },
        "id": "BuOZ5QZgkujU",
        "outputId": "1eb6730a-7e96-4737-f100-e115aed5e89f"
      },
      "source": [
        "knn.score(X_test,y_test)"
      ],
      "execution_count": 99,
      "outputs": [
        {
          "output_type": "execute_result",
          "data": {
            "text/plain": [
              "0.8279417668561286"
            ]
          },
          "metadata": {},
          "execution_count": 99
        }
      ]
    },
    {
      "cell_type": "code",
      "metadata": {
        "colab": {
          "base_uri": "https://localhost:8080/"
        },
        "id": "pPXIzks8k0eb",
        "outputId": "0c6b6651-1208-456b-b140-5b1902dc96f9"
      },
      "source": [
        "y_pred_train =knn.predict(X_train)\n",
        "\n",
        "\n",
        "accuracy = metrics.accuracy_score(y_train, y_pred_train)\n",
        "print(\"Accuracy: {:.2f}\".format(accuracy))\n",
        "cm=confusion_matrix(y_train,y_pred_train)\n",
        "print('Confusion Matrix: \\n', cm)"
      ],
      "execution_count": 100,
      "outputs": [
        {
          "output_type": "stream",
          "name": "stdout",
          "text": [
            "Accuracy: 0.89\n",
            "Confusion Matrix: \n",
            " [[188336  24640]\n",
            " [ 20318 192649]]\n"
          ]
        }
      ]
    },
    {
      "cell_type": "code",
      "metadata": {
        "colab": {
          "base_uri": "https://localhost:8080/"
        },
        "id": "n1MbjGLBk7AG",
        "outputId": "ffba84de-7075-44b2-f9fc-25ba43fc88d3"
      },
      "source": [
        "kfold = KFold(n_splits = 6, shuffle = True, random_state = 100)\n",
        "\n",
        "print(\"cross validation score : {}\".format(cross_val_score(knn, X_under, y_under, cv = kfold)))"
      ],
      "execution_count": 101,
      "outputs": [
        {
          "output_type": "stream",
          "name": "stdout",
          "text": [
            "cross validation score : [0.82831153 0.82741353 0.82691698 0.82831153 0.82822702 0.82990682]\n"
          ]
        }
      ]
    },
    {
      "cell_type": "code",
      "metadata": {
        "id": "XB9fW1JfsETv"
      },
      "source": [
        ""
      ],
      "execution_count": null,
      "outputs": []
    },
    {
      "cell_type": "markdown",
      "metadata": {
        "id": "Dm-WWLbkmTdX"
      },
      "source": [
        "거리 가중치 knn "
      ]
    },
    {
      "cell_type": "code",
      "metadata": {
        "id": "icJBX5b3lXd7"
      },
      "source": [
        ""
      ],
      "execution_count": null,
      "outputs": []
    }
  ]
}