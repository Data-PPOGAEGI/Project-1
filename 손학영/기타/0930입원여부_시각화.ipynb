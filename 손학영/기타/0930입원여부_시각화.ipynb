{
  "nbformat": 4,
  "nbformat_minor": 0,
  "metadata": {
    "colab": {
      "name": "0930입원여부_시각화.ipynb",
      "provenance": [],
      "collapsed_sections": []
    },
    "kernelspec": {
      "name": "python3",
      "display_name": "Python 3"
    },
    "language_info": {
      "name": "python"
    },
    "accelerator": "GPU"
  },
  "cells": [
    {
      "cell_type": "code",
      "metadata": {
        "colab": {
          "base_uri": "https://localhost:8080/"
        },
        "id": "djTn3drvdw2z",
        "outputId": "bb919af3-54c6-4692-b3e9-c2bd7102d785"
      },
      "source": [
        "# 준비 \n",
        "\n",
        "# colab 드라이브 연결하기 \n",
        "from google.colab import drive\n",
        "drive.mount('/content/drive')"
      ],
      "execution_count": 2,
      "outputs": [
        {
          "output_type": "stream",
          "name": "stdout",
          "text": [
            "Drive already mounted at /content/drive; to attempt to forcibly remount, call drive.mount(\"/content/drive\", force_remount=True).\n"
          ]
        }
      ]
    },
    {
      "cell_type": "code",
      "metadata": {
        "id": "nmMldQFtd51V"
      },
      "source": [
        "# 패키지 불러오기 \n",
        "import pandas as pd \n",
        "import warnings\n",
        "warnings.filterwarnings('ignore')"
      ],
      "execution_count": 3,
      "outputs": []
    },
    {
      "cell_type": "markdown",
      "metadata": {
        "id": "YcDPkRH1eArT"
      },
      "source": [
        "## 01. 데이터 준비 "
      ]
    },
    {
      "cell_type": "code",
      "metadata": {
        "id": "97Sr2igTeAZT"
      },
      "source": [
        "df1 = pd.read_csv(\"/content/drive/MyDrive/프로젝트/멀티캠퍼스/프로젝트1/T20_2019_1백만.1.csv\", encoding = \"euc-kr\")\n",
        "df2 = pd.read_csv(\"/content/drive/MyDrive/프로젝트/멀티캠퍼스/프로젝트1/T20_2019_1백만.2.csv\", encoding = \"euc-kr\")\n",
        "df3 = pd.read_csv(\"/content/drive/MyDrive/프로젝트/멀티캠퍼스/프로젝트1/T20_2019_1백만.3.csv\", encoding = \"euc-kr\")"
      ],
      "execution_count": 2,
      "outputs": []
    },
    {
      "cell_type": "code",
      "metadata": {
        "id": "Ia8q5sSkd_o4"
      },
      "source": [
        "# 데이터 합치기 \n",
        "df = pd.concat([df1,df2,df3])\n",
        "del df1, df2, df3"
      ],
      "execution_count": 3,
      "outputs": []
    },
    {
      "cell_type": "markdown",
      "metadata": {
        "id": "36_3JqluhmNY"
      },
      "source": [
        "1) 입원여부 컬럼 생성"
      ]
    },
    {
      "cell_type": "code",
      "metadata": {
        "colab": {
          "base_uri": "https://localhost:8080/"
        },
        "id": "6kTk7xhwfgQP",
        "outputId": "b29b91c0-8b3a-4036-d76a-d99c22d6c254"
      },
      "source": [
        "df['서식코드'].unique()"
      ],
      "execution_count": 23,
      "outputs": [
        {
          "output_type": "execute_result",
          "data": {
            "text/plain": [
              "array([3, 2, 8])"
            ]
          },
          "metadata": {},
          "execution_count": 23
        }
      ]
    },
    {
      "cell_type": "code",
      "metadata": {
        "id": "5NoW_wRof2md"
      },
      "source": [
        "# 서식코드를 입원여부로 변환\n",
        "# 1이면 입원 O, 0이면 입원 X \n",
        "df.loc[(df['서식코드']==2), '서식코드'] = 1 \n",
        "df.loc[(df['서식코드']==3), '서식코드'] = 0\n",
        "df.loc[(df['서식코드']==8), '서식코드'] = 0 "
      ],
      "execution_count": 4,
      "outputs": []
    },
    {
      "cell_type": "code",
      "metadata": {
        "colab": {
          "base_uri": "https://localhost:8080/"
        },
        "id": "wXckf7j7elOD",
        "outputId": "cce9c845-01c9-4981-f671-ab19bbb42af1"
      },
      "source": [
        "# 변환 확인 \n",
        "df['서식코드'].unique()"
      ],
      "execution_count": 25,
      "outputs": [
        {
          "output_type": "execute_result",
          "data": {
            "text/plain": [
              "array([0, 1])"
            ]
          },
          "metadata": {},
          "execution_count": 25
        }
      ]
    },
    {
      "cell_type": "code",
      "metadata": {
        "id": "T0Axsa9Deu74"
      },
      "source": [
        "# 컬럼명 변경 \n",
        "df.rename(columns = {'서식코드' : '입원여부'}, inplace= True)"
      ],
      "execution_count": 5,
      "outputs": []
    },
    {
      "cell_type": "code",
      "metadata": {
        "colab": {
          "base_uri": "https://localhost:8080/"
        },
        "id": "NqlJC-DNgM6h",
        "outputId": "6a5115a1-5d38-4612-8764-95502179df95"
      },
      "source": [
        "# 변경 확인 \n",
        "df.columns"
      ],
      "execution_count": 27,
      "outputs": [
        {
          "output_type": "execute_result",
          "data": {
            "text/plain": [
              "Index(['기준년도', '가입자 일련번호', '진료내역일련번호', '성별코드', '연령대코드', '시도코드', '요양개시일자',\n",
              "       '입원여부', '진료과목코드', '주상병코드', '부상병코드', '요양일수', '입내원일수', '심결가산율',\n",
              "       '심결요양급여비용총액', '심결본인부담금', '심결보험자부담금', '총처방일수', '데이터 기준일자'],\n",
              "      dtype='object')"
            ]
          },
          "metadata": {},
          "execution_count": 27
        }
      ]
    },
    {
      "cell_type": "markdown",
      "metadata": {
        "id": "gR6db5vUhkYW"
      },
      "source": [
        "2) 시도 코드 시도명으로 변환"
      ]
    },
    {
      "cell_type": "code",
      "metadata": {
        "colab": {
          "base_uri": "https://localhost:8080/",
          "height": 112
        },
        "id": "LTjOcvPuhSaP",
        "outputId": "13886c58-6094-472c-bad6-35f497b9bbad"
      },
      "source": [
        "# 시도 데이터 불러오기 \n",
        "df_sido = pd.read_csv(\"/content/drive/MyDrive/프로젝트/멀티캠퍼스/프로젝트1/sido.txt\", sep = \"|\")\n",
        "df_sido.head(2)"
      ],
      "execution_count": 6,
      "outputs": [
        {
          "output_type": "execute_result",
          "data": {
            "text/html": [
              "<div>\n",
              "<style scoped>\n",
              "    .dataframe tbody tr th:only-of-type {\n",
              "        vertical-align: middle;\n",
              "    }\n",
              "\n",
              "    .dataframe tbody tr th {\n",
              "        vertical-align: top;\n",
              "    }\n",
              "\n",
              "    .dataframe thead th {\n",
              "        text-align: right;\n",
              "    }\n",
              "</style>\n",
              "<table border=\"1\" class=\"dataframe\">\n",
              "  <thead>\n",
              "    <tr style=\"text-align: right;\">\n",
              "      <th></th>\n",
              "      <th>시도코드</th>\n",
              "      <th>시도명</th>\n",
              "    </tr>\n",
              "  </thead>\n",
              "  <tbody>\n",
              "    <tr>\n",
              "      <th>0</th>\n",
              "      <td>11</td>\n",
              "      <td>서울시</td>\n",
              "    </tr>\n",
              "    <tr>\n",
              "      <th>1</th>\n",
              "      <td>26</td>\n",
              "      <td>부산시</td>\n",
              "    </tr>\n",
              "  </tbody>\n",
              "</table>\n",
              "</div>"
            ],
            "text/plain": [
              "   시도코드    시도명\n",
              "0     11   서울시\n",
              "1     26   부산시"
            ]
          },
          "metadata": {},
          "execution_count": 6
        }
      ]
    },
    {
      "cell_type": "code",
      "metadata": {
        "id": "xIE-j2TorlQL"
      },
      "source": [
        "df_sido.columns = ['시도코드', '시도명']"
      ],
      "execution_count": 7,
      "outputs": []
    },
    {
      "cell_type": "code",
      "metadata": {
        "colab": {
          "base_uri": "https://localhost:8080/",
          "height": 181
        },
        "id": "WgqE4raMq3BA",
        "outputId": "cac5ad37-8a11-449c-9acb-f958511f2751"
      },
      "source": [
        "df = pd.merge(df, df_sido, how = 'left', on = '시도코드')\n",
        "df.head(2)"
      ],
      "execution_count": 8,
      "outputs": [
        {
          "output_type": "execute_result",
          "data": {
            "text/html": [
              "<div>\n",
              "<style scoped>\n",
              "    .dataframe tbody tr th:only-of-type {\n",
              "        vertical-align: middle;\n",
              "    }\n",
              "\n",
              "    .dataframe tbody tr th {\n",
              "        vertical-align: top;\n",
              "    }\n",
              "\n",
              "    .dataframe thead th {\n",
              "        text-align: right;\n",
              "    }\n",
              "</style>\n",
              "<table border=\"1\" class=\"dataframe\">\n",
              "  <thead>\n",
              "    <tr style=\"text-align: right;\">\n",
              "      <th></th>\n",
              "      <th>기준년도</th>\n",
              "      <th>가입자 일련번호</th>\n",
              "      <th>진료내역일련번호</th>\n",
              "      <th>성별코드</th>\n",
              "      <th>연령대코드</th>\n",
              "      <th>시도코드</th>\n",
              "      <th>요양개시일자</th>\n",
              "      <th>입원여부</th>\n",
              "      <th>진료과목코드</th>\n",
              "      <th>주상병코드</th>\n",
              "      <th>부상병코드</th>\n",
              "      <th>요양일수</th>\n",
              "      <th>입내원일수</th>\n",
              "      <th>심결가산율</th>\n",
              "      <th>심결요양급여비용총액</th>\n",
              "      <th>심결본인부담금</th>\n",
              "      <th>심결보험자부담금</th>\n",
              "      <th>총처방일수</th>\n",
              "      <th>데이터 기준일자</th>\n",
              "      <th>시도명</th>\n",
              "    </tr>\n",
              "  </thead>\n",
              "  <tbody>\n",
              "    <tr>\n",
              "      <th>0</th>\n",
              "      <td>2019</td>\n",
              "      <td>1</td>\n",
              "      <td>104243474</td>\n",
              "      <td>2</td>\n",
              "      <td>12</td>\n",
              "      <td>46</td>\n",
              "      <td>20191104</td>\n",
              "      <td>0</td>\n",
              "      <td>5</td>\n",
              "      <td>M751</td>\n",
              "      <td>M750</td>\n",
              "      <td>1</td>\n",
              "      <td>1</td>\n",
              "      <td>0.25</td>\n",
              "      <td>19240</td>\n",
              "      <td>9600</td>\n",
              "      <td>9640</td>\n",
              "      <td>0</td>\n",
              "      <td>20201222</td>\n",
              "      <td>전라남도</td>\n",
              "    </tr>\n",
              "    <tr>\n",
              "      <th>1</th>\n",
              "      <td>2019</td>\n",
              "      <td>1</td>\n",
              "      <td>107479370</td>\n",
              "      <td>2</td>\n",
              "      <td>12</td>\n",
              "      <td>46</td>\n",
              "      <td>20190806</td>\n",
              "      <td>0</td>\n",
              "      <td>1</td>\n",
              "      <td>E1164</td>\n",
              "      <td>N308</td>\n",
              "      <td>1</td>\n",
              "      <td>1</td>\n",
              "      <td>0.25</td>\n",
              "      <td>145680</td>\n",
              "      <td>72800</td>\n",
              "      <td>72880</td>\n",
              "      <td>0</td>\n",
              "      <td>20201222</td>\n",
              "      <td>전라남도</td>\n",
              "    </tr>\n",
              "  </tbody>\n",
              "</table>\n",
              "</div>"
            ],
            "text/plain": [
              "   기준년도  가입자 일련번호   진료내역일련번호  성별코드  ...  심결보험자부담금  총처방일수  데이터 기준일자    시도명\n",
              "0  2019         1  104243474     2  ...      9640      0  20201222   전라남도\n",
              "1  2019         1  107479370     2  ...     72880      0  20201222   전라남도\n",
              "\n",
              "[2 rows x 20 columns]"
            ]
          },
          "metadata": {},
          "execution_count": 8
        }
      ]
    },
    {
      "cell_type": "markdown",
      "metadata": {
        "id": "aSdvECyLhs7p"
      },
      "source": [
        "3) 연령대코드 연령대로 변환"
      ]
    },
    {
      "cell_type": "code",
      "metadata": {
        "id": "qAcPTSvGjRYt"
      },
      "source": [
        "df['연령대코드'].unique()"
      ],
      "execution_count": null,
      "outputs": []
    },
    {
      "cell_type": "code",
      "metadata": {
        "id": "7i7RXRK7jUaP"
      },
      "source": [
        "count = 0\n",
        "age = 80\n",
        "for i in range(18,0, -1) : \n",
        "  if count == 0 : \n",
        "    df.loc[(df['연령대코드']==i), '연령대코드'] = str(age) \n",
        "    count += 1 \n",
        "  elif count ==1 : \n",
        "    df.loc[(df['연령대코드']==i), '연령대코드'] = str(age) \n",
        "    count = 0 \n",
        "    age -= 10  "
      ],
      "execution_count": 9,
      "outputs": []
    },
    {
      "cell_type": "code",
      "metadata": {
        "id": "kkgjjTQUqqk_"
      },
      "source": [
        "df['연령대코드'].unique()"
      ],
      "execution_count": null,
      "outputs": []
    },
    {
      "cell_type": "markdown",
      "metadata": {
        "id": "bDTfhsjah4vp"
      },
      "source": [
        "4) 진료과목코드 진료과목으로 변환"
      ]
    },
    {
      "cell_type": "code",
      "metadata": {
        "colab": {
          "base_uri": "https://localhost:8080/",
          "height": 112
        },
        "id": "MEdur1q1h7Tg",
        "outputId": "a5511a35-08ca-49af-eb5a-2636220c0e81"
      },
      "source": [
        "# 진료과목코드 데이터 불러오기 \n",
        "df_subject = pd.read_excel(\"/content/drive/MyDrive/프로젝트/멀티캠퍼스/프로젝트1/컬럼정보_코드.xls\")\n",
        "df_subject.head(2)"
      ],
      "execution_count": 6,
      "outputs": [
        {
          "output_type": "execute_result",
          "data": {
            "text/html": [
              "<div>\n",
              "<style scoped>\n",
              "    .dataframe tbody tr th:only-of-type {\n",
              "        vertical-align: middle;\n",
              "    }\n",
              "\n",
              "    .dataframe tbody tr th {\n",
              "        vertical-align: top;\n",
              "    }\n",
              "\n",
              "    .dataframe thead th {\n",
              "        text-align: right;\n",
              "    }\n",
              "</style>\n",
              "<table border=\"1\" class=\"dataframe\">\n",
              "  <thead>\n",
              "    <tr style=\"text-align: right;\">\n",
              "      <th></th>\n",
              "      <th>코드구분</th>\n",
              "      <th>설명</th>\n",
              "      <th>코드</th>\n",
              "      <th>명칭</th>\n",
              "    </tr>\n",
              "  </thead>\n",
              "  <tbody>\n",
              "    <tr>\n",
              "      <th>0</th>\n",
              "      <td>진료과목코드</td>\n",
              "      <td>분석차원_진료과목코드</td>\n",
              "      <td>0</td>\n",
              "      <td>일반의</td>\n",
              "    </tr>\n",
              "    <tr>\n",
              "      <th>1</th>\n",
              "      <td>진료과목코드</td>\n",
              "      <td>분석차원_진료과목코드</td>\n",
              "      <td>1</td>\n",
              "      <td>내과</td>\n",
              "    </tr>\n",
              "  </tbody>\n",
              "</table>\n",
              "</div>"
            ],
            "text/plain": [
              "     코드구분           설명  코드   명칭\n",
              "0  진료과목코드  분석차원_진료과목코드   0  일반의\n",
              "1  진료과목코드  분석차원_진료과목코드   1   내과"
            ]
          },
          "metadata": {},
          "execution_count": 6
        }
      ]
    },
    {
      "cell_type": "code",
      "metadata": {
        "id": "AL_3arOmibGd"
      },
      "source": [
        "# 안쓰는 데이터 컬럼 제거 \n",
        "df_subject.drop(['코드구분', '설명'], axis = 1 , inplace = True)\n",
        "df_subject.columns = ['진료과목코드', '진료과목']"
      ],
      "execution_count": 7,
      "outputs": []
    },
    {
      "cell_type": "code",
      "metadata": {
        "colab": {
          "base_uri": "https://localhost:8080/",
          "height": 181
        },
        "id": "z3PNO2OHih9F",
        "outputId": "623aaf13-b880-45e7-9135-55321cb69a9d"
      },
      "source": [
        "# 컬럼 합치기 \n",
        "df = pd.merge(df, df_subject, how = 'left', on = '진료과목코드')\n",
        "df.head(2)"
      ],
      "execution_count": 12,
      "outputs": [
        {
          "output_type": "execute_result",
          "data": {
            "text/html": [
              "<div>\n",
              "<style scoped>\n",
              "    .dataframe tbody tr th:only-of-type {\n",
              "        vertical-align: middle;\n",
              "    }\n",
              "\n",
              "    .dataframe tbody tr th {\n",
              "        vertical-align: top;\n",
              "    }\n",
              "\n",
              "    .dataframe thead th {\n",
              "        text-align: right;\n",
              "    }\n",
              "</style>\n",
              "<table border=\"1\" class=\"dataframe\">\n",
              "  <thead>\n",
              "    <tr style=\"text-align: right;\">\n",
              "      <th></th>\n",
              "      <th>기준년도</th>\n",
              "      <th>가입자 일련번호</th>\n",
              "      <th>진료내역일련번호</th>\n",
              "      <th>성별코드</th>\n",
              "      <th>연령대코드</th>\n",
              "      <th>시도코드</th>\n",
              "      <th>요양개시일자</th>\n",
              "      <th>입원여부</th>\n",
              "      <th>진료과목코드</th>\n",
              "      <th>주상병코드</th>\n",
              "      <th>부상병코드</th>\n",
              "      <th>요양일수</th>\n",
              "      <th>입내원일수</th>\n",
              "      <th>심결가산율</th>\n",
              "      <th>심결요양급여비용총액</th>\n",
              "      <th>심결본인부담금</th>\n",
              "      <th>심결보험자부담금</th>\n",
              "      <th>총처방일수</th>\n",
              "      <th>데이터 기준일자</th>\n",
              "      <th>시도명</th>\n",
              "      <th>진료과목</th>\n",
              "    </tr>\n",
              "  </thead>\n",
              "  <tbody>\n",
              "    <tr>\n",
              "      <th>0</th>\n",
              "      <td>2019</td>\n",
              "      <td>1</td>\n",
              "      <td>104243474</td>\n",
              "      <td>2</td>\n",
              "      <td>50</td>\n",
              "      <td>46</td>\n",
              "      <td>20191104</td>\n",
              "      <td>0</td>\n",
              "      <td>5</td>\n",
              "      <td>M751</td>\n",
              "      <td>M750</td>\n",
              "      <td>1</td>\n",
              "      <td>1</td>\n",
              "      <td>0.25</td>\n",
              "      <td>19240</td>\n",
              "      <td>9600</td>\n",
              "      <td>9640</td>\n",
              "      <td>0</td>\n",
              "      <td>20201222</td>\n",
              "      <td>전라남도</td>\n",
              "      <td>정형외과</td>\n",
              "    </tr>\n",
              "    <tr>\n",
              "      <th>1</th>\n",
              "      <td>2019</td>\n",
              "      <td>1</td>\n",
              "      <td>107479370</td>\n",
              "      <td>2</td>\n",
              "      <td>50</td>\n",
              "      <td>46</td>\n",
              "      <td>20190806</td>\n",
              "      <td>0</td>\n",
              "      <td>1</td>\n",
              "      <td>E1164</td>\n",
              "      <td>N308</td>\n",
              "      <td>1</td>\n",
              "      <td>1</td>\n",
              "      <td>0.25</td>\n",
              "      <td>145680</td>\n",
              "      <td>72800</td>\n",
              "      <td>72880</td>\n",
              "      <td>0</td>\n",
              "      <td>20201222</td>\n",
              "      <td>전라남도</td>\n",
              "      <td>내과</td>\n",
              "    </tr>\n",
              "  </tbody>\n",
              "</table>\n",
              "</div>"
            ],
            "text/plain": [
              "   기준년도  가입자 일련번호   진료내역일련번호  성별코드  ... 총처방일수  데이터 기준일자    시도명  진료과목\n",
              "0  2019         1  104243474     2  ...     0  20201222   전라남도  정형외과\n",
              "1  2019         1  107479370     2  ...     0  20201222   전라남도    내과\n",
              "\n",
              "[2 rows x 21 columns]"
            ]
          },
          "metadata": {},
          "execution_count": 12
        }
      ]
    },
    {
      "cell_type": "code",
      "metadata": {
        "id": "y5mgWOz9Cmol"
      },
      "source": [
        "df.columns"
      ],
      "execution_count": null,
      "outputs": []
    },
    {
      "cell_type": "code",
      "metadata": {
        "id": "M1RLNjgDgzyh"
      },
      "source": [
        "# 안쓰는 컬럼 삭제 \n",
        "df.drop(['기준년도','진료내역일련번호','데이터 기준일자','시도코드', '진료과목코드'], axis= 1, inplace = True)"
      ],
      "execution_count": 13,
      "outputs": []
    },
    {
      "cell_type": "markdown",
      "metadata": {
        "id": "A_YR8YqoFtxX"
      },
      "source": [
        "5) 주상병코드 변환 "
      ]
    },
    {
      "cell_type": "code",
      "metadata": {
        "id": "vS3P4erCFtku"
      },
      "source": [
        "df['주상병코드'] = df['주상병코드'].str[:1]\n",
        "df['부상병코드'] = df['부상병코드'].str[:1]"
      ],
      "execution_count": 14,
      "outputs": []
    },
    {
      "cell_type": "code",
      "metadata": {
        "colab": {
          "base_uri": "https://localhost:8080/",
          "height": 164
        },
        "id": "r2G8yS2hFnns",
        "outputId": "fdf53dcb-979c-43c7-ddb3-a6fc586b7bfb"
      },
      "source": [
        "df.head(2)"
      ],
      "execution_count": 21,
      "outputs": [
        {
          "output_type": "execute_result",
          "data": {
            "text/html": [
              "<div>\n",
              "<style scoped>\n",
              "    .dataframe tbody tr th:only-of-type {\n",
              "        vertical-align: middle;\n",
              "    }\n",
              "\n",
              "    .dataframe tbody tr th {\n",
              "        vertical-align: top;\n",
              "    }\n",
              "\n",
              "    .dataframe thead th {\n",
              "        text-align: right;\n",
              "    }\n",
              "</style>\n",
              "<table border=\"1\" class=\"dataframe\">\n",
              "  <thead>\n",
              "    <tr style=\"text-align: right;\">\n",
              "      <th></th>\n",
              "      <th>가입자 일련번호</th>\n",
              "      <th>성별코드</th>\n",
              "      <th>연령대코드</th>\n",
              "      <th>요양개시일자</th>\n",
              "      <th>입원여부</th>\n",
              "      <th>주상병코드</th>\n",
              "      <th>부상병코드</th>\n",
              "      <th>요양일수</th>\n",
              "      <th>입내원일수</th>\n",
              "      <th>심결가산율</th>\n",
              "      <th>심결요양급여비용총액</th>\n",
              "      <th>심결본인부담금</th>\n",
              "      <th>심결보험자부담금</th>\n",
              "      <th>총처방일수</th>\n",
              "      <th>시도명</th>\n",
              "      <th>진료과목</th>\n",
              "    </tr>\n",
              "  </thead>\n",
              "  <tbody>\n",
              "    <tr>\n",
              "      <th>0</th>\n",
              "      <td>1</td>\n",
              "      <td>2</td>\n",
              "      <td>50</td>\n",
              "      <td>20191104</td>\n",
              "      <td>0</td>\n",
              "      <td>M</td>\n",
              "      <td>M</td>\n",
              "      <td>1</td>\n",
              "      <td>1</td>\n",
              "      <td>0.25</td>\n",
              "      <td>19240</td>\n",
              "      <td>9600</td>\n",
              "      <td>9640</td>\n",
              "      <td>0</td>\n",
              "      <td>전라남도</td>\n",
              "      <td>정형외과</td>\n",
              "    </tr>\n",
              "    <tr>\n",
              "      <th>1</th>\n",
              "      <td>1</td>\n",
              "      <td>2</td>\n",
              "      <td>50</td>\n",
              "      <td>20190806</td>\n",
              "      <td>0</td>\n",
              "      <td>E</td>\n",
              "      <td>N</td>\n",
              "      <td>1</td>\n",
              "      <td>1</td>\n",
              "      <td>0.25</td>\n",
              "      <td>145680</td>\n",
              "      <td>72800</td>\n",
              "      <td>72880</td>\n",
              "      <td>0</td>\n",
              "      <td>전라남도</td>\n",
              "      <td>내과</td>\n",
              "    </tr>\n",
              "  </tbody>\n",
              "</table>\n",
              "</div>"
            ],
            "text/plain": [
              "   가입자 일련번호  성별코드 연령대코드    요양개시일자  입원여부  ... 심결본인부담금 심결보험자부담금  총처방일수    시도명  진료과목\n",
              "0         1     2    50  20191104     0  ...    9600     9640      0   전라남도  정형외과\n",
              "1         1     2    50  20190806     0  ...   72800    72880      0   전라남도    내과\n",
              "\n",
              "[2 rows x 16 columns]"
            ]
          },
          "metadata": {},
          "execution_count": 21
        }
      ]
    },
    {
      "cell_type": "code",
      "metadata": {
        "colab": {
          "base_uri": "https://localhost:8080/",
          "height": 174
        },
        "id": "3WdEnJYiUEde",
        "outputId": "feabd3f0-31c7-4e95-e218-112fed0013af"
      },
      "source": [
        "df.to_csv(\"/content/drive/MyDrive/프로젝트/멀티캠퍼스/프로젝트1/df.csv\", index = False)"
      ],
      "execution_count": 1,
      "outputs": [
        {
          "output_type": "error",
          "ename": "NameError",
          "evalue": "ignored",
          "traceback": [
            "\u001b[0;31m---------------------------------------------------------------------------\u001b[0m",
            "\u001b[0;31mNameError\u001b[0m                                 Traceback (most recent call last)",
            "\u001b[0;32m<ipython-input-1-bb911faf4d0a>\u001b[0m in \u001b[0;36m<module>\u001b[0;34m()\u001b[0m\n\u001b[0;32m----> 1\u001b[0;31m \u001b[0mdf\u001b[0m\u001b[0;34m.\u001b[0m\u001b[0mto_csv\u001b[0m\u001b[0;34m(\u001b[0m\u001b[0;34m\"/content/drive/MyDrive/프로젝트/멀티캠퍼스/프로젝트1/df.csv\"\u001b[0m\u001b[0;34m,\u001b[0m \u001b[0mindex\u001b[0m \u001b[0;34m=\u001b[0m \u001b[0;32mFalse\u001b[0m\u001b[0;34m)\u001b[0m\u001b[0;34m\u001b[0m\u001b[0;34m\u001b[0m\u001b[0m\n\u001b[0m",
            "\u001b[0;31mNameError\u001b[0m: name 'df' is not defined"
          ]
        }
      ]
    },
    {
      "cell_type": "code",
      "metadata": {
        "colab": {
          "base_uri": "https://localhost:8080/",
          "height": 237
        },
        "id": "IzIKZ3HQ4a-h",
        "outputId": "8490981f-6f24-436d-d03a-2bb93ee200af"
      },
      "source": [
        "# df_group = df.groupby(['가입자 일련번호', '주상병코드']).sum()\n",
        "# df_group.head()"
      ],
      "execution_count": 27,
      "outputs": [
        {
          "output_type": "execute_result",
          "data": {
            "text/html": [
              "<div>\n",
              "<style scoped>\n",
              "    .dataframe tbody tr th:only-of-type {\n",
              "        vertical-align: middle;\n",
              "    }\n",
              "\n",
              "    .dataframe tbody tr th {\n",
              "        vertical-align: top;\n",
              "    }\n",
              "\n",
              "    .dataframe thead th {\n",
              "        text-align: right;\n",
              "    }\n",
              "</style>\n",
              "<table border=\"1\" class=\"dataframe\">\n",
              "  <thead>\n",
              "    <tr style=\"text-align: right;\">\n",
              "      <th></th>\n",
              "      <th></th>\n",
              "      <th>성별코드</th>\n",
              "      <th>요양개시일자</th>\n",
              "      <th>입원여부</th>\n",
              "      <th>요양일수</th>\n",
              "      <th>입내원일수</th>\n",
              "      <th>심결가산율</th>\n",
              "      <th>심결요양급여비용총액</th>\n",
              "      <th>심결본인부담금</th>\n",
              "      <th>심결보험자부담금</th>\n",
              "      <th>총처방일수</th>\n",
              "    </tr>\n",
              "    <tr>\n",
              "      <th>가입자 일련번호</th>\n",
              "      <th>주상병코드</th>\n",
              "      <th></th>\n",
              "      <th></th>\n",
              "      <th></th>\n",
              "      <th></th>\n",
              "      <th></th>\n",
              "      <th></th>\n",
              "      <th></th>\n",
              "      <th></th>\n",
              "      <th></th>\n",
              "      <th></th>\n",
              "    </tr>\n",
              "  </thead>\n",
              "  <tbody>\n",
              "    <tr>\n",
              "      <th rowspan=\"5\" valign=\"top\">1</th>\n",
              "      <th>E1164</th>\n",
              "      <td>14</td>\n",
              "      <td>141336724</td>\n",
              "      <td>1</td>\n",
              "      <td>13</td>\n",
              "      <td>27</td>\n",
              "      <td>1.75</td>\n",
              "      <td>1188440</td>\n",
              "      <td>368910</td>\n",
              "      <td>819530</td>\n",
              "      <td>150</td>\n",
              "    </tr>\n",
              "    <tr>\n",
              "      <th>H6500</th>\n",
              "      <td>4</td>\n",
              "      <td>40382438</td>\n",
              "      <td>0</td>\n",
              "      <td>2</td>\n",
              "      <td>2</td>\n",
              "      <td>0.30</td>\n",
              "      <td>30920</td>\n",
              "      <td>9200</td>\n",
              "      <td>21720</td>\n",
              "      <td>7</td>\n",
              "    </tr>\n",
              "    <tr>\n",
              "      <th>H6531</th>\n",
              "      <td>2</td>\n",
              "      <td>20190318</td>\n",
              "      <td>0</td>\n",
              "      <td>1</td>\n",
              "      <td>1</td>\n",
              "      <td>0.15</td>\n",
              "      <td>48440</td>\n",
              "      <td>14500</td>\n",
              "      <td>33940</td>\n",
              "      <td>3</td>\n",
              "    </tr>\n",
              "    <tr>\n",
              "      <th>J060</th>\n",
              "      <td>6</td>\n",
              "      <td>60570836</td>\n",
              "      <td>0</td>\n",
              "      <td>3</td>\n",
              "      <td>3</td>\n",
              "      <td>0.45</td>\n",
              "      <td>38530</td>\n",
              "      <td>11300</td>\n",
              "      <td>27230</td>\n",
              "      <td>9</td>\n",
              "    </tr>\n",
              "    <tr>\n",
              "      <th>M171</th>\n",
              "      <td>2</td>\n",
              "      <td>20190102</td>\n",
              "      <td>0</td>\n",
              "      <td>1</td>\n",
              "      <td>1</td>\n",
              "      <td>0.15</td>\n",
              "      <td>78370</td>\n",
              "      <td>23500</td>\n",
              "      <td>54870</td>\n",
              "      <td>7</td>\n",
              "    </tr>\n",
              "  </tbody>\n",
              "</table>\n",
              "</div>"
            ],
            "text/plain": [
              "                성별코드     요양개시일자  입원여부  ...  심결본인부담금  심결보험자부담금  총처방일수\n",
              "가입자 일련번호 주상병코드                         ...                          \n",
              "1        E1164    14  141336724     1  ...   368910    819530    150\n",
              "         H6500     4   40382438     0  ...     9200     21720      7\n",
              "         H6531     2   20190318     0  ...    14500     33940      3\n",
              "         J060      6   60570836     0  ...    11300     27230      9\n",
              "         M171      2   20190102     0  ...    23500     54870      7\n",
              "\n",
              "[5 rows x 10 columns]"
            ]
          },
          "metadata": {},
          "execution_count": 27
        }
      ]
    },
    {
      "cell_type": "code",
      "metadata": {
        "id": "1mDihhFW5fj-"
      },
      "source": [
        "# df_disease = df.groupby(['주상병코드','부상병코드']).sum()"
      ],
      "execution_count": 19,
      "outputs": []
    },
    {
      "cell_type": "code",
      "metadata": {
        "colab": {
          "base_uri": "https://localhost:8080/"
        },
        "id": "o4xIDDW152Hd",
        "outputId": "235bd064-679d-4f41-f6e6-1a95c31b3055"
      },
      "source": [
        "# df_disease['입원여부'].unique()"
      ],
      "execution_count": 21,
      "outputs": [
        {
          "output_type": "execute_result",
          "data": {
            "text/plain": [
              "array([   1,    0,    9,    6,    2,    3,   10,    8,    4,    5,   14,\n",
              "          7,   21,   13,   17,   16,   12,   15,   11,   18,   23,   29,\n",
              "         45,   20,   34,   47,  122,   31,  100,   96,  104,  111,   24,\n",
              "         46,  135,   28,   55,  138,   77,   19,   22,   30,   80,   35,\n",
              "         50,   26,   25,  108,  115,  160,  171,   73,  239,   32,   53,\n",
              "         76,   37,   71,   42,  136,  256,   75,   90,  273,  185,  244,\n",
              "         41,   61,   49,   40,   33,   72,   44,   93,   85,   59,   39,\n",
              "         54,   58,  102,   67,  198,  127,   48,   51,   38,   57,   36,\n",
              "        172,  151,   27,   88,  154,  405,   78,  103,   66,   74,   82,\n",
              "         91,   52,   99,   92,   43,   81,  180,  148,  121,   69,  166,\n",
              "         68,  207,   62,   64,  101,  451,  146,   63,  301,   94,  783,\n",
              "        311,  114,  214, 1041,  208,  105, 7237,  217,  144,  222,  130,\n",
              "        141,  262, 4742,  106,  167,   60,  116,  540,  277,  158,  120,\n",
              "        201,  238,  145,  219,   98,   84,  241,  137, 1555,  109,  308,\n",
              "        206,   79,   89,  193,  284,  442,  112,  375,  196, 1315,  223,\n",
              "        445,  113,  224,  165,  133,   56,  150,   97,  343,   70,  195,\n",
              "        420,  126,  434,  147,  134, 1717,  496,   65,  118,  110,  242,\n",
              "        397,   95,  898,  411,  531,  119,  132,  220,   87,  139,  233,\n",
              "        188,  157,  322, 1139,  234,  175,  155,  374,  356,  162,  291,\n",
              "        462,  131,  281,  300,  849,  153,   83,  338,  245,   86, 1013,\n",
              "        125,  182, 5115,  707,  159,  124,  386,  168,  237,  842,  844])"
            ]
          },
          "metadata": {},
          "execution_count": 21
        }
      ]
    },
    {
      "cell_type": "code",
      "metadata": {
        "colab": {
          "base_uri": "https://localhost:8080/",
          "height": 206
        },
        "id": "K96qCC7263RK",
        "outputId": "2648e903-83b2-4875-b41b-b1215d0f2f4d"
      },
      "source": [
        "df_ju = df.groupby(['주상병코드', '부상병코드', '입원여부']).count()\n",
        "df_ju.reset_index(inplace = True)\n",
        "df_ju = df_ju[['주상병코드', '부상병코드', '입원여부', '성별코드']]\n",
        "df_ju.head()"
      ],
      "execution_count": 11,
      "outputs": [
        {
          "output_type": "execute_result",
          "data": {
            "text/html": [
              "<div>\n",
              "<style scoped>\n",
              "    .dataframe tbody tr th:only-of-type {\n",
              "        vertical-align: middle;\n",
              "    }\n",
              "\n",
              "    .dataframe tbody tr th {\n",
              "        vertical-align: top;\n",
              "    }\n",
              "\n",
              "    .dataframe thead th {\n",
              "        text-align: right;\n",
              "    }\n",
              "</style>\n",
              "<table border=\"1\" class=\"dataframe\">\n",
              "  <thead>\n",
              "    <tr style=\"text-align: right;\">\n",
              "      <th></th>\n",
              "      <th>주상병코드</th>\n",
              "      <th>부상병코드</th>\n",
              "      <th>입원여부</th>\n",
              "      <th>성별코드</th>\n",
              "    </tr>\n",
              "  </thead>\n",
              "  <tbody>\n",
              "    <tr>\n",
              "      <th>0</th>\n",
              "      <td>A</td>\n",
              "      <td>A</td>\n",
              "      <td>0</td>\n",
              "      <td>7197</td>\n",
              "    </tr>\n",
              "    <tr>\n",
              "      <th>1</th>\n",
              "      <td>A</td>\n",
              "      <td>A</td>\n",
              "      <td>1</td>\n",
              "      <td>463</td>\n",
              "    </tr>\n",
              "    <tr>\n",
              "      <th>2</th>\n",
              "      <td>A</td>\n",
              "      <td>B</td>\n",
              "      <td>0</td>\n",
              "      <td>4236</td>\n",
              "    </tr>\n",
              "    <tr>\n",
              "      <th>3</th>\n",
              "      <td>A</td>\n",
              "      <td>B</td>\n",
              "      <td>1</td>\n",
              "      <td>127</td>\n",
              "    </tr>\n",
              "    <tr>\n",
              "      <th>4</th>\n",
              "      <td>A</td>\n",
              "      <td>C</td>\n",
              "      <td>0</td>\n",
              "      <td>241</td>\n",
              "    </tr>\n",
              "  </tbody>\n",
              "</table>\n",
              "</div>"
            ],
            "text/plain": [
              "  주상병코드 부상병코드  입원여부  성별코드\n",
              "0     A     A     0  7197\n",
              "1     A     A     1   463\n",
              "2     A     B     0  4236\n",
              "3     A     B     1   127\n",
              "4     A     C     0   241"
            ]
          },
          "metadata": {},
          "execution_count": 11
        }
      ]
    },
    {
      "cell_type": "code",
      "metadata": {
        "id": "7VIwRwHAc0TA"
      },
      "source": [
        "# df_ju = pd.crosstab(index=[df['주상병코드'],df['부상병코드']],columns = df['입원여부'])\n",
        "# df_ju.reset_index(inplace = True)\n",
        "df_ju.columns = ['주상병코드', '부상병코드', '입원X', '입원O']\n",
        "df_ju['비율'] = df_ju['입원O'] /(df_ju['입원O'] + df_ju['입원X'])"
      ],
      "execution_count": 24,
      "outputs": []
    },
    {
      "cell_type": "code",
      "metadata": {
        "colab": {
          "base_uri": "https://localhost:8080/",
          "height": 1000
        },
        "id": "hGX-q5uVBUKl",
        "outputId": "a975416d-820b-4d69-ead5-57c9ba98de08"
      },
      "source": [
        "df_ju = df_ju.sort_values(by='비율', ascending=False)\n",
        "df_ju.head(50)"
      ],
      "execution_count": 28,
      "outputs": [
        {
          "output_type": "execute_result",
          "data": {
            "text/html": [
              "<div>\n",
              "<style scoped>\n",
              "    .dataframe tbody tr th:only-of-type {\n",
              "        vertical-align: middle;\n",
              "    }\n",
              "\n",
              "    .dataframe tbody tr th {\n",
              "        vertical-align: top;\n",
              "    }\n",
              "\n",
              "    .dataframe thead th {\n",
              "        text-align: right;\n",
              "    }\n",
              "</style>\n",
              "<table border=\"1\" class=\"dataframe\">\n",
              "  <thead>\n",
              "    <tr style=\"text-align: right;\">\n",
              "      <th></th>\n",
              "      <th>주상병코드</th>\n",
              "      <th>부상병코드</th>\n",
              "      <th>입원X</th>\n",
              "      <th>입원O</th>\n",
              "      <th>비율</th>\n",
              "    </tr>\n",
              "  </thead>\n",
              "  <tbody>\n",
              "    <tr>\n",
              "      <th>63</th>\n",
              "      <td>C</td>\n",
              "      <td>P</td>\n",
              "      <td>0</td>\n",
              "      <td>3</td>\n",
              "      <td>1.000000</td>\n",
              "    </tr>\n",
              "    <tr>\n",
              "      <th>430</th>\n",
              "      <td>R</td>\n",
              "      <td>V</td>\n",
              "      <td>0</td>\n",
              "      <td>1</td>\n",
              "      <td>1.000000</td>\n",
              "    </tr>\n",
              "    <tr>\n",
              "      <th>140</th>\n",
              "      <td>F</td>\n",
              "      <td>U</td>\n",
              "      <td>0</td>\n",
              "      <td>3</td>\n",
              "      <td>1.000000</td>\n",
              "    </tr>\n",
              "    <tr>\n",
              "      <th>166</th>\n",
              "      <td>G</td>\n",
              "      <td>X</td>\n",
              "      <td>0</td>\n",
              "      <td>2</td>\n",
              "      <td>1.000000</td>\n",
              "    </tr>\n",
              "    <tr>\n",
              "      <th>167</th>\n",
              "      <td>G</td>\n",
              "      <td>Y</td>\n",
              "      <td>0</td>\n",
              "      <td>1</td>\n",
              "      <td>1.000000</td>\n",
              "    </tr>\n",
              "    <tr>\n",
              "      <th>489</th>\n",
              "      <td>U</td>\n",
              "      <td>I</td>\n",
              "      <td>0</td>\n",
              "      <td>4</td>\n",
              "      <td>1.000000</td>\n",
              "    </tr>\n",
              "    <tr>\n",
              "      <th>135</th>\n",
              "      <td>F</td>\n",
              "      <td>P</td>\n",
              "      <td>0</td>\n",
              "      <td>1</td>\n",
              "      <td>1.000000</td>\n",
              "    </tr>\n",
              "    <tr>\n",
              "      <th>492</th>\n",
              "      <td>U</td>\n",
              "      <td>L</td>\n",
              "      <td>0</td>\n",
              "      <td>3</td>\n",
              "      <td>1.000000</td>\n",
              "    </tr>\n",
              "    <tr>\n",
              "      <th>359</th>\n",
              "      <td>O</td>\n",
              "      <td>P</td>\n",
              "      <td>0</td>\n",
              "      <td>4</td>\n",
              "      <td>1.000000</td>\n",
              "    </tr>\n",
              "    <tr>\n",
              "      <th>116</th>\n",
              "      <td>E</td>\n",
              "      <td>U</td>\n",
              "      <td>0</td>\n",
              "      <td>13</td>\n",
              "      <td>1.000000</td>\n",
              "    </tr>\n",
              "    <tr>\n",
              "      <th>494</th>\n",
              "      <td>U</td>\n",
              "      <td>N</td>\n",
              "      <td>0</td>\n",
              "      <td>19</td>\n",
              "      <td>1.000000</td>\n",
              "    </tr>\n",
              "    <tr>\n",
              "      <th>92</th>\n",
              "      <td>D</td>\n",
              "      <td>U</td>\n",
              "      <td>0</td>\n",
              "      <td>1</td>\n",
              "      <td>1.000000</td>\n",
              "    </tr>\n",
              "    <tr>\n",
              "      <th>484</th>\n",
              "      <td>T</td>\n",
              "      <td>Y</td>\n",
              "      <td>6</td>\n",
              "      <td>107</td>\n",
              "      <td>0.946903</td>\n",
              "    </tr>\n",
              "    <tr>\n",
              "      <th>214</th>\n",
              "      <td>I</td>\n",
              "      <td>U</td>\n",
              "      <td>1</td>\n",
              "      <td>14</td>\n",
              "      <td>0.933333</td>\n",
              "    </tr>\n",
              "    <tr>\n",
              "      <th>513</th>\n",
              "      <td>Z</td>\n",
              "      <td>P</td>\n",
              "      <td>200</td>\n",
              "      <td>1917</td>\n",
              "      <td>0.905527</td>\n",
              "    </tr>\n",
              "    <tr>\n",
              "      <th>289</th>\n",
              "      <td>L</td>\n",
              "      <td>U</td>\n",
              "      <td>1</td>\n",
              "      <td>3</td>\n",
              "      <td>0.750000</td>\n",
              "    </tr>\n",
              "    <tr>\n",
              "      <th>138</th>\n",
              "      <td>F</td>\n",
              "      <td>S</td>\n",
              "      <td>548</td>\n",
              "      <td>1578</td>\n",
              "      <td>0.742239</td>\n",
              "    </tr>\n",
              "    <tr>\n",
              "      <th>267</th>\n",
              "      <td>K</td>\n",
              "      <td>Y</td>\n",
              "      <td>4</td>\n",
              "      <td>10</td>\n",
              "      <td>0.714286</td>\n",
              "    </tr>\n",
              "    <tr>\n",
              "      <th>487</th>\n",
              "      <td>U</td>\n",
              "      <td>C</td>\n",
              "      <td>1</td>\n",
              "      <td>2</td>\n",
              "      <td>0.666667</td>\n",
              "    </tr>\n",
              "    <tr>\n",
              "      <th>358</th>\n",
              "      <td>O</td>\n",
              "      <td>O</td>\n",
              "      <td>3307</td>\n",
              "      <td>5115</td>\n",
              "      <td>0.607338</td>\n",
              "    </tr>\n",
              "    <tr>\n",
              "      <th>350</th>\n",
              "      <td>O</td>\n",
              "      <td>G</td>\n",
              "      <td>2</td>\n",
              "      <td>3</td>\n",
              "      <td>0.600000</td>\n",
              "    </tr>\n",
              "    <tr>\n",
              "      <th>94</th>\n",
              "      <td>D</td>\n",
              "      <td>Y</td>\n",
              "      <td>4</td>\n",
              "      <td>6</td>\n",
              "      <td>0.600000</td>\n",
              "    </tr>\n",
              "    <tr>\n",
              "      <th>239</th>\n",
              "      <td>J</td>\n",
              "      <td>U</td>\n",
              "      <td>15</td>\n",
              "      <td>20</td>\n",
              "      <td>0.571429</td>\n",
              "    </tr>\n",
              "    <tr>\n",
              "      <th>456</th>\n",
              "      <td>S</td>\n",
              "      <td>V</td>\n",
              "      <td>35</td>\n",
              "      <td>41</td>\n",
              "      <td>0.539474</td>\n",
              "    </tr>\n",
              "    <tr>\n",
              "      <th>139</th>\n",
              "      <td>F</td>\n",
              "      <td>T</td>\n",
              "      <td>151</td>\n",
              "      <td>174</td>\n",
              "      <td>0.535385</td>\n",
              "    </tr>\n",
              "    <tr>\n",
              "      <th>385</th>\n",
              "      <td>P</td>\n",
              "      <td>Z</td>\n",
              "      <td>237</td>\n",
              "      <td>254</td>\n",
              "      <td>0.517312</td>\n",
              "    </tr>\n",
              "    <tr>\n",
              "      <th>190</th>\n",
              "      <td>H</td>\n",
              "      <td>W</td>\n",
              "      <td>2</td>\n",
              "      <td>2</td>\n",
              "      <td>0.500000</td>\n",
              "    </tr>\n",
              "    <tr>\n",
              "      <th>455</th>\n",
              "      <td>S</td>\n",
              "      <td>U</td>\n",
              "      <td>2</td>\n",
              "      <td>2</td>\n",
              "      <td>0.500000</td>\n",
              "    </tr>\n",
              "    <tr>\n",
              "      <th>189</th>\n",
              "      <td>H</td>\n",
              "      <td>U</td>\n",
              "      <td>1</td>\n",
              "      <td>1</td>\n",
              "      <td>0.500000</td>\n",
              "    </tr>\n",
              "    <tr>\n",
              "      <th>141</th>\n",
              "      <td>F</td>\n",
              "      <td>X</td>\n",
              "      <td>1</td>\n",
              "      <td>1</td>\n",
              "      <td>0.500000</td>\n",
              "    </tr>\n",
              "    <tr>\n",
              "      <th>341</th>\n",
              "      <td>N</td>\n",
              "      <td>W</td>\n",
              "      <td>1</td>\n",
              "      <td>1</td>\n",
              "      <td>0.500000</td>\n",
              "    </tr>\n",
              "    <tr>\n",
              "      <th>142</th>\n",
              "      <td>F</td>\n",
              "      <td>Y</td>\n",
              "      <td>1</td>\n",
              "      <td>1</td>\n",
              "      <td>0.500000</td>\n",
              "    </tr>\n",
              "    <tr>\n",
              "      <th>122</th>\n",
              "      <td>F</td>\n",
              "      <td>C</td>\n",
              "      <td>409</td>\n",
              "      <td>360</td>\n",
              "      <td>0.468140</td>\n",
              "    </tr>\n",
              "    <tr>\n",
              "      <th>458</th>\n",
              "      <td>S</td>\n",
              "      <td>X</td>\n",
              "      <td>145</td>\n",
              "      <td>123</td>\n",
              "      <td>0.458955</td>\n",
              "    </tr>\n",
              "    <tr>\n",
              "      <th>70</th>\n",
              "      <td>C</td>\n",
              "      <td>Y</td>\n",
              "      <td>27</td>\n",
              "      <td>22</td>\n",
              "      <td>0.448980</td>\n",
              "    </tr>\n",
              "    <tr>\n",
              "      <th>500</th>\n",
              "      <td>Z</td>\n",
              "      <td>C</td>\n",
              "      <td>5021</td>\n",
              "      <td>3791</td>\n",
              "      <td>0.430209</td>\n",
              "    </tr>\n",
              "    <tr>\n",
              "      <th>5</th>\n",
              "      <td>A</td>\n",
              "      <td>F</td>\n",
              "      <td>502</td>\n",
              "      <td>318</td>\n",
              "      <td>0.387805</td>\n",
              "    </tr>\n",
              "    <tr>\n",
              "      <th>2</th>\n",
              "      <td>A</td>\n",
              "      <td>C</td>\n",
              "      <td>241</td>\n",
              "      <td>149</td>\n",
              "      <td>0.382051</td>\n",
              "    </tr>\n",
              "    <tr>\n",
              "      <th>8</th>\n",
              "      <td>A</td>\n",
              "      <td>I</td>\n",
              "      <td>950</td>\n",
              "      <td>530</td>\n",
              "      <td>0.358108</td>\n",
              "    </tr>\n",
              "    <tr>\n",
              "      <th>123</th>\n",
              "      <td>F</td>\n",
              "      <td>D</td>\n",
              "      <td>820</td>\n",
              "      <td>422</td>\n",
              "      <td>0.339775</td>\n",
              "    </tr>\n",
              "    <tr>\n",
              "      <th>457</th>\n",
              "      <td>S</td>\n",
              "      <td>W</td>\n",
              "      <td>1097</td>\n",
              "      <td>555</td>\n",
              "      <td>0.335956</td>\n",
              "    </tr>\n",
              "    <tr>\n",
              "      <th>378</th>\n",
              "      <td>P</td>\n",
              "      <td>O</td>\n",
              "      <td>6</td>\n",
              "      <td>3</td>\n",
              "      <td>0.333333</td>\n",
              "    </tr>\n",
              "    <tr>\n",
              "      <th>6</th>\n",
              "      <td>A</td>\n",
              "      <td>G</td>\n",
              "      <td>505</td>\n",
              "      <td>252</td>\n",
              "      <td>0.332893</td>\n",
              "    </tr>\n",
              "    <tr>\n",
              "      <th>466</th>\n",
              "      <td>T</td>\n",
              "      <td>F</td>\n",
              "      <td>174</td>\n",
              "      <td>85</td>\n",
              "      <td>0.328185</td>\n",
              "    </tr>\n",
              "    <tr>\n",
              "      <th>354</th>\n",
              "      <td>O</td>\n",
              "      <td>K</td>\n",
              "      <td>667</td>\n",
              "      <td>312</td>\n",
              "      <td>0.318693</td>\n",
              "    </tr>\n",
              "    <tr>\n",
              "      <th>68</th>\n",
              "      <td>C</td>\n",
              "      <td>U</td>\n",
              "      <td>96</td>\n",
              "      <td>42</td>\n",
              "      <td>0.304348</td>\n",
              "    </tr>\n",
              "    <tr>\n",
              "      <th>347</th>\n",
              "      <td>O</td>\n",
              "      <td>D</td>\n",
              "      <td>429</td>\n",
              "      <td>187</td>\n",
              "      <td>0.303571</td>\n",
              "    </tr>\n",
              "    <tr>\n",
              "      <th>437</th>\n",
              "      <td>S</td>\n",
              "      <td>C</td>\n",
              "      <td>171</td>\n",
              "      <td>72</td>\n",
              "      <td>0.296296</td>\n",
              "    </tr>\n",
              "    <tr>\n",
              "      <th>66</th>\n",
              "      <td>C</td>\n",
              "      <td>S</td>\n",
              "      <td>408</td>\n",
              "      <td>170</td>\n",
              "      <td>0.294118</td>\n",
              "    </tr>\n",
              "    <tr>\n",
              "      <th>128</th>\n",
              "      <td>F</td>\n",
              "      <td>I</td>\n",
              "      <td>17917</td>\n",
              "      <td>7345</td>\n",
              "      <td>0.290753</td>\n",
              "    </tr>\n",
              "  </tbody>\n",
              "</table>\n",
              "</div>"
            ],
            "text/plain": [
              "    주상병코드 부상병코드    입원X   입원O        비율\n",
              "63      C     P      0     3  1.000000\n",
              "430     R     V      0     1  1.000000\n",
              "140     F     U      0     3  1.000000\n",
              "166     G     X      0     2  1.000000\n",
              "167     G     Y      0     1  1.000000\n",
              "489     U     I      0     4  1.000000\n",
              "135     F     P      0     1  1.000000\n",
              "492     U     L      0     3  1.000000\n",
              "359     O     P      0     4  1.000000\n",
              "116     E     U      0    13  1.000000\n",
              "494     U     N      0    19  1.000000\n",
              "92      D     U      0     1  1.000000\n",
              "484     T     Y      6   107  0.946903\n",
              "214     I     U      1    14  0.933333\n",
              "513     Z     P    200  1917  0.905527\n",
              "289     L     U      1     3  0.750000\n",
              "138     F     S    548  1578  0.742239\n",
              "267     K     Y      4    10  0.714286\n",
              "487     U     C      1     2  0.666667\n",
              "358     O     O   3307  5115  0.607338\n",
              "350     O     G      2     3  0.600000\n",
              "94      D     Y      4     6  0.600000\n",
              "239     J     U     15    20  0.571429\n",
              "456     S     V     35    41  0.539474\n",
              "139     F     T    151   174  0.535385\n",
              "385     P     Z    237   254  0.517312\n",
              "190     H     W      2     2  0.500000\n",
              "455     S     U      2     2  0.500000\n",
              "189     H     U      1     1  0.500000\n",
              "141     F     X      1     1  0.500000\n",
              "341     N     W      1     1  0.500000\n",
              "142     F     Y      1     1  0.500000\n",
              "122     F     C    409   360  0.468140\n",
              "458     S     X    145   123  0.458955\n",
              "70      C     Y     27    22  0.448980\n",
              "500     Z     C   5021  3791  0.430209\n",
              "5       A     F    502   318  0.387805\n",
              "2       A     C    241   149  0.382051\n",
              "8       A     I    950   530  0.358108\n",
              "123     F     D    820   422  0.339775\n",
              "457     S     W   1097   555  0.335956\n",
              "378     P     O      6     3  0.333333\n",
              "6       A     G    505   252  0.332893\n",
              "466     T     F    174    85  0.328185\n",
              "354     O     K    667   312  0.318693\n",
              "68      C     U     96    42  0.304348\n",
              "347     O     D    429   187  0.303571\n",
              "437     S     C    171    72  0.296296\n",
              "66      C     S    408   170  0.294118\n",
              "128     F     I  17917  7345  0.290753"
            ]
          },
          "metadata": {},
          "execution_count": 28
        }
      ]
    },
    {
      "cell_type": "code",
      "metadata": {
        "colab": {
          "base_uri": "https://localhost:8080/",
          "height": 206
        },
        "id": "qGMJSXng8m58",
        "outputId": "1151c77d-49b3-4fe6-f459-7f57e20083b2"
      },
      "source": [
        "df_gender = df.groupby(['성별코드', '주상병코드', '부상병코드', '입원여부']).count()\n",
        "df_gender.reset_index(inplace = True)\n",
        "df_gender = df_gender[['성별코드', '주상병코드', '부상병코드', '입원여부','가입자 일련번호']]\n",
        "df_gender.head()"
      ],
      "execution_count": 19,
      "outputs": [
        {
          "output_type": "execute_result",
          "data": {
            "text/html": [
              "<div>\n",
              "<style scoped>\n",
              "    .dataframe tbody tr th:only-of-type {\n",
              "        vertical-align: middle;\n",
              "    }\n",
              "\n",
              "    .dataframe tbody tr th {\n",
              "        vertical-align: top;\n",
              "    }\n",
              "\n",
              "    .dataframe thead th {\n",
              "        text-align: right;\n",
              "    }\n",
              "</style>\n",
              "<table border=\"1\" class=\"dataframe\">\n",
              "  <thead>\n",
              "    <tr style=\"text-align: right;\">\n",
              "      <th></th>\n",
              "      <th>성별코드</th>\n",
              "      <th>주상병코드</th>\n",
              "      <th>부상병코드</th>\n",
              "      <th>입원여부</th>\n",
              "      <th>가입자 일련번호</th>\n",
              "    </tr>\n",
              "  </thead>\n",
              "  <tbody>\n",
              "    <tr>\n",
              "      <th>0</th>\n",
              "      <td>1</td>\n",
              "      <td>A</td>\n",
              "      <td>A</td>\n",
              "      <td>0</td>\n",
              "      <td>2871</td>\n",
              "    </tr>\n",
              "    <tr>\n",
              "      <th>1</th>\n",
              "      <td>1</td>\n",
              "      <td>A</td>\n",
              "      <td>A</td>\n",
              "      <td>1</td>\n",
              "      <td>242</td>\n",
              "    </tr>\n",
              "    <tr>\n",
              "      <th>2</th>\n",
              "      <td>1</td>\n",
              "      <td>A</td>\n",
              "      <td>B</td>\n",
              "      <td>0</td>\n",
              "      <td>789</td>\n",
              "    </tr>\n",
              "    <tr>\n",
              "      <th>3</th>\n",
              "      <td>1</td>\n",
              "      <td>A</td>\n",
              "      <td>B</td>\n",
              "      <td>1</td>\n",
              "      <td>73</td>\n",
              "    </tr>\n",
              "    <tr>\n",
              "      <th>4</th>\n",
              "      <td>1</td>\n",
              "      <td>A</td>\n",
              "      <td>C</td>\n",
              "      <td>0</td>\n",
              "      <td>148</td>\n",
              "    </tr>\n",
              "  </tbody>\n",
              "</table>\n",
              "</div>"
            ],
            "text/plain": [
              "   성별코드 주상병코드 부상병코드  입원여부  가입자 일련번호\n",
              "0     1     A     A     0      2871\n",
              "1     1     A     A     1       242\n",
              "2     1     A     B     0       789\n",
              "3     1     A     B     1        73\n",
              "4     1     A     C     0       148"
            ]
          },
          "metadata": {},
          "execution_count": 19
        }
      ]
    },
    {
      "cell_type": "code",
      "metadata": {
        "colab": {
          "base_uri": "https://localhost:8080/",
          "height": 206
        },
        "id": "x5auV2qz9Rsk",
        "outputId": "d8637dc9-e6f6-41de-ab53-95781d6d1237"
      },
      "source": [
        "df_age = df.groupby(['연령대코드', '주상병코드', '부상병코드', '입원여부']).count()\n",
        "df_age.reset_index(inplace = True)\n",
        "df_age = df_age[['연령대코드', '주상병코드', '부상병코드', '입원여부','가입자 일련번호']]\n",
        "df_age.head()"
      ],
      "execution_count": 22,
      "outputs": [
        {
          "output_type": "execute_result",
          "data": {
            "text/html": [
              "<div>\n",
              "<style scoped>\n",
              "    .dataframe tbody tr th:only-of-type {\n",
              "        vertical-align: middle;\n",
              "    }\n",
              "\n",
              "    .dataframe tbody tr th {\n",
              "        vertical-align: top;\n",
              "    }\n",
              "\n",
              "    .dataframe thead th {\n",
              "        text-align: right;\n",
              "    }\n",
              "</style>\n",
              "<table border=\"1\" class=\"dataframe\">\n",
              "  <thead>\n",
              "    <tr style=\"text-align: right;\">\n",
              "      <th></th>\n",
              "      <th>연령대코드</th>\n",
              "      <th>주상병코드</th>\n",
              "      <th>부상병코드</th>\n",
              "      <th>입원여부</th>\n",
              "      <th>가입자 일련번호</th>\n",
              "    </tr>\n",
              "  </thead>\n",
              "  <tbody>\n",
              "    <tr>\n",
              "      <th>0</th>\n",
              "      <td>0</td>\n",
              "      <td>A</td>\n",
              "      <td>A</td>\n",
              "      <td>0</td>\n",
              "      <td>1431</td>\n",
              "    </tr>\n",
              "    <tr>\n",
              "      <th>1</th>\n",
              "      <td>0</td>\n",
              "      <td>A</td>\n",
              "      <td>A</td>\n",
              "      <td>1</td>\n",
              "      <td>171</td>\n",
              "    </tr>\n",
              "    <tr>\n",
              "      <th>2</th>\n",
              "      <td>0</td>\n",
              "      <td>A</td>\n",
              "      <td>B</td>\n",
              "      <td>0</td>\n",
              "      <td>478</td>\n",
              "    </tr>\n",
              "    <tr>\n",
              "      <th>3</th>\n",
              "      <td>0</td>\n",
              "      <td>A</td>\n",
              "      <td>B</td>\n",
              "      <td>1</td>\n",
              "      <td>63</td>\n",
              "    </tr>\n",
              "    <tr>\n",
              "      <th>4</th>\n",
              "      <td>0</td>\n",
              "      <td>A</td>\n",
              "      <td>D</td>\n",
              "      <td>0</td>\n",
              "      <td>57</td>\n",
              "    </tr>\n",
              "  </tbody>\n",
              "</table>\n",
              "</div>"
            ],
            "text/plain": [
              "  연령대코드 주상병코드 부상병코드  입원여부  가입자 일련번호\n",
              "0     0     A     A     0      1431\n",
              "1     0     A     A     1       171\n",
              "2     0     A     B     0       478\n",
              "3     0     A     B     1        63\n",
              "4     0     A     D     0        57"
            ]
          },
          "metadata": {},
          "execution_count": 22
        }
      ]
    },
    {
      "cell_type": "code",
      "metadata": {
        "colab": {
          "base_uri": "https://localhost:8080/",
          "height": 676
        },
        "id": "neypCjJo_Aph",
        "outputId": "cdfd3c68-9b50-4176-cddc-82466a5d0a62"
      },
      "source": [
        "df_ju.head(20)"
      ],
      "execution_count": 24,
      "outputs": [
        {
          "output_type": "execute_result",
          "data": {
            "text/html": [
              "<div>\n",
              "<style scoped>\n",
              "    .dataframe tbody tr th:only-of-type {\n",
              "        vertical-align: middle;\n",
              "    }\n",
              "\n",
              "    .dataframe tbody tr th {\n",
              "        vertical-align: top;\n",
              "    }\n",
              "\n",
              "    .dataframe thead th {\n",
              "        text-align: right;\n",
              "    }\n",
              "</style>\n",
              "<table border=\"1\" class=\"dataframe\">\n",
              "  <thead>\n",
              "    <tr style=\"text-align: right;\">\n",
              "      <th></th>\n",
              "      <th>주상병코드</th>\n",
              "      <th>부상병코드</th>\n",
              "      <th>입원여부</th>\n",
              "      <th>가입자 일련번호</th>\n",
              "    </tr>\n",
              "  </thead>\n",
              "  <tbody>\n",
              "    <tr>\n",
              "      <th>0</th>\n",
              "      <td>A</td>\n",
              "      <td>A</td>\n",
              "      <td>0</td>\n",
              "      <td>7197</td>\n",
              "    </tr>\n",
              "    <tr>\n",
              "      <th>1</th>\n",
              "      <td>A</td>\n",
              "      <td>A</td>\n",
              "      <td>1</td>\n",
              "      <td>463</td>\n",
              "    </tr>\n",
              "    <tr>\n",
              "      <th>2</th>\n",
              "      <td>A</td>\n",
              "      <td>B</td>\n",
              "      <td>0</td>\n",
              "      <td>4236</td>\n",
              "    </tr>\n",
              "    <tr>\n",
              "      <th>3</th>\n",
              "      <td>A</td>\n",
              "      <td>B</td>\n",
              "      <td>1</td>\n",
              "      <td>127</td>\n",
              "    </tr>\n",
              "    <tr>\n",
              "      <th>4</th>\n",
              "      <td>A</td>\n",
              "      <td>C</td>\n",
              "      <td>0</td>\n",
              "      <td>241</td>\n",
              "    </tr>\n",
              "    <tr>\n",
              "      <th>5</th>\n",
              "      <td>A</td>\n",
              "      <td>C</td>\n",
              "      <td>1</td>\n",
              "      <td>149</td>\n",
              "    </tr>\n",
              "    <tr>\n",
              "      <th>6</th>\n",
              "      <td>A</td>\n",
              "      <td>D</td>\n",
              "      <td>0</td>\n",
              "      <td>646</td>\n",
              "    </tr>\n",
              "    <tr>\n",
              "      <th>7</th>\n",
              "      <td>A</td>\n",
              "      <td>D</td>\n",
              "      <td>1</td>\n",
              "      <td>155</td>\n",
              "    </tr>\n",
              "    <tr>\n",
              "      <th>8</th>\n",
              "      <td>A</td>\n",
              "      <td>E</td>\n",
              "      <td>0</td>\n",
              "      <td>3834</td>\n",
              "    </tr>\n",
              "    <tr>\n",
              "      <th>9</th>\n",
              "      <td>A</td>\n",
              "      <td>E</td>\n",
              "      <td>1</td>\n",
              "      <td>732</td>\n",
              "    </tr>\n",
              "    <tr>\n",
              "      <th>10</th>\n",
              "      <td>A</td>\n",
              "      <td>F</td>\n",
              "      <td>0</td>\n",
              "      <td>502</td>\n",
              "    </tr>\n",
              "    <tr>\n",
              "      <th>11</th>\n",
              "      <td>A</td>\n",
              "      <td>F</td>\n",
              "      <td>1</td>\n",
              "      <td>318</td>\n",
              "    </tr>\n",
              "    <tr>\n",
              "      <th>12</th>\n",
              "      <td>A</td>\n",
              "      <td>G</td>\n",
              "      <td>0</td>\n",
              "      <td>505</td>\n",
              "    </tr>\n",
              "    <tr>\n",
              "      <th>13</th>\n",
              "      <td>A</td>\n",
              "      <td>G</td>\n",
              "      <td>1</td>\n",
              "      <td>252</td>\n",
              "    </tr>\n",
              "    <tr>\n",
              "      <th>14</th>\n",
              "      <td>A</td>\n",
              "      <td>H</td>\n",
              "      <td>0</td>\n",
              "      <td>1332</td>\n",
              "    </tr>\n",
              "    <tr>\n",
              "      <th>15</th>\n",
              "      <td>A</td>\n",
              "      <td>H</td>\n",
              "      <td>1</td>\n",
              "      <td>65</td>\n",
              "    </tr>\n",
              "    <tr>\n",
              "      <th>16</th>\n",
              "      <td>A</td>\n",
              "      <td>I</td>\n",
              "      <td>0</td>\n",
              "      <td>950</td>\n",
              "    </tr>\n",
              "    <tr>\n",
              "      <th>17</th>\n",
              "      <td>A</td>\n",
              "      <td>I</td>\n",
              "      <td>1</td>\n",
              "      <td>530</td>\n",
              "    </tr>\n",
              "    <tr>\n",
              "      <th>18</th>\n",
              "      <td>A</td>\n",
              "      <td>J</td>\n",
              "      <td>0</td>\n",
              "      <td>28430</td>\n",
              "    </tr>\n",
              "    <tr>\n",
              "      <th>19</th>\n",
              "      <td>A</td>\n",
              "      <td>J</td>\n",
              "      <td>1</td>\n",
              "      <td>1374</td>\n",
              "    </tr>\n",
              "  </tbody>\n",
              "</table>\n",
              "</div>"
            ],
            "text/plain": [
              "   주상병코드 부상병코드  입원여부  가입자 일련번호\n",
              "0      A     A     0      7197\n",
              "1      A     A     1       463\n",
              "2      A     B     0      4236\n",
              "3      A     B     1       127\n",
              "4      A     C     0       241\n",
              "5      A     C     1       149\n",
              "6      A     D     0       646\n",
              "7      A     D     1       155\n",
              "8      A     E     0      3834\n",
              "9      A     E     1       732\n",
              "10     A     F     0       502\n",
              "11     A     F     1       318\n",
              "12     A     G     0       505\n",
              "13     A     G     1       252\n",
              "14     A     H     0      1332\n",
              "15     A     H     1        65\n",
              "16     A     I     0       950\n",
              "17     A     I     1       530\n",
              "18     A     J     0     28430\n",
              "19     A     J     1      1374"
            ]
          },
          "metadata": {},
          "execution_count": 24
        }
      ]
    },
    {
      "cell_type": "code",
      "metadata": {
        "colab": {
          "base_uri": "https://localhost:8080/"
        },
        "id": "XmFGIcpoCtml",
        "outputId": "1c7a5444-70de-4510-f13b-3b62f1c3134f"
      },
      "source": [
        "import scipy.stats as stats \n",
        "import numpy as np \n",
        "data = pd.crosstab(df['부상병코드'],df['입원여부'])\n",
        "X2 = stats.chi2_contingency(data)[0]\n",
        "n = np.sum(data)\n",
        "minDim = min(data.shape)-1\n",
        "\n",
        "V = np.sqrt((X2/n)/minDim)\n",
        "print(V)"
      ],
      "execution_count": 48,
      "outputs": [
        {
          "output_type": "stream",
          "name": "stdout",
          "text": [
            "입원여부\n",
            "0    0.161968\n",
            "1    1.091439\n",
            "dtype: float64\n"
          ]
        }
      ]
    },
    {
      "cell_type": "code",
      "metadata": {
        "colab": {
          "base_uri": "https://localhost:8080/"
        },
        "id": "eSMtmzSfMYxP",
        "outputId": "0abd3856-558f-4aab-a07d-8ddb1552496d"
      },
      "source": [
        "data = pd.crosstab(df['주상병코드'],df['입원여부'])\n",
        "X2 = stats.chi2_contingency(data)[0]\n",
        "n = np.sum(data)\n",
        "minDim = min(data.shape)-1\n",
        "\n",
        "V = np.sqrt((X2/n)/minDim)\n",
        "print(V)"
      ],
      "execution_count": 50,
      "outputs": [
        {
          "output_type": "stream",
          "name": "stdout",
          "text": [
            "입원여부\n",
            "0    0.185306\n",
            "1    1.248706\n",
            "dtype: float64\n"
          ]
        }
      ]
    },
    {
      "cell_type": "code",
      "metadata": {
        "id": "iVEI_tPmQagW"
      },
      "source": [
        "df = pd.read_csv(\"/content/drive/MyDrive/프로젝트/멀티캠퍼스/프로젝트1/df.csv\")"
      ],
      "execution_count": 4,
      "outputs": []
    },
    {
      "cell_type": "code",
      "metadata": {
        "id": "OroUoWwKC-k7"
      },
      "source": [
        "df.drop(['심결본인부담금','심결보험자부담금','가입자 일련번호', '요양개시일자'], axis = 1, inplace = True)\n",
        "df.drop(['Unnamed: 0'], axis = 1, inplace = True)"
      ],
      "execution_count": 5,
      "outputs": []
    },
    {
      "cell_type": "code",
      "metadata": {
        "id": "1iMn8Mz1ARIY"
      },
      "source": [
        "# 해보고 싶은 거 : 주상병코드, 부상병코드 숫자형 변수로 변환 후, 입원여부와 상관관계 분석 \n",
        "ju = df['주상병코드'].unique()\n",
        "ju.sort()\n",
        "bu = df['부상병코드'].unique()\n",
        "bu.sort()\n",
        "\n",
        "def function(x) :\n",
        "  global bu  \n",
        "  for i in range(len(bu)) : \n",
        "    if x == bu[i] : return i \n"
      ],
      "execution_count": 10,
      "outputs": []
    },
    {
      "cell_type": "code",
      "metadata": {
        "colab": {
          "base_uri": "https://localhost:8080/",
          "height": 112
        },
        "id": "G06bKxQlEr-U",
        "outputId": "ce417c22-bc4f-470f-968d-46b61c510241"
      },
      "source": [
        "df['주상병코드'] = df['주상병코드'].apply(function)\n",
        "df['부상병코드'] = df['부상병코드'].apply(function)\n",
        "df.head(2)"
      ],
      "execution_count": 11,
      "outputs": [
        {
          "output_type": "execute_result",
          "data": {
            "text/html": [
              "<div>\n",
              "<style scoped>\n",
              "    .dataframe tbody tr th:only-of-type {\n",
              "        vertical-align: middle;\n",
              "    }\n",
              "\n",
              "    .dataframe tbody tr th {\n",
              "        vertical-align: top;\n",
              "    }\n",
              "\n",
              "    .dataframe thead th {\n",
              "        text-align: right;\n",
              "    }\n",
              "</style>\n",
              "<table border=\"1\" class=\"dataframe\">\n",
              "  <thead>\n",
              "    <tr style=\"text-align: right;\">\n",
              "      <th></th>\n",
              "      <th>성별코드</th>\n",
              "      <th>연령대코드</th>\n",
              "      <th>입원여부</th>\n",
              "      <th>주상병코드</th>\n",
              "      <th>부상병코드</th>\n",
              "      <th>요양일수</th>\n",
              "      <th>입내원일수</th>\n",
              "      <th>심결가산율</th>\n",
              "      <th>심결요양급여비용총액</th>\n",
              "      <th>총처방일수</th>\n",
              "      <th>시도명</th>\n",
              "      <th>진료과목</th>\n",
              "    </tr>\n",
              "  </thead>\n",
              "  <tbody>\n",
              "    <tr>\n",
              "      <th>0</th>\n",
              "      <td>2</td>\n",
              "      <td>50</td>\n",
              "      <td>0</td>\n",
              "      <td>12</td>\n",
              "      <td>12</td>\n",
              "      <td>1</td>\n",
              "      <td>1</td>\n",
              "      <td>0.25</td>\n",
              "      <td>19240</td>\n",
              "      <td>0</td>\n",
              "      <td>전라남도</td>\n",
              "      <td>정형외과</td>\n",
              "    </tr>\n",
              "    <tr>\n",
              "      <th>1</th>\n",
              "      <td>2</td>\n",
              "      <td>50</td>\n",
              "      <td>0</td>\n",
              "      <td>4</td>\n",
              "      <td>13</td>\n",
              "      <td>1</td>\n",
              "      <td>1</td>\n",
              "      <td>0.25</td>\n",
              "      <td>145680</td>\n",
              "      <td>0</td>\n",
              "      <td>전라남도</td>\n",
              "      <td>내과</td>\n",
              "    </tr>\n",
              "  </tbody>\n",
              "</table>\n",
              "</div>"
            ],
            "text/plain": [
              "   성별코드  연령대코드  입원여부  주상병코드  부상병코드  ...  심결가산율  심결요양급여비용총액  총처방일수    시도명  진료과목\n",
              "0     2     50     0     12     12  ...   0.25       19240      0   전라남도  정형외과\n",
              "1     2     50     0      4     13  ...   0.25      145680      0   전라남도    내과\n",
              "\n",
              "[2 rows x 12 columns]"
            ]
          },
          "metadata": {},
          "execution_count": 11
        }
      ]
    },
    {
      "cell_type": "code",
      "metadata": {
        "colab": {
          "base_uri": "https://localhost:8080/",
          "height": 112
        },
        "id": "6P2-ZsZkQKCb",
        "outputId": "160f68f4-5707-4d87-9f64-1267ee3a9359"
      },
      "source": [
        "df = pd.merge(df, df_subject, how = 'left', on = '진료과목')\n",
        "df.head(2)"
      ],
      "execution_count": 12,
      "outputs": [
        {
          "output_type": "execute_result",
          "data": {
            "text/html": [
              "<div>\n",
              "<style scoped>\n",
              "    .dataframe tbody tr th:only-of-type {\n",
              "        vertical-align: middle;\n",
              "    }\n",
              "\n",
              "    .dataframe tbody tr th {\n",
              "        vertical-align: top;\n",
              "    }\n",
              "\n",
              "    .dataframe thead th {\n",
              "        text-align: right;\n",
              "    }\n",
              "</style>\n",
              "<table border=\"1\" class=\"dataframe\">\n",
              "  <thead>\n",
              "    <tr style=\"text-align: right;\">\n",
              "      <th></th>\n",
              "      <th>성별코드</th>\n",
              "      <th>연령대코드</th>\n",
              "      <th>입원여부</th>\n",
              "      <th>주상병코드</th>\n",
              "      <th>부상병코드</th>\n",
              "      <th>요양일수</th>\n",
              "      <th>입내원일수</th>\n",
              "      <th>심결가산율</th>\n",
              "      <th>심결요양급여비용총액</th>\n",
              "      <th>총처방일수</th>\n",
              "      <th>시도명</th>\n",
              "      <th>진료과목</th>\n",
              "      <th>진료과목코드</th>\n",
              "    </tr>\n",
              "  </thead>\n",
              "  <tbody>\n",
              "    <tr>\n",
              "      <th>0</th>\n",
              "      <td>2</td>\n",
              "      <td>50</td>\n",
              "      <td>0</td>\n",
              "      <td>12</td>\n",
              "      <td>12</td>\n",
              "      <td>1</td>\n",
              "      <td>1</td>\n",
              "      <td>0.25</td>\n",
              "      <td>19240</td>\n",
              "      <td>0</td>\n",
              "      <td>전라남도</td>\n",
              "      <td>정형외과</td>\n",
              "      <td>5</td>\n",
              "    </tr>\n",
              "    <tr>\n",
              "      <th>1</th>\n",
              "      <td>2</td>\n",
              "      <td>50</td>\n",
              "      <td>0</td>\n",
              "      <td>4</td>\n",
              "      <td>13</td>\n",
              "      <td>1</td>\n",
              "      <td>1</td>\n",
              "      <td>0.25</td>\n",
              "      <td>145680</td>\n",
              "      <td>0</td>\n",
              "      <td>전라남도</td>\n",
              "      <td>내과</td>\n",
              "      <td>1</td>\n",
              "    </tr>\n",
              "  </tbody>\n",
              "</table>\n",
              "</div>"
            ],
            "text/plain": [
              "   성별코드  연령대코드  입원여부  주상병코드  부상병코드  ...  심결요양급여비용총액  총처방일수    시도명  진료과목  진료과목코드\n",
              "0     2     50     0     12     12  ...       19240      0   전라남도  정형외과       5\n",
              "1     2     50     0      4     13  ...      145680      0   전라남도    내과       1\n",
              "\n",
              "[2 rows x 13 columns]"
            ]
          },
          "metadata": {},
          "execution_count": 12
        }
      ]
    },
    {
      "cell_type": "code",
      "metadata": {
        "id": "Jca8B5TIFMzy"
      },
      "source": [
        "from sklearn.tree import DecisionTreeClassifier\n",
        "\n",
        "\n",
        "x = df.drop([\"입원여부\",'시도명','진료과목'], axis = 1)\n",
        "y = df['입원여부']"
      ],
      "execution_count": 13,
      "outputs": []
    },
    {
      "cell_type": "code",
      "metadata": {
        "id": "qTcN4GrfTEzV"
      },
      "source": [
        "from sklearn.model_selection import train_test_split\n",
        "x_train, x_test, y_train, y_test = train_test_split(x,y,test_size=0.25, random_state=0)"
      ],
      "execution_count": 16,
      "outputs": []
    },
    {
      "cell_type": "code",
      "metadata": {
        "colab": {
          "base_uri": "https://localhost:8080/"
        },
        "id": "GzfrtQBMQTgJ",
        "outputId": "cef0bc59-bf47-4000-f9f0-fe3527f0af09"
      },
      "source": [
        "tree = DecisionTreeClassifier(criterion = \"entropy\",max_depth=5)\n",
        "tree.fit(x_train,y_train)"
      ],
      "execution_count": 26,
      "outputs": [
        {
          "output_type": "execute_result",
          "data": {
            "text/plain": [
              "DecisionTreeClassifier(ccp_alpha=0.0, class_weight=None, criterion='entropy',\n",
              "                       max_depth=5, max_features=None, max_leaf_nodes=None,\n",
              "                       min_impurity_decrease=0.0, min_impurity_split=None,\n",
              "                       min_samples_leaf=1, min_samples_split=2,\n",
              "                       min_weight_fraction_leaf=0.0, presort='deprecated',\n",
              "                       random_state=None, splitter='best')"
            ]
          },
          "metadata": {},
          "execution_count": 26
        }
      ]
    },
    {
      "cell_type": "code",
      "metadata": {
        "colab": {
          "base_uri": "https://localhost:8080/"
        },
        "id": "dMacGKLrTe5B",
        "outputId": "84d0f8f9-3482-4fb0-b550-5f2d4f2ccbdc"
      },
      "source": [
        "tree.score(x_test,y_test)"
      ],
      "execution_count": 27,
      "outputs": [
        {
          "output_type": "execute_result",
          "data": {
            "text/plain": [
              "0.9966857767951561"
            ]
          },
          "metadata": {},
          "execution_count": 27
        }
      ]
    },
    {
      "cell_type": "code",
      "metadata": {
        "colab": {
          "base_uri": "https://localhost:8080/"
        },
        "id": "8zHaIDsTTyzt",
        "outputId": "210451fe-c197-4436-fb46-be8f7ed2f305"
      },
      "source": [
        "list(x.columns)"
      ],
      "execution_count": 21,
      "outputs": [
        {
          "output_type": "execute_result",
          "data": {
            "text/plain": [
              "['성별코드',\n",
              " '연령대코드',\n",
              " '주상병코드',\n",
              " '부상병코드',\n",
              " '요양일수',\n",
              " '입내원일수',\n",
              " '심결가산율',\n",
              " '심결요양급여비용총액',\n",
              " '총처방일수',\n",
              " '진료과목코드']"
            ]
          },
          "metadata": {},
          "execution_count": 21
        }
      ]
    },
    {
      "cell_type": "code",
      "metadata": {
        "colab": {
          "base_uri": "https://localhost:8080/"
        },
        "id": "PlVM0wuwUFay",
        "outputId": "e64c0ee1-2f37-4a19-c490-69909960d567"
      },
      "source": [
        "df['입원여부'].unique()"
      ],
      "execution_count": 23,
      "outputs": [
        {
          "output_type": "execute_result",
          "data": {
            "text/plain": [
              "array([0, 1])"
            ]
          },
          "metadata": {},
          "execution_count": 23
        }
      ]
    },
    {
      "cell_type": "code",
      "metadata": {
        "id": "JEj-MEUCZfTa"
      },
      "source": [
        ""
      ],
      "execution_count": null,
      "outputs": []
    },
    {
      "cell_type": "code",
      "metadata": {
        "colab": {
          "base_uri": "https://localhost:8080/",
          "height": 935
        },
        "id": "EZUurmQ_Q8__",
        "outputId": "c1c8ef7c-6e3c-47ab-c209-4b2616f7d454"
      },
      "source": [
        "from sklearn.tree import export_graphviz\n",
        "\n",
        "export_graphviz(\n",
        "    tree, # 학습한 모형\n",
        "    out_file = 'tree.dot', # .dot 파일 저장 위치\n",
        "    feature_names = list(x.columns), # 사용한 변수 이름\n",
        "    class_names = ['입원X', '입원O'], # 예측할 타겟 클래스 이름\n",
        ")\n",
        "import graphviz\n",
        "\n",
        "# 위에서 생성된 tree.dot 파일을 Graphviz 읽어서 Jupyter Notebook상에서 시각화 \n",
        "with open(\"tree.dot\") as f:\n",
        "    dot_graph = f.read()\n",
        "graphviz.Source(dot_graph)"
      ],
      "execution_count": 28,
      "outputs": [
        {
          "output_type": "execute_result",
          "data": {
            "text/plain": [
              "<graphviz.files.Source at 0x7f169e0e7350>"
            ],
            "image/svg+xml": "<?xml version=\"1.0\" encoding=\"UTF-8\" standalone=\"no\"?>\n<!DOCTYPE svg PUBLIC \"-//W3C//DTD SVG 1.1//EN\"\n \"http://www.w3.org/Graphics/SVG/1.1/DTD/svg11.dtd\">\n<!-- Generated by graphviz version 2.40.1 (20161225.0304)\n -->\n<!-- Title: Tree Pages: 1 -->\n<svg width=\"2435pt\" height=\"671pt\"\n viewBox=\"0.00 0.00 2434.50 671.00\" xmlns=\"http://www.w3.org/2000/svg\" xmlns:xlink=\"http://www.w3.org/1999/xlink\">\n<g id=\"graph0\" class=\"graph\" transform=\"scale(1 1) rotate(0) translate(4 667)\">\n<title>Tree</title>\n<polygon fill=\"#ffffff\" stroke=\"transparent\" points=\"-4,4 -4,-667 2430.5,-667 2430.5,4 -4,4\"/>\n<!-- 0 -->\n<g id=\"node1\" class=\"node\">\n<title>0</title>\n<polygon fill=\"none\" stroke=\"#000000\" points=\"1286.5,-663 1109.5,-663 1109.5,-580 1286.5,-580 1286.5,-663\"/>\n<text text-anchor=\"middle\" x=\"1198\" y=\"-647.8\" font-family=\"Times,serif\" font-size=\"14.00\" fill=\"#000000\">요양일수 &lt;= 1.5</text>\n<text text-anchor=\"middle\" x=\"1198\" y=\"-632.8\" font-family=\"Times,serif\" font-size=\"14.00\" fill=\"#000000\">entropy = 0.15</text>\n<text text-anchor=\"middle\" x=\"1198\" y=\"-617.8\" font-family=\"Times,serif\" font-size=\"14.00\" fill=\"#000000\">samples = 9883763</text>\n<text text-anchor=\"middle\" x=\"1198\" y=\"-602.8\" font-family=\"Times,serif\" font-size=\"14.00\" fill=\"#000000\">value = [9670971, 212792]</text>\n<text text-anchor=\"middle\" x=\"1198\" y=\"-587.8\" font-family=\"Times,serif\" font-size=\"14.00\" fill=\"#000000\">class = 입원X</text>\n</g>\n<!-- 1 -->\n<g id=\"node2\" class=\"node\">\n<title>1</title>\n<polygon fill=\"none\" stroke=\"#000000\" points=\"1199,-544 1029,-544 1029,-461 1199,-461 1199,-544\"/>\n<text text-anchor=\"middle\" x=\"1114\" y=\"-528.8\" font-family=\"Times,serif\" font-size=\"14.00\" fill=\"#000000\">요양일수 &lt;= 0.5</text>\n<text text-anchor=\"middle\" x=\"1114\" y=\"-513.8\" font-family=\"Times,serif\" font-size=\"14.00\" fill=\"#000000\">entropy = 0.04</text>\n<text text-anchor=\"middle\" x=\"1114\" y=\"-498.8\" font-family=\"Times,serif\" font-size=\"14.00\" fill=\"#000000\">samples = 9712359</text>\n<text text-anchor=\"middle\" x=\"1114\" y=\"-483.8\" font-family=\"Times,serif\" font-size=\"14.00\" fill=\"#000000\">value = [9670971, 41388]</text>\n<text text-anchor=\"middle\" x=\"1114\" y=\"-468.8\" font-family=\"Times,serif\" font-size=\"14.00\" fill=\"#000000\">class = 입원X</text>\n</g>\n<!-- 0&#45;&gt;1 -->\n<g id=\"edge1\" class=\"edge\">\n<title>0&#45;&gt;1</title>\n<path fill=\"none\" stroke=\"#000000\" d=\"M1168.6209,-579.8796C1162.3906,-571.0534 1155.7519,-561.6485 1149.327,-552.5466\"/>\n<polygon fill=\"#000000\" stroke=\"#000000\" points=\"1152.1308,-550.4494 1143.5045,-544.2981 1146.412,-554.4862 1152.1308,-550.4494\"/>\n<text text-anchor=\"middle\" x=\"1139.2568\" y=\"-565.2346\" font-family=\"Times,serif\" font-size=\"14.00\" fill=\"#000000\">True</text>\n</g>\n<!-- 32 -->\n<g id=\"node33\" class=\"node\">\n<title>32</title>\n<polygon fill=\"none\" stroke=\"#000000\" points=\"1349,-536.5 1217,-536.5 1217,-468.5 1349,-468.5 1349,-536.5\"/>\n<text text-anchor=\"middle\" x=\"1283\" y=\"-521.3\" font-family=\"Times,serif\" font-size=\"14.00\" fill=\"#000000\">entropy = 0.0</text>\n<text text-anchor=\"middle\" x=\"1283\" y=\"-506.3\" font-family=\"Times,serif\" font-size=\"14.00\" fill=\"#000000\">samples = 171404</text>\n<text text-anchor=\"middle\" x=\"1283\" y=\"-491.3\" font-family=\"Times,serif\" font-size=\"14.00\" fill=\"#000000\">value = [0, 171404]</text>\n<text text-anchor=\"middle\" x=\"1283\" y=\"-476.3\" font-family=\"Times,serif\" font-size=\"14.00\" fill=\"#000000\">class = 입원O</text>\n</g>\n<!-- 0&#45;&gt;32 -->\n<g id=\"edge32\" class=\"edge\">\n<title>0&#45;&gt;32</title>\n<path fill=\"none\" stroke=\"#000000\" d=\"M1227.7289,-579.8796C1235.7403,-568.6636 1244.4192,-556.5131 1252.4734,-545.2372\"/>\n<polygon fill=\"#000000\" stroke=\"#000000\" points=\"1255.525,-546.9866 1258.4893,-536.8149 1249.8288,-542.9179 1255.525,-546.9866\"/>\n<text text-anchor=\"middle\" x=\"1262.5993\" y=\"-557.7748\" font-family=\"Times,serif\" font-size=\"14.00\" fill=\"#000000\">False</text>\n</g>\n<!-- 2 -->\n<g id=\"node3\" class=\"node\">\n<title>2</title>\n<polygon fill=\"none\" stroke=\"#000000\" points=\"925,-425 693,-425 693,-342 925,-342 925,-425\"/>\n<text text-anchor=\"middle\" x=\"809\" y=\"-409.8\" font-family=\"Times,serif\" font-size=\"14.00\" fill=\"#000000\">심결요양급여비용총액 &lt;= 44585.0</text>\n<text text-anchor=\"middle\" x=\"809\" y=\"-394.8\" font-family=\"Times,serif\" font-size=\"14.00\" fill=\"#000000\">entropy = 0.873</text>\n<text text-anchor=\"middle\" x=\"809\" y=\"-379.8\" font-family=\"Times,serif\" font-size=\"14.00\" fill=\"#000000\">samples = 17900</text>\n<text text-anchor=\"middle\" x=\"809\" y=\"-364.8\" font-family=\"Times,serif\" font-size=\"14.00\" fill=\"#000000\">value = [5249, 12651]</text>\n<text text-anchor=\"middle\" x=\"809\" y=\"-349.8\" font-family=\"Times,serif\" font-size=\"14.00\" fill=\"#000000\">class = 입원O</text>\n</g>\n<!-- 1&#45;&gt;2 -->\n<g id=\"edge2\" class=\"edge\">\n<title>1&#45;&gt;2</title>\n<path fill=\"none\" stroke=\"#000000\" d=\"M1028.6349,-469.1936C996.579,-456.6865 959.5784,-442.2503 925.1926,-428.8342\"/>\n<polygon fill=\"#000000\" stroke=\"#000000\" points=\"926.1579,-425.4539 915.5696,-425.0796 923.6135,-431.9751 926.1579,-425.4539\"/>\n</g>\n<!-- 17 -->\n<g id=\"node18\" class=\"node\">\n<title>17</title>\n<polygon fill=\"none\" stroke=\"#000000\" points=\"1558.5,-425 1319.5,-425 1319.5,-342 1558.5,-342 1558.5,-425\"/>\n<text text-anchor=\"middle\" x=\"1439\" y=\"-409.8\" font-family=\"Times,serif\" font-size=\"14.00\" fill=\"#000000\">심결요양급여비용총액 &lt;= 112755.0</text>\n<text text-anchor=\"middle\" x=\"1439\" y=\"-394.8\" font-family=\"Times,serif\" font-size=\"14.00\" fill=\"#000000\">entropy = 0.029</text>\n<text text-anchor=\"middle\" x=\"1439\" y=\"-379.8\" font-family=\"Times,serif\" font-size=\"14.00\" fill=\"#000000\">samples = 9694459</text>\n<text text-anchor=\"middle\" x=\"1439\" y=\"-364.8\" font-family=\"Times,serif\" font-size=\"14.00\" fill=\"#000000\">value = [9665722, 28737]</text>\n<text text-anchor=\"middle\" x=\"1439\" y=\"-349.8\" font-family=\"Times,serif\" font-size=\"14.00\" fill=\"#000000\">class = 입원X</text>\n</g>\n<!-- 1&#45;&gt;17 -->\n<g id=\"edge17\" class=\"edge\">\n<title>1&#45;&gt;17</title>\n<path fill=\"none\" stroke=\"#000000\" d=\"M1199.1627,-464.4927C1202.1369,-463.2959 1205.0891,-462.1281 1208,-461 1240.5783,-448.3744 1276.181,-435.8282 1309.4652,-424.6246\"/>\n<polygon fill=\"#000000\" stroke=\"#000000\" points=\"1310.8786,-427.8424 1319.249,-421.3473 1308.6552,-421.2049 1310.8786,-427.8424\"/>\n</g>\n<!-- 3 -->\n<g id=\"node4\" class=\"node\">\n<title>3</title>\n<polygon fill=\"none\" stroke=\"#000000\" points=\"534,-306 302,-306 302,-223 534,-223 534,-306\"/>\n<text text-anchor=\"middle\" x=\"418\" y=\"-290.8\" font-family=\"Times,serif\" font-size=\"14.00\" fill=\"#000000\">심결요양급여비용총액 &lt;= 44550.0</text>\n<text text-anchor=\"middle\" x=\"418\" y=\"-275.8\" font-family=\"Times,serif\" font-size=\"14.00\" fill=\"#000000\">entropy = 0.999</text>\n<text text-anchor=\"middle\" x=\"418\" y=\"-260.8\" font-family=\"Times,serif\" font-size=\"14.00\" fill=\"#000000\">samples = 8970</text>\n<text text-anchor=\"middle\" x=\"418\" y=\"-245.8\" font-family=\"Times,serif\" font-size=\"14.00\" fill=\"#000000\">value = [4658, 4312]</text>\n<text text-anchor=\"middle\" x=\"418\" y=\"-230.8\" font-family=\"Times,serif\" font-size=\"14.00\" fill=\"#000000\">class = 입원X</text>\n</g>\n<!-- 2&#45;&gt;3 -->\n<g id=\"edge3\" class=\"edge\">\n<title>2&#45;&gt;3</title>\n<path fill=\"none\" stroke=\"#000000\" d=\"M692.7457,-348.1183C645.8871,-333.8569 591.717,-317.3704 543.926,-302.8253\"/>\n<polygon fill=\"#000000\" stroke=\"#000000\" points=\"544.7296,-299.4114 534.1438,-299.8481 542.6914,-306.1082 544.7296,-299.4114\"/>\n</g>\n<!-- 10 -->\n<g id=\"node11\" class=\"node\">\n<title>10</title>\n<polygon fill=\"none\" stroke=\"#000000\" points=\"882,-306 736,-306 736,-223 882,-223 882,-306\"/>\n<text text-anchor=\"middle\" x=\"809\" y=\"-290.8\" font-family=\"Times,serif\" font-size=\"14.00\" fill=\"#000000\">심결가산율 &lt;= 0.225</text>\n<text text-anchor=\"middle\" x=\"809\" y=\"-275.8\" font-family=\"Times,serif\" font-size=\"14.00\" fill=\"#000000\">entropy = 0.352</text>\n<text text-anchor=\"middle\" x=\"809\" y=\"-260.8\" font-family=\"Times,serif\" font-size=\"14.00\" fill=\"#000000\">samples = 8930</text>\n<text text-anchor=\"middle\" x=\"809\" y=\"-245.8\" font-family=\"Times,serif\" font-size=\"14.00\" fill=\"#000000\">value = [591, 8339]</text>\n<text text-anchor=\"middle\" x=\"809\" y=\"-230.8\" font-family=\"Times,serif\" font-size=\"14.00\" fill=\"#000000\">class = 입원O</text>\n</g>\n<!-- 2&#45;&gt;10 -->\n<g id=\"edge10\" class=\"edge\">\n<title>2&#45;&gt;10</title>\n<path fill=\"none\" stroke=\"#000000\" d=\"M809,-341.8796C809,-333.6838 809,-324.9891 809,-316.5013\"/>\n<polygon fill=\"#000000\" stroke=\"#000000\" points=\"812.5001,-316.298 809,-306.2981 805.5001,-316.2981 812.5001,-316.298\"/>\n</g>\n<!-- 4 -->\n<g id=\"node5\" class=\"node\">\n<title>4</title>\n<polygon fill=\"none\" stroke=\"#000000\" points=\"283,-187 143,-187 143,-104 283,-104 283,-187\"/>\n<text text-anchor=\"middle\" x=\"213\" y=\"-171.8\" font-family=\"Times,serif\" font-size=\"14.00\" fill=\"#000000\">입내원일수 &lt;= 1.5</text>\n<text text-anchor=\"middle\" x=\"213\" y=\"-156.8\" font-family=\"Times,serif\" font-size=\"14.00\" fill=\"#000000\">entropy = 0.995</text>\n<text text-anchor=\"middle\" x=\"213\" y=\"-141.8\" font-family=\"Times,serif\" font-size=\"14.00\" fill=\"#000000\">samples = 7934</text>\n<text text-anchor=\"middle\" x=\"213\" y=\"-126.8\" font-family=\"Times,serif\" font-size=\"14.00\" fill=\"#000000\">value = [3624, 4310]</text>\n<text text-anchor=\"middle\" x=\"213\" y=\"-111.8\" font-family=\"Times,serif\" font-size=\"14.00\" fill=\"#000000\">class = 입원O</text>\n</g>\n<!-- 3&#45;&gt;4 -->\n<g id=\"edge4\" class=\"edge\">\n<title>3&#45;&gt;4</title>\n<path fill=\"none\" stroke=\"#000000\" d=\"M346.3009,-222.8796C328.7382,-212.6846 309.8455,-201.7176 291.9632,-191.3372\"/>\n<polygon fill=\"#000000\" stroke=\"#000000\" points=\"293.6816,-188.2878 283.276,-186.2944 290.1674,-194.3417 293.6816,-188.2878\"/>\n</g>\n<!-- 7 -->\n<g id=\"node8\" class=\"node\">\n<title>7</title>\n<polygon fill=\"none\" stroke=\"#000000\" points=\"483.5,-187 352.5,-187 352.5,-104 483.5,-104 483.5,-187\"/>\n<text text-anchor=\"middle\" x=\"418\" y=\"-171.8\" font-family=\"Times,serif\" font-size=\"14.00\" fill=\"#000000\">주상병코드 &lt;= 2.5</text>\n<text text-anchor=\"middle\" x=\"418\" y=\"-156.8\" font-family=\"Times,serif\" font-size=\"14.00\" fill=\"#000000\">entropy = 0.02</text>\n<text text-anchor=\"middle\" x=\"418\" y=\"-141.8\" font-family=\"Times,serif\" font-size=\"14.00\" fill=\"#000000\">samples = 1036</text>\n<text text-anchor=\"middle\" x=\"418\" y=\"-126.8\" font-family=\"Times,serif\" font-size=\"14.00\" fill=\"#000000\">value = [1034, 2]</text>\n<text text-anchor=\"middle\" x=\"418\" y=\"-111.8\" font-family=\"Times,serif\" font-size=\"14.00\" fill=\"#000000\">class = 입원X</text>\n</g>\n<!-- 3&#45;&gt;7 -->\n<g id=\"edge7\" class=\"edge\">\n<title>3&#45;&gt;7</title>\n<path fill=\"none\" stroke=\"#000000\" d=\"M418,-222.8796C418,-214.6838 418,-205.9891 418,-197.5013\"/>\n<polygon fill=\"#000000\" stroke=\"#000000\" points=\"421.5001,-197.298 418,-187.2981 414.5001,-197.2981 421.5001,-197.298\"/>\n</g>\n<!-- 5 -->\n<g id=\"node6\" class=\"node\">\n<title>5</title>\n<polygon fill=\"none\" stroke=\"#000000\" points=\"140,-68 0,-68 0,0 140,0 140,-68\"/>\n<text text-anchor=\"middle\" x=\"70\" y=\"-52.8\" font-family=\"Times,serif\" font-size=\"14.00\" fill=\"#000000\">entropy = 0.999</text>\n<text text-anchor=\"middle\" x=\"70\" y=\"-37.8\" font-family=\"Times,serif\" font-size=\"14.00\" fill=\"#000000\">samples = 7035</text>\n<text text-anchor=\"middle\" x=\"70\" y=\"-22.8\" font-family=\"Times,serif\" font-size=\"14.00\" fill=\"#000000\">value = [3622, 3413]</text>\n<text text-anchor=\"middle\" x=\"70\" y=\"-7.8\" font-family=\"Times,serif\" font-size=\"14.00\" fill=\"#000000\">class = 입원X</text>\n</g>\n<!-- 4&#45;&gt;5 -->\n<g id=\"edge5\" class=\"edge\">\n<title>4&#45;&gt;5</title>\n<path fill=\"none\" stroke=\"#000000\" d=\"M159.7521,-103.9815C147.3756,-94.3313 134.2172,-84.0714 121.8997,-74.4673\"/>\n<polygon fill=\"#000000\" stroke=\"#000000\" points=\"123.9818,-71.6525 113.9435,-68.2637 119.6775,-77.1728 123.9818,-71.6525\"/>\n</g>\n<!-- 6 -->\n<g id=\"node7\" class=\"node\">\n<title>6</title>\n<polygon fill=\"none\" stroke=\"#000000\" points=\"268,-68 158,-68 158,0 268,0 268,-68\"/>\n<text text-anchor=\"middle\" x=\"213\" y=\"-52.8\" font-family=\"Times,serif\" font-size=\"14.00\" fill=\"#000000\">entropy = 0.023</text>\n<text text-anchor=\"middle\" x=\"213\" y=\"-37.8\" font-family=\"Times,serif\" font-size=\"14.00\" fill=\"#000000\">samples = 899</text>\n<text text-anchor=\"middle\" x=\"213\" y=\"-22.8\" font-family=\"Times,serif\" font-size=\"14.00\" fill=\"#000000\">value = [2, 897]</text>\n<text text-anchor=\"middle\" x=\"213\" y=\"-7.8\" font-family=\"Times,serif\" font-size=\"14.00\" fill=\"#000000\">class = 입원O</text>\n</g>\n<!-- 4&#45;&gt;6 -->\n<g id=\"edge6\" class=\"edge\">\n<title>4&#45;&gt;6</title>\n<path fill=\"none\" stroke=\"#000000\" d=\"M213,-103.9815C213,-95.618 213,-86.7965 213,-78.3409\"/>\n<polygon fill=\"#000000\" stroke=\"#000000\" points=\"216.5001,-78.2636 213,-68.2637 209.5001,-78.2637 216.5001,-78.2636\"/>\n</g>\n<!-- 8 -->\n<g id=\"node9\" class=\"node\">\n<title>8</title>\n<polygon fill=\"none\" stroke=\"#000000\" points=\"396,-68 286,-68 286,0 396,0 396,-68\"/>\n<text text-anchor=\"middle\" x=\"341\" y=\"-52.8\" font-family=\"Times,serif\" font-size=\"14.00\" fill=\"#000000\">entropy = 0.128</text>\n<text text-anchor=\"middle\" x=\"341\" y=\"-37.8\" font-family=\"Times,serif\" font-size=\"14.00\" fill=\"#000000\">samples = 113</text>\n<text text-anchor=\"middle\" x=\"341\" y=\"-22.8\" font-family=\"Times,serif\" font-size=\"14.00\" fill=\"#000000\">value = [111, 2]</text>\n<text text-anchor=\"middle\" x=\"341\" y=\"-7.8\" font-family=\"Times,serif\" font-size=\"14.00\" fill=\"#000000\">class = 입원X</text>\n</g>\n<!-- 7&#45;&gt;8 -->\n<g id=\"edge8\" class=\"edge\">\n<title>7&#45;&gt;8</title>\n<path fill=\"none\" stroke=\"#000000\" d=\"M389.328,-103.9815C383.1715,-95.0666 376.6557,-85.6313 370.4695,-76.6734\"/>\n<polygon fill=\"#000000\" stroke=\"#000000\" points=\"373.2245,-74.5034 364.6619,-68.2637 367.4645,-78.4811 373.2245,-74.5034\"/>\n</g>\n<!-- 9 -->\n<g id=\"node10\" class=\"node\">\n<title>9</title>\n<polygon fill=\"none\" stroke=\"#000000\" points=\"524,-68 414,-68 414,0 524,0 524,-68\"/>\n<text text-anchor=\"middle\" x=\"469\" y=\"-52.8\" font-family=\"Times,serif\" font-size=\"14.00\" fill=\"#000000\">entropy = 0.0</text>\n<text text-anchor=\"middle\" x=\"469\" y=\"-37.8\" font-family=\"Times,serif\" font-size=\"14.00\" fill=\"#000000\">samples = 923</text>\n<text text-anchor=\"middle\" x=\"469\" y=\"-22.8\" font-family=\"Times,serif\" font-size=\"14.00\" fill=\"#000000\">value = [923, 0]</text>\n<text text-anchor=\"middle\" x=\"469\" y=\"-7.8\" font-family=\"Times,serif\" font-size=\"14.00\" fill=\"#000000\">class = 입원X</text>\n</g>\n<!-- 7&#45;&gt;9 -->\n<g id=\"edge9\" class=\"edge\">\n<title>7&#45;&gt;9</title>\n<path fill=\"none\" stroke=\"#000000\" d=\"M436.9905,-103.9815C440.9421,-95.3423 445.1172,-86.2144 449.1005,-77.5059\"/>\n<polygon fill=\"#000000\" stroke=\"#000000\" points=\"452.3511,-78.8134 453.3278,-68.2637 445.9854,-75.9017 452.3511,-78.8134\"/>\n</g>\n<!-- 11 -->\n<g id=\"node12\" class=\"node\">\n<title>11</title>\n<polygon fill=\"none\" stroke=\"#000000\" points=\"774.5,-187 643.5,-187 643.5,-104 774.5,-104 774.5,-187\"/>\n<text text-anchor=\"middle\" x=\"709\" y=\"-171.8\" font-family=\"Times,serif\" font-size=\"14.00\" fill=\"#000000\">총처방일수 &lt;= 0.5</text>\n<text text-anchor=\"middle\" x=\"709\" y=\"-156.8\" font-family=\"Times,serif\" font-size=\"14.00\" fill=\"#000000\">entropy = 0.078</text>\n<text text-anchor=\"middle\" x=\"709\" y=\"-141.8\" font-family=\"Times,serif\" font-size=\"14.00\" fill=\"#000000\">samples = 4904</text>\n<text text-anchor=\"middle\" x=\"709\" y=\"-126.8\" font-family=\"Times,serif\" font-size=\"14.00\" fill=\"#000000\">value = [47, 4857]</text>\n<text text-anchor=\"middle\" x=\"709\" y=\"-111.8\" font-family=\"Times,serif\" font-size=\"14.00\" fill=\"#000000\">class = 입원O</text>\n</g>\n<!-- 10&#45;&gt;11 -->\n<g id=\"edge11\" class=\"edge\">\n<title>10&#45;&gt;11</title>\n<path fill=\"none\" stroke=\"#000000\" d=\"M774.0249,-222.8796C766.4565,-213.8733 758.3819,-204.2644 750.588,-194.9897\"/>\n<polygon fill=\"#000000\" stroke=\"#000000\" points=\"753.2374,-192.7022 744.1244,-187.2981 747.8784,-197.2056 753.2374,-192.7022\"/>\n</g>\n<!-- 14 -->\n<g id=\"node15\" class=\"node\">\n<title>14</title>\n<polygon fill=\"none\" stroke=\"#000000\" points=\"1025,-187 793,-187 793,-104 1025,-104 1025,-187\"/>\n<text text-anchor=\"middle\" x=\"909\" y=\"-171.8\" font-family=\"Times,serif\" font-size=\"14.00\" fill=\"#000000\">심결요양급여비용총액 &lt;= 59615.0</text>\n<text text-anchor=\"middle\" x=\"909\" y=\"-156.8\" font-family=\"Times,serif\" font-size=\"14.00\" fill=\"#000000\">entropy = 0.571</text>\n<text text-anchor=\"middle\" x=\"909\" y=\"-141.8\" font-family=\"Times,serif\" font-size=\"14.00\" fill=\"#000000\">samples = 4026</text>\n<text text-anchor=\"middle\" x=\"909\" y=\"-126.8\" font-family=\"Times,serif\" font-size=\"14.00\" fill=\"#000000\">value = [544, 3482]</text>\n<text text-anchor=\"middle\" x=\"909\" y=\"-111.8\" font-family=\"Times,serif\" font-size=\"14.00\" fill=\"#000000\">class = 입원O</text>\n</g>\n<!-- 10&#45;&gt;14 -->\n<g id=\"edge14\" class=\"edge\">\n<title>10&#45;&gt;14</title>\n<path fill=\"none\" stroke=\"#000000\" d=\"M843.9751,-222.8796C851.5435,-213.8733 859.6181,-204.2644 867.412,-194.9897\"/>\n<polygon fill=\"#000000\" stroke=\"#000000\" points=\"870.1216,-197.2056 873.8756,-187.2981 864.7626,-192.7022 870.1216,-197.2056\"/>\n</g>\n<!-- 12 -->\n<g id=\"node13\" class=\"node\">\n<title>12</title>\n<polygon fill=\"none\" stroke=\"#000000\" points=\"667.5,-68 542.5,-68 542.5,0 667.5,0 667.5,-68\"/>\n<text text-anchor=\"middle\" x=\"605\" y=\"-52.8\" font-family=\"Times,serif\" font-size=\"14.00\" fill=\"#000000\">entropy = 0.056</text>\n<text text-anchor=\"middle\" x=\"605\" y=\"-37.8\" font-family=\"Times,serif\" font-size=\"14.00\" fill=\"#000000\">samples = 4819</text>\n<text text-anchor=\"middle\" x=\"605\" y=\"-22.8\" font-family=\"Times,serif\" font-size=\"14.00\" fill=\"#000000\">value = [31, 4788]</text>\n<text text-anchor=\"middle\" x=\"605\" y=\"-7.8\" font-family=\"Times,serif\" font-size=\"14.00\" fill=\"#000000\">class = 입원O</text>\n</g>\n<!-- 11&#45;&gt;12 -->\n<g id=\"edge12\" class=\"edge\">\n<title>11&#45;&gt;12</title>\n<path fill=\"none\" stroke=\"#000000\" d=\"M670.2742,-103.9815C661.7018,-94.7908 652.6135,-85.0472 644.029,-75.8436\"/>\n<polygon fill=\"#000000\" stroke=\"#000000\" points=\"646.3393,-73.1891 636.9589,-68.2637 641.2204,-77.9637 646.3393,-73.1891\"/>\n</g>\n<!-- 13 -->\n<g id=\"node14\" class=\"node\">\n<title>13</title>\n<polygon fill=\"none\" stroke=\"#000000\" points=\"796,-68 686,-68 686,0 796,0 796,-68\"/>\n<text text-anchor=\"middle\" x=\"741\" y=\"-52.8\" font-family=\"Times,serif\" font-size=\"14.00\" fill=\"#000000\">entropy = 0.698</text>\n<text text-anchor=\"middle\" x=\"741\" y=\"-37.8\" font-family=\"Times,serif\" font-size=\"14.00\" fill=\"#000000\">samples = 85</text>\n<text text-anchor=\"middle\" x=\"741\" y=\"-22.8\" font-family=\"Times,serif\" font-size=\"14.00\" fill=\"#000000\">value = [16, 69]</text>\n<text text-anchor=\"middle\" x=\"741\" y=\"-7.8\" font-family=\"Times,serif\" font-size=\"14.00\" fill=\"#000000\">class = 입원O</text>\n</g>\n<!-- 11&#45;&gt;13 -->\n<g id=\"edge13\" class=\"edge\">\n<title>11&#45;&gt;13</title>\n<path fill=\"none\" stroke=\"#000000\" d=\"M720.9156,-103.9815C723.3423,-95.5261 725.9033,-86.6026 728.3543,-78.0623\"/>\n<polygon fill=\"#000000\" stroke=\"#000000\" points=\"731.772,-78.8412 731.1665,-68.2637 725.0436,-76.9101 731.772,-78.8412\"/>\n</g>\n<!-- 15 -->\n<g id=\"node16\" class=\"node\">\n<title>15</title>\n<polygon fill=\"none\" stroke=\"#000000\" points=\"939.5,-68 814.5,-68 814.5,0 939.5,0 939.5,-68\"/>\n<text text-anchor=\"middle\" x=\"877\" y=\"-52.8\" font-family=\"Times,serif\" font-size=\"14.00\" fill=\"#000000\">entropy = 0.28</text>\n<text text-anchor=\"middle\" x=\"877\" y=\"-37.8\" font-family=\"Times,serif\" font-size=\"14.00\" fill=\"#000000\">samples = 1954</text>\n<text text-anchor=\"middle\" x=\"877\" y=\"-22.8\" font-family=\"Times,serif\" font-size=\"14.00\" fill=\"#000000\">value = [95, 1859]</text>\n<text text-anchor=\"middle\" x=\"877\" y=\"-7.8\" font-family=\"Times,serif\" font-size=\"14.00\" fill=\"#000000\">class = 입원O</text>\n</g>\n<!-- 14&#45;&gt;15 -->\n<g id=\"edge15\" class=\"edge\">\n<title>14&#45;&gt;15</title>\n<path fill=\"none\" stroke=\"#000000\" d=\"M897.0844,-103.9815C894.6577,-95.5261 892.0967,-86.6026 889.6457,-78.0623\"/>\n<polygon fill=\"#000000\" stroke=\"#000000\" points=\"892.9564,-76.9101 886.8335,-68.2637 886.228,-78.8412 892.9564,-76.9101\"/>\n</g>\n<!-- 16 -->\n<g id=\"node17\" class=\"node\">\n<title>16</title>\n<polygon fill=\"none\" stroke=\"#000000\" points=\"1090,-68 958,-68 958,0 1090,0 1090,-68\"/>\n<text text-anchor=\"middle\" x=\"1024\" y=\"-52.8\" font-family=\"Times,serif\" font-size=\"14.00\" fill=\"#000000\">entropy = 0.754</text>\n<text text-anchor=\"middle\" x=\"1024\" y=\"-37.8\" font-family=\"Times,serif\" font-size=\"14.00\" fill=\"#000000\">samples = 2072</text>\n<text text-anchor=\"middle\" x=\"1024\" y=\"-22.8\" font-family=\"Times,serif\" font-size=\"14.00\" fill=\"#000000\">value = [449, 1623]</text>\n<text text-anchor=\"middle\" x=\"1024\" y=\"-7.8\" font-family=\"Times,serif\" font-size=\"14.00\" fill=\"#000000\">class = 입원O</text>\n</g>\n<!-- 14&#45;&gt;16 -->\n<g id=\"edge16\" class=\"edge\">\n<title>14&#45;&gt;16</title>\n<path fill=\"none\" stroke=\"#000000\" d=\"M951.8218,-103.9815C961.4905,-94.607 971.7527,-84.6572 981.4118,-75.2921\"/>\n<polygon fill=\"#000000\" stroke=\"#000000\" points=\"983.9176,-77.7375 988.6608,-68.2637 979.0449,-72.7118 983.9176,-77.7375\"/>\n</g>\n<!-- 18 -->\n<g id=\"node19\" class=\"node\">\n<title>18</title>\n<polygon fill=\"none\" stroke=\"#000000\" points=\"1555,-306 1323,-306 1323,-223 1555,-223 1555,-306\"/>\n<text text-anchor=\"middle\" x=\"1439\" y=\"-290.8\" font-family=\"Times,serif\" font-size=\"14.00\" fill=\"#000000\">심결요양급여비용총액 &lt;= 50595.0</text>\n<text text-anchor=\"middle\" x=\"1439\" y=\"-275.8\" font-family=\"Times,serif\" font-size=\"14.00\" fill=\"#000000\">entropy = 0.005</text>\n<text text-anchor=\"middle\" x=\"1439\" y=\"-260.8\" font-family=\"Times,serif\" font-size=\"14.00\" fill=\"#000000\">samples = 9045659</text>\n<text text-anchor=\"middle\" x=\"1439\" y=\"-245.8\" font-family=\"Times,serif\" font-size=\"14.00\" fill=\"#000000\">value = [9042378, 3281]</text>\n<text text-anchor=\"middle\" x=\"1439\" y=\"-230.8\" font-family=\"Times,serif\" font-size=\"14.00\" fill=\"#000000\">class = 입원X</text>\n</g>\n<!-- 17&#45;&gt;18 -->\n<g id=\"edge18\" class=\"edge\">\n<title>17&#45;&gt;18</title>\n<path fill=\"none\" stroke=\"#000000\" d=\"M1439,-341.8796C1439,-333.6838 1439,-324.9891 1439,-316.5013\"/>\n<polygon fill=\"#000000\" stroke=\"#000000\" points=\"1442.5001,-316.298 1439,-306.2981 1435.5001,-316.2981 1442.5001,-316.298\"/>\n</g>\n<!-- 25 -->\n<g id=\"node26\" class=\"node\">\n<title>25</title>\n<polygon fill=\"none\" stroke=\"#000000\" points=\"1981,-306 1819,-306 1819,-223 1981,-223 1981,-306\"/>\n<text text-anchor=\"middle\" x=\"1900\" y=\"-290.8\" font-family=\"Times,serif\" font-size=\"14.00\" fill=\"#000000\">진료과목코드 &lt;= 20.5</text>\n<text text-anchor=\"middle\" x=\"1900\" y=\"-275.8\" font-family=\"Times,serif\" font-size=\"14.00\" fill=\"#000000\">entropy = 0.239</text>\n<text text-anchor=\"middle\" x=\"1900\" y=\"-260.8\" font-family=\"Times,serif\" font-size=\"14.00\" fill=\"#000000\">samples = 648800</text>\n<text text-anchor=\"middle\" x=\"1900\" y=\"-245.8\" font-family=\"Times,serif\" font-size=\"14.00\" fill=\"#000000\">value = [623344, 25456]</text>\n<text text-anchor=\"middle\" x=\"1900\" y=\"-230.8\" font-family=\"Times,serif\" font-size=\"14.00\" fill=\"#000000\">class = 입원X</text>\n</g>\n<!-- 17&#45;&gt;25 -->\n<g id=\"edge25\" class=\"edge\">\n<title>17&#45;&gt;25</title>\n<path fill=\"none\" stroke=\"#000000\" d=\"M1558.6186,-352.6223C1636.7142,-332.4632 1737.1023,-306.5495 1808.7633,-288.0513\"/>\n<polygon fill=\"#000000\" stroke=\"#000000\" points=\"1809.8713,-291.3801 1818.679,-285.4917 1808.1216,-284.6023 1809.8713,-291.3801\"/>\n</g>\n<!-- 19 -->\n<g id=\"node20\" class=\"node\">\n<title>19</title>\n<polygon fill=\"none\" stroke=\"#000000\" points=\"1430.5,-187 1275.5,-187 1275.5,-104 1430.5,-104 1430.5,-187\"/>\n<text text-anchor=\"middle\" x=\"1353\" y=\"-171.8\" font-family=\"Times,serif\" font-size=\"14.00\" fill=\"#000000\">총처방일수 &lt;= 0.5</text>\n<text text-anchor=\"middle\" x=\"1353\" y=\"-156.8\" font-family=\"Times,serif\" font-size=\"14.00\" fill=\"#000000\">entropy = 0.001</text>\n<text text-anchor=\"middle\" x=\"1353\" y=\"-141.8\" font-family=\"Times,serif\" font-size=\"14.00\" fill=\"#000000\">samples = 8207374</text>\n<text text-anchor=\"middle\" x=\"1353\" y=\"-126.8\" font-family=\"Times,serif\" font-size=\"14.00\" fill=\"#000000\">value = [8206819, 555]</text>\n<text text-anchor=\"middle\" x=\"1353\" y=\"-111.8\" font-family=\"Times,serif\" font-size=\"14.00\" fill=\"#000000\">class = 입원X</text>\n</g>\n<!-- 18&#45;&gt;19 -->\n<g id=\"edge19\" class=\"edge\">\n<title>18&#45;&gt;19</title>\n<path fill=\"none\" stroke=\"#000000\" d=\"M1408.9214,-222.8796C1402.5428,-214.0534 1395.746,-204.6485 1389.1681,-195.5466\"/>\n<polygon fill=\"#000000\" stroke=\"#000000\" points=\"1391.9012,-193.353 1383.207,-187.2981 1386.2277,-197.4532 1391.9012,-193.353\"/>\n</g>\n<!-- 22 -->\n<g id=\"node23\" class=\"node\">\n<title>22</title>\n<polygon fill=\"none\" stroke=\"#000000\" points=\"1603.5,-187 1448.5,-187 1448.5,-104 1603.5,-104 1603.5,-187\"/>\n<text text-anchor=\"middle\" x=\"1526\" y=\"-171.8\" font-family=\"Times,serif\" font-size=\"14.00\" fill=\"#000000\">총처방일수 &lt;= 0.5</text>\n<text text-anchor=\"middle\" x=\"1526\" y=\"-156.8\" font-family=\"Times,serif\" font-size=\"14.00\" fill=\"#000000\">entropy = 0.032</text>\n<text text-anchor=\"middle\" x=\"1526\" y=\"-141.8\" font-family=\"Times,serif\" font-size=\"14.00\" fill=\"#000000\">samples = 838285</text>\n<text text-anchor=\"middle\" x=\"1526\" y=\"-126.8\" font-family=\"Times,serif\" font-size=\"14.00\" fill=\"#000000\">value = [835559, 2726]</text>\n<text text-anchor=\"middle\" x=\"1526\" y=\"-111.8\" font-family=\"Times,serif\" font-size=\"14.00\" fill=\"#000000\">class = 입원X</text>\n</g>\n<!-- 18&#45;&gt;22 -->\n<g id=\"edge22\" class=\"edge\">\n<title>18&#45;&gt;22</title>\n<path fill=\"none\" stroke=\"#000000\" d=\"M1469.4284,-222.8796C1475.8811,-214.0534 1482.757,-204.6485 1489.4113,-195.5466\"/>\n<polygon fill=\"#000000\" stroke=\"#000000\" points=\"1492.3653,-197.4364 1495.4417,-187.2981 1486.7144,-193.3051 1492.3653,-197.4364\"/>\n</g>\n<!-- 20 -->\n<g id=\"node21\" class=\"node\">\n<title>20</title>\n<polygon fill=\"none\" stroke=\"#000000\" points=\"1263.5,-68 1108.5,-68 1108.5,0 1263.5,0 1263.5,-68\"/>\n<text text-anchor=\"middle\" x=\"1186\" y=\"-52.8\" font-family=\"Times,serif\" font-size=\"14.00\" fill=\"#000000\">entropy = 0.004</text>\n<text text-anchor=\"middle\" x=\"1186\" y=\"-37.8\" font-family=\"Times,serif\" font-size=\"14.00\" fill=\"#000000\">samples = 1589158</text>\n<text text-anchor=\"middle\" x=\"1186\" y=\"-22.8\" font-family=\"Times,serif\" font-size=\"14.00\" fill=\"#000000\">value = [1588644, 514]</text>\n<text text-anchor=\"middle\" x=\"1186\" y=\"-7.8\" font-family=\"Times,serif\" font-size=\"14.00\" fill=\"#000000\">class = 입원X</text>\n</g>\n<!-- 19&#45;&gt;20 -->\n<g id=\"edge20\" class=\"edge\">\n<title>19&#45;&gt;20</title>\n<path fill=\"none\" stroke=\"#000000\" d=\"M1290.8154,-103.9815C1276.0089,-94.0957 1260.2441,-83.5701 1245.5585,-73.7651\"/>\n<polygon fill=\"#000000\" stroke=\"#000000\" points=\"1247.3122,-70.7276 1237.052,-68.0856 1243.4252,-76.5493 1247.3122,-70.7276\"/>\n</g>\n<!-- 21 -->\n<g id=\"node22\" class=\"node\">\n<title>21</title>\n<polygon fill=\"none\" stroke=\"#000000\" points=\"1428.5,-68 1281.5,-68 1281.5,0 1428.5,0 1428.5,-68\"/>\n<text text-anchor=\"middle\" x=\"1355\" y=\"-52.8\" font-family=\"Times,serif\" font-size=\"14.00\" fill=\"#000000\">entropy = 0.0</text>\n<text text-anchor=\"middle\" x=\"1355\" y=\"-37.8\" font-family=\"Times,serif\" font-size=\"14.00\" fill=\"#000000\">samples = 6618216</text>\n<text text-anchor=\"middle\" x=\"1355\" y=\"-22.8\" font-family=\"Times,serif\" font-size=\"14.00\" fill=\"#000000\">value = [6618175, 41]</text>\n<text text-anchor=\"middle\" x=\"1355\" y=\"-7.8\" font-family=\"Times,serif\" font-size=\"14.00\" fill=\"#000000\">class = 입원X</text>\n</g>\n<!-- 19&#45;&gt;21 -->\n<g id=\"edge21\" class=\"edge\">\n<title>19&#45;&gt;21</title>\n<path fill=\"none\" stroke=\"#000000\" d=\"M1353.7447,-103.9815C1353.8947,-95.618 1354.053,-86.7965 1354.2046,-78.3409\"/>\n<polygon fill=\"#000000\" stroke=\"#000000\" points=\"1357.7054,-78.3249 1354.3854,-68.2637 1350.7065,-78.1993 1357.7054,-78.3249\"/>\n</g>\n<!-- 23 -->\n<g id=\"node24\" class=\"node\">\n<title>23</title>\n<polygon fill=\"none\" stroke=\"#000000\" points=\"1601.5,-68 1446.5,-68 1446.5,0 1601.5,0 1601.5,-68\"/>\n<text text-anchor=\"middle\" x=\"1524\" y=\"-52.8\" font-family=\"Times,serif\" font-size=\"14.00\" fill=\"#000000\">entropy = 0.061</text>\n<text text-anchor=\"middle\" x=\"1524\" y=\"-37.8\" font-family=\"Times,serif\" font-size=\"14.00\" fill=\"#000000\">samples = 360254</text>\n<text text-anchor=\"middle\" x=\"1524\" y=\"-22.8\" font-family=\"Times,serif\" font-size=\"14.00\" fill=\"#000000\">value = [357699, 2555]</text>\n<text text-anchor=\"middle\" x=\"1524\" y=\"-7.8\" font-family=\"Times,serif\" font-size=\"14.00\" fill=\"#000000\">class = 입원X</text>\n</g>\n<!-- 22&#45;&gt;23 -->\n<g id=\"edge23\" class=\"edge\">\n<title>22&#45;&gt;23</title>\n<path fill=\"none\" stroke=\"#000000\" d=\"M1525.2553,-103.9815C1525.1053,-95.618 1524.947,-86.7965 1524.7954,-78.3409\"/>\n<polygon fill=\"#000000\" stroke=\"#000000\" points=\"1528.2935,-78.1993 1524.6146,-68.2637 1521.2946,-78.3249 1528.2935,-78.1993\"/>\n</g>\n<!-- 24 -->\n<g id=\"node25\" class=\"node\">\n<title>24</title>\n<polygon fill=\"none\" stroke=\"#000000\" points=\"1766.5,-68 1619.5,-68 1619.5,0 1766.5,0 1766.5,-68\"/>\n<text text-anchor=\"middle\" x=\"1693\" y=\"-52.8\" font-family=\"Times,serif\" font-size=\"14.00\" fill=\"#000000\">entropy = 0.005</text>\n<text text-anchor=\"middle\" x=\"1693\" y=\"-37.8\" font-family=\"Times,serif\" font-size=\"14.00\" fill=\"#000000\">samples = 478031</text>\n<text text-anchor=\"middle\" x=\"1693\" y=\"-22.8\" font-family=\"Times,serif\" font-size=\"14.00\" fill=\"#000000\">value = [477860, 171]</text>\n<text text-anchor=\"middle\" x=\"1693\" y=\"-7.8\" font-family=\"Times,serif\" font-size=\"14.00\" fill=\"#000000\">class = 입원X</text>\n</g>\n<!-- 22&#45;&gt;24 -->\n<g id=\"edge24\" class=\"edge\">\n<title>22&#45;&gt;24</title>\n<path fill=\"none\" stroke=\"#000000\" d=\"M1588.1846,-103.9815C1602.9911,-94.0957 1618.7559,-83.5701 1633.4415,-73.7651\"/>\n<polygon fill=\"#000000\" stroke=\"#000000\" points=\"1635.5748,-76.5493 1641.948,-68.0856 1631.6878,-70.7276 1635.5748,-76.5493\"/>\n</g>\n<!-- 26 -->\n<g id=\"node27\" class=\"node\">\n<title>26</title>\n<polygon fill=\"none\" stroke=\"#000000\" points=\"2019.5,-187 1780.5,-187 1780.5,-104 2019.5,-104 2019.5,-187\"/>\n<text text-anchor=\"middle\" x=\"1900\" y=\"-171.8\" font-family=\"Times,serif\" font-size=\"14.00\" fill=\"#000000\">심결요양급여비용총액 &lt;= 545005.0</text>\n<text text-anchor=\"middle\" x=\"1900\" y=\"-156.8\" font-family=\"Times,serif\" font-size=\"14.00\" fill=\"#000000\">entropy = 0.139</text>\n<text text-anchor=\"middle\" x=\"1900\" y=\"-141.8\" font-family=\"Times,serif\" font-size=\"14.00\" fill=\"#000000\">samples = 594954</text>\n<text text-anchor=\"middle\" x=\"1900\" y=\"-126.8\" font-family=\"Times,serif\" font-size=\"14.00\" fill=\"#000000\">value = [583265, 11689]</text>\n<text text-anchor=\"middle\" x=\"1900\" y=\"-111.8\" font-family=\"Times,serif\" font-size=\"14.00\" fill=\"#000000\">class = 입원X</text>\n</g>\n<!-- 25&#45;&gt;26 -->\n<g id=\"edge26\" class=\"edge\">\n<title>25&#45;&gt;26</title>\n<path fill=\"none\" stroke=\"#000000\" d=\"M1900,-222.8796C1900,-214.6838 1900,-205.9891 1900,-197.5013\"/>\n<polygon fill=\"#000000\" stroke=\"#000000\" points=\"1903.5001,-197.298 1900,-187.2981 1896.5001,-197.2981 1903.5001,-197.298\"/>\n</g>\n<!-- 29 -->\n<g id=\"node30\" class=\"node\">\n<title>29</title>\n<polygon fill=\"none\" stroke=\"#000000\" points=\"2315.5,-187 2076.5,-187 2076.5,-104 2315.5,-104 2315.5,-187\"/>\n<text text-anchor=\"middle\" x=\"2196\" y=\"-171.8\" font-family=\"Times,serif\" font-size=\"14.00\" fill=\"#000000\">심결요양급여비용총액 &lt;= 263890.0</text>\n<text text-anchor=\"middle\" x=\"2196\" y=\"-156.8\" font-family=\"Times,serif\" font-size=\"14.00\" fill=\"#000000\">entropy = 0.82</text>\n<text text-anchor=\"middle\" x=\"2196\" y=\"-141.8\" font-family=\"Times,serif\" font-size=\"14.00\" fill=\"#000000\">samples = 53846</text>\n<text text-anchor=\"middle\" x=\"2196\" y=\"-126.8\" font-family=\"Times,serif\" font-size=\"14.00\" fill=\"#000000\">value = [40079, 13767]</text>\n<text text-anchor=\"middle\" x=\"2196\" y=\"-111.8\" font-family=\"Times,serif\" font-size=\"14.00\" fill=\"#000000\">class = 입원X</text>\n</g>\n<!-- 25&#45;&gt;29 -->\n<g id=\"edge29\" class=\"edge\">\n<title>25&#45;&gt;29</title>\n<path fill=\"none\" stroke=\"#000000\" d=\"M1981.2748,-231.8253C2012.7192,-219.1838 2049.246,-204.4991 2083.1587,-190.8653\"/>\n<polygon fill=\"#000000\" stroke=\"#000000\" points=\"2084.6754,-194.0278 2092.6481,-187.0503 2082.0643,-187.533 2084.6754,-194.0278\"/>\n</g>\n<!-- 27 -->\n<g id=\"node28\" class=\"node\">\n<title>27</title>\n<polygon fill=\"none\" stroke=\"#000000\" points=\"1939.5,-68 1784.5,-68 1784.5,0 1939.5,0 1939.5,-68\"/>\n<text text-anchor=\"middle\" x=\"1862\" y=\"-52.8\" font-family=\"Times,serif\" font-size=\"14.00\" fill=\"#000000\">entropy = 0.059</text>\n<text text-anchor=\"middle\" x=\"1862\" y=\"-37.8\" font-family=\"Times,serif\" font-size=\"14.00\" fill=\"#000000\">samples = 548379</text>\n<text text-anchor=\"middle\" x=\"1862\" y=\"-22.8\" font-family=\"Times,serif\" font-size=\"14.00\" fill=\"#000000\">value = [544602, 3777]</text>\n<text text-anchor=\"middle\" x=\"1862\" y=\"-7.8\" font-family=\"Times,serif\" font-size=\"14.00\" fill=\"#000000\">class = 입원X</text>\n</g>\n<!-- 26&#45;&gt;27 -->\n<g id=\"edge27\" class=\"edge\">\n<title>26&#45;&gt;27</title>\n<path fill=\"none\" stroke=\"#000000\" d=\"M1885.8502,-103.9815C1882.9372,-95.4342 1879.8612,-86.4086 1876.9219,-77.7839\"/>\n<polygon fill=\"#000000\" stroke=\"#000000\" points=\"1880.2161,-76.6 1873.6773,-68.2637 1873.5904,-78.8582 1880.2161,-76.6\"/>\n</g>\n<!-- 28 -->\n<g id=\"node29\" class=\"node\">\n<title>28</title>\n<polygon fill=\"none\" stroke=\"#000000\" points=\"2104.5,-68 1957.5,-68 1957.5,0 2104.5,0 2104.5,-68\"/>\n<text text-anchor=\"middle\" x=\"2031\" y=\"-52.8\" font-family=\"Times,serif\" font-size=\"14.00\" fill=\"#000000\">entropy = 0.657</text>\n<text text-anchor=\"middle\" x=\"2031\" y=\"-37.8\" font-family=\"Times,serif\" font-size=\"14.00\" fill=\"#000000\">samples = 46575</text>\n<text text-anchor=\"middle\" x=\"2031\" y=\"-22.8\" font-family=\"Times,serif\" font-size=\"14.00\" fill=\"#000000\">value = [38663, 7912]</text>\n<text text-anchor=\"middle\" x=\"2031\" y=\"-7.8\" font-family=\"Times,serif\" font-size=\"14.00\" fill=\"#000000\">class = 입원X</text>\n</g>\n<!-- 26&#45;&gt;28 -->\n<g id=\"edge28\" class=\"edge\">\n<title>26&#45;&gt;28</title>\n<path fill=\"none\" stroke=\"#000000\" d=\"M1948.7796,-103.9815C1959.9015,-94.5151 1971.7128,-84.462 1982.8099,-75.0168\"/>\n<polygon fill=\"#000000\" stroke=\"#000000\" points=\"1985.3975,-77.4105 1990.744,-68.2637 1980.8604,-72.08 1985.3975,-77.4105\"/>\n</g>\n<!-- 30 -->\n<g id=\"node31\" class=\"node\">\n<title>30</title>\n<polygon fill=\"none\" stroke=\"#000000\" points=\"2269.5,-68 2122.5,-68 2122.5,0 2269.5,0 2269.5,-68\"/>\n<text text-anchor=\"middle\" x=\"2196\" y=\"-52.8\" font-family=\"Times,serif\" font-size=\"14.00\" fill=\"#000000\">entropy = 0.669</text>\n<text text-anchor=\"middle\" x=\"2196\" y=\"-37.8\" font-family=\"Times,serif\" font-size=\"14.00\" fill=\"#000000\">samples = 37042</text>\n<text text-anchor=\"middle\" x=\"2196\" y=\"-22.8\" font-family=\"Times,serif\" font-size=\"14.00\" fill=\"#000000\">value = [30568, 6474]</text>\n<text text-anchor=\"middle\" x=\"2196\" y=\"-7.8\" font-family=\"Times,serif\" font-size=\"14.00\" fill=\"#000000\">class = 입원X</text>\n</g>\n<!-- 29&#45;&gt;30 -->\n<g id=\"edge30\" class=\"edge\">\n<title>29&#45;&gt;30</title>\n<path fill=\"none\" stroke=\"#000000\" d=\"M2196,-103.9815C2196,-95.618 2196,-86.7965 2196,-78.3409\"/>\n<polygon fill=\"#000000\" stroke=\"#000000\" points=\"2199.5001,-78.2636 2196,-68.2637 2192.5001,-78.2637 2199.5001,-78.2636\"/>\n</g>\n<!-- 31 -->\n<g id=\"node32\" class=\"node\">\n<title>31</title>\n<polygon fill=\"none\" stroke=\"#000000\" points=\"2426.5,-68 2287.5,-68 2287.5,0 2426.5,0 2426.5,-68\"/>\n<text text-anchor=\"middle\" x=\"2357\" y=\"-52.8\" font-family=\"Times,serif\" font-size=\"14.00\" fill=\"#000000\">entropy = 0.987</text>\n<text text-anchor=\"middle\" x=\"2357\" y=\"-37.8\" font-family=\"Times,serif\" font-size=\"14.00\" fill=\"#000000\">samples = 16804</text>\n<text text-anchor=\"middle\" x=\"2357\" y=\"-22.8\" font-family=\"Times,serif\" font-size=\"14.00\" fill=\"#000000\">value = [9511, 7293]</text>\n<text text-anchor=\"middle\" x=\"2357\" y=\"-7.8\" font-family=\"Times,serif\" font-size=\"14.00\" fill=\"#000000\">class = 입원X</text>\n</g>\n<!-- 29&#45;&gt;31 -->\n<g id=\"edge31\" class=\"edge\">\n<title>29&#45;&gt;31</title>\n<path fill=\"none\" stroke=\"#000000\" d=\"M2255.9505,-103.9815C2270.0916,-94.1881 2285.1394,-83.7668 2299.1841,-74.0402\"/>\n<polygon fill=\"#000000\" stroke=\"#000000\" points=\"2301.5539,-76.6565 2307.7822,-68.0856 2297.5685,-70.9017 2301.5539,-76.6565\"/>\n</g>\n</g>\n</svg>\n"
          },
          "metadata": {},
          "execution_count": 28
        }
      ]
    },
    {
      "cell_type": "code",
      "metadata": {
        "id": "FlalcDYCVnaT"
      },
      "source": [
        "df.drop(['시도명','진료과목코드'], axis = 1, inplace = True)"
      ],
      "execution_count": 30,
      "outputs": []
    },
    {
      "cell_type": "markdown",
      "metadata": {
        "id": "AApWN998Zi8Y"
      },
      "source": [
        "범주형 데이터 변환 "
      ]
    },
    {
      "cell_type": "code",
      "metadata": {
        "id": "1_AeNDLBZ4Je"
      },
      "source": [
        "df_onehot = pd.get_dummies(df, columns= ['주상병코드', '부상병코드','연령대코드','진료과목'])"
      ],
      "execution_count": 6,
      "outputs": []
    },
    {
      "cell_type": "code",
      "metadata": {
        "colab": {
          "base_uri": "https://localhost:8080/",
          "height": 706
        },
        "id": "2-tCMI_JaD4l",
        "outputId": "ae1e21ec-0952-4a17-9ef2-6646384f31fe"
      },
      "source": [
        "df_onehot.head()"
      ],
      "execution_count": 7,
      "outputs": [
        {
          "output_type": "execute_result",
          "data": {
            "text/html": [
              "<div>\n",
              "<style scoped>\n",
              "    .dataframe tbody tr th:only-of-type {\n",
              "        vertical-align: middle;\n",
              "    }\n",
              "\n",
              "    .dataframe tbody tr th {\n",
              "        vertical-align: top;\n",
              "    }\n",
              "\n",
              "    .dataframe thead th {\n",
              "        text-align: right;\n",
              "    }\n",
              "</style>\n",
              "<table border=\"1\" class=\"dataframe\">\n",
              "  <thead>\n",
              "    <tr style=\"text-align: right;\">\n",
              "      <th></th>\n",
              "      <th>성별코드</th>\n",
              "      <th>입원여부</th>\n",
              "      <th>요양일수</th>\n",
              "      <th>입내원일수</th>\n",
              "      <th>심결가산율</th>\n",
              "      <th>심결요양급여비용총액</th>\n",
              "      <th>총처방일수</th>\n",
              "      <th>시도명</th>\n",
              "      <th>주상병코드_A</th>\n",
              "      <th>주상병코드_B</th>\n",
              "      <th>주상병코드_C</th>\n",
              "      <th>주상병코드_D</th>\n",
              "      <th>주상병코드_E</th>\n",
              "      <th>주상병코드_F</th>\n",
              "      <th>주상병코드_G</th>\n",
              "      <th>주상병코드_H</th>\n",
              "      <th>주상병코드_I</th>\n",
              "      <th>주상병코드_J</th>\n",
              "      <th>주상병코드_K</th>\n",
              "      <th>주상병코드_L</th>\n",
              "      <th>주상병코드_M</th>\n",
              "      <th>주상병코드_N</th>\n",
              "      <th>주상병코드_O</th>\n",
              "      <th>주상병코드_P</th>\n",
              "      <th>주상병코드_Q</th>\n",
              "      <th>주상병코드_R</th>\n",
              "      <th>주상병코드_S</th>\n",
              "      <th>주상병코드_T</th>\n",
              "      <th>주상병코드_U</th>\n",
              "      <th>주상병코드_Z</th>\n",
              "      <th>부상병코드_A</th>\n",
              "      <th>부상병코드_B</th>\n",
              "      <th>부상병코드_C</th>\n",
              "      <th>부상병코드_D</th>\n",
              "      <th>부상병코드_E</th>\n",
              "      <th>부상병코드_F</th>\n",
              "      <th>부상병코드_G</th>\n",
              "      <th>부상병코드_H</th>\n",
              "      <th>부상병코드_I</th>\n",
              "      <th>부상병코드_J</th>\n",
              "      <th>...</th>\n",
              "      <th>연령대코드_20</th>\n",
              "      <th>연령대코드_30</th>\n",
              "      <th>연령대코드_40</th>\n",
              "      <th>연령대코드_50</th>\n",
              "      <th>연령대코드_60</th>\n",
              "      <th>연령대코드_70</th>\n",
              "      <th>연령대코드_80</th>\n",
              "      <th>진료과목_가정의학과</th>\n",
              "      <th>진료과목_결핵과</th>\n",
              "      <th>진료과목_구강악안면외과</th>\n",
              "      <th>진료과목_내과</th>\n",
              "      <th>진료과목_마취통증의학과</th>\n",
              "      <th>진료과목_방사선종양학과</th>\n",
              "      <th>진료과목_병리과</th>\n",
              "      <th>진료과목_비뇨의학과</th>\n",
              "      <th>진료과목_산부인과</th>\n",
              "      <th>진료과목_성형외과</th>\n",
              "      <th>진료과목_소아청소년과</th>\n",
              "      <th>진료과목_신경과</th>\n",
              "      <th>진료과목_신경외과</th>\n",
              "      <th>진료과목_안과</th>\n",
              "      <th>진료과목_영상의학과</th>\n",
              "      <th>진료과목_예방의학과</th>\n",
              "      <th>진료과목_외과</th>\n",
              "      <th>진료과목_응급의학과</th>\n",
              "      <th>진료과목_이비인후과</th>\n",
              "      <th>진료과목_일반의</th>\n",
              "      <th>진료과목_재활의학과</th>\n",
              "      <th>진료과목_정신건강의학과</th>\n",
              "      <th>진료과목_정형외과</th>\n",
              "      <th>진료과목_직업환경의학과</th>\n",
              "      <th>진료과목_진단검사의학과</th>\n",
              "      <th>진료과목_치과교정과</th>\n",
              "      <th>진료과목_치과보존과</th>\n",
              "      <th>진료과목_피부과</th>\n",
              "      <th>진료과목_한방내과</th>\n",
              "      <th>진료과목_한방응급</th>\n",
              "      <th>진료과목_한방재활의학과</th>\n",
              "      <th>진료과목_핵의학과</th>\n",
              "      <th>진료과목_흉부외과</th>\n",
              "    </tr>\n",
              "  </thead>\n",
              "  <tbody>\n",
              "    <tr>\n",
              "      <th>0</th>\n",
              "      <td>2</td>\n",
              "      <td>0</td>\n",
              "      <td>1</td>\n",
              "      <td>1</td>\n",
              "      <td>0.25</td>\n",
              "      <td>19240</td>\n",
              "      <td>0</td>\n",
              "      <td>전라남도</td>\n",
              "      <td>0</td>\n",
              "      <td>0</td>\n",
              "      <td>0</td>\n",
              "      <td>0</td>\n",
              "      <td>0</td>\n",
              "      <td>0</td>\n",
              "      <td>0</td>\n",
              "      <td>0</td>\n",
              "      <td>0</td>\n",
              "      <td>0</td>\n",
              "      <td>0</td>\n",
              "      <td>0</td>\n",
              "      <td>1</td>\n",
              "      <td>0</td>\n",
              "      <td>0</td>\n",
              "      <td>0</td>\n",
              "      <td>0</td>\n",
              "      <td>0</td>\n",
              "      <td>0</td>\n",
              "      <td>0</td>\n",
              "      <td>0</td>\n",
              "      <td>0</td>\n",
              "      <td>0</td>\n",
              "      <td>0</td>\n",
              "      <td>0</td>\n",
              "      <td>0</td>\n",
              "      <td>0</td>\n",
              "      <td>0</td>\n",
              "      <td>0</td>\n",
              "      <td>0</td>\n",
              "      <td>0</td>\n",
              "      <td>0</td>\n",
              "      <td>...</td>\n",
              "      <td>0</td>\n",
              "      <td>0</td>\n",
              "      <td>0</td>\n",
              "      <td>1</td>\n",
              "      <td>0</td>\n",
              "      <td>0</td>\n",
              "      <td>0</td>\n",
              "      <td>0</td>\n",
              "      <td>0</td>\n",
              "      <td>0</td>\n",
              "      <td>0</td>\n",
              "      <td>0</td>\n",
              "      <td>0</td>\n",
              "      <td>0</td>\n",
              "      <td>0</td>\n",
              "      <td>0</td>\n",
              "      <td>0</td>\n",
              "      <td>0</td>\n",
              "      <td>0</td>\n",
              "      <td>0</td>\n",
              "      <td>0</td>\n",
              "      <td>0</td>\n",
              "      <td>0</td>\n",
              "      <td>0</td>\n",
              "      <td>0</td>\n",
              "      <td>0</td>\n",
              "      <td>0</td>\n",
              "      <td>0</td>\n",
              "      <td>0</td>\n",
              "      <td>1</td>\n",
              "      <td>0</td>\n",
              "      <td>0</td>\n",
              "      <td>0</td>\n",
              "      <td>0</td>\n",
              "      <td>0</td>\n",
              "      <td>0</td>\n",
              "      <td>0</td>\n",
              "      <td>0</td>\n",
              "      <td>0</td>\n",
              "      <td>0</td>\n",
              "    </tr>\n",
              "    <tr>\n",
              "      <th>1</th>\n",
              "      <td>2</td>\n",
              "      <td>0</td>\n",
              "      <td>1</td>\n",
              "      <td>1</td>\n",
              "      <td>0.25</td>\n",
              "      <td>145680</td>\n",
              "      <td>0</td>\n",
              "      <td>전라남도</td>\n",
              "      <td>0</td>\n",
              "      <td>0</td>\n",
              "      <td>0</td>\n",
              "      <td>0</td>\n",
              "      <td>1</td>\n",
              "      <td>0</td>\n",
              "      <td>0</td>\n",
              "      <td>0</td>\n",
              "      <td>0</td>\n",
              "      <td>0</td>\n",
              "      <td>0</td>\n",
              "      <td>0</td>\n",
              "      <td>0</td>\n",
              "      <td>0</td>\n",
              "      <td>0</td>\n",
              "      <td>0</td>\n",
              "      <td>0</td>\n",
              "      <td>0</td>\n",
              "      <td>0</td>\n",
              "      <td>0</td>\n",
              "      <td>0</td>\n",
              "      <td>0</td>\n",
              "      <td>0</td>\n",
              "      <td>0</td>\n",
              "      <td>0</td>\n",
              "      <td>0</td>\n",
              "      <td>0</td>\n",
              "      <td>0</td>\n",
              "      <td>0</td>\n",
              "      <td>0</td>\n",
              "      <td>0</td>\n",
              "      <td>0</td>\n",
              "      <td>...</td>\n",
              "      <td>0</td>\n",
              "      <td>0</td>\n",
              "      <td>0</td>\n",
              "      <td>1</td>\n",
              "      <td>0</td>\n",
              "      <td>0</td>\n",
              "      <td>0</td>\n",
              "      <td>0</td>\n",
              "      <td>0</td>\n",
              "      <td>0</td>\n",
              "      <td>1</td>\n",
              "      <td>0</td>\n",
              "      <td>0</td>\n",
              "      <td>0</td>\n",
              "      <td>0</td>\n",
              "      <td>0</td>\n",
              "      <td>0</td>\n",
              "      <td>0</td>\n",
              "      <td>0</td>\n",
              "      <td>0</td>\n",
              "      <td>0</td>\n",
              "      <td>0</td>\n",
              "      <td>0</td>\n",
              "      <td>0</td>\n",
              "      <td>0</td>\n",
              "      <td>0</td>\n",
              "      <td>0</td>\n",
              "      <td>0</td>\n",
              "      <td>0</td>\n",
              "      <td>0</td>\n",
              "      <td>0</td>\n",
              "      <td>0</td>\n",
              "      <td>0</td>\n",
              "      <td>0</td>\n",
              "      <td>0</td>\n",
              "      <td>0</td>\n",
              "      <td>0</td>\n",
              "      <td>0</td>\n",
              "      <td>0</td>\n",
              "      <td>0</td>\n",
              "    </tr>\n",
              "    <tr>\n",
              "      <th>2</th>\n",
              "      <td>2</td>\n",
              "      <td>0</td>\n",
              "      <td>1</td>\n",
              "      <td>1</td>\n",
              "      <td>0.25</td>\n",
              "      <td>13240</td>\n",
              "      <td>3</td>\n",
              "      <td>전라남도</td>\n",
              "      <td>0</td>\n",
              "      <td>0</td>\n",
              "      <td>0</td>\n",
              "      <td>0</td>\n",
              "      <td>0</td>\n",
              "      <td>0</td>\n",
              "      <td>0</td>\n",
              "      <td>0</td>\n",
              "      <td>0</td>\n",
              "      <td>0</td>\n",
              "      <td>0</td>\n",
              "      <td>0</td>\n",
              "      <td>0</td>\n",
              "      <td>1</td>\n",
              "      <td>0</td>\n",
              "      <td>0</td>\n",
              "      <td>0</td>\n",
              "      <td>0</td>\n",
              "      <td>0</td>\n",
              "      <td>0</td>\n",
              "      <td>0</td>\n",
              "      <td>0</td>\n",
              "      <td>0</td>\n",
              "      <td>0</td>\n",
              "      <td>0</td>\n",
              "      <td>0</td>\n",
              "      <td>1</td>\n",
              "      <td>0</td>\n",
              "      <td>0</td>\n",
              "      <td>0</td>\n",
              "      <td>0</td>\n",
              "      <td>0</td>\n",
              "      <td>...</td>\n",
              "      <td>0</td>\n",
              "      <td>0</td>\n",
              "      <td>0</td>\n",
              "      <td>1</td>\n",
              "      <td>0</td>\n",
              "      <td>0</td>\n",
              "      <td>0</td>\n",
              "      <td>0</td>\n",
              "      <td>0</td>\n",
              "      <td>0</td>\n",
              "      <td>1</td>\n",
              "      <td>0</td>\n",
              "      <td>0</td>\n",
              "      <td>0</td>\n",
              "      <td>0</td>\n",
              "      <td>0</td>\n",
              "      <td>0</td>\n",
              "      <td>0</td>\n",
              "      <td>0</td>\n",
              "      <td>0</td>\n",
              "      <td>0</td>\n",
              "      <td>0</td>\n",
              "      <td>0</td>\n",
              "      <td>0</td>\n",
              "      <td>0</td>\n",
              "      <td>0</td>\n",
              "      <td>0</td>\n",
              "      <td>0</td>\n",
              "      <td>0</td>\n",
              "      <td>0</td>\n",
              "      <td>0</td>\n",
              "      <td>0</td>\n",
              "      <td>0</td>\n",
              "      <td>0</td>\n",
              "      <td>0</td>\n",
              "      <td>0</td>\n",
              "      <td>0</td>\n",
              "      <td>0</td>\n",
              "      <td>0</td>\n",
              "      <td>0</td>\n",
              "    </tr>\n",
              "    <tr>\n",
              "      <th>3</th>\n",
              "      <td>2</td>\n",
              "      <td>1</td>\n",
              "      <td>7</td>\n",
              "      <td>21</td>\n",
              "      <td>0.25</td>\n",
              "      <td>861590</td>\n",
              "      <td>0</td>\n",
              "      <td>전라남도</td>\n",
              "      <td>0</td>\n",
              "      <td>0</td>\n",
              "      <td>0</td>\n",
              "      <td>0</td>\n",
              "      <td>1</td>\n",
              "      <td>0</td>\n",
              "      <td>0</td>\n",
              "      <td>0</td>\n",
              "      <td>0</td>\n",
              "      <td>0</td>\n",
              "      <td>0</td>\n",
              "      <td>0</td>\n",
              "      <td>0</td>\n",
              "      <td>0</td>\n",
              "      <td>0</td>\n",
              "      <td>0</td>\n",
              "      <td>0</td>\n",
              "      <td>0</td>\n",
              "      <td>0</td>\n",
              "      <td>0</td>\n",
              "      <td>0</td>\n",
              "      <td>0</td>\n",
              "      <td>0</td>\n",
              "      <td>0</td>\n",
              "      <td>0</td>\n",
              "      <td>0</td>\n",
              "      <td>0</td>\n",
              "      <td>0</td>\n",
              "      <td>0</td>\n",
              "      <td>0</td>\n",
              "      <td>0</td>\n",
              "      <td>0</td>\n",
              "      <td>...</td>\n",
              "      <td>0</td>\n",
              "      <td>0</td>\n",
              "      <td>0</td>\n",
              "      <td>1</td>\n",
              "      <td>0</td>\n",
              "      <td>0</td>\n",
              "      <td>0</td>\n",
              "      <td>0</td>\n",
              "      <td>0</td>\n",
              "      <td>0</td>\n",
              "      <td>1</td>\n",
              "      <td>0</td>\n",
              "      <td>0</td>\n",
              "      <td>0</td>\n",
              "      <td>0</td>\n",
              "      <td>0</td>\n",
              "      <td>0</td>\n",
              "      <td>0</td>\n",
              "      <td>0</td>\n",
              "      <td>0</td>\n",
              "      <td>0</td>\n",
              "      <td>0</td>\n",
              "      <td>0</td>\n",
              "      <td>0</td>\n",
              "      <td>0</td>\n",
              "      <td>0</td>\n",
              "      <td>0</td>\n",
              "      <td>0</td>\n",
              "      <td>0</td>\n",
              "      <td>0</td>\n",
              "      <td>0</td>\n",
              "      <td>0</td>\n",
              "      <td>0</td>\n",
              "      <td>0</td>\n",
              "      <td>0</td>\n",
              "      <td>0</td>\n",
              "      <td>0</td>\n",
              "      <td>0</td>\n",
              "      <td>0</td>\n",
              "      <td>0</td>\n",
              "    </tr>\n",
              "    <tr>\n",
              "      <th>4</th>\n",
              "      <td>2</td>\n",
              "      <td>0</td>\n",
              "      <td>1</td>\n",
              "      <td>1</td>\n",
              "      <td>0.15</td>\n",
              "      <td>48440</td>\n",
              "      <td>3</td>\n",
              "      <td>전라남도</td>\n",
              "      <td>0</td>\n",
              "      <td>0</td>\n",
              "      <td>0</td>\n",
              "      <td>0</td>\n",
              "      <td>0</td>\n",
              "      <td>0</td>\n",
              "      <td>0</td>\n",
              "      <td>1</td>\n",
              "      <td>0</td>\n",
              "      <td>0</td>\n",
              "      <td>0</td>\n",
              "      <td>0</td>\n",
              "      <td>0</td>\n",
              "      <td>0</td>\n",
              "      <td>0</td>\n",
              "      <td>0</td>\n",
              "      <td>0</td>\n",
              "      <td>0</td>\n",
              "      <td>0</td>\n",
              "      <td>0</td>\n",
              "      <td>0</td>\n",
              "      <td>0</td>\n",
              "      <td>0</td>\n",
              "      <td>0</td>\n",
              "      <td>0</td>\n",
              "      <td>0</td>\n",
              "      <td>0</td>\n",
              "      <td>0</td>\n",
              "      <td>0</td>\n",
              "      <td>0</td>\n",
              "      <td>0</td>\n",
              "      <td>1</td>\n",
              "      <td>...</td>\n",
              "      <td>0</td>\n",
              "      <td>0</td>\n",
              "      <td>0</td>\n",
              "      <td>1</td>\n",
              "      <td>0</td>\n",
              "      <td>0</td>\n",
              "      <td>0</td>\n",
              "      <td>0</td>\n",
              "      <td>0</td>\n",
              "      <td>0</td>\n",
              "      <td>0</td>\n",
              "      <td>0</td>\n",
              "      <td>0</td>\n",
              "      <td>0</td>\n",
              "      <td>0</td>\n",
              "      <td>0</td>\n",
              "      <td>0</td>\n",
              "      <td>0</td>\n",
              "      <td>0</td>\n",
              "      <td>0</td>\n",
              "      <td>0</td>\n",
              "      <td>0</td>\n",
              "      <td>0</td>\n",
              "      <td>0</td>\n",
              "      <td>0</td>\n",
              "      <td>1</td>\n",
              "      <td>0</td>\n",
              "      <td>0</td>\n",
              "      <td>0</td>\n",
              "      <td>0</td>\n",
              "      <td>0</td>\n",
              "      <td>0</td>\n",
              "      <td>0</td>\n",
              "      <td>0</td>\n",
              "      <td>0</td>\n",
              "      <td>0</td>\n",
              "      <td>0</td>\n",
              "      <td>0</td>\n",
              "      <td>0</td>\n",
              "      <td>0</td>\n",
              "    </tr>\n",
              "  </tbody>\n",
              "</table>\n",
              "<p>5 rows × 98 columns</p>\n",
              "</div>"
            ],
            "text/plain": [
              "   성별코드  입원여부  요양일수  입내원일수  ...  진료과목_한방응급  진료과목_한방재활의학과  진료과목_핵의학과 진료과목_흉부외과\n",
              "0     2     0     1      1  ...          0             0          0         0\n",
              "1     2     0     1      1  ...          0             0          0         0\n",
              "2     2     0     1      1  ...          0             0          0         0\n",
              "3     2     1     7     21  ...          0             0          0         0\n",
              "4     2     0     1      1  ...          0             0          0         0\n",
              "\n",
              "[5 rows x 98 columns]"
            ]
          },
          "metadata": {},
          "execution_count": 7
        }
      ]
    },
    {
      "cell_type": "code",
      "metadata": {
        "colab": {
          "base_uri": "https://localhost:8080/"
        },
        "id": "BfheJXx0av8D",
        "outputId": "ce40c97e-acbe-4b62-b5eb-29cfffa84d71"
      },
      "source": [
        "from sklearn.metrics import matthews_corrcoef\n",
        "\n",
        "matthews_corrcoef(df_onehot['입원여부'], df_onehot['주상병코드_A'])"
      ],
      "execution_count": 8,
      "outputs": [
        {
          "output_type": "execute_result",
          "data": {
            "text/plain": [
              "0.025790796747717722"
            ]
          },
          "metadata": {},
          "execution_count": 8
        }
      ]
    },
    {
      "cell_type": "markdown",
      "metadata": {
        "id": "ctWzL_rRG9Rv"
      },
      "source": [
        "# 02. EDA"
      ]
    },
    {
      "cell_type": "markdown",
      "metadata": {
        "id": "vzUrs8DOHB64"
      },
      "source": [
        "5) 주상병코드(앞 자리) 별 입원 비율 "
      ]
    },
    {
      "cell_type": "code",
      "metadata": {
        "colab": {
          "base_uri": "https://localhost:8080/",
          "height": 237
        },
        "id": "DCZCbdetHJPI",
        "outputId": "cc1befea-31c2-42a1-a417-f8292dcff242"
      },
      "source": [
        "# 주상병코드 별 입원 여부 회수 계산\n",
        "df_ju = df.groupby(['주상병코드','입원여부']).count()\n",
        "df_ju = df_ju[['가입자 일련번호']]\n",
        "df_ju.columns = ['회수']\n",
        "df_ju.reset_index(inplace = True)\n",
        "df_ju.head(2)"
      ],
      "execution_count": 20,
      "outputs": [
        {
          "output_type": "execute_result",
          "data": {
            "text/html": [
              "<div>\n",
              "<style scoped>\n",
              "    .dataframe tbody tr th:only-of-type {\n",
              "        vertical-align: middle;\n",
              "    }\n",
              "\n",
              "    .dataframe tbody tr th {\n",
              "        vertical-align: top;\n",
              "    }\n",
              "\n",
              "    .dataframe thead th {\n",
              "        text-align: right;\n",
              "    }\n",
              "</style>\n",
              "<table border=\"1\" class=\"dataframe\">\n",
              "  <thead>\n",
              "    <tr style=\"text-align: right;\">\n",
              "      <th></th>\n",
              "      <th></th>\n",
              "      <th>회수</th>\n",
              "    </tr>\n",
              "    <tr>\n",
              "      <th>주상병코드</th>\n",
              "      <th>입원여부</th>\n",
              "      <th></th>\n",
              "    </tr>\n",
              "  </thead>\n",
              "  <tbody>\n",
              "    <tr>\n",
              "      <th rowspan=\"2\" valign=\"top\">A</th>\n",
              "      <th>0</th>\n",
              "      <td>191940</td>\n",
              "    </tr>\n",
              "    <tr>\n",
              "      <th>1</th>\n",
              "      <td>10429</td>\n",
              "    </tr>\n",
              "    <tr>\n",
              "      <th rowspan=\"2\" valign=\"top\">B</th>\n",
              "      <th>0</th>\n",
              "      <td>270908</td>\n",
              "    </tr>\n",
              "    <tr>\n",
              "      <th>1</th>\n",
              "      <td>3287</td>\n",
              "    </tr>\n",
              "    <tr>\n",
              "      <th>C</th>\n",
              "      <th>0</th>\n",
              "      <td>153579</td>\n",
              "    </tr>\n",
              "  </tbody>\n",
              "</table>\n",
              "</div>"
            ],
            "text/plain": [
              "                회수\n",
              "주상병코드 입원여부        \n",
              "A     0     191940\n",
              "      1      10429\n",
              "B     0     270908\n",
              "      1       3287\n",
              "C     0     153579"
            ]
          },
          "metadata": {},
          "execution_count": 20
        }
      ]
    },
    {
      "cell_type": "code",
      "metadata": {
        "colab": {
          "base_uri": "https://localhost:8080/",
          "height": 112
        },
        "id": "paJU2JZVHxms",
        "outputId": "6047ed33-0873-4576-f37b-2ded16601b0d"
      },
      "source": [
        "# 주상병코드 별 입원 여부 비율 추가 \n",
        "df_sum = pd.DataFrame(df.groupby(['주상병코드']).count()['가입자 일련번호'])\n",
        "df_sum.reset_index(inplace = True)\n",
        "df_ju = pd.merge(df_ju, df_sum, how = 'outer', on = ['주상병코드'])\n",
        "df_ju['비율'] = df_ju['회수']/df_ju['가입자 일련번호']\n",
        "df_ju.drop('가입자 일련번호', axis = 1, inplace = True)\n",
        "df_ju.head(2)"
      ],
      "execution_count": 24,
      "outputs": [
        {
          "output_type": "execute_result",
          "data": {
            "text/html": [
              "<div>\n",
              "<style scoped>\n",
              "    .dataframe tbody tr th:only-of-type {\n",
              "        vertical-align: middle;\n",
              "    }\n",
              "\n",
              "    .dataframe tbody tr th {\n",
              "        vertical-align: top;\n",
              "    }\n",
              "\n",
              "    .dataframe thead th {\n",
              "        text-align: right;\n",
              "    }\n",
              "</style>\n",
              "<table border=\"1\" class=\"dataframe\">\n",
              "  <thead>\n",
              "    <tr style=\"text-align: right;\">\n",
              "      <th></th>\n",
              "      <th>주상병코드</th>\n",
              "      <th>입원여부</th>\n",
              "      <th>회수</th>\n",
              "      <th>비율</th>\n",
              "    </tr>\n",
              "  </thead>\n",
              "  <tbody>\n",
              "    <tr>\n",
              "      <th>0</th>\n",
              "      <td>A</td>\n",
              "      <td>0</td>\n",
              "      <td>191940</td>\n",
              "      <td>0.948465</td>\n",
              "    </tr>\n",
              "    <tr>\n",
              "      <th>1</th>\n",
              "      <td>A</td>\n",
              "      <td>1</td>\n",
              "      <td>10429</td>\n",
              "      <td>0.051535</td>\n",
              "    </tr>\n",
              "  </tbody>\n",
              "</table>\n",
              "</div>"
            ],
            "text/plain": [
              "  주상병코드  입원여부      회수        비율\n",
              "0     A     0  191940  0.948465\n",
              "1     A     1   10429  0.051535"
            ]
          },
          "metadata": {},
          "execution_count": 24
        }
      ]
    },
    {
      "cell_type": "code",
      "metadata": {
        "id": "QD3dejipI_iM"
      },
      "source": [
        "# 모듈 불러오기 \n",
        "import plotly.graph_objs as go \n",
        "import plotly.express as px"
      ],
      "execution_count": 16,
      "outputs": []
    },
    {
      "cell_type": "code",
      "metadata": {
        "colab": {
          "base_uri": "https://localhost:8080/",
          "height": 542
        },
        "id": "Co_uKG3EJGBs",
        "outputId": "a4e8dade-3486-4408-9874-d613ebebbbf6"
      },
      "source": [
        "fig = go.Figure()\n",
        "\n",
        "fig.add_trace(go.Bar(x = df_ju[df_ju['입원여부']==0]['주상병코드'], y = df_ju[df_ju['입원여부']==0]['비율'], name = '입원 X'))\n",
        "fig.add_trace(go.Bar(x = df_ju[df_ju['입원여부']==1]['주상병코드'], y = df_ju[df_ju['입원여부']==1]['비율'], name = '입원 O'))\n",
        "\n",
        "fig.update_layout(title = '주상병코드 별 입원 여부 비율', xaxis_title = '주상병코드', yaxis_title = '비율', barmode=\"stack\" )\n",
        "\n",
        "fig.show()"
      ],
      "execution_count": 27,
      "outputs": [
        {
          "output_type": "display_data",
          "data": {
            "text/html": [
              "<html>\n",
              "<head><meta charset=\"utf-8\" /></head>\n",
              "<body>\n",
              "    <div>\n",
              "            <script src=\"https://cdnjs.cloudflare.com/ajax/libs/mathjax/2.7.5/MathJax.js?config=TeX-AMS-MML_SVG\"></script><script type=\"text/javascript\">if (window.MathJax) {MathJax.Hub.Config({SVG: {font: \"STIX-Web\"}});}</script>\n",
              "                <script type=\"text/javascript\">window.PlotlyConfig = {MathJaxConfig: 'local'};</script>\n",
              "        <script src=\"https://cdn.plot.ly/plotly-latest.min.js\"></script>    \n",
              "            <div id=\"76899315-b067-4dae-b07f-a707a98ce709\" class=\"plotly-graph-div\" style=\"height:525px; width:100%;\"></div>\n",
              "            <script type=\"text/javascript\">\n",
              "                \n",
              "                    window.PLOTLYENV=window.PLOTLYENV || {};\n",
              "                    \n",
              "                if (document.getElementById(\"76899315-b067-4dae-b07f-a707a98ce709\")) {\n",
              "                    Plotly.newPlot(\n",
              "                        '76899315-b067-4dae-b07f-a707a98ce709',\n",
              "                        [{\"name\": \"\\uc785\\uc6d0 X\", \"type\": \"bar\", \"x\": [\"A\", \"B\", \"C\", \"D\", \"E\", \"F\", \"G\", \"H\", \"I\", \"J\", \"K\", \"L\", \"M\", \"N\", \"O\", \"P\", \"Q\", \"R\", \"S\", \"T\", \"U\", \"Z\"], \"y\": [0.9484654270169838, 0.9880121811119823, 0.850259652541716, 0.9436820323557339, 0.9923601924658946, 0.9298794126835364, 0.9119167251967512, 0.9921090181625234, 0.9753464010933138, 0.9915936790590569, 0.9811935234116406, 0.9967746089638931, 0.9857181287267834, 0.9817034348956256, 0.6825284405294144, 0.8056001166690973, 0.9316461020751542, 0.9584137234712545, 0.9617021335142104, 0.9624045475615409, 0.8944444444444445, 0.9327482000132109]}, {\"name\": \"\\uc785\\uc6d0 O\", \"type\": \"bar\", \"x\": [\"A\", \"B\", \"C\", \"D\", \"E\", \"F\", \"G\", \"H\", \"I\", \"J\", \"K\", \"L\", \"M\", \"N\", \"O\", \"P\", \"Q\", \"R\", \"S\", \"T\", \"U\", \"Z\"], \"y\": [0.051534572983016176, 0.011987818888017652, 0.14974034745828396, 0.05631796764426608, 0.007639807534105441, 0.0701205873164636, 0.08808327480324887, 0.007890981837476607, 0.024653598906686135, 0.008406320940943015, 0.01880647658835939, 0.0032253910361069132, 0.014281871273216545, 0.01829656510437441, 0.31747155947058564, 0.19439988333090272, 0.06835389792484577, 0.04158627652874551, 0.038297866485789644, 0.0375954524384591, 0.10555555555555556, 0.06725179998678908]}],\n",
              "                        {\"barmode\": \"stack\", \"template\": {\"data\": {\"bar\": [{\"error_x\": {\"color\": \"#2a3f5f\"}, \"error_y\": {\"color\": \"#2a3f5f\"}, \"marker\": {\"line\": {\"color\": \"#E5ECF6\", \"width\": 0.5}}, \"type\": \"bar\"}], \"barpolar\": [{\"marker\": {\"line\": {\"color\": \"#E5ECF6\", \"width\": 0.5}}, \"type\": \"barpolar\"}], \"carpet\": [{\"aaxis\": {\"endlinecolor\": \"#2a3f5f\", \"gridcolor\": \"white\", \"linecolor\": \"white\", \"minorgridcolor\": \"white\", \"startlinecolor\": \"#2a3f5f\"}, \"baxis\": {\"endlinecolor\": \"#2a3f5f\", \"gridcolor\": \"white\", \"linecolor\": \"white\", \"minorgridcolor\": \"white\", \"startlinecolor\": \"#2a3f5f\"}, \"type\": \"carpet\"}], \"choropleth\": [{\"colorbar\": {\"outlinewidth\": 0, \"ticks\": \"\"}, \"type\": \"choropleth\"}], \"contour\": [{\"colorbar\": {\"outlinewidth\": 0, \"ticks\": \"\"}, \"colorscale\": [[0.0, \"#0d0887\"], [0.1111111111111111, \"#46039f\"], [0.2222222222222222, \"#7201a8\"], [0.3333333333333333, \"#9c179e\"], [0.4444444444444444, \"#bd3786\"], [0.5555555555555556, \"#d8576b\"], [0.6666666666666666, \"#ed7953\"], [0.7777777777777778, \"#fb9f3a\"], [0.8888888888888888, \"#fdca26\"], [1.0, \"#f0f921\"]], \"type\": \"contour\"}], \"contourcarpet\": [{\"colorbar\": {\"outlinewidth\": 0, \"ticks\": \"\"}, \"type\": \"contourcarpet\"}], \"heatmap\": [{\"colorbar\": {\"outlinewidth\": 0, \"ticks\": \"\"}, \"colorscale\": [[0.0, \"#0d0887\"], [0.1111111111111111, \"#46039f\"], [0.2222222222222222, \"#7201a8\"], [0.3333333333333333, \"#9c179e\"], [0.4444444444444444, \"#bd3786\"], [0.5555555555555556, \"#d8576b\"], [0.6666666666666666, \"#ed7953\"], [0.7777777777777778, \"#fb9f3a\"], [0.8888888888888888, \"#fdca26\"], [1.0, \"#f0f921\"]], \"type\": \"heatmap\"}], \"heatmapgl\": [{\"colorbar\": {\"outlinewidth\": 0, \"ticks\": \"\"}, \"colorscale\": [[0.0, \"#0d0887\"], [0.1111111111111111, \"#46039f\"], [0.2222222222222222, \"#7201a8\"], [0.3333333333333333, \"#9c179e\"], [0.4444444444444444, \"#bd3786\"], [0.5555555555555556, \"#d8576b\"], [0.6666666666666666, \"#ed7953\"], [0.7777777777777778, \"#fb9f3a\"], [0.8888888888888888, \"#fdca26\"], [1.0, \"#f0f921\"]], \"type\": \"heatmapgl\"}], \"histogram\": [{\"marker\": {\"colorbar\": {\"outlinewidth\": 0, \"ticks\": \"\"}}, \"type\": \"histogram\"}], \"histogram2d\": [{\"colorbar\": {\"outlinewidth\": 0, \"ticks\": \"\"}, \"colorscale\": [[0.0, \"#0d0887\"], [0.1111111111111111, \"#46039f\"], [0.2222222222222222, \"#7201a8\"], [0.3333333333333333, \"#9c179e\"], [0.4444444444444444, \"#bd3786\"], [0.5555555555555556, \"#d8576b\"], [0.6666666666666666, \"#ed7953\"], [0.7777777777777778, \"#fb9f3a\"], [0.8888888888888888, \"#fdca26\"], [1.0, \"#f0f921\"]], \"type\": \"histogram2d\"}], \"histogram2dcontour\": [{\"colorbar\": {\"outlinewidth\": 0, \"ticks\": \"\"}, \"colorscale\": [[0.0, \"#0d0887\"], [0.1111111111111111, \"#46039f\"], [0.2222222222222222, \"#7201a8\"], [0.3333333333333333, \"#9c179e\"], [0.4444444444444444, \"#bd3786\"], [0.5555555555555556, \"#d8576b\"], [0.6666666666666666, \"#ed7953\"], [0.7777777777777778, \"#fb9f3a\"], [0.8888888888888888, \"#fdca26\"], [1.0, \"#f0f921\"]], \"type\": \"histogram2dcontour\"}], \"mesh3d\": [{\"colorbar\": {\"outlinewidth\": 0, \"ticks\": \"\"}, \"type\": \"mesh3d\"}], \"parcoords\": [{\"line\": {\"colorbar\": {\"outlinewidth\": 0, \"ticks\": \"\"}}, \"type\": \"parcoords\"}], \"pie\": [{\"automargin\": true, \"type\": \"pie\"}], \"scatter\": [{\"marker\": {\"colorbar\": {\"outlinewidth\": 0, \"ticks\": \"\"}}, \"type\": \"scatter\"}], \"scatter3d\": [{\"line\": {\"colorbar\": {\"outlinewidth\": 0, \"ticks\": \"\"}}, \"marker\": {\"colorbar\": {\"outlinewidth\": 0, \"ticks\": \"\"}}, \"type\": \"scatter3d\"}], \"scattercarpet\": [{\"marker\": {\"colorbar\": {\"outlinewidth\": 0, \"ticks\": \"\"}}, \"type\": \"scattercarpet\"}], \"scattergeo\": [{\"marker\": {\"colorbar\": {\"outlinewidth\": 0, \"ticks\": \"\"}}, \"type\": \"scattergeo\"}], \"scattergl\": [{\"marker\": {\"colorbar\": {\"outlinewidth\": 0, \"ticks\": \"\"}}, \"type\": \"scattergl\"}], \"scattermapbox\": [{\"marker\": {\"colorbar\": {\"outlinewidth\": 0, \"ticks\": \"\"}}, \"type\": \"scattermapbox\"}], \"scatterpolar\": [{\"marker\": {\"colorbar\": {\"outlinewidth\": 0, \"ticks\": \"\"}}, \"type\": \"scatterpolar\"}], \"scatterpolargl\": [{\"marker\": {\"colorbar\": {\"outlinewidth\": 0, \"ticks\": \"\"}}, \"type\": \"scatterpolargl\"}], \"scatterternary\": [{\"marker\": {\"colorbar\": {\"outlinewidth\": 0, \"ticks\": \"\"}}, \"type\": \"scatterternary\"}], \"surface\": [{\"colorbar\": {\"outlinewidth\": 0, \"ticks\": \"\"}, \"colorscale\": [[0.0, \"#0d0887\"], [0.1111111111111111, \"#46039f\"], [0.2222222222222222, \"#7201a8\"], [0.3333333333333333, \"#9c179e\"], [0.4444444444444444, \"#bd3786\"], [0.5555555555555556, \"#d8576b\"], [0.6666666666666666, \"#ed7953\"], [0.7777777777777778, \"#fb9f3a\"], [0.8888888888888888, \"#fdca26\"], [1.0, \"#f0f921\"]], \"type\": \"surface\"}], \"table\": [{\"cells\": {\"fill\": {\"color\": \"#EBF0F8\"}, \"line\": {\"color\": \"white\"}}, \"header\": {\"fill\": {\"color\": \"#C8D4E3\"}, \"line\": {\"color\": \"white\"}}, \"type\": \"table\"}]}, \"layout\": {\"annotationdefaults\": {\"arrowcolor\": \"#2a3f5f\", \"arrowhead\": 0, \"arrowwidth\": 1}, \"coloraxis\": {\"colorbar\": {\"outlinewidth\": 0, \"ticks\": \"\"}}, \"colorscale\": {\"diverging\": [[0, \"#8e0152\"], [0.1, \"#c51b7d\"], [0.2, \"#de77ae\"], [0.3, \"#f1b6da\"], [0.4, \"#fde0ef\"], [0.5, \"#f7f7f7\"], [0.6, \"#e6f5d0\"], [0.7, \"#b8e186\"], [0.8, \"#7fbc41\"], [0.9, \"#4d9221\"], [1, \"#276419\"]], \"sequential\": [[0.0, \"#0d0887\"], [0.1111111111111111, \"#46039f\"], [0.2222222222222222, \"#7201a8\"], [0.3333333333333333, \"#9c179e\"], [0.4444444444444444, \"#bd3786\"], [0.5555555555555556, \"#d8576b\"], [0.6666666666666666, \"#ed7953\"], [0.7777777777777778, \"#fb9f3a\"], [0.8888888888888888, \"#fdca26\"], [1.0, \"#f0f921\"]], \"sequentialminus\": [[0.0, \"#0d0887\"], [0.1111111111111111, \"#46039f\"], [0.2222222222222222, \"#7201a8\"], [0.3333333333333333, \"#9c179e\"], [0.4444444444444444, \"#bd3786\"], [0.5555555555555556, \"#d8576b\"], [0.6666666666666666, \"#ed7953\"], [0.7777777777777778, \"#fb9f3a\"], [0.8888888888888888, \"#fdca26\"], [1.0, \"#f0f921\"]]}, \"colorway\": [\"#636efa\", \"#EF553B\", \"#00cc96\", \"#ab63fa\", \"#FFA15A\", \"#19d3f3\", \"#FF6692\", \"#B6E880\", \"#FF97FF\", \"#FECB52\"], \"font\": {\"color\": \"#2a3f5f\"}, \"geo\": {\"bgcolor\": \"white\", \"lakecolor\": \"white\", \"landcolor\": \"#E5ECF6\", \"showlakes\": true, \"showland\": true, \"subunitcolor\": \"white\"}, \"hoverlabel\": {\"align\": \"left\"}, \"hovermode\": \"closest\", \"mapbox\": {\"style\": \"light\"}, \"paper_bgcolor\": \"white\", \"plot_bgcolor\": \"#E5ECF6\", \"polar\": {\"angularaxis\": {\"gridcolor\": \"white\", \"linecolor\": \"white\", \"ticks\": \"\"}, \"bgcolor\": \"#E5ECF6\", \"radialaxis\": {\"gridcolor\": \"white\", \"linecolor\": \"white\", \"ticks\": \"\"}}, \"scene\": {\"xaxis\": {\"backgroundcolor\": \"#E5ECF6\", \"gridcolor\": \"white\", \"gridwidth\": 2, \"linecolor\": \"white\", \"showbackground\": true, \"ticks\": \"\", \"zerolinecolor\": \"white\"}, \"yaxis\": {\"backgroundcolor\": \"#E5ECF6\", \"gridcolor\": \"white\", \"gridwidth\": 2, \"linecolor\": \"white\", \"showbackground\": true, \"ticks\": \"\", \"zerolinecolor\": \"white\"}, \"zaxis\": {\"backgroundcolor\": \"#E5ECF6\", \"gridcolor\": \"white\", \"gridwidth\": 2, \"linecolor\": \"white\", \"showbackground\": true, \"ticks\": \"\", \"zerolinecolor\": \"white\"}}, \"shapedefaults\": {\"line\": {\"color\": \"#2a3f5f\"}}, \"ternary\": {\"aaxis\": {\"gridcolor\": \"white\", \"linecolor\": \"white\", \"ticks\": \"\"}, \"baxis\": {\"gridcolor\": \"white\", \"linecolor\": \"white\", \"ticks\": \"\"}, \"bgcolor\": \"#E5ECF6\", \"caxis\": {\"gridcolor\": \"white\", \"linecolor\": \"white\", \"ticks\": \"\"}}, \"title\": {\"x\": 0.05}, \"xaxis\": {\"automargin\": true, \"gridcolor\": \"white\", \"linecolor\": \"white\", \"ticks\": \"\", \"title\": {\"standoff\": 15}, \"zerolinecolor\": \"white\", \"zerolinewidth\": 2}, \"yaxis\": {\"automargin\": true, \"gridcolor\": \"white\", \"linecolor\": \"white\", \"ticks\": \"\", \"title\": {\"standoff\": 15}, \"zerolinecolor\": \"white\", \"zerolinewidth\": 2}}}, \"title\": {\"text\": \"\\uc8fc\\uc0c1\\ubcd1\\ucf54\\ub4dc \\ubcc4 \\uc785\\uc6d0 \\uc5ec\\ubd80 \\ube44\\uc728\"}, \"xaxis\": {\"title\": {\"text\": \"\\uc8fc\\uc0c1\\ubcd1\\ucf54\\ub4dc\"}}, \"yaxis\": {\"title\": {\"text\": \"\\ube44\\uc728\"}}},\n",
              "                        {\"responsive\": true}\n",
              "                    ).then(function(){\n",
              "                            \n",
              "var gd = document.getElementById('76899315-b067-4dae-b07f-a707a98ce709');\n",
              "var x = new MutationObserver(function (mutations, observer) {{\n",
              "        var display = window.getComputedStyle(gd).display;\n",
              "        if (!display || display === 'none') {{\n",
              "            console.log([gd, 'removed!']);\n",
              "            Plotly.purge(gd);\n",
              "            observer.disconnect();\n",
              "        }}\n",
              "}});\n",
              "\n",
              "// Listen for the removal of the full notebook cells\n",
              "var notebookContainer = gd.closest('#notebook-container');\n",
              "if (notebookContainer) {{\n",
              "    x.observe(notebookContainer, {childList: true});\n",
              "}}\n",
              "\n",
              "// Listen for the clearing of the current output cell\n",
              "var outputEl = gd.closest('.output');\n",
              "if (outputEl) {{\n",
              "    x.observe(outputEl, {childList: true});\n",
              "}}\n",
              "\n",
              "                        })\n",
              "                };\n",
              "                \n",
              "            </script>\n",
              "        </div>\n",
              "</body>\n",
              "</html>"
            ]
          },
          "metadata": {}
        }
      ]
    },
    {
      "cell_type": "markdown",
      "metadata": {
        "id": "qQ5nlZUNKL2A"
      },
      "source": [
        "5 + ) 부상병코드 별 입원 여부 \n"
      ]
    },
    {
      "cell_type": "code",
      "metadata": {
        "colab": {
          "base_uri": "https://localhost:8080/",
          "height": 112
        },
        "id": "K84lOco-KPa6",
        "outputId": "5763dd8c-256c-46ab-e30d-045fd088833b"
      },
      "source": [
        "# 부상병코드 별 입원 여부 회수 계산\n",
        "df_bu = df.groupby(['부상병코드','입원여부']).count()\n",
        "df_bu = df_bu[['가입자 일련번호']]\n",
        "df_bu.columns = ['회수']\n",
        "df_bu.reset_index(inplace = True)\n",
        "df_bu.head(2)"
      ],
      "execution_count": 29,
      "outputs": [
        {
          "output_type": "execute_result",
          "data": {
            "text/html": [
              "<div>\n",
              "<style scoped>\n",
              "    .dataframe tbody tr th:only-of-type {\n",
              "        vertical-align: middle;\n",
              "    }\n",
              "\n",
              "    .dataframe tbody tr th {\n",
              "        vertical-align: top;\n",
              "    }\n",
              "\n",
              "    .dataframe thead th {\n",
              "        text-align: right;\n",
              "    }\n",
              "</style>\n",
              "<table border=\"1\" class=\"dataframe\">\n",
              "  <thead>\n",
              "    <tr style=\"text-align: right;\">\n",
              "      <th></th>\n",
              "      <th>부상병코드</th>\n",
              "      <th>입원여부</th>\n",
              "      <th>회수</th>\n",
              "    </tr>\n",
              "  </thead>\n",
              "  <tbody>\n",
              "    <tr>\n",
              "      <th>0</th>\n",
              "      <td>A</td>\n",
              "      <td>0</td>\n",
              "      <td>159286</td>\n",
              "    </tr>\n",
              "    <tr>\n",
              "      <th>1</th>\n",
              "      <td>A</td>\n",
              "      <td>1</td>\n",
              "      <td>4599</td>\n",
              "    </tr>\n",
              "  </tbody>\n",
              "</table>\n",
              "</div>"
            ],
            "text/plain": [
              "  부상병코드  입원여부      회수\n",
              "0     A     0  159286\n",
              "1     A     1    4599"
            ]
          },
          "metadata": {},
          "execution_count": 29
        }
      ]
    },
    {
      "cell_type": "code",
      "metadata": {
        "colab": {
          "base_uri": "https://localhost:8080/",
          "height": 112
        },
        "id": "mTJmevRjKT9z",
        "outputId": "1d2fa93d-8ee2-4c18-ba85-afe21f904ccc"
      },
      "source": [
        "# 부상병코드 별 입원 여부 비율 추가 \n",
        "df_sum = pd.DataFrame(df.groupby(['부상병코드']).count()['가입자 일련번호'])\n",
        "df_sum.reset_index(inplace = True)\n",
        "df_bu = pd.merge(df_bu, df_sum, how = 'outer', on = ['부상병코드'])\n",
        "df_bu['비율'] = df_bu['회수']/df_bu['가입자 일련번호']\n",
        "df_bu.drop('가입자 일련번호', axis = 1, inplace = True)\n",
        "df_bu.head(2)"
      ],
      "execution_count": 31,
      "outputs": [
        {
          "output_type": "execute_result",
          "data": {
            "text/html": [
              "<div>\n",
              "<style scoped>\n",
              "    .dataframe tbody tr th:only-of-type {\n",
              "        vertical-align: middle;\n",
              "    }\n",
              "\n",
              "    .dataframe tbody tr th {\n",
              "        vertical-align: top;\n",
              "    }\n",
              "\n",
              "    .dataframe thead th {\n",
              "        text-align: right;\n",
              "    }\n",
              "</style>\n",
              "<table border=\"1\" class=\"dataframe\">\n",
              "  <thead>\n",
              "    <tr style=\"text-align: right;\">\n",
              "      <th></th>\n",
              "      <th>부상병코드</th>\n",
              "      <th>입원여부</th>\n",
              "      <th>회수</th>\n",
              "      <th>비율</th>\n",
              "    </tr>\n",
              "  </thead>\n",
              "  <tbody>\n",
              "    <tr>\n",
              "      <th>0</th>\n",
              "      <td>A</td>\n",
              "      <td>0</td>\n",
              "      <td>159286</td>\n",
              "      <td>0.971938</td>\n",
              "    </tr>\n",
              "    <tr>\n",
              "      <th>1</th>\n",
              "      <td>A</td>\n",
              "      <td>1</td>\n",
              "      <td>4599</td>\n",
              "      <td>0.028062</td>\n",
              "    </tr>\n",
              "  </tbody>\n",
              "</table>\n",
              "</div>"
            ],
            "text/plain": [
              "  부상병코드  입원여부      회수        비율\n",
              "0     A     0  159286  0.971938\n",
              "1     A     1    4599  0.028062"
            ]
          },
          "metadata": {},
          "execution_count": 31
        }
      ]
    },
    {
      "cell_type": "code",
      "metadata": {
        "colab": {
          "base_uri": "https://localhost:8080/",
          "height": 542
        },
        "id": "HM8PvY0uKjLn",
        "outputId": "2d9b9af5-215d-479c-e6f3-2590bf4f56b2"
      },
      "source": [
        "fig = go.Figure()\n",
        "\n",
        "fig.add_trace(go.Bar(x = df_bu[df_bu['입원여부']==0]['부상병코드'], y = df_bu[df_bu['입원여부']==0]['비율'], name = '입원 X'))\n",
        "fig.add_trace(go.Bar(x = df_bu[df_bu['입원여부']==1]['부상병코드'], y = df_bu[df_bu['입원여부']==1]['비율'], name = '입원 O'))\n",
        "\n",
        "fig.update_layout(title = '부상병코드 별 입원 여부 비율', xaxis_title = '부상병코드', yaxis_title = '비율', barmode=\"stack\" )\n",
        "\n",
        "fig.show()"
      ],
      "execution_count": 32,
      "outputs": [
        {
          "output_type": "display_data",
          "data": {
            "text/html": [
              "<html>\n",
              "<head><meta charset=\"utf-8\" /></head>\n",
              "<body>\n",
              "    <div>\n",
              "            <script src=\"https://cdnjs.cloudflare.com/ajax/libs/mathjax/2.7.5/MathJax.js?config=TeX-AMS-MML_SVG\"></script><script type=\"text/javascript\">if (window.MathJax) {MathJax.Hub.Config({SVG: {font: \"STIX-Web\"}});}</script>\n",
              "                <script type=\"text/javascript\">window.PlotlyConfig = {MathJaxConfig: 'local'};</script>\n",
              "        <script src=\"https://cdn.plot.ly/plotly-latest.min.js\"></script>    \n",
              "            <div id=\"c0717a07-ba52-46cc-9646-4200887d1587\" class=\"plotly-graph-div\" style=\"height:525px; width:100%;\"></div>\n",
              "            <script type=\"text/javascript\">\n",
              "                \n",
              "                    window.PLOTLYENV=window.PLOTLYENV || {};\n",
              "                    \n",
              "                if (document.getElementById(\"c0717a07-ba52-46cc-9646-4200887d1587\")) {\n",
              "                    Plotly.newPlot(\n",
              "                        'c0717a07-ba52-46cc-9646-4200887d1587',\n",
              "                        [{\"name\": \"\\uc785\\uc6d0 X\", \"type\": \"bar\", \"x\": [\"A\", \"B\", \"C\", \"D\", \"E\", \"F\", \"G\", \"H\", \"I\", \"J\", \"K\", \"L\", \"M\", \"N\", \"O\", \"P\", \"Q\", \"R\", \"S\", \"T\", \"U\", \"V\", \"W\", \"X\", \"Y\", \"Z\"], \"y\": [0.9719376391982183, 0.9832299124900556, 0.7843215583328578, 0.9475501562657526, 0.9799612227479162, 0.9593594526539874, 0.9308059712014664, 0.9921844158000117, 0.9457136937666569, 0.9912501582387506, 0.9859568295135486, 0.9945192082898415, 0.9836931564379913, 0.9771967791883249, 0.8220075655228317, 0.6545713269299182, 0.9041595197255574, 0.953605577916811, 0.9571921555424627, 0.9515303582452158, 0.8509687034277198, 0.5841584158415841, 0.7003105590062112, 0.7418899858956276, 0.8909321496512366, 0.9399715504978663]}, {\"name\": \"\\uc785\\uc6d0 O\", \"type\": \"bar\", \"x\": [\"A\", \"B\", \"C\", \"D\", \"E\", \"F\", \"G\", \"H\", \"I\", \"J\", \"K\", \"L\", \"M\", \"N\", \"O\", \"P\", \"Q\", \"R\", \"S\", \"T\", \"U\", \"V\", \"W\", \"X\", \"Y\", \"Z\"], \"y\": [0.028062360801781736, 0.016770087509944312, 0.21567844166714223, 0.0524498437342474, 0.02003877725208375, 0.0406405473460126, 0.06919402879853363, 0.007815584199988257, 0.05428630623334307, 0.008749841761249374, 0.014043170486451428, 0.00548079171015848, 0.01630684356200869, 0.022803220811675105, 0.17799243447716834, 0.34542867307008185, 0.09584048027444254, 0.046394422083188946, 0.04280784445753724, 0.048469641754784236, 0.14903129657228018, 0.4158415841584158, 0.2996894409937888, 0.25811001410437234, 0.10906785034876347, 0.060028449502133714]}],\n",
              "                        {\"barmode\": \"stack\", \"template\": {\"data\": {\"bar\": [{\"error_x\": {\"color\": \"#2a3f5f\"}, \"error_y\": {\"color\": \"#2a3f5f\"}, \"marker\": {\"line\": {\"color\": \"#E5ECF6\", \"width\": 0.5}}, \"type\": \"bar\"}], \"barpolar\": [{\"marker\": {\"line\": {\"color\": \"#E5ECF6\", \"width\": 0.5}}, \"type\": \"barpolar\"}], \"carpet\": [{\"aaxis\": {\"endlinecolor\": \"#2a3f5f\", \"gridcolor\": \"white\", \"linecolor\": \"white\", \"minorgridcolor\": \"white\", \"startlinecolor\": \"#2a3f5f\"}, \"baxis\": {\"endlinecolor\": \"#2a3f5f\", \"gridcolor\": \"white\", \"linecolor\": \"white\", \"minorgridcolor\": \"white\", \"startlinecolor\": \"#2a3f5f\"}, \"type\": \"carpet\"}], \"choropleth\": [{\"colorbar\": {\"outlinewidth\": 0, \"ticks\": \"\"}, \"type\": \"choropleth\"}], \"contour\": [{\"colorbar\": {\"outlinewidth\": 0, \"ticks\": \"\"}, \"colorscale\": [[0.0, \"#0d0887\"], [0.1111111111111111, \"#46039f\"], [0.2222222222222222, \"#7201a8\"], [0.3333333333333333, \"#9c179e\"], [0.4444444444444444, \"#bd3786\"], [0.5555555555555556, \"#d8576b\"], [0.6666666666666666, \"#ed7953\"], [0.7777777777777778, \"#fb9f3a\"], [0.8888888888888888, \"#fdca26\"], [1.0, \"#f0f921\"]], \"type\": \"contour\"}], \"contourcarpet\": [{\"colorbar\": {\"outlinewidth\": 0, \"ticks\": \"\"}, \"type\": \"contourcarpet\"}], \"heatmap\": [{\"colorbar\": {\"outlinewidth\": 0, \"ticks\": \"\"}, \"colorscale\": [[0.0, \"#0d0887\"], [0.1111111111111111, \"#46039f\"], [0.2222222222222222, \"#7201a8\"], [0.3333333333333333, \"#9c179e\"], [0.4444444444444444, \"#bd3786\"], [0.5555555555555556, \"#d8576b\"], [0.6666666666666666, \"#ed7953\"], [0.7777777777777778, \"#fb9f3a\"], [0.8888888888888888, \"#fdca26\"], [1.0, \"#f0f921\"]], \"type\": \"heatmap\"}], \"heatmapgl\": [{\"colorbar\": {\"outlinewidth\": 0, \"ticks\": \"\"}, \"colorscale\": [[0.0, \"#0d0887\"], [0.1111111111111111, \"#46039f\"], [0.2222222222222222, \"#7201a8\"], [0.3333333333333333, \"#9c179e\"], [0.4444444444444444, \"#bd3786\"], [0.5555555555555556, \"#d8576b\"], [0.6666666666666666, \"#ed7953\"], [0.7777777777777778, \"#fb9f3a\"], [0.8888888888888888, \"#fdca26\"], [1.0, \"#f0f921\"]], \"type\": \"heatmapgl\"}], \"histogram\": [{\"marker\": {\"colorbar\": {\"outlinewidth\": 0, \"ticks\": \"\"}}, \"type\": \"histogram\"}], \"histogram2d\": [{\"colorbar\": {\"outlinewidth\": 0, \"ticks\": \"\"}, \"colorscale\": [[0.0, \"#0d0887\"], [0.1111111111111111, \"#46039f\"], [0.2222222222222222, \"#7201a8\"], [0.3333333333333333, \"#9c179e\"], [0.4444444444444444, \"#bd3786\"], [0.5555555555555556, \"#d8576b\"], [0.6666666666666666, \"#ed7953\"], [0.7777777777777778, \"#fb9f3a\"], [0.8888888888888888, \"#fdca26\"], [1.0, \"#f0f921\"]], \"type\": \"histogram2d\"}], \"histogram2dcontour\": [{\"colorbar\": {\"outlinewidth\": 0, \"ticks\": \"\"}, \"colorscale\": [[0.0, \"#0d0887\"], [0.1111111111111111, \"#46039f\"], [0.2222222222222222, \"#7201a8\"], [0.3333333333333333, \"#9c179e\"], [0.4444444444444444, \"#bd3786\"], [0.5555555555555556, \"#d8576b\"], [0.6666666666666666, \"#ed7953\"], [0.7777777777777778, \"#fb9f3a\"], [0.8888888888888888, \"#fdca26\"], [1.0, \"#f0f921\"]], \"type\": \"histogram2dcontour\"}], \"mesh3d\": [{\"colorbar\": {\"outlinewidth\": 0, \"ticks\": \"\"}, \"type\": \"mesh3d\"}], \"parcoords\": [{\"line\": {\"colorbar\": {\"outlinewidth\": 0, \"ticks\": \"\"}}, \"type\": \"parcoords\"}], \"pie\": [{\"automargin\": true, \"type\": \"pie\"}], \"scatter\": [{\"marker\": {\"colorbar\": {\"outlinewidth\": 0, \"ticks\": \"\"}}, \"type\": \"scatter\"}], \"scatter3d\": [{\"line\": {\"colorbar\": {\"outlinewidth\": 0, \"ticks\": \"\"}}, \"marker\": {\"colorbar\": {\"outlinewidth\": 0, \"ticks\": \"\"}}, \"type\": \"scatter3d\"}], \"scattercarpet\": [{\"marker\": {\"colorbar\": {\"outlinewidth\": 0, \"ticks\": \"\"}}, \"type\": \"scattercarpet\"}], \"scattergeo\": [{\"marker\": {\"colorbar\": {\"outlinewidth\": 0, \"ticks\": \"\"}}, \"type\": \"scattergeo\"}], \"scattergl\": [{\"marker\": {\"colorbar\": {\"outlinewidth\": 0, \"ticks\": \"\"}}, \"type\": \"scattergl\"}], \"scattermapbox\": [{\"marker\": {\"colorbar\": {\"outlinewidth\": 0, \"ticks\": \"\"}}, \"type\": \"scattermapbox\"}], \"scatterpolar\": [{\"marker\": {\"colorbar\": {\"outlinewidth\": 0, \"ticks\": \"\"}}, \"type\": \"scatterpolar\"}], \"scatterpolargl\": [{\"marker\": {\"colorbar\": {\"outlinewidth\": 0, \"ticks\": \"\"}}, \"type\": \"scatterpolargl\"}], \"scatterternary\": [{\"marker\": {\"colorbar\": {\"outlinewidth\": 0, \"ticks\": \"\"}}, \"type\": \"scatterternary\"}], \"surface\": [{\"colorbar\": {\"outlinewidth\": 0, \"ticks\": \"\"}, \"colorscale\": [[0.0, \"#0d0887\"], [0.1111111111111111, \"#46039f\"], [0.2222222222222222, \"#7201a8\"], [0.3333333333333333, \"#9c179e\"], [0.4444444444444444, \"#bd3786\"], [0.5555555555555556, \"#d8576b\"], [0.6666666666666666, \"#ed7953\"], [0.7777777777777778, \"#fb9f3a\"], [0.8888888888888888, \"#fdca26\"], [1.0, \"#f0f921\"]], \"type\": \"surface\"}], \"table\": [{\"cells\": {\"fill\": {\"color\": \"#EBF0F8\"}, \"line\": {\"color\": \"white\"}}, \"header\": {\"fill\": {\"color\": \"#C8D4E3\"}, \"line\": {\"color\": \"white\"}}, \"type\": \"table\"}]}, \"layout\": {\"annotationdefaults\": {\"arrowcolor\": \"#2a3f5f\", \"arrowhead\": 0, \"arrowwidth\": 1}, \"coloraxis\": {\"colorbar\": {\"outlinewidth\": 0, \"ticks\": \"\"}}, \"colorscale\": {\"diverging\": [[0, \"#8e0152\"], [0.1, \"#c51b7d\"], [0.2, \"#de77ae\"], [0.3, \"#f1b6da\"], [0.4, \"#fde0ef\"], [0.5, \"#f7f7f7\"], [0.6, \"#e6f5d0\"], [0.7, \"#b8e186\"], [0.8, \"#7fbc41\"], [0.9, \"#4d9221\"], [1, \"#276419\"]], \"sequential\": [[0.0, \"#0d0887\"], [0.1111111111111111, \"#46039f\"], [0.2222222222222222, \"#7201a8\"], [0.3333333333333333, \"#9c179e\"], [0.4444444444444444, \"#bd3786\"], [0.5555555555555556, \"#d8576b\"], [0.6666666666666666, \"#ed7953\"], [0.7777777777777778, \"#fb9f3a\"], [0.8888888888888888, \"#fdca26\"], [1.0, \"#f0f921\"]], \"sequentialminus\": [[0.0, \"#0d0887\"], [0.1111111111111111, \"#46039f\"], [0.2222222222222222, \"#7201a8\"], [0.3333333333333333, \"#9c179e\"], [0.4444444444444444, \"#bd3786\"], [0.5555555555555556, \"#d8576b\"], [0.6666666666666666, \"#ed7953\"], [0.7777777777777778, \"#fb9f3a\"], [0.8888888888888888, \"#fdca26\"], [1.0, \"#f0f921\"]]}, \"colorway\": [\"#636efa\", \"#EF553B\", \"#00cc96\", \"#ab63fa\", \"#FFA15A\", \"#19d3f3\", \"#FF6692\", \"#B6E880\", \"#FF97FF\", \"#FECB52\"], \"font\": {\"color\": \"#2a3f5f\"}, \"geo\": {\"bgcolor\": \"white\", \"lakecolor\": \"white\", \"landcolor\": \"#E5ECF6\", \"showlakes\": true, \"showland\": true, \"subunitcolor\": \"white\"}, \"hoverlabel\": {\"align\": \"left\"}, \"hovermode\": \"closest\", \"mapbox\": {\"style\": \"light\"}, \"paper_bgcolor\": \"white\", \"plot_bgcolor\": \"#E5ECF6\", \"polar\": {\"angularaxis\": {\"gridcolor\": \"white\", \"linecolor\": \"white\", \"ticks\": \"\"}, \"bgcolor\": \"#E5ECF6\", \"radialaxis\": {\"gridcolor\": \"white\", \"linecolor\": \"white\", \"ticks\": \"\"}}, \"scene\": {\"xaxis\": {\"backgroundcolor\": \"#E5ECF6\", \"gridcolor\": \"white\", \"gridwidth\": 2, \"linecolor\": \"white\", \"showbackground\": true, \"ticks\": \"\", \"zerolinecolor\": \"white\"}, \"yaxis\": {\"backgroundcolor\": \"#E5ECF6\", \"gridcolor\": \"white\", \"gridwidth\": 2, \"linecolor\": \"white\", \"showbackground\": true, \"ticks\": \"\", \"zerolinecolor\": \"white\"}, \"zaxis\": {\"backgroundcolor\": \"#E5ECF6\", \"gridcolor\": \"white\", \"gridwidth\": 2, \"linecolor\": \"white\", \"showbackground\": true, \"ticks\": \"\", \"zerolinecolor\": \"white\"}}, \"shapedefaults\": {\"line\": {\"color\": \"#2a3f5f\"}}, \"ternary\": {\"aaxis\": {\"gridcolor\": \"white\", \"linecolor\": \"white\", \"ticks\": \"\"}, \"baxis\": {\"gridcolor\": \"white\", \"linecolor\": \"white\", \"ticks\": \"\"}, \"bgcolor\": \"#E5ECF6\", \"caxis\": {\"gridcolor\": \"white\", \"linecolor\": \"white\", \"ticks\": \"\"}}, \"title\": {\"x\": 0.05}, \"xaxis\": {\"automargin\": true, \"gridcolor\": \"white\", \"linecolor\": \"white\", \"ticks\": \"\", \"title\": {\"standoff\": 15}, \"zerolinecolor\": \"white\", \"zerolinewidth\": 2}, \"yaxis\": {\"automargin\": true, \"gridcolor\": \"white\", \"linecolor\": \"white\", \"ticks\": \"\", \"title\": {\"standoff\": 15}, \"zerolinecolor\": \"white\", \"zerolinewidth\": 2}}}, \"title\": {\"text\": \"\\ubd80\\uc0c1\\ubcd1\\ucf54\\ub4dc \\ubcc4 \\uc785\\uc6d0 \\uc5ec\\ubd80 \\ube44\\uc728\"}, \"xaxis\": {\"title\": {\"text\": \"\\ubd80\\uc0c1\\ubcd1\\ucf54\\ub4dc\"}}, \"yaxis\": {\"title\": {\"text\": \"\\ube44\\uc728\"}}},\n",
              "                        {\"responsive\": true}\n",
              "                    ).then(function(){\n",
              "                            \n",
              "var gd = document.getElementById('c0717a07-ba52-46cc-9646-4200887d1587');\n",
              "var x = new MutationObserver(function (mutations, observer) {{\n",
              "        var display = window.getComputedStyle(gd).display;\n",
              "        if (!display || display === 'none') {{\n",
              "            console.log([gd, 'removed!']);\n",
              "            Plotly.purge(gd);\n",
              "            observer.disconnect();\n",
              "        }}\n",
              "}});\n",
              "\n",
              "// Listen for the removal of the full notebook cells\n",
              "var notebookContainer = gd.closest('#notebook-container');\n",
              "if (notebookContainer) {{\n",
              "    x.observe(notebookContainer, {childList: true});\n",
              "}}\n",
              "\n",
              "// Listen for the clearing of the current output cell\n",
              "var outputEl = gd.closest('.output');\n",
              "if (outputEl) {{\n",
              "    x.observe(outputEl, {childList: true});\n",
              "}}\n",
              "\n",
              "                        })\n",
              "                };\n",
              "                \n",
              "            </script>\n",
              "        </div>\n",
              "</body>\n",
              "</html>"
            ]
          },
          "metadata": {}
        }
      ]
    },
    {
      "cell_type": "markdown",
      "metadata": {
        "id": "F3x6PIivHF6A"
      },
      "source": [
        "6) 입내원일수 분포 "
      ]
    },
    {
      "cell_type": "code",
      "metadata": {
        "id": "A07eM_FZMew1"
      },
      "source": [
        "import matplotlib.pyplot as plt\n",
        "import seaborn as sns"
      ],
      "execution_count": 20,
      "outputs": []
    },
    {
      "cell_type": "code",
      "metadata": {
        "id": "8EPCLJ9zNbnd"
      },
      "source": [
        "!apt-get update -qq\n",
        "!apt-get install fonts-nanum* -qq"
      ],
      "execution_count": 21,
      "outputs": []
    },
    {
      "cell_type": "code",
      "metadata": {
        "colab": {
          "base_uri": "https://localhost:8080/"
        },
        "id": "J-M7WXUcNgJ1",
        "outputId": "561fe5ee-3209-4e38-fb5c-9663a9f3b7f3"
      },
      "source": [
        "import matplotlib.font_manager as fm  # 폰트 관련 용도\n",
        "path = '/usr/share/fonts/truetype/nanum/NanumGothic.ttf'  # 설치된 나눔글꼴중 원하는 녀석의 전체 경로를 가져오자\n",
        "font_name = fm.FontProperties(fname=path, size=10).get_name()\n",
        "print(font_name)\n",
        "plt.rc('font', family=font_name)\n",
        "fm._rebuild()"
      ],
      "execution_count": 22,
      "outputs": [
        {
          "output_type": "stream",
          "name": "stdout",
          "text": [
            "NanumGothic\n"
          ]
        }
      ]
    },
    {
      "cell_type": "code",
      "metadata": {
        "colab": {
          "base_uri": "https://localhost:8080/",
          "height": 297
        },
        "id": "5MzAiFj6LVfh",
        "outputId": "baede8f5-a9a2-42c1-aa90-d5c0503f44bb"
      },
      "source": [
        "sns.kdeplot(df['입내원일수'])\n",
        "plt.show()"
      ],
      "execution_count": 46,
      "outputs": [
        {
          "output_type": "stream",
          "name": "stderr",
          "text": [
            "findfont: Font family ['NanumGothic'] not found. Falling back to DejaVu Sans.\n"
          ]
        },
        {
          "output_type": "display_data",
          "data": {
            "image/png": "[encoded data removed]",
            "text/plain": [
              "<Figure size 432x288 with 1 Axes>"
            ]
          },
          "metadata": {
            "needs_background": "light"
          }
        }
      ]
    },
    {
      "cell_type": "code",
      "metadata": {
        "colab": {
          "base_uri": "https://localhost:8080/",
          "height": 406
        },
        "id": "h1eq_Za0M22x",
        "outputId": "1a7c7209-03c4-42d2-f02b-93c396f516c9"
      },
      "source": [
        "# 성별에 따른 입내원일수 분포 \n",
        "plt.figure(figsize=(8, 6))\n",
        "df['입내원일수'][df['성별코드']==1].plot(kind = 'kde')\n",
        "df['입내원일수'][df['성별코드']==2].plot(kind = 'kde')\n",
        "\n",
        "plt.xlabel('입내원일수')\n",
        "plt.show()\n"
      ],
      "execution_count": 43,
      "outputs": [
        {
          "output_type": "execute_result",
          "data": {
            "text/plain": [
              "Text(0.5, 0, '입내원일수')"
            ]
          },
          "metadata": {},
          "execution_count": 43
        },
        {
          "output_type": "stream",
          "name": "stderr",
          "text": [
            "findfont: Font family ['NanumGothic Eco'] not found. Falling back to DejaVu Sans.\n"
          ]
        },
        {
          "output_type": "display_data",
          "data": {
            "image/png": "[encoded data removed]",
            "text/plain": [
              "<Figure size 576x432 with 1 Axes>"
            ]
          },
          "metadata": {
            "needs_background": "light"
          }
        }
      ]
    },
    {
      "cell_type": "code",
      "metadata": {
        "id": "voqEx-yJQjME"
      },
      "source": [
        "fig = px.histogram(df, x=\"입내원일수\",  color=\"성별코드\")\n",
        "fig.show()"
      ],
      "execution_count": 17,
      "outputs": []
    },
    {
      "cell_type": "code",
      "metadata": {
        "id": "E3wNgIr-R4qh"
      },
      "source": [
        "# import plotly.figure_factory as ff\n",
        "\n",
        "\n",
        "# group_labels = ['입내원일수'] # name of the dataset\n",
        "\n",
        "# fig = ff.create_distplot([df['입내원일수']], group_labels)\n",
        "# fig.show()"
      ],
      "execution_count": 22,
      "outputs": []
    },
    {
      "cell_type": "code",
      "metadata": {
        "colab": {
          "base_uri": "https://localhost:8080/"
        },
        "id": "ICDtd980WJMO",
        "outputId": "bf9bfc81-6e51-4868-a23c-6c7002362b58"
      },
      "source": [
        "len(df['입내원일수'].unique())"
      ],
      "execution_count": 24,
      "outputs": [
        {
          "output_type": "execute_result",
          "data": {
            "text/plain": [
              "210"
            ]
          },
          "metadata": {},
          "execution_count": 24
        }
      ]
    },
    {
      "cell_type": "code",
      "metadata": {
        "colab": {
          "base_uri": "https://localhost:8080/",
          "height": 396
        },
        "id": "l2o2JWD9TlWL",
        "outputId": "b67f4811-575d-40e0-a054-da8992e7d377"
      },
      "source": [
        "plt.figure(figsize=(20, 6))\n",
        "sns.countplot(df['입내원일수'])\n",
        "plt.show()"
      ],
      "execution_count": 26,
      "outputs": [
        {
          "output_type": "display_data",
          "data": {
            "image/png": "[encoded data removed]",
            "text/plain": [
              "<Figure size 1440x432 with 1 Axes>"
            ]
          },
          "metadata": {
            "needs_background": "light"
          }
        }
      ]
    },
    {
      "cell_type": "code",
      "metadata": {
        "colab": {
          "base_uri": "https://localhost:8080/",
          "height": 383
        },
        "id": "BU5Xu3yxMJsC",
        "outputId": "09173983-5fd3-4832-8f04-fea4892b4636"
      },
      "source": [
        "plt.figure(figsize=(20, 6))\n",
        "sns.barplot(x=df['입내원일수'].value_counts().index, y=df['입내원일수'].value_counts())\n",
        "plt.show()"
      ],
      "execution_count": 28,
      "outputs": [
        {
          "output_type": "display_data",
          "data": {
            "image/png": "[encoded data removed]",
            "text/plain": [
              "<Figure size 1440x432 with 1 Axes>"
            ]
          },
          "metadata": {
            "needs_background": "light"
          }
        }
      ]
    },
    {
      "cell_type": "code",
      "metadata": {
        "id": "tsjEqc_kMsdI"
      },
      "source": [
        "# min_max해서 해보기 \n",
        "from sklearn import preprocessing \n",
        "import numpy as np\n",
        "min_max = preprocessing.MinMaxScaler()\n",
        "x_scaled= min_max.fit_transform(np.array(df['입내원일수']).reshape(-1,1))\n"
      ],
      "execution_count": 37,
      "outputs": []
    },
    {
      "cell_type": "code",
      "metadata": {
        "id": "nZNkdqjrXxOb"
      },
      "source": [
        "result = []\n",
        "for i in range(len(x_scaled)) : \n",
        "  result.append(x_scaled[i][0])"
      ],
      "execution_count": 49,
      "outputs": []
    },
    {
      "cell_type": "code",
      "metadata": {
        "id": "P5uGIFinYhQ3"
      },
      "source": [
        "df['입내원일수_scaled'] = result"
      ],
      "execution_count": 51,
      "outputs": []
    },
    {
      "cell_type": "code",
      "metadata": {
        "colab": {
          "base_uri": "https://localhost:8080/",
          "height": 386
        },
        "id": "qW7bn_HCY1pu",
        "outputId": "8b37b4f1-dbff-4f34-ccb8-617c9cdd5614"
      },
      "source": [
        "plt.figure(figsize=(20, 6))\n",
        "sns.kdeplot(df['입내원일수_scaled'])\n",
        "plt.show()"
      ],
      "execution_count": 52,
      "outputs": [
        {
          "output_type": "display_data",
          "data": {
            "image/png": "[encoded data removed]",
            "text/plain": [
              "<Figure size 1440x432 with 1 Axes>"
            ]
          },
          "metadata": {
            "needs_background": "light"
          }
        }
      ]
    },
    {
      "cell_type": "markdown",
      "metadata": {
        "id": "FCD3YFX6at1c"
      },
      "source": [
        "음... scale해도 왜도가 너무 커서 과연 의미가 있을 것인가?! \n",
        "그리고 당연히 입원을 하면 2일 이상이라서 그것도 생각해봐야 할 것 같음 "
      ]
    },
    {
      "cell_type": "markdown",
      "metadata": {
        "id": "__qbdqNJbKC-"
      },
      "source": [
        "주상병코드와 부상병코드 연관규칙을 해볼까..? "
      ]
    },
    {
      "cell_type": "code",
      "metadata": {
        "id": "dAFjIM-IY5hU"
      },
      "source": [
        ""
      ],
      "execution_count": null,
      "outputs": []
    }
  ]
}