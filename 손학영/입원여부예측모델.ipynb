{
  "nbformat": 4,
  "nbformat_minor": 0,
  "metadata": {
    "colab": {
      "name": "입원여부예측모델.ipynb",
      "provenance": []
    },
    "kernelspec": {
      "name": "python3",
      "display_name": "Python 3"
    },
    "language_info": {
      "name": "python"
    }
  },
  "cells": [
    {
      "cell_type": "markdown",
      "metadata": {
        "id": "X9z1gq_lZ6rf"
      },
      "source": [
        "# 1.Decision Tree \n",
        "\n",
        "\n"
      ]
    },
    {
      "cell_type": "markdown",
      "metadata": {
        "id": "qwnQlpWD2Gi1"
      },
      "source": [
        "*주의할점*\n",
        "- 상관없는 속성이 들어갈 수도 \n",
        "- rectilinear splits 쓰기 때문에 2차원 데이터 분포 보고 모델 사용 여부 결정하는게 좋음 (대각선 하나만 그어도 되는 거면 svm이 나으니깐) "
      ]
    },
    {
      "cell_type": "markdown",
      "metadata": {
        "id": "RK5DazSWbyJ1"
      },
      "source": [
        "## 1-1) 전처리 \n",
        "- 이산, 연속형 모두 가능 \n",
        "- any distribution 가능 \n",
        "- missing value 알아서 처리해줌 (추정해서 처리해줌) \n",
        "- redundant attribute 알아서 처리해줌 \n",
        "\n",
        "\n",
        "\n"
      ]
    },
    {
      "cell_type": "markdown",
      "metadata": {
        "id": "__HiWQQ0bzkx"
      },
      "source": [
        "## 1-2) pre-parameter \n",
        "- Splitting criterion \n",
        "  - 어떤 속성을 가지고 분류할 것인지 : Impurity (entropy, gini ..) => information gain (사실 이거는 성능에 영향 X , 멈추는 기준에만 영향 O..근데 멈추는 위치가 중요하긴 함 ) \n",
        "- Stopping criterion \n",
        "  - depth\n",
        "  - 단일클래스 90% 이상 \n",
        "  - 노드 개수 "
      ]
    },
    {
      "cell_type": "markdown",
      "metadata": {
        "id": "8L6t_Wmib1M0"
      },
      "source": [
        "## 1-3) 모델 고르기 \n",
        "\n",
        "- overfitting => 모델 복잡도 낮추기 (노드 개수 줄이기)\n",
        "\n",
        "- model selection \n",
        "  - validation set 사용하기 \n",
        "  - (validation 과 test 비율은 적당히 해야 함) \n",
        "\n",
        "- Model Evaluation\n",
        "  - [k-fold cross-validation](https://dlearner.tistory.com/21?category=828987)\n",
        "  \n",
        "\n"
      ]
    },
    {
      "cell_type": "code",
      "metadata": {
        "id": "9cbVa-jo7i8u"
      },
      "source": [
        ""
      ],
      "execution_count": null,
      "outputs": []
    },
    {
      "cell_type": "markdown",
      "metadata": {
        "id": "Mncs_0mfz8ph"
      },
      "source": [
        "# 2. Nearest Neighbor Classifiers \n",
        "- 이건 모델을 따로 만드는 것은 아님 \n",
        "- 데이터가 오면 train데이터에서 새로운 데이터랑 가장 닮은 포인트들을 추려내서 class 판별 \n",
        "\n",
        "*주의할 점*\n",
        "- 실시간 분류에서는 KNN 쓰는 것 추천 X (계속 로딩 걸리기 때문에) \n",
        "- missing value 처리 못해줌 \n",
        "- 관련없는 속성 들어갈 수 있음 (유사도에 영향 줌)\n"
      ]
    },
    {
      "cell_type": "markdown",
      "metadata": {
        "id": "XS-VEpYU076X"
      },
      "source": [
        "## 2-1) 전처리  \n",
        "- missing value 처리 \n",
        "- 정규화\n",
        "- 차원 줄이기 (PCA) \n",
        "\n",
        "\n",
        "\n"
      ]
    },
    {
      "cell_type": "markdown",
      "metadata": {
        "id": "6sNmD3g52lfQ"
      },
      "source": [
        "## 2-2) Parameter \n",
        "- k => 짝수로 잘 안 함 \n",
        "- class 선택 방법 : 다수결 or 거리 가중치 \n",
        "- 유사도 선택 : 유클리디안 거리, Jaccard coefficient, 코사인 유사도, 피어슨 상관계수 등..(성능 좌지우지) "
      ]
    },
    {
      "cell_type": "code",
      "metadata": {
        "id": "6ahr0Tb67juy"
      },
      "source": [
        ""
      ],
      "execution_count": null,
      "outputs": []
    },
    {
      "cell_type": "markdown",
      "metadata": {
        "id": "qTd2Sbg93v0j"
      },
      "source": [
        "# 3. Naive Bayes Classifier \n",
        "- Probablilistic : 스팸을 발생시킬 확률을 구해주는 분류기 \n",
        "- 실시간 업데이트 가능 \n",
        "- 이상치 영향 안받음 \n",
        "- 결측치는 알아서 버림 \n",
        "- 관련없는 속성에 영향 잘 안받음 \n",
        "\n"
      ]
    },
    {
      "cell_type": "markdown",
      "metadata": {
        "id": "CZ52Ylrt5gmm"
      },
      "source": [
        "## 3-1) 전처리 \n",
        "- 정규화\n",
        "- 카테고리형은 그대로 두면 됨 (다만 너무 많으면 확률값이 0으로 나올 수 있음) \n"
      ]
    },
    {
      "cell_type": "markdown",
      "metadata": {
        "id": "UA1MXVU37aTK"
      },
      "source": [
        "## 3-2) Parameter \n",
        "- 연속형 데이터는 정규분포를 따르고 있음을 명시해주기"
      ]
    },
    {
      "cell_type": "code",
      "metadata": {
        "id": "IAwGoZgk7kLY"
      },
      "source": [
        ""
      ],
      "execution_count": null,
      "outputs": []
    },
    {
      "cell_type": "markdown",
      "metadata": {
        "id": "f1nIZtA96PZF"
      },
      "source": [
        "# 4. Logistic Regreesion \n",
        "- 스팸일 확률을 구해주는 분류기 \n",
        "- Binary classifier \n",
        "- 관련없는 속성에 영향 잘 안받음\n",
        "\n",
        "*주의할 점*\n",
        "- missing value 처리 못해줌 "
      ]
    },
    {
      "cell_type": "code",
      "metadata": {
        "id": "w20eJhV9z7qG"
      },
      "source": [
        ""
      ],
      "execution_count": null,
      "outputs": []
    }
  ]
}