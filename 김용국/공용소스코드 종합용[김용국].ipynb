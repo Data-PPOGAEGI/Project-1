{
  "nbformat": 4,
  "nbformat_minor": 0,
  "metadata": {
    "orig_nbformat": 4,
    "language_info": {
      "name": "python",
      "version": "3.8.10",
      "mimetype": "text/x-python",
      "codemirror_mode": {
        "name": "ipython",
        "version": 3
      },
      "pygments_lexer": "ipython3",
      "nbconvert_exporter": "python",
      "file_extension": ".py"
    },
    "kernelspec": {
      "name": "python3",
      "display_name": "Python 3.8.10 64-bit ('base': conda)"
    },
    "interpreter": {
      "hash": "fe3bab233825460445dbfeea6dcd52ef5815a3fa13c858fea07ac830aa383284"
    },
    "colab": {
      "name": "공용소스코드 종합용[김용국].ipynb",
      "provenance": [],
      "collapsed_sections": []
    }
  },
  "cells": [
    {
      "cell_type": "code",
      "metadata": {
        "id": "ovu4jYPURE1c",
        "outputId": "9b2feef6-92dc-4b4b-d2b7-dfe87aff83e5"
      },
      "source": [
        "# 공용 소스코드 종합을 위한 개별 작성파일입니다.\n",
        "# 해당파일에 공유할 코드를 작성해주시고, 수정시에는 꼭 해당양식을 맞춰서 해주세요.\n",
        "# 작성코드에 세부적으로 주석을 달아주시면 감사드리겠습니다.\n",
        "# 수정시에는 수정한 코드부분에 수정일시 및 수정내용을 작성해주세요.\n",
        "# 공용 소스코드에 반영 후에는 반영완료로 제가 따로 수정해서 반영해드리겠습니다.\n",
        "print('만나서 반갑습니다. 함께 힘을 모아 프로젝트 마무리까지 같이 잘해봅시다!') # 2021.09.29 16:35부 (수정) / 수정내용 : print문 추가"
      ],
      "execution_count": null,
      "outputs": [
        {
          "output_type": "stream",
          "name": "stdout",
          "text": [
            "만나서 반갑습니다. 함께 힘을 모아 프로젝트 마무리까지 같이 잘해봅시다!\n"
          ]
        }
      ]
    },
    {
      "cell_type": "code",
      "metadata": {
        "id": "Vo9Wm7smRHTx"
      },
      "source": [
        "!apt-get install -y fonts-nanum > /dev/null\n",
        "!fc-cache -fv > /dev/null\n",
        "!rm -rf ~/.cache/matplotlib > /dev/null\n",
        "# 런타임 다시시작"
      ],
      "execution_count": 2,
      "outputs": []
    },
    {
      "cell_type": "code",
      "metadata": {
        "id": "dwHGnxjIRIMn"
      },
      "source": [
        "import numpy as np\n",
        "import pandas as pd\n",
        "import matplotlib as mpl\n",
        "import matplotlib.pyplot as plt\n",
        "mpl.rcParams['axes.unicode_minus'] = False\n",
        "plt.rc('font', family='NanumBarunGothic')"
      ],
      "execution_count": 3,
      "outputs": []
    },
    {
      "cell_type": "code",
      "metadata": {
        "id": "KRLh3FEWRT-3"
      },
      "source": [
        "df1 = pd.read_csv(\"/content/T20_2019_1백만.1.csv\", encoding = \"euc-kr\")\n",
        "df2 = pd.read_csv(\"/content/T20_2019_1백만.2.csv\", encoding = \"euc-kr\")\n",
        "df3 = pd.read_csv(\"/content/T20_2019_1백만.3.csv\", encoding = \"euc-kr\")"
      ],
      "execution_count": null,
      "outputs": []
    },
    {
      "cell_type": "code",
      "metadata": {
        "colab": {
          "base_uri": "https://localhost:8080/",
          "height": 309
        },
        "id": "vq4VXS9tRViK",
        "outputId": "37e5393a-1c17-473b-e58c-6afd8b0bd6aa"
      },
      "source": [
        "df = pd.concat([df1,df2,df3])\n",
        "df.tail()"
      ],
      "execution_count": null,
      "outputs": [
        {
          "output_type": "execute_result",
          "data": {
            "text/html": [
              "<div>\n",
              "<style scoped>\n",
              "    .dataframe tbody tr th:only-of-type {\n",
              "        vertical-align: middle;\n",
              "    }\n",
              "\n",
              "    .dataframe tbody tr th {\n",
              "        vertical-align: top;\n",
              "    }\n",
              "\n",
              "    .dataframe thead th {\n",
              "        text-align: right;\n",
              "    }\n",
              "</style>\n",
              "<table border=\"1\" class=\"dataframe\">\n",
              "  <thead>\n",
              "    <tr style=\"text-align: right;\">\n",
              "      <th></th>\n",
              "      <th>기준년도</th>\n",
              "      <th>가입자 일련번호</th>\n",
              "      <th>진료내역일련번호</th>\n",
              "      <th>성별코드</th>\n",
              "      <th>연령대코드</th>\n",
              "      <th>시도코드</th>\n",
              "      <th>요양개시일자</th>\n",
              "      <th>서식코드</th>\n",
              "      <th>진료과목코드</th>\n",
              "      <th>주상병코드</th>\n",
              "      <th>부상병코드</th>\n",
              "      <th>요양일수</th>\n",
              "      <th>입내원일수</th>\n",
              "      <th>심결가산율</th>\n",
              "      <th>심결요양급여비용총액</th>\n",
              "      <th>심결본인부담금</th>\n",
              "      <th>심결보험자부담금</th>\n",
              "      <th>총처방일수</th>\n",
              "      <th>데이터 기준일자</th>\n",
              "    </tr>\n",
              "  </thead>\n",
              "  <tbody>\n",
              "    <tr>\n",
              "      <th>3322111</th>\n",
              "      <td>2019</td>\n",
              "      <td>952268</td>\n",
              "      <td>108889976</td>\n",
              "      <td>2</td>\n",
              "      <td>13</td>\n",
              "      <td>48</td>\n",
              "      <td>20190808</td>\n",
              "      <td>3</td>\n",
              "      <td>12</td>\n",
              "      <td>H104</td>\n",
              "      <td>H019</td>\n",
              "      <td>1.0</td>\n",
              "      <td>1.0</td>\n",
              "      <td>0.15</td>\n",
              "      <td>18470.0</td>\n",
              "      <td>5500.0</td>\n",
              "      <td>12970.0</td>\n",
              "      <td>1.0</td>\n",
              "      <td>20201222.0</td>\n",
              "    </tr>\n",
              "    <tr>\n",
              "      <th>3322112</th>\n",
              "      <td>2019</td>\n",
              "      <td>952268</td>\n",
              "      <td>100471815</td>\n",
              "      <td>2</td>\n",
              "      <td>13</td>\n",
              "      <td>48</td>\n",
              "      <td>20190221</td>\n",
              "      <td>3</td>\n",
              "      <td>1</td>\n",
              "      <td>I109</td>\n",
              "      <td>E780</td>\n",
              "      <td>1.0</td>\n",
              "      <td>1.0</td>\n",
              "      <td>0.15</td>\n",
              "      <td>20650.0</td>\n",
              "      <td>6100.0</td>\n",
              "      <td>14550.0</td>\n",
              "      <td>60.0</td>\n",
              "      <td>20201222.0</td>\n",
              "    </tr>\n",
              "    <tr>\n",
              "      <th>3322113</th>\n",
              "      <td>2019</td>\n",
              "      <td>952268</td>\n",
              "      <td>105954617</td>\n",
              "      <td>2</td>\n",
              "      <td>13</td>\n",
              "      <td>48</td>\n",
              "      <td>20191203</td>\n",
              "      <td>3</td>\n",
              "      <td>1</td>\n",
              "      <td>J060</td>\n",
              "      <td>J310</td>\n",
              "      <td>1.0</td>\n",
              "      <td>1.0</td>\n",
              "      <td>0.15</td>\n",
              "      <td>15690.0</td>\n",
              "      <td>4700.0</td>\n",
              "      <td>10990.0</td>\n",
              "      <td>4.0</td>\n",
              "      <td>20201222.0</td>\n",
              "    </tr>\n",
              "    <tr>\n",
              "      <th>3322114</th>\n",
              "      <td>2019</td>\n",
              "      <td>952268</td>\n",
              "      <td>105989270</td>\n",
              "      <td>2</td>\n",
              "      <td>13</td>\n",
              "      <td>48</td>\n",
              "      <td>20191207</td>\n",
              "      <td>3</td>\n",
              "      <td>1</td>\n",
              "      <td>J310</td>\n",
              "      <td>J304</td>\n",
              "      <td>1.0</td>\n",
              "      <td>1.0</td>\n",
              "      <td>0.15</td>\n",
              "      <td>13660.0</td>\n",
              "      <td>4000.0</td>\n",
              "      <td>9660.0</td>\n",
              "      <td>5.0</td>\n",
              "      <td>20201222.0</td>\n",
              "    </tr>\n",
              "    <tr>\n",
              "      <th>3322115</th>\n",
              "      <td>2019</td>\n",
              "      <td>952268</td>\n",
              "      <td>106021623</td>\n",
              "      <td>2</td>\n",
              "      <td>13</td>\n",
              "      <td>48</td>\n",
              "      <td>20191202</td>\n",
              "      <td>3</td>\n",
              "      <td>1</td>\n",
              "      <td>J22</td>\n",
              "      <td>J303</td>\n",
              "      <td>1.0</td>\n",
              "      <td>1.0</td>\n",
              "      <td>0.15</td>\n",
              "      <td>11210.0</td>\n",
              "      <td>3300.0</td>\n",
              "      <td>7910.0</td>\n",
              "      <td>3.0</td>\n",
              "      <td>20.0</td>\n",
              "    </tr>\n",
              "  </tbody>\n",
              "</table>\n",
              "</div>"
            ],
            "text/plain": [
              "         기준년도  가입자 일련번호   진료내역일련번호  성별코드  ...  심결본인부담금  심결보험자부담금  총처방일수    데이터 기준일자\n",
              "3322111  2019    952268  108889976     2  ...   5500.0   12970.0    1.0  20201222.0\n",
              "3322112  2019    952268  100471815     2  ...   6100.0   14550.0   60.0  20201222.0\n",
              "3322113  2019    952268  105954617     2  ...   4700.0   10990.0    4.0  20201222.0\n",
              "3322114  2019    952268  105989270     2  ...   4000.0    9660.0    5.0  20201222.0\n",
              "3322115  2019    952268  106021623     2  ...   3300.0    7910.0    3.0        20.0\n",
              "\n",
              "[5 rows x 19 columns]"
            ]
          },
          "metadata": {},
          "execution_count": 21
        }
      ]
    },
    {
      "cell_type": "code",
      "metadata": {
        "id": "go2BTIj4RXUk"
      },
      "source": [
        "del df1, df2, df3"
      ],
      "execution_count": null,
      "outputs": []
    },
    {
      "cell_type": "markdown",
      "metadata": {
        "id": "RCQ7jhUoRaw1"
      },
      "source": [
        "## df에 입원 여부 컬럼 추가 (입원 = 1 입원X = 0 로 바꾸기)"
      ]
    },
    {
      "cell_type": "code",
      "metadata": {
        "colab": {
          "base_uri": "https://localhost:8080/",
          "height": 326
        },
        "id": "0vLEJjJsRYnR",
        "outputId": "ac850bb1-2fc9-4c0e-82c8-4332d78082ad"
      },
      "source": [
        "df['입원여부'] = df['서식코드'].apply(lambda x: 1 if x==2 else 0)\n",
        "df.head()"
      ],
      "execution_count": null,
      "outputs": [
        {
          "output_type": "execute_result",
          "data": {
            "text/html": [
              "<div>\n",
              "<style scoped>\n",
              "    .dataframe tbody tr th:only-of-type {\n",
              "        vertical-align: middle;\n",
              "    }\n",
              "\n",
              "    .dataframe tbody tr th {\n",
              "        vertical-align: top;\n",
              "    }\n",
              "\n",
              "    .dataframe thead th {\n",
              "        text-align: right;\n",
              "    }\n",
              "</style>\n",
              "<table border=\"1\" class=\"dataframe\">\n",
              "  <thead>\n",
              "    <tr style=\"text-align: right;\">\n",
              "      <th></th>\n",
              "      <th>기준년도</th>\n",
              "      <th>가입자 일련번호</th>\n",
              "      <th>진료내역일련번호</th>\n",
              "      <th>성별코드</th>\n",
              "      <th>연령대코드</th>\n",
              "      <th>시도코드</th>\n",
              "      <th>요양개시일자</th>\n",
              "      <th>서식코드</th>\n",
              "      <th>진료과목코드</th>\n",
              "      <th>주상병코드</th>\n",
              "      <th>부상병코드</th>\n",
              "      <th>요양일수</th>\n",
              "      <th>입내원일수</th>\n",
              "      <th>심결가산율</th>\n",
              "      <th>심결요양급여비용총액</th>\n",
              "      <th>심결본인부담금</th>\n",
              "      <th>심결보험자부담금</th>\n",
              "      <th>총처방일수</th>\n",
              "      <th>데이터 기준일자</th>\n",
              "      <th>입원여부</th>\n",
              "    </tr>\n",
              "  </thead>\n",
              "  <tbody>\n",
              "    <tr>\n",
              "      <th>0</th>\n",
              "      <td>2019</td>\n",
              "      <td>1</td>\n",
              "      <td>104243474</td>\n",
              "      <td>2</td>\n",
              "      <td>12</td>\n",
              "      <td>46</td>\n",
              "      <td>20191104</td>\n",
              "      <td>3</td>\n",
              "      <td>5</td>\n",
              "      <td>M751</td>\n",
              "      <td>M750</td>\n",
              "      <td>1.0</td>\n",
              "      <td>1.0</td>\n",
              "      <td>0.25</td>\n",
              "      <td>19240.0</td>\n",
              "      <td>9600.0</td>\n",
              "      <td>9640.0</td>\n",
              "      <td>0.0</td>\n",
              "      <td>20201222.0</td>\n",
              "      <td>0</td>\n",
              "    </tr>\n",
              "    <tr>\n",
              "      <th>1</th>\n",
              "      <td>2019</td>\n",
              "      <td>1</td>\n",
              "      <td>107479370</td>\n",
              "      <td>2</td>\n",
              "      <td>12</td>\n",
              "      <td>46</td>\n",
              "      <td>20190806</td>\n",
              "      <td>3</td>\n",
              "      <td>1</td>\n",
              "      <td>E1164</td>\n",
              "      <td>N308</td>\n",
              "      <td>1.0</td>\n",
              "      <td>1.0</td>\n",
              "      <td>0.25</td>\n",
              "      <td>145680.0</td>\n",
              "      <td>72800.0</td>\n",
              "      <td>72880.0</td>\n",
              "      <td>0.0</td>\n",
              "      <td>20201222.0</td>\n",
              "      <td>0</td>\n",
              "    </tr>\n",
              "    <tr>\n",
              "      <th>2</th>\n",
              "      <td>2019</td>\n",
              "      <td>1</td>\n",
              "      <td>106881883</td>\n",
              "      <td>2</td>\n",
              "      <td>12</td>\n",
              "      <td>46</td>\n",
              "      <td>20190920</td>\n",
              "      <td>3</td>\n",
              "      <td>1</td>\n",
              "      <td>N308</td>\n",
              "      <td>E1164</td>\n",
              "      <td>1.0</td>\n",
              "      <td>1.0</td>\n",
              "      <td>0.25</td>\n",
              "      <td>13240.0</td>\n",
              "      <td>6600.0</td>\n",
              "      <td>6640.0</td>\n",
              "      <td>3.0</td>\n",
              "      <td>20201222.0</td>\n",
              "      <td>0</td>\n",
              "    </tr>\n",
              "    <tr>\n",
              "      <th>3</th>\n",
              "      <td>2019</td>\n",
              "      <td>1</td>\n",
              "      <td>109043837</td>\n",
              "      <td>2</td>\n",
              "      <td>12</td>\n",
              "      <td>46</td>\n",
              "      <td>20190807</td>\n",
              "      <td>2</td>\n",
              "      <td>1</td>\n",
              "      <td>E1164</td>\n",
              "      <td>N308</td>\n",
              "      <td>7.0</td>\n",
              "      <td>21.0</td>\n",
              "      <td>0.25</td>\n",
              "      <td>861590.0</td>\n",
              "      <td>205810.0</td>\n",
              "      <td>655780.0</td>\n",
              "      <td>0.0</td>\n",
              "      <td>20201222.0</td>\n",
              "      <td>1</td>\n",
              "    </tr>\n",
              "    <tr>\n",
              "      <th>4</th>\n",
              "      <td>2019</td>\n",
              "      <td>1</td>\n",
              "      <td>103174392</td>\n",
              "      <td>2</td>\n",
              "      <td>12</td>\n",
              "      <td>46</td>\n",
              "      <td>20190318</td>\n",
              "      <td>3</td>\n",
              "      <td>13</td>\n",
              "      <td>H6531</td>\n",
              "      <td>J303</td>\n",
              "      <td>1.0</td>\n",
              "      <td>1.0</td>\n",
              "      <td>0.15</td>\n",
              "      <td>48440.0</td>\n",
              "      <td>14500.0</td>\n",
              "      <td>33940.0</td>\n",
              "      <td>3.0</td>\n",
              "      <td>20201222.0</td>\n",
              "      <td>0</td>\n",
              "    </tr>\n",
              "  </tbody>\n",
              "</table>\n",
              "</div>"
            ],
            "text/plain": [
              "   기준년도  가입자 일련번호   진료내역일련번호  성별코드  ...  심결보험자부담금  총처방일수    데이터 기준일자  입원여부\n",
              "0  2019         1  104243474     2  ...    9640.0    0.0  20201222.0     0\n",
              "1  2019         1  107479370     2  ...   72880.0    0.0  20201222.0     0\n",
              "2  2019         1  106881883     2  ...    6640.0    3.0  20201222.0     0\n",
              "3  2019         1  109043837     2  ...  655780.0    0.0  20201222.0     1\n",
              "4  2019         1  103174392     2  ...   33940.0    3.0  20201222.0     0\n",
              "\n",
              "[5 rows x 20 columns]"
            ]
          },
          "metadata": {},
          "execution_count": 23
        }
      ]
    },
    {
      "cell_type": "markdown",
      "metadata": {
        "id": "nv-HpWWzM7HL"
      },
      "source": [
        "## 0. 데이터 전처리"
      ]
    },
    {
      "cell_type": "code",
      "metadata": {
        "colab": {
          "base_uri": "https://localhost:8080/",
          "height": 309
        },
        "id": "rZXYDkeZNP72",
        "outputId": "e1e94e52-9a42-40a6-d7f9-2f4cfe29a9e0"
      },
      "source": [
        "df['연령대'] = df['연령대코드'].apply(lambda x: ((x-1)//2)*10)\n",
        "df.tail()"
      ],
      "execution_count": null,
      "outputs": [
        {
          "output_type": "execute_result",
          "data": {
            "text/html": [
              "<div>\n",
              "<style scoped>\n",
              "    .dataframe tbody tr th:only-of-type {\n",
              "        vertical-align: middle;\n",
              "    }\n",
              "\n",
              "    .dataframe tbody tr th {\n",
              "        vertical-align: top;\n",
              "    }\n",
              "\n",
              "    .dataframe thead th {\n",
              "        text-align: right;\n",
              "    }\n",
              "</style>\n",
              "<table border=\"1\" class=\"dataframe\">\n",
              "  <thead>\n",
              "    <tr style=\"text-align: right;\">\n",
              "      <th></th>\n",
              "      <th>기준년도</th>\n",
              "      <th>가입자 일련번호</th>\n",
              "      <th>진료내역일련번호</th>\n",
              "      <th>성별코드</th>\n",
              "      <th>연령대코드</th>\n",
              "      <th>시도코드</th>\n",
              "      <th>요양개시일자</th>\n",
              "      <th>서식코드</th>\n",
              "      <th>진료과목코드</th>\n",
              "      <th>주상병코드</th>\n",
              "      <th>부상병코드</th>\n",
              "      <th>요양일수</th>\n",
              "      <th>입내원일수</th>\n",
              "      <th>심결가산율</th>\n",
              "      <th>심결요양급여비용총액</th>\n",
              "      <th>심결본인부담금</th>\n",
              "      <th>심결보험자부담금</th>\n",
              "      <th>총처방일수</th>\n",
              "      <th>데이터 기준일자</th>\n",
              "      <th>입원여부</th>\n",
              "      <th>연령대</th>\n",
              "    </tr>\n",
              "  </thead>\n",
              "  <tbody>\n",
              "    <tr>\n",
              "      <th>3322111</th>\n",
              "      <td>2019</td>\n",
              "      <td>952268</td>\n",
              "      <td>108889976</td>\n",
              "      <td>2</td>\n",
              "      <td>13</td>\n",
              "      <td>48</td>\n",
              "      <td>20190808</td>\n",
              "      <td>3</td>\n",
              "      <td>12</td>\n",
              "      <td>H104</td>\n",
              "      <td>H019</td>\n",
              "      <td>1.0</td>\n",
              "      <td>1.0</td>\n",
              "      <td>0.15</td>\n",
              "      <td>18470.0</td>\n",
              "      <td>5500.0</td>\n",
              "      <td>12970.0</td>\n",
              "      <td>1.0</td>\n",
              "      <td>20201222.0</td>\n",
              "      <td>0</td>\n",
              "      <td>60</td>\n",
              "    </tr>\n",
              "    <tr>\n",
              "      <th>3322112</th>\n",
              "      <td>2019</td>\n",
              "      <td>952268</td>\n",
              "      <td>100471815</td>\n",
              "      <td>2</td>\n",
              "      <td>13</td>\n",
              "      <td>48</td>\n",
              "      <td>20190221</td>\n",
              "      <td>3</td>\n",
              "      <td>1</td>\n",
              "      <td>I109</td>\n",
              "      <td>E780</td>\n",
              "      <td>1.0</td>\n",
              "      <td>1.0</td>\n",
              "      <td>0.15</td>\n",
              "      <td>20650.0</td>\n",
              "      <td>6100.0</td>\n",
              "      <td>14550.0</td>\n",
              "      <td>60.0</td>\n",
              "      <td>20201222.0</td>\n",
              "      <td>0</td>\n",
              "      <td>60</td>\n",
              "    </tr>\n",
              "    <tr>\n",
              "      <th>3322113</th>\n",
              "      <td>2019</td>\n",
              "      <td>952268</td>\n",
              "      <td>105954617</td>\n",
              "      <td>2</td>\n",
              "      <td>13</td>\n",
              "      <td>48</td>\n",
              "      <td>20191203</td>\n",
              "      <td>3</td>\n",
              "      <td>1</td>\n",
              "      <td>J060</td>\n",
              "      <td>J310</td>\n",
              "      <td>1.0</td>\n",
              "      <td>1.0</td>\n",
              "      <td>0.15</td>\n",
              "      <td>15690.0</td>\n",
              "      <td>4700.0</td>\n",
              "      <td>10990.0</td>\n",
              "      <td>4.0</td>\n",
              "      <td>20201222.0</td>\n",
              "      <td>0</td>\n",
              "      <td>60</td>\n",
              "    </tr>\n",
              "    <tr>\n",
              "      <th>3322114</th>\n",
              "      <td>2019</td>\n",
              "      <td>952268</td>\n",
              "      <td>105989270</td>\n",
              "      <td>2</td>\n",
              "      <td>13</td>\n",
              "      <td>48</td>\n",
              "      <td>20191207</td>\n",
              "      <td>3</td>\n",
              "      <td>1</td>\n",
              "      <td>J310</td>\n",
              "      <td>J304</td>\n",
              "      <td>1.0</td>\n",
              "      <td>1.0</td>\n",
              "      <td>0.15</td>\n",
              "      <td>13660.0</td>\n",
              "      <td>4000.0</td>\n",
              "      <td>9660.0</td>\n",
              "      <td>5.0</td>\n",
              "      <td>20201222.0</td>\n",
              "      <td>0</td>\n",
              "      <td>60</td>\n",
              "    </tr>\n",
              "    <tr>\n",
              "      <th>3322115</th>\n",
              "      <td>2019</td>\n",
              "      <td>952268</td>\n",
              "      <td>106021623</td>\n",
              "      <td>2</td>\n",
              "      <td>13</td>\n",
              "      <td>48</td>\n",
              "      <td>20191202</td>\n",
              "      <td>3</td>\n",
              "      <td>1</td>\n",
              "      <td>J22</td>\n",
              "      <td>J303</td>\n",
              "      <td>1.0</td>\n",
              "      <td>1.0</td>\n",
              "      <td>0.15</td>\n",
              "      <td>11210.0</td>\n",
              "      <td>3300.0</td>\n",
              "      <td>7910.0</td>\n",
              "      <td>3.0</td>\n",
              "      <td>20.0</td>\n",
              "      <td>0</td>\n",
              "      <td>60</td>\n",
              "    </tr>\n",
              "  </tbody>\n",
              "</table>\n",
              "</div>"
            ],
            "text/plain": [
              "         기준년도  가입자 일련번호   진료내역일련번호  성별코드  ...  총처방일수    데이터 기준일자  입원여부  연령대\n",
              "3322111  2019    952268  108889976     2  ...    1.0  20201222.0     0   60\n",
              "3322112  2019    952268  100471815     2  ...   60.0  20201222.0     0   60\n",
              "3322113  2019    952268  105954617     2  ...    4.0  20201222.0     0   60\n",
              "3322114  2019    952268  105989270     2  ...    5.0  20201222.0     0   60\n",
              "3322115  2019    952268  106021623     2  ...    3.0        20.0     0   60\n",
              "\n",
              "[5 rows x 21 columns]"
            ]
          },
          "metadata": {},
          "execution_count": 24
        }
      ]
    },
    {
      "cell_type": "markdown",
      "metadata": {
        "id": "mzqFoPmGRfND"
      },
      "source": [
        "## 1. 입원비율"
      ]
    },
    {
      "cell_type": "code",
      "metadata": {
        "colab": {
          "base_uri": "https://localhost:8080/"
        },
        "id": "r0E02kyiRE1f",
        "outputId": "d837010a-54c7-4329-d777-5c27e3bb22f9"
      },
      "source": [
        "#### 1-1. 입원 비율 (모든 방문 횟수에 대해서)\n",
        "df['입원여부'].mean()"
      ],
      "execution_count": null,
      "outputs": [
        {
          "output_type": "execute_result",
          "data": {
            "text/plain": [
              "0.02154682416145161"
            ]
          },
          "metadata": {},
          "execution_count": 25
        }
      ]
    },
    {
      "cell_type": "code",
      "metadata": {
        "colab": {
          "base_uri": "https://localhost:8080/",
          "height": 263
        },
        "id": "ftEeNcq3Qzw2",
        "outputId": "07aaa91a-e597-442a-b1d2-59c47cb0633c"
      },
      "source": [
        "df_temp = df['입원여부'].value_counts()\n",
        "df_temp.plot.pie(autopct='%.2f%%')\n",
        "plt.title('입원 여부')\n",
        "plt.axis('equal')\n",
        "plt.show()"
      ],
      "execution_count": null,
      "outputs": [
        {
          "output_type": "display_data",
          "data": {
            "image/png": "[encoded data removed]",
            "text/plain": [
              "<Figure size 432x288 with 1 Axes>"
            ]
          },
          "metadata": {}
        }
      ]
    },
    {
      "cell_type": "code",
      "metadata": {
        "id": "rprDaRf3WB5-"
      },
      "source": [
        ""
      ],
      "execution_count": null,
      "outputs": []
    },
    {
      "cell_type": "markdown",
      "metadata": {
        "id": "rDUgQ5IRRoNp"
      },
      "source": [
        "## 2. 연령별 입원 비율\n"
      ]
    },
    {
      "cell_type": "code",
      "metadata": {
        "colab": {
          "base_uri": "https://localhost:8080/",
          "height": 464
        },
        "id": "JNPWhSzGrX8D",
        "outputId": "4f365968-65f1-42ab-ac9f-d6414ffcc094"
      },
      "source": [
        "df_0 = df.groupby(['연령대']).count()\n",
        "df_0"
      ],
      "execution_count": null,
      "outputs": [
        {
          "output_type": "execute_result",
          "data": {
            "text/html": [
              "<div>\n",
              "<style scoped>\n",
              "    .dataframe tbody tr th:only-of-type {\n",
              "        vertical-align: middle;\n",
              "    }\n",
              "\n",
              "    .dataframe tbody tr th {\n",
              "        vertical-align: top;\n",
              "    }\n",
              "\n",
              "    .dataframe thead th {\n",
              "        text-align: right;\n",
              "    }\n",
              "</style>\n",
              "<table border=\"1\" class=\"dataframe\">\n",
              "  <thead>\n",
              "    <tr style=\"text-align: right;\">\n",
              "      <th></th>\n",
              "      <th>기준년도</th>\n",
              "      <th>가입자 일련번호</th>\n",
              "      <th>진료내역일련번호</th>\n",
              "      <th>성별코드</th>\n",
              "      <th>연령대코드</th>\n",
              "      <th>시도코드</th>\n",
              "      <th>요양개시일자</th>\n",
              "      <th>서식코드</th>\n",
              "      <th>진료과목코드</th>\n",
              "      <th>주상병코드</th>\n",
              "      <th>부상병코드</th>\n",
              "      <th>요양일수</th>\n",
              "      <th>입내원일수</th>\n",
              "      <th>심결가산율</th>\n",
              "      <th>심결요양급여비용총액</th>\n",
              "      <th>심결본인부담금</th>\n",
              "      <th>심결보험자부담금</th>\n",
              "      <th>총처방일수</th>\n",
              "      <th>데이터 기준일자</th>\n",
              "      <th>입원여부</th>\n",
              "    </tr>\n",
              "    <tr>\n",
              "      <th>연령대</th>\n",
              "      <th></th>\n",
              "      <th></th>\n",
              "      <th></th>\n",
              "      <th></th>\n",
              "      <th></th>\n",
              "      <th></th>\n",
              "      <th></th>\n",
              "      <th></th>\n",
              "      <th></th>\n",
              "      <th></th>\n",
              "      <th></th>\n",
              "      <th></th>\n",
              "      <th></th>\n",
              "      <th></th>\n",
              "      <th></th>\n",
              "      <th></th>\n",
              "      <th></th>\n",
              "      <th></th>\n",
              "      <th></th>\n",
              "      <th></th>\n",
              "    </tr>\n",
              "  </thead>\n",
              "  <tbody>\n",
              "    <tr>\n",
              "      <th>0</th>\n",
              "      <td>1251960</td>\n",
              "      <td>1251960</td>\n",
              "      <td>1251960</td>\n",
              "      <td>1251960</td>\n",
              "      <td>1251960</td>\n",
              "      <td>1251960</td>\n",
              "      <td>1251960</td>\n",
              "      <td>1251960</td>\n",
              "      <td>1251960</td>\n",
              "      <td>1251960</td>\n",
              "      <td>1251960</td>\n",
              "      <td>1251960</td>\n",
              "      <td>1251960</td>\n",
              "      <td>1251960</td>\n",
              "      <td>1251960</td>\n",
              "      <td>1251960</td>\n",
              "      <td>1251960</td>\n",
              "      <td>1251960</td>\n",
              "      <td>1251960</td>\n",
              "      <td>1251960</td>\n",
              "    </tr>\n",
              "    <tr>\n",
              "      <th>10</th>\n",
              "      <td>534735</td>\n",
              "      <td>534735</td>\n",
              "      <td>534735</td>\n",
              "      <td>534735</td>\n",
              "      <td>534735</td>\n",
              "      <td>534735</td>\n",
              "      <td>534735</td>\n",
              "      <td>534735</td>\n",
              "      <td>534735</td>\n",
              "      <td>534735</td>\n",
              "      <td>534735</td>\n",
              "      <td>534734</td>\n",
              "      <td>534734</td>\n",
              "      <td>534734</td>\n",
              "      <td>534734</td>\n",
              "      <td>534734</td>\n",
              "      <td>534734</td>\n",
              "      <td>534734</td>\n",
              "      <td>534734</td>\n",
              "      <td>534735</td>\n",
              "    </tr>\n",
              "    <tr>\n",
              "      <th>20</th>\n",
              "      <td>618748</td>\n",
              "      <td>618748</td>\n",
              "      <td>618748</td>\n",
              "      <td>618748</td>\n",
              "      <td>618748</td>\n",
              "      <td>618748</td>\n",
              "      <td>618748</td>\n",
              "      <td>618748</td>\n",
              "      <td>618748</td>\n",
              "      <td>618748</td>\n",
              "      <td>618748</td>\n",
              "      <td>618748</td>\n",
              "      <td>618748</td>\n",
              "      <td>618748</td>\n",
              "      <td>618748</td>\n",
              "      <td>618748</td>\n",
              "      <td>618748</td>\n",
              "      <td>618748</td>\n",
              "      <td>618748</td>\n",
              "      <td>618748</td>\n",
              "    </tr>\n",
              "    <tr>\n",
              "      <th>30</th>\n",
              "      <td>870375</td>\n",
              "      <td>870375</td>\n",
              "      <td>870375</td>\n",
              "      <td>870375</td>\n",
              "      <td>870375</td>\n",
              "      <td>870375</td>\n",
              "      <td>870375</td>\n",
              "      <td>870375</td>\n",
              "      <td>870375</td>\n",
              "      <td>870375</td>\n",
              "      <td>870375</td>\n",
              "      <td>870375</td>\n",
              "      <td>870375</td>\n",
              "      <td>870375</td>\n",
              "      <td>870375</td>\n",
              "      <td>870375</td>\n",
              "      <td>870375</td>\n",
              "      <td>870375</td>\n",
              "      <td>870375</td>\n",
              "      <td>870375</td>\n",
              "    </tr>\n",
              "    <tr>\n",
              "      <th>40</th>\n",
              "      <td>1125172</td>\n",
              "      <td>1125172</td>\n",
              "      <td>1125172</td>\n",
              "      <td>1125172</td>\n",
              "      <td>1125172</td>\n",
              "      <td>1125172</td>\n",
              "      <td>1125172</td>\n",
              "      <td>1125172</td>\n",
              "      <td>1125172</td>\n",
              "      <td>1125172</td>\n",
              "      <td>1125172</td>\n",
              "      <td>1125172</td>\n",
              "      <td>1125172</td>\n",
              "      <td>1125172</td>\n",
              "      <td>1125172</td>\n",
              "      <td>1125172</td>\n",
              "      <td>1125172</td>\n",
              "      <td>1125172</td>\n",
              "      <td>1125172</td>\n",
              "      <td>1125172</td>\n",
              "    </tr>\n",
              "    <tr>\n",
              "      <th>50</th>\n",
              "      <td>1596301</td>\n",
              "      <td>1596301</td>\n",
              "      <td>1596301</td>\n",
              "      <td>1596301</td>\n",
              "      <td>1596301</td>\n",
              "      <td>1596301</td>\n",
              "      <td>1596301</td>\n",
              "      <td>1596301</td>\n",
              "      <td>1596301</td>\n",
              "      <td>1596301</td>\n",
              "      <td>1596301</td>\n",
              "      <td>1596301</td>\n",
              "      <td>1596301</td>\n",
              "      <td>1596301</td>\n",
              "      <td>1596301</td>\n",
              "      <td>1596301</td>\n",
              "      <td>1596301</td>\n",
              "      <td>1596301</td>\n",
              "      <td>1596301</td>\n",
              "      <td>1596301</td>\n",
              "    </tr>\n",
              "    <tr>\n",
              "      <th>60</th>\n",
              "      <td>1782238</td>\n",
              "      <td>1782238</td>\n",
              "      <td>1782238</td>\n",
              "      <td>1782238</td>\n",
              "      <td>1782238</td>\n",
              "      <td>1782238</td>\n",
              "      <td>1782238</td>\n",
              "      <td>1782238</td>\n",
              "      <td>1782238</td>\n",
              "      <td>1782237</td>\n",
              "      <td>1782237</td>\n",
              "      <td>1782237</td>\n",
              "      <td>1782237</td>\n",
              "      <td>1782237</td>\n",
              "      <td>1782237</td>\n",
              "      <td>1782237</td>\n",
              "      <td>1782237</td>\n",
              "      <td>1782237</td>\n",
              "      <td>1782237</td>\n",
              "      <td>1782238</td>\n",
              "    </tr>\n",
              "    <tr>\n",
              "      <th>70</th>\n",
              "      <td>1485797</td>\n",
              "      <td>1485797</td>\n",
              "      <td>1485797</td>\n",
              "      <td>1485797</td>\n",
              "      <td>1485797</td>\n",
              "      <td>1485797</td>\n",
              "      <td>1485797</td>\n",
              "      <td>1485797</td>\n",
              "      <td>1485797</td>\n",
              "      <td>1485797</td>\n",
              "      <td>1485797</td>\n",
              "      <td>1485797</td>\n",
              "      <td>1485797</td>\n",
              "      <td>1485797</td>\n",
              "      <td>1485797</td>\n",
              "      <td>1485797</td>\n",
              "      <td>1485797</td>\n",
              "      <td>1485797</td>\n",
              "      <td>1485797</td>\n",
              "      <td>1485797</td>\n",
              "    </tr>\n",
              "    <tr>\n",
              "      <th>80</th>\n",
              "      <td>740000</td>\n",
              "      <td>740000</td>\n",
              "      <td>740000</td>\n",
              "      <td>740000</td>\n",
              "      <td>740000</td>\n",
              "      <td>740000</td>\n",
              "      <td>740000</td>\n",
              "      <td>740000</td>\n",
              "      <td>740000</td>\n",
              "      <td>740000</td>\n",
              "      <td>740000</td>\n",
              "      <td>740000</td>\n",
              "      <td>740000</td>\n",
              "      <td>740000</td>\n",
              "      <td>740000</td>\n",
              "      <td>740000</td>\n",
              "      <td>740000</td>\n",
              "      <td>740000</td>\n",
              "      <td>740000</td>\n",
              "      <td>740000</td>\n",
              "    </tr>\n",
              "  </tbody>\n",
              "</table>\n",
              "</div>"
            ],
            "text/plain": [
              "        기준년도  가입자 일련번호  진료내역일련번호     성별코드  ...  심결보험자부담금    총처방일수  데이터 기준일자     입원여부\n",
              "연령대                                        ...                                      \n",
              "0    1251960   1251960   1251960  1251960  ...   1251960  1251960   1251960  1251960\n",
              "10    534735    534735    534735   534735  ...    534734   534734    534734   534735\n",
              "20    618748    618748    618748   618748  ...    618748   618748    618748   618748\n",
              "30    870375    870375    870375   870375  ...    870375   870375    870375   870375\n",
              "40   1125172   1125172   1125172  1125172  ...   1125172  1125172   1125172  1125172\n",
              "50   1596301   1596301   1596301  1596301  ...   1596301  1596301   1596301  1596301\n",
              "60   1782238   1782238   1782238  1782238  ...   1782237  1782237   1782237  1782238\n",
              "70   1485797   1485797   1485797  1485797  ...   1485797  1485797   1485797  1485797\n",
              "80    740000    740000    740000   740000  ...    740000   740000    740000   740000\n",
              "\n",
              "[9 rows x 20 columns]"
            ]
          },
          "metadata": {},
          "execution_count": 27
        }
      ]
    },
    {
      "cell_type": "code",
      "metadata": {
        "colab": {
          "base_uri": "https://localhost:8080/",
          "height": 760
        },
        "id": "Hi7zCrWmtMQ2",
        "outputId": "0ac16d42-03bb-4f94-b890-5de6da3565da"
      },
      "source": [
        "df_1 = df.groupby(['연령대', '입원여부']).count()\n",
        "df_1"
      ],
      "execution_count": null,
      "outputs": [
        {
          "output_type": "execute_result",
          "data": {
            "text/html": [
              "<div>\n",
              "<style scoped>\n",
              "    .dataframe tbody tr th:only-of-type {\n",
              "        vertical-align: middle;\n",
              "    }\n",
              "\n",
              "    .dataframe tbody tr th {\n",
              "        vertical-align: top;\n",
              "    }\n",
              "\n",
              "    .dataframe thead th {\n",
              "        text-align: right;\n",
              "    }\n",
              "</style>\n",
              "<table border=\"1\" class=\"dataframe\">\n",
              "  <thead>\n",
              "    <tr style=\"text-align: right;\">\n",
              "      <th></th>\n",
              "      <th></th>\n",
              "      <th>기준년도</th>\n",
              "      <th>가입자 일련번호</th>\n",
              "      <th>진료내역일련번호</th>\n",
              "      <th>성별코드</th>\n",
              "      <th>연령대코드</th>\n",
              "      <th>시도코드</th>\n",
              "      <th>요양개시일자</th>\n",
              "      <th>서식코드</th>\n",
              "      <th>진료과목코드</th>\n",
              "      <th>주상병코드</th>\n",
              "      <th>부상병코드</th>\n",
              "      <th>요양일수</th>\n",
              "      <th>입내원일수</th>\n",
              "      <th>심결가산율</th>\n",
              "      <th>심결요양급여비용총액</th>\n",
              "      <th>심결본인부담금</th>\n",
              "      <th>심결보험자부담금</th>\n",
              "      <th>총처방일수</th>\n",
              "      <th>데이터 기준일자</th>\n",
              "    </tr>\n",
              "    <tr>\n",
              "      <th>연령대</th>\n",
              "      <th>입원여부</th>\n",
              "      <th></th>\n",
              "      <th></th>\n",
              "      <th></th>\n",
              "      <th></th>\n",
              "      <th></th>\n",
              "      <th></th>\n",
              "      <th></th>\n",
              "      <th></th>\n",
              "      <th></th>\n",
              "      <th></th>\n",
              "      <th></th>\n",
              "      <th></th>\n",
              "      <th></th>\n",
              "      <th></th>\n",
              "      <th></th>\n",
              "      <th></th>\n",
              "      <th></th>\n",
              "      <th></th>\n",
              "      <th></th>\n",
              "    </tr>\n",
              "  </thead>\n",
              "  <tbody>\n",
              "    <tr>\n",
              "      <th rowspan=\"2\" valign=\"top\">0</th>\n",
              "      <th>0</th>\n",
              "      <td>1232312</td>\n",
              "      <td>1232312</td>\n",
              "      <td>1232312</td>\n",
              "      <td>1232312</td>\n",
              "      <td>1232312</td>\n",
              "      <td>1232312</td>\n",
              "      <td>1232312</td>\n",
              "      <td>1232312</td>\n",
              "      <td>1232312</td>\n",
              "      <td>1232312</td>\n",
              "      <td>1232312</td>\n",
              "      <td>1232312</td>\n",
              "      <td>1232312</td>\n",
              "      <td>1232312</td>\n",
              "      <td>1232312</td>\n",
              "      <td>1232312</td>\n",
              "      <td>1232312</td>\n",
              "      <td>1232312</td>\n",
              "      <td>1232312</td>\n",
              "    </tr>\n",
              "    <tr>\n",
              "      <th>1</th>\n",
              "      <td>19648</td>\n",
              "      <td>19648</td>\n",
              "      <td>19648</td>\n",
              "      <td>19648</td>\n",
              "      <td>19648</td>\n",
              "      <td>19648</td>\n",
              "      <td>19648</td>\n",
              "      <td>19648</td>\n",
              "      <td>19648</td>\n",
              "      <td>19648</td>\n",
              "      <td>19648</td>\n",
              "      <td>19648</td>\n",
              "      <td>19648</td>\n",
              "      <td>19648</td>\n",
              "      <td>19648</td>\n",
              "      <td>19648</td>\n",
              "      <td>19648</td>\n",
              "      <td>19648</td>\n",
              "      <td>19648</td>\n",
              "    </tr>\n",
              "    <tr>\n",
              "      <th rowspan=\"2\" valign=\"top\">10</th>\n",
              "      <th>0</th>\n",
              "      <td>528958</td>\n",
              "      <td>528958</td>\n",
              "      <td>528958</td>\n",
              "      <td>528958</td>\n",
              "      <td>528958</td>\n",
              "      <td>528958</td>\n",
              "      <td>528958</td>\n",
              "      <td>528958</td>\n",
              "      <td>528958</td>\n",
              "      <td>528958</td>\n",
              "      <td>528958</td>\n",
              "      <td>528957</td>\n",
              "      <td>528957</td>\n",
              "      <td>528957</td>\n",
              "      <td>528957</td>\n",
              "      <td>528957</td>\n",
              "      <td>528957</td>\n",
              "      <td>528957</td>\n",
              "      <td>528957</td>\n",
              "    </tr>\n",
              "    <tr>\n",
              "      <th>1</th>\n",
              "      <td>5777</td>\n",
              "      <td>5777</td>\n",
              "      <td>5777</td>\n",
              "      <td>5777</td>\n",
              "      <td>5777</td>\n",
              "      <td>5777</td>\n",
              "      <td>5777</td>\n",
              "      <td>5777</td>\n",
              "      <td>5777</td>\n",
              "      <td>5777</td>\n",
              "      <td>5777</td>\n",
              "      <td>5777</td>\n",
              "      <td>5777</td>\n",
              "      <td>5777</td>\n",
              "      <td>5777</td>\n",
              "      <td>5777</td>\n",
              "      <td>5777</td>\n",
              "      <td>5777</td>\n",
              "      <td>5777</td>\n",
              "    </tr>\n",
              "    <tr>\n",
              "      <th rowspan=\"2\" valign=\"top\">20</th>\n",
              "      <th>0</th>\n",
              "      <td>608898</td>\n",
              "      <td>608898</td>\n",
              "      <td>608898</td>\n",
              "      <td>608898</td>\n",
              "      <td>608898</td>\n",
              "      <td>608898</td>\n",
              "      <td>608898</td>\n",
              "      <td>608898</td>\n",
              "      <td>608898</td>\n",
              "      <td>608898</td>\n",
              "      <td>608898</td>\n",
              "      <td>608898</td>\n",
              "      <td>608898</td>\n",
              "      <td>608898</td>\n",
              "      <td>608898</td>\n",
              "      <td>608898</td>\n",
              "      <td>608898</td>\n",
              "      <td>608898</td>\n",
              "      <td>608898</td>\n",
              "    </tr>\n",
              "    <tr>\n",
              "      <th>1</th>\n",
              "      <td>9850</td>\n",
              "      <td>9850</td>\n",
              "      <td>9850</td>\n",
              "      <td>9850</td>\n",
              "      <td>9850</td>\n",
              "      <td>9850</td>\n",
              "      <td>9850</td>\n",
              "      <td>9850</td>\n",
              "      <td>9850</td>\n",
              "      <td>9850</td>\n",
              "      <td>9850</td>\n",
              "      <td>9850</td>\n",
              "      <td>9850</td>\n",
              "      <td>9850</td>\n",
              "      <td>9850</td>\n",
              "      <td>9850</td>\n",
              "      <td>9850</td>\n",
              "      <td>9850</td>\n",
              "      <td>9850</td>\n",
              "    </tr>\n",
              "    <tr>\n",
              "      <th rowspan=\"2\" valign=\"top\">30</th>\n",
              "      <th>0</th>\n",
              "      <td>854615</td>\n",
              "      <td>854615</td>\n",
              "      <td>854615</td>\n",
              "      <td>854615</td>\n",
              "      <td>854615</td>\n",
              "      <td>854615</td>\n",
              "      <td>854615</td>\n",
              "      <td>854615</td>\n",
              "      <td>854615</td>\n",
              "      <td>854615</td>\n",
              "      <td>854615</td>\n",
              "      <td>854615</td>\n",
              "      <td>854615</td>\n",
              "      <td>854615</td>\n",
              "      <td>854615</td>\n",
              "      <td>854615</td>\n",
              "      <td>854615</td>\n",
              "      <td>854615</td>\n",
              "      <td>854615</td>\n",
              "    </tr>\n",
              "    <tr>\n",
              "      <th>1</th>\n",
              "      <td>15760</td>\n",
              "      <td>15760</td>\n",
              "      <td>15760</td>\n",
              "      <td>15760</td>\n",
              "      <td>15760</td>\n",
              "      <td>15760</td>\n",
              "      <td>15760</td>\n",
              "      <td>15760</td>\n",
              "      <td>15760</td>\n",
              "      <td>15760</td>\n",
              "      <td>15760</td>\n",
              "      <td>15760</td>\n",
              "      <td>15760</td>\n",
              "      <td>15760</td>\n",
              "      <td>15760</td>\n",
              "      <td>15760</td>\n",
              "      <td>15760</td>\n",
              "      <td>15760</td>\n",
              "      <td>15760</td>\n",
              "    </tr>\n",
              "    <tr>\n",
              "      <th rowspan=\"2\" valign=\"top\">40</th>\n",
              "      <th>0</th>\n",
              "      <td>1106750</td>\n",
              "      <td>1106750</td>\n",
              "      <td>1106750</td>\n",
              "      <td>1106750</td>\n",
              "      <td>1106750</td>\n",
              "      <td>1106750</td>\n",
              "      <td>1106750</td>\n",
              "      <td>1106750</td>\n",
              "      <td>1106750</td>\n",
              "      <td>1106750</td>\n",
              "      <td>1106750</td>\n",
              "      <td>1106750</td>\n",
              "      <td>1106750</td>\n",
              "      <td>1106750</td>\n",
              "      <td>1106750</td>\n",
              "      <td>1106750</td>\n",
              "      <td>1106750</td>\n",
              "      <td>1106750</td>\n",
              "      <td>1106750</td>\n",
              "    </tr>\n",
              "    <tr>\n",
              "      <th>1</th>\n",
              "      <td>18422</td>\n",
              "      <td>18422</td>\n",
              "      <td>18422</td>\n",
              "      <td>18422</td>\n",
              "      <td>18422</td>\n",
              "      <td>18422</td>\n",
              "      <td>18422</td>\n",
              "      <td>18422</td>\n",
              "      <td>18422</td>\n",
              "      <td>18422</td>\n",
              "      <td>18422</td>\n",
              "      <td>18422</td>\n",
              "      <td>18422</td>\n",
              "      <td>18422</td>\n",
              "      <td>18422</td>\n",
              "      <td>18422</td>\n",
              "      <td>18422</td>\n",
              "      <td>18422</td>\n",
              "      <td>18422</td>\n",
              "    </tr>\n",
              "    <tr>\n",
              "      <th rowspan=\"2\" valign=\"top\">50</th>\n",
              "      <th>0</th>\n",
              "      <td>1564913</td>\n",
              "      <td>1564913</td>\n",
              "      <td>1564913</td>\n",
              "      <td>1564913</td>\n",
              "      <td>1564913</td>\n",
              "      <td>1564913</td>\n",
              "      <td>1564913</td>\n",
              "      <td>1564913</td>\n",
              "      <td>1564913</td>\n",
              "      <td>1564913</td>\n",
              "      <td>1564913</td>\n",
              "      <td>1564913</td>\n",
              "      <td>1564913</td>\n",
              "      <td>1564913</td>\n",
              "      <td>1564913</td>\n",
              "      <td>1564913</td>\n",
              "      <td>1564913</td>\n",
              "      <td>1564913</td>\n",
              "      <td>1564913</td>\n",
              "    </tr>\n",
              "    <tr>\n",
              "      <th>1</th>\n",
              "      <td>31388</td>\n",
              "      <td>31388</td>\n",
              "      <td>31388</td>\n",
              "      <td>31388</td>\n",
              "      <td>31388</td>\n",
              "      <td>31388</td>\n",
              "      <td>31388</td>\n",
              "      <td>31388</td>\n",
              "      <td>31388</td>\n",
              "      <td>31388</td>\n",
              "      <td>31388</td>\n",
              "      <td>31388</td>\n",
              "      <td>31388</td>\n",
              "      <td>31388</td>\n",
              "      <td>31388</td>\n",
              "      <td>31388</td>\n",
              "      <td>31388</td>\n",
              "      <td>31388</td>\n",
              "      <td>31388</td>\n",
              "    </tr>\n",
              "    <tr>\n",
              "      <th rowspan=\"2\" valign=\"top\">60</th>\n",
              "      <th>0</th>\n",
              "      <td>1745886</td>\n",
              "      <td>1745886</td>\n",
              "      <td>1745886</td>\n",
              "      <td>1745886</td>\n",
              "      <td>1745886</td>\n",
              "      <td>1745886</td>\n",
              "      <td>1745886</td>\n",
              "      <td>1745886</td>\n",
              "      <td>1745886</td>\n",
              "      <td>1745885</td>\n",
              "      <td>1745885</td>\n",
              "      <td>1745885</td>\n",
              "      <td>1745885</td>\n",
              "      <td>1745885</td>\n",
              "      <td>1745885</td>\n",
              "      <td>1745885</td>\n",
              "      <td>1745885</td>\n",
              "      <td>1745885</td>\n",
              "      <td>1745885</td>\n",
              "    </tr>\n",
              "    <tr>\n",
              "      <th>1</th>\n",
              "      <td>36352</td>\n",
              "      <td>36352</td>\n",
              "      <td>36352</td>\n",
              "      <td>36352</td>\n",
              "      <td>36352</td>\n",
              "      <td>36352</td>\n",
              "      <td>36352</td>\n",
              "      <td>36352</td>\n",
              "      <td>36352</td>\n",
              "      <td>36352</td>\n",
              "      <td>36352</td>\n",
              "      <td>36352</td>\n",
              "      <td>36352</td>\n",
              "      <td>36352</td>\n",
              "      <td>36352</td>\n",
              "      <td>36352</td>\n",
              "      <td>36352</td>\n",
              "      <td>36352</td>\n",
              "      <td>36352</td>\n",
              "    </tr>\n",
              "    <tr>\n",
              "      <th rowspan=\"2\" valign=\"top\">70</th>\n",
              "      <th>0</th>\n",
              "      <td>1450707</td>\n",
              "      <td>1450707</td>\n",
              "      <td>1450707</td>\n",
              "      <td>1450707</td>\n",
              "      <td>1450707</td>\n",
              "      <td>1450707</td>\n",
              "      <td>1450707</td>\n",
              "      <td>1450707</td>\n",
              "      <td>1450707</td>\n",
              "      <td>1450707</td>\n",
              "      <td>1450707</td>\n",
              "      <td>1450707</td>\n",
              "      <td>1450707</td>\n",
              "      <td>1450707</td>\n",
              "      <td>1450707</td>\n",
              "      <td>1450707</td>\n",
              "      <td>1450707</td>\n",
              "      <td>1450707</td>\n",
              "      <td>1450707</td>\n",
              "    </tr>\n",
              "    <tr>\n",
              "      <th>1</th>\n",
              "      <td>35090</td>\n",
              "      <td>35090</td>\n",
              "      <td>35090</td>\n",
              "      <td>35090</td>\n",
              "      <td>35090</td>\n",
              "      <td>35090</td>\n",
              "      <td>35090</td>\n",
              "      <td>35090</td>\n",
              "      <td>35090</td>\n",
              "      <td>35090</td>\n",
              "      <td>35090</td>\n",
              "      <td>35090</td>\n",
              "      <td>35090</td>\n",
              "      <td>35090</td>\n",
              "      <td>35090</td>\n",
              "      <td>35090</td>\n",
              "      <td>35090</td>\n",
              "      <td>35090</td>\n",
              "      <td>35090</td>\n",
              "    </tr>\n",
              "    <tr>\n",
              "      <th rowspan=\"2\" valign=\"top\">80</th>\n",
              "      <th>0</th>\n",
              "      <td>696704</td>\n",
              "      <td>696704</td>\n",
              "      <td>696704</td>\n",
              "      <td>696704</td>\n",
              "      <td>696704</td>\n",
              "      <td>696704</td>\n",
              "      <td>696704</td>\n",
              "      <td>696704</td>\n",
              "      <td>696704</td>\n",
              "      <td>696704</td>\n",
              "      <td>696704</td>\n",
              "      <td>696704</td>\n",
              "      <td>696704</td>\n",
              "      <td>696704</td>\n",
              "      <td>696704</td>\n",
              "      <td>696704</td>\n",
              "      <td>696704</td>\n",
              "      <td>696704</td>\n",
              "      <td>696704</td>\n",
              "    </tr>\n",
              "    <tr>\n",
              "      <th>1</th>\n",
              "      <td>43296</td>\n",
              "      <td>43296</td>\n",
              "      <td>43296</td>\n",
              "      <td>43296</td>\n",
              "      <td>43296</td>\n",
              "      <td>43296</td>\n",
              "      <td>43296</td>\n",
              "      <td>43296</td>\n",
              "      <td>43296</td>\n",
              "      <td>43296</td>\n",
              "      <td>43296</td>\n",
              "      <td>43296</td>\n",
              "      <td>43296</td>\n",
              "      <td>43296</td>\n",
              "      <td>43296</td>\n",
              "      <td>43296</td>\n",
              "      <td>43296</td>\n",
              "      <td>43296</td>\n",
              "      <td>43296</td>\n",
              "    </tr>\n",
              "  </tbody>\n",
              "</table>\n",
              "</div>"
            ],
            "text/plain": [
              "             기준년도  가입자 일련번호  진료내역일련번호  ...  심결보험자부담금    총처방일수  데이터 기준일자\n",
              "연령대 입원여부                               ...                             \n",
              "0   0     1232312   1232312   1232312  ...   1232312  1232312   1232312\n",
              "    1       19648     19648     19648  ...     19648    19648     19648\n",
              "10  0      528958    528958    528958  ...    528957   528957    528957\n",
              "    1        5777      5777      5777  ...      5777     5777      5777\n",
              "20  0      608898    608898    608898  ...    608898   608898    608898\n",
              "    1        9850      9850      9850  ...      9850     9850      9850\n",
              "30  0      854615    854615    854615  ...    854615   854615    854615\n",
              "    1       15760     15760     15760  ...     15760    15760     15760\n",
              "40  0     1106750   1106750   1106750  ...   1106750  1106750   1106750\n",
              "    1       18422     18422     18422  ...     18422    18422     18422\n",
              "50  0     1564913   1564913   1564913  ...   1564913  1564913   1564913\n",
              "    1       31388     31388     31388  ...     31388    31388     31388\n",
              "60  0     1745886   1745886   1745886  ...   1745885  1745885   1745885\n",
              "    1       36352     36352     36352  ...     36352    36352     36352\n",
              "70  0     1450707   1450707   1450707  ...   1450707  1450707   1450707\n",
              "    1       35090     35090     35090  ...     35090    35090     35090\n",
              "80  0      696704    696704    696704  ...    696704   696704    696704\n",
              "    1       43296     43296     43296  ...     43296    43296     43296\n",
              "\n",
              "[18 rows x 19 columns]"
            ]
          },
          "metadata": {},
          "execution_count": 29
        }
      ]
    },
    {
      "cell_type": "code",
      "metadata": {
        "colab": {
          "base_uri": "https://localhost:8080/",
          "height": 532
        },
        "id": "ABfpXuraqVTw",
        "outputId": "569da24f-90b2-4319-d776-befde005220a"
      },
      "source": [
        "age = ['0~9','10대','20대','30대','40대','50대','60대','70대','80대']\n",
        "data={\n",
        "    '비입원' : [1230624, 528143, 608161, 853802, 1105645, 1564150, 1743195, 1449059, 695962],\n",
        "    '입원' : [19643, 5762, 9845, 15738, 18390, 31328, 36297, 35026, 43195]\n",
        "}\n",
        "df=pd.DataFrame(data,index=age)\n",
        "\n",
        "df.plot(kind=\"bar\",stacked=True,figsize=(10,8))\n",
        "plt.legend(loc=\"lower left\",bbox_to_anchor=(0.8,1.0))\n",
        "plt.show()"
      ],
      "execution_count": null,
      "outputs": [
        {
          "output_type": "display_data",
          "data": {
            "image/png": "[encoded data removed]",
            "text/plain": [
              "<Figure size 720x576 with 1 Axes>"
            ]
          },
          "metadata": {
            "needs_background": "light"
          }
        }
      ]
    },
    {
      "cell_type": "code",
      "metadata": {
        "colab": {
          "base_uri": "https://localhost:8080/",
          "height": 532
        },
        "id": "Wt0Z8Te7ufL9",
        "outputId": "056d1701-55c1-4333-b88b-e4317481296f"
      },
      "source": [
        "age = ['0~9','10대','20대','30대','40대','50대','60대','70대','80대']\n",
        "data={\n",
        "    '비입원' : [1230624/1250267, 528143/533905, 608161/618006, 853802/869540,\\\n",
        "             1105645/1124035, 1564150/1595478, 1743195/1779492, 1449059/1484085, 695962/739157],\n",
        "    '입원' : [19643/1250267, 5762/533905, 9845/618006, 15738/869540,\\\n",
        "            18390/1124035, 31328/1595478, 36297/1779492, 35026/1484085, 43195/739157]\n",
        "}\n",
        "df=pd.DataFrame(data,index=age)\n",
        "\n",
        "df.plot(kind=\"bar\",stacked=True,figsize=(10,8))\n",
        "plt.legend(loc=\"lower left\",bbox_to_anchor=(0.8,1.0))\n",
        "plt.show()"
      ],
      "execution_count": null,
      "outputs": [
        {
          "output_type": "display_data",
          "data": {
            "image/png": "[encoded data removed]",
            "text/plain": [
              "<Figure size 720x576 with 1 Axes>"
            ]
          },
          "metadata": {
            "needs_background": "light"
          }
        }
      ]
    },
    {
      "cell_type": "code",
      "metadata": {
        "colab": {
          "base_uri": "https://localhost:8080/",
          "height": 248
        },
        "id": "yGdyc1YCX-E1",
        "outputId": "003b48e2-6777-4ad9-c088-8290555cdb6d"
      },
      "source": [
        "# 연령별 입원환자 비율\n",
        "ratio = [19643, 5762, 9845, 15738, 18390, 31328, 36297, 35026, 43195]\n",
        "labels = ['0~9','10대','20대','30대','40대','50대','60대','70대','80대']\n",
        "\n",
        "plt.pie(ratio, labels=labels, autopct='%.1f%%')\n",
        "plt.show()"
      ],
      "execution_count": null,
      "outputs": [
        {
          "output_type": "display_data",
          "data": {
            "image/png": "[encoded data removed]",
            "text/plain": [
              "<Figure size 432x288 with 1 Axes>"
            ]
          },
          "metadata": {}
        }
      ]
    },
    {
      "cell_type": "code",
      "metadata": {
        "colab": {
          "base_uri": "https://localhost:8080/"
        },
        "id": "t8gQUDZBQVKi",
        "outputId": "cd2fafee-998d-49bb-ef9a-a6b264a0290a"
      },
      "source": [
        "## 진료 횟수별로\n",
        "df_age1 = df['연령대'].value_counts().sort_index()\n",
        "df_age1"
      ],
      "execution_count": null,
      "outputs": [
        {
          "output_type": "execute_result",
          "data": {
            "text/plain": [
              "0.0     21400\n",
              "10.0     9084\n",
              "20.0    10957\n",
              "30.0    14791\n",
              "40.0    18940\n",
              "50.0    27019\n",
              "60.0    31177\n",
              "70.0    25194\n",
              "80.0    13488\n",
              "Name: 연령대, dtype: int64"
            ]
          },
          "metadata": {},
          "execution_count": 42
        }
      ]
    },
    {
      "cell_type": "code",
      "metadata": {
        "colab": {
          "base_uri": "https://localhost:8080/",
          "height": 294
        },
        "id": "g-Qmz8qAQe3g",
        "outputId": "754fc409-c349-4a3b-ad4e-9cadbaaa9b30"
      },
      "source": [
        "df_age1.plot(kind='bar', rot=0)\n",
        "plt.title(\"연령대별 환자 수\")\n",
        "plt.xlabel(\"나이\")\n",
        "plt.ylabel(\"환자 수\")\n",
        "plt.show()"
      ],
      "execution_count": null,
      "outputs": [
        {
          "output_type": "display_data",
          "data": {
            "image/png": "[encoded data removed]",
            "text/plain": [
              "<Figure size 432x288 with 1 Axes>"
            ]
          },
          "metadata": {
            "needs_background": "light"
          }
        }
      ]
    },
    {
      "cell_type": "markdown",
      "metadata": {
        "id": "SMOsyCz7O-9j"
      },
      "source": [
        "## 3. 시도별 환자 수"
      ]
    },
    {
      "cell_type": "code",
      "metadata": {
        "colab": {
          "base_uri": "https://localhost:8080/"
        },
        "id": "Jh2Du1OR6l7V",
        "outputId": "4033a1e4-d279-42f2-a4cc-c402cb832dda"
      },
      "source": [
        "df_sido1 = df['시도코드'].value_counts()\n",
        "df_sido1"
      ],
      "execution_count": null,
      "outputs": [
        {
          "output_type": "execute_result",
          "data": {
            "text/plain": [
              "41.0    40662\n",
              "11.0    30010\n",
              "26.0    12062\n",
              "48.0    11401\n",
              "28.0     9478\n",
              "27.0     9144\n",
              "47.0     8975\n",
              "44.0     7991\n",
              "45.0     7472\n",
              "46.0     7013\n",
              "43.0     5849\n",
              "30.0     5307\n",
              "42.0     4761\n",
              "29.0     4498\n",
              "31.0     3951\n",
              "49.0     2630\n",
              "36.0      846\n",
              "Name: 시도코드, dtype: int64"
            ]
          },
          "metadata": {},
          "execution_count": 78
        }
      ]
    },
    {
      "cell_type": "code",
      "metadata": {
        "colab": {
          "base_uri": "https://localhost:8080/",
          "height": 294
        },
        "id": "SqrxK-1wOgAH",
        "outputId": "0eaeba21-5333-4017-c057-d2704f4f501e"
      },
      "source": [
        "# 시도별 환자수 (중복 제거X)\n",
        "df_sido1.plot(kind='bar', rot=0)\n",
        "plt.title(\"시도별 환자 수\")\n",
        "plt.xlabel(\"시도\")\n",
        "plt.ylabel(\"환자 수\")\n",
        "plt.show()"
      ],
      "execution_count": null,
      "outputs": [
        {
          "output_type": "display_data",
          "data": {
            "image/png": "[encoded data removed]",
            "text/plain": [
              "<Figure size 432x288 with 1 Axes>"
            ]
          },
          "metadata": {
            "needs_background": "light"
          }
        }
      ]
    },
    {
      "cell_type": "code",
      "metadata": {
        "colab": {
          "base_uri": "https://localhost:8080/"
        },
        "id": "CXkyd8cqPZZG",
        "outputId": "ba4d4c43-fe77-47b8-ccd7-6953bf16a4f6"
      },
      "source": [
        "df_sido = df_merge['시도코드'].value_counts()\n",
        "df_sido"
      ],
      "execution_count": null,
      "outputs": [
        {
          "output_type": "execute_result",
          "data": {
            "text/plain": [
              "41.0    3416\n",
              "11.0    2492\n",
              "26.0     857\n",
              "48.0     840\n",
              "28.0     753\n",
              "47.0     647\n",
              "27.0     615\n",
              "44.0     565\n",
              "46.0     472\n",
              "45.0     465\n",
              "43.0     436\n",
              "42.0     400\n",
              "30.0     384\n",
              "29.0     364\n",
              "31.0     343\n",
              "49.0     177\n",
              "36.0      81\n",
              "Name: 시도코드, dtype: int64"
            ]
          },
          "metadata": {},
          "execution_count": 80
        }
      ]
    },
    {
      "cell_type": "code",
      "metadata": {
        "colab": {
          "base_uri": "https://localhost:8080/",
          "height": 294
        },
        "id": "lYa_GjWSPSvJ",
        "outputId": "5a500e51-f1b2-4e32-cc54-3a3a781376fd"
      },
      "source": [
        "# 시도별 환자수 (중복 제거)\n",
        "df_sido.plot(kind='bar', rot=0)\n",
        "plt.title(\"시도별 환자 수\")\n",
        "plt.xlabel(\"시도\")\n",
        "plt.ylabel(\"환자 수\")\n",
        "plt.show()"
      ],
      "execution_count": null,
      "outputs": [
        {
          "output_type": "display_data",
          "data": {
            "image/png": "[encoded data removed]",
            "text/plain": [
              "<Figure size 432x288 with 1 Axes>"
            ]
          },
          "metadata": {
            "needs_background": "light"
          }
        }
      ]
    },
    {
      "cell_type": "markdown",
      "metadata": {
        "id": "ruwitbgkP1su"
      },
      "source": [
        "## 4. 진료과목별 입원 비율"
      ]
    },
    {
      "cell_type": "code",
      "metadata": {
        "colab": {
          "base_uri": "https://localhost:8080/"
        },
        "id": "yj7GOpXIQQ2Y",
        "outputId": "5ed1134a-505c-4912-9e17-0ba1b19f1b50"
      },
      "source": [
        "df_subject = df[['진료과목코드']].value_counts()\n",
        "df_subject"
      ],
      "execution_count": null,
      "outputs": [
        {
          "output_type": "execute_result",
          "data": {
            "text/plain": [
              "진료과목코드\n",
              "1.0       57092\n",
              "5.0       28695\n",
              "13.0      18582\n",
              "12.0      11325\n",
              "11.0       9870\n",
              "14.0       8031\n",
              "10.0       5099\n",
              "4.0        5070\n",
              "23.0       4677\n",
              "6.0        4220\n",
              "3.0        4085\n",
              "15.0       3797\n",
              "2.0        3181\n",
              "9.0        2835\n",
              "21.0       1853\n",
              "24.0       1624\n",
              "0.0         938\n",
              "7.0         377\n",
              "16.0        290\n",
              "8.0         188\n",
              "17.0        122\n",
              "22.0         35\n",
              "20.0         34\n",
              "25.0         24\n",
              "19.0          6\n",
              "dtype: int64"
            ]
          },
          "metadata": {},
          "execution_count": 84
        }
      ]
    },
    {
      "cell_type": "code",
      "metadata": {
        "colab": {
          "base_uri": "https://localhost:8080/",
          "height": 620
        },
        "id": "cBeRwVzkP0-G",
        "outputId": "de238449-35b2-45b0-9850-bd6735a79f4a"
      },
      "source": [
        "# 시도별 환자수 (중복 제거X)\n",
        "df_subject.plot(kind='bar', rot=0, figsize=(10,10))\n",
        "plt.title(\"진료과목별 환자 수\")\n",
        "plt.xlabel(\"진료과목\")\n",
        "plt.ylabel(\"환자 수\")\n",
        "plt.show()"
      ],
      "execution_count": null,
      "outputs": [
        {
          "output_type": "display_data",
          "data": {
            "image/png": "[encoded data removed]",
            "text/plain": [
              "<Figure size 720x720 with 1 Axes>"
            ]
          },
          "metadata": {
            "needs_background": "light"
          }
        }
      ]
    },
    {
      "cell_type": "code",
      "metadata": {
        "colab": {
          "base_uri": "https://localhost:8080/",
          "height": 602
        },
        "id": "EFzkhnZWQcoh",
        "outputId": "f09f4d0d-242f-407c-aad2-8e110c5c7b85"
      },
      "source": [
        "df_subject.plot.pie(autopct='%.2f%%', figsize=(10,10))\n",
        "plt.title('진료과목별 입원 여부')\n",
        "plt.axis('equal')\n",
        "plt.show()"
      ],
      "execution_count": null,
      "outputs": [
        {
          "output_type": "display_data",
          "data": {
            "image/png": "[encoded data removed]",
            "text/plain": [
              "<Figure size 720x720 with 1 Axes>"
            ]
          },
          "metadata": {}
        }
      ]
    },
    {
      "cell_type": "markdown",
      "metadata": {
        "id": "QaDpiOgVrJzQ"
      },
      "source": [
        "# 모델링"
      ]
    },
    {
      "cell_type": "markdown",
      "metadata": {
        "id": "ZJk-SGr__w0K"
      },
      "source": [
        "## 카이분포"
      ]
    },
    {
      "cell_type": "code",
      "metadata": {
        "id": "4k1LPQIXELjD"
      },
      "source": [
        "df_train = pd.read_csv(\"/content/모델제작용데이터셋(헬스케어).csv\", encoding = \"utf-8\")"
      ],
      "execution_count": 54,
      "outputs": []
    },
    {
      "cell_type": "code",
      "metadata": {
        "colab": {
          "base_uri": "https://localhost:8080/",
          "height": 202
        },
        "id": "zgmRHb3IkdeG",
        "outputId": "58bdc2db-3a80-4ea2-cb0b-83e1789a70bb"
      },
      "source": [
        "df_train.tail()"
      ],
      "execution_count": 55,
      "outputs": [
        {
          "output_type": "execute_result",
          "data": {
            "text/html": [
              "<div>\n",
              "<style scoped>\n",
              "    .dataframe tbody tr th:only-of-type {\n",
              "        vertical-align: middle;\n",
              "    }\n",
              "\n",
              "    .dataframe tbody tr th {\n",
              "        vertical-align: top;\n",
              "    }\n",
              "\n",
              "    .dataframe thead th {\n",
              "        text-align: right;\n",
              "    }\n",
              "</style>\n",
              "<table border=\"1\" class=\"dataframe\">\n",
              "  <thead>\n",
              "    <tr style=\"text-align: right;\">\n",
              "      <th></th>\n",
              "      <th>성별코드</th>\n",
              "      <th>연령대코드</th>\n",
              "      <th>시도코드</th>\n",
              "      <th>서식코드</th>\n",
              "      <th>진료과목코드</th>\n",
              "      <th>주상병코드</th>\n",
              "      <th>부상병코드</th>\n",
              "      <th>심결가산율</th>\n",
              "    </tr>\n",
              "  </thead>\n",
              "  <tbody>\n",
              "    <tr>\n",
              "      <th>13178340</th>\n",
              "      <td>2</td>\n",
              "      <td>1</td>\n",
              "      <td>47</td>\n",
              "      <td>0</td>\n",
              "      <td>21</td>\n",
              "      <td>15</td>\n",
              "      <td>15</td>\n",
              "      <td>4</td>\n",
              "    </tr>\n",
              "    <tr>\n",
              "      <th>13178341</th>\n",
              "      <td>2</td>\n",
              "      <td>1</td>\n",
              "      <td>47</td>\n",
              "      <td>0</td>\n",
              "      <td>11</td>\n",
              "      <td>9</td>\n",
              "      <td>9</td>\n",
              "      <td>2</td>\n",
              "    </tr>\n",
              "    <tr>\n",
              "      <th>13178342</th>\n",
              "      <td>2</td>\n",
              "      <td>1</td>\n",
              "      <td>47</td>\n",
              "      <td>0</td>\n",
              "      <td>12</td>\n",
              "      <td>7</td>\n",
              "      <td>15</td>\n",
              "      <td>3</td>\n",
              "    </tr>\n",
              "    <tr>\n",
              "      <th>13178343</th>\n",
              "      <td>2</td>\n",
              "      <td>1</td>\n",
              "      <td>47</td>\n",
              "      <td>1</td>\n",
              "      <td>11</td>\n",
              "      <td>15</td>\n",
              "      <td>15</td>\n",
              "      <td>3</td>\n",
              "    </tr>\n",
              "    <tr>\n",
              "      <th>13178344</th>\n",
              "      <td>2</td>\n",
              "      <td>1</td>\n",
              "      <td>47</td>\n",
              "      <td>0</td>\n",
              "      <td>13</td>\n",
              "      <td>9</td>\n",
              "      <td>9</td>\n",
              "      <td>1</td>\n",
              "    </tr>\n",
              "  </tbody>\n",
              "</table>\n",
              "</div>"
            ],
            "text/plain": [
              "          성별코드  연령대코드  시도코드  서식코드  진료과목코드  주상병코드  부상병코드  심결가산율\n",
              "13178340     2      1    47     0      21     15     15      4\n",
              "13178341     2      1    47     0      11      9      9      2\n",
              "13178342     2      1    47     0      12      7     15      3\n",
              "13178343     2      1    47     1      11     15     15      3\n",
              "13178344     2      1    47     0      13      9      9      1"
            ]
          },
          "metadata": {},
          "execution_count": 55
        }
      ]
    },
    {
      "cell_type": "code",
      "metadata": {
        "id": "A7pBQCLmkeyb"
      },
      "source": [
        "for i in df_train.columns:\n",
        "    df_train[i] = df_train[i].astype('category')"
      ],
      "execution_count": 56,
      "outputs": []
    },
    {
      "cell_type": "code",
      "metadata": {
        "colab": {
          "base_uri": "https://localhost:8080/"
        },
        "id": "CtGSWfS1sEi7",
        "outputId": "b66a387c-eb4b-47a9-8485-fb6d76e0bd68"
      },
      "source": [
        "CrosstabResult=pd.crosstab(index=df_train['서식코드'],columns=df_train['성별코드'])\n",
        "print(CrosstabResult)\n",
        " \n",
        "# importing the required function\n",
        "from scipy.stats import chi2_contingency\n",
        " \n",
        "# Performing Chi-sq test\n",
        "ChiSqResult = chi2_contingency(CrosstabResult)\n",
        " \n",
        "# P-Value is the Probability of H0 being True\n",
        "# If P-Value>0.05 then only we Accept the assumption(H0)\n",
        " \n",
        "print('The P-Value of the ChiSq Test is:', ChiSqResult[1])"
      ],
      "execution_count": null,
      "outputs": [
        {
          "output_type": "stream",
          "name": "stdout",
          "text": [
            "성별코드        1        2\n",
            "서식코드                  \n",
            "0     5621397  7272986\n",
            "1      125928   158034\n",
            "The P-Value of the ChiSq Test is: 1.4459695826147777e-15\n"
          ]
        }
      ]
    },
    {
      "cell_type": "code",
      "metadata": {
        "colab": {
          "base_uri": "https://localhost:8080/"
        },
        "id": "GtZTetKXsvvH",
        "outputId": "2b43d882-2c3f-43be-d4f5-c9fc200e7810"
      },
      "source": [
        "CrosstabResult=pd.crosstab(index=df_train['서식코드'],columns=df_train['연령대코드'])\n",
        "print(CrosstabResult)\n",
        " \n",
        "# importing the required function\n",
        "from scipy.stats import chi2_contingency\n",
        " \n",
        "# Performing Chi-sq test\n",
        "ChiSqResult = chi2_contingency(CrosstabResult)\n",
        " \n",
        "# P-Value is the Probability of H0 being True\n",
        "# If P-Value>0.05 then only we Accept the assumption(H0)\n",
        " \n",
        "print('The P-Value of the ChiSq Test is:', ChiSqResult[1])"
      ],
      "execution_count": null,
      "outputs": [
        {
          "output_type": "stream",
          "name": "stdout",
          "text": [
            "연령대코드       1       2       3       4  ...      15      16      17      18\n",
            "서식코드                                   ...                                \n",
            "0      956751  667681  357583  339827  ...  997223  911800  602036  313809\n",
            "1       18769    6829    3418    4293  ...   20993   25715   26340   30264\n",
            "\n",
            "[2 rows x 18 columns]\n",
            "The P-Value of the ChiSq Test is: 0.0\n"
          ]
        }
      ]
    },
    {
      "cell_type": "code",
      "metadata": {
        "colab": {
          "base_uri": "https://localhost:8080/"
        },
        "id": "5974mqEGszjJ",
        "outputId": "21e72284-fea2-4375-8f0a-4a2db114c80e"
      },
      "source": [
        "CrosstabResult=pd.crosstab(index=df_train['서식코드'],columns=df_train['시도코드'])\n",
        "print(CrosstabResult)\n",
        " \n",
        "# importing the required function\n",
        "from scipy.stats import chi2_contingency\n",
        " \n",
        "# Performing Chi-sq test\n",
        "ChiSqResult = chi2_contingency(CrosstabResult)\n",
        " \n",
        "# P-Value is the Probability of H0 being True\n",
        "# If P-Value>0.05 then only we Accept the assumption(H0)\n",
        " \n",
        "print('The P-Value of the ChiSq Test is:', ChiSqResult[1])"
      ],
      "execution_count": null,
      "outputs": [
        {
          "output_type": "stream",
          "name": "stdout",
          "text": [
            "시도코드       11      26      27      28  ...      46      47      48      49\n",
            "서식코드                                   ...                                \n",
            "0     2329846  881869  615444  704026  ...  538542  690849  839227  175735\n",
            "1       39890   22879   11591   15592  ...   18956   17174   24848    3520\n",
            "\n",
            "[2 rows x 17 columns]\n",
            "The P-Value of the ChiSq Test is: 0.0\n"
          ]
        }
      ]
    },
    {
      "cell_type": "code",
      "metadata": {
        "colab": {
          "base_uri": "https://localhost:8080/"
        },
        "id": "CY5Fekuls184",
        "outputId": "274c48f2-ad30-4bb4-86a1-ec8c910a0995"
      },
      "source": [
        "CrosstabResult=pd.crosstab(index=df_train['서식코드'],columns=df_train['진료과목코드'])\n",
        "print(CrosstabResult)\n",
        " \n",
        "# importing the required function\n",
        "from scipy.stats import chi2_contingency\n",
        " \n",
        "# Performing Chi-sq test\n",
        "ChiSqResult = chi2_contingency(CrosstabResult)\n",
        " \n",
        "# P-Value is the Probability of H0 being True\n",
        "# If P-Value>0.05 then only we Accept the assumption(H0)\n",
        " \n",
        "print('The P-Value of the ChiSq Test is:', ChiSqResult[1])"
      ],
      "execution_count": null,
      "outputs": [
        {
          "output_type": "stream",
          "name": "stdout",
          "text": [
            "진료과목코드      0        1       2       3       4        5  ...  50  52  55  80  86  88\n",
            "서식코드                                                     ...                        \n",
            "0       72867  4319462  219417  323406  393159  2100772  ...   1   0  39   0   0   6\n",
            "1         257    68497   10714    9536   24402    39789  ...   9   1   3   1   1   0\n",
            "\n",
            "[2 rows x 33 columns]\n",
            "The P-Value of the ChiSq Test is: 0.0\n"
          ]
        }
      ]
    },
    {
      "cell_type": "code",
      "metadata": {
        "colab": {
          "base_uri": "https://localhost:8080/"
        },
        "id": "lU1CWpLFtm3S",
        "outputId": "f507a107-416f-4292-e6d7-a423b874a0b3"
      },
      "source": [
        "CrosstabResult=pd.crosstab(index=df_train['서식코드'],columns=df_train['주상병코드'])\n",
        "print(CrosstabResult)\n",
        " \n",
        "# importing the required function\n",
        "from scipy.stats import chi2_contingency\n",
        " \n",
        "# Performing Chi-sq test\n",
        "ChiSqResult = chi2_contingency(CrosstabResult)\n",
        " \n",
        "# P-Value is the Probability of H0 being True\n",
        "# If P-Value>0.05 then only we Accept the assumption(H0)\n",
        " \n",
        "print('The P-Value of the ChiSq Test is:', ChiSqResult[1])"
      ],
      "execution_count": null,
      "outputs": [
        {
          "output_type": "stream",
          "name": "stdout",
          "text": [
            "주상병코드       0       1       2       3  ...      18     19   20      25\n",
            "서식코드                                   ...                            \n",
            "0      191940  270908  153579  105347  ...  698993  78896  322  112967\n",
            "1       10429    3287   27047    6287  ...   27836   3082   38    8145\n",
            "\n",
            "[2 rows x 22 columns]\n",
            "The P-Value of the ChiSq Test is: 0.0\n"
          ]
        }
      ]
    },
    {
      "cell_type": "code",
      "metadata": {
        "colab": {
          "base_uri": "https://localhost:8080/"
        },
        "id": "E8sXFnKStpDN",
        "outputId": "6b3ca4b3-7f80-4dce-8909-6aa7f64a048d"
      },
      "source": [
        "CrosstabResult=pd.crosstab(index=df_train['서식코드'],columns=df_train['부상병코드'])\n",
        "print(CrosstabResult)\n",
        " \n",
        "# importing the required function\n",
        "from scipy.stats import chi2_contingency\n",
        " \n",
        "# Performing Chi-sq test\n",
        "ChiSqResult = chi2_contingency(CrosstabResult)\n",
        " \n",
        "# P-Value is the Probability of H0 being True\n",
        "# If P-Value>0.05 then only we Accept the assumption(H0)\n",
        " \n",
        "print('The P-Value of the ChiSq Test is:', ChiSqResult[1])"
      ],
      "execution_count": null,
      "outputs": [
        {
          "output_type": "stream",
          "name": "stdout",
          "text": [
            "부상병코드       0       1      2       3       4  ...  21    22   23    24      25\n",
            "서식코드                                          ...                             \n",
            "0      159286  185388  41231  112785  929993  ...  59  1353  526  1405  132160\n",
            "1        4599    3162  11338    6243   19017  ...  42   579  183   172    8440\n",
            "\n",
            "[2 rows x 26 columns]\n",
            "The P-Value of the ChiSq Test is: 0.0\n"
          ]
        }
      ]
    },
    {
      "cell_type": "code",
      "metadata": {
        "colab": {
          "base_uri": "https://localhost:8080/"
        },
        "id": "gLixxTSttq-c",
        "outputId": "51f97efa-0f01-49eb-ebe3-38253219f844"
      },
      "source": [
        "CrosstabResult=pd.crosstab(index=df_train['서식코드'],columns=df_train['심결가산율'])\n",
        "print(CrosstabResult)\n",
        " \n",
        "# importing the required function\n",
        "from scipy.stats import chi2_contingency\n",
        " \n",
        "# Performing Chi-sq test\n",
        "ChiSqResult = chi2_contingency(CrosstabResult)\n",
        " \n",
        "# P-Value is the Probability of H0 being True\n",
        "# If P-Value>0.05 then only we Accept the assumption(H0)\n",
        " \n",
        "print('The P-Value of the ChiSq Test is:', ChiSqResult[1])"
      ],
      "execution_count": null,
      "outputs": [
        {
          "output_type": "stream",
          "name": "stdout",
          "text": [
            "심결가산율      0        1        2        3       4\n",
            "서식코드                                           \n",
            "0      69557  9851564  1187894  1153316  632052\n",
            "1          1    23962   131064    79195   49740\n",
            "The P-Value of the ChiSq Test is: 0.0\n"
          ]
        }
      ]
    },
    {
      "cell_type": "markdown",
      "metadata": {
        "id": "RoJo3jCp_AMx"
      },
      "source": [
        "## Naive Bayes (다항분포 나이브 베이즈)\n",
        "- 이산적인 값에 사용\n",
        "- 하나의 특성이 여러 종류로 나뉘는 경우"
      ]
    },
    {
      "cell_type": "code",
      "metadata": {
        "colab": {
          "base_uri": "https://localhost:8080/",
          "height": 202
        },
        "id": "_AdSQHDw9SaQ",
        "outputId": "c1d50c62-ce84-4199-a53c-e72a43e2a891"
      },
      "source": [
        "df_train = pd.read_csv(\"/content/모델제작용데이터셋(헬스케어).csv\", encoding = \"utf-8\")\n",
        "df_train.tail()"
      ],
      "execution_count": 21,
      "outputs": [
        {
          "output_type": "execute_result",
          "data": {
            "text/html": [
              "<div>\n",
              "<style scoped>\n",
              "    .dataframe tbody tr th:only-of-type {\n",
              "        vertical-align: middle;\n",
              "    }\n",
              "\n",
              "    .dataframe tbody tr th {\n",
              "        vertical-align: top;\n",
              "    }\n",
              "\n",
              "    .dataframe thead th {\n",
              "        text-align: right;\n",
              "    }\n",
              "</style>\n",
              "<table border=\"1\" class=\"dataframe\">\n",
              "  <thead>\n",
              "    <tr style=\"text-align: right;\">\n",
              "      <th></th>\n",
              "      <th>성별코드</th>\n",
              "      <th>연령대코드</th>\n",
              "      <th>시도코드</th>\n",
              "      <th>서식코드</th>\n",
              "      <th>진료과목코드</th>\n",
              "      <th>주상병코드</th>\n",
              "      <th>부상병코드</th>\n",
              "      <th>심결가산율</th>\n",
              "    </tr>\n",
              "  </thead>\n",
              "  <tbody>\n",
              "    <tr>\n",
              "      <th>13178340</th>\n",
              "      <td>2</td>\n",
              "      <td>1</td>\n",
              "      <td>47</td>\n",
              "      <td>0</td>\n",
              "      <td>21</td>\n",
              "      <td>15</td>\n",
              "      <td>15</td>\n",
              "      <td>4</td>\n",
              "    </tr>\n",
              "    <tr>\n",
              "      <th>13178341</th>\n",
              "      <td>2</td>\n",
              "      <td>1</td>\n",
              "      <td>47</td>\n",
              "      <td>0</td>\n",
              "      <td>11</td>\n",
              "      <td>9</td>\n",
              "      <td>9</td>\n",
              "      <td>2</td>\n",
              "    </tr>\n",
              "    <tr>\n",
              "      <th>13178342</th>\n",
              "      <td>2</td>\n",
              "      <td>1</td>\n",
              "      <td>47</td>\n",
              "      <td>0</td>\n",
              "      <td>12</td>\n",
              "      <td>7</td>\n",
              "      <td>15</td>\n",
              "      <td>3</td>\n",
              "    </tr>\n",
              "    <tr>\n",
              "      <th>13178343</th>\n",
              "      <td>2</td>\n",
              "      <td>1</td>\n",
              "      <td>47</td>\n",
              "      <td>1</td>\n",
              "      <td>11</td>\n",
              "      <td>15</td>\n",
              "      <td>15</td>\n",
              "      <td>3</td>\n",
              "    </tr>\n",
              "    <tr>\n",
              "      <th>13178344</th>\n",
              "      <td>2</td>\n",
              "      <td>1</td>\n",
              "      <td>47</td>\n",
              "      <td>0</td>\n",
              "      <td>13</td>\n",
              "      <td>9</td>\n",
              "      <td>9</td>\n",
              "      <td>1</td>\n",
              "    </tr>\n",
              "  </tbody>\n",
              "</table>\n",
              "</div>"
            ],
            "text/plain": [
              "          성별코드  연령대코드  시도코드  서식코드  진료과목코드  주상병코드  부상병코드  심결가산율\n",
              "13178340     2      1    47     0      21     15     15      4\n",
              "13178341     2      1    47     0      11      9      9      2\n",
              "13178342     2      1    47     0      12      7     15      3\n",
              "13178343     2      1    47     1      11     15     15      3\n",
              "13178344     2      1    47     0      13      9      9      1"
            ]
          },
          "metadata": {},
          "execution_count": 21
        }
      ]
    },
    {
      "cell_type": "code",
      "metadata": {
        "id": "SuWMrQG8ggvt"
      },
      "source": [
        "for i in df_train.columns:\n",
        "    df_train[i] = df_train[i].astype('category')"
      ],
      "execution_count": 22,
      "outputs": []
    },
    {
      "cell_type": "code",
      "metadata": {
        "id": "uAay4LQjfrm2"
      },
      "source": [
        "from imblearn.under_sampling import RandomUnderSampler\n",
        "\n",
        "rus = RandomUnderSampler()"
      ],
      "execution_count": 23,
      "outputs": []
    },
    {
      "cell_type": "code",
      "metadata": {
        "colab": {
          "base_uri": "https://localhost:8080/"
        },
        "id": "4_pO0eTifw4a",
        "outputId": "2017d0d3-8d8f-4d6f-aa7c-6b53736d9817"
      },
      "source": [
        "undersampled_data, undersampled_label = rus.fit_resample(df_train[['성별코드', '연령대코드', '시도코드', '진료과목코드', '주상병코드', '부상병코드','심결가산율']].copy(), df_train[['서식코드']].copy())\n",
        "undersampled_data = pd.DataFrame(undersampled_data, columns =['성별코드', '연령대코드', '시도코드', '진료과목코드', '주상병코드', '부상병코드','심결가산율'])"
      ],
      "execution_count": 24,
      "outputs": [
        {
          "output_type": "stream",
          "name": "stderr",
          "text": [
            "/usr/local/lib/python3.7/dist-packages/sklearn/utils/deprecation.py:87: FutureWarning: Function safe_indexing is deprecated; safe_indexing is deprecated in version 0.22 and will be removed in version 0.24.\n",
            "  warnings.warn(msg, category=FutureWarning)\n"
          ]
        }
      ]
    },
    {
      "cell_type": "code",
      "metadata": {
        "colab": {
          "base_uri": "https://localhost:8080/",
          "height": 202
        },
        "id": "esrwv0EXlO_W",
        "outputId": "e61cae52-40dc-4979-8bd8-ee58a7a121a1"
      },
      "source": [
        "undersampled_data['서식코드'] = undersampled_label\n",
        "undersampled_data.head()"
      ],
      "execution_count": 25,
      "outputs": [
        {
          "output_type": "execute_result",
          "data": {
            "text/html": [
              "<div>\n",
              "<style scoped>\n",
              "    .dataframe tbody tr th:only-of-type {\n",
              "        vertical-align: middle;\n",
              "    }\n",
              "\n",
              "    .dataframe tbody tr th {\n",
              "        vertical-align: top;\n",
              "    }\n",
              "\n",
              "    .dataframe thead th {\n",
              "        text-align: right;\n",
              "    }\n",
              "</style>\n",
              "<table border=\"1\" class=\"dataframe\">\n",
              "  <thead>\n",
              "    <tr style=\"text-align: right;\">\n",
              "      <th></th>\n",
              "      <th>성별코드</th>\n",
              "      <th>연령대코드</th>\n",
              "      <th>시도코드</th>\n",
              "      <th>진료과목코드</th>\n",
              "      <th>주상병코드</th>\n",
              "      <th>부상병코드</th>\n",
              "      <th>심결가산율</th>\n",
              "      <th>서식코드</th>\n",
              "    </tr>\n",
              "  </thead>\n",
              "  <tbody>\n",
              "    <tr>\n",
              "      <th>0</th>\n",
              "      <td>1</td>\n",
              "      <td>2</td>\n",
              "      <td>44</td>\n",
              "      <td>1</td>\n",
              "      <td>9</td>\n",
              "      <td>9</td>\n",
              "      <td>1</td>\n",
              "      <td>0</td>\n",
              "    </tr>\n",
              "    <tr>\n",
              "      <th>1</th>\n",
              "      <td>1</td>\n",
              "      <td>5</td>\n",
              "      <td>41</td>\n",
              "      <td>3</td>\n",
              "      <td>5</td>\n",
              "      <td>10</td>\n",
              "      <td>1</td>\n",
              "      <td>0</td>\n",
              "    </tr>\n",
              "    <tr>\n",
              "      <th>2</th>\n",
              "      <td>2</td>\n",
              "      <td>13</td>\n",
              "      <td>41</td>\n",
              "      <td>6</td>\n",
              "      <td>12</td>\n",
              "      <td>12</td>\n",
              "      <td>2</td>\n",
              "      <td>0</td>\n",
              "    </tr>\n",
              "    <tr>\n",
              "      <th>3</th>\n",
              "      <td>2</td>\n",
              "      <td>15</td>\n",
              "      <td>11</td>\n",
              "      <td>1</td>\n",
              "      <td>8</td>\n",
              "      <td>4</td>\n",
              "      <td>3</td>\n",
              "      <td>0</td>\n",
              "    </tr>\n",
              "    <tr>\n",
              "      <th>4</th>\n",
              "      <td>1</td>\n",
              "      <td>15</td>\n",
              "      <td>42</td>\n",
              "      <td>9</td>\n",
              "      <td>8</td>\n",
              "      <td>4</td>\n",
              "      <td>1</td>\n",
              "      <td>0</td>\n",
              "    </tr>\n",
              "  </tbody>\n",
              "</table>\n",
              "</div>"
            ],
            "text/plain": [
              "   성별코드  연령대코드  시도코드  진료과목코드  주상병코드  부상병코드  심결가산율  서식코드\n",
              "0     1      2    44       1      9      9      1     0\n",
              "1     1      5    41       3      5     10      1     0\n",
              "2     2     13    41       6     12     12      2     0\n",
              "3     2     15    11       1      8      4      3     0\n",
              "4     1     15    42       9      8      4      1     0"
            ]
          },
          "metadata": {},
          "execution_count": 25
        }
      ]
    },
    {
      "cell_type": "code",
      "metadata": {
        "colab": {
          "base_uri": "https://localhost:8080/"
        },
        "id": "THmJVSo1lSRJ",
        "outputId": "b5d850ec-8366-48f6-fc80-0a77eda2ac4b"
      },
      "source": [
        "print(f\"전체환자 데이터 수 : {len(undersampled_data)} / 입원환자 데이터 수 : {len(undersampled_data[undersampled_data['서식코드'] == 1])} / 비입원환자 데이터 수 : {len(undersampled_data[undersampled_data['서식코드'] == 0])}\")"
      ],
      "execution_count": 26,
      "outputs": [
        {
          "output_type": "stream",
          "name": "stdout",
          "text": [
            "전체환자 데이터 수 : 567924 / 입원환자 데이터 수 : 283962 / 비입원환자 데이터 수 : 283962\n"
          ]
        }
      ]
    },
    {
      "cell_type": "code",
      "metadata": {
        "id": "NEoWqF3_ttYn"
      },
      "source": [
        "from sklearn.naive_bayes import MultinomialNB"
      ],
      "execution_count": 27,
      "outputs": []
    },
    {
      "cell_type": "code",
      "metadata": {
        "colab": {
          "base_uri": "https://localhost:8080/"
        },
        "id": "RwhLuMwE7nHl",
        "outputId": "ea8eec8e-9812-4d26-b4e7-c603d1e0f86b"
      },
      "source": [
        "multinomial_model = MultinomialNB()\n",
        "multinomial_model"
      ],
      "execution_count": 28,
      "outputs": [
        {
          "output_type": "execute_result",
          "data": {
            "text/plain": [
              "MultinomialNB(alpha=1.0, class_prior=None, fit_prior=True)"
            ]
          },
          "metadata": {},
          "execution_count": 28
        }
      ]
    },
    {
      "cell_type": "code",
      "metadata": {
        "id": "JA0uMbz09TwN"
      },
      "source": [
        "df_train = df_train.reindex(columns=['성별코드','연령대코드','시도코드','진료과목코드','주상병코드','부상병코드','심결가산율','서식코드'])"
      ],
      "execution_count": 12,
      "outputs": []
    },
    {
      "cell_type": "code",
      "metadata": {
        "id": "NDhyAVE19YiI"
      },
      "source": [
        "from sklearn.model_selection import train_test_split\n",
        "X_train, X_test, y_train, y_test = train_test_split(df_train.iloc[:,:7], df_train['서식코드'], test_size=0.33)"
      ],
      "execution_count": 29,
      "outputs": []
    },
    {
      "cell_type": "code",
      "metadata": {
        "colab": {
          "base_uri": "https://localhost:8080/"
        },
        "id": "QE-Vat0s9tuf",
        "outputId": "40ada1a5-02b5-4a14-ade7-57fed59d07ae"
      },
      "source": [
        "multinomial_model.fit(X_train, y_train)"
      ],
      "execution_count": 30,
      "outputs": [
        {
          "output_type": "execute_result",
          "data": {
            "text/plain": [
              "MultinomialNB(alpha=1.0, class_prior=None, fit_prior=True)"
            ]
          },
          "metadata": {},
          "execution_count": 30
        }
      ]
    },
    {
      "cell_type": "code",
      "metadata": {
        "colab": {
          "base_uri": "https://localhost:8080/"
        },
        "id": "Kd7VdDhh7u7B",
        "outputId": "2c665e71-bc67-441a-d7bc-d55b03bebd76"
      },
      "source": [
        "#multinomial_model.fit(df_train.iloc[:,:7], df_train['서식코드'])"
      ],
      "execution_count": 27,
      "outputs": [
        {
          "output_type": "execute_result",
          "data": {
            "text/plain": [
              "MultinomialNB(alpha=1.0, class_prior=None, fit_prior=True)"
            ]
          },
          "metadata": {},
          "execution_count": 27
        }
      ]
    },
    {
      "cell_type": "code",
      "metadata": {
        "colab": {
          "base_uri": "https://localhost:8080/",
          "height": 202
        },
        "id": "PsIt9IQ_9CGh",
        "outputId": "300f4709-3df6-48eb-b63d-52c4d07968f5"
      },
      "source": [
        "df_train.tail(1000).head()"
      ],
      "execution_count": 28,
      "outputs": [
        {
          "output_type": "execute_result",
          "data": {
            "text/html": [
              "<div>\n",
              "<style scoped>\n",
              "    .dataframe tbody tr th:only-of-type {\n",
              "        vertical-align: middle;\n",
              "    }\n",
              "\n",
              "    .dataframe tbody tr th {\n",
              "        vertical-align: top;\n",
              "    }\n",
              "\n",
              "    .dataframe thead th {\n",
              "        text-align: right;\n",
              "    }\n",
              "</style>\n",
              "<table border=\"1\" class=\"dataframe\">\n",
              "  <thead>\n",
              "    <tr style=\"text-align: right;\">\n",
              "      <th></th>\n",
              "      <th>성별코드</th>\n",
              "      <th>연령대코드</th>\n",
              "      <th>시도코드</th>\n",
              "      <th>진료과목코드</th>\n",
              "      <th>주상병코드</th>\n",
              "      <th>부상병코드</th>\n",
              "      <th>심결가산율</th>\n",
              "      <th>서식코드</th>\n",
              "    </tr>\n",
              "  </thead>\n",
              "  <tbody>\n",
              "    <tr>\n",
              "      <th>13177345</th>\n",
              "      <td>1</td>\n",
              "      <td>4</td>\n",
              "      <td>47</td>\n",
              "      <td>24</td>\n",
              "      <td>18</td>\n",
              "      <td>10</td>\n",
              "      <td>3</td>\n",
              "      <td>0</td>\n",
              "    </tr>\n",
              "    <tr>\n",
              "      <th>13177346</th>\n",
              "      <td>1</td>\n",
              "      <td>4</td>\n",
              "      <td>47</td>\n",
              "      <td>13</td>\n",
              "      <td>9</td>\n",
              "      <td>9</td>\n",
              "      <td>3</td>\n",
              "      <td>0</td>\n",
              "    </tr>\n",
              "    <tr>\n",
              "      <th>13177347</th>\n",
              "      <td>1</td>\n",
              "      <td>4</td>\n",
              "      <td>47</td>\n",
              "      <td>13</td>\n",
              "      <td>9</td>\n",
              "      <td>9</td>\n",
              "      <td>3</td>\n",
              "      <td>0</td>\n",
              "    </tr>\n",
              "    <tr>\n",
              "      <th>13177348</th>\n",
              "      <td>1</td>\n",
              "      <td>4</td>\n",
              "      <td>47</td>\n",
              "      <td>13</td>\n",
              "      <td>9</td>\n",
              "      <td>9</td>\n",
              "      <td>3</td>\n",
              "      <td>0</td>\n",
              "    </tr>\n",
              "    <tr>\n",
              "      <th>13177349</th>\n",
              "      <td>1</td>\n",
              "      <td>4</td>\n",
              "      <td>47</td>\n",
              "      <td>13</td>\n",
              "      <td>9</td>\n",
              "      <td>9</td>\n",
              "      <td>3</td>\n",
              "      <td>0</td>\n",
              "    </tr>\n",
              "  </tbody>\n",
              "</table>\n",
              "</div>"
            ],
            "text/plain": [
              "         성별코드 연령대코드 시도코드 진료과목코드 주상병코드 부상병코드 심결가산율 서식코드\n",
              "13177345    1     4   47     24    18    10     3    0\n",
              "13177346    1     4   47     13     9     9     3    0\n",
              "13177347    1     4   47     13     9     9     3    0\n",
              "13177348    1     4   47     13     9     9     3    0\n",
              "13177349    1     4   47     13     9     9     3    0"
            ]
          },
          "metadata": {},
          "execution_count": 28
        }
      ]
    },
    {
      "cell_type": "code",
      "metadata": {
        "colab": {
          "base_uri": "https://localhost:8080/"
        },
        "id": "VrtHa6mO8vwO",
        "outputId": "309110b5-5d7f-404b-eb7a-5ee3e5ee20da"
      },
      "source": [
        "#multinomial_model.predict_proba([[2,12,46,5,12,12,3]])"
      ],
      "execution_count": 29,
      "outputs": [
        {
          "output_type": "execute_result",
          "data": {
            "text/plain": [
              "array([[0.98660177, 0.01339823]])"
            ]
          },
          "metadata": {},
          "execution_count": 29
        }
      ]
    },
    {
      "cell_type": "code",
      "metadata": {
        "colab": {
          "base_uri": "https://localhost:8080/"
        },
        "id": "kAM850p184kj",
        "outputId": "8a547e1f-98a4-4193-d4b9-2e278db72e62"
      },
      "source": [
        "#multinomial_model.predict_proba([[1,4,47,13,9,9,3]])"
      ],
      "execution_count": 30,
      "outputs": [
        {
          "output_type": "execute_result",
          "data": {
            "text/plain": [
              "array([[0.96987581, 0.03012419]])"
            ]
          },
          "metadata": {},
          "execution_count": 30
        }
      ]
    },
    {
      "cell_type": "code",
      "metadata": {
        "colab": {
          "base_uri": "https://localhost:8080/"
        },
        "id": "cmsjF6Bm92A7",
        "outputId": "562cc7ac-0e19-470d-86d6-9788b4247bac"
      },
      "source": [
        "# 정확도\n",
        "from sklearn.metrics import classification_report, confusion_matrix\n",
        "print(classification_report(y_test, multinomial_model.predict(X_test)))\n",
        "print(confusion_matrix(y_test, multinomial_model.predict(X_test)))"
      ],
      "execution_count": 31,
      "outputs": [
        {
          "output_type": "stream",
          "name": "stdout",
          "text": [
            "              precision    recall  f1-score   support\n",
            "\n",
            "           0       1.00      1.00      1.00   4255161\n",
            "           1       1.00      1.00      1.00     93693\n",
            "\n",
            "    accuracy                           1.00   4348854\n",
            "   macro avg       1.00      1.00      1.00   4348854\n",
            "weighted avg       1.00      1.00      1.00   4348854\n",
            "\n",
            "[[4255152       9]\n",
            " [      0   93693]]\n"
          ]
        }
      ]
    },
    {
      "cell_type": "code",
      "metadata": {
        "colab": {
          "base_uri": "https://localhost:8080/"
        },
        "id": "k97HZujnC6xS",
        "outputId": "6a5a4cd6-013c-46f6-99c5-b27d7eecc871"
      },
      "source": [
        "from sklearn import metrics\n",
        "y_pred = multinomial_model.predict(X_test)\n",
        "print(\"Accuracy:\", metrics.accuracy_score(y_test, y_pred))"
      ],
      "execution_count": 32,
      "outputs": [
        {
          "output_type": "stream",
          "name": "stdout",
          "text": [
            "Accuracy: 0.9999979304892738\n"
          ]
        }
      ]
    },
    {
      "cell_type": "code",
      "metadata": {
        "colab": {
          "base_uri": "https://localhost:8080/"
        },
        "id": "MpbxTl-6ttaE",
        "outputId": "19dc0c8d-88a6-4910-d33c-59cac026e1d1"
      },
      "source": [
        "from sklearn import metrics\n",
        "multinomial_model.predict_proba(X_test)"
      ],
      "execution_count": 49,
      "outputs": [
        {
          "output_type": "execute_result",
          "data": {
            "text/plain": [
              "array([[7.39038732e-89, 1.00000000e+00],\n",
              "       [6.41728416e-06, 9.99993583e-01],\n",
              "       [3.89893012e-26, 1.00000000e+00],\n",
              "       ...,\n",
              "       [1.33929866e-05, 9.99986607e-01],\n",
              "       [1.23186483e-88, 1.00000000e+00],\n",
              "       [4.59814028e-82, 1.00000000e+00]])"
            ]
          },
          "metadata": {},
          "execution_count": 49
        }
      ]
    },
    {
      "cell_type": "markdown",
      "metadata": {
        "id": "PIefBQ8Q3lPZ"
      },
      "source": [
        "## k-fold cross validation"
      ]
    },
    {
      "cell_type": "code",
      "metadata": {
        "colab": {
          "base_uri": "https://localhost:8080/"
        },
        "id": "dAOcoG693pkn",
        "outputId": "075c348c-8a58-44df-8ce1-237039998a92"
      },
      "source": [
        "  from sklearn.model_selection import cross_val_score\n",
        "\n",
        "  # 모델\n",
        "multinomial_model = MultinomialNB()\n",
        "\n",
        "  # 파라미터는 (모델, Traingdata의 feature, Trainingdata의 target, 폴드수) 이다.\n",
        "scores = cross_val_score(multinomial_model ,X_train, y_train ,cv=3)\n",
        "\n",
        "  # Trainingdata에 대한 성능을 나타낸다.\n",
        "print('교차 검증별 정확도:',np.round(scores, 4))\n",
        "print('평균 검증 정확도:', np.round(np.mean(scores), 4))"
      ],
      "execution_count": 53,
      "outputs": [
        {
          "output_type": "stream",
          "name": "stderr",
          "text": [
            "/usr/local/lib/python3.7/dist-packages/sklearn/model_selection/_validation.py:536: FitFailedWarning: Estimator fit failed. The score on this train-test partition for these parameters will be set to nan. Details: \n",
            "ValueError: bad input shape (5886327, 2)\n",
            "\n",
            "  FitFailedWarning)\n",
            "/usr/local/lib/python3.7/dist-packages/sklearn/model_selection/_validation.py:536: FitFailedWarning: Estimator fit failed. The score on this train-test partition for these parameters will be set to nan. Details: \n",
            "ValueError: bad input shape (5886327, 2)\n",
            "\n",
            "  FitFailedWarning)\n"
          ]
        },
        {
          "output_type": "stream",
          "name": "stdout",
          "text": [
            "교차 검증별 정확도: [nan nan nan]\n",
            "평균 검증 정확도: nan\n"
          ]
        },
        {
          "output_type": "stream",
          "name": "stderr",
          "text": [
            "/usr/local/lib/python3.7/dist-packages/sklearn/model_selection/_validation.py:536: FitFailedWarning: Estimator fit failed. The score on this train-test partition for these parameters will be set to nan. Details: \n",
            "ValueError: bad input shape (5886328, 2)\n",
            "\n",
            "  FitFailedWarning)\n"
          ]
        }
      ]
    },
    {
      "cell_type": "markdown",
      "metadata": {
        "id": "C-coTWo82PWx"
      },
      "source": [
        "## 원핫인코딩 적용"
      ]
    },
    {
      "cell_type": "code",
      "metadata": {
        "colab": {
          "base_uri": "https://localhost:8080/",
          "height": 416
        },
        "id": "dYkCbbqX2QxJ",
        "outputId": "4fc29f22-4818-42a5-ac45-04430bbe004e"
      },
      "source": [
        "pd.get_dummies(df_train['서식코드'], prefix = '입원여부')"
      ],
      "execution_count": 33,
      "outputs": [
        {
          "output_type": "execute_result",
          "data": {
            "text/html": [
              "<div>\n",
              "<style scoped>\n",
              "    .dataframe tbody tr th:only-of-type {\n",
              "        vertical-align: middle;\n",
              "    }\n",
              "\n",
              "    .dataframe tbody tr th {\n",
              "        vertical-align: top;\n",
              "    }\n",
              "\n",
              "    .dataframe thead th {\n",
              "        text-align: right;\n",
              "    }\n",
              "</style>\n",
              "<table border=\"1\" class=\"dataframe\">\n",
              "  <thead>\n",
              "    <tr style=\"text-align: right;\">\n",
              "      <th></th>\n",
              "      <th>입원여부_0</th>\n",
              "      <th>입원여부_1</th>\n",
              "    </tr>\n",
              "  </thead>\n",
              "  <tbody>\n",
              "    <tr>\n",
              "      <th>0</th>\n",
              "      <td>1</td>\n",
              "      <td>0</td>\n",
              "    </tr>\n",
              "    <tr>\n",
              "      <th>1</th>\n",
              "      <td>1</td>\n",
              "      <td>0</td>\n",
              "    </tr>\n",
              "    <tr>\n",
              "      <th>2</th>\n",
              "      <td>1</td>\n",
              "      <td>0</td>\n",
              "    </tr>\n",
              "    <tr>\n",
              "      <th>3</th>\n",
              "      <td>0</td>\n",
              "      <td>1</td>\n",
              "    </tr>\n",
              "    <tr>\n",
              "      <th>4</th>\n",
              "      <td>1</td>\n",
              "      <td>0</td>\n",
              "    </tr>\n",
              "    <tr>\n",
              "      <th>...</th>\n",
              "      <td>...</td>\n",
              "      <td>...</td>\n",
              "    </tr>\n",
              "    <tr>\n",
              "      <th>13178340</th>\n",
              "      <td>1</td>\n",
              "      <td>0</td>\n",
              "    </tr>\n",
              "    <tr>\n",
              "      <th>13178341</th>\n",
              "      <td>1</td>\n",
              "      <td>0</td>\n",
              "    </tr>\n",
              "    <tr>\n",
              "      <th>13178342</th>\n",
              "      <td>1</td>\n",
              "      <td>0</td>\n",
              "    </tr>\n",
              "    <tr>\n",
              "      <th>13178343</th>\n",
              "      <td>0</td>\n",
              "      <td>1</td>\n",
              "    </tr>\n",
              "    <tr>\n",
              "      <th>13178344</th>\n",
              "      <td>1</td>\n",
              "      <td>0</td>\n",
              "    </tr>\n",
              "  </tbody>\n",
              "</table>\n",
              "<p>13178345 rows × 2 columns</p>\n",
              "</div>"
            ],
            "text/plain": [
              "          입원여부_0  입원여부_1\n",
              "0              1       0\n",
              "1              1       0\n",
              "2              1       0\n",
              "3              0       1\n",
              "4              1       0\n",
              "...          ...     ...\n",
              "13178340       1       0\n",
              "13178341       1       0\n",
              "13178342       1       0\n",
              "13178343       0       1\n",
              "13178344       1       0\n",
              "\n",
              "[13178345 rows x 2 columns]"
            ]
          },
          "metadata": {},
          "execution_count": 33
        }
      ]
    },
    {
      "cell_type": "code",
      "metadata": {
        "colab": {
          "base_uri": "https://localhost:8080/",
          "height": 416
        },
        "id": "qJXPvtq6oLJb",
        "outputId": "7ccdaae1-415a-4ddf-d02a-c567aac0cf33"
      },
      "source": [
        "pd.get_dummies(data = df_train, columns = ['서식코드'], prefix = '입원여부')"
      ],
      "execution_count": 36,
      "outputs": [
        {
          "output_type": "execute_result",
          "data": {
            "text/html": [
              "<div>\n",
              "<style scoped>\n",
              "    .dataframe tbody tr th:only-of-type {\n",
              "        vertical-align: middle;\n",
              "    }\n",
              "\n",
              "    .dataframe tbody tr th {\n",
              "        vertical-align: top;\n",
              "    }\n",
              "\n",
              "    .dataframe thead th {\n",
              "        text-align: right;\n",
              "    }\n",
              "</style>\n",
              "<table border=\"1\" class=\"dataframe\">\n",
              "  <thead>\n",
              "    <tr style=\"text-align: right;\">\n",
              "      <th></th>\n",
              "      <th>성별코드</th>\n",
              "      <th>연령대코드</th>\n",
              "      <th>시도코드</th>\n",
              "      <th>진료과목코드</th>\n",
              "      <th>주상병코드</th>\n",
              "      <th>부상병코드</th>\n",
              "      <th>심결가산율</th>\n",
              "      <th>입원여부_0</th>\n",
              "      <th>입원여부_1</th>\n",
              "    </tr>\n",
              "  </thead>\n",
              "  <tbody>\n",
              "    <tr>\n",
              "      <th>0</th>\n",
              "      <td>2</td>\n",
              "      <td>12</td>\n",
              "      <td>46</td>\n",
              "      <td>5</td>\n",
              "      <td>12</td>\n",
              "      <td>12</td>\n",
              "      <td>3</td>\n",
              "      <td>1</td>\n",
              "      <td>0</td>\n",
              "    </tr>\n",
              "    <tr>\n",
              "      <th>1</th>\n",
              "      <td>2</td>\n",
              "      <td>12</td>\n",
              "      <td>46</td>\n",
              "      <td>1</td>\n",
              "      <td>4</td>\n",
              "      <td>13</td>\n",
              "      <td>3</td>\n",
              "      <td>1</td>\n",
              "      <td>0</td>\n",
              "    </tr>\n",
              "    <tr>\n",
              "      <th>2</th>\n",
              "      <td>2</td>\n",
              "      <td>12</td>\n",
              "      <td>46</td>\n",
              "      <td>1</td>\n",
              "      <td>13</td>\n",
              "      <td>4</td>\n",
              "      <td>3</td>\n",
              "      <td>1</td>\n",
              "      <td>0</td>\n",
              "    </tr>\n",
              "    <tr>\n",
              "      <th>3</th>\n",
              "      <td>2</td>\n",
              "      <td>12</td>\n",
              "      <td>46</td>\n",
              "      <td>1</td>\n",
              "      <td>4</td>\n",
              "      <td>13</td>\n",
              "      <td>3</td>\n",
              "      <td>0</td>\n",
              "      <td>1</td>\n",
              "    </tr>\n",
              "    <tr>\n",
              "      <th>4</th>\n",
              "      <td>2</td>\n",
              "      <td>12</td>\n",
              "      <td>46</td>\n",
              "      <td>13</td>\n",
              "      <td>7</td>\n",
              "      <td>9</td>\n",
              "      <td>1</td>\n",
              "      <td>1</td>\n",
              "      <td>0</td>\n",
              "    </tr>\n",
              "    <tr>\n",
              "      <th>...</th>\n",
              "      <td>...</td>\n",
              "      <td>...</td>\n",
              "      <td>...</td>\n",
              "      <td>...</td>\n",
              "      <td>...</td>\n",
              "      <td>...</td>\n",
              "      <td>...</td>\n",
              "      <td>...</td>\n",
              "      <td>...</td>\n",
              "    </tr>\n",
              "    <tr>\n",
              "      <th>13178340</th>\n",
              "      <td>2</td>\n",
              "      <td>1</td>\n",
              "      <td>47</td>\n",
              "      <td>21</td>\n",
              "      <td>15</td>\n",
              "      <td>15</td>\n",
              "      <td>4</td>\n",
              "      <td>1</td>\n",
              "      <td>0</td>\n",
              "    </tr>\n",
              "    <tr>\n",
              "      <th>13178341</th>\n",
              "      <td>2</td>\n",
              "      <td>1</td>\n",
              "      <td>47</td>\n",
              "      <td>11</td>\n",
              "      <td>9</td>\n",
              "      <td>9</td>\n",
              "      <td>2</td>\n",
              "      <td>1</td>\n",
              "      <td>0</td>\n",
              "    </tr>\n",
              "    <tr>\n",
              "      <th>13178342</th>\n",
              "      <td>2</td>\n",
              "      <td>1</td>\n",
              "      <td>47</td>\n",
              "      <td>12</td>\n",
              "      <td>7</td>\n",
              "      <td>15</td>\n",
              "      <td>3</td>\n",
              "      <td>1</td>\n",
              "      <td>0</td>\n",
              "    </tr>\n",
              "    <tr>\n",
              "      <th>13178343</th>\n",
              "      <td>2</td>\n",
              "      <td>1</td>\n",
              "      <td>47</td>\n",
              "      <td>11</td>\n",
              "      <td>15</td>\n",
              "      <td>15</td>\n",
              "      <td>3</td>\n",
              "      <td>0</td>\n",
              "      <td>1</td>\n",
              "    </tr>\n",
              "    <tr>\n",
              "      <th>13178344</th>\n",
              "      <td>2</td>\n",
              "      <td>1</td>\n",
              "      <td>47</td>\n",
              "      <td>13</td>\n",
              "      <td>9</td>\n",
              "      <td>9</td>\n",
              "      <td>1</td>\n",
              "      <td>1</td>\n",
              "      <td>0</td>\n",
              "    </tr>\n",
              "  </tbody>\n",
              "</table>\n",
              "<p>13178345 rows × 9 columns</p>\n",
              "</div>"
            ],
            "text/plain": [
              "         성별코드 연령대코드 시도코드 진료과목코드 주상병코드 부상병코드 심결가산율  입원여부_0  입원여부_1\n",
              "0           2    12   46      5    12    12     3       1       0\n",
              "1           2    12   46      1     4    13     3       1       0\n",
              "2           2    12   46      1    13     4     3       1       0\n",
              "3           2    12   46      1     4    13     3       0       1\n",
              "4           2    12   46     13     7     9     1       1       0\n",
              "...       ...   ...  ...    ...   ...   ...   ...     ...     ...\n",
              "13178340    2     1   47     21    15    15     4       1       0\n",
              "13178341    2     1   47     11     9     9     2       1       0\n",
              "13178342    2     1   47     12     7    15     3       1       0\n",
              "13178343    2     1   47     11    15    15     3       0       1\n",
              "13178344    2     1   47     13     9     9     1       1       0\n",
              "\n",
              "[13178345 rows x 9 columns]"
            ]
          },
          "metadata": {},
          "execution_count": 36
        }
      ]
    },
    {
      "cell_type": "code",
      "metadata": {
        "id": "SC6plfqgokYS"
      },
      "source": [
        "df_train = pd.get_dummies(data = df_train, columns = ['서식코드'], prefix = '입원여부')"
      ],
      "execution_count": 39,
      "outputs": []
    },
    {
      "cell_type": "code",
      "metadata": {
        "id": "QEnoZjFr2Sek"
      },
      "source": [
        "from sklearn.model_selection import train_test_split\n",
        "X = df_train.drop(['입원여부_0','입원여부_1'], axis = 1)\n",
        "y = df_train[['입원여부_0','입원여부_1']]\n",
        "X_train, X_test, y_train, y_test = train_test_split(X,y,test_size=0.33)"
      ],
      "execution_count": 43,
      "outputs": []
    },
    {
      "cell_type": "code",
      "metadata": {
        "colab": {
          "base_uri": "https://localhost:8080/",
          "height": 321
        },
        "id": "ZgshVrp1o01i",
        "outputId": "6f7e22a8-63e0-4e90-c7d9-6b9bff4eeb0e"
      },
      "source": [
        "multinomial_model.fit(X_train, y_train)"
      ],
      "execution_count": 44,
      "outputs": [
        {
          "output_type": "error",
          "ename": "ValueError",
          "evalue": "ignored",
          "traceback": [
            "\u001b[0;31m---------------------------------------------------------------------------\u001b[0m",
            "\u001b[0;31mValueError\u001b[0m                                Traceback (most recent call last)",
            "\u001b[0;32m<ipython-input-44-5b48e3d821dd>\u001b[0m in \u001b[0;36m<module>\u001b[0;34m()\u001b[0m\n\u001b[0;32m----> 1\u001b[0;31m \u001b[0mmultinomial_model\u001b[0m\u001b[0;34m.\u001b[0m\u001b[0mfit\u001b[0m\u001b[0;34m(\u001b[0m\u001b[0mX_train\u001b[0m\u001b[0;34m,\u001b[0m \u001b[0my_train\u001b[0m\u001b[0;34m)\u001b[0m\u001b[0;34m\u001b[0m\u001b[0;34m\u001b[0m\u001b[0m\n\u001b[0m",
            "\u001b[0;32m/usr/local/lib/python3.7/dist-packages/sklearn/naive_bayes.py\u001b[0m in \u001b[0;36mfit\u001b[0;34m(self, X, y, sample_weight)\u001b[0m\n\u001b[1;32m    607\u001b[0m         \u001b[0mself\u001b[0m \u001b[0;34m:\u001b[0m \u001b[0mobject\u001b[0m\u001b[0;34m\u001b[0m\u001b[0;34m\u001b[0m\u001b[0m\n\u001b[1;32m    608\u001b[0m         \"\"\"\n\u001b[0;32m--> 609\u001b[0;31m         \u001b[0mX\u001b[0m\u001b[0;34m,\u001b[0m \u001b[0my\u001b[0m \u001b[0;34m=\u001b[0m \u001b[0mself\u001b[0m\u001b[0;34m.\u001b[0m\u001b[0m_check_X_y\u001b[0m\u001b[0;34m(\u001b[0m\u001b[0mX\u001b[0m\u001b[0;34m,\u001b[0m \u001b[0my\u001b[0m\u001b[0;34m)\u001b[0m\u001b[0;34m\u001b[0m\u001b[0;34m\u001b[0m\u001b[0m\n\u001b[0m\u001b[1;32m    610\u001b[0m         \u001b[0m_\u001b[0m\u001b[0;34m,\u001b[0m \u001b[0mn_features\u001b[0m \u001b[0;34m=\u001b[0m \u001b[0mX\u001b[0m\u001b[0;34m.\u001b[0m\u001b[0mshape\u001b[0m\u001b[0;34m\u001b[0m\u001b[0;34m\u001b[0m\u001b[0m\n\u001b[1;32m    611\u001b[0m         \u001b[0mself\u001b[0m\u001b[0;34m.\u001b[0m\u001b[0mn_features_\u001b[0m \u001b[0;34m=\u001b[0m \u001b[0mn_features\u001b[0m\u001b[0;34m\u001b[0m\u001b[0;34m\u001b[0m\u001b[0m\n",
            "\u001b[0;32m/usr/local/lib/python3.7/dist-packages/sklearn/naive_bayes.py\u001b[0m in \u001b[0;36m_check_X_y\u001b[0;34m(self, X, y)\u001b[0m\n\u001b[1;32m    473\u001b[0m \u001b[0;34m\u001b[0m\u001b[0m\n\u001b[1;32m    474\u001b[0m     \u001b[0;32mdef\u001b[0m \u001b[0m_check_X_y\u001b[0m\u001b[0;34m(\u001b[0m\u001b[0mself\u001b[0m\u001b[0;34m,\u001b[0m \u001b[0mX\u001b[0m\u001b[0;34m,\u001b[0m \u001b[0my\u001b[0m\u001b[0;34m)\u001b[0m\u001b[0;34m:\u001b[0m\u001b[0;34m\u001b[0m\u001b[0;34m\u001b[0m\u001b[0m\n\u001b[0;32m--> 475\u001b[0;31m         \u001b[0;32mreturn\u001b[0m \u001b[0mcheck_X_y\u001b[0m\u001b[0;34m(\u001b[0m\u001b[0mX\u001b[0m\u001b[0;34m,\u001b[0m \u001b[0my\u001b[0m\u001b[0;34m,\u001b[0m \u001b[0maccept_sparse\u001b[0m\u001b[0;34m=\u001b[0m\u001b[0;34m'csr'\u001b[0m\u001b[0;34m)\u001b[0m\u001b[0;34m\u001b[0m\u001b[0;34m\u001b[0m\u001b[0m\n\u001b[0m\u001b[1;32m    476\u001b[0m \u001b[0;34m\u001b[0m\u001b[0m\n\u001b[1;32m    477\u001b[0m     \u001b[0;32mdef\u001b[0m \u001b[0m_update_class_log_prior\u001b[0m\u001b[0;34m(\u001b[0m\u001b[0mself\u001b[0m\u001b[0;34m,\u001b[0m \u001b[0mclass_prior\u001b[0m\u001b[0;34m=\u001b[0m\u001b[0;32mNone\u001b[0m\u001b[0;34m)\u001b[0m\u001b[0;34m:\u001b[0m\u001b[0;34m\u001b[0m\u001b[0;34m\u001b[0m\u001b[0m\n",
            "\u001b[0;32m/usr/local/lib/python3.7/dist-packages/sklearn/utils/validation.py\u001b[0m in \u001b[0;36mcheck_X_y\u001b[0;34m(X, y, accept_sparse, accept_large_sparse, dtype, order, copy, force_all_finite, ensure_2d, allow_nd, multi_output, ensure_min_samples, ensure_min_features, y_numeric, warn_on_dtype, estimator)\u001b[0m\n\u001b[1;32m    758\u001b[0m                         dtype=None)\n\u001b[1;32m    759\u001b[0m     \u001b[0;32melse\u001b[0m\u001b[0;34m:\u001b[0m\u001b[0;34m\u001b[0m\u001b[0;34m\u001b[0m\u001b[0m\n\u001b[0;32m--> 760\u001b[0;31m         \u001b[0my\u001b[0m \u001b[0;34m=\u001b[0m \u001b[0mcolumn_or_1d\u001b[0m\u001b[0;34m(\u001b[0m\u001b[0my\u001b[0m\u001b[0;34m,\u001b[0m \u001b[0mwarn\u001b[0m\u001b[0;34m=\u001b[0m\u001b[0;32mTrue\u001b[0m\u001b[0;34m)\u001b[0m\u001b[0;34m\u001b[0m\u001b[0;34m\u001b[0m\u001b[0m\n\u001b[0m\u001b[1;32m    761\u001b[0m         \u001b[0m_assert_all_finite\u001b[0m\u001b[0;34m(\u001b[0m\u001b[0my\u001b[0m\u001b[0;34m)\u001b[0m\u001b[0;34m\u001b[0m\u001b[0;34m\u001b[0m\u001b[0m\n\u001b[1;32m    762\u001b[0m     \u001b[0;32mif\u001b[0m \u001b[0my_numeric\u001b[0m \u001b[0;32mand\u001b[0m \u001b[0my\u001b[0m\u001b[0;34m.\u001b[0m\u001b[0mdtype\u001b[0m\u001b[0;34m.\u001b[0m\u001b[0mkind\u001b[0m \u001b[0;34m==\u001b[0m \u001b[0;34m'O'\u001b[0m\u001b[0;34m:\u001b[0m\u001b[0;34m\u001b[0m\u001b[0;34m\u001b[0m\u001b[0m\n",
            "\u001b[0;32m/usr/local/lib/python3.7/dist-packages/sklearn/utils/validation.py\u001b[0m in \u001b[0;36mcolumn_or_1d\u001b[0;34m(y, warn)\u001b[0m\n\u001b[1;32m    795\u001b[0m         \u001b[0;32mreturn\u001b[0m \u001b[0mnp\u001b[0m\u001b[0;34m.\u001b[0m\u001b[0mravel\u001b[0m\u001b[0;34m(\u001b[0m\u001b[0my\u001b[0m\u001b[0;34m)\u001b[0m\u001b[0;34m\u001b[0m\u001b[0;34m\u001b[0m\u001b[0m\n\u001b[1;32m    796\u001b[0m \u001b[0;34m\u001b[0m\u001b[0m\n\u001b[0;32m--> 797\u001b[0;31m     \u001b[0;32mraise\u001b[0m \u001b[0mValueError\u001b[0m\u001b[0;34m(\u001b[0m\u001b[0;34m\"bad input shape {0}\"\u001b[0m\u001b[0;34m.\u001b[0m\u001b[0mformat\u001b[0m\u001b[0;34m(\u001b[0m\u001b[0mshape\u001b[0m\u001b[0;34m)\u001b[0m\u001b[0;34m)\u001b[0m\u001b[0;34m\u001b[0m\u001b[0;34m\u001b[0m\u001b[0m\n\u001b[0m\u001b[1;32m    798\u001b[0m \u001b[0;34m\u001b[0m\u001b[0m\n\u001b[1;32m    799\u001b[0m \u001b[0;34m\u001b[0m\u001b[0m\n",
            "\u001b[0;31mValueError\u001b[0m: bad input shape (8829491, 2)"
          ]
        }
      ]
    },
    {
      "cell_type": "code",
      "metadata": {
        "id": "3Y77KV7hpOsf"
      },
      "source": [
        "# 정확도\n",
        "from sklearn.metrics import classification_report, confusion_matrix\n",
        "print(classification_report(y_test, multinomial_model.predict(X_test)))\n",
        "print(confusion_matrix(y_test, multinomial_model.predict(X_test)))"
      ],
      "execution_count": null,
      "outputs": []
    },
    {
      "cell_type": "code",
      "metadata": {
        "id": "yZG551vJpRrF"
      },
      "source": [
        "from sklearn import metrics\n",
        "y_pred = multinomial_model.predict(X_test)\n",
        "print(\"Accuracy:\", metrics.accuracy_score(y_test, y_pred))"
      ],
      "execution_count": null,
      "outputs": []
    },
    {
      "cell_type": "markdown",
      "metadata": {
        "id": "RAavXl7eLVuv"
      },
      "source": [
        "## KNN"
      ]
    },
    {
      "cell_type": "code",
      "metadata": {
        "id": "-vX9RXAGLXce"
      },
      "source": [
        "from sklearn.neighbors import KNeighborsClassifier\n",
        "knn = KNeighborsClassifier(n_neighbors = 3)"
      ],
      "execution_count": 57,
      "outputs": []
    },
    {
      "cell_type": "code",
      "metadata": {
        "id": "bC_6HSQILakg"
      },
      "source": [
        "knn.fit(X_train, y_train)"
      ],
      "execution_count": null,
      "outputs": []
    },
    {
      "cell_type": "code",
      "metadata": {
        "id": "45i5tx51LbDK"
      },
      "source": [
        "knn.score(X_test,y_test)"
      ],
      "execution_count": null,
      "outputs": []
    },
    {
      "cell_type": "code",
      "metadata": {
        "id": "9Gecifa-Ld_E"
      },
      "source": [
        "print(classification_report(y_test, knn.predict(X_test)))"
      ],
      "execution_count": null,
      "outputs": []
    },
    {
      "cell_type": "code",
      "metadata": {
        "id": "LqGTndeWLgn9"
      },
      "source": [
        ""
      ],
      "execution_count": null,
      "outputs": []
    }
  ]
}