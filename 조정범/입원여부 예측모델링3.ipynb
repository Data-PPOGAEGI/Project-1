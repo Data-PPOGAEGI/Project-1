{
 "cells": [
  {
   "cell_type": "code",
   "execution_count": 1,
   "source": [
    "# 분석에 필요한 패키지 로드\r\n",
    "import numpy as np\r\n",
    "import matplotlib as mpl\r\n",
    "import matplotlib.pyplot as plt\r\n",
    "import matplotlib.font_manager as fonm\r\n",
    "from matplotlib import font_manager, rc\r\n",
    "mpl.rcParams['axes.unicode_minus'] = False\r\n",
    "font_path = 'C:/Windows/Fonts/정직_1.ttf'\r\n",
    "font = fonm.FontProperties(fname=font_path).get_name()\r\n",
    "rc('font', family=font)\r\n",
    "import pandas as pd\r\n",
    "import seaborn as sns"
   ],
   "outputs": [],
   "metadata": {}
  },
  {
   "cell_type": "code",
   "execution_count": 2,
   "source": [
    "df = pd.read_csv('C:\\\\Workspace\\\\python\\\\빅데이터 지능형서비스 개발 팀프로젝트(21.9.27~10.6)\\\\Project-1\\\\조정범\\\\Data\\\\모델제작용데이터셋(헬스케어).csv')"
   ],
   "outputs": [],
   "metadata": {}
  },
  {
   "cell_type": "code",
   "execution_count": 3,
   "source": [
    "for i in df.columns:\r\n",
    "    df[i] = df[i].astype('category')\r\n",
    "df.dtypes"
   ],
   "outputs": [
    {
     "output_type": "execute_result",
     "data": {
      "text/plain": [
       "성별코드      category\n",
       "연령대코드     category\n",
       "시도코드      category\n",
       "서식코드      category\n",
       "진료과목코드    category\n",
       "주상병코드     category\n",
       "부상병코드     category\n",
       "심결가산율     category\n",
       "dtype: object"
      ]
     },
     "metadata": {},
     "execution_count": 3
    }
   ],
   "metadata": {}
  },
  {
   "cell_type": "code",
   "execution_count": 4,
   "source": [
    "df.columns"
   ],
   "outputs": [
    {
     "output_type": "execute_result",
     "data": {
      "text/plain": [
       "Index(['성별코드', '연령대코드', '시도코드', '서식코드', '진료과목코드', '주상병코드', '부상병코드', '심결가산율'], dtype='object')"
      ]
     },
     "metadata": {},
     "execution_count": 4
    }
   ],
   "metadata": {}
  },
  {
   "cell_type": "code",
   "execution_count": 5,
   "source": [
    "print(f\"전체환자 데이터 수 : {len(df)} / 입원환자 데이터 수 : {len(df[df['서식코드'] == 1])} / 비입원환자 데이터 수 : {len(df[df['서식코드'] == 0])}\")"
   ],
   "outputs": [
    {
     "output_type": "stream",
     "name": "stdout",
     "text": [
      "전체환자 데이터 수 : 13178345 / 입원환자 데이터 수 : 283962 / 비입원환자 데이터 수 : 12894383\n"
     ]
    }
   ],
   "metadata": {}
  },
  {
   "cell_type": "code",
   "execution_count": 6,
   "source": [
    "# 교차분석을 위한 패키지로드 / 코드 참고 : https://lovelydiary.tistory.com/364\r\n",
    "from scipy.stats import chi2_contingency\r\n",
    "\r\n",
    "# 성별과 서식 교차분석\r\n",
    "# 귀무가설 : 두 변수는 독립\r\n",
    "sex_ct = pd.crosstab(df['성별코드'], df['서식코드'], margins = False) # margin을 True를 넣으면 빈도수의 합까지 출력해줌\r\n",
    "\r\n",
    "# crosstab 객체의 margins=False여야 correction=True를 적용하면 Yates' correction이 적용 되어 검정통계량이 보수적으로 더 낮게 나옴\r\n",
    "result_sex = chi2_contingency(observed = sex_ct, correction=False)\r\n",
    "print(\"* 성별과 입원여부의 상관성 분석\")\r\n",
    "print(\"1. 카이제곱 통계량:\", result_sex[0])\r\n",
    "print(\"2. p-value:\", result_sex[1]) # p-value의 값이 0.05보다 낮으면 두 변수는 독립이 아님.(귀무가설 기각) - 연관이 있음.\r\n",
    "print(\"3. df:\", result_sex[2]) #(행의개수-1)*(열의개수-1)\r\n",
    "# print(\"4. 기대값 행렬:\")\r\n",
    "# pd.DataFrame(result_sex[3]).rename(index={0:'남자', 1:'여자'}, columns={0:'비입원', 1:'입원'})"
   ],
   "outputs": [
    {
     "output_type": "stream",
     "name": "stdout",
     "text": [
      "* 성별과 입원여부의 상관성 분석\n",
      "1. 카이제곱 통계량: 63.73445258300231\n",
      "2. p-value: 1.4237276093936452e-15\n",
      "3. df: 1\n"
     ]
    }
   ],
   "metadata": {}
  },
  {
   "cell_type": "code",
   "execution_count": 7,
   "source": [
    "sido_ct = pd.crosstab(df['시도코드'], df['서식코드'], margins = False) # margin을 True를 넣으면 빈도수의 합까지 출력해줌\r\n",
    "\r\n",
    "# crosstab 객체의 margins=False여야 correction=True를 적용하면 Yates' correction이 적용 되어 검정통계량이 보수적으로 더 낮게 나옴\r\n",
    "result_sido = chi2_contingency(observed = sido_ct, correction=False)\r\n",
    "print(\"* 거주지역과 입원여부의 상관성 분석\")\r\n",
    "print(\"1. 카이제곱 통계량:\", result_sido[0])\r\n",
    "print(\"2. p-value:\", result_sido[1]) # p-value의 값이 0.05보다 낮으면 두 변수는 독립이 아님. - 연관이 있음.\r\n",
    "print(\"3. df:\", result_sido[2]) #(행의개수-1)*(열의개수-1)"
   ],
   "outputs": [
    {
     "output_type": "stream",
     "name": "stdout",
     "text": [
      "* 거주지역과 입원여부의 상관성 분석\n",
      "1. 카이제곱 통계량: 15515.044935827773\n",
      "2. p-value: 0.0\n",
      "3. df: 16\n"
     ]
    }
   ],
   "metadata": {}
  },
  {
   "cell_type": "code",
   "execution_count": 8,
   "source": [
    "age_ct = pd.crosstab(df['연령대코드'], df['서식코드'], margins = False) # margin을 True를 넣으면 빈도수의 합까지 출력해줌\r\n",
    "\r\n",
    "# crosstab 객체의 margins=False여야 correction=True를 적용하면 Yates' correction이 적용 되어 검정통계량이 보수적으로 더 낮게 나옴\r\n",
    "result_age = chi2_contingency(observed = age_ct, correction=False)\r\n",
    "print(\"* 연령대와 입원여부의 상관성 분석\")\r\n",
    "print(\"1. 카이제곱 통계량:\", result_age[0])\r\n",
    "print(\"2. p-value:\", result_age[1]) # p-value의 값이 0.05보다 낮으면 두 변수는 독립이 아님. - 연관이 있음.\r\n",
    "print(\"3. df:\", result_age[2]) #(행의개수-1)*(열의개수-1)"
   ],
   "outputs": [
    {
     "output_type": "stream",
     "name": "stdout",
     "text": [
      "* 연령대와 입원여부의 상관성 분석\n",
      "1. 카이제곱 통계량: 98529.54872519782\n",
      "2. p-value: 0.0\n",
      "3. df: 17\n"
     ]
    }
   ],
   "metadata": {}
  },
  {
   "cell_type": "code",
   "execution_count": 9,
   "source": [
    "ds_ct = pd.crosstab(df['진료과목코드'], df['서식코드'], margins = False) # margin을 True를 넣으면 빈도수의 합까지 출력해줌\r\n",
    "\r\n",
    "# crosstab 객체의 margins=False여야 correction=True를 적용하면 Yates' correction이 적용 되어 검정통계량이 보수적으로 더 낮게 나옴\r\n",
    "result_ds = chi2_contingency(observed = ds_ct, correction=False)\r\n",
    "print(\"* 진료과목과 입원여부의 상관성 분석\")\r\n",
    "print(\"1. 카이제곱 통계량:\", result_ds[0])\r\n",
    "print(\"2. p-value:\", result_ds[1]) # p-value의 값이 0.05보다 낮으면 두 변수는 독립이 아님. - 연관이 있음.\r\n",
    "print(\"3. df:\", result_ds[2]) #(행의개수-1)*(열의개수-1)"
   ],
   "outputs": [
    {
     "output_type": "stream",
     "name": "stdout",
     "text": [
      "* 진료과목과 입원여부의 상관성 분석\n",
      "1. 카이제곱 통계량: 322817.0802463987\n",
      "2. p-value: 0.0\n",
      "3. df: 32\n"
     ]
    }
   ],
   "metadata": {}
  },
  {
   "cell_type": "code",
   "execution_count": 10,
   "source": [
    "dsbjt1_ct = pd.crosstab(df['주상병코드'], df['서식코드'], margins = False) # margin을 True를 넣으면 빈도수의 합까지 출력해줌\r\n",
    "\r\n",
    "# crosstab 객체의 margins=False여야 correction=True를 적용하면 Yates' correction이 적용 되어 검정통계량이 보수적으로 더 낮게 나옴\r\n",
    "result_dsbjt1 = chi2_contingency(observed = dsbjt1_ct, correction=False)\r\n",
    "print(\"* 주상병코드와 입원여부의 상관성 분석\")\r\n",
    "print(\"1. 카이제곱 통계량:\", result_dsbjt1[0])\r\n",
    "print(\"2. p-value:\", result_dsbjt1[1]) # p-value의 값이 0.05보다 낮으면 두 변수는 독립이 아님. - 연관이 있음.\r\n",
    "print(\"3. df:\", result_dsbjt1[2]) #(행의개수-1)*(열의개수-1)"
   ],
   "outputs": [
    {
     "output_type": "stream",
     "name": "stdout",
     "text": [
      "* 주상병코드와 입원여부의 상관성 분석\n",
      "1. 카이제곱 통계량: 442772.5674788981\n",
      "2. p-value: 0.0\n",
      "3. df: 21\n"
     ]
    }
   ],
   "metadata": {}
  },
  {
   "cell_type": "code",
   "execution_count": 11,
   "source": [
    "dsbjt2_ct = pd.crosstab(df['부상병코드'], df['서식코드'], margins = False) # margin을 True를 넣으면 빈도수의 합까지 출력해줌\r\n",
    "\r\n",
    "# crosstab 객체의 margins=False여야 correction=True를 적용하면 Yates' correction이 적용 되어 검정통계량이 보수적으로 더 낮게 나옴\r\n",
    "result_dsbjt2 = chi2_contingency(observed = dsbjt2_ct, correction=False)\r\n",
    "print(\"* 부상병코드와 입원여부의 상관성 분석\")\r\n",
    "print(\"1. 카이제곱 통계량:\", result_dsbjt2[0])\r\n",
    "print(\"2. p-value:\", result_dsbjt2[1]) # p-value의 값이 0.05보다 낮으면 두 변수는 독립이 아님. - 연관이 있음.\r\n",
    "print(\"3. df:\", result_dsbjt2[2]) #(행의개수-1)*(열의개수-1)"
   ],
   "outputs": [
    {
     "output_type": "stream",
     "name": "stdout",
     "text": [
      "* 부상병코드와 입원여부의 상관성 분석\n",
      "1. 카이제곱 통계량: 338266.4256146522\n",
      "2. p-value: 0.0\n",
      "3. df: 25\n"
     ]
    }
   ],
   "metadata": {}
  },
  {
   "cell_type": "code",
   "execution_count": 12,
   "source": [
    "rate_ct = pd.crosstab(df['심결가산율'], df['서식코드'], margins = False) # margin을 True를 넣으면 빈도수의 합까지 출력해줌\r\n",
    "\r\n",
    "# crosstab 객체의 margins=False여야 correction=True를 적용하면 Yates' correction이 적용 되어 검정통계량이 보수적으로 더 낮게 나옴\r\n",
    "result_rate = chi2_contingency(observed = rate_ct, correction=False)\r\n",
    "print(\"* 심결가산율과 입원여부의 상관성 분석\")\r\n",
    "print(\"1. 카이제곱 통계량:\", result_rate[0])\r\n",
    "print(\"2. p-value:\", result_rate[1]) # p-value의 값이 0.05보다 낮으면 두 변수는 독립이 아님. - 연관이 있음.\r\n",
    "print(\"3. df:\", result_rate[2]) #(행의개수-1)*(열의개수-1)"
   ],
   "outputs": [
    {
     "output_type": "stream",
     "name": "stdout",
     "text": [
      "* 심결가산율과 입원여부의 상관성 분석\n",
      "1. 카이제곱 통계량: 743745.5481217931\n",
      "2. p-value: 0.0\n",
      "3. df: 4\n"
     ]
    }
   ],
   "metadata": {}
  },
  {
   "cell_type": "code",
   "execution_count": 13,
   "source": [
    "# 출처 : https://g0n1.tistory.com/34\r\n",
    "# 클래스 불균형 처리를 해주는 imbalanced-learn를 호출\r\n",
    "from imblearn.over_sampling import RandomOverSampler\r\n",
    "from imblearn.under_sampling import RandomUnderSampler\r\n",
    "\r\n",
    "# ros, rus 객체\r\n",
    "ros = RandomOverSampler()\r\n",
    "rus = RandomUnderSampler()"
   ],
   "outputs": [],
   "metadata": {}
  },
  {
   "cell_type": "code",
   "execution_count": 14,
   "source": [
    "# Over 샘플링\r\n",
    "# oversampled_data, oversampled_label = ros.fit_resample(df[['성별코드', '연령대코드', '시도코드', '진료과목코드', '주상병코드', '부상병코드','심결가산율']].copy(), df[['서식코드']].copy())\r\n",
    "# oversampled_data = pd.DataFrame(oversampled_data, columns = df.columns)\r\n",
    "\r\n",
    "# Under 샘플링\r\n",
    "undersampled_data, undersampled_label = rus.fit_resample(df[['성별코드', '연령대코드', '시도코드', '진료과목코드', '주상병코드', '부상병코드','심결가산율']].copy(), df[['서식코드']].copy())\r\n",
    "undersampled_data = pd.DataFrame(undersampled_data, columns =['성별코드', '연령대코드', '시도코드', '진료과목코드', '주상병코드', '부상병코드','심결가산율'])"
   ],
   "outputs": [],
   "metadata": {}
  },
  {
   "cell_type": "code",
   "execution_count": 15,
   "source": [
    "undersampled_data['서식코드'] = undersampled_label\r\n",
    "undersampled_data.head()"
   ],
   "outputs": [
    {
     "output_type": "execute_result",
     "data": {
      "text/html": [
       "<div>\n",
       "<style scoped>\n",
       "    .dataframe tbody tr th:only-of-type {\n",
       "        vertical-align: middle;\n",
       "    }\n",
       "\n",
       "    .dataframe tbody tr th {\n",
       "        vertical-align: top;\n",
       "    }\n",
       "\n",
       "    .dataframe thead th {\n",
       "        text-align: right;\n",
       "    }\n",
       "</style>\n",
       "<table border=\"1\" class=\"dataframe\">\n",
       "  <thead>\n",
       "    <tr style=\"text-align: right;\">\n",
       "      <th></th>\n",
       "      <th>성별코드</th>\n",
       "      <th>연령대코드</th>\n",
       "      <th>시도코드</th>\n",
       "      <th>진료과목코드</th>\n",
       "      <th>주상병코드</th>\n",
       "      <th>부상병코드</th>\n",
       "      <th>심결가산율</th>\n",
       "      <th>서식코드</th>\n",
       "    </tr>\n",
       "  </thead>\n",
       "  <tbody>\n",
       "    <tr>\n",
       "      <th>0</th>\n",
       "      <td>2</td>\n",
       "      <td>16</td>\n",
       "      <td>11</td>\n",
       "      <td>5</td>\n",
       "      <td>12</td>\n",
       "      <td>12</td>\n",
       "      <td>1</td>\n",
       "      <td>0</td>\n",
       "    </tr>\n",
       "    <tr>\n",
       "      <th>1</th>\n",
       "      <td>2</td>\n",
       "      <td>12</td>\n",
       "      <td>41</td>\n",
       "      <td>5</td>\n",
       "      <td>12</td>\n",
       "      <td>4</td>\n",
       "      <td>1</td>\n",
       "      <td>0</td>\n",
       "    </tr>\n",
       "    <tr>\n",
       "      <th>2</th>\n",
       "      <td>1</td>\n",
       "      <td>10</td>\n",
       "      <td>42</td>\n",
       "      <td>1</td>\n",
       "      <td>10</td>\n",
       "      <td>10</td>\n",
       "      <td>1</td>\n",
       "      <td>0</td>\n",
       "    </tr>\n",
       "    <tr>\n",
       "      <th>3</th>\n",
       "      <td>2</td>\n",
       "      <td>3</td>\n",
       "      <td>41</td>\n",
       "      <td>11</td>\n",
       "      <td>9</td>\n",
       "      <td>9</td>\n",
       "      <td>1</td>\n",
       "      <td>0</td>\n",
       "    </tr>\n",
       "    <tr>\n",
       "      <th>4</th>\n",
       "      <td>2</td>\n",
       "      <td>16</td>\n",
       "      <td>11</td>\n",
       "      <td>1</td>\n",
       "      <td>4</td>\n",
       "      <td>8</td>\n",
       "      <td>1</td>\n",
       "      <td>0</td>\n",
       "    </tr>\n",
       "  </tbody>\n",
       "</table>\n",
       "</div>"
      ],
      "text/plain": [
       "  성별코드 연령대코드 시도코드 진료과목코드 주상병코드 부상병코드 심결가산율  서식코드\n",
       "0    2    16   11      5    12    12     1     0\n",
       "1    2    12   41      5    12     4     1     0\n",
       "2    1    10   42      1    10    10     1     0\n",
       "3    2     3   41     11     9     9     1     0\n",
       "4    2    16   11      1     4     8     1     0"
      ]
     },
     "metadata": {},
     "execution_count": 15
    }
   ],
   "metadata": {}
  },
  {
   "cell_type": "code",
   "execution_count": 18,
   "source": [
    "print(f\"전체환자 데이터 수 : {len(undersampled_data)} / 입원환자 데이터 수 : {len(undersampled_data[undersampled_data['서식코드'] == 1])} / 비입원환자 데이터 수 : {len(undersampled_data[undersampled_data['서식코드'] == 0])}\")"
   ],
   "outputs": [
    {
     "output_type": "stream",
     "name": "stdout",
     "text": [
      "전체환자 데이터 수 : 567924 / 입원환자 데이터 수 : 283962 / 비입원환자 데이터 수 : 283962\n"
     ]
    }
   ],
   "metadata": {}
  },
  {
   "cell_type": "code",
   "execution_count": 19,
   "source": [
    "df_train1 = undersampled_data[['서식코드']].copy() # 테스트로 사용할 컬럼들\r\n",
    "def dummy_data(data, columns):\r\n",
    "    for column in columns:\r\n",
    "        data = pd.concat([data, pd.get_dummies(data[column], prefix = column)], axis=1)\r\n",
    "        data = data.drop(column, axis=1)\r\n",
    "    return data\r\n",
    "dummy_columns = ['서식코드']\r\n",
    "df_train1_dummy = dummy_data(undersampled_data, dummy_columns)\r\n",
    "df_train1_dummy"
   ],
   "outputs": [
    {
     "output_type": "execute_result",
     "data": {
      "text/html": [
       "<div>\n",
       "<style scoped>\n",
       "    .dataframe tbody tr th:only-of-type {\n",
       "        vertical-align: middle;\n",
       "    }\n",
       "\n",
       "    .dataframe tbody tr th {\n",
       "        vertical-align: top;\n",
       "    }\n",
       "\n",
       "    .dataframe thead th {\n",
       "        text-align: right;\n",
       "    }\n",
       "</style>\n",
       "<table border=\"1\" class=\"dataframe\">\n",
       "  <thead>\n",
       "    <tr style=\"text-align: right;\">\n",
       "      <th></th>\n",
       "      <th>성별코드</th>\n",
       "      <th>연령대코드</th>\n",
       "      <th>시도코드</th>\n",
       "      <th>진료과목코드</th>\n",
       "      <th>주상병코드</th>\n",
       "      <th>부상병코드</th>\n",
       "      <th>심결가산율</th>\n",
       "      <th>서식코드_0</th>\n",
       "      <th>서식코드_1</th>\n",
       "    </tr>\n",
       "  </thead>\n",
       "  <tbody>\n",
       "    <tr>\n",
       "      <th>0</th>\n",
       "      <td>2</td>\n",
       "      <td>16</td>\n",
       "      <td>11</td>\n",
       "      <td>5</td>\n",
       "      <td>12</td>\n",
       "      <td>12</td>\n",
       "      <td>1</td>\n",
       "      <td>1</td>\n",
       "      <td>0</td>\n",
       "    </tr>\n",
       "    <tr>\n",
       "      <th>1</th>\n",
       "      <td>2</td>\n",
       "      <td>12</td>\n",
       "      <td>41</td>\n",
       "      <td>5</td>\n",
       "      <td>12</td>\n",
       "      <td>4</td>\n",
       "      <td>1</td>\n",
       "      <td>1</td>\n",
       "      <td>0</td>\n",
       "    </tr>\n",
       "    <tr>\n",
       "      <th>2</th>\n",
       "      <td>1</td>\n",
       "      <td>10</td>\n",
       "      <td>42</td>\n",
       "      <td>1</td>\n",
       "      <td>10</td>\n",
       "      <td>10</td>\n",
       "      <td>1</td>\n",
       "      <td>1</td>\n",
       "      <td>0</td>\n",
       "    </tr>\n",
       "    <tr>\n",
       "      <th>3</th>\n",
       "      <td>2</td>\n",
       "      <td>3</td>\n",
       "      <td>41</td>\n",
       "      <td>11</td>\n",
       "      <td>9</td>\n",
       "      <td>9</td>\n",
       "      <td>1</td>\n",
       "      <td>1</td>\n",
       "      <td>0</td>\n",
       "    </tr>\n",
       "    <tr>\n",
       "      <th>4</th>\n",
       "      <td>2</td>\n",
       "      <td>16</td>\n",
       "      <td>11</td>\n",
       "      <td>1</td>\n",
       "      <td>4</td>\n",
       "      <td>8</td>\n",
       "      <td>1</td>\n",
       "      <td>1</td>\n",
       "      <td>0</td>\n",
       "    </tr>\n",
       "    <tr>\n",
       "      <th>...</th>\n",
       "      <td>...</td>\n",
       "      <td>...</td>\n",
       "      <td>...</td>\n",
       "      <td>...</td>\n",
       "      <td>...</td>\n",
       "      <td>...</td>\n",
       "      <td>...</td>\n",
       "      <td>...</td>\n",
       "      <td>...</td>\n",
       "    </tr>\n",
       "    <tr>\n",
       "      <th>567919</th>\n",
       "      <td>1</td>\n",
       "      <td>16</td>\n",
       "      <td>42</td>\n",
       "      <td>1</td>\n",
       "      <td>12</td>\n",
       "      <td>3</td>\n",
       "      <td>3</td>\n",
       "      <td>0</td>\n",
       "      <td>1</td>\n",
       "    </tr>\n",
       "    <tr>\n",
       "      <th>567920</th>\n",
       "      <td>1</td>\n",
       "      <td>6</td>\n",
       "      <td>11</td>\n",
       "      <td>5</td>\n",
       "      <td>18</td>\n",
       "      <td>18</td>\n",
       "      <td>2</td>\n",
       "      <td>0</td>\n",
       "      <td>1</td>\n",
       "    </tr>\n",
       "    <tr>\n",
       "      <th>567921</th>\n",
       "      <td>1</td>\n",
       "      <td>4</td>\n",
       "      <td>47</td>\n",
       "      <td>24</td>\n",
       "      <td>17</td>\n",
       "      <td>17</td>\n",
       "      <td>4</td>\n",
       "      <td>0</td>\n",
       "      <td>1</td>\n",
       "    </tr>\n",
       "    <tr>\n",
       "      <th>567922</th>\n",
       "      <td>2</td>\n",
       "      <td>1</td>\n",
       "      <td>47</td>\n",
       "      <td>11</td>\n",
       "      <td>15</td>\n",
       "      <td>15</td>\n",
       "      <td>3</td>\n",
       "      <td>0</td>\n",
       "      <td>1</td>\n",
       "    </tr>\n",
       "    <tr>\n",
       "      <th>567923</th>\n",
       "      <td>2</td>\n",
       "      <td>1</td>\n",
       "      <td>47</td>\n",
       "      <td>11</td>\n",
       "      <td>15</td>\n",
       "      <td>15</td>\n",
       "      <td>3</td>\n",
       "      <td>0</td>\n",
       "      <td>1</td>\n",
       "    </tr>\n",
       "  </tbody>\n",
       "</table>\n",
       "<p>567924 rows × 9 columns</p>\n",
       "</div>"
      ],
      "text/plain": [
       "       성별코드 연령대코드 시도코드 진료과목코드 주상병코드 부상병코드 심결가산율  서식코드_0  서식코드_1\n",
       "0         2    16   11      5    12    12     1       1       0\n",
       "1         2    12   41      5    12     4     1       1       0\n",
       "2         1    10   42      1    10    10     1       1       0\n",
       "3         2     3   41     11     9     9     1       1       0\n",
       "4         2    16   11      1     4     8     1       1       0\n",
       "...     ...   ...  ...    ...   ...   ...   ...     ...     ...\n",
       "567919    1    16   42      1    12     3     3       0       1\n",
       "567920    1     6   11      5    18    18     2       0       1\n",
       "567921    1     4   47     24    17    17     4       0       1\n",
       "567922    2     1   47     11    15    15     3       0       1\n",
       "567923    2     1   47     11    15    15     3       0       1\n",
       "\n",
       "[567924 rows x 9 columns]"
      ]
     },
     "metadata": {},
     "execution_count": 19
    }
   ],
   "metadata": {}
  },
  {
   "cell_type": "code",
   "execution_count": 20,
   "source": [
    "df_train1_dummy"
   ],
   "outputs": [
    {
     "output_type": "execute_result",
     "data": {
      "text/html": [
       "<div>\n",
       "<style scoped>\n",
       "    .dataframe tbody tr th:only-of-type {\n",
       "        vertical-align: middle;\n",
       "    }\n",
       "\n",
       "    .dataframe tbody tr th {\n",
       "        vertical-align: top;\n",
       "    }\n",
       "\n",
       "    .dataframe thead th {\n",
       "        text-align: right;\n",
       "    }\n",
       "</style>\n",
       "<table border=\"1\" class=\"dataframe\">\n",
       "  <thead>\n",
       "    <tr style=\"text-align: right;\">\n",
       "      <th></th>\n",
       "      <th>성별코드</th>\n",
       "      <th>연령대코드</th>\n",
       "      <th>시도코드</th>\n",
       "      <th>진료과목코드</th>\n",
       "      <th>주상병코드</th>\n",
       "      <th>부상병코드</th>\n",
       "      <th>심결가산율</th>\n",
       "      <th>서식코드_0</th>\n",
       "      <th>서식코드_1</th>\n",
       "    </tr>\n",
       "  </thead>\n",
       "  <tbody>\n",
       "    <tr>\n",
       "      <th>0</th>\n",
       "      <td>2</td>\n",
       "      <td>16</td>\n",
       "      <td>11</td>\n",
       "      <td>5</td>\n",
       "      <td>12</td>\n",
       "      <td>12</td>\n",
       "      <td>1</td>\n",
       "      <td>1</td>\n",
       "      <td>0</td>\n",
       "    </tr>\n",
       "    <tr>\n",
       "      <th>1</th>\n",
       "      <td>2</td>\n",
       "      <td>12</td>\n",
       "      <td>41</td>\n",
       "      <td>5</td>\n",
       "      <td>12</td>\n",
       "      <td>4</td>\n",
       "      <td>1</td>\n",
       "      <td>1</td>\n",
       "      <td>0</td>\n",
       "    </tr>\n",
       "    <tr>\n",
       "      <th>2</th>\n",
       "      <td>1</td>\n",
       "      <td>10</td>\n",
       "      <td>42</td>\n",
       "      <td>1</td>\n",
       "      <td>10</td>\n",
       "      <td>10</td>\n",
       "      <td>1</td>\n",
       "      <td>1</td>\n",
       "      <td>0</td>\n",
       "    </tr>\n",
       "    <tr>\n",
       "      <th>3</th>\n",
       "      <td>2</td>\n",
       "      <td>3</td>\n",
       "      <td>41</td>\n",
       "      <td>11</td>\n",
       "      <td>9</td>\n",
       "      <td>9</td>\n",
       "      <td>1</td>\n",
       "      <td>1</td>\n",
       "      <td>0</td>\n",
       "    </tr>\n",
       "    <tr>\n",
       "      <th>4</th>\n",
       "      <td>2</td>\n",
       "      <td>16</td>\n",
       "      <td>11</td>\n",
       "      <td>1</td>\n",
       "      <td>4</td>\n",
       "      <td>8</td>\n",
       "      <td>1</td>\n",
       "      <td>1</td>\n",
       "      <td>0</td>\n",
       "    </tr>\n",
       "    <tr>\n",
       "      <th>...</th>\n",
       "      <td>...</td>\n",
       "      <td>...</td>\n",
       "      <td>...</td>\n",
       "      <td>...</td>\n",
       "      <td>...</td>\n",
       "      <td>...</td>\n",
       "      <td>...</td>\n",
       "      <td>...</td>\n",
       "      <td>...</td>\n",
       "    </tr>\n",
       "    <tr>\n",
       "      <th>567919</th>\n",
       "      <td>1</td>\n",
       "      <td>16</td>\n",
       "      <td>42</td>\n",
       "      <td>1</td>\n",
       "      <td>12</td>\n",
       "      <td>3</td>\n",
       "      <td>3</td>\n",
       "      <td>0</td>\n",
       "      <td>1</td>\n",
       "    </tr>\n",
       "    <tr>\n",
       "      <th>567920</th>\n",
       "      <td>1</td>\n",
       "      <td>6</td>\n",
       "      <td>11</td>\n",
       "      <td>5</td>\n",
       "      <td>18</td>\n",
       "      <td>18</td>\n",
       "      <td>2</td>\n",
       "      <td>0</td>\n",
       "      <td>1</td>\n",
       "    </tr>\n",
       "    <tr>\n",
       "      <th>567921</th>\n",
       "      <td>1</td>\n",
       "      <td>4</td>\n",
       "      <td>47</td>\n",
       "      <td>24</td>\n",
       "      <td>17</td>\n",
       "      <td>17</td>\n",
       "      <td>4</td>\n",
       "      <td>0</td>\n",
       "      <td>1</td>\n",
       "    </tr>\n",
       "    <tr>\n",
       "      <th>567922</th>\n",
       "      <td>2</td>\n",
       "      <td>1</td>\n",
       "      <td>47</td>\n",
       "      <td>11</td>\n",
       "      <td>15</td>\n",
       "      <td>15</td>\n",
       "      <td>3</td>\n",
       "      <td>0</td>\n",
       "      <td>1</td>\n",
       "    </tr>\n",
       "    <tr>\n",
       "      <th>567923</th>\n",
       "      <td>2</td>\n",
       "      <td>1</td>\n",
       "      <td>47</td>\n",
       "      <td>11</td>\n",
       "      <td>15</td>\n",
       "      <td>15</td>\n",
       "      <td>3</td>\n",
       "      <td>0</td>\n",
       "      <td>1</td>\n",
       "    </tr>\n",
       "  </tbody>\n",
       "</table>\n",
       "<p>567924 rows × 9 columns</p>\n",
       "</div>"
      ],
      "text/plain": [
       "       성별코드 연령대코드 시도코드 진료과목코드 주상병코드 부상병코드 심결가산율  서식코드_0  서식코드_1\n",
       "0         2    16   11      5    12    12     1       1       0\n",
       "1         2    12   41      5    12     4     1       1       0\n",
       "2         1    10   42      1    10    10     1       1       0\n",
       "3         2     3   41     11     9     9     1       1       0\n",
       "4         2    16   11      1     4     8     1       1       0\n",
       "...     ...   ...  ...    ...   ...   ...   ...     ...     ...\n",
       "567919    1    16   42      1    12     3     3       0       1\n",
       "567920    1     6   11      5    18    18     2       0       1\n",
       "567921    1     4   47     24    17    17     4       0       1\n",
       "567922    2     1   47     11    15    15     3       0       1\n",
       "567923    2     1   47     11    15    15     3       0       1\n",
       "\n",
       "[567924 rows x 9 columns]"
      ]
     },
     "metadata": {},
     "execution_count": 20
    }
   ],
   "metadata": {}
  },
  {
   "cell_type": "code",
   "execution_count": 21,
   "source": [
    "# KNN모델 테스트\r\n",
    "from sklearn.neighbors import KNeighborsClassifier\r\n",
    "from sklearn.model_selection import train_test_split\r\n",
    "from sklearn.metrics import classification_report, confusion_matrix"
   ],
   "outputs": [],
   "metadata": {}
  },
  {
   "cell_type": "code",
   "execution_count": 22,
   "source": [
    "X = df_train1_dummy.iloc[:, :-2]\r\n",
    "y = df_train1_dummy.iloc[:, 7:]\r\n",
    "\r\n",
    "X_train, X_test, y_train, y_test = train_test_split(X, y, test_size = 0.2, stratify = y, random_state = 7)"
   ],
   "outputs": [],
   "metadata": {}
  },
  {
   "cell_type": "code",
   "execution_count": 25,
   "source": [
    "from sklearn.metrics import accuracy_score\r\n",
    "n = 7\r\n",
    "neigh_n = KNeighborsClassifier(n_neighbors = n, weights = 'distance')\r\n",
    "neigh_n.fit(X_train, y_train)\r\n",
    "y_pred = neigh_n.predict(X_test)\r\n",
    "accuracy = accuracy_score(y_test, y_pred)\r\n",
    "print(classification_report(y_test, y_pred))\r\n",
    "print(f'Accuracy : {accuracy*100}')"
   ],
   "outputs": [
    {
     "output_type": "stream",
     "name": "stdout",
     "text": [
      "              precision    recall  f1-score   support\n",
      "\n",
      "           0       0.87      0.82      0.84     56793\n",
      "           1       0.83      0.85      0.84     56792\n",
      "\n",
      "   micro avg       0.85      0.84      0.84    113585\n",
      "   macro avg       0.85      0.84      0.84    113585\n",
      "weighted avg       0.85      0.84      0.84    113585\n",
      " samples avg       0.84      0.84      0.84    113585\n",
      "\n",
      "Accuracy : 83.61403354316151\n"
     ]
    },
    {
     "output_type": "stream",
     "name": "stderr",
     "text": [
      "C:\\Users\\Bestc\\anaconda3\\lib\\site-packages\\sklearn\\metrics\\_classification.py:1248: UndefinedMetricWarning: Precision and F-score are ill-defined and being set to 0.0 in samples with no predicted labels. Use `zero_division` parameter to control this behavior.\n",
      "  _warn_prf(average, modifier, msg_start, len(result))\n"
     ]
    }
   ],
   "metadata": {}
  },
  {
   "cell_type": "code",
   "execution_count": null,
   "source": [
    "# from sklearn.metrics import confusion_matrix\r\n",
    "\r\n",
    "# y_pred = neigh_n.predict(X_test)\r\n",
    "# cf = confusion_matrix(y_test, y_pred)\r\n",
    "# plt.figure(figsize = (7, 5))\r\n",
    "# sns.heatmap(cf, annot = True)\r\n",
    "# plt.xlabel('Prediction')\r\n",
    "# plt.ylabel('Target')\r\n",
    "# plt.title('Confusion Matrix')"
   ],
   "outputs": [],
   "metadata": {}
  },
  {
   "cell_type": "code",
   "execution_count": 27,
   "source": [
    "import joblib\r\n",
    "joblib.dump(neigh_n, 'C:\\\\Workspace\\\\python\\\\빅데이터 지능형서비스 개발 팀프로젝트(21.9.27~10.6)\\\\Project-1\\\\조정범\\\\Data\\\\머신러닝모델\\\\KNN모델.pkl')"
   ],
   "outputs": [
    {
     "output_type": "execute_result",
     "data": {
      "text/plain": [
       "['C:\\\\Workspace\\\\python\\\\빅데이터 지능형서비스 개발 팀프로젝트(21.9.27~10.6)\\\\Project-1\\\\조정범\\\\Data\\\\머신러닝모델\\\\KNN모델.pkl']"
      ]
     },
     "metadata": {},
     "execution_count": 27
    }
   ],
   "metadata": {}
  },
  {
   "cell_type": "code",
   "execution_count": 26,
   "source": [
    "import matplotlib.pyplot as plt\r\n",
    "k_list = range(1,25)\r\n",
    "accuracies = []\r\n",
    "for k in k_list:\r\n",
    "  classifier = KNeighborsClassifier(n_neighbors = k, weights = 'distance')\r\n",
    "  classifier.fit(X_train, y_train)\r\n",
    "  accuracies.append(classifier.score(X_test, y_test))\r\n",
    "plt.plot(k_list, accuracies)\r\n",
    "plt.xlabel(\"k\")\r\n",
    "plt.ylabel(\"Test Accuracy\")\r\n",
    "plt.title(\"Classifier Accuracy\")\r\n",
    "plt.show()"
   ],
   "outputs": [
    {
     "output_type": "display_data",
     "data": {
      "image/png": "[encoded data removed]",
      "text/plain": [
       "<Figure size 432x288 with 1 Axes>"
      ]
     },
     "metadata": {
      "needs_background": "light"
     }
    }
   ],
   "metadata": {}
  }
 ],
 "metadata": {
  "orig_nbformat": 4,
  "language_info": {
   "name": "python",
   "version": "3.8.10",
   "mimetype": "text/x-python",
   "codemirror_mode": {
    "name": "ipython",
    "version": 3
   },
   "pygments_lexer": "ipython3",
   "nbconvert_exporter": "python",
   "file_extension": ".py"
  },
  "kernelspec": {
   "name": "python3",
   "display_name": "Python 3.8.10 64-bit ('base': conda)"
  },
  "interpreter": {
   "hash": "fe3bab233825460445dbfeea6dcd52ef5815a3fa13c858fea07ac830aa383284"
  }
 },
 "nbformat": 4,
 "nbformat_minor": 2
}