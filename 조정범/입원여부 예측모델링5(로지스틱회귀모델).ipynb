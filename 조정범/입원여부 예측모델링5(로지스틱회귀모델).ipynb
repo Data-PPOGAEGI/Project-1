{
 "cells": [
  {
   "cell_type": "code",
   "execution_count": 1,
   "source": [
    "# 필요 패키지 로드\r\n",
    "import numpy as np\r\n",
    "import matplotlib as mpl\r\n",
    "import matplotlib.pyplot as plt\r\n",
    "import matplotlib.font_manager as fonm\r\n",
    "from matplotlib import font_manager, rc\r\n",
    "mpl.rcParams['axes.unicode_minus'] = False\r\n",
    "font_path = 'C:/Windows/Fonts/정직_1.ttf'\r\n",
    "font = fonm.FontProperties(fname=font_path).get_name()\r\n",
    "rc('font', family=font)\r\n",
    "import pandas as pd\r\n",
    "import seaborn as sns"
   ],
   "outputs": [],
   "metadata": {}
  },
  {
   "cell_type": "code",
   "execution_count": 7,
   "source": [
    "# 로지스틱 모델 로드 및 테스트\r\n",
    "from sklearn.linear_model import LogisticRegression\r\n",
    "from sklearn.model_selection import train_test_split\r\n",
    "from sklearn.metrics import classification_report, confusion_matrix\r\n",
    "import joblib\r\n",
    "lr = LogisticRegression()"
   ],
   "outputs": [],
   "metadata": {}
  },
  {
   "cell_type": "code",
   "execution_count": 15,
   "source": [
    "# 기존에 처리한 데이터 전처리 코드 로드\r\n",
    "df = pd.read_csv('C:\\\\Workspace\\\\python\\\\빅데이터 지능형서비스 개발 팀프로젝트(21.9.27~10.6)\\\\Project-1\\\\조정범\\\\Data\\\\모델제작용데이터셋(헬스케어).csv')\r\n",
    "for i in df.columns:\r\n",
    "    df[i] = df[i].astype('category')\r\n",
    "\r\n",
    "print(f\"전체환자 데이터 수 : {len(df)} / 입원환자 데이터 수 : {len(df[df['서식코드'] == 1])} / 비입원환자 데이터 수 : {len(df[df['서식코드'] == 0])}\")\r\n",
    "\r\n",
    "# 출처 : https://g0n1.tistory.com/34\r\n",
    "# 클래스 불균형 처리를 해주는 imbalanced-learn를 호출\r\n",
    "from imblearn.over_sampling import RandomOverSampler\r\n",
    "from imblearn.under_sampling import RandomUnderSampler\r\n",
    "\r\n",
    "# ros, rus 객체\r\n",
    "ros = RandomOverSampler()\r\n",
    "rus = RandomUnderSampler()\r\n",
    "\r\n",
    "# Under 샘플링\r\n",
    "# Under 샘플링\r\n",
    "undersampled_data, undersampled_label = rus.fit_resample(df[['성별코드', '연령대코드', '시도코드', '진료과목코드', '주상병코드', '부상병코드','심결가산율']].copy(), df[['서식코드']].copy())\r\n",
    "undersampled_data = pd.DataFrame(undersampled_data, columns =['성별코드', '연령대코드', '시도코드', '진료과목코드', '주상병코드', '부상병코드','심결가산율'])\r\n",
    "undersampled_data['서식코드'] = undersampled_label\r\n",
    "\r\n",
    "df_train1 = undersampled_data[['서식코드']].copy() # 테스트로 사용할 컬럼들\r\n",
    "def dummy_data(data, columns):\r\n",
    "    for column in columns:\r\n",
    "        data = pd.concat([data, pd.get_dummies(data[column], prefix = column)], axis=1)\r\n",
    "        data = data.drop(column, axis=1)\r\n",
    "    return data\r\n",
    "dummy_columns = ['서식코드']\r\n",
    "df_train1_dummy = dummy_data(undersampled_data, dummy_columns)\r\n",
    "print(f\"전체환자 데이터 수 : {len(undersampled_data)} / 입원환자 데이터 수 : {len(undersampled_data[undersampled_data['서식코드'] == 1])} / 비입원환자 데이터 수 : {len(undersampled_data[undersampled_data['서식코드'] == 0])}\")\r\n",
    "\r\n",
    "# y값 원-핫 인코딩\r\n",
    "# 적용\r\n",
    "# X = df_train1_dummy.iloc[:, :-2]\r\n",
    "# y = df_train1_dummy.iloc[:, 7:]\r\n",
    "# 미적용\r\n",
    "X = undersampled_data.iloc[:, :-1]\r\n",
    "y = undersampled_data.iloc[:, -1:]\r\n",
    "\r\n",
    "# # Over 샘플링\r\n",
    "# oversampled_data, oversampled_label = ros.fit_resample(df[['성별코드', '연령대코드', '시도코드', '진료과목코드', '주상병코드', '부상병코드','심결가산율']].copy(), df[['서식코드']].copy())\r\n",
    "# oversampled_data = pd.DataFrame(oversampled_data, columns = ['성별코드', '연령대코드', '시도코드', '진료과목코드', '주상병코드', '부상병코드','심결가산율'])\r\n",
    "# oversampled_data['서식코드'] = oversampled_label\r\n",
    "\r\n",
    "# df_train1 = oversampled_data[['서식코드']].copy() # 테스트로 사용할 컬럼들\r\n",
    "# def dummy_data(data, columns):\r\n",
    "#     for column in columns:\r\n",
    "#         data = pd.concat([data, pd.get_dummies(data[column], prefix = column)], axis=1)\r\n",
    "#         data = data.drop(column, axis=1)\r\n",
    "#     return data\r\n",
    "# dummy_columns = ['서식코드']\r\n",
    "# df_train1_dummy = dummy_data(oversampled_data, dummy_columns)\r\n",
    "# print(f\"전체환자 데이터 수 : {len(oversampled_data)} / 입원환자 데이터 수 : {len(oversampled_data[oversampled_data['서식코드'] == 1])} / 비입원환자 데이터 수 : {len(oversampled_data[oversampled_data['서식코드'] == 0])}\")\r\n",
    "\r\n",
    "\r\n",
    "# y값 원-핫 인코딩\r\n",
    "# 적용\r\n",
    "# X = df_train1_dummy.iloc[:, :-2]\r\n",
    "# y = df_train1_dummy.iloc[:, 7:]\r\n",
    "# # 미적용\r\n",
    "# X = oversampled_data.iloc[:, :-1]\r\n",
    "# y = oversampled_data.iloc[:, -1:]\r\n"
   ],
   "outputs": [
    {
     "output_type": "stream",
     "name": "stdout",
     "text": [
      "전체환자 데이터 수 : 13178345 / 입원환자 데이터 수 : 283962 / 비입원환자 데이터 수 : 12894383\n",
      "전체환자 데이터 수 : 567924 / 입원환자 데이터 수 : 283962 / 비입원환자 데이터 수 : 283962\n"
     ]
    }
   ],
   "metadata": {}
  },
  {
   "cell_type": "code",
   "execution_count": 16,
   "source": [
    "X_train, X_test, y_train, y_test = train_test_split(X, y, test_size = 0.2, stratify = y, random_state = 7)"
   ],
   "outputs": [],
   "metadata": {}
  },
  {
   "cell_type": "code",
   "execution_count": 17,
   "source": [
    "# X_train\r\n",
    "y_train"
   ],
   "outputs": [
    {
     "output_type": "execute_result",
     "data": {
      "text/html": [
       "<div>\n",
       "<style scoped>\n",
       "    .dataframe tbody tr th:only-of-type {\n",
       "        vertical-align: middle;\n",
       "    }\n",
       "\n",
       "    .dataframe tbody tr th {\n",
       "        vertical-align: top;\n",
       "    }\n",
       "\n",
       "    .dataframe thead th {\n",
       "        text-align: right;\n",
       "    }\n",
       "</style>\n",
       "<table border=\"1\" class=\"dataframe\">\n",
       "  <thead>\n",
       "    <tr style=\"text-align: right;\">\n",
       "      <th></th>\n",
       "      <th>서식코드</th>\n",
       "    </tr>\n",
       "  </thead>\n",
       "  <tbody>\n",
       "    <tr>\n",
       "      <th>7891</th>\n",
       "      <td>0</td>\n",
       "    </tr>\n",
       "    <tr>\n",
       "      <th>398837</th>\n",
       "      <td>1</td>\n",
       "    </tr>\n",
       "    <tr>\n",
       "      <th>461871</th>\n",
       "      <td>1</td>\n",
       "    </tr>\n",
       "    <tr>\n",
       "      <th>506387</th>\n",
       "      <td>1</td>\n",
       "    </tr>\n",
       "    <tr>\n",
       "      <th>109346</th>\n",
       "      <td>0</td>\n",
       "    </tr>\n",
       "    <tr>\n",
       "      <th>...</th>\n",
       "      <td>...</td>\n",
       "    </tr>\n",
       "    <tr>\n",
       "      <th>522482</th>\n",
       "      <td>1</td>\n",
       "    </tr>\n",
       "    <tr>\n",
       "      <th>275384</th>\n",
       "      <td>0</td>\n",
       "    </tr>\n",
       "    <tr>\n",
       "      <th>293919</th>\n",
       "      <td>1</td>\n",
       "    </tr>\n",
       "    <tr>\n",
       "      <th>496550</th>\n",
       "      <td>1</td>\n",
       "    </tr>\n",
       "    <tr>\n",
       "      <th>468704</th>\n",
       "      <td>1</td>\n",
       "    </tr>\n",
       "  </tbody>\n",
       "</table>\n",
       "<p>454339 rows × 1 columns</p>\n",
       "</div>"
      ],
      "text/plain": [
       "        서식코드\n",
       "7891       0\n",
       "398837     1\n",
       "461871     1\n",
       "506387     1\n",
       "109346     0\n",
       "...      ...\n",
       "522482     1\n",
       "275384     0\n",
       "293919     1\n",
       "496550     1\n",
       "468704     1\n",
       "\n",
       "[454339 rows x 1 columns]"
      ]
     },
     "metadata": {},
     "execution_count": 17
    }
   ],
   "metadata": {}
  },
  {
   "cell_type": "code",
   "execution_count": 18,
   "source": [
    "lr.fit(X_train, y_train)"
   ],
   "outputs": [
    {
     "output_type": "stream",
     "name": "stderr",
     "text": [
      "C:\\Users\\Bestc\\anaconda3\\lib\\site-packages\\sklearn\\utils\\validation.py:63: DataConversionWarning: A column-vector y was passed when a 1d array was expected. Please change the shape of y to (n_samples, ), for example using ravel().\n",
      "  return f(*args, **kwargs)\n"
     ]
    },
    {
     "output_type": "execute_result",
     "data": {
      "text/plain": [
       "LogisticRegression()"
      ]
     },
     "metadata": {},
     "execution_count": 18
    }
   ],
   "metadata": {}
  },
  {
   "cell_type": "code",
   "execution_count": 23,
   "source": [
    "# 학습데이터에 대한 성능평가\r\n",
    "print(confusion_matrix(y_train, lr.predict(X_train)))\r\n",
    "print(classification_report(y_train, lr.predict(X_train)))"
   ],
   "outputs": [
    {
     "output_type": "stream",
     "name": "stdout",
     "text": [
      "[[185272  41898]\n",
      " [ 49912 177257]]\n",
      "              precision    recall  f1-score   support\n",
      "\n",
      "           0       0.79      0.82      0.80    227170\n",
      "           1       0.81      0.78      0.79    227169\n",
      "\n",
      "    accuracy                           0.80    454339\n",
      "   macro avg       0.80      0.80      0.80    454339\n",
      "weighted avg       0.80      0.80      0.80    454339\n",
      "\n"
     ]
    }
   ],
   "metadata": {}
  },
  {
   "cell_type": "code",
   "execution_count": 24,
   "source": [
    "# 테스트 데이터에 대한 성능평가\r\n",
    "print(confusion_matrix(y_test, lr.predict(X_test)))\r\n",
    "print(classification_report(y_test, lr.predict(X_test)))"
   ],
   "outputs": [
    {
     "output_type": "stream",
     "name": "stdout",
     "text": [
      "[[46470 10322]\n",
      " [12166 44627]]\n",
      "              precision    recall  f1-score   support\n",
      "\n",
      "           0       0.79      0.82      0.81     56792\n",
      "           1       0.81      0.79      0.80     56793\n",
      "\n",
      "    accuracy                           0.80    113585\n",
      "   macro avg       0.80      0.80      0.80    113585\n",
      "weighted avg       0.80      0.80      0.80    113585\n",
      "\n"
     ]
    }
   ],
   "metadata": {}
  },
  {
   "cell_type": "code",
   "execution_count": 26,
   "source": [
    "from sklearn.metrics import accuracy_score\r\n",
    "y_pred = lr.predict(X_test)\r\n",
    "accuracy = accuracy_score(y_test, y_pred)\r\n",
    "print(classification_report(y_test, y_pred))\r\n",
    "print(f'Accuracy : {accuracy*100}')"
   ],
   "outputs": [
    {
     "output_type": "stream",
     "name": "stdout",
     "text": [
      "              precision    recall  f1-score   support\n",
      "\n",
      "           0       0.79      0.82      0.81     56792\n",
      "           1       0.81      0.79      0.80     56793\n",
      "\n",
      "    accuracy                           0.80    113585\n",
      "   macro avg       0.80      0.80      0.80    113585\n",
      "weighted avg       0.80      0.80      0.80    113585\n",
      "\n",
      "Accuracy : 80.20161112822996\n"
     ]
    }
   ],
   "metadata": {}
  }
 ],
 "metadata": {
  "orig_nbformat": 4,
  "language_info": {
   "name": "python",
   "version": "3.8.10",
   "mimetype": "text/x-python",
   "codemirror_mode": {
    "name": "ipython",
    "version": 3
   },
   "pygments_lexer": "ipython3",
   "nbconvert_exporter": "python",
   "file_extension": ".py"
  },
  "kernelspec": {
   "name": "python3",
   "display_name": "Python 3.8.10 64-bit ('base': conda)"
  },
  "interpreter": {
   "hash": "fe3bab233825460445dbfeea6dcd52ef5815a3fa13c858fea07ac830aa383284"
  }
 },
 "nbformat": 4,
 "nbformat_minor": 2
}