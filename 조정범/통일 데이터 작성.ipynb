{
 "cells": [
  {
   "cell_type": "code",
   "execution_count": 1,
   "source": [
    "import numpy as np\r\n",
    "import pandas as pd\r\n",
    "\r\n",
    "df = pd.read_csv('C:\\\\Workspace\\\\python\\\\빅데이터 지능형서비스 개발 팀프로젝트(21.9.27~10.6)\\\\Project-1\\\\조정범\\\\Data\\\\헬스케어데이터.csv')"
   ],
   "outputs": [],
   "metadata": {}
  },
  {
   "cell_type": "code",
   "execution_count": 3,
   "source": [
    "df.head()"
   ],
   "outputs": [
    {
     "output_type": "execute_result",
     "data": {
      "text/html": [
       "<div>\n",
       "<style scoped>\n",
       "    .dataframe tbody tr th:only-of-type {\n",
       "        vertical-align: middle;\n",
       "    }\n",
       "\n",
       "    .dataframe tbody tr th {\n",
       "        vertical-align: top;\n",
       "    }\n",
       "\n",
       "    .dataframe thead th {\n",
       "        text-align: right;\n",
       "    }\n",
       "</style>\n",
       "<table border=\"1\" class=\"dataframe\">\n",
       "  <thead>\n",
       "    <tr style=\"text-align: right;\">\n",
       "      <th></th>\n",
       "      <th>기준년도</th>\n",
       "      <th>가입자 일련번호</th>\n",
       "      <th>진료내역일련번호</th>\n",
       "      <th>성별코드</th>\n",
       "      <th>연령대코드</th>\n",
       "      <th>시도코드</th>\n",
       "      <th>요양개시일자</th>\n",
       "      <th>서식코드</th>\n",
       "      <th>진료과목코드</th>\n",
       "      <th>주상병코드</th>\n",
       "      <th>부상병코드</th>\n",
       "      <th>요양일수</th>\n",
       "      <th>입내원일수</th>\n",
       "      <th>심결가산율</th>\n",
       "      <th>심결요양급여비용총액</th>\n",
       "      <th>심결본인부담금</th>\n",
       "      <th>심결보험자부담금</th>\n",
       "      <th>총처방일수</th>\n",
       "      <th>데이터 기준일자</th>\n",
       "    </tr>\n",
       "  </thead>\n",
       "  <tbody>\n",
       "    <tr>\n",
       "      <th>0</th>\n",
       "      <td>2019</td>\n",
       "      <td>1</td>\n",
       "      <td>104243474</td>\n",
       "      <td>2</td>\n",
       "      <td>12</td>\n",
       "      <td>46</td>\n",
       "      <td>20191104</td>\n",
       "      <td>3</td>\n",
       "      <td>5</td>\n",
       "      <td>M751</td>\n",
       "      <td>M750</td>\n",
       "      <td>1</td>\n",
       "      <td>1</td>\n",
       "      <td>0.25</td>\n",
       "      <td>19240</td>\n",
       "      <td>9600</td>\n",
       "      <td>9640</td>\n",
       "      <td>0</td>\n",
       "      <td>20201222</td>\n",
       "    </tr>\n",
       "    <tr>\n",
       "      <th>1</th>\n",
       "      <td>2019</td>\n",
       "      <td>1</td>\n",
       "      <td>107479370</td>\n",
       "      <td>2</td>\n",
       "      <td>12</td>\n",
       "      <td>46</td>\n",
       "      <td>20190806</td>\n",
       "      <td>3</td>\n",
       "      <td>1</td>\n",
       "      <td>E1164</td>\n",
       "      <td>N308</td>\n",
       "      <td>1</td>\n",
       "      <td>1</td>\n",
       "      <td>0.25</td>\n",
       "      <td>145680</td>\n",
       "      <td>72800</td>\n",
       "      <td>72880</td>\n",
       "      <td>0</td>\n",
       "      <td>20201222</td>\n",
       "    </tr>\n",
       "    <tr>\n",
       "      <th>2</th>\n",
       "      <td>2019</td>\n",
       "      <td>1</td>\n",
       "      <td>106881883</td>\n",
       "      <td>2</td>\n",
       "      <td>12</td>\n",
       "      <td>46</td>\n",
       "      <td>20190920</td>\n",
       "      <td>3</td>\n",
       "      <td>1</td>\n",
       "      <td>N308</td>\n",
       "      <td>E1164</td>\n",
       "      <td>1</td>\n",
       "      <td>1</td>\n",
       "      <td>0.25</td>\n",
       "      <td>13240</td>\n",
       "      <td>6600</td>\n",
       "      <td>6640</td>\n",
       "      <td>3</td>\n",
       "      <td>20201222</td>\n",
       "    </tr>\n",
       "    <tr>\n",
       "      <th>3</th>\n",
       "      <td>2019</td>\n",
       "      <td>1</td>\n",
       "      <td>109043837</td>\n",
       "      <td>2</td>\n",
       "      <td>12</td>\n",
       "      <td>46</td>\n",
       "      <td>20190807</td>\n",
       "      <td>2</td>\n",
       "      <td>1</td>\n",
       "      <td>E1164</td>\n",
       "      <td>N308</td>\n",
       "      <td>7</td>\n",
       "      <td>21</td>\n",
       "      <td>0.25</td>\n",
       "      <td>861590</td>\n",
       "      <td>205810</td>\n",
       "      <td>655780</td>\n",
       "      <td>0</td>\n",
       "      <td>20201222</td>\n",
       "    </tr>\n",
       "    <tr>\n",
       "      <th>4</th>\n",
       "      <td>2019</td>\n",
       "      <td>1</td>\n",
       "      <td>103174392</td>\n",
       "      <td>2</td>\n",
       "      <td>12</td>\n",
       "      <td>46</td>\n",
       "      <td>20190318</td>\n",
       "      <td>3</td>\n",
       "      <td>13</td>\n",
       "      <td>H6531</td>\n",
       "      <td>J303</td>\n",
       "      <td>1</td>\n",
       "      <td>1</td>\n",
       "      <td>0.15</td>\n",
       "      <td>48440</td>\n",
       "      <td>14500</td>\n",
       "      <td>33940</td>\n",
       "      <td>3</td>\n",
       "      <td>20201222</td>\n",
       "    </tr>\n",
       "  </tbody>\n",
       "</table>\n",
       "</div>"
      ],
      "text/plain": [
       "   기준년도  가입자 일련번호   진료내역일련번호  성별코드  연령대코드  시도코드    요양개시일자  서식코드  진료과목코드  \\\n",
       "0  2019         1  104243474     2     12    46  20191104     3       5   \n",
       "1  2019         1  107479370     2     12    46  20190806     3       1   \n",
       "2  2019         1  106881883     2     12    46  20190920     3       1   \n",
       "3  2019         1  109043837     2     12    46  20190807     2       1   \n",
       "4  2019         1  103174392     2     12    46  20190318     3      13   \n",
       "\n",
       "   주상병코드  부상병코드  요양일수  입내원일수  심결가산율  심결요양급여비용총액  심결본인부담금  심결보험자부담금  총처방일수  \\\n",
       "0   M751   M750     1      1   0.25       19240     9600      9640      0   \n",
       "1  E1164   N308     1      1   0.25      145680    72800     72880      0   \n",
       "2   N308  E1164     1      1   0.25       13240     6600      6640      3   \n",
       "3  E1164   N308     7     21   0.25      861590   205810    655780      0   \n",
       "4  H6531   J303     1      1   0.15       48440    14500     33940      3   \n",
       "\n",
       "   데이터 기준일자  \n",
       "0  20201222  \n",
       "1  20201222  \n",
       "2  20201222  \n",
       "3  20201222  \n",
       "4  20201222  "
      ]
     },
     "metadata": {},
     "execution_count": 3
    }
   ],
   "metadata": {}
  },
  {
   "cell_type": "code",
   "execution_count": 25,
   "source": [
    "\r\n"
   ],
   "outputs": [
    {
     "output_type": "execute_result",
     "data": {
      "text/plain": [
       "{0.0: 0, 0.15: 1, 0.2: 2, 0.25: 3, 0.3: 4}"
      ]
     },
     "metadata": {},
     "execution_count": 25
    }
   ],
   "metadata": {}
  },
  {
   "cell_type": "code",
   "execution_count": 26,
   "source": [
    "# 필요 데이터만 추출\r\n",
    "df_train = df[['성별코드', '연령대코드', '시도코드', '서식코드', '진료과목코드', '주상병코드', '부상병코드', '심결가산율']].copy()\r\n",
    "# 서식코드 0(미입원) , 1(입원) 주,부상병코드 맨 앞자리 알파벳만 추출\r\n",
    "df_train['서식코드'] = df_train['서식코드'].apply(lambda x: 1 if x == 2 else 0) \r\n",
    "df_train['주상병코드'] = df_train['주상병코드'].apply(lambda x: x[:1])\r\n",
    "df_train['부상병코드'] = df_train['부상병코드'].apply(lambda x: x[:1])\r\n",
    "\r\n",
    "# 주, 부상병코드 알파벳 인덱싱 \r\n",
    "eng_list = ['A','B','C', 'D', 'E', 'F', 'G', 'H', 'I', 'J', 'K', 'L', 'M', 'N', 'O', 'P', 'Q', 'R', 'S', 'T', 'U', 'V', 'W', 'X', 'Y', 'Z']\r\n",
    "code_dict = dict(zip(eng_list, [i for i in range(len(eng_list))]))\r\n",
    "df_train['주상병코드'] = df_train['주상병코드'].apply(lambda x: code_dict[x])\r\n",
    "df_train['부상병코드'] = df_train['부상병코드'].apply(lambda x: code_dict[x])\r\n",
    "\r\n",
    "# 심결가산율 카테고리화 및 인덱싱\r\n",
    "rate_list = pd.DataFrame(df['심결가산율'].value_counts()).index\r\n",
    "rate_list = sorted(rate_list)\r\n",
    "rate_dict = dict(zip(rate_list, [i for i in range(len(rate_list))]))\r\n",
    "df_train['심결가산율'] = df_train['심결가산율'].apply(lambda x: rate_dict[x])"
   ],
   "outputs": [],
   "metadata": {}
  },
  {
   "cell_type": "code",
   "execution_count": 35,
   "source": [
    "for i in df_train.columns:\r\n",
    "    df_train[i] = df_train[i].astype('category')"
   ],
   "outputs": [],
   "metadata": {}
  },
  {
   "cell_type": "code",
   "execution_count": 46,
   "source": [
    "df_train.dtypes"
   ],
   "outputs": [
    {
     "output_type": "execute_result",
     "data": {
      "text/plain": [
       "성별코드      category\n",
       "연령대코드     category\n",
       "시도코드      category\n",
       "서식코드      category\n",
       "진료과목코드    category\n",
       "주상병코드     category\n",
       "부상병코드     category\n",
       "심결가산율     category\n",
       "dtype: object"
      ]
     },
     "metadata": {},
     "execution_count": 46
    }
   ],
   "metadata": {}
  },
  {
   "cell_type": "code",
   "execution_count": 45,
   "source": [
    "df_train.head()"
   ],
   "outputs": [
    {
     "output_type": "execute_result",
     "data": {
      "text/html": [
       "<div>\n",
       "<style scoped>\n",
       "    .dataframe tbody tr th:only-of-type {\n",
       "        vertical-align: middle;\n",
       "    }\n",
       "\n",
       "    .dataframe tbody tr th {\n",
       "        vertical-align: top;\n",
       "    }\n",
       "\n",
       "    .dataframe thead th {\n",
       "        text-align: right;\n",
       "    }\n",
       "</style>\n",
       "<table border=\"1\" class=\"dataframe\">\n",
       "  <thead>\n",
       "    <tr style=\"text-align: right;\">\n",
       "      <th></th>\n",
       "      <th>성별코드</th>\n",
       "      <th>연령대코드</th>\n",
       "      <th>시도코드</th>\n",
       "      <th>서식코드</th>\n",
       "      <th>진료과목코드</th>\n",
       "      <th>주상병코드</th>\n",
       "      <th>부상병코드</th>\n",
       "      <th>심결가산율</th>\n",
       "    </tr>\n",
       "  </thead>\n",
       "  <tbody>\n",
       "    <tr>\n",
       "      <th>0</th>\n",
       "      <td>2</td>\n",
       "      <td>12</td>\n",
       "      <td>46</td>\n",
       "      <td>0</td>\n",
       "      <td>5</td>\n",
       "      <td>12</td>\n",
       "      <td>12</td>\n",
       "      <td>3</td>\n",
       "    </tr>\n",
       "    <tr>\n",
       "      <th>1</th>\n",
       "      <td>2</td>\n",
       "      <td>12</td>\n",
       "      <td>46</td>\n",
       "      <td>0</td>\n",
       "      <td>1</td>\n",
       "      <td>4</td>\n",
       "      <td>13</td>\n",
       "      <td>3</td>\n",
       "    </tr>\n",
       "    <tr>\n",
       "      <th>2</th>\n",
       "      <td>2</td>\n",
       "      <td>12</td>\n",
       "      <td>46</td>\n",
       "      <td>0</td>\n",
       "      <td>1</td>\n",
       "      <td>13</td>\n",
       "      <td>4</td>\n",
       "      <td>3</td>\n",
       "    </tr>\n",
       "    <tr>\n",
       "      <th>3</th>\n",
       "      <td>2</td>\n",
       "      <td>12</td>\n",
       "      <td>46</td>\n",
       "      <td>1</td>\n",
       "      <td>1</td>\n",
       "      <td>4</td>\n",
       "      <td>13</td>\n",
       "      <td>3</td>\n",
       "    </tr>\n",
       "    <tr>\n",
       "      <th>4</th>\n",
       "      <td>2</td>\n",
       "      <td>12</td>\n",
       "      <td>46</td>\n",
       "      <td>0</td>\n",
       "      <td>13</td>\n",
       "      <td>7</td>\n",
       "      <td>9</td>\n",
       "      <td>1</td>\n",
       "    </tr>\n",
       "  </tbody>\n",
       "</table>\n",
       "</div>"
      ],
      "text/plain": [
       "  성별코드 연령대코드 시도코드 서식코드 진료과목코드 주상병코드 부상병코드 심결가산율\n",
       "0    2    12   46    0      5    12    12     3\n",
       "1    2    12   46    0      1     4    13     3\n",
       "2    2    12   46    0      1    13     4     3\n",
       "3    2    12   46    1      1     4    13     3\n",
       "4    2    12   46    0     13     7     9     1"
      ]
     },
     "metadata": {},
     "execution_count": 45
    }
   ],
   "metadata": {}
  },
  {
   "cell_type": "code",
   "execution_count": 41,
   "source": [
    "df_train.to_csv('C:\\\\Workspace\\\\python\\\\빅데이터 지능형서비스 개발 팀프로젝트(21.9.27~10.6)\\\\Project-1\\\\조정범\\\\Data\\\\모델제작용데이터셋(헬스케어).csv', index = False)"
   ],
   "outputs": [],
   "metadata": {}
  },
  {
   "cell_type": "code",
   "execution_count": 43,
   "source": [
    "test = pd.read_csv('C:\\\\Workspace\\\\python\\\\빅데이터 지능형서비스 개발 팀프로젝트(21.9.27~10.6)\\\\Project-1\\\\조정범\\\\Data\\\\모델제작용데이터셋(헬스케어).csv')"
   ],
   "outputs": [],
   "metadata": {}
  },
  {
   "cell_type": "code",
   "execution_count": 47,
   "source": [
    "test.dtypes"
   ],
   "outputs": [
    {
     "output_type": "execute_result",
     "data": {
      "text/plain": [
       "성별코드      int64\n",
       "연령대코드     int64\n",
       "시도코드      int64\n",
       "서식코드      int64\n",
       "진료과목코드    int64\n",
       "주상병코드     int64\n",
       "부상병코드     int64\n",
       "심결가산율     int64\n",
       "dtype: object"
      ]
     },
     "metadata": {},
     "execution_count": 47
    }
   ],
   "metadata": {}
  }
 ],
 "metadata": {
  "orig_nbformat": 4,
  "language_info": {
   "name": "python",
   "version": "3.8.10",
   "mimetype": "text/x-python",
   "codemirror_mode": {
    "name": "ipython",
    "version": 3
   },
   "pygments_lexer": "ipython3",
   "nbconvert_exporter": "python",
   "file_extension": ".py"
  },
  "kernelspec": {
   "name": "python3",
   "display_name": "Python 3.8.10 64-bit ('base': conda)"
  },
  "interpreter": {
   "hash": "fe3bab233825460445dbfeea6dcd52ef5815a3fa13c858fea07ac830aa383284"
  }
 },
 "nbformat": 4,
 "nbformat_minor": 2
}