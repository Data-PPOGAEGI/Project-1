{
 "cells": [
  {
   "cell_type": "code",
   "execution_count": 2,
   "source": [
    "# 데이터 전처리 및 분석에 필요한 패키지 로드\r\n",
    "import numpy as np\r\n",
    "import matplotlib as mpl\r\n",
    "import matplotlib.pyplot as plt\r\n",
    "import matplotlib.font_manager as fonm\r\n",
    "from matplotlib import font_manager, rc\r\n",
    "mpl.rcParams['axes.unicode_minus'] = False\r\n",
    "font_path = 'C:/Windows/Fonts/정직_1.ttf'\r\n",
    "font = fonm.FontProperties(fname=font_path).get_name()\r\n",
    "rc('font', family=font)\r\n",
    "import pandas as pd\r\n",
    "import seaborn as sns\r\n",
    "\r\n",
    "df_train = pd.read_csv('C:\\\\Workspace\\\\python\\\\빅데이터 지능형서비스 개발 팀프로젝트(21.9.27~10.6)\\\\Project-1\\\\조정범\\\\Data\\\\헬스케어데이터(전처리).csv')\r\n",
    "df_ch = pd.read_csv('C:\\\\Workspace\\\\python\\\\빅데이터 지능형서비스 개발 팀프로젝트(21.9.27~10.6)\\\\Project-1\\\\조정범\\\\Data\\\\헬스케어데이터(입원환자만 중복제거).csv')"
   ],
   "outputs": [],
   "metadata": {}
  },
  {
   "cell_type": "code",
   "execution_count": 6,
   "source": [
    "df_train[df_train['서식코드'] == '의과입원'].shape, df_ch.shape"
   ],
   "outputs": [
    {
     "output_type": "execute_result",
     "data": {
      "text/plain": [
       "((283962, 16), (271096, 16))"
      ]
     },
     "metadata": {},
     "execution_count": 6
    }
   ],
   "metadata": {}
  },
  {
   "cell_type": "code",
   "execution_count": 9,
   "source": [
    "df_ch.head(2)"
   ],
   "outputs": [
    {
     "output_type": "execute_result",
     "data": {
      "text/html": [
       "<div>\n",
       "<style scoped>\n",
       "    .dataframe tbody tr th:only-of-type {\n",
       "        vertical-align: middle;\n",
       "    }\n",
       "\n",
       "    .dataframe tbody tr th {\n",
       "        vertical-align: top;\n",
       "    }\n",
       "\n",
       "    .dataframe thead th {\n",
       "        text-align: right;\n",
       "    }\n",
       "</style>\n",
       "<table border=\"1\" class=\"dataframe\">\n",
       "  <thead>\n",
       "    <tr style=\"text-align: right;\">\n",
       "      <th></th>\n",
       "      <th>가입자 일련번호</th>\n",
       "      <th>성별코드</th>\n",
       "      <th>연령대코드</th>\n",
       "      <th>시도코드</th>\n",
       "      <th>요양개시일자</th>\n",
       "      <th>서식코드</th>\n",
       "      <th>진료과목코드</th>\n",
       "      <th>주상병코드</th>\n",
       "      <th>부상병코드</th>\n",
       "      <th>요양일수</th>\n",
       "      <th>입내원일수</th>\n",
       "      <th>심결가산율</th>\n",
       "      <th>심결요양급여비용총액</th>\n",
       "      <th>심결본인부담금</th>\n",
       "      <th>심결보험자부담금</th>\n",
       "      <th>총처방일수</th>\n",
       "    </tr>\n",
       "  </thead>\n",
       "  <tbody>\n",
       "    <tr>\n",
       "      <th>0</th>\n",
       "      <td>1</td>\n",
       "      <td>여성</td>\n",
       "      <td>55~59</td>\n",
       "      <td>전라남도</td>\n",
       "      <td>20190807</td>\n",
       "      <td>의과입원</td>\n",
       "      <td>내과</td>\n",
       "      <td>내분비, 영양 및 대사질환</td>\n",
       "      <td>비뇨생식계통 질환</td>\n",
       "      <td>7</td>\n",
       "      <td>21</td>\n",
       "      <td>0.25</td>\n",
       "      <td>861590</td>\n",
       "      <td>205810</td>\n",
       "      <td>655780</td>\n",
       "      <td>0</td>\n",
       "    </tr>\n",
       "    <tr>\n",
       "      <th>1</th>\n",
       "      <td>1</td>\n",
       "      <td>여성</td>\n",
       "      <td>55~59</td>\n",
       "      <td>전라남도</td>\n",
       "      <td>20191022</td>\n",
       "      <td>의과입원</td>\n",
       "      <td>정형외과</td>\n",
       "      <td>근골격계통 질환</td>\n",
       "      <td>근골격계통 질환</td>\n",
       "      <td>12</td>\n",
       "      <td>15</td>\n",
       "      <td>0.25</td>\n",
       "      <td>2899570</td>\n",
       "      <td>638600</td>\n",
       "      <td>2260970</td>\n",
       "      <td>0</td>\n",
       "    </tr>\n",
       "  </tbody>\n",
       "</table>\n",
       "</div>"
      ],
      "text/plain": [
       "   가입자 일련번호 성별코드  연령대코드  시도코드    요양개시일자  서식코드 진료과목코드           주상병코드  \\\n",
       "0         1   여성  55~59  전라남도  20190807  의과입원     내과  내분비, 영양 및 대사질환   \n",
       "1         1   여성  55~59  전라남도  20191022  의과입원   정형외과        근골격계통 질환   \n",
       "\n",
       "       부상병코드  요양일수  입내원일수  심결가산율  심결요양급여비용총액  심결본인부담금  심결보험자부담금  총처방일수  \n",
       "0  비뇨생식계통 질환     7     21   0.25      861590   205810    655780      0  \n",
       "1   근골격계통 질환    12     15   0.25     2899570   638600   2260970      0  "
      ]
     },
     "metadata": {},
     "execution_count": 9
    }
   ],
   "metadata": {}
  },
  {
   "cell_type": "code",
   "execution_count": 10,
   "source": [
    "df_ch['주상병코드'].value_counts()"
   ],
   "outputs": [
    {
     "output_type": "execute_result",
     "data": {
      "text/plain": [
       "근골격계통 질환                      31459\n",
       "손상, 중독 및 외인에 의한 질환            29542\n",
       "호흡계통의 질환                      27130\n",
       "정신 및 행동장애                     27130\n",
       "신생물                           25077\n",
       "순환계통의 질환                      23408\n",
       "신경계통의 질환                      18271\n",
       "소화계통의 질환                      13767\n",
       "특정 감염성 및 기생충성 질환              13197\n",
       "미분류 질환                        12090\n",
       "비뇨생식계통 질환                     11468\n",
       "눈, 귀의 질환                       8672\n",
       "건강상태 및 보건서비스 접촉에 영향을 주는 요인     7823\n",
       "산부인과계통 질환                      7092\n",
       "혈액 및 조혈기관의 질환                  6055\n",
       "내분비, 영양 및 대사질환                 4569\n",
       "피부과 질환                         2107\n",
       "출생전후기관련 질환                     1272\n",
       "선천기형, 변형 및 염색체이상                935\n",
       "특수목적 코드                          32\n",
       "Name: 주상병코드, dtype: int64"
      ]
     },
     "metadata": {},
     "execution_count": 10
    }
   ],
   "metadata": {}
  },
  {
   "cell_type": "code",
   "execution_count": 85,
   "source": [
    "df_date = pd.DataFrame(df_ch['요양일수'].value_counts())\r\n",
    "df_date.reset_index(inplace = True)\r\n",
    "df_date.columns = ['요양일수', '빈도수']\r\n",
    "df_date.sort_values(by = '요양일수', inplace = True)\r\n",
    "df_date.reset_index(inplace = True)\r\n",
    "df_date.drop(['index'], axis = 1, inplace = True)\r\n",
    "df_date['요양일수'] = df_date['요양일수'].apply(lambda x: f'{x}' if x < 32 else '32+') "
   ],
   "outputs": [],
   "metadata": {}
  },
  {
   "cell_type": "code",
   "execution_count": 87,
   "source": [
    "print(f'입원환자들의 평균 요양일수 {round(df_ch[\"요양일수\"].mean(), 2)}일')\r\n",
    "plt.figure(figsize = (10, 4))\r\n",
    "plt.title('요양일수 체크')\r\n",
    "plt.bar(df_date['요양일수'], df_date['빈도수'])\r\n",
    "# plt.xticks(x, xlabel)\r\n",
    "plt.xlabel('요양일수')\r\n",
    "plt.ylabel('빈도수', rotation = 0, labelpad = 20)\r\n",
    "plt.show()"
   ],
   "outputs": [
    {
     "output_type": "stream",
     "name": "stdout",
     "text": [
      "입원환자들의 평균 요양일수 10.43일\n"
     ]
    },
    {
     "output_type": "display_data",
     "data": {
      "image/png": "[encoded data removed]",
      "text/plain": [
       "<Figure size 720x288 with 1 Axes>"
      ]
     },
     "metadata": {
      "needs_background": "light"
     }
    }
   ],
   "metadata": {}
  },
  {
   "cell_type": "code",
   "execution_count": null,
   "source": [
    "df_date1 = pd.DataFrame(df_ch['입내원일수'].value_counts())\r\n",
    "df_date1.reset_index(inplace = True)\r\n",
    "df_date1.columns = ['입내원일수', '빈도수']\r\n",
    "df_date1.sort_values(by = '입내원일수', inplace = True)\r\n",
    "df_date1.reset_index(inplace = True)\r\n",
    "df_date1.drop(['index'], axis = 1, inplace = True)\r\n",
    "df_date1['입내원일수'] = df_date1['입내원일수'].apply(lambda x: f'{x}' if x < 32 else '32+') "
   ],
   "outputs": [],
   "metadata": {}
  },
  {
   "cell_type": "code",
   "execution_count": 50,
   "source": [
    "print(f'입원환자들의 평균 입원일수 {round(df_ch[\"입내원일수\"].mean(), 2)}일')\r\n",
    "plt.figure(figsize = (10, 4))\r\n",
    "plt.title('입내원일수 체크')\r\n",
    "plt.bar(df_date1['입내원일수'], df_date1['빈도수'])\r\n",
    "# plt.xticks(x, xlabel)\r\n",
    "plt.xlabel('입내원일수')\r\n",
    "plt.ylabel('빈도수', rotation = 0, labelpad = 20)\r\n",
    "plt.show()"
   ],
   "outputs": [
    {
     "output_type": "stream",
     "name": "stdout",
     "text": [
      "입원환자들의 평균 입원일수 15.74일\n"
     ]
    },
    {
     "output_type": "display_data",
     "data": {
      "image/png": "[encoded data removed]",
      "text/plain": [
       "<Figure size 720x288 with 1 Axes>"
      ]
     },
     "metadata": {
      "needs_background": "light"
     }
    }
   ],
   "metadata": {}
  },
  {
   "cell_type": "code",
   "execution_count": 84,
   "source": [
    "df_date2 = pd.DataFrame(df_train['요양일수'].value_counts())\r\n",
    "df_date2.reset_index(inplace = True)\r\n",
    "df_date2.columns = ['요양일수', '빈도수']\r\n",
    "df_date2.sort_values(by = '요양일수', inplace = True)\r\n",
    "df_date2.reset_index(inplace = True)\r\n",
    "df_date2.drop(['index'], axis = 1, inplace = True)\r\n",
    "df_date2['요양일수'] = df_date2['요양일수'].apply(lambda x: f'{x}' if x < 32 else '32+') "
   ],
   "outputs": [],
   "metadata": {}
  },
  {
   "cell_type": "code",
   "execution_count": 88,
   "source": [
    "print(f'전체환자들의 평균 요양일수 {round(df_train[\"요양일수\"].mean(), 2)}일')\r\n",
    "plt.figure(figsize = (10, 4))\r\n",
    "plt.title('요양일수 체크')\r\n",
    "plt.bar(df_date2['요양일수'], df_date2['빈도수'])\r\n",
    "# plt.xticks(x, xlabel)\r\n",
    "plt.xlabel('요양일수')\r\n",
    "plt.ylabel('빈도수', rotation = 0, labelpad = 20)\r\n",
    "plt.show()"
   ],
   "outputs": [
    {
     "output_type": "stream",
     "name": "stdout",
     "text": [
      "전체환자들의 평균 요양일수 1.2일\n"
     ]
    },
    {
     "output_type": "display_data",
     "data": {
      "image/png": "[encoded data removed]",
      "text/plain": [
       "<Figure size 720x288 with 1 Axes>"
      ]
     },
     "metadata": {
      "needs_background": "light"
     }
    }
   ],
   "metadata": {}
  },
  {
   "cell_type": "code",
   "execution_count": 89,
   "source": [
    "df_date3 = pd.DataFrame(df_train['입내원일수'].value_counts())\r\n",
    "df_date3.reset_index(inplace = True)\r\n",
    "df_date3.columns = ['입내원일수', '빈도수']\r\n",
    "df_date3.sort_values(by = '입내원일수', inplace = True)\r\n",
    "df_date3.reset_index(inplace = True)\r\n",
    "df_date3.drop(['index'], axis = 1, inplace = True)\r\n",
    "df_date3['입내원일수'] = df_date3['입내원일수'].apply(lambda x: f'{x}' if x < 32 else '32+') "
   ],
   "outputs": [],
   "metadata": {}
  },
  {
   "cell_type": "code",
   "execution_count": 90,
   "source": [
    "print(f'전체환자들의 평균 입원일수 {round(df_train[\"입내원일수\"].mean(), 2)}일')\r\n",
    "plt.figure(figsize = (10, 4))\r\n",
    "plt.title('입내원일수 체크')\r\n",
    "plt.bar(df_date3['입내원일수'], df_date3['빈도수'])\r\n",
    "# plt.xticks(x, xlabel)\r\n",
    "plt.xlabel('입내원일수')\r\n",
    "plt.ylabel('빈도수', rotation = 0, labelpad = 20)\r\n",
    "plt.show()"
   ],
   "outputs": [
    {
     "output_type": "stream",
     "name": "stdout",
     "text": [
      "전체환자들의 평균 입원일수 1.88일\n"
     ]
    },
    {
     "output_type": "display_data",
     "data": {
      "image/png": "[encoded data removed]",
      "text/plain": [
       "<Figure size 720x288 with 1 Axes>"
      ]
     },
     "metadata": {
      "needs_background": "light"
     }
    }
   ],
   "metadata": {}
  },
  {
   "cell_type": "code",
   "execution_count": 68,
   "source": [
    "print(round(df_ch['심결요양급여비용총액'].mean()), round(df_train[df_train['서식코드'] == '의과입원']['심결요양급여비용총액'].mean()), sep = ' / ')\r\n",
    "print(round(df_ch['요양일수'].mean(), 2), round(df_train[df_train['서식코드'] == '의과입원']['요양일수'].mean(), 2), sep = ' / ')\r\n",
    "print(round(df_ch['입내원일수'].mean(), 2), round(df_train[df_train['서식코드'] == '의과입원']['입내원일수'].mean(), 2), sep = ' / ')"
   ],
   "outputs": [
    {
     "output_type": "stream",
     "name": "stdout",
     "text": [
      "2161919 / 2156115\n",
      "10.43 / 10.35\n",
      "15.74 / 15.6\n"
     ]
    }
   ],
   "metadata": {}
  },
  {
   "cell_type": "code",
   "execution_count": 96,
   "source": [
    "print(f'전체환자들의 평균 심결요양급여비용총액 {round(df_train[\"심결요양급여비용총액\"].mean(), 2)}원')\r\n",
    "print(f'입원환자들의 평균 심결요양급여비용총액 {round(df_ch[\"심결요양급여비용총액\"].mean(), 2)}원')\r\n",
    "print(f'비입원환자들의 평균 심결요양급여비용총액 {round(df_train[df_train[\"서식코드\"] != \"의과입원\"][\"심결요양급여비용총액\"].mean(), 2)}원')\r\n",
    "\r\n",
    "df_ch['심결요양급여비용총액'].describe()"
   ],
   "outputs": [
    {
     "output_type": "stream",
     "name": "stdout",
     "text": [
      "전체환자들의 평균 심결요양급여비용총액 84163.88원\n",
      "입원환자들의 평균 심결요양급여비용총액 2161918.68원\n",
      "비입원환자들의 평균 심결요양급여비용총액 38535.06원\n"
     ]
    },
    {
     "output_type": "execute_result",
     "data": {
      "text/plain": [
       "count    2.710960e+05\n",
       "mean     2.161919e+06\n",
       "std      3.729614e+06\n",
       "min      2.000000e+01\n",
       "25%      5.163100e+05\n",
       "50%      1.317820e+06\n",
       "75%      2.447182e+06\n",
       "max      1.996893e+08\n",
       "Name: 심결요양급여비용총액, dtype: float64"
      ]
     },
     "metadata": {},
     "execution_count": 96
    }
   ],
   "metadata": {}
  },
  {
   "cell_type": "code",
   "execution_count": 92,
   "source": [
    "plt.figure(figsize = (8, 10))\r\n",
    "plt.boxplot([df_train[df_train['서식코드'] != '의과입원']['심결요양급여비용총액'], df_ch['심결요양급여비용총액']],\r\n",
    "            labels = ['심결요양급여비용총액(비입원환자)', '심결요양급여비용총액(입원환자)'])\r\n",
    "plt.title('입원여부에 따른 비용차이')\r\n",
    "plt.show()"
   ],
   "outputs": [
    {
     "output_type": "display_data",
     "data": {
      "image/png": "[encoded data removed]",
      "text/plain": [
       "<Figure size 576x720 with 1 Axes>"
      ]
     },
     "metadata": {
      "needs_background": "light"
     }
    }
   ],
   "metadata": {}
  },
  {
   "cell_type": "code",
   "execution_count": 81,
   "source": [
    "df_train['심결요양급여비용총액'].describe()"
   ],
   "outputs": [
    {
     "output_type": "execute_result",
     "data": {
      "text/plain": [
       "count    1.317834e+07\n",
       "mean     8.416388e+04\n",
       "std      6.471434e+05\n",
       "min      1.000000e+01\n",
       "25%      1.330000e+04\n",
       "50%      1.735000e+04\n",
       "75%      3.120000e+04\n",
       "max      1.996893e+08\n",
       "Name: 심결요양급여비용총액, dtype: float64"
      ]
     },
     "metadata": {},
     "execution_count": 81
    }
   ],
   "metadata": {}
  }
 ],
 "metadata": {
  "orig_nbformat": 4,
  "language_info": {
   "name": "python",
   "version": "3.8.10",
   "mimetype": "text/x-python",
   "codemirror_mode": {
    "name": "ipython",
    "version": 3
   },
   "pygments_lexer": "ipython3",
   "nbconvert_exporter": "python",
   "file_extension": ".py"
  },
  "kernelspec": {
   "name": "python3",
   "display_name": "Python 3.8.10 64-bit ('base': conda)"
  },
  "interpreter": {
   "hash": "fe3bab233825460445dbfeea6dcd52ef5815a3fa13c858fea07ac830aa383284"
  }
 },
 "nbformat": 4,
 "nbformat_minor": 2
}